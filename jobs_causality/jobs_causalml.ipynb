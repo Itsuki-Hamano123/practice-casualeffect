{
  "nbformat": 4,
  "nbformat_minor": 0,
  "metadata": {
    "colab": {
      "name": "jobs_causalml.ipynb",
      "provenance": [],
      "collapsed_sections": [],
      "toc_visible": true,
      "authorship_tag": "ABX9TyPdkFaaEUiwgjgYFkGvgAo9",
      "include_colab_link": true
    },
    "kernelspec": {
      "name": "python3",
      "display_name": "Python 3"
    }
  },
  "cells": [
    {
      "cell_type": "markdown",
      "metadata": {
        "id": "view-in-github",
        "colab_type": "text"
      },
      "source": [
        "<a href=\"https://colab.research.google.com/github/Itsuki-Hamano123/practice-casualeffect/blob/master/jobs_causality/jobs_causalml.ipynb\" target=\"_parent\"><img src=\"https://colab.research.google.com/assets/colab-badge.svg\" alt=\"Open In Colab\"/></a>"
      ]
    },
    {
      "cell_type": "code",
      "metadata": {
        "id": "ujBdp7uChDMD",
        "colab_type": "code",
        "colab": {
          "base_uri": "https://localhost:8080/",
          "height": 1000
        },
        "outputId": "574fc3c2-142a-45a9-b65e-03f125532983"
      },
      "source": [
        "%pip install causalml"
      ],
      "execution_count": 94,
      "outputs": [
        {
          "output_type": "stream",
          "text": [
            "Requirement already satisfied: causalml in /usr/local/lib/python3.6/dist-packages (0.8.0)\n",
            "Requirement already satisfied: pygam in /usr/local/lib/python3.6/dist-packages (from causalml) (0.8.0)\n",
            "Requirement already satisfied: xgboost in /usr/local/lib/python3.6/dist-packages (from causalml) (0.90)\n",
            "Requirement already satisfied: seaborn in /usr/local/lib/python3.6/dist-packages (from causalml) (0.10.1)\n",
            "Requirement already satisfied: pandas>=0.24.1 in /usr/local/lib/python3.6/dist-packages (from causalml) (1.0.5)\n",
            "Requirement already satisfied: scikit-learn>=0.22.0 in /usr/local/lib/python3.6/dist-packages (from causalml) (0.22.2.post1)\n",
            "Requirement already satisfied: scipy==1.4.1 in /usr/local/lib/python3.6/dist-packages (from causalml) (1.4.1)\n",
            "Requirement already satisfied: packaging in /usr/local/lib/python3.6/dist-packages (from causalml) (20.4)\n",
            "Requirement already satisfied: dill in /usr/local/lib/python3.6/dist-packages (from causalml) (0.3.2)\n",
            "Requirement already satisfied: lightgbm in /usr/local/lib/python3.6/dist-packages (from causalml) (2.2.3)\n",
            "Requirement already satisfied: tensorflow>=1.15.2 in /usr/local/lib/python3.6/dist-packages (from causalml) (2.2.0)\n",
            "Requirement already satisfied: keras in /usr/local/lib/python3.6/dist-packages (from causalml) (2.3.1)\n",
            "Requirement already satisfied: matplotlib in /usr/local/lib/python3.6/dist-packages (from causalml) (3.2.2)\n",
            "Requirement already satisfied: pip>=10.0 in /usr/local/lib/python3.6/dist-packages (from causalml) (19.3.1)\n",
            "Requirement already satisfied: numpy>=0.16.0 in /usr/local/lib/python3.6/dist-packages (from causalml) (1.18.5)\n",
            "Requirement already satisfied: Cython>=0.28.0 in /usr/local/lib/python3.6/dist-packages (from causalml) (0.29.21)\n",
            "Requirement already satisfied: statsmodels>=0.9.0 in /usr/local/lib/python3.6/dist-packages (from causalml) (0.10.2)\n",
            "Requirement already satisfied: setuptools>=41.0.0 in /usr/local/lib/python3.6/dist-packages (from causalml) (49.1.0)\n",
            "Requirement already satisfied: pydotplus in /usr/local/lib/python3.6/dist-packages (from causalml) (2.0.2)\n",
            "Requirement already satisfied: tqdm in /usr/local/lib/python3.6/dist-packages (from causalml) (4.41.1)\n",
            "Requirement already satisfied: shap in /usr/local/lib/python3.6/dist-packages (from causalml) (0.35.0)\n",
            "Requirement already satisfied: progressbar2 in /usr/local/lib/python3.6/dist-packages (from pygam->causalml) (3.38.0)\n",
            "Requirement already satisfied: future in /usr/local/lib/python3.6/dist-packages (from pygam->causalml) (0.16.0)\n",
            "Requirement already satisfied: pytz>=2017.2 in /usr/local/lib/python3.6/dist-packages (from pandas>=0.24.1->causalml) (2018.9)\n",
            "Requirement already satisfied: python-dateutil>=2.6.1 in /usr/local/lib/python3.6/dist-packages (from pandas>=0.24.1->causalml) (2.8.1)\n",
            "Requirement already satisfied: joblib>=0.11 in /usr/local/lib/python3.6/dist-packages (from scikit-learn>=0.22.0->causalml) (0.16.0)\n",
            "Requirement already satisfied: pyparsing>=2.0.2 in /usr/local/lib/python3.6/dist-packages (from packaging->causalml) (2.4.7)\n",
            "Requirement already satisfied: six in /usr/local/lib/python3.6/dist-packages (from packaging->causalml) (1.15.0)\n",
            "Requirement already satisfied: google-pasta>=0.1.8 in /usr/local/lib/python3.6/dist-packages (from tensorflow>=1.15.2->causalml) (0.2.0)\n",
            "Requirement already satisfied: h5py<2.11.0,>=2.10.0 in /usr/local/lib/python3.6/dist-packages (from tensorflow>=1.15.2->causalml) (2.10.0)\n",
            "Requirement already satisfied: gast==0.3.3 in /usr/local/lib/python3.6/dist-packages (from tensorflow>=1.15.2->causalml) (0.3.3)\n",
            "Requirement already satisfied: termcolor>=1.1.0 in /usr/local/lib/python3.6/dist-packages (from tensorflow>=1.15.2->causalml) (1.1.0)\n",
            "Requirement already satisfied: tensorflow-estimator<2.3.0,>=2.2.0 in /usr/local/lib/python3.6/dist-packages (from tensorflow>=1.15.2->causalml) (2.2.0)\n",
            "Requirement already satisfied: wheel>=0.26; python_version >= \"3\" in /usr/local/lib/python3.6/dist-packages (from tensorflow>=1.15.2->causalml) (0.34.2)\n",
            "Requirement already satisfied: keras-preprocessing>=1.1.0 in /usr/local/lib/python3.6/dist-packages (from tensorflow>=1.15.2->causalml) (1.1.2)\n",
            "Requirement already satisfied: tensorboard<2.3.0,>=2.2.0 in /usr/local/lib/python3.6/dist-packages (from tensorflow>=1.15.2->causalml) (2.2.2)\n",
            "Requirement already satisfied: protobuf>=3.8.0 in /usr/local/lib/python3.6/dist-packages (from tensorflow>=1.15.2->causalml) (3.12.2)\n",
            "Requirement already satisfied: opt-einsum>=2.3.2 in /usr/local/lib/python3.6/dist-packages (from tensorflow>=1.15.2->causalml) (3.3.0)\n",
            "Requirement already satisfied: grpcio>=1.8.6 in /usr/local/lib/python3.6/dist-packages (from tensorflow>=1.15.2->causalml) (1.30.0)\n",
            "Requirement already satisfied: absl-py>=0.7.0 in /usr/local/lib/python3.6/dist-packages (from tensorflow>=1.15.2->causalml) (0.9.0)\n",
            "Requirement already satisfied: astunparse==1.6.3 in /usr/local/lib/python3.6/dist-packages (from tensorflow>=1.15.2->causalml) (1.6.3)\n",
            "Requirement already satisfied: wrapt>=1.11.1 in /usr/local/lib/python3.6/dist-packages (from tensorflow>=1.15.2->causalml) (1.12.1)\n",
            "Requirement already satisfied: pyyaml in /usr/local/lib/python3.6/dist-packages (from keras->causalml) (3.13)\n",
            "Requirement already satisfied: keras-applications>=1.0.6 in /usr/local/lib/python3.6/dist-packages (from keras->causalml) (1.0.8)\n",
            "Requirement already satisfied: kiwisolver>=1.0.1 in /usr/local/lib/python3.6/dist-packages (from matplotlib->causalml) (1.2.0)\n",
            "Requirement already satisfied: cycler>=0.10 in /usr/local/lib/python3.6/dist-packages (from matplotlib->causalml) (0.10.0)\n",
            "Requirement already satisfied: patsy>=0.4.0 in /usr/local/lib/python3.6/dist-packages (from statsmodels>=0.9.0->causalml) (0.5.1)\n",
            "Requirement already satisfied: python-utils>=2.3.0 in /usr/local/lib/python3.6/dist-packages (from progressbar2->pygam->causalml) (2.4.0)\n",
            "Requirement already satisfied: google-auth-oauthlib<0.5,>=0.4.1 in /usr/local/lib/python3.6/dist-packages (from tensorboard<2.3.0,>=2.2.0->tensorflow>=1.15.2->causalml) (0.4.1)\n",
            "Requirement already satisfied: requests<3,>=2.21.0 in /usr/local/lib/python3.6/dist-packages (from tensorboard<2.3.0,>=2.2.0->tensorflow>=1.15.2->causalml) (2.23.0)\n",
            "Requirement already satisfied: markdown>=2.6.8 in /usr/local/lib/python3.6/dist-packages (from tensorboard<2.3.0,>=2.2.0->tensorflow>=1.15.2->causalml) (3.2.2)\n",
            "Requirement already satisfied: tensorboard-plugin-wit>=1.6.0 in /usr/local/lib/python3.6/dist-packages (from tensorboard<2.3.0,>=2.2.0->tensorflow>=1.15.2->causalml) (1.7.0)\n",
            "Requirement already satisfied: werkzeug>=0.11.15 in /usr/local/lib/python3.6/dist-packages (from tensorboard<2.3.0,>=2.2.0->tensorflow>=1.15.2->causalml) (1.0.1)\n",
            "Requirement already satisfied: google-auth<2,>=1.6.3 in /usr/local/lib/python3.6/dist-packages (from tensorboard<2.3.0,>=2.2.0->tensorflow>=1.15.2->causalml) (1.17.2)\n",
            "Requirement already satisfied: requests-oauthlib>=0.7.0 in /usr/local/lib/python3.6/dist-packages (from google-auth-oauthlib<0.5,>=0.4.1->tensorboard<2.3.0,>=2.2.0->tensorflow>=1.15.2->causalml) (1.3.0)\n",
            "Requirement already satisfied: chardet<4,>=3.0.2 in /usr/local/lib/python3.6/dist-packages (from requests<3,>=2.21.0->tensorboard<2.3.0,>=2.2.0->tensorflow>=1.15.2->causalml) (3.0.4)\n",
            "Requirement already satisfied: idna<3,>=2.5 in /usr/local/lib/python3.6/dist-packages (from requests<3,>=2.21.0->tensorboard<2.3.0,>=2.2.0->tensorflow>=1.15.2->causalml) (2.10)\n",
            "Requirement already satisfied: certifi>=2017.4.17 in /usr/local/lib/python3.6/dist-packages (from requests<3,>=2.21.0->tensorboard<2.3.0,>=2.2.0->tensorflow>=1.15.2->causalml) (2020.6.20)\n",
            "Requirement already satisfied: urllib3!=1.25.0,!=1.25.1,<1.26,>=1.21.1 in /usr/local/lib/python3.6/dist-packages (from requests<3,>=2.21.0->tensorboard<2.3.0,>=2.2.0->tensorflow>=1.15.2->causalml) (1.24.3)\n",
            "Requirement already satisfied: importlib-metadata; python_version < \"3.8\" in /usr/local/lib/python3.6/dist-packages (from markdown>=2.6.8->tensorboard<2.3.0,>=2.2.0->tensorflow>=1.15.2->causalml) (1.7.0)\n",
            "Requirement already satisfied: rsa<5,>=3.1.4; python_version >= \"3\" in /usr/local/lib/python3.6/dist-packages (from google-auth<2,>=1.6.3->tensorboard<2.3.0,>=2.2.0->tensorflow>=1.15.2->causalml) (4.6)\n",
            "Requirement already satisfied: pyasn1-modules>=0.2.1 in /usr/local/lib/python3.6/dist-packages (from google-auth<2,>=1.6.3->tensorboard<2.3.0,>=2.2.0->tensorflow>=1.15.2->causalml) (0.2.8)\n",
            "Requirement already satisfied: cachetools<5.0,>=2.0.0 in /usr/local/lib/python3.6/dist-packages (from google-auth<2,>=1.6.3->tensorboard<2.3.0,>=2.2.0->tensorflow>=1.15.2->causalml) (4.1.1)\n",
            "Requirement already satisfied: oauthlib>=3.0.0 in /usr/local/lib/python3.6/dist-packages (from requests-oauthlib>=0.7.0->google-auth-oauthlib<0.5,>=0.4.1->tensorboard<2.3.0,>=2.2.0->tensorflow>=1.15.2->causalml) (3.1.0)\n",
            "Requirement already satisfied: zipp>=0.5 in /usr/local/lib/python3.6/dist-packages (from importlib-metadata; python_version < \"3.8\"->markdown>=2.6.8->tensorboard<2.3.0,>=2.2.0->tensorflow>=1.15.2->causalml) (3.1.0)\n",
            "Requirement already satisfied: pyasn1>=0.1.3 in /usr/local/lib/python3.6/dist-packages (from rsa<5,>=3.1.4; python_version >= \"3\"->google-auth<2,>=1.6.3->tensorboard<2.3.0,>=2.2.0->tensorflow>=1.15.2->causalml) (0.4.8)\n"
          ],
          "name": "stdout"
        }
      ]
    },
    {
      "cell_type": "code",
      "metadata": {
        "id": "y_f2q5jHhOt2",
        "colab_type": "code",
        "colab": {
          "base_uri": "https://localhost:8080/",
          "height": 53
        },
        "outputId": "c67798f5-7d3b-465e-d61b-ff1954491ad6"
      },
      "source": [
        "from google.colab import drive\n",
        "drive.mount('/gdrive')\n",
        "%cd /gdrive"
      ],
      "execution_count": 95,
      "outputs": [
        {
          "output_type": "stream",
          "text": [
            "Drive already mounted at /gdrive; to attempt to forcibly remount, call drive.mount(\"/gdrive\", force_remount=True).\n",
            "/gdrive\n"
          ],
          "name": "stdout"
        }
      ]
    },
    {
      "cell_type": "code",
      "metadata": {
        "id": "KmwguKuShibC",
        "colab_type": "code",
        "colab": {
          "base_uri": "https://localhost:8080/",
          "height": 71
        },
        "outputId": "0dbc9f87-d402-4e5c-e3c3-13ab6e49599e"
      },
      "source": [
        "%cd /gdrive/My Drive/機械学習練習/統計的因果推論/因果推論実践用/jobs_causality\n",
        "%ls"
      ],
      "execution_count": 96,
      "outputs": [
        {
          "output_type": "stream",
          "text": [
            "/gdrive/My Drive/機械学習練習/統計的因果推論/因果推論実践用/jobs_causality\n",
            "\u001b[0m\u001b[01;34mdataset\u001b[0m/             jobs_dowhy.ipynb\n",
            "jobs_causalml.ipynb  jobs_rct_causalml_xlearner.ipynb\n"
          ],
          "name": "stdout"
        }
      ]
    },
    {
      "cell_type": "markdown",
      "metadata": {
        "id": "xgaH0ChhhuPo",
        "colab_type": "text"
      },
      "source": [
        "# 職業訓練データセットでCausalmlの練習"
      ]
    },
    {
      "cell_type": "code",
      "metadata": {
        "id": "fTqNaNDFhNhV",
        "colab_type": "code",
        "colab": {}
      },
      "source": [
        "import os\n",
        "\n",
        "import matplotlib.pyplot as plt\n",
        "import numpy as np\n",
        "import pandas as pd\n",
        "\n",
        "from causalml.inference.meta import BaseXRegressor, XGBTRegressor, LRSRegressor\n",
        "from causalml.metrics import get_tmlegain, plot_tmlegain, plot_tmleqini, Sensitivity\n",
        "from sklearn.model_selection import train_test_split\n",
        "from xgboost import XGBRegressor, XGBClassifier"
      ],
      "execution_count": 97,
      "outputs": []
    },
    {
      "cell_type": "markdown",
      "metadata": {
        "id": "xhdfHJivh8_S",
        "colab_type": "text"
      },
      "source": [
        "## 職業訓練データセット読み込み\n",
        "**職業訓練を受けた人は、収入がどのくらい増加/減少するのか因果分析**<br>\n",
        "Lalondeが分析した職業訓練データセットの詳細について：[http://users.nber.org/~rdehejia/nswdata.html](http://users.nber.org/~rdehejia/nswdata.html)"
      ]
    },
    {
      "cell_type": "markdown",
      "metadata": {
        "id": "8UspiAXKg7Cr",
        "colab_type": "text"
      },
      "source": [
        "Dataset description\n",
        "* treat: 1 if the subject participated in the job  training program, 0 otherwise\n",
        "* age: the subject's age\n",
        "* educ: years of education\n",
        "* race: categorical variable with three possible values: Black, Hispanic, or White\n",
        "* married: 1 if the subject was married at the time of the training program, 0 otherwise\n",
        "* nodegree: 1 if the subject has earned no school degree, 0 otherwise\n",
        "* re74: real earnings in 1974 (pre-treatment)\n",
        "* re75: real earnings in 1975 (pre-treatment)\n",
        "* re78: real earnings in 1978 (outcome)"
      ]
    },
    {
      "cell_type": "code",
      "metadata": {
        "id": "FksomhiZh_P1",
        "colab_type": "code",
        "colab": {
          "base_uri": "https://localhost:8080/",
          "height": 256
        },
        "outputId": "3d02159b-0ed0-4a23-a5bd-40b57be936cf"
      },
      "source": [
        "csv_path = 'dataset/job_lalonde.csv'\n",
        "df= pd.read_csv(csv_path)\n",
        "\n",
        "OUTCOME_COLUMN = 're78'\n",
        "TREATMENT_COLUMN = 'treat'\n",
        "UNNECESSARY_COLUMNS = ['ps', 'ips_weight', 'tips_weight',\n",
        "       'cips_weight', 'ips_normalized_weight', 'tips_normalized_weight',\n",
        "       'cips_normalized_weight', 'ips_stabilized_weight',\n",
        "       'tips_stabilized_weight', 'cips_stabilized_weight', 'd_y', 'dbar_y']\n",
        "FEATURE_COLUMNS = list(df.drop(columns=[OUTCOME_COLUMN, TREATMENT_COLUMN]+UNNECESSARY_COLUMNS).columns)\n",
        "\n",
        "df[TREATMENT_COLUMN] = df[TREATMENT_COLUMN] * 1\n",
        "\n",
        "print('outcome:{col}'.format(col=OUTCOME_COLUMN))\n",
        "print('treatment:{col}'.format(col=TREATMENT_COLUMN))\n",
        "print('features:{cols}'.format(cols=FEATURE_COLUMNS))\n",
        "\n",
        "df.drop(columns=UNNECESSARY_COLUMNS).head()"
      ],
      "execution_count": 98,
      "outputs": [
        {
          "output_type": "stream",
          "text": [
            "outcome:re78\n",
            "treatment:treat\n",
            "features:['age', 'educ', 'black', 'hisp', 'married', 'nodegr', 're74', 're75', 'u74', 'u75']\n"
          ],
          "name": "stdout"
        },
        {
          "output_type": "execute_result",
          "data": {
            "text/html": [
              "<div>\n",
              "<style scoped>\n",
              "    .dataframe tbody tr th:only-of-type {\n",
              "        vertical-align: middle;\n",
              "    }\n",
              "\n",
              "    .dataframe tbody tr th {\n",
              "        vertical-align: top;\n",
              "    }\n",
              "\n",
              "    .dataframe thead th {\n",
              "        text-align: right;\n",
              "    }\n",
              "</style>\n",
              "<table border=\"1\" class=\"dataframe\">\n",
              "  <thead>\n",
              "    <tr style=\"text-align: right;\">\n",
              "      <th></th>\n",
              "      <th>age</th>\n",
              "      <th>educ</th>\n",
              "      <th>black</th>\n",
              "      <th>hisp</th>\n",
              "      <th>married</th>\n",
              "      <th>nodegr</th>\n",
              "      <th>re74</th>\n",
              "      <th>re75</th>\n",
              "      <th>re78</th>\n",
              "      <th>u74</th>\n",
              "      <th>u75</th>\n",
              "      <th>treat</th>\n",
              "    </tr>\n",
              "  </thead>\n",
              "  <tbody>\n",
              "    <tr>\n",
              "      <th>0</th>\n",
              "      <td>37</td>\n",
              "      <td>11</td>\n",
              "      <td>1</td>\n",
              "      <td>0</td>\n",
              "      <td>1</td>\n",
              "      <td>1</td>\n",
              "      <td>0.0</td>\n",
              "      <td>0.0</td>\n",
              "      <td>9930.05</td>\n",
              "      <td>1</td>\n",
              "      <td>1</td>\n",
              "      <td>1</td>\n",
              "    </tr>\n",
              "    <tr>\n",
              "      <th>1</th>\n",
              "      <td>22</td>\n",
              "      <td>9</td>\n",
              "      <td>0</td>\n",
              "      <td>1</td>\n",
              "      <td>0</td>\n",
              "      <td>1</td>\n",
              "      <td>0.0</td>\n",
              "      <td>0.0</td>\n",
              "      <td>3595.89</td>\n",
              "      <td>1</td>\n",
              "      <td>1</td>\n",
              "      <td>1</td>\n",
              "    </tr>\n",
              "    <tr>\n",
              "      <th>2</th>\n",
              "      <td>30</td>\n",
              "      <td>12</td>\n",
              "      <td>1</td>\n",
              "      <td>0</td>\n",
              "      <td>0</td>\n",
              "      <td>0</td>\n",
              "      <td>0.0</td>\n",
              "      <td>0.0</td>\n",
              "      <td>24909.50</td>\n",
              "      <td>1</td>\n",
              "      <td>1</td>\n",
              "      <td>1</td>\n",
              "    </tr>\n",
              "    <tr>\n",
              "      <th>3</th>\n",
              "      <td>27</td>\n",
              "      <td>11</td>\n",
              "      <td>1</td>\n",
              "      <td>0</td>\n",
              "      <td>0</td>\n",
              "      <td>1</td>\n",
              "      <td>0.0</td>\n",
              "      <td>0.0</td>\n",
              "      <td>7506.15</td>\n",
              "      <td>1</td>\n",
              "      <td>1</td>\n",
              "      <td>1</td>\n",
              "    </tr>\n",
              "    <tr>\n",
              "      <th>4</th>\n",
              "      <td>33</td>\n",
              "      <td>8</td>\n",
              "      <td>1</td>\n",
              "      <td>0</td>\n",
              "      <td>0</td>\n",
              "      <td>1</td>\n",
              "      <td>0.0</td>\n",
              "      <td>0.0</td>\n",
              "      <td>289.79</td>\n",
              "      <td>1</td>\n",
              "      <td>1</td>\n",
              "      <td>1</td>\n",
              "    </tr>\n",
              "  </tbody>\n",
              "</table>\n",
              "</div>"
            ],
            "text/plain": [
              "   age  educ  black  hisp  married  ...  re75      re78  u74  u75  treat\n",
              "0   37    11      1     0        1  ...   0.0   9930.05    1    1      1\n",
              "1   22     9      0     1        0  ...   0.0   3595.89    1    1      1\n",
              "2   30    12      1     0        0  ...   0.0  24909.50    1    1      1\n",
              "3   27    11      1     0        0  ...   0.0   7506.15    1    1      1\n",
              "4   33     8      1     0        0  ...   0.0    289.79    1    1      1\n",
              "\n",
              "[5 rows x 12 columns]"
            ]
          },
          "metadata": {
            "tags": []
          },
          "execution_count": 98
        }
      ]
    },
    {
      "cell_type": "code",
      "metadata": {
        "id": "3NQ_jzolkwIR",
        "colab_type": "code",
        "colab": {
          "base_uri": "https://localhost:8080/",
          "height": 314
        },
        "outputId": "157db2d6-1a69-4799-a4e4-5c21e3415992"
      },
      "source": [
        "df.describe()"
      ],
      "execution_count": 99,
      "outputs": [
        {
          "output_type": "execute_result",
          "data": {
            "text/html": [
              "<div>\n",
              "<style scoped>\n",
              "    .dataframe tbody tr th:only-of-type {\n",
              "        vertical-align: middle;\n",
              "    }\n",
              "\n",
              "    .dataframe tbody tr th {\n",
              "        vertical-align: top;\n",
              "    }\n",
              "\n",
              "    .dataframe thead th {\n",
              "        text-align: right;\n",
              "    }\n",
              "</style>\n",
              "<table border=\"1\" class=\"dataframe\">\n",
              "  <thead>\n",
              "    <tr style=\"text-align: right;\">\n",
              "      <th></th>\n",
              "      <th>age</th>\n",
              "      <th>educ</th>\n",
              "      <th>black</th>\n",
              "      <th>hisp</th>\n",
              "      <th>married</th>\n",
              "      <th>nodegr</th>\n",
              "      <th>re74</th>\n",
              "      <th>re75</th>\n",
              "      <th>re78</th>\n",
              "      <th>u74</th>\n",
              "      <th>u75</th>\n",
              "      <th>treat</th>\n",
              "      <th>ps</th>\n",
              "      <th>ips_weight</th>\n",
              "      <th>tips_weight</th>\n",
              "      <th>cips_weight</th>\n",
              "      <th>ips_normalized_weight</th>\n",
              "      <th>tips_normalized_weight</th>\n",
              "      <th>cips_normalized_weight</th>\n",
              "      <th>ips_stabilized_weight</th>\n",
              "      <th>tips_stabilized_weight</th>\n",
              "      <th>cips_stabilized_weight</th>\n",
              "      <th>d_y</th>\n",
              "      <th>dbar_y</th>\n",
              "    </tr>\n",
              "  </thead>\n",
              "  <tbody>\n",
              "    <tr>\n",
              "      <th>count</th>\n",
              "      <td>445.000000</td>\n",
              "      <td>445.000000</td>\n",
              "      <td>445.000000</td>\n",
              "      <td>445.00000</td>\n",
              "      <td>445.000000</td>\n",
              "      <td>445.000000</td>\n",
              "      <td>445.000000</td>\n",
              "      <td>445.000000</td>\n",
              "      <td>445.000000</td>\n",
              "      <td>445.000000</td>\n",
              "      <td>445.000000</td>\n",
              "      <td>445.000000</td>\n",
              "      <td>445.000000</td>\n",
              "      <td>445.000000</td>\n",
              "      <td>445.000000</td>\n",
              "      <td>445.000000</td>\n",
              "      <td>445.000000</td>\n",
              "      <td>445.000000</td>\n",
              "      <td>445.000000</td>\n",
              "      <td>445.000000</td>\n",
              "      <td>445.000000</td>\n",
              "      <td>445.000000</td>\n",
              "      <td>445.000000</td>\n",
              "      <td>445.000000</td>\n",
              "    </tr>\n",
              "    <tr>\n",
              "      <th>mean</th>\n",
              "      <td>25.370787</td>\n",
              "      <td>10.195506</td>\n",
              "      <td>0.833708</td>\n",
              "      <td>0.08764</td>\n",
              "      <td>0.168539</td>\n",
              "      <td>0.782022</td>\n",
              "      <td>2102.265533</td>\n",
              "      <td>1377.138638</td>\n",
              "      <td>5300.765138</td>\n",
              "      <td>0.732584</td>\n",
              "      <td>0.649438</td>\n",
              "      <td>0.415730</td>\n",
              "      <td>0.419655</td>\n",
              "      <td>0.004490</td>\n",
              "      <td>0.004537</td>\n",
              "      <td>0.004457</td>\n",
              "      <td>0.004494</td>\n",
              "      <td>0.004494</td>\n",
              "      <td>0.004494</td>\n",
              "      <td>0.002248</td>\n",
              "      <td>0.002272</td>\n",
              "      <td>0.002231</td>\n",
              "      <td>14.099805</td>\n",
              "      <td>10.430304</td>\n",
              "    </tr>\n",
              "    <tr>\n",
              "      <th>std</th>\n",
              "      <td>7.100282</td>\n",
              "      <td>1.792119</td>\n",
              "      <td>0.372762</td>\n",
              "      <td>0.28309</td>\n",
              "      <td>0.374766</td>\n",
              "      <td>0.413337</td>\n",
              "      <td>5363.583863</td>\n",
              "      <td>3150.961433</td>\n",
              "      <td>6631.493362</td>\n",
              "      <td>0.443109</td>\n",
              "      <td>0.477683</td>\n",
              "      <td>0.493402</td>\n",
              "      <td>0.061065</td>\n",
              "      <td>0.000928</td>\n",
              "      <td>0.001078</td>\n",
              "      <td>0.001087</td>\n",
              "      <td>0.000962</td>\n",
              "      <td>0.001092</td>\n",
              "      <td>0.001127</td>\n",
              "      <td>0.000275</td>\n",
              "      <td>0.000462</td>\n",
              "      <td>0.000337</td>\n",
              "      <td>32.577060</td>\n",
              "      <td>19.194586</td>\n",
              "    </tr>\n",
              "    <tr>\n",
              "      <th>min</th>\n",
              "      <td>17.000000</td>\n",
              "      <td>3.000000</td>\n",
              "      <td>0.000000</td>\n",
              "      <td>0.00000</td>\n",
              "      <td>0.000000</td>\n",
              "      <td>0.000000</td>\n",
              "      <td>0.000000</td>\n",
              "      <td>0.000000</td>\n",
              "      <td>0.000000</td>\n",
              "      <td>0.000000</td>\n",
              "      <td>0.000000</td>\n",
              "      <td>0.000000</td>\n",
              "      <td>0.175710</td>\n",
              "      <td>0.002726</td>\n",
              "      <td>0.001152</td>\n",
              "      <td>0.002835</td>\n",
              "      <td>0.002705</td>\n",
              "      <td>0.001131</td>\n",
              "      <td>0.002884</td>\n",
              "      <td>0.001593</td>\n",
              "      <td>0.000673</td>\n",
              "      <td>0.001179</td>\n",
              "      <td>0.000000</td>\n",
              "      <td>0.000000</td>\n",
              "    </tr>\n",
              "    <tr>\n",
              "      <th>25%</th>\n",
              "      <td>20.000000</td>\n",
              "      <td>9.000000</td>\n",
              "      <td>1.000000</td>\n",
              "      <td>0.00000</td>\n",
              "      <td>0.000000</td>\n",
              "      <td>1.000000</td>\n",
              "      <td>0.000000</td>\n",
              "      <td>0.000000</td>\n",
              "      <td>0.000000</td>\n",
              "      <td>0.000000</td>\n",
              "      <td>0.000000</td>\n",
              "      <td>0.000000</td>\n",
              "      <td>0.373260</td>\n",
              "      <td>0.003644</td>\n",
              "      <td>0.003359</td>\n",
              "      <td>0.003846</td>\n",
              "      <td>0.003615</td>\n",
              "      <td>0.003297</td>\n",
              "      <td>0.003846</td>\n",
              "      <td>0.002066</td>\n",
              "      <td>0.001963</td>\n",
              "      <td>0.002247</td>\n",
              "      <td>0.000000</td>\n",
              "      <td>0.000000</td>\n",
              "    </tr>\n",
              "    <tr>\n",
              "      <th>50%</th>\n",
              "      <td>24.000000</td>\n",
              "      <td>10.000000</td>\n",
              "      <td>1.000000</td>\n",
              "      <td>0.00000</td>\n",
              "      <td>0.000000</td>\n",
              "      <td>1.000000</td>\n",
              "      <td>0.000000</td>\n",
              "      <td>0.000000</td>\n",
              "      <td>3701.810000</td>\n",
              "      <td>1.000000</td>\n",
              "      <td>1.000000</td>\n",
              "      <td>0.000000</td>\n",
              "      <td>0.399351</td>\n",
              "      <td>0.004289</td>\n",
              "      <td>0.005252</td>\n",
              "      <td>0.003846</td>\n",
              "      <td>0.004267</td>\n",
              "      <td>0.005155</td>\n",
              "      <td>0.003846</td>\n",
              "      <td>0.002195</td>\n",
              "      <td>0.002247</td>\n",
              "      <td>0.002247</td>\n",
              "      <td>0.000000</td>\n",
              "      <td>0.000000</td>\n",
              "    </tr>\n",
              "    <tr>\n",
              "      <th>75%</th>\n",
              "      <td>28.000000</td>\n",
              "      <td>11.000000</td>\n",
              "      <td>1.000000</td>\n",
              "      <td>0.00000</td>\n",
              "      <td>0.000000</td>\n",
              "      <td>1.000000</td>\n",
              "      <td>824.389000</td>\n",
              "      <td>1220.840000</td>\n",
              "      <td>8124.720000</td>\n",
              "      <td>1.000000</td>\n",
              "      <td>1.000000</td>\n",
              "      <td>1.000000</td>\n",
              "      <td>0.469206</td>\n",
              "      <td>0.005206</td>\n",
              "      <td>0.005405</td>\n",
              "      <td>0.004994</td>\n",
              "      <td>0.005233</td>\n",
              "      <td>0.005405</td>\n",
              "      <td>0.005080</td>\n",
              "      <td>0.002461</td>\n",
              "      <td>0.002247</td>\n",
              "      <td>0.002247</td>\n",
              "      <td>12.563586</td>\n",
              "      <td>15.667131</td>\n",
              "    </tr>\n",
              "    <tr>\n",
              "      <th>max</th>\n",
              "      <td>55.000000</td>\n",
              "      <td>16.000000</td>\n",
              "      <td>1.000000</td>\n",
              "      <td>1.00000</td>\n",
              "      <td>1.000000</td>\n",
              "      <td>1.000000</td>\n",
              "      <td>39570.700000</td>\n",
              "      <td>25142.200000</td>\n",
              "      <td>60307.900000</td>\n",
              "      <td>1.000000</td>\n",
              "      <td>1.000000</td>\n",
              "      <td>1.000000</td>\n",
              "      <td>0.578452</td>\n",
              "      <td>0.007998</td>\n",
              "      <td>0.007417</td>\n",
              "      <td>0.009843</td>\n",
              "      <td>0.008078</td>\n",
              "      <td>0.007280</td>\n",
              "      <td>0.010012</td>\n",
              "      <td>0.003325</td>\n",
              "      <td>0.004334</td>\n",
              "      <td>0.004092</td>\n",
              "      <td>293.116011</td>\n",
              "      <td>169.035818</td>\n",
              "    </tr>\n",
              "  </tbody>\n",
              "</table>\n",
              "</div>"
            ],
            "text/plain": [
              "              age        educ  ...         d_y      dbar_y\n",
              "count  445.000000  445.000000  ...  445.000000  445.000000\n",
              "mean    25.370787   10.195506  ...   14.099805   10.430304\n",
              "std      7.100282    1.792119  ...   32.577060   19.194586\n",
              "min     17.000000    3.000000  ...    0.000000    0.000000\n",
              "25%     20.000000    9.000000  ...    0.000000    0.000000\n",
              "50%     24.000000   10.000000  ...    0.000000    0.000000\n",
              "75%     28.000000   11.000000  ...   12.563586   15.667131\n",
              "max     55.000000   16.000000  ...  293.116011  169.035818\n",
              "\n",
              "[8 rows x 24 columns]"
            ]
          },
          "metadata": {
            "tags": []
          },
          "execution_count": 99
        }
      ]
    },
    {
      "cell_type": "markdown",
      "metadata": {
        "id": "zIzmRJM-8Nih",
        "colab_type": "text"
      },
      "source": [
        "### 単純な平均値の比較について"
      ]
    },
    {
      "cell_type": "markdown",
      "metadata": {
        "id": "jAwlU2gU_sPd",
        "colab_type": "text"
      },
      "source": [
        "今回求めた推定量を$\\hat{\\tau}_{naive}$と置くと\n",
        "$$\\hat{\\tau}_{naive} = E[Y^{(1)}|t=1]-E[Y^{(0)}|t=0]$$\n",
        "$$=E[Y^{(1)}-Y^{(0)}]+E[Y^{(0)}|t=1]-E[Y^{(0)}|t=0]$$\n",
        "セレクションバイアスが生じているため、**単純な平均値の差の比較**では望ましくない因果効果の算出方法であることが分かる。<br>"
      ]
    },
    {
      "cell_type": "code",
      "metadata": {
        "id": "ZntFtYD18Zki",
        "colab_type": "code",
        "colab": {
          "base_uri": "https://localhost:8080/",
          "height": 71
        },
        "outputId": "803d190c-0f39-42c8-dfad-4712406b0570"
      },
      "source": [
        "control_group = df.query(TREATMENT_COLUMN + '==False')[OUTCOME_COLUMN].mean()\n",
        "treatment_group = df.query(TREATMENT_COLUMN + '==True')[OUTCOME_COLUMN].mean()\n",
        "print('介入群のアウトカムの平均値:{}'.format(control_group))\n",
        "print('コントロール群のアウトカムの平均値:{}'.format(treatment_group))\n",
        "print('単純な平均値の差:{}'.format(treatment_group-control_group))"
      ],
      "execution_count": 100,
      "outputs": [
        {
          "output_type": "stream",
          "text": [
            "介入群のアウトカムの平均値:4554.802282692311\n",
            "コントロール群のアウトカムの平均値:6349.1453675675675\n",
            "単純な平均値の差:1794.3430848752569\n"
          ],
          "name": "stdout"
        }
      ]
    },
    {
      "cell_type": "markdown",
      "metadata": {
        "id": "9oas5hjE8vPN",
        "colab_type": "text"
      },
      "source": [
        "## IPW法で因果効果を算出"
      ]
    },
    {
      "cell_type": "code",
      "metadata": {
        "id": "AxTqC5Qj8dKR",
        "colab_type": "code",
        "colab": {
          "base_uri": "https://localhost:8080/",
          "height": 35
        },
        "outputId": "5e7fca2a-ec60-4e76-e136-275c4b72d64b"
      },
      "source": [
        "ps = df['ps']\n",
        "y = df['re78']\n",
        "z = df['treat']\n",
        "\n",
        "ey1 = z*y/ps / sum(z/ps)\n",
        "ey0 = (1-z)*y/(1-ps) / sum((1-z)/(1-ps))\n",
        "ate = ey1.sum()-ey0.sum()\n",
        "print(\"Causal Estimate is \" + str(ate))"
      ],
      "execution_count": 101,
      "outputs": [
        {
          "output_type": "stream",
          "text": [
            "Causal Estimate is 1731.2892609440623\n"
          ],
          "name": "stdout"
        }
      ]
    },
    {
      "cell_type": "markdown",
      "metadata": {
        "id": "hAFSIqx781-c",
        "colab_type": "text"
      },
      "source": [
        "## Learnerアルゴリズムの使用"
      ]
    },
    {
      "cell_type": "code",
      "metadata": {
        "id": "q9ySgXrWlMti",
        "colab_type": "code",
        "colab": {
          "base_uri": "https://localhost:8080/",
          "height": 89
        },
        "outputId": "2ef91d4a-02d3-4c12-838c-9f89d8f7a4d8"
      },
      "source": [
        "SEED = 2\n",
        "\n",
        "data = df.drop(columns=UNNECESSARY_COLUMNS)\n",
        "\n",
        "train_X, test_X, train_t, test_t, train_y, test_y = train_test_split(data.drop(columns=[TREATMENT_COLUMN, OUTCOME_COLUMN]).values,\n",
        "                                                                     data[TREATMENT_COLUMN].values,\n",
        "                                                                     data[OUTCOME_COLUMN].values,\n",
        "                                                                     test_size=0.2, random_state=SEED)\n",
        "train_X, val_X, train_t, val_t, train_y, val_y = train_test_split(train_X, train_t, train_y,\n",
        "                                                                  test_size=0.2, random_state=SEED)\n",
        "\n",
        "print('data.shape:{}'.format(data.shape))\n",
        "print('train_X:{}, train_t:{}, train_y:{}'.format(train_X.shape, train_t.shape, train_y.shape))\n",
        "print('val_X:{}, val_t:{}, val_y:{}'.format(val_X.shape, val_t.shape, val_y.shape))\n",
        "print(('test_X:{}, test_t:{}, test_y:{}'.format(test_X.shape, test_t.shape, test_y.shape)))"
      ],
      "execution_count": 102,
      "outputs": [
        {
          "output_type": "stream",
          "text": [
            "data.shape:(445, 12)\n",
            "train_X:(284, 10), train_t:(284,), train_y:(284,)\n",
            "val_X:(72, 10), val_t:(72,), val_y:(72,)\n",
            "test_X:(89, 10), test_t:(89,), test_y:(89,)\n"
          ],
          "name": "stdout"
        }
      ]
    },
    {
      "cell_type": "markdown",
      "metadata": {
        "id": "3zrz2PgKnhFs",
        "colab_type": "text"
      },
      "source": [
        "### 傾向スコアモデル作成"
      ]
    },
    {
      "cell_type": "code",
      "metadata": {
        "id": "1aB3n1S7nRTh",
        "colab_type": "code",
        "colab": {
          "base_uri": "https://localhost:8080/",
          "height": 323
        },
        "outputId": "f7076bfa-6c40-4b92-c1a8-ba74180b915b"
      },
      "source": [
        "# causalmlで使用できるElasticNetPropensityModelでは内部でsklearn.linear_model.ElasticNetCVが使われている\n",
        "# ElasticNetPropensityModelでは検証用データを使えなさそうなので、過学習を防ぐためにも今回はxgboostを使用\n",
        "# ps：propensity score(傾向スコア)\n",
        "ps_model = XGBClassifier(n_estimators=1000, random_state=SEED)\n",
        "# 目的変数をTreatmentとして学習\n",
        "ps_model.fit(X=train_X, y=train_t, eval_set=[(val_X, val_t)],\n",
        "             early_stopping_rounds=10)\n",
        "\n",
        "# 傾向スコア算出\n",
        "train_ps = ps_model.predict_proba(data=train_X)[:,1]\n",
        "val_ps = ps_model.predict_proba(data=val_X)[:,1]\n",
        "print('train_ps:{}, val_ps:{}'.format(train_ps.shape, val_ps.shape))\n",
        "print('train_ps[:5]:{}'.format(train_ps[:5]))"
      ],
      "execution_count": 103,
      "outputs": [
        {
          "output_type": "stream",
          "text": [
            "[0]\tvalidation_0-error:0.5\n",
            "Will train until validation_0-error hasn't improved in 10 rounds.\n",
            "[1]\tvalidation_0-error:0.5\n",
            "[2]\tvalidation_0-error:0.5\n",
            "[3]\tvalidation_0-error:0.5\n",
            "[4]\tvalidation_0-error:0.5\n",
            "[5]\tvalidation_0-error:0.5\n",
            "[6]\tvalidation_0-error:0.527778\n",
            "[7]\tvalidation_0-error:0.527778\n",
            "[8]\tvalidation_0-error:0.527778\n",
            "[9]\tvalidation_0-error:0.527778\n",
            "[10]\tvalidation_0-error:0.541667\n",
            "Stopping. Best iteration:\n",
            "[0]\tvalidation_0-error:0.5\n",
            "\n",
            "train_ps:(284,), val_ps:(72,)\n",
            "train_ps[:5]:[0.4767683 0.5148605 0.5148605 0.4767683 0.4767683]\n"
          ],
          "name": "stdout"
        }
      ]
    },
    {
      "cell_type": "code",
      "metadata": {
        "id": "0TBfW-1DMjuP",
        "colab_type": "code",
        "colab": {
          "base_uri": "https://localhost:8080/",
          "height": 35
        },
        "outputId": "2ce08a79-3b95-4b74-f4cb-dfa81525b045"
      },
      "source": [
        "test_ps_score = ps_model.score(X=test_X, y=test_t)\n",
        "print('テストデータに対する傾向スコアモデルの精度:{score}'.format(score=test_ps_score))"
      ],
      "execution_count": 104,
      "outputs": [
        {
          "output_type": "stream",
          "text": [
            "テストデータに対する傾向スコアモデルの精度:0.4943820224719101\n"
          ],
          "name": "stdout"
        }
      ]
    },
    {
      "cell_type": "markdown",
      "metadata": {
        "id": "xHQsqwzsBHuJ",
        "colab_type": "text"
      },
      "source": [
        "RCTで行われていることで、傾向スコアモデルが介入群とコントロール群を見分けられないほど、共変量に差が無いのかもしれない"
      ]
    },
    {
      "cell_type": "markdown",
      "metadata": {
        "id": "mqx9D521xB1W",
        "colab_type": "text"
      },
      "source": [
        "### MetaLearnerモデル作成"
      ]
    },
    {
      "cell_type": "code",
      "metadata": {
        "id": "SfBenOmwyNdf",
        "colab_type": "code",
        "colab": {
          "base_uri": "https://localhost:8080/",
          "height": 35
        },
        "outputId": "e25e5ffa-ecbc-4cf4-d783-d43801817d6f"
      },
      "source": [
        "# 観測されたアウトカムから反事実を予測するMetaLearnerモデルを構築していく\n",
        "# 一般的なMLの学習タスクと異なり、正解に反事実が含まれるためmae,val_loss等を算出できない\n",
        "# 今回は、傾向スコアモデル学習時と異なり、学習データを少しでも水増しさせるため検証データを加える\n",
        "learner_train_X = np.concatenate([train_X, val_X])\n",
        "learner_train_t = np.concatenate([train_t, val_t])\n",
        "learner_train_y = np.concatenate([train_y, val_y])\n",
        "learner_train_ps = np.concatenate([train_ps, val_ps])\n",
        "print('learner_train_ps:{}'.format(learner_train_ps.shape))"
      ],
      "execution_count": 105,
      "outputs": [
        {
          "output_type": "stream",
          "text": [
            "learner_train_ps:(356,)\n"
          ],
          "name": "stdout"
        }
      ]
    },
    {
      "cell_type": "code",
      "metadata": {
        "id": "WkVBRwHXvuEl",
        "colab_type": "code",
        "colab": {
          "base_uri": "https://localhost:8080/",
          "height": 145
        },
        "outputId": "593d6dad-b4a4-4d93-ae35-d0ce92641cc0"
      },
      "source": [
        "%%time\n",
        "x_learner = BaseXRegressor(XGBRegressor(n_estimators=1000,random_state=SEED))\n",
        "\n",
        "x_learner.fit(X=learner_train_X, treatment=learner_train_t, \n",
        "              y=learner_train_y, p=learner_train_ps)"
      ],
      "execution_count": 106,
      "outputs": [
        {
          "output_type": "stream",
          "text": [
            "[02:56:26] WARNING: /workspace/src/objective/regression_obj.cu:152: reg:linear is now deprecated in favor of reg:squarederror.\n",
            "[02:56:27] WARNING: /workspace/src/objective/regression_obj.cu:152: reg:linear is now deprecated in favor of reg:squarederror.\n",
            "[02:56:27] WARNING: /workspace/src/objective/regression_obj.cu:152: reg:linear is now deprecated in favor of reg:squarederror.\n",
            "[02:56:27] WARNING: /workspace/src/objective/regression_obj.cu:152: reg:linear is now deprecated in favor of reg:squarederror.\n",
            "CPU times: user 538 ms, sys: 24.1 ms, total: 562 ms\n",
            "Wall time: 562 ms\n"
          ],
          "name": "stdout"
        }
      ]
    },
    {
      "cell_type": "code",
      "metadata": {
        "id": "npmsdIxKn3A7",
        "colab_type": "code",
        "colab": {
          "base_uri": "https://localhost:8080/",
          "height": 109
        },
        "outputId": "c2127d61-b6a8-4e82-def6-96da04328657"
      },
      "source": [
        "%%time\n",
        "t_learner = XGBTRegressor(ate_alpha=0.05, n_estimators=1000, random_state=SEED)\n",
        "t_learner.fit(X=learner_train_X, treatment=learner_train_t, y=learner_train_y)"
      ],
      "execution_count": 107,
      "outputs": [
        {
          "output_type": "stream",
          "text": [
            "[02:56:27] WARNING: /workspace/src/objective/regression_obj.cu:152: reg:linear is now deprecated in favor of reg:squarederror.\n",
            "[02:56:27] WARNING: /workspace/src/objective/regression_obj.cu:152: reg:linear is now deprecated in favor of reg:squarederror.\n",
            "CPU times: user 267 ms, sys: 6.54 ms, total: 273 ms\n",
            "Wall time: 276 ms\n"
          ],
          "name": "stdout"
        }
      ]
    },
    {
      "cell_type": "code",
      "metadata": {
        "id": "LfZ4IcnKvq-a",
        "colab_type": "code",
        "colab": {
          "base_uri": "https://localhost:8080/",
          "height": 53
        },
        "outputId": "674568e2-19cf-45c9-9232-90f72098b735"
      },
      "source": [
        "%%time\n",
        "# デフォルトで最小二乗法OLSを使う\n",
        "s_learner = LRSRegressor(ate_alpha=0.05)\n",
        "s_learner.fit(X=learner_train_X, treatment=learner_train_t, y=learner_train_y)"
      ],
      "execution_count": 108,
      "outputs": [
        {
          "output_type": "stream",
          "text": [
            "CPU times: user 3.22 ms, sys: 0 ns, total: 3.22 ms\n",
            "Wall time: 3.61 ms\n"
          ],
          "name": "stdout"
        }
      ]
    },
    {
      "cell_type": "markdown",
      "metadata": {
        "id": "JLa6Y7Tc3xPX",
        "colab_type": "text"
      },
      "source": [
        "## 予測結果の確認\n",
        "公式チュートリアルで構築されたモデルの予測結果[https://github.com/uber/causalml/blob/master/examples/dragonnet_example.ipynb](https://github.com/uber/causalml/blob/master/examples/dragonnet_example.ipynb)"
      ]
    },
    {
      "cell_type": "code",
      "metadata": {
        "id": "o3gNvv4A7znp",
        "colab_type": "code",
        "colab": {
          "base_uri": "https://localhost:8080/",
          "height": 35
        },
        "outputId": "fd711723-fc30-40a6-e713-3b2f329807ce"
      },
      "source": [
        "# 解析対象となるデータ用意(学習/検証/テストデータの結合)\n",
        "learner_input_X = np.concatenate([train_X, val_X, test_X])\n",
        "learner_input_t = np.concatenate([train_t, val_t, test_t])\n",
        "learner_input_y = np.concatenate([train_y, val_y, test_y])\n",
        "\n",
        "test_ps = ps_model.predict_proba(test_X)[:,1]\n",
        "learner_input_ps = np.concatenate([train_ps, val_ps, test_ps])\n",
        "print('learner_input_ps:{}'.format(learner_input_ps.shape))"
      ],
      "execution_count": 109,
      "outputs": [
        {
          "output_type": "stream",
          "text": [
            "learner_input_ps:(445,)\n"
          ],
          "name": "stdout"
        }
      ]
    },
    {
      "cell_type": "markdown",
      "metadata": {
        "id": "fl7IxIYR6HEN",
        "colab_type": "text"
      },
      "source": [
        "### ATE:AverageTreatmentEffect（平均因果効果）"
      ]
    },
    {
      "cell_type": "code",
      "metadata": {
        "id": "8_9xU6Ig0aqr",
        "colab_type": "code",
        "colab": {
          "base_uri": "https://localhost:8080/",
          "height": 181
        },
        "outputId": "d57034eb-672a-4ca2-ed52-321ec1b871c2"
      },
      "source": [
        "%%time\n",
        "x_ate = x_learner.estimate_ate(X=learner_input_X, treatment=learner_input_t,\n",
        "                             y=learner_input_y, p=learner_input_ps)\n",
        "t_ate = t_learner.estimate_ate(X=learner_input_X, treatment=learner_input_t,\n",
        "                               y=learner_input_y)"
      ],
      "execution_count": 110,
      "outputs": [
        {
          "output_type": "stream",
          "text": [
            "[02:56:27] WARNING: /workspace/src/objective/regression_obj.cu:152: reg:linear is now deprecated in favor of reg:squarederror.\n",
            "[02:56:27] WARNING: /workspace/src/objective/regression_obj.cu:152: reg:linear is now deprecated in favor of reg:squarederror.\n",
            "[02:56:28] WARNING: /workspace/src/objective/regression_obj.cu:152: reg:linear is now deprecated in favor of reg:squarederror.\n",
            "[02:56:28] WARNING: /workspace/src/objective/regression_obj.cu:152: reg:linear is now deprecated in favor of reg:squarederror.\n",
            "[02:56:28] WARNING: /workspace/src/objective/regression_obj.cu:152: reg:linear is now deprecated in favor of reg:squarederror.\n",
            "[02:56:28] WARNING: /workspace/src/objective/regression_obj.cu:152: reg:linear is now deprecated in favor of reg:squarederror.\n",
            "CPU times: user 988 ms, sys: 32.3 ms, total: 1.02 s\n",
            "Wall time: 1.02 s\n"
          ],
          "name": "stdout"
        }
      ]
    },
    {
      "cell_type": "code",
      "metadata": {
        "id": "Gc5mbRaS2U1K",
        "colab_type": "code",
        "colab": {
          "base_uri": "https://localhost:8080/",
          "height": 125
        },
        "outputId": "2265085f-9aa0-41ac-8a0a-c9d80a0b47d7"
      },
      "source": [
        "# ATE:AverageTreatmentEffectp\n",
        "print('x-learnerのATE:{ate}'.format(ate=x_ate[0][0]))\n",
        "print('信頼区間の下限値(LB):{lb}'.format(lb=x_ate[1][0]))\n",
        "print('信頼区間の上限値(UB):{ub}'.format(ub=x_ate[2][0]))\n",
        "print('t-learnerのATE:{ate}'.format(ate=t_ate[0][0]))\n",
        "print('信頼区間の下限値(LB):{lb}'.format(lb=t_ate[1][0]))\n",
        "print('信頼区間の上限値(UB):{ub}'.format(ub=t_ate[2][0]))"
      ],
      "execution_count": 111,
      "outputs": [
        {
          "output_type": "stream",
          "text": [
            "x-learnerのATE:1924.7883469485164\n",
            "信頼区間の下限値(LB):1115.5002739259014\n",
            "信頼区間の上限値(UB):2734.076419971131\n",
            "t-learnerのATE:1933.7731893475136\n",
            "信頼区間の下限値(LB):1033.5334511635929\n",
            "信頼区間の上限値(UB):2834.0129275314343\n"
          ],
          "name": "stdout"
        }
      ]
    },
    {
      "cell_type": "markdown",
      "metadata": {
        "id": "11VY8Ywb6asr",
        "colab_type": "text"
      },
      "source": [
        "### ITE:IndividualTreatmentEffect（個別的因果効果）"
      ]
    },
    {
      "cell_type": "code",
      "metadata": {
        "id": "1rFfRPLl7P_J",
        "colab_type": "code",
        "colab": {
          "base_uri": "https://localhost:8080/",
          "height": 53
        },
        "outputId": "26b211c6-aec7-43a4-924b-a169e6e6859a"
      },
      "source": [
        "%%time\n",
        "x_ite = x_learner.predict(X=learner_input_X, treatment=learner_input_t,\n",
        "                        y=learner_input_y, p=learner_input_ps)"
      ],
      "execution_count": 112,
      "outputs": [
        {
          "output_type": "stream",
          "text": [
            "CPU times: user 40.4 ms, sys: 0 ns, total: 40.4 ms\n",
            "Wall time: 40.7 ms\n"
          ],
          "name": "stdout"
        }
      ]
    },
    {
      "cell_type": "code",
      "metadata": {
        "id": "HBYS8vckrOXa",
        "colab_type": "code",
        "colab": {
          "base_uri": "https://localhost:8080/",
          "height": 53
        },
        "outputId": "2015be39-d46d-43b2-aefc-f82e2ed3c44e"
      },
      "source": [
        "%%time\n",
        "t_ite = t_learner.predict(X=learner_input_X, treatment=learner_input_t, y=learner_input_y)"
      ],
      "execution_count": 113,
      "outputs": [
        {
          "output_type": "stream",
          "text": [
            "CPU times: user 27.7 ms, sys: 0 ns, total: 27.7 ms\n",
            "Wall time: 28.3 ms\n"
          ],
          "name": "stdout"
        }
      ]
    },
    {
      "cell_type": "code",
      "metadata": {
        "id": "nLm_Iyjk39lZ",
        "colab_type": "code",
        "colab": {
          "base_uri": "https://localhost:8080/",
          "height": 435
        },
        "outputId": "31903981-605e-409d-ebd9-138bd7d98b76"
      },
      "source": [
        "# ITE:IndividualTreatmentEffect\n",
        "insert_columns = ['X_ITE', 'T_ITE']\n",
        "insert_val = [x_ite, t_ite]\n",
        "for insert_col, val in zip(insert_columns, insert_val):\n",
        "  if insert_col in data.columns:\n",
        "    data.drop(columns=insert_col,inplace=True)\n",
        "  data.insert(loc=0, column=insert_col, value=val)\n",
        "data"
      ],
      "execution_count": 114,
      "outputs": [
        {
          "output_type": "execute_result",
          "data": {
            "text/html": [
              "<div>\n",
              "<style scoped>\n",
              "    .dataframe tbody tr th:only-of-type {\n",
              "        vertical-align: middle;\n",
              "    }\n",
              "\n",
              "    .dataframe tbody tr th {\n",
              "        vertical-align: top;\n",
              "    }\n",
              "\n",
              "    .dataframe thead th {\n",
              "        text-align: right;\n",
              "    }\n",
              "</style>\n",
              "<table border=\"1\" class=\"dataframe\">\n",
              "  <thead>\n",
              "    <tr style=\"text-align: right;\">\n",
              "      <th></th>\n",
              "      <th>T_ITE</th>\n",
              "      <th>X_ITE</th>\n",
              "      <th>age</th>\n",
              "      <th>educ</th>\n",
              "      <th>black</th>\n",
              "      <th>hisp</th>\n",
              "      <th>married</th>\n",
              "      <th>nodegr</th>\n",
              "      <th>re74</th>\n",
              "      <th>re75</th>\n",
              "      <th>re78</th>\n",
              "      <th>u74</th>\n",
              "      <th>u75</th>\n",
              "      <th>treat</th>\n",
              "    </tr>\n",
              "  </thead>\n",
              "  <tbody>\n",
              "    <tr>\n",
              "      <th>0</th>\n",
              "      <td>3257.140137</td>\n",
              "      <td>6900.692383</td>\n",
              "      <td>37</td>\n",
              "      <td>11</td>\n",
              "      <td>1</td>\n",
              "      <td>0</td>\n",
              "      <td>1</td>\n",
              "      <td>1</td>\n",
              "      <td>0.00</td>\n",
              "      <td>0.0</td>\n",
              "      <td>9930.05</td>\n",
              "      <td>1</td>\n",
              "      <td>1</td>\n",
              "      <td>1</td>\n",
              "    </tr>\n",
              "    <tr>\n",
              "      <th>1</th>\n",
              "      <td>8398.496094</td>\n",
              "      <td>7879.037109</td>\n",
              "      <td>22</td>\n",
              "      <td>9</td>\n",
              "      <td>0</td>\n",
              "      <td>1</td>\n",
              "      <td>0</td>\n",
              "      <td>1</td>\n",
              "      <td>0.00</td>\n",
              "      <td>0.0</td>\n",
              "      <td>3595.89</td>\n",
              "      <td>1</td>\n",
              "      <td>1</td>\n",
              "      <td>1</td>\n",
              "    </tr>\n",
              "    <tr>\n",
              "      <th>2</th>\n",
              "      <td>143.145752</td>\n",
              "      <td>35.841721</td>\n",
              "      <td>30</td>\n",
              "      <td>12</td>\n",
              "      <td>1</td>\n",
              "      <td>0</td>\n",
              "      <td>0</td>\n",
              "      <td>0</td>\n",
              "      <td>0.00</td>\n",
              "      <td>0.0</td>\n",
              "      <td>24909.50</td>\n",
              "      <td>1</td>\n",
              "      <td>1</td>\n",
              "      <td>1</td>\n",
              "    </tr>\n",
              "    <tr>\n",
              "      <th>3</th>\n",
              "      <td>-1892.088867</td>\n",
              "      <td>-1349.422241</td>\n",
              "      <td>27</td>\n",
              "      <td>11</td>\n",
              "      <td>1</td>\n",
              "      <td>0</td>\n",
              "      <td>0</td>\n",
              "      <td>1</td>\n",
              "      <td>0.00</td>\n",
              "      <td>0.0</td>\n",
              "      <td>7506.15</td>\n",
              "      <td>1</td>\n",
              "      <td>1</td>\n",
              "      <td>1</td>\n",
              "    </tr>\n",
              "    <tr>\n",
              "      <th>4</th>\n",
              "      <td>-2784.637695</td>\n",
              "      <td>3199.215820</td>\n",
              "      <td>33</td>\n",
              "      <td>8</td>\n",
              "      <td>1</td>\n",
              "      <td>0</td>\n",
              "      <td>0</td>\n",
              "      <td>1</td>\n",
              "      <td>0.00</td>\n",
              "      <td>0.0</td>\n",
              "      <td>289.79</td>\n",
              "      <td>1</td>\n",
              "      <td>1</td>\n",
              "      <td>1</td>\n",
              "    </tr>\n",
              "    <tr>\n",
              "      <th>...</th>\n",
              "      <td>...</td>\n",
              "      <td>...</td>\n",
              "      <td>...</td>\n",
              "      <td>...</td>\n",
              "      <td>...</td>\n",
              "      <td>...</td>\n",
              "      <td>...</td>\n",
              "      <td>...</td>\n",
              "      <td>...</td>\n",
              "      <td>...</td>\n",
              "      <td>...</td>\n",
              "      <td>...</td>\n",
              "      <td>...</td>\n",
              "      <td>...</td>\n",
              "    </tr>\n",
              "    <tr>\n",
              "      <th>440</th>\n",
              "      <td>3754.640381</td>\n",
              "      <td>1914.254639</td>\n",
              "      <td>21</td>\n",
              "      <td>9</td>\n",
              "      <td>1</td>\n",
              "      <td>0</td>\n",
              "      <td>0</td>\n",
              "      <td>1</td>\n",
              "      <td>31886.40</td>\n",
              "      <td>12357.2</td>\n",
              "      <td>0.00</td>\n",
              "      <td>0</td>\n",
              "      <td>0</td>\n",
              "      <td>0</td>\n",
              "    </tr>\n",
              "    <tr>\n",
              "      <th>441</th>\n",
              "      <td>6363.058594</td>\n",
              "      <td>3479.741699</td>\n",
              "      <td>28</td>\n",
              "      <td>11</td>\n",
              "      <td>1</td>\n",
              "      <td>0</td>\n",
              "      <td>0</td>\n",
              "      <td>1</td>\n",
              "      <td>17491.50</td>\n",
              "      <td>13371.3</td>\n",
              "      <td>0.00</td>\n",
              "      <td>0</td>\n",
              "      <td>0</td>\n",
              "      <td>0</td>\n",
              "    </tr>\n",
              "    <tr>\n",
              "      <th>442</th>\n",
              "      <td>-5946.514648</td>\n",
              "      <td>-5542.077148</td>\n",
              "      <td>29</td>\n",
              "      <td>9</td>\n",
              "      <td>0</td>\n",
              "      <td>1</td>\n",
              "      <td>0</td>\n",
              "      <td>1</td>\n",
              "      <td>9594.31</td>\n",
              "      <td>16341.2</td>\n",
              "      <td>16900.30</td>\n",
              "      <td>0</td>\n",
              "      <td>0</td>\n",
              "      <td>0</td>\n",
              "    </tr>\n",
              "    <tr>\n",
              "      <th>443</th>\n",
              "      <td>-1945.338135</td>\n",
              "      <td>-3606.191895</td>\n",
              "      <td>25</td>\n",
              "      <td>9</td>\n",
              "      <td>1</td>\n",
              "      <td>0</td>\n",
              "      <td>1</td>\n",
              "      <td>1</td>\n",
              "      <td>24731.60</td>\n",
              "      <td>16946.6</td>\n",
              "      <td>7343.96</td>\n",
              "      <td>0</td>\n",
              "      <td>0</td>\n",
              "      <td>0</td>\n",
              "    </tr>\n",
              "    <tr>\n",
              "      <th>444</th>\n",
              "      <td>-2047.515625</td>\n",
              "      <td>-1831.265015</td>\n",
              "      <td>22</td>\n",
              "      <td>10</td>\n",
              "      <td>0</td>\n",
              "      <td>0</td>\n",
              "      <td>1</td>\n",
              "      <td>1</td>\n",
              "      <td>25720.90</td>\n",
              "      <td>23032.0</td>\n",
              "      <td>5448.80</td>\n",
              "      <td>0</td>\n",
              "      <td>0</td>\n",
              "      <td>0</td>\n",
              "    </tr>\n",
              "  </tbody>\n",
              "</table>\n",
              "<p>445 rows × 14 columns</p>\n",
              "</div>"
            ],
            "text/plain": [
              "           T_ITE        X_ITE  age  educ  ...      re78  u74  u75  treat\n",
              "0    3257.140137  6900.692383   37    11  ...   9930.05    1    1      1\n",
              "1    8398.496094  7879.037109   22     9  ...   3595.89    1    1      1\n",
              "2     143.145752    35.841721   30    12  ...  24909.50    1    1      1\n",
              "3   -1892.088867 -1349.422241   27    11  ...   7506.15    1    1      1\n",
              "4   -2784.637695  3199.215820   33     8  ...    289.79    1    1      1\n",
              "..           ...          ...  ...   ...  ...       ...  ...  ...    ...\n",
              "440  3754.640381  1914.254639   21     9  ...      0.00    0    0      0\n",
              "441  6363.058594  3479.741699   28    11  ...      0.00    0    0      0\n",
              "442 -5946.514648 -5542.077148   29     9  ...  16900.30    0    0      0\n",
              "443 -1945.338135 -3606.191895   25     9  ...   7343.96    0    0      0\n",
              "444 -2047.515625 -1831.265015   22    10  ...   5448.80    0    0      0\n",
              "\n",
              "[445 rows x 14 columns]"
            ]
          },
          "metadata": {
            "tags": []
          },
          "execution_count": 114
        }
      ]
    },
    {
      "cell_type": "code",
      "metadata": {
        "id": "JwEvjODXq6vn",
        "colab_type": "code",
        "colab": {
          "base_uri": "https://localhost:8080/",
          "height": 558
        },
        "outputId": "2a97c8c4-0841-495b-faa8-2cae15c345f7"
      },
      "source": [
        "alpha=0.2\n",
        "bins=30\n",
        "plt.figure(figsize=(12,8))\n",
        "plt.hist(x_ite, alpha=alpha, bins=bins, label='X Learner')\n",
        "plt.hist(t_ite, alpha=alpha, bins=bins, label='T Learner')\n",
        "plt.title('Distribution of CATE Predictions by Meta Learner')\n",
        "plt.xlabel('Individual Treatment Effect (ITE/CATE)')\n",
        "plt.ylabel('# of Samples')\n",
        "_=plt.legend()"
      ],
      "execution_count": 115,
      "outputs": [
        {
          "output_type": "display_data",
          "data": {
            "image/png": "[encoded data removed]",
            "text/plain": [
              "<Figure size 864x576 with 1 Axes>"
            ]
          },
          "metadata": {
            "tags": []
          }
        }
      ]
    },
    {
      "cell_type": "markdown",
      "metadata": {
        "id": "MzVlffouBnsH",
        "colab_type": "text"
      },
      "source": [
        "### 特徴量毎の重要度の確認"
      ]
    },
    {
      "cell_type": "code",
      "metadata": {
        "id": "RnqLlYQgB1AR",
        "colab_type": "code",
        "colab": {
          "base_uri": "https://localhost:8080/",
          "height": 592
        },
        "outputId": "c33b0ea7-3900-4ea0-af3c-351510f1d093"
      },
      "source": [
        "x_learner.plot_importance(X=learner_input_X,\n",
        "                          tau=x_ite,\n",
        "                          model_tau_feature=XGBRegressor(random_state=SEED),\n",
        "                          features=FEATURE_COLUMNS,\n",
        "                          method='auto',\n",
        "                          random_state=SEED)"
      ],
      "execution_count": 116,
      "outputs": [
        {
          "output_type": "stream",
          "text": [
            "[02:56:29] WARNING: /workspace/src/objective/regression_obj.cu:152: reg:linear is now deprecated in favor of reg:squarederror.\n",
            "[02:56:29] WARNING: /workspace/src/objective/regression_obj.cu:152: reg:linear is now deprecated in favor of reg:squarederror.\n"
          ],
          "name": "stdout"
        },
        {
          "output_type": "display_data",
          "data": {
            "image/png": "[encoded data removed]",
            "text/plain": [
              "<Figure size 864x576 with 1 Axes>"
            ]
          },
          "metadata": {
            "tags": []
          }
        }
      ]
    },
    {
      "cell_type": "markdown",
      "metadata": {
        "id": "TjtsPzZ3XmJ5",
        "colab_type": "text"
      },
      "source": [
        "### 特徴量毎のshap値確認"
      ]
    },
    {
      "cell_type": "code",
      "metadata": {
        "id": "jXlZ7gJXOkO0",
        "colab_type": "code",
        "colab": {
          "base_uri": "https://localhost:8080/",
          "height": 477
        },
        "outputId": "a7af4c3a-45e3-46b5-a83c-c4b35e5039cc"
      },
      "source": [
        "x_learner.plot_shap_values(X=learner_input_X, tau=x_ite, \n",
        "                           features=FEATURE_COLUMNS,\n",
        "                           model_tau_feature=XGBRegressor(random_state=SEED))"
      ],
      "execution_count": 117,
      "outputs": [
        {
          "output_type": "stream",
          "text": [
            "[02:56:29] WARNING: /workspace/src/objective/regression_obj.cu:152: reg:linear is now deprecated in favor of reg:squarederror.\n",
            "[02:56:29] WARNING: /workspace/src/objective/regression_obj.cu:152: reg:linear is now deprecated in favor of reg:squarederror.\n"
          ],
          "name": "stdout"
        },
        {
          "output_type": "stream",
          "text": [
            "Setting feature_perturbation = \"tree_path_dependent\" because no background data was given.\n"
          ],
          "name": "stderr"
        },
        {
          "output_type": "display_data",
          "data": {
            "image/png": "[encoded data removed]",
            "text/plain": [
              "<Figure size 576x396 with 1 Axes>"
            ]
          },
          "metadata": {
            "tags": []
          }
        }
      ]
    },
    {
      "cell_type": "markdown",
      "metadata": {
        "id": "nkpQqBYkYojq",
        "colab_type": "text"
      },
      "source": [
        "## モデルの評価\n",
        "TMLE:Targeted maximum likelihood estimation(局所的に最尤推定を行う)モデルとの比較。<br>正解となる目的変数にはCounterfactual(反事実)が含まれているため、一般的な精度が算出できない。そこでTMLEモデルをベースラインにして、構築したモデルの精度を比較し評価する。"
      ]
    },
    {
      "cell_type": "code",
      "metadata": {
        "id": "FPBFW2C7PbSr",
        "colab_type": "code",
        "colab": {
          "base_uri": "https://localhost:8080/",
          "height": 222
        },
        "outputId": "c46a1ecd-4fee-43e2-edd0-f73c3215edb3"
      },
      "source": [
        "# 傾向スコアの挿入\n",
        "PS_COLUMN = 'ps'\n",
        "insert_column = PS_COLUMN\n",
        "\n",
        "if insert_column in data.columns:\n",
        "  data.drop(columns=insert_column,inplace=True)\n",
        "data.insert(loc=0, column=insert_column, value=learner_input_ps)\n",
        "data.head()"
      ],
      "execution_count": 118,
      "outputs": [
        {
          "output_type": "execute_result",
          "data": {
            "text/html": [
              "<div>\n",
              "<style scoped>\n",
              "    .dataframe tbody tr th:only-of-type {\n",
              "        vertical-align: middle;\n",
              "    }\n",
              "\n",
              "    .dataframe tbody tr th {\n",
              "        vertical-align: top;\n",
              "    }\n",
              "\n",
              "    .dataframe thead th {\n",
              "        text-align: right;\n",
              "    }\n",
              "</style>\n",
              "<table border=\"1\" class=\"dataframe\">\n",
              "  <thead>\n",
              "    <tr style=\"text-align: right;\">\n",
              "      <th></th>\n",
              "      <th>ps</th>\n",
              "      <th>T_ITE</th>\n",
              "      <th>X_ITE</th>\n",
              "      <th>age</th>\n",
              "      <th>educ</th>\n",
              "      <th>black</th>\n",
              "      <th>hisp</th>\n",
              "      <th>married</th>\n",
              "      <th>nodegr</th>\n",
              "      <th>re74</th>\n",
              "      <th>re75</th>\n",
              "      <th>re78</th>\n",
              "      <th>u74</th>\n",
              "      <th>u75</th>\n",
              "      <th>treat</th>\n",
              "    </tr>\n",
              "  </thead>\n",
              "  <tbody>\n",
              "    <tr>\n",
              "      <th>0</th>\n",
              "      <td>0.476768</td>\n",
              "      <td>3257.140137</td>\n",
              "      <td>6900.692383</td>\n",
              "      <td>37</td>\n",
              "      <td>11</td>\n",
              "      <td>1</td>\n",
              "      <td>0</td>\n",
              "      <td>1</td>\n",
              "      <td>1</td>\n",
              "      <td>0.0</td>\n",
              "      <td>0.0</td>\n",
              "      <td>9930.05</td>\n",
              "      <td>1</td>\n",
              "      <td>1</td>\n",
              "      <td>1</td>\n",
              "    </tr>\n",
              "    <tr>\n",
              "      <th>1</th>\n",
              "      <td>0.514861</td>\n",
              "      <td>8398.496094</td>\n",
              "      <td>7879.037109</td>\n",
              "      <td>22</td>\n",
              "      <td>9</td>\n",
              "      <td>0</td>\n",
              "      <td>1</td>\n",
              "      <td>0</td>\n",
              "      <td>1</td>\n",
              "      <td>0.0</td>\n",
              "      <td>0.0</td>\n",
              "      <td>3595.89</td>\n",
              "      <td>1</td>\n",
              "      <td>1</td>\n",
              "      <td>1</td>\n",
              "    </tr>\n",
              "    <tr>\n",
              "      <th>2</th>\n",
              "      <td>0.514861</td>\n",
              "      <td>143.145752</td>\n",
              "      <td>35.841721</td>\n",
              "      <td>30</td>\n",
              "      <td>12</td>\n",
              "      <td>1</td>\n",
              "      <td>0</td>\n",
              "      <td>0</td>\n",
              "      <td>0</td>\n",
              "      <td>0.0</td>\n",
              "      <td>0.0</td>\n",
              "      <td>24909.50</td>\n",
              "      <td>1</td>\n",
              "      <td>1</td>\n",
              "      <td>1</td>\n",
              "    </tr>\n",
              "    <tr>\n",
              "      <th>3</th>\n",
              "      <td>0.476768</td>\n",
              "      <td>-1892.088867</td>\n",
              "      <td>-1349.422241</td>\n",
              "      <td>27</td>\n",
              "      <td>11</td>\n",
              "      <td>1</td>\n",
              "      <td>0</td>\n",
              "      <td>0</td>\n",
              "      <td>1</td>\n",
              "      <td>0.0</td>\n",
              "      <td>0.0</td>\n",
              "      <td>7506.15</td>\n",
              "      <td>1</td>\n",
              "      <td>1</td>\n",
              "      <td>1</td>\n",
              "    </tr>\n",
              "    <tr>\n",
              "      <th>4</th>\n",
              "      <td>0.476768</td>\n",
              "      <td>-2784.637695</td>\n",
              "      <td>3199.215820</td>\n",
              "      <td>33</td>\n",
              "      <td>8</td>\n",
              "      <td>1</td>\n",
              "      <td>0</td>\n",
              "      <td>0</td>\n",
              "      <td>1</td>\n",
              "      <td>0.0</td>\n",
              "      <td>0.0</td>\n",
              "      <td>289.79</td>\n",
              "      <td>1</td>\n",
              "      <td>1</td>\n",
              "      <td>1</td>\n",
              "    </tr>\n",
              "  </tbody>\n",
              "</table>\n",
              "</div>"
            ],
            "text/plain": [
              "         ps        T_ITE        X_ITE  age  ...      re78  u74  u75  treat\n",
              "0  0.476768  3257.140137  6900.692383   37  ...   9930.05    1    1      1\n",
              "1  0.514861  8398.496094  7879.037109   22  ...   3595.89    1    1      1\n",
              "2  0.514861   143.145752    35.841721   30  ...  24909.50    1    1      1\n",
              "3  0.476768 -1892.088867 -1349.422241   27  ...   7506.15    1    1      1\n",
              "4  0.476768 -2784.637695  3199.215820   33  ...    289.79    1    1      1\n",
              "\n",
              "[5 rows x 15 columns]"
            ]
          },
          "metadata": {
            "tags": []
          },
          "execution_count": 118
        }
      ]
    },
    {
      "cell_type": "code",
      "metadata": {
        "id": "LeAkAOR8Cdbm",
        "colab_type": "code",
        "colab": {
          "base_uri": "https://localhost:8080/",
          "height": 435
        },
        "outputId": "bcbd2f31-8fdf-455d-97e0-8548c07d280e"
      },
      "source": [
        "data"
      ],
      "execution_count": 119,
      "outputs": [
        {
          "output_type": "execute_result",
          "data": {
            "text/html": [
              "<div>\n",
              "<style scoped>\n",
              "    .dataframe tbody tr th:only-of-type {\n",
              "        vertical-align: middle;\n",
              "    }\n",
              "\n",
              "    .dataframe tbody tr th {\n",
              "        vertical-align: top;\n",
              "    }\n",
              "\n",
              "    .dataframe thead th {\n",
              "        text-align: right;\n",
              "    }\n",
              "</style>\n",
              "<table border=\"1\" class=\"dataframe\">\n",
              "  <thead>\n",
              "    <tr style=\"text-align: right;\">\n",
              "      <th></th>\n",
              "      <th>ps</th>\n",
              "      <th>T_ITE</th>\n",
              "      <th>X_ITE</th>\n",
              "      <th>age</th>\n",
              "      <th>educ</th>\n",
              "      <th>black</th>\n",
              "      <th>hisp</th>\n",
              "      <th>married</th>\n",
              "      <th>nodegr</th>\n",
              "      <th>re74</th>\n",
              "      <th>re75</th>\n",
              "      <th>re78</th>\n",
              "      <th>u74</th>\n",
              "      <th>u75</th>\n",
              "      <th>treat</th>\n",
              "    </tr>\n",
              "  </thead>\n",
              "  <tbody>\n",
              "    <tr>\n",
              "      <th>0</th>\n",
              "      <td>0.476768</td>\n",
              "      <td>3257.140137</td>\n",
              "      <td>6900.692383</td>\n",
              "      <td>37</td>\n",
              "      <td>11</td>\n",
              "      <td>1</td>\n",
              "      <td>0</td>\n",
              "      <td>1</td>\n",
              "      <td>1</td>\n",
              "      <td>0.00</td>\n",
              "      <td>0.0</td>\n",
              "      <td>9930.05</td>\n",
              "      <td>1</td>\n",
              "      <td>1</td>\n",
              "      <td>1</td>\n",
              "    </tr>\n",
              "    <tr>\n",
              "      <th>1</th>\n",
              "      <td>0.514861</td>\n",
              "      <td>8398.496094</td>\n",
              "      <td>7879.037109</td>\n",
              "      <td>22</td>\n",
              "      <td>9</td>\n",
              "      <td>0</td>\n",
              "      <td>1</td>\n",
              "      <td>0</td>\n",
              "      <td>1</td>\n",
              "      <td>0.00</td>\n",
              "      <td>0.0</td>\n",
              "      <td>3595.89</td>\n",
              "      <td>1</td>\n",
              "      <td>1</td>\n",
              "      <td>1</td>\n",
              "    </tr>\n",
              "    <tr>\n",
              "      <th>2</th>\n",
              "      <td>0.514861</td>\n",
              "      <td>143.145752</td>\n",
              "      <td>35.841721</td>\n",
              "      <td>30</td>\n",
              "      <td>12</td>\n",
              "      <td>1</td>\n",
              "      <td>0</td>\n",
              "      <td>0</td>\n",
              "      <td>0</td>\n",
              "      <td>0.00</td>\n",
              "      <td>0.0</td>\n",
              "      <td>24909.50</td>\n",
              "      <td>1</td>\n",
              "      <td>1</td>\n",
              "      <td>1</td>\n",
              "    </tr>\n",
              "    <tr>\n",
              "      <th>3</th>\n",
              "      <td>0.476768</td>\n",
              "      <td>-1892.088867</td>\n",
              "      <td>-1349.422241</td>\n",
              "      <td>27</td>\n",
              "      <td>11</td>\n",
              "      <td>1</td>\n",
              "      <td>0</td>\n",
              "      <td>0</td>\n",
              "      <td>1</td>\n",
              "      <td>0.00</td>\n",
              "      <td>0.0</td>\n",
              "      <td>7506.15</td>\n",
              "      <td>1</td>\n",
              "      <td>1</td>\n",
              "      <td>1</td>\n",
              "    </tr>\n",
              "    <tr>\n",
              "      <th>4</th>\n",
              "      <td>0.476768</td>\n",
              "      <td>-2784.637695</td>\n",
              "      <td>3199.215820</td>\n",
              "      <td>33</td>\n",
              "      <td>8</td>\n",
              "      <td>1</td>\n",
              "      <td>0</td>\n",
              "      <td>0</td>\n",
              "      <td>1</td>\n",
              "      <td>0.00</td>\n",
              "      <td>0.0</td>\n",
              "      <td>289.79</td>\n",
              "      <td>1</td>\n",
              "      <td>1</td>\n",
              "      <td>1</td>\n",
              "    </tr>\n",
              "    <tr>\n",
              "      <th>...</th>\n",
              "      <td>...</td>\n",
              "      <td>...</td>\n",
              "      <td>...</td>\n",
              "      <td>...</td>\n",
              "      <td>...</td>\n",
              "      <td>...</td>\n",
              "      <td>...</td>\n",
              "      <td>...</td>\n",
              "      <td>...</td>\n",
              "      <td>...</td>\n",
              "      <td>...</td>\n",
              "      <td>...</td>\n",
              "      <td>...</td>\n",
              "      <td>...</td>\n",
              "      <td>...</td>\n",
              "    </tr>\n",
              "    <tr>\n",
              "      <th>440</th>\n",
              "      <td>0.476768</td>\n",
              "      <td>3754.640381</td>\n",
              "      <td>1914.254639</td>\n",
              "      <td>21</td>\n",
              "      <td>9</td>\n",
              "      <td>1</td>\n",
              "      <td>0</td>\n",
              "      <td>0</td>\n",
              "      <td>1</td>\n",
              "      <td>31886.40</td>\n",
              "      <td>12357.2</td>\n",
              "      <td>0.00</td>\n",
              "      <td>0</td>\n",
              "      <td>0</td>\n",
              "      <td>0</td>\n",
              "    </tr>\n",
              "    <tr>\n",
              "      <th>441</th>\n",
              "      <td>0.532308</td>\n",
              "      <td>6363.058594</td>\n",
              "      <td>3479.741699</td>\n",
              "      <td>28</td>\n",
              "      <td>11</td>\n",
              "      <td>1</td>\n",
              "      <td>0</td>\n",
              "      <td>0</td>\n",
              "      <td>1</td>\n",
              "      <td>17491.50</td>\n",
              "      <td>13371.3</td>\n",
              "      <td>0.00</td>\n",
              "      <td>0</td>\n",
              "      <td>0</td>\n",
              "      <td>0</td>\n",
              "    </tr>\n",
              "    <tr>\n",
              "      <th>442</th>\n",
              "      <td>0.476768</td>\n",
              "      <td>-5946.514648</td>\n",
              "      <td>-5542.077148</td>\n",
              "      <td>29</td>\n",
              "      <td>9</td>\n",
              "      <td>0</td>\n",
              "      <td>1</td>\n",
              "      <td>0</td>\n",
              "      <td>1</td>\n",
              "      <td>9594.31</td>\n",
              "      <td>16341.2</td>\n",
              "      <td>16900.30</td>\n",
              "      <td>0</td>\n",
              "      <td>0</td>\n",
              "      <td>0</td>\n",
              "    </tr>\n",
              "    <tr>\n",
              "      <th>443</th>\n",
              "      <td>0.476768</td>\n",
              "      <td>-1945.338135</td>\n",
              "      <td>-3606.191895</td>\n",
              "      <td>25</td>\n",
              "      <td>9</td>\n",
              "      <td>1</td>\n",
              "      <td>0</td>\n",
              "      <td>1</td>\n",
              "      <td>1</td>\n",
              "      <td>24731.60</td>\n",
              "      <td>16946.6</td>\n",
              "      <td>7343.96</td>\n",
              "      <td>0</td>\n",
              "      <td>0</td>\n",
              "      <td>0</td>\n",
              "    </tr>\n",
              "    <tr>\n",
              "      <th>444</th>\n",
              "      <td>0.476768</td>\n",
              "      <td>-2047.515625</td>\n",
              "      <td>-1831.265015</td>\n",
              "      <td>22</td>\n",
              "      <td>10</td>\n",
              "      <td>0</td>\n",
              "      <td>0</td>\n",
              "      <td>1</td>\n",
              "      <td>1</td>\n",
              "      <td>25720.90</td>\n",
              "      <td>23032.0</td>\n",
              "      <td>5448.80</td>\n",
              "      <td>0</td>\n",
              "      <td>0</td>\n",
              "      <td>0</td>\n",
              "    </tr>\n",
              "  </tbody>\n",
              "</table>\n",
              "<p>445 rows × 15 columns</p>\n",
              "</div>"
            ],
            "text/plain": [
              "           ps        T_ITE        X_ITE  age  ...      re78  u74  u75  treat\n",
              "0    0.476768  3257.140137  6900.692383   37  ...   9930.05    1    1      1\n",
              "1    0.514861  8398.496094  7879.037109   22  ...   3595.89    1    1      1\n",
              "2    0.514861   143.145752    35.841721   30  ...  24909.50    1    1      1\n",
              "3    0.476768 -1892.088867 -1349.422241   27  ...   7506.15    1    1      1\n",
              "4    0.476768 -2784.637695  3199.215820   33  ...    289.79    1    1      1\n",
              "..        ...          ...          ...  ...  ...       ...  ...  ...    ...\n",
              "440  0.476768  3754.640381  1914.254639   21  ...      0.00    0    0      0\n",
              "441  0.532308  6363.058594  3479.741699   28  ...      0.00    0    0      0\n",
              "442  0.476768 -5946.514648 -5542.077148   29  ...  16900.30    0    0      0\n",
              "443  0.476768 -1945.338135 -3606.191895   25  ...   7343.96    0    0      0\n",
              "444  0.476768 -2047.515625 -1831.265015   22  ...   5448.80    0    0      0\n",
              "\n",
              "[445 rows x 15 columns]"
            ]
          },
          "metadata": {
            "tags": []
          },
          "execution_count": 119
        }
      ]
    },
    {
      "cell_type": "code",
      "metadata": {
        "id": "HbY6KsLnpEnX",
        "colab_type": "code",
        "colab": {
          "base_uri": "https://localhost:8080/",
          "height": 307
        },
        "outputId": "d2bdd352-0e2c-4392-a4b5-9b2fedee2fca"
      },
      "source": [
        "tmlgeain = get_tmlegain(df=data,inference_col=FEATURE_COLUMNS, \n",
        "                        learner=XGBRegressor(n_estimators=1000, random_state=SEED),\n",
        "                        outcome_col=OUTCOME_COLUMN, treatment_col=TREATMENT_COLUMN,\n",
        "                        p_col=PS_COLUMN,ci=True)\n",
        "tmlgeain"
      ],
      "execution_count": 120,
      "outputs": [
        {
          "output_type": "stream",
          "text": [
            "[02:56:30] WARNING: /workspace/src/objective/regression_obj.cu:152: reg:linear is now deprecated in favor of reg:squarederror.\n",
            "[02:56:30] WARNING: /workspace/src/objective/regression_obj.cu:152: reg:linear is now deprecated in favor of reg:squarederror.\n",
            "[02:56:30] WARNING: /workspace/src/objective/regression_obj.cu:152: reg:linear is now deprecated in favor of reg:squarederror.\n"
          ],
          "name": "stdout"
        },
        {
          "output_type": "execute_result",
          "data": {
            "text/html": [
              "<div>\n",
              "<style scoped>\n",
              "    .dataframe tbody tr th:only-of-type {\n",
              "        vertical-align: middle;\n",
              "    }\n",
              "\n",
              "    .dataframe tbody tr th {\n",
              "        vertical-align: top;\n",
              "    }\n",
              "\n",
              "    .dataframe thead th {\n",
              "        text-align: right;\n",
              "    }\n",
              "</style>\n",
              "<table border=\"1\" class=\"dataframe\">\n",
              "  <thead>\n",
              "    <tr style=\"text-align: right;\">\n",
              "      <th></th>\n",
              "      <th>T_ITE</th>\n",
              "      <th>X_ITE</th>\n",
              "      <th>T_ITE LB</th>\n",
              "      <th>X_ITE LB</th>\n",
              "      <th>T_ITE UB</th>\n",
              "      <th>X_ITE UB</th>\n",
              "      <th>Random</th>\n",
              "    </tr>\n",
              "  </thead>\n",
              "  <tbody>\n",
              "    <tr>\n",
              "      <th>0.0</th>\n",
              "      <td>0.000000</td>\n",
              "      <td>0.000000</td>\n",
              "      <td>0.000000</td>\n",
              "      <td>0.000000</td>\n",
              "      <td>0.000000</td>\n",
              "      <td>0.000000</td>\n",
              "      <td>0.000000</td>\n",
              "    </tr>\n",
              "    <tr>\n",
              "      <th>0.2</th>\n",
              "      <td>145.574117</td>\n",
              "      <td>181.985489</td>\n",
              "      <td>-159.649584</td>\n",
              "      <td>-114.332927</td>\n",
              "      <td>450.797818</td>\n",
              "      <td>478.303906</td>\n",
              "      <td>247.373053</td>\n",
              "    </tr>\n",
              "    <tr>\n",
              "      <th>0.4</th>\n",
              "      <td>440.666505</td>\n",
              "      <td>652.783310</td>\n",
              "      <td>-158.505299</td>\n",
              "      <td>1.122498</td>\n",
              "      <td>1039.838310</td>\n",
              "      <td>1304.444122</td>\n",
              "      <td>494.746106</td>\n",
              "    </tr>\n",
              "    <tr>\n",
              "      <th>0.6</th>\n",
              "      <td>732.386346</td>\n",
              "      <td>640.496073</td>\n",
              "      <td>-203.488526</td>\n",
              "      <td>-254.323932</td>\n",
              "      <td>1668.261217</td>\n",
              "      <td>1535.316079</td>\n",
              "      <td>742.119159</td>\n",
              "    </tr>\n",
              "    <tr>\n",
              "      <th>0.8</th>\n",
              "      <td>1000.128689</td>\n",
              "      <td>1057.125227</td>\n",
              "      <td>-223.276742</td>\n",
              "      <td>-103.443170</td>\n",
              "      <td>2223.534120</td>\n",
              "      <td>2217.693625</td>\n",
              "      <td>989.492212</td>\n",
              "    </tr>\n",
              "    <tr>\n",
              "      <th>1.0</th>\n",
              "      <td>1236.865265</td>\n",
              "      <td>1236.865265</td>\n",
              "      <td>568.791316</td>\n",
              "      <td>568.791316</td>\n",
              "      <td>1904.939215</td>\n",
              "      <td>1904.939215</td>\n",
              "      <td>1236.865265</td>\n",
              "    </tr>\n",
              "  </tbody>\n",
              "</table>\n",
              "</div>"
            ],
            "text/plain": [
              "           T_ITE        X_ITE  ...     X_ITE UB       Random\n",
              "0.0     0.000000     0.000000  ...     0.000000     0.000000\n",
              "0.2   145.574117   181.985489  ...   478.303906   247.373053\n",
              "0.4   440.666505   652.783310  ...  1304.444122   494.746106\n",
              "0.6   732.386346   640.496073  ...  1535.316079   742.119159\n",
              "0.8  1000.128689  1057.125227  ...  2217.693625   989.492212\n",
              "1.0  1236.865265  1236.865265  ...  1904.939215  1236.865265\n",
              "\n",
              "[6 rows x 7 columns]"
            ]
          },
          "metadata": {
            "tags": []
          },
          "execution_count": 120
        }
      ]
    },
    {
      "cell_type": "code",
      "metadata": {
        "id": "jOJClvS47Pj7",
        "colab_type": "code",
        "colab": {
          "base_uri": "https://localhost:8080/",
          "height": 611
        },
        "outputId": "83ded3de-8a92-472a-dd4d-513629927377"
      },
      "source": [
        "plot_tmlegain(df=data,inference_col=FEATURE_COLUMNS, \n",
        "              learner=XGBRegressor(n_estimators=1000, random_state=SEED),\n",
        "              outcome_col=OUTCOME_COLUMN, treatment_col=TREATMENT_COLUMN, p_col=PS_COLUMN,\n",
        "              n_segment=10)"
      ],
      "execution_count": 121,
      "outputs": [
        {
          "output_type": "stream",
          "text": [
            "[02:56:31] WARNING: /workspace/src/objective/regression_obj.cu:152: reg:linear is now deprecated in favor of reg:squarederror.\n",
            "[02:56:31] WARNING: /workspace/src/objective/regression_obj.cu:152: reg:linear is now deprecated in favor of reg:squarederror.\n",
            "[02:56:32] WARNING: /workspace/src/objective/regression_obj.cu:152: reg:linear is now deprecated in favor of reg:squarederror.\n"
          ],
          "name": "stdout"
        },
        {
          "output_type": "display_data",
          "data": {
            "image/png": "[encoded data removed]",
            "text/plain": [
              "<Figure size 576x576 with 1 Axes>"
            ]
          },
          "metadata": {
            "tags": []
          }
        }
      ]
    },
    {
      "cell_type": "code",
      "metadata": {
        "id": "f7DFed6B-Lob",
        "colab_type": "code",
        "colab": {
          "base_uri": "https://localhost:8080/",
          "height": 611
        },
        "outputId": "a00b8d8c-bd0b-4725-cc0d-53d1fa0cac5c"
      },
      "source": [
        "plot_tmleqini(df=data,inference_col=FEATURE_COLUMNS, \n",
        "              learner=XGBRegressor(n_estimators=1000, random_state=SEED),\n",
        "              outcome_col=OUTCOME_COLUMN, treatment_col=TREATMENT_COLUMN, p_col=PS_COLUMN,\n",
        "              n_segment=10)"
      ],
      "execution_count": 122,
      "outputs": [
        {
          "output_type": "stream",
          "text": [
            "[02:56:32] WARNING: /workspace/src/objective/regression_obj.cu:152: reg:linear is now deprecated in favor of reg:squarederror.\n",
            "[02:56:33] WARNING: /workspace/src/objective/regression_obj.cu:152: reg:linear is now deprecated in favor of reg:squarederror.\n",
            "[02:56:33] WARNING: /workspace/src/objective/regression_obj.cu:152: reg:linear is now deprecated in favor of reg:squarederror.\n"
          ],
          "name": "stdout"
        },
        {
          "output_type": "display_data",
          "data": {
            "image/png": "[encoded data removed]",
            "text/plain": [
              "<Figure size 576x576 with 1 Axes>"
            ]
          },
          "metadata": {
            "tags": []
          }
        }
      ]
    },
    {
      "cell_type": "markdown",
      "metadata": {
        "id": "AoN6_fJrOJgD",
        "colab_type": "text"
      },
      "source": [
        "## T-Learnerについて感度分析\n",
        "元のデータを一部変化させることで、推定された因果効果のロバスト性を確認する分析手法<br>\n",
        "causalmlドキュメントに挙げられている感度分析の種類\n",
        "* Placebo Treatment\n",
        "* Irrelevant Additional Confounder\n",
        "* Subset validation\n",
        "* Random Replace\n",
        "* Selection Bias\n"
      ]
    },
    {
      "cell_type": "code",
      "metadata": {
        "id": "-Qkxsl8_SgZk",
        "colab_type": "code",
        "colab": {
          "base_uri": "https://localhost:8080/",
          "height": 222
        },
        "outputId": "944a79c5-0d88-4e96-e34a-ac51260b4975"
      },
      "source": [
        "data.head()"
      ],
      "execution_count": 126,
      "outputs": [
        {
          "output_type": "execute_result",
          "data": {
            "text/html": [
              "<div>\n",
              "<style scoped>\n",
              "    .dataframe tbody tr th:only-of-type {\n",
              "        vertical-align: middle;\n",
              "    }\n",
              "\n",
              "    .dataframe tbody tr th {\n",
              "        vertical-align: top;\n",
              "    }\n",
              "\n",
              "    .dataframe thead th {\n",
              "        text-align: right;\n",
              "    }\n",
              "</style>\n",
              "<table border=\"1\" class=\"dataframe\">\n",
              "  <thead>\n",
              "    <tr style=\"text-align: right;\">\n",
              "      <th></th>\n",
              "      <th>ps</th>\n",
              "      <th>T_ITE</th>\n",
              "      <th>X_ITE</th>\n",
              "      <th>age</th>\n",
              "      <th>educ</th>\n",
              "      <th>black</th>\n",
              "      <th>hisp</th>\n",
              "      <th>married</th>\n",
              "      <th>nodegr</th>\n",
              "      <th>re74</th>\n",
              "      <th>re75</th>\n",
              "      <th>re78</th>\n",
              "      <th>u74</th>\n",
              "      <th>u75</th>\n",
              "      <th>treat</th>\n",
              "    </tr>\n",
              "  </thead>\n",
              "  <tbody>\n",
              "    <tr>\n",
              "      <th>0</th>\n",
              "      <td>0.476768</td>\n",
              "      <td>3257.140137</td>\n",
              "      <td>6900.692383</td>\n",
              "      <td>37</td>\n",
              "      <td>11</td>\n",
              "      <td>1</td>\n",
              "      <td>0</td>\n",
              "      <td>1</td>\n",
              "      <td>1</td>\n",
              "      <td>0.0</td>\n",
              "      <td>0.0</td>\n",
              "      <td>9930.05</td>\n",
              "      <td>1</td>\n",
              "      <td>1</td>\n",
              "      <td>1</td>\n",
              "    </tr>\n",
              "    <tr>\n",
              "      <th>1</th>\n",
              "      <td>0.514861</td>\n",
              "      <td>8398.496094</td>\n",
              "      <td>7879.037109</td>\n",
              "      <td>22</td>\n",
              "      <td>9</td>\n",
              "      <td>0</td>\n",
              "      <td>1</td>\n",
              "      <td>0</td>\n",
              "      <td>1</td>\n",
              "      <td>0.0</td>\n",
              "      <td>0.0</td>\n",
              "      <td>3595.89</td>\n",
              "      <td>1</td>\n",
              "      <td>1</td>\n",
              "      <td>1</td>\n",
              "    </tr>\n",
              "    <tr>\n",
              "      <th>2</th>\n",
              "      <td>0.514861</td>\n",
              "      <td>143.145752</td>\n",
              "      <td>35.841721</td>\n",
              "      <td>30</td>\n",
              "      <td>12</td>\n",
              "      <td>1</td>\n",
              "      <td>0</td>\n",
              "      <td>0</td>\n",
              "      <td>0</td>\n",
              "      <td>0.0</td>\n",
              "      <td>0.0</td>\n",
              "      <td>24909.50</td>\n",
              "      <td>1</td>\n",
              "      <td>1</td>\n",
              "      <td>1</td>\n",
              "    </tr>\n",
              "    <tr>\n",
              "      <th>3</th>\n",
              "      <td>0.476768</td>\n",
              "      <td>-1892.088867</td>\n",
              "      <td>-1349.422241</td>\n",
              "      <td>27</td>\n",
              "      <td>11</td>\n",
              "      <td>1</td>\n",
              "      <td>0</td>\n",
              "      <td>0</td>\n",
              "      <td>1</td>\n",
              "      <td>0.0</td>\n",
              "      <td>0.0</td>\n",
              "      <td>7506.15</td>\n",
              "      <td>1</td>\n",
              "      <td>1</td>\n",
              "      <td>1</td>\n",
              "    </tr>\n",
              "    <tr>\n",
              "      <th>4</th>\n",
              "      <td>0.476768</td>\n",
              "      <td>-2784.637695</td>\n",
              "      <td>3199.215820</td>\n",
              "      <td>33</td>\n",
              "      <td>8</td>\n",
              "      <td>1</td>\n",
              "      <td>0</td>\n",
              "      <td>0</td>\n",
              "      <td>1</td>\n",
              "      <td>0.0</td>\n",
              "      <td>0.0</td>\n",
              "      <td>289.79</td>\n",
              "      <td>1</td>\n",
              "      <td>1</td>\n",
              "      <td>1</td>\n",
              "    </tr>\n",
              "  </tbody>\n",
              "</table>\n",
              "</div>"
            ],
            "text/plain": [
              "         ps        T_ITE        X_ITE  age  ...      re78  u74  u75  treat\n",
              "0  0.476768  3257.140137  6900.692383   37  ...   9930.05    1    1      1\n",
              "1  0.514861  8398.496094  7879.037109   22  ...   3595.89    1    1      1\n",
              "2  0.514861   143.145752    35.841721   30  ...  24909.50    1    1      1\n",
              "3  0.476768 -1892.088867 -1349.422241   27  ...   7506.15    1    1      1\n",
              "4  0.476768 -2784.637695  3199.215820   33  ...    289.79    1    1      1\n",
              "\n",
              "[5 rows x 15 columns]"
            ]
          },
          "metadata": {
            "tags": []
          },
          "execution_count": 126
        }
      ]
    },
    {
      "cell_type": "code",
      "metadata": {
        "id": "wqPLmOB2PM0p",
        "colab_type": "code",
        "colab": {
          "base_uri": "https://localhost:8080/",
          "height": 127
        },
        "outputId": "fc377663-7735-4b6d-a87a-ea5341184ef4"
      },
      "source": [
        "# Sensitivityクラスのインスタンス化\n",
        "sensitivity = Sensitivity(df=data.drop(columns=['X_ITE']),\n",
        "                          inference_features=FEATURE_COLUMNS,\n",
        "                          p_col=PS_COLUMN, treatment_col=TREATMENT_COLUMN,\n",
        "                          outcome_col=OUTCOME_COLUMN, learner=t_learner)\n",
        "# ATEの再確認\n",
        "s_ate_ci = sensitivity.get_ate_ci(X=learner_input_X, p=learner_input_ps,\n",
        "                                  treatment=learner_input_t, y=learner_input_y)\n",
        "print('ATE:{ate}'.format(ate=s_ate_ci[0]))\n",
        "print('信頼区間の下限値(LB):{lb}'.format(lb=s_ate_ci[1]))\n",
        "print('信頼区間の上限値(UB):{ub}'.format(ub=s_ate_ci[2]))"
      ],
      "execution_count": 127,
      "outputs": [
        {
          "output_type": "stream",
          "text": [
            "[02:59:07] WARNING: /workspace/src/objective/regression_obj.cu:152: reg:linear is now deprecated in favor of reg:squarederror.\n",
            "[02:59:07] WARNING: /workspace/src/objective/regression_obj.cu:152: reg:linear is now deprecated in favor of reg:squarederror.\n",
            "ATE:1933.7731893475136\n",
            "信頼区間の下限値(LB):1033.5334511635929\n",
            "信頼区間の上限値(UB):2834.0129275314343\n"
          ],
          "name": "stdout"
        }
      ]
    },
    {
      "cell_type": "code",
      "metadata": {
        "id": "d2XGk5PePF0n",
        "colab_type": "code",
        "colab": {
          "base_uri": "https://localhost:8080/",
          "height": 35
        },
        "outputId": "901ecead-894f-4c3d-c00a-07881c3bb521"
      },
      "source": [
        "# causalmlで使用可能な感度分析一覧\n",
        "sensitivity_methods = ['Placebo Treatment', 'Random Cause',\n",
        "                      'Subset Data', 'Random Replace', \n",
        "                      'Selection Bias']\n",
        "sensitivity_methods"
      ],
      "execution_count": 128,
      "outputs": [
        {
          "output_type": "execute_result",
          "data": {
            "text/html": [
              "['Placebo Treatment', 'Random Cause', 'Subset Data', 'Random Replace', 'Selection Bias']"
            ],
            "text/plain": [
              "['Placebo Treatment',\n",
              " 'Random Cause',\n",
              " 'Subset Data',\n",
              " 'Random Replace',\n",
              " 'Selection Bias']"
            ]
          },
          "metadata": {
            "tags": []
          },
          "execution_count": 128
        }
      ]
    },
    {
      "cell_type": "markdown",
      "metadata": {
        "id": "B5QphDYIK7iV",
        "colab_type": "text"
      },
      "source": [
        "confound引数に渡せる関数一覧\n",
        "* one_sided\n",
        "* alignment\n",
        "* one_sided_att\n",
        "* alignment_att<br>\n",
        "[詳細：https://www.mattblackwell.org/files/papers/causalsens.pdf](https://www.mattblackwell.org/files/papers/causalsens.pdf)"
      ]
    },
    {
      "cell_type": "markdown",
      "metadata": {
        "id": "r0fZIOe9TwXJ",
        "colab_type": "text"
      },
      "source": [
        "### sample_size=0.2"
      ]
    },
    {
      "cell_type": "code",
      "metadata": {
        "id": "pEIMOCwbQ6l2",
        "colab_type": "code",
        "colab": {
          "base_uri": "https://localhost:8080/",
          "height": 1000
        },
        "outputId": "a7f66446-1567-4d97-a505-8723ca52a130"
      },
      "source": [
        "%%time\n",
        "sensitivity_result = sensitivity.sensitivity_analysis(methods=sensitivity_methods,\n",
        "                                             sample_size=0.2, confound='alignment_att')"
      ],
      "execution_count": 132,
      "outputs": [
        {
          "output_type": "stream",
          "text": [
            "[03:00:41] WARNING: /workspace/src/objective/regression_obj.cu:152: reg:linear is now deprecated in favor of reg:squarederror.\n",
            "[03:00:42] WARNING: /workspace/src/objective/regression_obj.cu:152: reg:linear is now deprecated in favor of reg:squarederror.\n",
            "[03:00:42] WARNING: /workspace/src/objective/regression_obj.cu:152: reg:linear is now deprecated in favor of reg:squarederror.\n",
            "[03:00:42] WARNING: /workspace/src/objective/regression_obj.cu:152: reg:linear is now deprecated in favor of reg:squarederror.\n",
            "[03:00:42] WARNING: /workspace/src/objective/regression_obj.cu:152: reg:linear is now deprecated in favor of reg:squarederror.\n",
            "[03:00:42] WARNING: /workspace/src/objective/regression_obj.cu:152: reg:linear is now deprecated in favor of reg:squarederror.\n",
            "[03:00:42] WARNING: /workspace/src/objective/regression_obj.cu:152: reg:linear is now deprecated in favor of reg:squarederror.\n",
            "[03:00:43] WARNING: /workspace/src/objective/regression_obj.cu:152: reg:linear is now deprecated in favor of reg:squarederror.\n",
            "[03:00:43] WARNING: /workspace/src/objective/regression_obj.cu:152: reg:linear is now deprecated in favor of reg:squarederror.\n",
            "[03:00:43] WARNING: /workspace/src/objective/regression_obj.cu:152: reg:linear is now deprecated in favor of reg:squarederror.\n",
            "[03:00:43] WARNING: /workspace/src/objective/regression_obj.cu:152: reg:linear is now deprecated in favor of reg:squarederror.\n",
            "[03:00:43] WARNING: /workspace/src/objective/regression_obj.cu:152: reg:linear is now deprecated in favor of reg:squarederror.\n",
            "[03:00:43] WARNING: /workspace/src/objective/regression_obj.cu:152: reg:linear is now deprecated in favor of reg:squarederror.\n",
            "[03:00:43] WARNING: /workspace/src/objective/regression_obj.cu:152: reg:linear is now deprecated in favor of reg:squarederror.\n",
            "[03:00:43] WARNING: /workspace/src/objective/regression_obj.cu:152: reg:linear is now deprecated in favor of reg:squarederror.\n",
            "[03:00:44] WARNING: /workspace/src/objective/regression_obj.cu:152: reg:linear is now deprecated in favor of reg:squarederror.\n",
            "[03:00:44] WARNING: /workspace/src/objective/regression_obj.cu:152: reg:linear is now deprecated in favor of reg:squarederror.\n",
            "[03:00:44] WARNING: /workspace/src/objective/regression_obj.cu:152: reg:linear is now deprecated in favor of reg:squarederror.\n",
            "[03:00:44] WARNING: /workspace/src/objective/regression_obj.cu:152: reg:linear is now deprecated in favor of reg:squarederror.\n",
            "[03:00:44] WARNING: /workspace/src/objective/regression_obj.cu:152: reg:linear is now deprecated in favor of reg:squarederror.\n",
            "[03:00:44] WARNING: /workspace/src/objective/regression_obj.cu:152: reg:linear is now deprecated in favor of reg:squarederror.\n",
            "[03:00:45] WARNING: /workspace/src/objective/regression_obj.cu:152: reg:linear is now deprecated in favor of reg:squarederror.\n",
            "[03:00:45] WARNING: /workspace/src/objective/regression_obj.cu:152: reg:linear is now deprecated in favor of reg:squarederror.\n",
            "[03:00:45] WARNING: /workspace/src/objective/regression_obj.cu:152: reg:linear is now deprecated in favor of reg:squarederror.\n",
            "[03:00:45] WARNING: /workspace/src/objective/regression_obj.cu:152: reg:linear is now deprecated in favor of reg:squarederror.\n",
            "[03:00:45] WARNING: /workspace/src/objective/regression_obj.cu:152: reg:linear is now deprecated in favor of reg:squarederror.\n",
            "[03:00:45] WARNING: /workspace/src/objective/regression_obj.cu:152: reg:linear is now deprecated in favor of reg:squarederror.\n",
            "[03:00:46] WARNING: /workspace/src/objective/regression_obj.cu:152: reg:linear is now deprecated in favor of reg:squarederror.\n",
            "[03:00:46] WARNING: /workspace/src/objective/regression_obj.cu:152: reg:linear is now deprecated in favor of reg:squarederror.\n",
            "[03:00:46] WARNING: /workspace/src/objective/regression_obj.cu:152: reg:linear is now deprecated in favor of reg:squarederror.\n",
            "[03:00:46] WARNING: /workspace/src/objective/regression_obj.cu:152: reg:linear is now deprecated in favor of reg:squarederror.\n",
            "[03:00:46] WARNING: /workspace/src/objective/regression_obj.cu:152: reg:linear is now deprecated in favor of reg:squarederror.\n",
            "[03:00:46] WARNING: /workspace/src/objective/regression_obj.cu:152: reg:linear is now deprecated in favor of reg:squarederror.\n",
            "[03:00:47] WARNING: /workspace/src/objective/regression_obj.cu:152: reg:linear is now deprecated in favor of reg:squarederror.\n",
            "[03:00:47] WARNING: /workspace/src/objective/regression_obj.cu:152: reg:linear is now deprecated in favor of reg:squarederror.\n",
            "[03:00:47] WARNING: /workspace/src/objective/regression_obj.cu:152: reg:linear is now deprecated in favor of reg:squarederror.\n",
            "[03:00:47] WARNING: /workspace/src/objective/regression_obj.cu:152: reg:linear is now deprecated in favor of reg:squarederror.\n",
            "[03:00:47] WARNING: /workspace/src/objective/regression_obj.cu:152: reg:linear is now deprecated in favor of reg:squarederror.\n",
            "[03:00:47] WARNING: /workspace/src/objective/regression_obj.cu:152: reg:linear is now deprecated in favor of reg:squarederror.\n",
            "[03:00:48] WARNING: /workspace/src/objective/regression_obj.cu:152: reg:linear is now deprecated in favor of reg:squarederror.\n",
            "[03:00:48] WARNING: /workspace/src/objective/regression_obj.cu:152: reg:linear is now deprecated in favor of reg:squarederror.\n",
            "[03:00:48] WARNING: /workspace/src/objective/regression_obj.cu:152: reg:linear is now deprecated in favor of reg:squarederror.\n",
            "[03:00:48] WARNING: /workspace/src/objective/regression_obj.cu:152: reg:linear is now deprecated in favor of reg:squarederror.\n",
            "[03:00:48] WARNING: /workspace/src/objective/regression_obj.cu:152: reg:linear is now deprecated in favor of reg:squarederror.\n",
            "[03:00:48] WARNING: /workspace/src/objective/regression_obj.cu:152: reg:linear is now deprecated in favor of reg:squarederror.\n",
            "[03:00:48] WARNING: /workspace/src/objective/regression_obj.cu:152: reg:linear is now deprecated in favor of reg:squarederror.\n",
            "[03:00:49] WARNING: /workspace/src/objective/regression_obj.cu:152: reg:linear is now deprecated in favor of reg:squarederror.\n",
            "[03:00:49] WARNING: /workspace/src/objective/regression_obj.cu:152: reg:linear is now deprecated in favor of reg:squarederror.\n",
            "[03:00:49] WARNING: /workspace/src/objective/regression_obj.cu:152: reg:linear is now deprecated in favor of reg:squarederror.\n",
            "[03:00:49] WARNING: /workspace/src/objective/regression_obj.cu:152: reg:linear is now deprecated in favor of reg:squarederror.\n",
            "[03:00:49] WARNING: /workspace/src/objective/regression_obj.cu:152: reg:linear is now deprecated in favor of reg:squarederror.\n",
            "[03:00:49] WARNING: /workspace/src/objective/regression_obj.cu:152: reg:linear is now deprecated in favor of reg:squarederror.\n",
            "[03:00:50] WARNING: /workspace/src/objective/regression_obj.cu:152: reg:linear is now deprecated in favor of reg:squarederror.\n",
            "[03:00:50] WARNING: /workspace/src/objective/regression_obj.cu:152: reg:linear is now deprecated in favor of reg:squarederror.\n",
            "[03:00:50] WARNING: /workspace/src/objective/regression_obj.cu:152: reg:linear is now deprecated in favor of reg:squarederror.\n",
            "[03:00:50] WARNING: /workspace/src/objective/regression_obj.cu:152: reg:linear is now deprecated in favor of reg:squarederror.\n",
            "[03:00:50] WARNING: /workspace/src/objective/regression_obj.cu:152: reg:linear is now deprecated in favor of reg:squarederror.\n",
            "[03:00:50] WARNING: /workspace/src/objective/regression_obj.cu:152: reg:linear is now deprecated in favor of reg:squarederror.\n",
            "[03:00:51] WARNING: /workspace/src/objective/regression_obj.cu:152: reg:linear is now deprecated in favor of reg:squarederror.\n",
            "[03:00:51] WARNING: /workspace/src/objective/regression_obj.cu:152: reg:linear is now deprecated in favor of reg:squarederror.\n",
            "[03:00:51] WARNING: /workspace/src/objective/regression_obj.cu:152: reg:linear is now deprecated in favor of reg:squarederror.\n",
            "[03:00:51] WARNING: /workspace/src/objective/regression_obj.cu:152: reg:linear is now deprecated in favor of reg:squarederror.\n",
            "[03:00:51] WARNING: /workspace/src/objective/regression_obj.cu:152: reg:linear is now deprecated in favor of reg:squarederror.\n",
            "[03:00:51] WARNING: /workspace/src/objective/regression_obj.cu:152: reg:linear is now deprecated in favor of reg:squarederror.\n",
            "[03:00:52] WARNING: /workspace/src/objective/regression_obj.cu:152: reg:linear is now deprecated in favor of reg:squarederror.\n",
            "[03:00:52] WARNING: /workspace/src/objective/regression_obj.cu:152: reg:linear is now deprecated in favor of reg:squarederror.\n",
            "[03:00:52] WARNING: /workspace/src/objective/regression_obj.cu:152: reg:linear is now deprecated in favor of reg:squarederror.\n",
            "[03:00:52] WARNING: /workspace/src/objective/regression_obj.cu:152: reg:linear is now deprecated in favor of reg:squarederror.\n",
            "[03:00:52] WARNING: /workspace/src/objective/regression_obj.cu:152: reg:linear is now deprecated in favor of reg:squarederror.\n",
            "[03:00:52] WARNING: /workspace/src/objective/regression_obj.cu:152: reg:linear is now deprecated in favor of reg:squarederror.\n",
            "[03:00:53] WARNING: /workspace/src/objective/regression_obj.cu:152: reg:linear is now deprecated in favor of reg:squarederror.\n",
            "[03:00:53] WARNING: /workspace/src/objective/regression_obj.cu:152: reg:linear is now deprecated in favor of reg:squarederror.\n",
            "[03:00:53] WARNING: /workspace/src/objective/regression_obj.cu:152: reg:linear is now deprecated in favor of reg:squarederror.\n",
            "[03:00:53] WARNING: /workspace/src/objective/regression_obj.cu:152: reg:linear is now deprecated in favor of reg:squarederror.\n",
            "[03:00:53] WARNING: /workspace/src/objective/regression_obj.cu:152: reg:linear is now deprecated in favor of reg:squarederror.\n",
            "[03:00:53] WARNING: /workspace/src/objective/regression_obj.cu:152: reg:linear is now deprecated in favor of reg:squarederror.\n",
            "[03:00:53] WARNING: /workspace/src/objective/regression_obj.cu:152: reg:linear is now deprecated in favor of reg:squarederror.\n",
            "[03:00:54] WARNING: /workspace/src/objective/regression_obj.cu:152: reg:linear is now deprecated in favor of reg:squarederror.\n",
            "[03:00:54] WARNING: /workspace/src/objective/regression_obj.cu:152: reg:linear is now deprecated in favor of reg:squarederror.\n",
            "[03:00:54] WARNING: /workspace/src/objective/regression_obj.cu:152: reg:linear is now deprecated in favor of reg:squarederror.\n",
            "[03:00:54] WARNING: /workspace/src/objective/regression_obj.cu:152: reg:linear is now deprecated in favor of reg:squarederror.\n",
            "[03:00:54] WARNING: /workspace/src/objective/regression_obj.cu:152: reg:linear is now deprecated in favor of reg:squarederror.\n",
            "[03:00:54] WARNING: /workspace/src/objective/regression_obj.cu:152: reg:linear is now deprecated in favor of reg:squarederror.\n",
            "[03:00:55] WARNING: /workspace/src/objective/regression_obj.cu:152: reg:linear is now deprecated in favor of reg:squarederror.\n",
            "[03:00:55] WARNING: /workspace/src/objective/regression_obj.cu:152: reg:linear is now deprecated in favor of reg:squarederror.\n",
            "[03:00:55] WARNING: /workspace/src/objective/regression_obj.cu:152: reg:linear is now deprecated in favor of reg:squarederror.\n",
            "CPU times: user 13.3 s, sys: 438 ms, total: 13.7 s\n",
            "Wall time: 13.7 s\n"
          ],
          "name": "stdout"
        }
      ]
    },
    {
      "cell_type": "code",
      "metadata": {
        "id": "LwmGEAOeUuXH",
        "colab_type": "code",
        "colab": {
          "base_uri": "https://localhost:8080/",
          "height": 539
        },
        "outputId": "0c154e01-2400-4bca-bc58-05bc66121b50"
      },
      "source": [
        "pd.options.display.max_colwidth = 100\n",
        "sensitivity_result"
      ],
      "execution_count": 133,
      "outputs": [
        {
          "output_type": "execute_result",
          "data": {
            "text/html": [
              "<div>\n",
              "<style scoped>\n",
              "    .dataframe tbody tr th:only-of-type {\n",
              "        vertical-align: middle;\n",
              "    }\n",
              "\n",
              "    .dataframe tbody tr th {\n",
              "        vertical-align: top;\n",
              "    }\n",
              "\n",
              "    .dataframe thead th {\n",
              "        text-align: right;\n",
              "    }\n",
              "</style>\n",
              "<table border=\"1\" class=\"dataframe\">\n",
              "  <thead>\n",
              "    <tr style=\"text-align: right;\">\n",
              "      <th></th>\n",
              "      <th>Method</th>\n",
              "      <th>ATE</th>\n",
              "      <th>New ATE</th>\n",
              "      <th>New ATE LB</th>\n",
              "      <th>New ATE UB</th>\n",
              "    </tr>\n",
              "  </thead>\n",
              "  <tbody>\n",
              "    <tr>\n",
              "      <th>0</th>\n",
              "      <td>Placebo Treatment</td>\n",
              "      <td>1933.77</td>\n",
              "      <td>1311.37</td>\n",
              "      <td>485.301</td>\n",
              "      <td>2137.43</td>\n",
              "    </tr>\n",
              "    <tr>\n",
              "      <th>0</th>\n",
              "      <td>Random Cause</td>\n",
              "      <td>1933.77</td>\n",
              "      <td>1770.9</td>\n",
              "      <td>1049.94</td>\n",
              "      <td>2491.86</td>\n",
              "    </tr>\n",
              "    <tr>\n",
              "      <th>0</th>\n",
              "      <td>Subset Data(sample size @0.2)</td>\n",
              "      <td>1933.77</td>\n",
              "      <td>3828.6</td>\n",
              "      <td>1661.23</td>\n",
              "      <td>5995.96</td>\n",
              "    </tr>\n",
              "    <tr>\n",
              "      <th>0</th>\n",
              "      <td>Random Replace</td>\n",
              "      <td>1933.77</td>\n",
              "      <td>1768.67</td>\n",
              "      <td>1033.21</td>\n",
              "      <td>2504.13</td>\n",
              "    </tr>\n",
              "    <tr>\n",
              "      <th>0</th>\n",
              "      <td>Selection Bias (alpha@-4062.36, with r-sqaure:0.04209</td>\n",
              "      <td>1933.77</td>\n",
              "      <td>-2130.43</td>\n",
              "      <td>-3031.72</td>\n",
              "      <td>-1229.13</td>\n",
              "    </tr>\n",
              "    <tr>\n",
              "      <th>0</th>\n",
              "      <td>Selection Bias (alpha@-3249.888, with r-sqaure:0.02728</td>\n",
              "      <td>1933.77</td>\n",
              "      <td>-1338.7</td>\n",
              "      <td>-2239.59</td>\n",
              "      <td>-437.802</td>\n",
              "    </tr>\n",
              "    <tr>\n",
              "      <th>0</th>\n",
              "      <td>Selection Bias (alpha@-2437.416, with r-sqaure:0.01549</td>\n",
              "      <td>1933.77</td>\n",
              "      <td>-503.643</td>\n",
              "      <td>-1404.96</td>\n",
              "      <td>397.676</td>\n",
              "    </tr>\n",
              "    <tr>\n",
              "      <th>0</th>\n",
              "      <td>Selection Bias (alpha@-1624.944, with r-sqaure:0.00685</td>\n",
              "      <td>1933.77</td>\n",
              "      <td>261.44</td>\n",
              "      <td>-640.262</td>\n",
              "      <td>1163.14</td>\n",
              "    </tr>\n",
              "    <tr>\n",
              "      <th>0</th>\n",
              "      <td>Selection Bias (alpha@-812.472, with r-sqaure:0.00171</td>\n",
              "      <td>1933.77</td>\n",
              "      <td>1102.63</td>\n",
              "      <td>199.513</td>\n",
              "      <td>2005.74</td>\n",
              "    </tr>\n",
              "    <tr>\n",
              "      <th>0</th>\n",
              "      <td>Selection Bias (alpha@-0.0, with r-sqaure:0.0</td>\n",
              "      <td>1933.77</td>\n",
              "      <td>1933.77</td>\n",
              "      <td>1033.53</td>\n",
              "      <td>2834.01</td>\n",
              "    </tr>\n",
              "    <tr>\n",
              "      <th>0</th>\n",
              "      <td>Selection Bias (alpha@0.0, with r-sqaure:0.0</td>\n",
              "      <td>1933.77</td>\n",
              "      <td>1933.77</td>\n",
              "      <td>1033.53</td>\n",
              "      <td>2834.01</td>\n",
              "    </tr>\n",
              "    <tr>\n",
              "      <th>0</th>\n",
              "      <td>Selection Bias (alpha@812.472, with r-sqaure:0.00169</td>\n",
              "      <td>1933.77</td>\n",
              "      <td>2747.1</td>\n",
              "      <td>1844.14</td>\n",
              "      <td>3650.06</td>\n",
              "    </tr>\n",
              "    <tr>\n",
              "      <th>0</th>\n",
              "      <td>Selection Bias (alpha@1624.944, with r-sqaure:0.00664</td>\n",
              "      <td>1933.77</td>\n",
              "      <td>3507.84</td>\n",
              "      <td>2605.01</td>\n",
              "      <td>4410.66</td>\n",
              "    </tr>\n",
              "    <tr>\n",
              "      <th>0</th>\n",
              "      <td>Selection Bias (alpha@2437.416, with r-sqaure:0.01472</td>\n",
              "      <td>1933.77</td>\n",
              "      <td>4314.15</td>\n",
              "      <td>3411.32</td>\n",
              "      <td>5216.98</td>\n",
              "    </tr>\n",
              "    <tr>\n",
              "      <th>0</th>\n",
              "      <td>Selection Bias (alpha@3249.888, with r-sqaure:0.02567</td>\n",
              "      <td>1933.77</td>\n",
              "      <td>5175.82</td>\n",
              "      <td>4273.63</td>\n",
              "      <td>6078</td>\n",
              "    </tr>\n",
              "    <tr>\n",
              "      <th>0</th>\n",
              "      <td>Selection Bias (alpha@4062.36, with r-sqaure:0.03941</td>\n",
              "      <td>1933.77</td>\n",
              "      <td>5995.13</td>\n",
              "      <td>5094.53</td>\n",
              "      <td>6895.73</td>\n",
              "    </tr>\n",
              "  </tbody>\n",
              "</table>\n",
              "</div>"
            ],
            "text/plain": [
              "                                                   Method  ... New ATE UB\n",
              "0                                       Placebo Treatment  ...    2137.43\n",
              "0                                            Random Cause  ...    2491.86\n",
              "0                           Subset Data(sample size @0.2)  ...    5995.96\n",
              "0                                          Random Replace  ...    2504.13\n",
              "0   Selection Bias (alpha@-4062.36, with r-sqaure:0.04209  ...   -1229.13\n",
              "0  Selection Bias (alpha@-3249.888, with r-sqaure:0.02728  ...   -437.802\n",
              "0  Selection Bias (alpha@-2437.416, with r-sqaure:0.01549  ...    397.676\n",
              "0  Selection Bias (alpha@-1624.944, with r-sqaure:0.00685  ...    1163.14\n",
              "0   Selection Bias (alpha@-812.472, with r-sqaure:0.00171  ...    2005.74\n",
              "0           Selection Bias (alpha@-0.0, with r-sqaure:0.0  ...    2834.01\n",
              "0            Selection Bias (alpha@0.0, with r-sqaure:0.0  ...    2834.01\n",
              "0    Selection Bias (alpha@812.472, with r-sqaure:0.00169  ...    3650.06\n",
              "0   Selection Bias (alpha@1624.944, with r-sqaure:0.00664  ...    4410.66\n",
              "0   Selection Bias (alpha@2437.416, with r-sqaure:0.01472  ...    5216.98\n",
              "0   Selection Bias (alpha@3249.888, with r-sqaure:0.02567  ...       6078\n",
              "0    Selection Bias (alpha@4062.36, with r-sqaure:0.03941  ...    6895.73\n",
              "\n",
              "[16 rows x 5 columns]"
            ]
          },
          "metadata": {
            "tags": []
          },
          "execution_count": 133
        }
      ]
    },
    {
      "cell_type": "code",
      "metadata": {
        "id": "r43VLXUbYR7P",
        "colab_type": "code",
        "colab": {}
      },
      "source": [
        ""
      ],
      "execution_count": null,
      "outputs": []
    }
  ]
}