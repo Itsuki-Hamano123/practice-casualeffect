{
  "nbformat": 4,
  "nbformat_minor": 0,
  "metadata": {
    "colab": {
      "name": "cm_causality.ipynb",
      "provenance": [],
      "collapsed_sections": [],
      "toc_visible": true,
      "mount_file_id": "15LiD8A6OexI5NfRH3Iak7IAqRJZ5OpaO",
      "authorship_tag": "ABX9TyNnlg3QrXMNdkhXdYSV5YzQ",
      "include_colab_link": true
    },
    "kernelspec": {
      "name": "python3",
      "display_name": "Python 3"
    },
    "accelerator": "GPU"
  },
  "cells": [
    {
      "cell_type": "markdown",
      "metadata": {
        "id": "view-in-github",
        "colab_type": "text"
      },
      "source": [
        "<a href=\"https://colab.research.google.com/github/Itsuki-Hamano123/practice-casualeffect/blob/master/econml/cm_causality.ipynb\" target=\"_parent\"><img src=\"https://colab.research.google.com/assets/colab-badge.svg\" alt=\"Open In Colab\"/></a>"
      ]
    },
    {
      "cell_type": "markdown",
      "metadata": {
        "id": "AWJdkDNoBk4-",
        "colab_type": "text"
      },
      "source": [
        "### ライブラリのインストール\n",
        "- econml（マイクロソフト）"
      ]
    },
    {
      "cell_type": "code",
      "metadata": {
        "id": "PJEmsXuy--k9",
        "colab_type": "code",
        "outputId": "f08c17ba-46f8-45b6-98cf-2420bc4e422c",
        "colab": {
          "base_uri": "https://localhost:8080/",
          "height": 1000
        }
      },
      "source": [
        "!pip install econml"
      ],
      "execution_count": 0,
      "outputs": [
        {
          "output_type": "stream",
          "text": [
            "Collecting econml\n",
            "\u001b[?25l  Downloading https://files.pythonhosted.org/packages/98/30/9b89a34fa81f2b591671a15fca844ef6f5d9764e2951ef9e30ad2967cdfa/econml-0.7.0-py3-none-any.whl (312kB)\n",
            "\r\u001b[K     |█                               | 10kB 7.7MB/s eta 0:00:01\r\u001b[K     |██                              | 20kB 1.4MB/s eta 0:00:01\r\u001b[K     |███▏                            | 30kB 1.9MB/s eta 0:00:01\r\u001b[K     |████▏                           | 40kB 1.5MB/s eta 0:00:01\r\u001b[K     |█████▎                          | 51kB 1.8MB/s eta 0:00:01\r\u001b[K     |██████▎                         | 61kB 2.1MB/s eta 0:00:01\r\u001b[K     |███████▍                        | 71kB 2.2MB/s eta 0:00:01\r\u001b[K     |████████▍                       | 81kB 2.5MB/s eta 0:00:01\r\u001b[K     |█████████▍                      | 92kB 2.7MB/s eta 0:00:01\r\u001b[K     |██████████▌                     | 102kB 2.6MB/s eta 0:00:01\r\u001b[K     |███████████▌                    | 112kB 2.6MB/s eta 0:00:01\r\u001b[K     |████████████▋                   | 122kB 2.6MB/s eta 0:00:01\r\u001b[K     |█████████████▋                  | 133kB 2.6MB/s eta 0:00:01\r\u001b[K     |██████████████▊                 | 143kB 2.6MB/s eta 0:00:01\r\u001b[K     |███████████████▊                | 153kB 2.6MB/s eta 0:00:01\r\u001b[K     |████████████████▉               | 163kB 2.6MB/s eta 0:00:01\r\u001b[K     |█████████████████▉              | 174kB 2.6MB/s eta 0:00:01\r\u001b[K     |██████████████████▉             | 184kB 2.6MB/s eta 0:00:01\r\u001b[K     |████████████████████            | 194kB 2.6MB/s eta 0:00:01\r\u001b[K     |█████████████████████           | 204kB 2.6MB/s eta 0:00:01\r\u001b[K     |██████████████████████          | 215kB 2.6MB/s eta 0:00:01\r\u001b[K     |███████████████████████         | 225kB 2.6MB/s eta 0:00:01\r\u001b[K     |████████████████████████▏       | 235kB 2.6MB/s eta 0:00:01\r\u001b[K     |█████████████████████████▏      | 245kB 2.6MB/s eta 0:00:01\r\u001b[K     |██████████████████████████▏     | 256kB 2.6MB/s eta 0:00:01\r\u001b[K     |███████████████████████████▎    | 266kB 2.6MB/s eta 0:00:01\r\u001b[K     |████████████████████████████▎   | 276kB 2.6MB/s eta 0:00:01\r\u001b[K     |█████████████████████████████▍  | 286kB 2.6MB/s eta 0:00:01\r\u001b[K     |██████████████████████████████▍ | 296kB 2.6MB/s eta 0:00:01\r\u001b[K     |███████████████████████████████▌| 307kB 2.6MB/s eta 0:00:01\r\u001b[K     |████████████████████████████████| 317kB 2.6MB/s \n",
            "\u001b[?25hRequirement already satisfied: numpy in /usr/local/lib/python3.6/dist-packages (from econml) (1.18.4)\n",
            "Collecting scikit-learn~=0.21.0\n",
            "\u001b[?25l  Downloading https://files.pythonhosted.org/packages/a0/c5/d2238762d780dde84a20b8c761f563fe882b88c5a5fb03c056547c442a19/scikit_learn-0.21.3-cp36-cp36m-manylinux1_x86_64.whl (6.7MB)\n",
            "\u001b[K     |████████████████████████████████| 6.7MB 44kB/s \n",
            "\u001b[?25hRequirement already satisfied: keras in /usr/local/lib/python3.6/dist-packages (from econml) (2.3.1)\n",
            "Requirement already satisfied: graphviz in /usr/local/lib/python3.6/dist-packages (from econml) (0.10.1)\n",
            "Requirement already satisfied: joblib>=0.13.0 in /usr/local/lib/python3.6/dist-packages (from econml) (0.14.1)\n",
            "Collecting sparse\n",
            "\u001b[?25l  Downloading https://files.pythonhosted.org/packages/3a/25/562a0cebb6fc36f16989469350ac96e9dbe2cc11dba0c22c34d0eff2f5dd/sparse-0.10.0-py2.py3-none-any.whl (64kB)\n",
            "\u001b[K     |████████████████████████████████| 71kB 9.3MB/s \n",
            "\u001b[?25hRequirement already satisfied: numba!=0.42.1 in /usr/local/lib/python3.6/dist-packages (from econml) (0.48.0)\n",
            "Requirement already satisfied: statsmodels>=0.9 in /usr/local/lib/python3.6/dist-packages (from econml) (0.10.2)\n",
            "Collecting tensorflow==1.*\n",
            "\u001b[?25l  Downloading https://files.pythonhosted.org/packages/02/36/9a02e27f0ec248b676a380ffe910c1858e3af3027c0d4d513dd0b56a5613/tensorflow-1.15.3-cp36-cp36m-manylinux2010_x86_64.whl (110.5MB)\n",
            "\u001b[K     |████████████████████████████████| 110.5MB 37kB/s \n",
            "\u001b[?25hRequirement already satisfied: pandas in /usr/local/lib/python3.6/dist-packages (from econml) (1.0.3)\n",
            "Requirement already satisfied: matplotlib; python_version > \"3.5\" in /usr/local/lib/python3.6/dist-packages (from econml) (3.2.1)\n",
            "Requirement already satisfied: scipy!=1.4.0 in /usr/local/lib/python3.6/dist-packages (from econml) (1.4.1)\n",
            "Requirement already satisfied: pyyaml in /usr/local/lib/python3.6/dist-packages (from keras->econml) (3.13)\n",
            "Requirement already satisfied: h5py in /usr/local/lib/python3.6/dist-packages (from keras->econml) (2.10.0)\n",
            "Requirement already satisfied: keras-preprocessing>=1.0.5 in /usr/local/lib/python3.6/dist-packages (from keras->econml) (1.1.0)\n",
            "Requirement already satisfied: keras-applications>=1.0.6 in /usr/local/lib/python3.6/dist-packages (from keras->econml) (1.0.8)\n",
            "Requirement already satisfied: six>=1.9.0 in /usr/local/lib/python3.6/dist-packages (from keras->econml) (1.12.0)\n",
            "Requirement already satisfied: setuptools in /usr/local/lib/python3.6/dist-packages (from numba!=0.42.1->econml) (46.3.0)\n",
            "Requirement already satisfied: llvmlite<0.32.0,>=0.31.0dev0 in /usr/local/lib/python3.6/dist-packages (from numba!=0.42.1->econml) (0.31.0)\n",
            "Requirement already satisfied: patsy>=0.4.0 in /usr/local/lib/python3.6/dist-packages (from statsmodels>=0.9->econml) (0.5.1)\n",
            "Requirement already satisfied: opt-einsum>=2.3.2 in /usr/local/lib/python3.6/dist-packages (from tensorflow==1.*->econml) (3.2.1)\n",
            "Requirement already satisfied: protobuf>=3.6.1 in /usr/local/lib/python3.6/dist-packages (from tensorflow==1.*->econml) (3.10.0)\n",
            "Requirement already satisfied: wrapt>=1.11.1 in /usr/local/lib/python3.6/dist-packages (from tensorflow==1.*->econml) (1.12.1)\n",
            "Requirement already satisfied: termcolor>=1.1.0 in /usr/local/lib/python3.6/dist-packages (from tensorflow==1.*->econml) (1.1.0)\n",
            "Requirement already satisfied: astor>=0.6.0 in /usr/local/lib/python3.6/dist-packages (from tensorflow==1.*->econml) (0.8.1)\n",
            "Requirement already satisfied: google-pasta>=0.1.6 in /usr/local/lib/python3.6/dist-packages (from tensorflow==1.*->econml) (0.2.0)\n",
            "Requirement already satisfied: absl-py>=0.7.0 in /usr/local/lib/python3.6/dist-packages (from tensorflow==1.*->econml) (0.9.0)\n",
            "Collecting gast==0.2.2\n",
            "  Downloading https://files.pythonhosted.org/packages/4e/35/11749bf99b2d4e3cceb4d55ca22590b0d7c2c62b9de38ac4a4a7f4687421/gast-0.2.2.tar.gz\n",
            "Collecting tensorflow-estimator==1.15.1\n",
            "\u001b[?25l  Downloading https://files.pythonhosted.org/packages/de/62/2ee9cd74c9fa2fa450877847ba560b260f5d0fb70ee0595203082dafcc9d/tensorflow_estimator-1.15.1-py2.py3-none-any.whl (503kB)\n",
            "\u001b[K     |████████████████████████████████| 512kB 28.9MB/s \n",
            "\u001b[?25hRequirement already satisfied: grpcio>=1.8.6 in /usr/local/lib/python3.6/dist-packages (from tensorflow==1.*->econml) (1.28.1)\n",
            "Requirement already satisfied: wheel>=0.26; python_version >= \"3\" in /usr/local/lib/python3.6/dist-packages (from tensorflow==1.*->econml) (0.34.2)\n",
            "Collecting tensorboard<1.16.0,>=1.15.0\n",
            "\u001b[?25l  Downloading https://files.pythonhosted.org/packages/1e/e9/d3d747a97f7188f48aa5eda486907f3b345cd409f0a0850468ba867db246/tensorboard-1.15.0-py3-none-any.whl (3.8MB)\n",
            "\u001b[K     |████████████████████████████████| 3.8MB 39.1MB/s \n",
            "\u001b[?25hRequirement already satisfied: python-dateutil>=2.6.1 in /usr/local/lib/python3.6/dist-packages (from pandas->econml) (2.8.1)\n",
            "Requirement already satisfied: pytz>=2017.2 in /usr/local/lib/python3.6/dist-packages (from pandas->econml) (2018.9)\n",
            "Requirement already satisfied: kiwisolver>=1.0.1 in /usr/local/lib/python3.6/dist-packages (from matplotlib; python_version > \"3.5\"->econml) (1.2.0)\n",
            "Requirement already satisfied: cycler>=0.10 in /usr/local/lib/python3.6/dist-packages (from matplotlib; python_version > \"3.5\"->econml) (0.10.0)\n",
            "Requirement already satisfied: pyparsing!=2.0.4,!=2.1.2,!=2.1.6,>=2.0.1 in /usr/local/lib/python3.6/dist-packages (from matplotlib; python_version > \"3.5\"->econml) (2.4.7)\n",
            "Requirement already satisfied: markdown>=2.6.8 in /usr/local/lib/python3.6/dist-packages (from tensorboard<1.16.0,>=1.15.0->tensorflow==1.*->econml) (3.2.1)\n",
            "Requirement already satisfied: werkzeug>=0.11.15 in /usr/local/lib/python3.6/dist-packages (from tensorboard<1.16.0,>=1.15.0->tensorflow==1.*->econml) (1.0.1)\n",
            "Building wheels for collected packages: gast\n",
            "  Building wheel for gast (setup.py) ... \u001b[?25l\u001b[?25hdone\n",
            "  Created wheel for gast: filename=gast-0.2.2-cp36-none-any.whl size=7540 sha256=8ec328e8bb067b2722b48b0f63805211ab01856fa1ca9f1a5bac92c44eaa4b73\n",
            "  Stored in directory: /root/.cache/pip/wheels/5c/2e/7e/a1d4d4fcebe6c381f378ce7743a3ced3699feb89bcfbdadadd\n",
            "Successfully built gast\n",
            "\u001b[31mERROR: tensorflow-probability 0.10.0rc0 has requirement gast>=0.3.2, but you'll have gast 0.2.2 which is incompatible.\u001b[0m\n",
            "\u001b[31mERROR: sparse 0.10.0 has requirement numba>=0.49, but you'll have numba 0.48.0 which is incompatible.\u001b[0m\n",
            "Installing collected packages: scikit-learn, sparse, gast, tensorflow-estimator, tensorboard, tensorflow, econml\n",
            "  Found existing installation: scikit-learn 0.22.2.post1\n",
            "    Uninstalling scikit-learn-0.22.2.post1:\n",
            "      Successfully uninstalled scikit-learn-0.22.2.post1\n",
            "  Found existing installation: gast 0.3.3\n",
            "    Uninstalling gast-0.3.3:\n",
            "      Successfully uninstalled gast-0.3.3\n",
            "  Found existing installation: tensorflow-estimator 2.2.0\n",
            "    Uninstalling tensorflow-estimator-2.2.0:\n",
            "      Successfully uninstalled tensorflow-estimator-2.2.0\n",
            "  Found existing installation: tensorboard 2.2.1\n",
            "    Uninstalling tensorboard-2.2.1:\n",
            "      Successfully uninstalled tensorboard-2.2.1\n",
            "  Found existing installation: tensorflow 2.2.0\n",
            "    Uninstalling tensorflow-2.2.0:\n",
            "      Successfully uninstalled tensorflow-2.2.0\n",
            "Successfully installed econml-0.7.0 gast-0.2.2 scikit-learn-0.21.3 sparse-0.10.0 tensorboard-1.15.0 tensorflow-1.15.3 tensorflow-estimator-1.15.1\n"
          ],
          "name": "stdout"
        }
      ]
    },
    {
      "cell_type": "code",
      "metadata": {
        "id": "A_FV1wR5-geJ",
        "colab_type": "code",
        "outputId": "de3f6cac-0d7e-481b-f718-75bbdb4e8a22",
        "colab": {
          "base_uri": "https://localhost:8080/",
          "height": 127
        }
      },
      "source": [
        "from google.colab import drive\n",
        "drive.mount('/gdrive')"
      ],
      "execution_count": 0,
      "outputs": [
        {
          "output_type": "stream",
          "text": [
            "Go to this URL in a browser: https://accounts.google.com/o/oauth2/auth?client_id=947318989803-6bn6qk8qdgf4n4g3pfee6491hc0brc4i.apps.googleusercontent.com&redirect_uri=urn%3aietf%3awg%3aoauth%3a2.0%3aoob&response_type=code&scope=email%20https%3a%2f%2fwww.googleapis.com%2fauth%2fdocs.test%20https%3a%2f%2fwww.googleapis.com%2fauth%2fdrive%20https%3a%2f%2fwww.googleapis.com%2fauth%2fdrive.photos.readonly%20https%3a%2f%2fwww.googleapis.com%2fauth%2fpeopleapi.readonly\n",
            "\n",
            "Enter your authorization code:\n",
            "··········\n",
            "Mounted at /gdrive\n"
          ],
          "name": "stdout"
        }
      ]
    },
    {
      "cell_type": "code",
      "metadata": {
        "id": "fqNgJ3JD94RO",
        "colab_type": "code",
        "outputId": "85d4560d-9ef8-4ea9-f3ea-d82839bcb7ed",
        "colab": {
          "base_uri": "https://localhost:8080/",
          "height": 35
        }
      },
      "source": [
        "cd /gdrive/My Drive/機械学習練習/統計的因果推論/因果推論実践用/econML"
      ],
      "execution_count": 0,
      "outputs": [
        {
          "output_type": "stream",
          "text": [
            "/gdrive/My Drive/機械学習練習/統計的因果推論/因果推論実践用/econML\n"
          ],
          "name": "stdout"
        }
      ]
    },
    {
      "cell_type": "code",
      "metadata": {
        "id": "UzIC-Cuu--HR",
        "colab_type": "code",
        "outputId": "c8fbf042-178d-4539-d3b7-03d3396ac85e",
        "colab": {
          "base_uri": "https://localhost:8080/",
          "height": 35
        }
      },
      "source": [
        "ls"
      ],
      "execution_count": 0,
      "outputs": [
        {
          "output_type": "stream",
          "text": [
            "cm_causality.ipynb  econML_readDocumet.ipynb  \u001b[0m\u001b[01;34mmodel\u001b[0m/\n"
          ],
          "name": "stdout"
        }
      ]
    },
    {
      "cell_type": "markdown",
      "metadata": {
        "id": "ftsPh0li_EjM",
        "colab_type": "text"
      },
      "source": [
        "# アプリのCMを見たことで、アプリの利用時間がどのくらい増加したか分析（CATEの算出）"
      ]
    },
    {
      "cell_type": "markdown",
      "metadata": {
        "id": "MjjM4t4bQSaq",
        "colab_type": "text"
      },
      "source": [
        "## 1. データの前処理\n",
        "\n",
        "\n",
        "\n",
        "\n"
      ]
    },
    {
      "cell_type": "markdown",
      "metadata": {
        "id": "MMAHi43cByQO",
        "colab_type": "text"
      },
      "source": [
        "### 分析対象のデータ読み込み"
      ]
    },
    {
      "cell_type": "code",
      "metadata": {
        "id": "4gDj95jfBxw3",
        "colab_type": "code",
        "colab": {}
      },
      "source": [
        "import datetime\n",
        "from pprint import pprint\n",
        "\n",
        "import matplotlib.pyplot as plt\n",
        "import numpy as np\n",
        "import pandas as pd"
      ],
      "execution_count": 0,
      "outputs": []
    },
    {
      "cell_type": "code",
      "metadata": {
        "id": "tG20tfpeDZuQ",
        "colab_type": "code",
        "colab": {}
      },
      "source": [
        "DATA_DIR = \"../datasets\"\n",
        "CSV_FIEL = \"game_cm_abtest.csv\"\n",
        "data_path = DATA_DIR + \"/\" + CSV_FIEL"
      ],
      "execution_count": 0,
      "outputs": []
    },
    {
      "cell_type": "code",
      "metadata": {
        "id": "nBy21EmzEE9B",
        "colab_type": "code",
        "outputId": "0608c775-e351-480a-d18d-d8b890ed7c91",
        "colab": {
          "base_uri": "https://localhost:8080/",
          "height": 161
        }
      },
      "source": [
        "read_data = pd.read_csv(data_path)\n",
        "read_data.head(3)"
      ],
      "execution_count": 0,
      "outputs": [
        {
          "output_type": "execute_result",
          "data": {
            "text/html": [
              "<div>\n",
              "<style scoped>\n",
              "    .dataframe tbody tr th:only-of-type {\n",
              "        vertical-align: middle;\n",
              "    }\n",
              "\n",
              "    .dataframe tbody tr th {\n",
              "        vertical-align: top;\n",
              "    }\n",
              "\n",
              "    .dataframe thead th {\n",
              "        text-align: right;\n",
              "    }\n",
              "</style>\n",
              "<table border=\"1\" class=\"dataframe\">\n",
              "  <thead>\n",
              "    <tr style=\"text-align: right;\">\n",
              "      <th></th>\n",
              "      <th>cm_dummy</th>\n",
              "      <th>gamedummy</th>\n",
              "      <th>area_kanto</th>\n",
              "      <th>area_keihan</th>\n",
              "      <th>area_tokai</th>\n",
              "      <th>area_keihanshin</th>\n",
              "      <th>age</th>\n",
              "      <th>sex</th>\n",
              "      <th>marry_dummy</th>\n",
              "      <th>job_dummy1</th>\n",
              "      <th>job_dummy2</th>\n",
              "      <th>job_dummy3</th>\n",
              "      <th>job_dummy4</th>\n",
              "      <th>job_dummy5</th>\n",
              "      <th>job_dummy6</th>\n",
              "      <th>job_dummy7</th>\n",
              "      <th>job_dummy8</th>\n",
              "      <th>inc</th>\n",
              "      <th>pmoney</th>\n",
              "      <th>fam_str_dummy1</th>\n",
              "      <th>fam_str_dummy2</th>\n",
              "      <th>fam_str_dummy3</th>\n",
              "      <th>fam_str_dummy4</th>\n",
              "      <th>fam_str_dummy5</th>\n",
              "      <th>child_dummy</th>\n",
              "      <th>T</th>\n",
              "      <th>F1</th>\n",
              "      <th>F2</th>\n",
              "      <th>F3</th>\n",
              "      <th>M1</th>\n",
              "      <th>M2</th>\n",
              "      <th>M3</th>\n",
              "      <th>TVwatch_day</th>\n",
              "      <th>gamesecond</th>\n",
              "      <th>gamecount</th>\n",
              "    </tr>\n",
              "  </thead>\n",
              "  <tbody>\n",
              "    <tr>\n",
              "      <th>0</th>\n",
              "      <td>0</td>\n",
              "      <td>0</td>\n",
              "      <td>0</td>\n",
              "      <td>0</td>\n",
              "      <td>0</td>\n",
              "      <td>1</td>\n",
              "      <td>44.5</td>\n",
              "      <td>1</td>\n",
              "      <td>1</td>\n",
              "      <td>1</td>\n",
              "      <td>0</td>\n",
              "      <td>0</td>\n",
              "      <td>0</td>\n",
              "      <td>0</td>\n",
              "      <td>0</td>\n",
              "      <td>0</td>\n",
              "      <td>0</td>\n",
              "      <td>249.5</td>\n",
              "      <td>0.0</td>\n",
              "      <td>0</td>\n",
              "      <td>0</td>\n",
              "      <td>1</td>\n",
              "      <td>0</td>\n",
              "      <td>0</td>\n",
              "      <td>1</td>\n",
              "      <td>0</td>\n",
              "      <td>0</td>\n",
              "      <td>0</td>\n",
              "      <td>0</td>\n",
              "      <td>0</td>\n",
              "      <td>1</td>\n",
              "      <td>0</td>\n",
              "      <td>33.427600</td>\n",
              "      <td>0</td>\n",
              "      <td>0</td>\n",
              "    </tr>\n",
              "    <tr>\n",
              "      <th>1</th>\n",
              "      <td>0</td>\n",
              "      <td>0</td>\n",
              "      <td>0</td>\n",
              "      <td>1</td>\n",
              "      <td>0</td>\n",
              "      <td>0</td>\n",
              "      <td>34.5</td>\n",
              "      <td>1</td>\n",
              "      <td>1</td>\n",
              "      <td>1</td>\n",
              "      <td>0</td>\n",
              "      <td>0</td>\n",
              "      <td>0</td>\n",
              "      <td>0</td>\n",
              "      <td>0</td>\n",
              "      <td>0</td>\n",
              "      <td>0</td>\n",
              "      <td>800.0</td>\n",
              "      <td>12.5</td>\n",
              "      <td>0</td>\n",
              "      <td>0</td>\n",
              "      <td>1</td>\n",
              "      <td>0</td>\n",
              "      <td>0</td>\n",
              "      <td>1</td>\n",
              "      <td>0</td>\n",
              "      <td>0</td>\n",
              "      <td>0</td>\n",
              "      <td>0</td>\n",
              "      <td>0</td>\n",
              "      <td>1</td>\n",
              "      <td>0</td>\n",
              "      <td>31.542862</td>\n",
              "      <td>0</td>\n",
              "      <td>0</td>\n",
              "    </tr>\n",
              "    <tr>\n",
              "      <th>2</th>\n",
              "      <td>0</td>\n",
              "      <td>0</td>\n",
              "      <td>0</td>\n",
              "      <td>1</td>\n",
              "      <td>0</td>\n",
              "      <td>0</td>\n",
              "      <td>24.5</td>\n",
              "      <td>1</td>\n",
              "      <td>0</td>\n",
              "      <td>0</td>\n",
              "      <td>0</td>\n",
              "      <td>0</td>\n",
              "      <td>0</td>\n",
              "      <td>0</td>\n",
              "      <td>0</td>\n",
              "      <td>1</td>\n",
              "      <td>0</td>\n",
              "      <td>0.0</td>\n",
              "      <td>2.0</td>\n",
              "      <td>0</td>\n",
              "      <td>0</td>\n",
              "      <td>0</td>\n",
              "      <td>1</td>\n",
              "      <td>0</td>\n",
              "      <td>0</td>\n",
              "      <td>0</td>\n",
              "      <td>0</td>\n",
              "      <td>0</td>\n",
              "      <td>0</td>\n",
              "      <td>1</td>\n",
              "      <td>0</td>\n",
              "      <td>0</td>\n",
              "      <td>37.825805</td>\n",
              "      <td>0</td>\n",
              "      <td>0</td>\n",
              "    </tr>\n",
              "  </tbody>\n",
              "</table>\n",
              "</div>"
            ],
            "text/plain": [
              "   cm_dummy  gamedummy  area_kanto  ...  TVwatch_day  gamesecond  gamecount\n",
              "0         0          0           0  ...    33.427600           0          0\n",
              "1         0          0           0  ...    31.542862           0          0\n",
              "2         0          0           0  ...    37.825805           0          0\n",
              "\n",
              "[3 rows x 35 columns]"
            ]
          },
          "metadata": {
            "tags": []
          },
          "execution_count": 8
        }
      ]
    },
    {
      "cell_type": "code",
      "metadata": {
        "id": "_od91IH6OI7i",
        "colab_type": "code",
        "outputId": "2c486b75-9cc5-4dce-b252-b55bd6570cdb",
        "colab": {
          "base_uri": "https://localhost:8080/",
          "height": 314
        }
      },
      "source": [
        "# 欠損数及び統計量の確認\n",
        "read_data.describe()"
      ],
      "execution_count": 0,
      "outputs": [
        {
          "output_type": "execute_result",
          "data": {
            "text/html": [
              "<div>\n",
              "<style scoped>\n",
              "    .dataframe tbody tr th:only-of-type {\n",
              "        vertical-align: middle;\n",
              "    }\n",
              "\n",
              "    .dataframe tbody tr th {\n",
              "        vertical-align: top;\n",
              "    }\n",
              "\n",
              "    .dataframe thead th {\n",
              "        text-align: right;\n",
              "    }\n",
              "</style>\n",
              "<table border=\"1\" class=\"dataframe\">\n",
              "  <thead>\n",
              "    <tr style=\"text-align: right;\">\n",
              "      <th></th>\n",
              "      <th>cm_dummy</th>\n",
              "      <th>gamedummy</th>\n",
              "      <th>area_kanto</th>\n",
              "      <th>area_keihan</th>\n",
              "      <th>area_tokai</th>\n",
              "      <th>area_keihanshin</th>\n",
              "      <th>age</th>\n",
              "      <th>sex</th>\n",
              "      <th>marry_dummy</th>\n",
              "      <th>job_dummy1</th>\n",
              "      <th>job_dummy2</th>\n",
              "      <th>job_dummy3</th>\n",
              "      <th>job_dummy4</th>\n",
              "      <th>job_dummy5</th>\n",
              "      <th>job_dummy6</th>\n",
              "      <th>job_dummy7</th>\n",
              "      <th>job_dummy8</th>\n",
              "      <th>inc</th>\n",
              "      <th>pmoney</th>\n",
              "      <th>fam_str_dummy1</th>\n",
              "      <th>fam_str_dummy2</th>\n",
              "      <th>fam_str_dummy3</th>\n",
              "      <th>fam_str_dummy4</th>\n",
              "      <th>fam_str_dummy5</th>\n",
              "      <th>child_dummy</th>\n",
              "      <th>T</th>\n",
              "      <th>F1</th>\n",
              "      <th>F2</th>\n",
              "      <th>F3</th>\n",
              "      <th>M1</th>\n",
              "      <th>M2</th>\n",
              "      <th>M3</th>\n",
              "      <th>TVwatch_day</th>\n",
              "      <th>gamesecond</th>\n",
              "      <th>gamecount</th>\n",
              "    </tr>\n",
              "  </thead>\n",
              "  <tbody>\n",
              "    <tr>\n",
              "      <th>count</th>\n",
              "      <td>10000.000000</td>\n",
              "      <td>10000.000000</td>\n",
              "      <td>10000.000000</td>\n",
              "      <td>10000.000000</td>\n",
              "      <td>10000.000000</td>\n",
              "      <td>10000.000000</td>\n",
              "      <td>10000.000000</td>\n",
              "      <td>10000.000000</td>\n",
              "      <td>10000.000000</td>\n",
              "      <td>10000.000000</td>\n",
              "      <td>10000.000000</td>\n",
              "      <td>10000.000000</td>\n",
              "      <td>10000.000000</td>\n",
              "      <td>10000.000000</td>\n",
              "      <td>10000.000000</td>\n",
              "      <td>10000.000000</td>\n",
              "      <td>10000.000000</td>\n",
              "      <td>10000.000000</td>\n",
              "      <td>10000.00000</td>\n",
              "      <td>10000.000000</td>\n",
              "      <td>10000.000000</td>\n",
              "      <td>10000.000000</td>\n",
              "      <td>10000.000000</td>\n",
              "      <td>10000.000000</td>\n",
              "      <td>10000.00000</td>\n",
              "      <td>10000.000000</td>\n",
              "      <td>10000.000000</td>\n",
              "      <td>10000.000000</td>\n",
              "      <td>10000.000000</td>\n",
              "      <td>10000.000000</td>\n",
              "      <td>10000.000000</td>\n",
              "      <td>10000.000000</td>\n",
              "      <td>10000.000000</td>\n",
              "      <td>10000.000000</td>\n",
              "      <td>10000.000000</td>\n",
              "    </tr>\n",
              "    <tr>\n",
              "      <th>mean</th>\n",
              "      <td>0.414400</td>\n",
              "      <td>0.074000</td>\n",
              "      <td>0.091200</td>\n",
              "      <td>0.588700</td>\n",
              "      <td>0.111500</td>\n",
              "      <td>0.208600</td>\n",
              "      <td>40.841900</td>\n",
              "      <td>0.640300</td>\n",
              "      <td>0.647000</td>\n",
              "      <td>0.566200</td>\n",
              "      <td>0.054200</td>\n",
              "      <td>0.075900</td>\n",
              "      <td>0.012300</td>\n",
              "      <td>0.117700</td>\n",
              "      <td>0.099900</td>\n",
              "      <td>0.039900</td>\n",
              "      <td>0.033900</td>\n",
              "      <td>357.829700</td>\n",
              "      <td>3.55234</td>\n",
              "      <td>0.148000</td>\n",
              "      <td>0.144800</td>\n",
              "      <td>0.620400</td>\n",
              "      <td>0.069900</td>\n",
              "      <td>0.016900</td>\n",
              "      <td>0.42300</td>\n",
              "      <td>0.013200</td>\n",
              "      <td>0.127800</td>\n",
              "      <td>0.173300</td>\n",
              "      <td>0.052200</td>\n",
              "      <td>0.140300</td>\n",
              "      <td>0.328800</td>\n",
              "      <td>0.164400</td>\n",
              "      <td>8096.497203</td>\n",
              "      <td>2846.783400</td>\n",
              "      <td>9.433300</td>\n",
              "    </tr>\n",
              "    <tr>\n",
              "      <th>std</th>\n",
              "      <td>0.492643</td>\n",
              "      <td>0.261784</td>\n",
              "      <td>0.287908</td>\n",
              "      <td>0.492094</td>\n",
              "      <td>0.314766</td>\n",
              "      <td>0.406328</td>\n",
              "      <td>10.465434</td>\n",
              "      <td>0.479936</td>\n",
              "      <td>0.477927</td>\n",
              "      <td>0.495623</td>\n",
              "      <td>0.226423</td>\n",
              "      <td>0.264851</td>\n",
              "      <td>0.110227</td>\n",
              "      <td>0.322269</td>\n",
              "      <td>0.299882</td>\n",
              "      <td>0.195734</td>\n",
              "      <td>0.180981</td>\n",
              "      <td>267.408383</td>\n",
              "      <td>3.37777</td>\n",
              "      <td>0.355118</td>\n",
              "      <td>0.351917</td>\n",
              "      <td>0.485312</td>\n",
              "      <td>0.254991</td>\n",
              "      <td>0.128903</td>\n",
              "      <td>0.49406</td>\n",
              "      <td>0.114136</td>\n",
              "      <td>0.333884</td>\n",
              "      <td>0.378525</td>\n",
              "      <td>0.222441</td>\n",
              "      <td>0.347315</td>\n",
              "      <td>0.469801</td>\n",
              "      <td>0.370657</td>\n",
              "      <td>7709.497437</td>\n",
              "      <td>17973.608991</td>\n",
              "      <td>54.475214</td>\n",
              "    </tr>\n",
              "    <tr>\n",
              "      <th>min</th>\n",
              "      <td>0.000000</td>\n",
              "      <td>0.000000</td>\n",
              "      <td>0.000000</td>\n",
              "      <td>0.000000</td>\n",
              "      <td>0.000000</td>\n",
              "      <td>0.000000</td>\n",
              "      <td>19.000000</td>\n",
              "      <td>0.000000</td>\n",
              "      <td>0.000000</td>\n",
              "      <td>0.000000</td>\n",
              "      <td>0.000000</td>\n",
              "      <td>0.000000</td>\n",
              "      <td>0.000000</td>\n",
              "      <td>0.000000</td>\n",
              "      <td>0.000000</td>\n",
              "      <td>0.000000</td>\n",
              "      <td>0.000000</td>\n",
              "      <td>0.000000</td>\n",
              "      <td>0.00000</td>\n",
              "      <td>0.000000</td>\n",
              "      <td>0.000000</td>\n",
              "      <td>0.000000</td>\n",
              "      <td>0.000000</td>\n",
              "      <td>0.000000</td>\n",
              "      <td>0.00000</td>\n",
              "      <td>0.000000</td>\n",
              "      <td>0.000000</td>\n",
              "      <td>0.000000</td>\n",
              "      <td>0.000000</td>\n",
              "      <td>0.000000</td>\n",
              "      <td>0.000000</td>\n",
              "      <td>0.000000</td>\n",
              "      <td>29.875270</td>\n",
              "      <td>0.000000</td>\n",
              "      <td>0.000000</td>\n",
              "    </tr>\n",
              "    <tr>\n",
              "      <th>25%</th>\n",
              "      <td>0.000000</td>\n",
              "      <td>0.000000</td>\n",
              "      <td>0.000000</td>\n",
              "      <td>0.000000</td>\n",
              "      <td>0.000000</td>\n",
              "      <td>0.000000</td>\n",
              "      <td>34.500000</td>\n",
              "      <td>0.000000</td>\n",
              "      <td>0.000000</td>\n",
              "      <td>0.000000</td>\n",
              "      <td>0.000000</td>\n",
              "      <td>0.000000</td>\n",
              "      <td>0.000000</td>\n",
              "      <td>0.000000</td>\n",
              "      <td>0.000000</td>\n",
              "      <td>0.000000</td>\n",
              "      <td>0.000000</td>\n",
              "      <td>103.000000</td>\n",
              "      <td>2.00000</td>\n",
              "      <td>0.000000</td>\n",
              "      <td>0.000000</td>\n",
              "      <td>0.000000</td>\n",
              "      <td>0.000000</td>\n",
              "      <td>0.000000</td>\n",
              "      <td>0.00000</td>\n",
              "      <td>0.000000</td>\n",
              "      <td>0.000000</td>\n",
              "      <td>0.000000</td>\n",
              "      <td>0.000000</td>\n",
              "      <td>0.000000</td>\n",
              "      <td>0.000000</td>\n",
              "      <td>0.000000</td>\n",
              "      <td>2502.245967</td>\n",
              "      <td>0.000000</td>\n",
              "      <td>0.000000</td>\n",
              "    </tr>\n",
              "    <tr>\n",
              "      <th>50%</th>\n",
              "      <td>0.000000</td>\n",
              "      <td>0.000000</td>\n",
              "      <td>0.000000</td>\n",
              "      <td>1.000000</td>\n",
              "      <td>0.000000</td>\n",
              "      <td>0.000000</td>\n",
              "      <td>44.500000</td>\n",
              "      <td>1.000000</td>\n",
              "      <td>1.000000</td>\n",
              "      <td>1.000000</td>\n",
              "      <td>0.000000</td>\n",
              "      <td>0.000000</td>\n",
              "      <td>0.000000</td>\n",
              "      <td>0.000000</td>\n",
              "      <td>0.000000</td>\n",
              "      <td>0.000000</td>\n",
              "      <td>0.000000</td>\n",
              "      <td>349.500000</td>\n",
              "      <td>2.00000</td>\n",
              "      <td>0.000000</td>\n",
              "      <td>0.000000</td>\n",
              "      <td>1.000000</td>\n",
              "      <td>0.000000</td>\n",
              "      <td>0.000000</td>\n",
              "      <td>0.00000</td>\n",
              "      <td>0.000000</td>\n",
              "      <td>0.000000</td>\n",
              "      <td>0.000000</td>\n",
              "      <td>0.000000</td>\n",
              "      <td>0.000000</td>\n",
              "      <td>0.000000</td>\n",
              "      <td>0.000000</td>\n",
              "      <td>5944.444520</td>\n",
              "      <td>0.000000</td>\n",
              "      <td>0.000000</td>\n",
              "    </tr>\n",
              "    <tr>\n",
              "      <th>75%</th>\n",
              "      <td>1.000000</td>\n",
              "      <td>0.000000</td>\n",
              "      <td>0.000000</td>\n",
              "      <td>1.000000</td>\n",
              "      <td>0.000000</td>\n",
              "      <td>0.000000</td>\n",
              "      <td>44.500000</td>\n",
              "      <td>1.000000</td>\n",
              "      <td>1.000000</td>\n",
              "      <td>1.000000</td>\n",
              "      <td>0.000000</td>\n",
              "      <td>0.000000</td>\n",
              "      <td>0.000000</td>\n",
              "      <td>0.000000</td>\n",
              "      <td>0.000000</td>\n",
              "      <td>0.000000</td>\n",
              "      <td>0.000000</td>\n",
              "      <td>549.500000</td>\n",
              "      <td>4.00000</td>\n",
              "      <td>0.000000</td>\n",
              "      <td>0.000000</td>\n",
              "      <td>1.000000</td>\n",
              "      <td>0.000000</td>\n",
              "      <td>0.000000</td>\n",
              "      <td>1.00000</td>\n",
              "      <td>0.000000</td>\n",
              "      <td>0.000000</td>\n",
              "      <td>0.000000</td>\n",
              "      <td>0.000000</td>\n",
              "      <td>0.000000</td>\n",
              "      <td>1.000000</td>\n",
              "      <td>0.000000</td>\n",
              "      <td>11154.786148</td>\n",
              "      <td>0.000000</td>\n",
              "      <td>0.000000</td>\n",
              "    </tr>\n",
              "    <tr>\n",
              "      <th>max</th>\n",
              "      <td>1.000000</td>\n",
              "      <td>1.000000</td>\n",
              "      <td>1.000000</td>\n",
              "      <td>1.000000</td>\n",
              "      <td>1.000000</td>\n",
              "      <td>1.000000</td>\n",
              "      <td>60.000000</td>\n",
              "      <td>1.000000</td>\n",
              "      <td>1.000000</td>\n",
              "      <td>1.000000</td>\n",
              "      <td>1.000000</td>\n",
              "      <td>1.000000</td>\n",
              "      <td>1.000000</td>\n",
              "      <td>1.000000</td>\n",
              "      <td>1.000000</td>\n",
              "      <td>1.000000</td>\n",
              "      <td>1.000000</td>\n",
              "      <td>800.000000</td>\n",
              "      <td>20.00000</td>\n",
              "      <td>1.000000</td>\n",
              "      <td>1.000000</td>\n",
              "      <td>1.000000</td>\n",
              "      <td>1.000000</td>\n",
              "      <td>1.000000</td>\n",
              "      <td>1.00000</td>\n",
              "      <td>1.000000</td>\n",
              "      <td>1.000000</td>\n",
              "      <td>1.000000</td>\n",
              "      <td>1.000000</td>\n",
              "      <td>1.000000</td>\n",
              "      <td>1.000000</td>\n",
              "      <td>1.000000</td>\n",
              "      <td>49036.055042</td>\n",
              "      <td>364814.000000</td>\n",
              "      <td>765.000000</td>\n",
              "    </tr>\n",
              "  </tbody>\n",
              "</table>\n",
              "</div>"
            ],
            "text/plain": [
              "           cm_dummy     gamedummy  ...     gamesecond     gamecount\n",
              "count  10000.000000  10000.000000  ...   10000.000000  10000.000000\n",
              "mean       0.414400      0.074000  ...    2846.783400      9.433300\n",
              "std        0.492643      0.261784  ...   17973.608991     54.475214\n",
              "min        0.000000      0.000000  ...       0.000000      0.000000\n",
              "25%        0.000000      0.000000  ...       0.000000      0.000000\n",
              "50%        0.000000      0.000000  ...       0.000000      0.000000\n",
              "75%        1.000000      0.000000  ...       0.000000      0.000000\n",
              "max        1.000000      1.000000  ...  364814.000000    765.000000\n",
              "\n",
              "[8 rows x 35 columns]"
            ]
          },
          "metadata": {
            "tags": []
          },
          "execution_count": 9
        }
      ]
    },
    {
      "cell_type": "code",
      "metadata": {
        "id": "p018J-lLoujI",
        "colab_type": "code",
        "outputId": "e5dc50e3-9075-4f6b-f537-8d24ae0b06d6",
        "colab": {
          "base_uri": "https://localhost:8080/",
          "height": 297
        }
      },
      "source": [
        "# アウトカムの分布を確認\n",
        "read_data[\"gamesecond\"].hist(bins=20)\n",
        "plt.tight_layout()\n",
        "plt.show()"
      ],
      "execution_count": 0,
      "outputs": [
        {
          "output_type": "display_data",
          "data": {
            "image/png": "[encoded data removed]",
            "text/plain": [
              "<Figure size 432x288 with 1 Axes>"
            ]
          },
          "metadata": {
            "tags": [],
            "needs_background": "light"
          }
        }
      ]
    },
    {
      "cell_type": "markdown",
      "metadata": {
        "id": "unkn3XZi517S",
        "colab_type": "text"
      },
      "source": [
        "### データのスケール変換"
      ]
    },
    {
      "cell_type": "code",
      "metadata": {
        "id": "Yjpk4pOg6UUl",
        "colab_type": "code",
        "outputId": "aea12800-bf09-4998-cc9f-c7149d3d10af",
        "colab": {
          "base_uri": "https://localhost:8080/",
          "height": 222
        }
      },
      "source": [
        "# してもしなくても結果はさほど変わらない\n",
        "\"\"\"\n",
        "convert_minute = lambda x : x / 60\n",
        "read_data[\"TVwatch_day_min\"] = read_data[\"TVwatch_day\"].map(convert_minute)\n",
        "read_data[\"gameminute\"] = read_data[\"gamesecond\"].map(convert_minute)\n",
        "read_data.head()\n",
        "\"\"\""
      ],
      "execution_count": 0,
      "outputs": [
        {
          "output_type": "execute_result",
          "data": {
            "text/html": [
              "<div>\n",
              "<style scoped>\n",
              "    .dataframe tbody tr th:only-of-type {\n",
              "        vertical-align: middle;\n",
              "    }\n",
              "\n",
              "    .dataframe tbody tr th {\n",
              "        vertical-align: top;\n",
              "    }\n",
              "\n",
              "    .dataframe thead th {\n",
              "        text-align: right;\n",
              "    }\n",
              "</style>\n",
              "<table border=\"1\" class=\"dataframe\">\n",
              "  <thead>\n",
              "    <tr style=\"text-align: right;\">\n",
              "      <th></th>\n",
              "      <th>cm_dummy</th>\n",
              "      <th>gamedummy</th>\n",
              "      <th>area_kanto</th>\n",
              "      <th>area_keihan</th>\n",
              "      <th>area_tokai</th>\n",
              "      <th>area_keihanshin</th>\n",
              "      <th>age</th>\n",
              "      <th>sex</th>\n",
              "      <th>marry_dummy</th>\n",
              "      <th>job_dummy1</th>\n",
              "      <th>job_dummy2</th>\n",
              "      <th>job_dummy3</th>\n",
              "      <th>job_dummy4</th>\n",
              "      <th>job_dummy5</th>\n",
              "      <th>job_dummy6</th>\n",
              "      <th>job_dummy7</th>\n",
              "      <th>job_dummy8</th>\n",
              "      <th>inc</th>\n",
              "      <th>pmoney</th>\n",
              "      <th>fam_str_dummy1</th>\n",
              "      <th>fam_str_dummy2</th>\n",
              "      <th>fam_str_dummy3</th>\n",
              "      <th>fam_str_dummy4</th>\n",
              "      <th>fam_str_dummy5</th>\n",
              "      <th>child_dummy</th>\n",
              "      <th>T</th>\n",
              "      <th>F1</th>\n",
              "      <th>F2</th>\n",
              "      <th>F3</th>\n",
              "      <th>M1</th>\n",
              "      <th>M2</th>\n",
              "      <th>M3</th>\n",
              "      <th>TVwatch_day</th>\n",
              "      <th>gamesecond</th>\n",
              "      <th>gamecount</th>\n",
              "      <th>TVwatch_day_min</th>\n",
              "      <th>gameminute</th>\n",
              "    </tr>\n",
              "  </thead>\n",
              "  <tbody>\n",
              "    <tr>\n",
              "      <th>0</th>\n",
              "      <td>0</td>\n",
              "      <td>0</td>\n",
              "      <td>0</td>\n",
              "      <td>0</td>\n",
              "      <td>0</td>\n",
              "      <td>1</td>\n",
              "      <td>44.5</td>\n",
              "      <td>1</td>\n",
              "      <td>1</td>\n",
              "      <td>1</td>\n",
              "      <td>0</td>\n",
              "      <td>0</td>\n",
              "      <td>0</td>\n",
              "      <td>0</td>\n",
              "      <td>0</td>\n",
              "      <td>0</td>\n",
              "      <td>0</td>\n",
              "      <td>249.5</td>\n",
              "      <td>0.0</td>\n",
              "      <td>0</td>\n",
              "      <td>0</td>\n",
              "      <td>1</td>\n",
              "      <td>0</td>\n",
              "      <td>0</td>\n",
              "      <td>1</td>\n",
              "      <td>0</td>\n",
              "      <td>0</td>\n",
              "      <td>0</td>\n",
              "      <td>0</td>\n",
              "      <td>0</td>\n",
              "      <td>1</td>\n",
              "      <td>0</td>\n",
              "      <td>33.427600</td>\n",
              "      <td>0</td>\n",
              "      <td>0</td>\n",
              "      <td>0.557127</td>\n",
              "      <td>0.0</td>\n",
              "    </tr>\n",
              "    <tr>\n",
              "      <th>1</th>\n",
              "      <td>0</td>\n",
              "      <td>0</td>\n",
              "      <td>0</td>\n",
              "      <td>1</td>\n",
              "      <td>0</td>\n",
              "      <td>0</td>\n",
              "      <td>34.5</td>\n",
              "      <td>1</td>\n",
              "      <td>1</td>\n",
              "      <td>1</td>\n",
              "      <td>0</td>\n",
              "      <td>0</td>\n",
              "      <td>0</td>\n",
              "      <td>0</td>\n",
              "      <td>0</td>\n",
              "      <td>0</td>\n",
              "      <td>0</td>\n",
              "      <td>800.0</td>\n",
              "      <td>12.5</td>\n",
              "      <td>0</td>\n",
              "      <td>0</td>\n",
              "      <td>1</td>\n",
              "      <td>0</td>\n",
              "      <td>0</td>\n",
              "      <td>1</td>\n",
              "      <td>0</td>\n",
              "      <td>0</td>\n",
              "      <td>0</td>\n",
              "      <td>0</td>\n",
              "      <td>0</td>\n",
              "      <td>1</td>\n",
              "      <td>0</td>\n",
              "      <td>31.542862</td>\n",
              "      <td>0</td>\n",
              "      <td>0</td>\n",
              "      <td>0.525714</td>\n",
              "      <td>0.0</td>\n",
              "    </tr>\n",
              "    <tr>\n",
              "      <th>2</th>\n",
              "      <td>0</td>\n",
              "      <td>0</td>\n",
              "      <td>0</td>\n",
              "      <td>1</td>\n",
              "      <td>0</td>\n",
              "      <td>0</td>\n",
              "      <td>24.5</td>\n",
              "      <td>1</td>\n",
              "      <td>0</td>\n",
              "      <td>0</td>\n",
              "      <td>0</td>\n",
              "      <td>0</td>\n",
              "      <td>0</td>\n",
              "      <td>0</td>\n",
              "      <td>0</td>\n",
              "      <td>1</td>\n",
              "      <td>0</td>\n",
              "      <td>0.0</td>\n",
              "      <td>2.0</td>\n",
              "      <td>0</td>\n",
              "      <td>0</td>\n",
              "      <td>0</td>\n",
              "      <td>1</td>\n",
              "      <td>0</td>\n",
              "      <td>0</td>\n",
              "      <td>0</td>\n",
              "      <td>0</td>\n",
              "      <td>0</td>\n",
              "      <td>0</td>\n",
              "      <td>1</td>\n",
              "      <td>0</td>\n",
              "      <td>0</td>\n",
              "      <td>37.825805</td>\n",
              "      <td>0</td>\n",
              "      <td>0</td>\n",
              "      <td>0.630430</td>\n",
              "      <td>0.0</td>\n",
              "    </tr>\n",
              "    <tr>\n",
              "      <th>3</th>\n",
              "      <td>0</td>\n",
              "      <td>0</td>\n",
              "      <td>0</td>\n",
              "      <td>1</td>\n",
              "      <td>0</td>\n",
              "      <td>0</td>\n",
              "      <td>44.5</td>\n",
              "      <td>1</td>\n",
              "      <td>1</td>\n",
              "      <td>1</td>\n",
              "      <td>0</td>\n",
              "      <td>0</td>\n",
              "      <td>0</td>\n",
              "      <td>0</td>\n",
              "      <td>0</td>\n",
              "      <td>0</td>\n",
              "      <td>0</td>\n",
              "      <td>800.0</td>\n",
              "      <td>2.0</td>\n",
              "      <td>0</td>\n",
              "      <td>0</td>\n",
              "      <td>1</td>\n",
              "      <td>0</td>\n",
              "      <td>0</td>\n",
              "      <td>1</td>\n",
              "      <td>0</td>\n",
              "      <td>0</td>\n",
              "      <td>0</td>\n",
              "      <td>0</td>\n",
              "      <td>0</td>\n",
              "      <td>1</td>\n",
              "      <td>0</td>\n",
              "      <td>36.345911</td>\n",
              "      <td>0</td>\n",
              "      <td>0</td>\n",
              "      <td>0.605765</td>\n",
              "      <td>0.0</td>\n",
              "    </tr>\n",
              "    <tr>\n",
              "      <th>4</th>\n",
              "      <td>0</td>\n",
              "      <td>0</td>\n",
              "      <td>0</td>\n",
              "      <td>1</td>\n",
              "      <td>0</td>\n",
              "      <td>0</td>\n",
              "      <td>34.5</td>\n",
              "      <td>1</td>\n",
              "      <td>1</td>\n",
              "      <td>1</td>\n",
              "      <td>0</td>\n",
              "      <td>0</td>\n",
              "      <td>0</td>\n",
              "      <td>0</td>\n",
              "      <td>0</td>\n",
              "      <td>0</td>\n",
              "      <td>0</td>\n",
              "      <td>749.5</td>\n",
              "      <td>4.0</td>\n",
              "      <td>0</td>\n",
              "      <td>0</td>\n",
              "      <td>1</td>\n",
              "      <td>0</td>\n",
              "      <td>0</td>\n",
              "      <td>1</td>\n",
              "      <td>0</td>\n",
              "      <td>0</td>\n",
              "      <td>0</td>\n",
              "      <td>0</td>\n",
              "      <td>1</td>\n",
              "      <td>0</td>\n",
              "      <td>0</td>\n",
              "      <td>49.344942</td>\n",
              "      <td>0</td>\n",
              "      <td>0</td>\n",
              "      <td>0.822416</td>\n",
              "      <td>0.0</td>\n",
              "    </tr>\n",
              "  </tbody>\n",
              "</table>\n",
              "</div>"
            ],
            "text/plain": [
              "   cm_dummy  gamedummy  area_kanto  ...  gamecount  TVwatch_day_min  gameminute\n",
              "0         0          0           0  ...          0         0.557127         0.0\n",
              "1         0          0           0  ...          0         0.525714         0.0\n",
              "2         0          0           0  ...          0         0.630430         0.0\n",
              "3         0          0           0  ...          0         0.605765         0.0\n",
              "4         0          0           0  ...          0         0.822416         0.0\n",
              "\n",
              "[5 rows x 37 columns]"
            ]
          },
          "metadata": {
            "tags": []
          },
          "execution_count": 11
        }
      ]
    },
    {
      "cell_type": "code",
      "metadata": {
        "id": "nE2mR6QX7xNt",
        "colab_type": "code",
        "outputId": "26d4db5d-22bc-41eb-d79f-367137d1918b",
        "colab": {
          "base_uri": "https://localhost:8080/",
          "height": 35
        }
      },
      "source": [
        "\"\"\"\n",
        "# 欠損数及び統計量の確認\n",
        "read_data.describe()\n",
        "\"\"\""
      ],
      "execution_count": 0,
      "outputs": [
        {
          "output_type": "execute_result",
          "data": {
            "text/plain": [
              "'\\n# 欠損数及び統計量の確認\\nread_data.describe()\\n'"
            ]
          },
          "metadata": {
            "tags": []
          },
          "execution_count": 86
        }
      ]
    },
    {
      "cell_type": "code",
      "metadata": {
        "id": "XaN2Dvlz702u",
        "colab_type": "code",
        "outputId": "1aa0cc8d-64a5-45ba-d4d6-a1e8e6f8a964",
        "colab": {
          "base_uri": "https://localhost:8080/",
          "height": 35
        }
      },
      "source": [
        "\"\"\"\n",
        "# アウトカムの分布を確認\n",
        "read_data[\"gameminute\"].value_counts()\n",
        "\"\"\""
      ],
      "execution_count": 0,
      "outputs": [
        {
          "output_type": "execute_result",
          "data": {
            "text/plain": [
              "'\\n# アウトカムの分布を確認\\nread_data[\"gameminute\"].value_counts()\\n'"
            ]
          },
          "metadata": {
            "tags": []
          },
          "execution_count": 87
        }
      ]
    },
    {
      "cell_type": "markdown",
      "metadata": {
        "id": "qShBdy-Q195o",
        "colab_type": "text"
      },
      "source": [
        "### 列を整理"
      ]
    },
    {
      "cell_type": "code",
      "metadata": {
        "id": "Y60jVhJrJcf3",
        "colab_type": "code",
        "outputId": "66604359-13aa-4747-dbf5-f700335b145f",
        "colab": {
          "base_uri": "https://localhost:8080/",
          "height": 99
        }
      },
      "source": [
        "UNNECESSARY_COLUMNS = [\"gamedummy\", \"gamecount\", \"TVwatch_day_min\", \"gameminute\"]#\"TVwatch_day\", \"gamesecond\"]\n",
        "analysis_data = read_data.drop(columns=UNNECESSARY_COLUMNS)\n",
        "analysis_data.head(1)"
      ],
      "execution_count": 0,
      "outputs": [
        {
          "output_type": "execute_result",
          "data": {
            "text/html": [
              "<div>\n",
              "<style scoped>\n",
              "    .dataframe tbody tr th:only-of-type {\n",
              "        vertical-align: middle;\n",
              "    }\n",
              "\n",
              "    .dataframe tbody tr th {\n",
              "        vertical-align: top;\n",
              "    }\n",
              "\n",
              "    .dataframe thead th {\n",
              "        text-align: right;\n",
              "    }\n",
              "</style>\n",
              "<table border=\"1\" class=\"dataframe\">\n",
              "  <thead>\n",
              "    <tr style=\"text-align: right;\">\n",
              "      <th></th>\n",
              "      <th>cm_dummy</th>\n",
              "      <th>area_kanto</th>\n",
              "      <th>area_keihan</th>\n",
              "      <th>area_tokai</th>\n",
              "      <th>area_keihanshin</th>\n",
              "      <th>age</th>\n",
              "      <th>sex</th>\n",
              "      <th>marry_dummy</th>\n",
              "      <th>job_dummy1</th>\n",
              "      <th>job_dummy2</th>\n",
              "      <th>job_dummy3</th>\n",
              "      <th>job_dummy4</th>\n",
              "      <th>job_dummy5</th>\n",
              "      <th>job_dummy6</th>\n",
              "      <th>job_dummy7</th>\n",
              "      <th>job_dummy8</th>\n",
              "      <th>inc</th>\n",
              "      <th>pmoney</th>\n",
              "      <th>fam_str_dummy1</th>\n",
              "      <th>fam_str_dummy2</th>\n",
              "      <th>fam_str_dummy3</th>\n",
              "      <th>fam_str_dummy4</th>\n",
              "      <th>fam_str_dummy5</th>\n",
              "      <th>child_dummy</th>\n",
              "      <th>T</th>\n",
              "      <th>F1</th>\n",
              "      <th>F2</th>\n",
              "      <th>F3</th>\n",
              "      <th>M1</th>\n",
              "      <th>M2</th>\n",
              "      <th>M3</th>\n",
              "      <th>TVwatch_day</th>\n",
              "      <th>gamesecond</th>\n",
              "    </tr>\n",
              "  </thead>\n",
              "  <tbody>\n",
              "    <tr>\n",
              "      <th>0</th>\n",
              "      <td>0</td>\n",
              "      <td>0</td>\n",
              "      <td>0</td>\n",
              "      <td>0</td>\n",
              "      <td>1</td>\n",
              "      <td>44.5</td>\n",
              "      <td>1</td>\n",
              "      <td>1</td>\n",
              "      <td>1</td>\n",
              "      <td>0</td>\n",
              "      <td>0</td>\n",
              "      <td>0</td>\n",
              "      <td>0</td>\n",
              "      <td>0</td>\n",
              "      <td>0</td>\n",
              "      <td>0</td>\n",
              "      <td>249.5</td>\n",
              "      <td>0.0</td>\n",
              "      <td>0</td>\n",
              "      <td>0</td>\n",
              "      <td>1</td>\n",
              "      <td>0</td>\n",
              "      <td>0</td>\n",
              "      <td>1</td>\n",
              "      <td>0</td>\n",
              "      <td>0</td>\n",
              "      <td>0</td>\n",
              "      <td>0</td>\n",
              "      <td>0</td>\n",
              "      <td>1</td>\n",
              "      <td>0</td>\n",
              "      <td>33.4276</td>\n",
              "      <td>0</td>\n",
              "    </tr>\n",
              "  </tbody>\n",
              "</table>\n",
              "</div>"
            ],
            "text/plain": [
              "   cm_dummy  area_kanto  area_keihan  ...  M3  TVwatch_day  gamesecond\n",
              "0         0           0            0  ...   0      33.4276           0\n",
              "\n",
              "[1 rows x 33 columns]"
            ]
          },
          "metadata": {
            "tags": []
          },
          "execution_count": 58
        }
      ]
    },
    {
      "cell_type": "code",
      "metadata": {
        "id": "MeKA2dHdFfNq",
        "colab_type": "code",
        "colab": {}
      },
      "source": [
        "# 介入変数\n",
        "TREATMENT_COLUMN = \"cm_dummy\"\n",
        "# アウトカム\n",
        "OUTCOME_COLUMN = \"gamesecond\"\n",
        "# 交絡因子\n",
        "COVARIATE_COLUMNS = [c for c in analysis_data.columns if c != TREATMENT_COLUMN and c != OUTCOME_COLUMN]"
      ],
      "execution_count": 0,
      "outputs": []
    },
    {
      "cell_type": "code",
      "metadata": {
        "id": "drLRWMTO75NB",
        "colab_type": "code",
        "outputId": "e13de918-295d-40bc-b5df-0f90668cda38",
        "colab": {
          "base_uri": "https://localhost:8080/",
          "height": 629
        }
      },
      "source": [
        "# 介入群とコントロール群の平均値の差\n",
        "analysis_data[analysis_data[TREATMENT_COLUMN] == 1].mean() - analysis_data[analysis_data[TREATMENT_COLUMN] == 0].mean()"
      ],
      "execution_count": 0,
      "outputs": [
        {
          "output_type": "execute_result",
          "data": {
            "text/plain": [
              "cm_dummy              1.000000\n",
              "area_kanto            0.068021\n",
              "area_keihan           0.192204\n",
              "area_tokai           -0.031341\n",
              "area_keihanshin      -0.228884\n",
              "age                   1.579975\n",
              "sex                  -0.074340\n",
              "marry_dummy           0.039902\n",
              "job_dummy1           -0.082965\n",
              "job_dummy2           -0.006842\n",
              "job_dummy3            0.017089\n",
              "job_dummy4            0.002072\n",
              "job_dummy5            0.065212\n",
              "job_dummy6            0.018962\n",
              "job_dummy7           -0.015801\n",
              "job_dummy8            0.002274\n",
              "inc                 -27.548749\n",
              "pmoney               -0.013721\n",
              "fam_str_dummy1       -0.005898\n",
              "fam_str_dummy2        0.040363\n",
              "fam_str_dummy3        0.003322\n",
              "fam_str_dummy4       -0.032828\n",
              "fam_str_dummy5       -0.004959\n",
              "child_dummy           0.002509\n",
              "T                    -0.000701\n",
              "F1                   -0.025385\n",
              "F2                    0.089769\n",
              "F3                    0.005226\n",
              "M1                   -0.064038\n",
              "M2                   -0.031131\n",
              "M3                    0.026260\n",
              "TVwatch_day        5746.899002\n",
              "gamesecond         -629.640577\n",
              "dtype: float64"
            ]
          },
          "metadata": {
            "tags": []
          },
          "execution_count": 60
        }
      ]
    },
    {
      "cell_type": "markdown",
      "metadata": {
        "id": "yiPR0XQIQEkZ",
        "colab_type": "text"
      },
      "source": [
        "### 訓練データとテストデータに分割"
      ]
    },
    {
      "cell_type": "code",
      "metadata": {
        "id": "qIKn2X8UQCxK",
        "colab_type": "code",
        "colab": {}
      },
      "source": [
        "from sklearn.model_selection import train_test_split"
      ],
      "execution_count": 0,
      "outputs": []
    },
    {
      "cell_type": "code",
      "metadata": {
        "id": "Oo1aaQyGQoVw",
        "colab_type": "code",
        "outputId": "5b28771f-501b-4376-e787-4eab1eb21ca9",
        "colab": {
          "base_uri": "https://localhost:8080/",
          "height": 71
        }
      },
      "source": [
        "train_data, test_data = train_test_split(analysis_data, test_size=0.2, shuffle=True, random_state=7)\n",
        "print(\"分割前のデータサイズ:{size}\".format(size=analysis_data.shape))\n",
        "print(\"訓練データサイズ:{size}\".format(size=train_data.shape))\n",
        "print(\"訓練データサイズ:{size}\".format(size=test_data.shape))"
      ],
      "execution_count": 0,
      "outputs": [
        {
          "output_type": "stream",
          "text": [
            "分割前のデータサイズ:(10000, 33)\n",
            "訓練データサイズ:(8000, 33)\n",
            "訓練データサイズ:(2000, 33)\n"
          ],
          "name": "stdout"
        }
      ]
    },
    {
      "cell_type": "markdown",
      "metadata": {
        "id": "o_cCmVsIq3hN",
        "colab_type": "text"
      },
      "source": [
        "#### アウトカムの統計量の差を確認"
      ]
    },
    {
      "cell_type": "code",
      "metadata": {
        "id": "NS8oNbANrFIk",
        "colab_type": "code",
        "outputId": "1347d05d-1637-4a22-805c-76b6385449c7",
        "colab": {
          "base_uri": "https://localhost:8080/",
          "height": 413
        }
      },
      "source": [
        "print(\"---訓練データ内のアウトカムの統計量---\\n{num}\\n\".format(num=train_data[OUTCOME_COLUMN].describe()))\n",
        "print(\"---テストデータ内のアウトカムの統計量---\\n{num}\\n\".format(num=test_data[OUTCOME_COLUMN].describe()))"
      ],
      "execution_count": 0,
      "outputs": [
        {
          "output_type": "stream",
          "text": [
            "---訓練データ内のアウトカムの統計量---\n",
            "count      8000.000000\n",
            "mean       2962.627250\n",
            "std       18693.136545\n",
            "min           0.000000\n",
            "25%           0.000000\n",
            "50%           0.000000\n",
            "75%           0.000000\n",
            "max      364814.000000\n",
            "Name: gamesecond, dtype: float64\n",
            "\n",
            "---テストデータ内のアウトカムの統計量---\n",
            "count      2000.000000\n",
            "mean       2383.408000\n",
            "std       14743.580547\n",
            "min           0.000000\n",
            "25%           0.000000\n",
            "50%           0.000000\n",
            "75%           0.000000\n",
            "max      223095.000000\n",
            "Name: gamesecond, dtype: float64\n",
            "\n"
          ],
          "name": "stdout"
        }
      ]
    },
    {
      "cell_type": "markdown",
      "metadata": {
        "id": "ePKvwzf-oQAl",
        "colab_type": "text"
      },
      "source": [
        "## 2. 因果効果を推論するモデルの構築"
      ]
    },
    {
      "cell_type": "code",
      "metadata": {
        "id": "XRIvSKYeoqWZ",
        "colab_type": "code",
        "outputId": "0413072f-9d9a-4a46-824e-195af0dc160b",
        "colab": {
          "base_uri": "https://localhost:8080/",
          "height": 73
        }
      },
      "source": [
        "import datetime\n",
        "import pytz\n",
        "\n",
        "import cloudpickle\n",
        "from econml.drlearner import SparseLinearDRLearner\n",
        "from econml.metalearners import DomainAdaptationLearner, XLearner\n",
        "import xgboost as xgb"
      ],
      "execution_count": 0,
      "outputs": [
        {
          "output_type": "stream",
          "text": [
            "/usr/local/lib/python3.6/dist-packages/statsmodels/tools/_testing.py:19: FutureWarning: pandas.util.testing is deprecated. Use the functions in the public API at pandas.testing instead.\n",
            "  import pandas.util.testing as tm\n"
          ],
          "name": "stderr"
        }
      ]
    },
    {
      "cell_type": "code",
      "metadata": {
        "id": "giONsQi3Tzni",
        "colab_type": "code",
        "colab": {}
      },
      "source": [
        "def export_pkl_model_obj(dir_path, model_name, model, hyperparameter, protocol=4):\n",
        "    \"\"\"\n",
        "    モデルとハイパーパラメータをpklファイルに書き出し\n",
        "    \"\"\"\n",
        "    output_obj = {\n",
        "        \"model\" : model,\n",
        "        \"hyperparameter\" : hyperparameter\n",
        "    }\n",
        "    now = datetime.datetime.now(pytz.timezone('Asia/Tokyo')).strftime('%Y%m%d%H%M%S')\n",
        "    export_file = dir_path + \"/\" + model_name + \"_\" + now + \".pkl\"\n",
        "    with open(export_file, mode='wb') as f:\n",
        "        f.write(cloudpickle.dumps(output_obj,protocol=protocol))\n",
        "    return export_file\n",
        "\n",
        "\n",
        "def load_pkl(dir_path, pkl_file_path):\n",
        "    \"\"\"\n",
        "    pklファイルからモデルとハイパーパラメータのオブジェクトを読み込み\n",
        "    \"\"\"\n",
        "    load_file = dir_path + \"/\" + pkl_file_path\n",
        "    with open(load_file, mode=\"rb\") as f:\n",
        "        load_obj = cloudpickle.loads(f.read())\n",
        "    return load_obj"
      ],
      "execution_count": 0,
      "outputs": []
    },
    {
      "cell_type": "markdown",
      "metadata": {
        "id": "GByhl3xEoVr1",
        "colab_type": "text"
      },
      "source": [
        "### SparseDRLearner"
      ]
    },
    {
      "cell_type": "code",
      "metadata": {
        "id": "ZVgQIjfq5YDi",
        "colab_type": "code",
        "colab": {}
      },
      "source": [
        "hyperparameter = {\n",
        "    \"model_propensity\" : {\n",
        "        \"n_estimators\" : 700,\n",
        "        \"random_state\" : 7,\n",
        "        \"objective\" : \"binary:logistic\"\n",
        "    },\n",
        "    \"model_regression\" : {\n",
        "        \"n_estimators\" : 700,\n",
        "        \"random_state\" : 7,\n",
        "        \"objective\" : \"reg:gamma\"\n",
        "    }\n",
        "}"
      ],
      "execution_count": 0,
      "outputs": []
    },
    {
      "cell_type": "code",
      "metadata": {
        "id": "asmDWnWHvDUB",
        "colab_type": "code",
        "outputId": "51f4fc59-017e-42aa-e5f1-c61c84aaa69c",
        "colab": {
          "base_uri": "https://localhost:8080/",
          "height": 395
        }
      },
      "source": [
        "SPARSE_DRLEANER_TRAIN_MODE = True\n",
        "\n",
        "model_name = 'sparse_drlearner'\n",
        "model_obj_dir = \"./model\"\n",
        "load_pkl_path = \"sparse_drlearner_20200518212301.pkl\"\n",
        "\n",
        "if SPARSE_DRLEANER_TRAIN_MODE:\n",
        "    Sparse_DRLearner_model = SparseLinearDRLearner(model_propensity=xgb.XGBClassifier(**hyperparameter[\"model_propensity\"]),\n",
        "                                                  model_regression=xgb.XGBRegressor(**hyperparameter[\"model_regression\"]),\n",
        "                                                  random_state=7)\n",
        "    \n",
        "    inference = 'debiasedlasso'\n",
        "    Sparse_DRLearner_model.fit(Y=train_data[OUTCOME_COLUMN].values,\n",
        "                              T=train_data[TREATMENT_COLUMN].values,\n",
        "                              X=train_data[COVARIATE_COLUMNS].values,\n",
        "                              inference=inference)\n",
        "    \n",
        "    if inference != 'bootstrap':\n",
        "        res = export_pkl_model_obj(model_obj_dir, model_name, Sparse_DRLearner_model, hyperparameter)\n",
        "        print(\"{model_name}を{file_path}に出力\".format(model_name=model_name, file_path=res))\n",
        "\n",
        "else :\n",
        "    load_obj = load_pkl(model_obj_dir, load_pkl_path)\n",
        "    Sparse_DRLearner_model = load_obj[\"model\"]\n",
        "    print(\"{model_name}を{file_path}から読み込み\".format(model_name=model_name, file_path=load_pkl_path))\n",
        "    print(\"ハイパーパラメータ{hyperparameter}\".format(hyperparameter=load_obj[\"hyperparameter\"]))"
      ],
      "execution_count": 0,
      "outputs": [
        {
          "output_type": "error",
          "ename": "ValueError",
          "evalue": "ignored",
          "traceback": [
            "\u001b[0;31m---------------------------------------------------------------------------\u001b[0m",
            "\u001b[0;31mValueError\u001b[0m                                Traceback (most recent call last)",
            "\u001b[0;32m<ipython-input-104-21da5eb0fb43>\u001b[0m in \u001b[0;36m<module>\u001b[0;34m()\u001b[0m\n\u001b[1;32m     14\u001b[0m                               \u001b[0mT\u001b[0m\u001b[0;34m=\u001b[0m\u001b[0mtrain_data\u001b[0m\u001b[0;34m[\u001b[0m\u001b[0mTREATMENT_COLUMN\u001b[0m\u001b[0;34m]\u001b[0m\u001b[0;34m.\u001b[0m\u001b[0mvalues\u001b[0m\u001b[0;34m,\u001b[0m\u001b[0;34m\u001b[0m\u001b[0;34m\u001b[0m\u001b[0m\n\u001b[1;32m     15\u001b[0m                               \u001b[0mX\u001b[0m\u001b[0;34m=\u001b[0m\u001b[0mtrain_data\u001b[0m\u001b[0;34m[\u001b[0m\u001b[0mCOVARIATE_COLUMNS\u001b[0m\u001b[0;34m]\u001b[0m\u001b[0;34m.\u001b[0m\u001b[0mvalues\u001b[0m\u001b[0;34m,\u001b[0m\u001b[0;34m\u001b[0m\u001b[0;34m\u001b[0m\u001b[0m\n\u001b[0;32m---> 16\u001b[0;31m                               inference=inference)\n\u001b[0m\u001b[1;32m     17\u001b[0m \u001b[0;34m\u001b[0m\u001b[0m\n\u001b[1;32m     18\u001b[0m     \u001b[0;32mif\u001b[0m \u001b[0minference\u001b[0m \u001b[0;34m!=\u001b[0m \u001b[0;34m'bootstrap'\u001b[0m\u001b[0;34m:\u001b[0m\u001b[0;34m\u001b[0m\u001b[0;34m\u001b[0m\u001b[0m\n",
            "\u001b[0;32m/usr/local/lib/python3.6/dist-packages/econml/drlearner.py\u001b[0m in \u001b[0;36mfit\u001b[0;34m(self, Y, T, X, W, sample_weight, sample_var, inference)\u001b[0m\n\u001b[1;32m    891\u001b[0m                                \u001b[0mmsg\u001b[0m\u001b[0;34m=\u001b[0m\u001b[0;34m\"The number of features in the final model (< 5) is too small for a sparse model. \"\u001b[0m\u001b[0;34m\u001b[0m\u001b[0;34m\u001b[0m\u001b[0m\n\u001b[1;32m    892\u001b[0m                                \"We recommend using the LinearDRLearner for this low-dimensional setting.\")\n\u001b[0;32m--> 893\u001b[0;31m         \u001b[0;32mreturn\u001b[0m \u001b[0msuper\u001b[0m\u001b[0;34m(\u001b[0m\u001b[0;34m)\u001b[0m\u001b[0;34m.\u001b[0m\u001b[0mfit\u001b[0m\u001b[0;34m(\u001b[0m\u001b[0mY\u001b[0m\u001b[0;34m,\u001b[0m \u001b[0mT\u001b[0m\u001b[0;34m,\u001b[0m \u001b[0mX\u001b[0m\u001b[0;34m=\u001b[0m\u001b[0mX\u001b[0m\u001b[0;34m,\u001b[0m \u001b[0mW\u001b[0m\u001b[0;34m=\u001b[0m\u001b[0mW\u001b[0m\u001b[0;34m,\u001b[0m \u001b[0msample_weight\u001b[0m\u001b[0;34m=\u001b[0m\u001b[0msample_weight\u001b[0m\u001b[0;34m,\u001b[0m \u001b[0msample_var\u001b[0m\u001b[0;34m=\u001b[0m\u001b[0;32mNone\u001b[0m\u001b[0;34m,\u001b[0m \u001b[0minference\u001b[0m\u001b[0;34m=\u001b[0m\u001b[0minference\u001b[0m\u001b[0;34m)\u001b[0m\u001b[0;34m\u001b[0m\u001b[0;34m\u001b[0m\u001b[0m\n\u001b[0m\u001b[1;32m    894\u001b[0m \u001b[0;34m\u001b[0m\u001b[0m\n\u001b[1;32m    895\u001b[0m     \u001b[0;34m@\u001b[0m\u001b[0mproperty\u001b[0m\u001b[0;34m\u001b[0m\u001b[0;34m\u001b[0m\u001b[0m\n",
            "\u001b[0;32m/usr/local/lib/python3.6/dist-packages/econml/drlearner.py\u001b[0m in \u001b[0;36mfit\u001b[0;34m(self, Y, T, X, W, sample_weight, sample_var, inference)\u001b[0m\n\u001b[1;32m    379\u001b[0m         \"\"\"\n\u001b[1;32m    380\u001b[0m         \u001b[0;31m# Replacing fit from _OrthoLearner, to enforce Z=None and improve the docstring\u001b[0m\u001b[0;34m\u001b[0m\u001b[0;34m\u001b[0m\u001b[0;34m\u001b[0m\u001b[0m\n\u001b[0;32m--> 381\u001b[0;31m         \u001b[0;32mreturn\u001b[0m \u001b[0msuper\u001b[0m\u001b[0;34m(\u001b[0m\u001b[0;34m)\u001b[0m\u001b[0;34m.\u001b[0m\u001b[0mfit\u001b[0m\u001b[0;34m(\u001b[0m\u001b[0mY\u001b[0m\u001b[0;34m,\u001b[0m \u001b[0mT\u001b[0m\u001b[0;34m,\u001b[0m \u001b[0mX\u001b[0m\u001b[0;34m=\u001b[0m\u001b[0mX\u001b[0m\u001b[0;34m,\u001b[0m \u001b[0mW\u001b[0m\u001b[0;34m=\u001b[0m\u001b[0mW\u001b[0m\u001b[0;34m,\u001b[0m \u001b[0msample_weight\u001b[0m\u001b[0;34m=\u001b[0m\u001b[0msample_weight\u001b[0m\u001b[0;34m,\u001b[0m \u001b[0msample_var\u001b[0m\u001b[0;34m=\u001b[0m\u001b[0msample_var\u001b[0m\u001b[0;34m,\u001b[0m \u001b[0minference\u001b[0m\u001b[0;34m=\u001b[0m\u001b[0minference\u001b[0m\u001b[0;34m)\u001b[0m\u001b[0;34m\u001b[0m\u001b[0;34m\u001b[0m\u001b[0m\n\u001b[0m\u001b[1;32m    382\u001b[0m \u001b[0;34m\u001b[0m\u001b[0m\n\u001b[1;32m    383\u001b[0m     \u001b[0;32mdef\u001b[0m \u001b[0mscore\u001b[0m\u001b[0;34m(\u001b[0m\u001b[0mself\u001b[0m\u001b[0;34m,\u001b[0m \u001b[0mY\u001b[0m\u001b[0;34m,\u001b[0m \u001b[0mT\u001b[0m\u001b[0;34m,\u001b[0m \u001b[0mX\u001b[0m\u001b[0;34m=\u001b[0m\u001b[0;32mNone\u001b[0m\u001b[0;34m,\u001b[0m \u001b[0mW\u001b[0m\u001b[0;34m=\u001b[0m\u001b[0;32mNone\u001b[0m\u001b[0;34m)\u001b[0m\u001b[0;34m:\u001b[0m\u001b[0;34m\u001b[0m\u001b[0;34m\u001b[0m\u001b[0m\n",
            "\u001b[0;32m/usr/local/lib/python3.6/dist-packages/econml/cate_estimator.py\u001b[0m in \u001b[0;36mcall\u001b[0;34m(self, Y, T, inference, *args, **kwargs)\u001b[0m\n\u001b[1;32m     87\u001b[0m                 \u001b[0minference\u001b[0m\u001b[0;34m.\u001b[0m\u001b[0mprefit\u001b[0m\u001b[0;34m(\u001b[0m\u001b[0mself\u001b[0m\u001b[0;34m,\u001b[0m \u001b[0mY\u001b[0m\u001b[0;34m,\u001b[0m \u001b[0mT\u001b[0m\u001b[0;34m,\u001b[0m \u001b[0;34m*\u001b[0m\u001b[0margs\u001b[0m\u001b[0;34m,\u001b[0m \u001b[0;34m**\u001b[0m\u001b[0mkwargs\u001b[0m\u001b[0;34m)\u001b[0m\u001b[0;34m\u001b[0m\u001b[0;34m\u001b[0m\u001b[0m\n\u001b[1;32m     88\u001b[0m             \u001b[0;31m# call the wrapped fit method\u001b[0m\u001b[0;34m\u001b[0m\u001b[0;34m\u001b[0m\u001b[0;34m\u001b[0m\u001b[0m\n\u001b[0;32m---> 89\u001b[0;31m             \u001b[0mm\u001b[0m\u001b[0;34m(\u001b[0m\u001b[0mself\u001b[0m\u001b[0;34m,\u001b[0m \u001b[0mY\u001b[0m\u001b[0;34m,\u001b[0m \u001b[0mT\u001b[0m\u001b[0;34m,\u001b[0m \u001b[0;34m*\u001b[0m\u001b[0margs\u001b[0m\u001b[0;34m,\u001b[0m \u001b[0;34m**\u001b[0m\u001b[0mkwargs\u001b[0m\u001b[0;34m)\u001b[0m\u001b[0;34m\u001b[0m\u001b[0;34m\u001b[0m\u001b[0m\n\u001b[0m\u001b[1;32m     90\u001b[0m             \u001b[0;32mif\u001b[0m \u001b[0minference\u001b[0m \u001b[0;32mis\u001b[0m \u001b[0;32mnot\u001b[0m \u001b[0;32mNone\u001b[0m\u001b[0;34m:\u001b[0m\u001b[0;34m\u001b[0m\u001b[0;34m\u001b[0m\u001b[0m\n\u001b[1;32m     91\u001b[0m                 \u001b[0;31m# NOTE: we call inference fit *after* calling the main fit method\u001b[0m\u001b[0;34m\u001b[0m\u001b[0;34m\u001b[0m\u001b[0;34m\u001b[0m\u001b[0m\n",
            "\u001b[0;32m/usr/local/lib/python3.6/dist-packages/econml/_ortho_learner.py\u001b[0m in \u001b[0;36mfit\u001b[0;34m(self, Y, T, X, W, Z, sample_weight, sample_var, inference)\u001b[0m\n\u001b[1;32m    505\u001b[0m                         \u001b[0mnuisances\u001b[0m\u001b[0;34m=\u001b[0m\u001b[0mtuple\u001b[0m\u001b[0;34m(\u001b[0m\u001b[0;34m[\u001b[0m\u001b[0mself\u001b[0m\u001b[0;34m.\u001b[0m\u001b[0m_subinds_check_none\u001b[0m\u001b[0;34m(\u001b[0m\u001b[0mnuis\u001b[0m\u001b[0;34m,\u001b[0m \u001b[0mfitted_inds\u001b[0m\u001b[0;34m)\u001b[0m \u001b[0;32mfor\u001b[0m \u001b[0mnuis\u001b[0m \u001b[0;32min\u001b[0m \u001b[0mnuisances\u001b[0m\u001b[0;34m]\u001b[0m\u001b[0;34m)\u001b[0m\u001b[0;34m,\u001b[0m\u001b[0;34m\u001b[0m\u001b[0;34m\u001b[0m\u001b[0m\n\u001b[1;32m    506\u001b[0m                         \u001b[0msample_weight\u001b[0m\u001b[0;34m=\u001b[0m\u001b[0mself\u001b[0m\u001b[0;34m.\u001b[0m\u001b[0m_subinds_check_none\u001b[0m\u001b[0;34m(\u001b[0m\u001b[0msample_weight\u001b[0m\u001b[0;34m,\u001b[0m \u001b[0mfitted_inds\u001b[0m\u001b[0;34m)\u001b[0m\u001b[0;34m,\u001b[0m\u001b[0;34m\u001b[0m\u001b[0;34m\u001b[0m\u001b[0m\n\u001b[0;32m--> 507\u001b[0;31m                         sample_var=self._subinds_check_none(sample_var, fitted_inds))\n\u001b[0m\u001b[1;32m    508\u001b[0m         \u001b[0;32mreturn\u001b[0m \u001b[0mself\u001b[0m\u001b[0;34m\u001b[0m\u001b[0;34m\u001b[0m\u001b[0m\n\u001b[1;32m    509\u001b[0m \u001b[0;34m\u001b[0m\u001b[0m\n",
            "\u001b[0;32m/usr/local/lib/python3.6/dist-packages/econml/_ortho_learner.py\u001b[0m in \u001b[0;36m_fit_final\u001b[0;34m(self, Y, T, X, W, Z, nuisances, sample_weight, sample_var)\u001b[0m\n\u001b[1;32m    570\u001b[0m         self._model_final.fit(Y, T, **self._filter_none_kwargs(X=X, W=W, Z=Z,\n\u001b[1;32m    571\u001b[0m                                                                \u001b[0mnuisances\u001b[0m\u001b[0;34m=\u001b[0m\u001b[0mnuisances\u001b[0m\u001b[0;34m,\u001b[0m \u001b[0msample_weight\u001b[0m\u001b[0;34m=\u001b[0m\u001b[0msample_weight\u001b[0m\u001b[0;34m,\u001b[0m\u001b[0;34m\u001b[0m\u001b[0;34m\u001b[0m\u001b[0m\n\u001b[0;32m--> 572\u001b[0;31m                                                                sample_var=sample_var))\n\u001b[0m\u001b[1;32m    573\u001b[0m         \u001b[0mself\u001b[0m\u001b[0;34m.\u001b[0m\u001b[0mscore_\u001b[0m \u001b[0;34m=\u001b[0m \u001b[0;32mNone\u001b[0m\u001b[0;34m\u001b[0m\u001b[0;34m\u001b[0m\u001b[0m\n\u001b[1;32m    574\u001b[0m         \u001b[0;32mif\u001b[0m \u001b[0mhasattr\u001b[0m\u001b[0;34m(\u001b[0m\u001b[0mself\u001b[0m\u001b[0;34m.\u001b[0m\u001b[0m_model_final\u001b[0m\u001b[0;34m,\u001b[0m \u001b[0;34m'score'\u001b[0m\u001b[0;34m)\u001b[0m\u001b[0;34m:\u001b[0m\u001b[0;34m\u001b[0m\u001b[0;34m\u001b[0m\u001b[0m\n",
            "\u001b[0;32m/usr/local/lib/python3.6/dist-packages/econml/drlearner.py\u001b[0m in \u001b[0;36mfit\u001b[0;34m(self, Y, T, X, W, nuisances, sample_weight, sample_var)\u001b[0m\n\u001b[1;32m    317\u001b[0m                     self.models_cate = [clone(self._model_final, safe=False).fit(X, Y_pred[..., t] - Y_pred[..., 0],\n\u001b[1;32m    318\u001b[0m                                                                                  **filtered_kwargs)\n\u001b[0;32m--> 319\u001b[0;31m                                         for t in np.arange(1, Y_pred.shape[-1])]\n\u001b[0m\u001b[1;32m    320\u001b[0m                 \u001b[0;32mreturn\u001b[0m \u001b[0mself\u001b[0m\u001b[0;34m\u001b[0m\u001b[0;34m\u001b[0m\u001b[0m\n\u001b[1;32m    321\u001b[0m \u001b[0;34m\u001b[0m\u001b[0m\n",
            "\u001b[0;32m/usr/local/lib/python3.6/dist-packages/econml/drlearner.py\u001b[0m in \u001b[0;36m<listcomp>\u001b[0;34m(.0)\u001b[0m\n\u001b[1;32m    317\u001b[0m                     self.models_cate = [clone(self._model_final, safe=False).fit(X, Y_pred[..., t] - Y_pred[..., 0],\n\u001b[1;32m    318\u001b[0m                                                                                  **filtered_kwargs)\n\u001b[0;32m--> 319\u001b[0;31m                                         for t in np.arange(1, Y_pred.shape[-1])]\n\u001b[0m\u001b[1;32m    320\u001b[0m                 \u001b[0;32mreturn\u001b[0m \u001b[0mself\u001b[0m\u001b[0;34m\u001b[0m\u001b[0;34m\u001b[0m\u001b[0m\n\u001b[1;32m    321\u001b[0m \u001b[0;34m\u001b[0m\u001b[0m\n",
            "\u001b[0;32m/usr/local/lib/python3.6/dist-packages/econml/sklearn_extensions/linear_model.py\u001b[0m in \u001b[0;36mfit\u001b[0;34m(self, X, y, sample_weight, check_input)\u001b[0m\n\u001b[1;32m    648\u001b[0m         \u001b[0;32mif\u001b[0m \u001b[0mself\u001b[0m\u001b[0;34m.\u001b[0m\u001b[0malpha\u001b[0m \u001b[0;34m==\u001b[0m \u001b[0;34m'auto'\u001b[0m\u001b[0;34m:\u001b[0m\u001b[0;34m\u001b[0m\u001b[0;34m\u001b[0m\u001b[0m\n\u001b[1;32m    649\u001b[0m             \u001b[0;31m# Select optimal penalty\u001b[0m\u001b[0;34m\u001b[0m\u001b[0;34m\u001b[0m\u001b[0;34m\u001b[0m\u001b[0m\n\u001b[0;32m--> 650\u001b[0;31m             \u001b[0mself\u001b[0m\u001b[0;34m.\u001b[0m\u001b[0malpha\u001b[0m \u001b[0;34m=\u001b[0m \u001b[0mself\u001b[0m\u001b[0;34m.\u001b[0m\u001b[0m_get_optimal_alpha\u001b[0m\u001b[0;34m(\u001b[0m\u001b[0mX\u001b[0m\u001b[0;34m,\u001b[0m \u001b[0my\u001b[0m\u001b[0;34m,\u001b[0m \u001b[0msample_weight\u001b[0m\u001b[0;34m)\u001b[0m\u001b[0;34m\u001b[0m\u001b[0;34m\u001b[0m\u001b[0m\n\u001b[0m\u001b[1;32m    651\u001b[0m             \u001b[0mself\u001b[0m\u001b[0;34m.\u001b[0m\u001b[0mselected_alpha_\u001b[0m \u001b[0;34m=\u001b[0m \u001b[0mself\u001b[0m\u001b[0;34m.\u001b[0m\u001b[0malpha\u001b[0m\u001b[0;34m\u001b[0m\u001b[0;34m\u001b[0m\u001b[0m\n\u001b[1;32m    652\u001b[0m         \u001b[0;32melse\u001b[0m\u001b[0;34m:\u001b[0m\u001b[0;34m\u001b[0m\u001b[0;34m\u001b[0m\u001b[0m\n",
            "\u001b[0;32m/usr/local/lib/python3.6/dist-packages/econml/sklearn_extensions/linear_model.py\u001b[0m in \u001b[0;36m_get_optimal_alpha\u001b[0;34m(self, X, y, sample_weight)\u001b[0m\n\u001b[1;32m    819\u001b[0m         \u001b[0;31m# To be done once per target. Assumes y can be flattened.\u001b[0m\u001b[0;34m\u001b[0m\u001b[0;34m\u001b[0m\u001b[0;34m\u001b[0m\u001b[0m\n\u001b[1;32m    820\u001b[0m         \u001b[0mcv_estimator\u001b[0m \u001b[0;34m=\u001b[0m \u001b[0mWeightedLassoCV\u001b[0m\u001b[0;34m(\u001b[0m\u001b[0mcv\u001b[0m\u001b[0;34m=\u001b[0m\u001b[0;36m5\u001b[0m\u001b[0;34m,\u001b[0m \u001b[0mfit_intercept\u001b[0m\u001b[0;34m=\u001b[0m\u001b[0mself\u001b[0m\u001b[0;34m.\u001b[0m\u001b[0mfit_intercept\u001b[0m\u001b[0;34m)\u001b[0m\u001b[0;34m\u001b[0m\u001b[0;34m\u001b[0m\u001b[0m\n\u001b[0;32m--> 821\u001b[0;31m         \u001b[0mcv_estimator\u001b[0m\u001b[0;34m.\u001b[0m\u001b[0mfit\u001b[0m\u001b[0;34m(\u001b[0m\u001b[0mX\u001b[0m\u001b[0;34m,\u001b[0m \u001b[0my\u001b[0m\u001b[0;34m.\u001b[0m\u001b[0mflatten\u001b[0m\u001b[0;34m(\u001b[0m\u001b[0;34m)\u001b[0m\u001b[0;34m,\u001b[0m \u001b[0msample_weight\u001b[0m\u001b[0;34m=\u001b[0m\u001b[0msample_weight\u001b[0m\u001b[0;34m)\u001b[0m\u001b[0;34m\u001b[0m\u001b[0;34m\u001b[0m\u001b[0m\n\u001b[0m\u001b[1;32m    822\u001b[0m         \u001b[0;32mreturn\u001b[0m \u001b[0mcv_estimator\u001b[0m\u001b[0;34m.\u001b[0m\u001b[0malpha_\u001b[0m\u001b[0;34m\u001b[0m\u001b[0;34m\u001b[0m\u001b[0m\n\u001b[1;32m    823\u001b[0m \u001b[0;34m\u001b[0m\u001b[0m\n",
            "\u001b[0;32m/usr/local/lib/python3.6/dist-packages/econml/sklearn_extensions/linear_model.py\u001b[0m in \u001b[0;36mfit\u001b[0;34m(self, X, y, sample_weight)\u001b[0m\n\u001b[1;32m    424\u001b[0m         \u001b[0mself\u001b[0m\u001b[0;34m.\u001b[0m\u001b[0mcv\u001b[0m \u001b[0;34m=\u001b[0m \u001b[0m_weighted_check_cv\u001b[0m\u001b[0;34m(\u001b[0m\u001b[0mself\u001b[0m\u001b[0;34m.\u001b[0m\u001b[0mcv\u001b[0m\u001b[0;34m)\u001b[0m\u001b[0;34m.\u001b[0m\u001b[0msplit\u001b[0m\u001b[0;34m(\u001b[0m\u001b[0mX\u001b[0m\u001b[0;34m,\u001b[0m \u001b[0my\u001b[0m\u001b[0;34m,\u001b[0m \u001b[0msample_weight\u001b[0m\u001b[0;34m=\u001b[0m\u001b[0msample_weight\u001b[0m\u001b[0;34m)\u001b[0m\u001b[0;34m\u001b[0m\u001b[0;34m\u001b[0m\u001b[0m\n\u001b[1;32m    425\u001b[0m         \u001b[0;31m# Fit weighted model\u001b[0m\u001b[0;34m\u001b[0m\u001b[0;34m\u001b[0m\u001b[0;34m\u001b[0m\u001b[0m\n\u001b[0;32m--> 426\u001b[0;31m         \u001b[0mself\u001b[0m\u001b[0;34m.\u001b[0m\u001b[0m_fit_weighted_linear_model\u001b[0m\u001b[0;34m(\u001b[0m\u001b[0mX\u001b[0m\u001b[0;34m,\u001b[0m \u001b[0my\u001b[0m\u001b[0;34m,\u001b[0m \u001b[0msample_weight\u001b[0m\u001b[0;34m)\u001b[0m\u001b[0;34m\u001b[0m\u001b[0;34m\u001b[0m\u001b[0m\n\u001b[0m\u001b[1;32m    427\u001b[0m         \u001b[0mself\u001b[0m\u001b[0;34m.\u001b[0m\u001b[0mcv\u001b[0m \u001b[0;34m=\u001b[0m \u001b[0mcv_temp\u001b[0m\u001b[0;34m\u001b[0m\u001b[0;34m\u001b[0m\u001b[0m\n\u001b[1;32m    428\u001b[0m         \u001b[0;32mreturn\u001b[0m \u001b[0mself\u001b[0m\u001b[0;34m\u001b[0m\u001b[0;34m\u001b[0m\u001b[0m\n",
            "\u001b[0;32m/usr/local/lib/python3.6/dist-packages/econml/sklearn_extensions/linear_model.py\u001b[0m in \u001b[0;36m_fit_weighted_linear_model\u001b[0;34m(self, X, y, sample_weight, check_input)\u001b[0m\n\u001b[1;32m     71\u001b[0m     \u001b[0;32mdef\u001b[0m \u001b[0m_fit_weighted_linear_model\u001b[0m\u001b[0;34m(\u001b[0m\u001b[0mself\u001b[0m\u001b[0;34m,\u001b[0m \u001b[0mX\u001b[0m\u001b[0;34m,\u001b[0m \u001b[0my\u001b[0m\u001b[0;34m,\u001b[0m \u001b[0msample_weight\u001b[0m\u001b[0;34m,\u001b[0m \u001b[0mcheck_input\u001b[0m\u001b[0;34m=\u001b[0m\u001b[0;32mNone\u001b[0m\u001b[0;34m)\u001b[0m\u001b[0;34m:\u001b[0m\u001b[0;34m\u001b[0m\u001b[0;34m\u001b[0m\u001b[0m\n\u001b[1;32m     72\u001b[0m         \u001b[0;31m# Convert X, y into numpy arrays\u001b[0m\u001b[0;34m\u001b[0m\u001b[0;34m\u001b[0m\u001b[0;34m\u001b[0m\u001b[0m\n\u001b[0;32m---> 73\u001b[0;31m         \u001b[0mX\u001b[0m\u001b[0;34m,\u001b[0m \u001b[0my\u001b[0m \u001b[0;34m=\u001b[0m \u001b[0mcheck_X_y\u001b[0m\u001b[0;34m(\u001b[0m\u001b[0mX\u001b[0m\u001b[0;34m,\u001b[0m \u001b[0my\u001b[0m\u001b[0;34m,\u001b[0m \u001b[0my_numeric\u001b[0m\u001b[0;34m=\u001b[0m\u001b[0;32mTrue\u001b[0m\u001b[0;34m,\u001b[0m \u001b[0mmulti_output\u001b[0m\u001b[0;34m=\u001b[0m\u001b[0;32mTrue\u001b[0m\u001b[0;34m)\u001b[0m\u001b[0;34m\u001b[0m\u001b[0;34m\u001b[0m\u001b[0m\n\u001b[0m\u001b[1;32m     74\u001b[0m         \u001b[0;31m# Define fit parameters\u001b[0m\u001b[0;34m\u001b[0m\u001b[0;34m\u001b[0m\u001b[0;34m\u001b[0m\u001b[0m\n\u001b[1;32m     75\u001b[0m         \u001b[0mfit_params\u001b[0m \u001b[0;34m=\u001b[0m \u001b[0;34m{\u001b[0m\u001b[0;34m'X'\u001b[0m\u001b[0;34m:\u001b[0m \u001b[0mX\u001b[0m\u001b[0;34m,\u001b[0m \u001b[0;34m'y'\u001b[0m\u001b[0;34m:\u001b[0m \u001b[0my\u001b[0m\u001b[0;34m}\u001b[0m\u001b[0;34m\u001b[0m\u001b[0;34m\u001b[0m\u001b[0m\n",
            "\u001b[0;32m/usr/local/lib/python3.6/dist-packages/sklearn/utils/validation.py\u001b[0m in \u001b[0;36mcheck_X_y\u001b[0;34m(X, y, accept_sparse, accept_large_sparse, dtype, order, copy, force_all_finite, ensure_2d, allow_nd, multi_output, ensure_min_samples, ensure_min_features, y_numeric, warn_on_dtype, estimator)\u001b[0m\n\u001b[1;32m    720\u001b[0m     \u001b[0;32mif\u001b[0m \u001b[0mmulti_output\u001b[0m\u001b[0;34m:\u001b[0m\u001b[0;34m\u001b[0m\u001b[0;34m\u001b[0m\u001b[0m\n\u001b[1;32m    721\u001b[0m         y = check_array(y, 'csr', force_all_finite=True, ensure_2d=False,\n\u001b[0;32m--> 722\u001b[0;31m                         dtype=None)\n\u001b[0m\u001b[1;32m    723\u001b[0m     \u001b[0;32melse\u001b[0m\u001b[0;34m:\u001b[0m\u001b[0;34m\u001b[0m\u001b[0;34m\u001b[0m\u001b[0m\n\u001b[1;32m    724\u001b[0m         \u001b[0my\u001b[0m \u001b[0;34m=\u001b[0m \u001b[0mcolumn_or_1d\u001b[0m\u001b[0;34m(\u001b[0m\u001b[0my\u001b[0m\u001b[0;34m,\u001b[0m \u001b[0mwarn\u001b[0m\u001b[0;34m=\u001b[0m\u001b[0;32mTrue\u001b[0m\u001b[0;34m)\u001b[0m\u001b[0;34m\u001b[0m\u001b[0;34m\u001b[0m\u001b[0m\n",
            "\u001b[0;32m/usr/local/lib/python3.6/dist-packages/sklearn/utils/validation.py\u001b[0m in \u001b[0;36mcheck_array\u001b[0;34m(array, accept_sparse, accept_large_sparse, dtype, order, copy, force_all_finite, ensure_2d, allow_nd, ensure_min_samples, ensure_min_features, warn_on_dtype, estimator)\u001b[0m\n\u001b[1;32m    540\u001b[0m         \u001b[0;32mif\u001b[0m \u001b[0mforce_all_finite\u001b[0m\u001b[0;34m:\u001b[0m\u001b[0;34m\u001b[0m\u001b[0;34m\u001b[0m\u001b[0m\n\u001b[1;32m    541\u001b[0m             _assert_all_finite(array,\n\u001b[0;32m--> 542\u001b[0;31m                                allow_nan=force_all_finite == 'allow-nan')\n\u001b[0m\u001b[1;32m    543\u001b[0m \u001b[0;34m\u001b[0m\u001b[0m\n\u001b[1;32m    544\u001b[0m     \u001b[0;32mif\u001b[0m \u001b[0mensure_min_samples\u001b[0m \u001b[0;34m>\u001b[0m \u001b[0;36m0\u001b[0m\u001b[0;34m:\u001b[0m\u001b[0;34m\u001b[0m\u001b[0;34m\u001b[0m\u001b[0m\n",
            "\u001b[0;32m/usr/local/lib/python3.6/dist-packages/sklearn/utils/validation.py\u001b[0m in \u001b[0;36m_assert_all_finite\u001b[0;34m(X, allow_nan)\u001b[0m\n\u001b[1;32m     54\u001b[0m                 not allow_nan and not np.isfinite(X).all()):\n\u001b[1;32m     55\u001b[0m             \u001b[0mtype_err\u001b[0m \u001b[0;34m=\u001b[0m \u001b[0;34m'infinity'\u001b[0m \u001b[0;32mif\u001b[0m \u001b[0mallow_nan\u001b[0m \u001b[0;32melse\u001b[0m \u001b[0;34m'NaN, infinity'\u001b[0m\u001b[0;34m\u001b[0m\u001b[0;34m\u001b[0m\u001b[0m\n\u001b[0;32m---> 56\u001b[0;31m             \u001b[0;32mraise\u001b[0m \u001b[0mValueError\u001b[0m\u001b[0;34m(\u001b[0m\u001b[0mmsg_err\u001b[0m\u001b[0;34m.\u001b[0m\u001b[0mformat\u001b[0m\u001b[0;34m(\u001b[0m\u001b[0mtype_err\u001b[0m\u001b[0;34m,\u001b[0m \u001b[0mX\u001b[0m\u001b[0;34m.\u001b[0m\u001b[0mdtype\u001b[0m\u001b[0;34m)\u001b[0m\u001b[0;34m)\u001b[0m\u001b[0;34m\u001b[0m\u001b[0;34m\u001b[0m\u001b[0m\n\u001b[0m\u001b[1;32m     57\u001b[0m     \u001b[0;31m# for object dtype data, we only check for NaNs (GH-13254)\u001b[0m\u001b[0;34m\u001b[0m\u001b[0;34m\u001b[0m\u001b[0;34m\u001b[0m\u001b[0m\n\u001b[1;32m     58\u001b[0m     \u001b[0;32melif\u001b[0m \u001b[0mX\u001b[0m\u001b[0;34m.\u001b[0m\u001b[0mdtype\u001b[0m \u001b[0;34m==\u001b[0m \u001b[0mnp\u001b[0m\u001b[0;34m.\u001b[0m\u001b[0mdtype\u001b[0m\u001b[0;34m(\u001b[0m\u001b[0;34m'object'\u001b[0m\u001b[0;34m)\u001b[0m \u001b[0;32mand\u001b[0m \u001b[0;32mnot\u001b[0m \u001b[0mallow_nan\u001b[0m\u001b[0;34m:\u001b[0m\u001b[0;34m\u001b[0m\u001b[0;34m\u001b[0m\u001b[0m\n",
            "\u001b[0;31mValueError\u001b[0m: Input contains NaN, infinity or a value too large for dtype('float64')."
          ]
        }
      ]
    },
    {
      "cell_type": "markdown",
      "metadata": {
        "id": "U6PO43QsDDGr",
        "colab_type": "text"
      },
      "source": [
        "#### 回帰係数のp値を確認"
      ]
    },
    {
      "cell_type": "code",
      "metadata": {
        "id": "icPTE4NwxMrp",
        "colab_type": "code",
        "colab": {}
      },
      "source": [
        "summary_Sparse_DRLearner = Sparse_DRLearner_model.summary(T=1, feat_name=COVARIATE_COLUMNS)\n",
        "summary_Sparse_DRLearner"
      ],
      "execution_count": 0,
      "outputs": []
    },
    {
      "cell_type": "markdown",
      "metadata": {
        "id": "xMJa8W-2LSpw",
        "colab_type": "text"
      },
      "source": [
        "##### 統計的に有意な特徴量を取り出し"
      ]
    },
    {
      "cell_type": "code",
      "metadata": {
        "id": "X4ixPt462VlX",
        "colab_type": "code",
        "colab": {}
      },
      "source": [
        "# 統計的に有意な特徴量（p値<0.05）\n",
        "SIGNIFICANT_FEAT = [\"area_kanto\", \"area_tokai\",\"marry_dummy\", \"job_dummy2\", \"job_dummy3\", \"job_dummy4\",\n",
        "                    \"job_dummy7\", \"inc\", \"fam_str_dummy2\", \"fam_str_dummy3\", \"fam_str_dummy5\",\n",
        "                    \"M1\", \"M2\", \"TVwatch_day\"]"
      ],
      "execution_count": 0,
      "outputs": []
    },
    {
      "cell_type": "markdown",
      "metadata": {
        "id": "Z4e56gJyJX5K",
        "colab_type": "text"
      },
      "source": [
        "#### MSE算出"
      ]
    },
    {
      "cell_type": "code",
      "metadata": {
        "id": "lsElpaYt3_Gu",
        "colab_type": "code",
        "colab": {}
      },
      "source": [
        "# 訓練精度\n",
        "MSE_DLLeaner_train = Sparse_DRLearner_model.score(Y=train_data[OUTCOME_COLUMN].values,\n",
        "                                          T=train_data[TREATMENT_COLUMN].values,\n",
        "                                          X=train_data[COVARIATE_COLUMNS].values)\n",
        "\n",
        "# 検証精度\n",
        "MSE_DLLeaner_test = Sparse_DRLearner_model.score(Y=test_data[OUTCOME_COLUMN].values,\n",
        "                                          T=test_data[TREATMENT_COLUMN].values,\n",
        "                                          X=test_data[COVARIATE_COLUMNS].values)\n",
        "\n",
        "print(\"SparseDRLeanerの訓練データに対するMSE:{mse_train}\".format(mse_train=MSE_DLLeaner_train))\n",
        "print(\"SparseDRLeanerの検証データに対するMSE:{mse_test}\".format(mse_test=MSE_DLLeaner_test))"
      ],
      "execution_count": 0,
      "outputs": []
    },
    {
      "cell_type": "markdown",
      "metadata": {
        "id": "91KLwwrsJO6w",
        "colab_type": "text"
      },
      "source": [
        "#### 傾向スコアモデルの精度算出"
      ]
    },
    {
      "cell_type": "code",
      "metadata": {
        "id": "0JTR2pfkEOt3",
        "colab_type": "code",
        "colab": {}
      },
      "source": [
        "def calc_model_score(model, train_X_values, train_y_values, val_X_values, val_y_values):\n",
        "    \"\"\"\n",
        "    modelに用意されたscore関数を使い、訓練精度と検証精度を算出\n",
        "    \"\"\"\n",
        "    train_score = model.score(X=train_X_values, y=train_y_values)\n",
        "    val_score = model.score(X=val_X_values, y=val_y_values)\n",
        "    return train_score, val_score"
      ],
      "execution_count": 0,
      "outputs": []
    },
    {
      "cell_type": "code",
      "metadata": {
        "id": "cCt8Tt0uJS-r",
        "colab_type": "code",
        "outputId": "cb93dedb-6383-43cd-ea5e-16e8e77d232d",
        "colab": {
          "base_uri": "https://localhost:8080/",
          "height": 53
        }
      },
      "source": [
        "train_score, val_score = calc_model_score(Sparse_DRLearner_model.models_propensity[0], \n",
        "                                          train_data[COVARIATE_COLUMNS].values, train_data[TREATMENT_COLUMN].values,\n",
        "                                          test_data[COVARIATE_COLUMNS].values, test_data[TREATMENT_COLUMN].values)\n",
        "print(\"X-Leaner内の傾向スコアモデルの訓練精度:{train_score}\".format(train_score=train_score))\n",
        "print(\"X-Leaner内の傾向スコアモデルの検証精度:{val_score}\".format(val_score=val_score))"
      ],
      "execution_count": 0,
      "outputs": [
        {
          "output_type": "stream",
          "text": [
            "X-Leaner内の傾向スコアモデルの訓練精度:0.9305\n",
            "X-Leaner内の傾向スコアモデルの検証精度:0.901\n"
          ],
          "name": "stdout"
        }
      ]
    },
    {
      "cell_type": "markdown",
      "metadata": {
        "id": "n-hp8-LBGB3d",
        "colab_type": "text"
      },
      "source": [
        "### X-Learner"
      ]
    },
    {
      "cell_type": "code",
      "metadata": {
        "id": "AaMnKQVv2gZp",
        "colab_type": "code",
        "colab": {}
      },
      "source": [
        "hyperparameter = {\n",
        "    \"models\" : {\n",
        "        \"n_estimators\" : 700,\n",
        "        \"random_state\" : 7,\n",
        "        \"objective\" : \"reg:gamma\"\n",
        "    },\n",
        "    \"propensity_model\" : {\n",
        "        \"n_estimators\" : 700,\n",
        "        \"random_state\" : 7,\n",
        "        \"objective\" : \"binary:logistic\"\n",
        "    },\n",
        "    \"cate_models\" : {\n",
        "        \"n_estimators\" : 700,\n",
        "        \"random_state\" : 7,\n",
        "        \"objective\" : \"reg:squarederror\"\n",
        "    }\n",
        "}"
      ],
      "execution_count": 0,
      "outputs": []
    },
    {
      "cell_type": "code",
      "metadata": {
        "id": "t97fiPVae-WI",
        "colab_type": "code",
        "outputId": "5896b78e-2c7d-4ea0-ce3a-01307535fe23",
        "colab": {
          "base_uri": "https://localhost:8080/",
          "height": 35
        }
      },
      "source": [
        "XLEARNER_TRAIN_MODE = True\n",
        "\n",
        "model_name = 'xlearner'\n",
        "model_obj_dir = \"./model\"\n",
        "load_pkl_path = \"xlearner_20200518212505.pkl\"\n",
        "\n",
        "if XLEARNER_TRAIN_MODE:\n",
        "    XLearner_model = XLearner(models=xgb.XGBRegressor(**hyperparameter[\"models\"]), # （反事実も含めた）アウトカム予測用のモデル定義\n",
        "                             propensity_model=xgb.XGBClassifier(**hyperparameter[\"propensity_model\"]), # 傾向スコア予測用のモデル定義\n",
        "                             cate_models=xgb.XGBRegressor(**hyperparameter[\"cate_models\"]), # CATE予測用のモデル定義\n",
        "                             )\n",
        "\n",
        "    #inference='bootstrap'\n",
        "    inference=None\n",
        "    XLearner_model.fit(Y=train_data[OUTCOME_COLUMN].values, # アウトカム\n",
        "                      T=train_data[TREATMENT_COLUMN].values, # 介入変数\n",
        "                      X=train_data[COVARIATE_COLUMNS].values, # 交絡因子\n",
        "                      inference=inference \n",
        "                      )\n",
        "    \n",
        "    # inferenceをbootstrapに設定した場合、pklファイルに書き出さない\n",
        "    # (最大深度の問題でpklファイルから読み込めないため)\n",
        "    if inference != 'bootstrap':\n",
        "        res = export_pkl_model_obj(model_obj_dir, model_name, XLearner_model, hyperparameter)\n",
        "        print(\"{model_name}を{file_path}に出力\".format(model_name=model_name, file_path=res))\n",
        "        \n",
        "else:\n",
        "    load_obj = load_pkl(model_obj_dir, load_pkl_path)\n",
        "    XLearner_model = load_obj[\"model\"]\n",
        "    print(\"{model_name}を{file_path}から読み込み\".format(model_name=model_name, file_path=load_pkl_path))\n",
        "    print(\"ハイパーパラメータ{hyperparameter}\".format(hyperparameter=load_obj[\"hyperparameter\"]))"
      ],
      "execution_count": 0,
      "outputs": [
        {
          "output_type": "stream",
          "text": [
            "xlearnerを./model/xlearner_20200519221716.pklに出力\n"
          ],
          "name": "stdout"
        }
      ]
    },
    {
      "cell_type": "markdown",
      "metadata": {
        "id": "qzdaPmdObJqK",
        "colab_type": "text"
      },
      "source": [
        "#### 傾向スコアモデルの精度算出"
      ]
    },
    {
      "cell_type": "code",
      "metadata": {
        "id": "SlxsTH4BhtFI",
        "colab_type": "code",
        "outputId": "7a3c8670-99dd-4017-a4fb-5330c07d3c72",
        "colab": {
          "base_uri": "https://localhost:8080/",
          "height": 53
        }
      },
      "source": [
        "train_score, val_score = calc_model_score(XLearner_model.propensity_models[0], \n",
        "                                          train_data[COVARIATE_COLUMNS].values, train_data[TREATMENT_COLUMN].values,\n",
        "                                          test_data[COVARIATE_COLUMNS].values, test_data[TREATMENT_COLUMN].values)\n",
        "print(\"X-Leaner内の傾向スコアモデルの訓練精度:{train_score}\".format(train_score=train_score))\n",
        "print(\"X-Leaner内の傾向スコアモデルの検証精度:{val_score}\".format(val_score=val_score))"
      ],
      "execution_count": 0,
      "outputs": [
        {
          "output_type": "stream",
          "text": [
            "X-Leaner内の傾向スコアモデルの訓練精度:0.960125\n",
            "X-Leaner内の傾向スコアモデルの検証精度:0.929\n"
          ],
          "name": "stdout"
        }
      ]
    },
    {
      "cell_type": "markdown",
      "metadata": {
        "id": "4abTtj5FGJNP",
        "colab_type": "text"
      },
      "source": [
        "### DA-Learner (Domain Adaptation Learner)"
      ]
    },
    {
      "cell_type": "code",
      "metadata": {
        "id": "T4oTIe1Wb4kD",
        "colab_type": "code",
        "colab": {}
      },
      "source": [
        "hyperparameter = {\n",
        "    \"models\" : {\n",
        "        \"n_estimators\" : 500,\n",
        "        \"random_state\" : 7,\n",
        "        \"objective\" : \"reg:gamma\"\n",
        "    },\n",
        "    \"propensity_model\" : {\n",
        "        \"n_estimators\" : 500,\n",
        "        \"random_state\" : 7,\n",
        "        \"objective\" : \"binary:logistic\"\n",
        "    },\n",
        "    \"final_models\" : {\n",
        "        \"n_estimators\" : 500,\n",
        "        \"random_state\" : 7,\n",
        "        \"objective\" : \"reg:squarederror\"\n",
        "    }\n",
        "}"
      ],
      "execution_count": 0,
      "outputs": []
    },
    {
      "cell_type": "code",
      "metadata": {
        "id": "OM_ghlyZbcTZ",
        "colab_type": "code",
        "outputId": "e10fc2b5-7c68-4901-83d4-bbc651c86b06",
        "colab": {
          "base_uri": "https://localhost:8080/",
          "height": 1000
        }
      },
      "source": [
        "DALEARNER_TRAIN_MODE = True\n",
        "\n",
        "model_name = 'dalearner'\n",
        "model_obj_dir = \"./model\"\n",
        "load_pkl_path = \"dalearner_20200517192702.pkl\"\n",
        "\n",
        "if DALEARNER_TRAIN_MODE:\n",
        "    DALearner_model = DomainAdaptationLearner(models=xgb.XGBRegressor(**hyperparameter[\"models\"]), # （反事実も含めた）アウトカム予測用のモデル定義\n",
        "                                          #propensity_model=xgb.XGBClassifier(**hyperparameter[\"propensity_model\"]), # 傾向スコア予測用のモデル定義\n",
        "                                          final_models=xgb.XGBRegressor(**hyperparameter[\"final_models\"]), # CATE予測用のモデル定義\n",
        "                                          )\n",
        "\n",
        "    #inference='bootstrap'\n",
        "    inference=None\n",
        "    DALearner_model.fit(Y=train_data[OUTCOME_COLUMN].values,\n",
        "                    T=train_data[TREATMENT_COLUMN].values,\n",
        "                    X=train_data[COVARIATE_COLUMNS].values,\n",
        "                    inference='bootstrap'\n",
        "                    )\n",
        "    \n",
        "    # inferenceをbootstrapに設定した場合、pklファイルに書き出さない\n",
        "    # (最大深度の問題でpklファイルから読み込めないため)\n",
        "    if inference != 'bootstrap':\n",
        "        res = export_pkl_model_obj(model_obj_dir, model_name, DALearner_model, hyperparameter)\n",
        "        print(\"{model_name}を{file_path}に出力\".format(model_name=model_name, file_path=res))\n",
        "        \n",
        "else:\n",
        "    load_obj = load_pkl(model_obj_dir, load_pkl_path)\n",
        "    DALearner_model = load_obj[\"model\"]\n",
        "    print(\"{model_name}を{file_path}から読み込み\".format(model_name=model_name, file_path=load_pkl_path))\n",
        "    print(\"ハイパーパラメータ{hyperparameter}\".format(hyperparameter=load_obj[\"hyperparameter\"]))"
      ],
      "execution_count": 0,
      "outputs": [
        {
          "output_type": "stream",
          "text": [
            "/usr/local/lib/python3.6/dist-packages/sklearn/linear_model/logistic.py:432: FutureWarning: Default solver will be changed to 'lbfgs' in 0.22. Specify a solver to silence this warning.\n",
            "  FutureWarning)\n",
            "[Parallel(n_jobs=-1)]: Using backend ThreadingBackend with 2 concurrent workers.\n",
            "/usr/local/lib/python3.6/dist-packages/sklearn/linear_model/logistic.py:432: FutureWarning: Default solver will be changed to 'lbfgs' in 0.22. Specify a solver to silence this warning.\n",
            "  FutureWarning)\n",
            "/usr/local/lib/python3.6/dist-packages/sklearn/linear_model/logistic.py:432: FutureWarning: Default solver will be changed to 'lbfgs' in 0.22. Specify a solver to silence this warning.\n",
            "  FutureWarning)\n",
            "/usr/local/lib/python3.6/dist-packages/sklearn/linear_model/logistic.py:432: FutureWarning: Default solver will be changed to 'lbfgs' in 0.22. Specify a solver to silence this warning.\n",
            "  FutureWarning)\n",
            "/usr/local/lib/python3.6/dist-packages/sklearn/linear_model/logistic.py:432: FutureWarning: Default solver will be changed to 'lbfgs' in 0.22. Specify a solver to silence this warning.\n",
            "  FutureWarning)\n",
            "/usr/local/lib/python3.6/dist-packages/sklearn/linear_model/logistic.py:432: FutureWarning: Default solver will be changed to 'lbfgs' in 0.22. Specify a solver to silence this warning.\n",
            "  FutureWarning)\n",
            "/usr/local/lib/python3.6/dist-packages/sklearn/linear_model/logistic.py:432: FutureWarning: Default solver will be changed to 'lbfgs' in 0.22. Specify a solver to silence this warning.\n",
            "  FutureWarning)\n",
            "/usr/local/lib/python3.6/dist-packages/sklearn/linear_model/logistic.py:432: FutureWarning: Default solver will be changed to 'lbfgs' in 0.22. Specify a solver to silence this warning.\n",
            "  FutureWarning)\n",
            "/usr/local/lib/python3.6/dist-packages/sklearn/linear_model/logistic.py:432: FutureWarning: Default solver will be changed to 'lbfgs' in 0.22. Specify a solver to silence this warning.\n",
            "  FutureWarning)\n",
            "/usr/local/lib/python3.6/dist-packages/sklearn/linear_model/logistic.py:432: FutureWarning: Default solver will be changed to 'lbfgs' in 0.22. Specify a solver to silence this warning.\n",
            "  FutureWarning)\n",
            "/usr/local/lib/python3.6/dist-packages/sklearn/linear_model/logistic.py:432: FutureWarning: Default solver will be changed to 'lbfgs' in 0.22. Specify a solver to silence this warning.\n",
            "  FutureWarning)\n",
            "/usr/local/lib/python3.6/dist-packages/sklearn/linear_model/logistic.py:432: FutureWarning: Default solver will be changed to 'lbfgs' in 0.22. Specify a solver to silence this warning.\n",
            "  FutureWarning)\n",
            "/usr/local/lib/python3.6/dist-packages/sklearn/linear_model/logistic.py:432: FutureWarning: Default solver will be changed to 'lbfgs' in 0.22. Specify a solver to silence this warning.\n",
            "  FutureWarning)\n",
            "/usr/local/lib/python3.6/dist-packages/sklearn/linear_model/logistic.py:432: FutureWarning: Default solver will be changed to 'lbfgs' in 0.22. Specify a solver to silence this warning.\n",
            "  FutureWarning)\n",
            "/usr/local/lib/python3.6/dist-packages/sklearn/linear_model/logistic.py:432: FutureWarning: Default solver will be changed to 'lbfgs' in 0.22. Specify a solver to silence this warning.\n",
            "  FutureWarning)\n",
            "/usr/local/lib/python3.6/dist-packages/sklearn/linear_model/logistic.py:432: FutureWarning: Default solver will be changed to 'lbfgs' in 0.22. Specify a solver to silence this warning.\n",
            "  FutureWarning)\n",
            "/usr/local/lib/python3.6/dist-packages/sklearn/linear_model/logistic.py:432: FutureWarning: Default solver will be changed to 'lbfgs' in 0.22. Specify a solver to silence this warning.\n",
            "  FutureWarning)\n",
            "/usr/local/lib/python3.6/dist-packages/sklearn/linear_model/logistic.py:432: FutureWarning: Default solver will be changed to 'lbfgs' in 0.22. Specify a solver to silence this warning.\n",
            "  FutureWarning)\n",
            "/usr/local/lib/python3.6/dist-packages/sklearn/linear_model/logistic.py:432: FutureWarning: Default solver will be changed to 'lbfgs' in 0.22. Specify a solver to silence this warning.\n",
            "  FutureWarning)\n",
            "/usr/local/lib/python3.6/dist-packages/sklearn/linear_model/logistic.py:432: FutureWarning: Default solver will be changed to 'lbfgs' in 0.22. Specify a solver to silence this warning.\n",
            "  FutureWarning)\n",
            "/usr/local/lib/python3.6/dist-packages/sklearn/linear_model/logistic.py:432: FutureWarning: Default solver will be changed to 'lbfgs' in 0.22. Specify a solver to silence this warning.\n",
            "  FutureWarning)\n",
            "/usr/local/lib/python3.6/dist-packages/sklearn/linear_model/logistic.py:432: FutureWarning: Default solver will be changed to 'lbfgs' in 0.22. Specify a solver to silence this warning.\n",
            "  FutureWarning)\n",
            "/usr/local/lib/python3.6/dist-packages/sklearn/linear_model/logistic.py:432: FutureWarning: Default solver will be changed to 'lbfgs' in 0.22. Specify a solver to silence this warning.\n",
            "  FutureWarning)\n",
            "/usr/local/lib/python3.6/dist-packages/sklearn/linear_model/logistic.py:432: FutureWarning: Default solver will be changed to 'lbfgs' in 0.22. Specify a solver to silence this warning.\n",
            "  FutureWarning)\n",
            "/usr/local/lib/python3.6/dist-packages/sklearn/linear_model/logistic.py:432: FutureWarning: Default solver will be changed to 'lbfgs' in 0.22. Specify a solver to silence this warning.\n",
            "  FutureWarning)\n",
            "/usr/local/lib/python3.6/dist-packages/sklearn/linear_model/logistic.py:432: FutureWarning: Default solver will be changed to 'lbfgs' in 0.22. Specify a solver to silence this warning.\n",
            "  FutureWarning)\n",
            "/usr/local/lib/python3.6/dist-packages/sklearn/linear_model/logistic.py:432: FutureWarning: Default solver will be changed to 'lbfgs' in 0.22. Specify a solver to silence this warning.\n",
            "  FutureWarning)\n",
            "/usr/local/lib/python3.6/dist-packages/sklearn/linear_model/logistic.py:432: FutureWarning: Default solver will be changed to 'lbfgs' in 0.22. Specify a solver to silence this warning.\n",
            "  FutureWarning)\n",
            "/usr/local/lib/python3.6/dist-packages/sklearn/linear_model/logistic.py:432: FutureWarning: Default solver will be changed to 'lbfgs' in 0.22. Specify a solver to silence this warning.\n",
            "  FutureWarning)\n",
            "/usr/local/lib/python3.6/dist-packages/sklearn/linear_model/logistic.py:432: FutureWarning: Default solver will be changed to 'lbfgs' in 0.22. Specify a solver to silence this warning.\n",
            "  FutureWarning)\n",
            "[Parallel(n_jobs=-1)]: Done  28 tasks      | elapsed:  1.6min\n",
            "/usr/local/lib/python3.6/dist-packages/sklearn/linear_model/logistic.py:432: FutureWarning: Default solver will be changed to 'lbfgs' in 0.22. Specify a solver to silence this warning.\n",
            "  FutureWarning)\n",
            "/usr/local/lib/python3.6/dist-packages/sklearn/linear_model/logistic.py:432: FutureWarning: Default solver will be changed to 'lbfgs' in 0.22. Specify a solver to silence this warning.\n",
            "  FutureWarning)\n",
            "/usr/local/lib/python3.6/dist-packages/sklearn/linear_model/logistic.py:432: FutureWarning: Default solver will be changed to 'lbfgs' in 0.22. Specify a solver to silence this warning.\n",
            "  FutureWarning)\n",
            "/usr/local/lib/python3.6/dist-packages/sklearn/linear_model/logistic.py:432: FutureWarning: Default solver will be changed to 'lbfgs' in 0.22. Specify a solver to silence this warning.\n",
            "  FutureWarning)\n",
            "/usr/local/lib/python3.6/dist-packages/sklearn/linear_model/logistic.py:432: FutureWarning: Default solver will be changed to 'lbfgs' in 0.22. Specify a solver to silence this warning.\n",
            "  FutureWarning)\n",
            "/usr/local/lib/python3.6/dist-packages/sklearn/linear_model/logistic.py:432: FutureWarning: Default solver will be changed to 'lbfgs' in 0.22. Specify a solver to silence this warning.\n",
            "  FutureWarning)\n",
            "/usr/local/lib/python3.6/dist-packages/sklearn/linear_model/logistic.py:432: FutureWarning: Default solver will be changed to 'lbfgs' in 0.22. Specify a solver to silence this warning.\n",
            "  FutureWarning)\n",
            "/usr/local/lib/python3.6/dist-packages/sklearn/linear_model/logistic.py:432: FutureWarning: Default solver will be changed to 'lbfgs' in 0.22. Specify a solver to silence this warning.\n",
            "  FutureWarning)\n",
            "/usr/local/lib/python3.6/dist-packages/sklearn/linear_model/logistic.py:432: FutureWarning: Default solver will be changed to 'lbfgs' in 0.22. Specify a solver to silence this warning.\n",
            "  FutureWarning)\n",
            "/usr/local/lib/python3.6/dist-packages/sklearn/linear_model/logistic.py:432: FutureWarning: Default solver will be changed to 'lbfgs' in 0.22. Specify a solver to silence this warning.\n",
            "  FutureWarning)\n",
            "/usr/local/lib/python3.6/dist-packages/sklearn/linear_model/logistic.py:432: FutureWarning: Default solver will be changed to 'lbfgs' in 0.22. Specify a solver to silence this warning.\n",
            "  FutureWarning)\n",
            "/usr/local/lib/python3.6/dist-packages/sklearn/linear_model/logistic.py:432: FutureWarning: Default solver will be changed to 'lbfgs' in 0.22. Specify a solver to silence this warning.\n",
            "  FutureWarning)\n",
            "/usr/local/lib/python3.6/dist-packages/sklearn/linear_model/logistic.py:432: FutureWarning: Default solver will be changed to 'lbfgs' in 0.22. Specify a solver to silence this warning.\n",
            "  FutureWarning)\n",
            "/usr/local/lib/python3.6/dist-packages/sklearn/linear_model/logistic.py:432: FutureWarning: Default solver will be changed to 'lbfgs' in 0.22. Specify a solver to silence this warning.\n",
            "  FutureWarning)\n",
            "/usr/local/lib/python3.6/dist-packages/sklearn/linear_model/logistic.py:432: FutureWarning: Default solver will be changed to 'lbfgs' in 0.22. Specify a solver to silence this warning.\n",
            "  FutureWarning)\n",
            "/usr/local/lib/python3.6/dist-packages/sklearn/linear_model/logistic.py:432: FutureWarning: Default solver will be changed to 'lbfgs' in 0.22. Specify a solver to silence this warning.\n",
            "  FutureWarning)\n",
            "/usr/local/lib/python3.6/dist-packages/sklearn/linear_model/logistic.py:432: FutureWarning: Default solver will be changed to 'lbfgs' in 0.22. Specify a solver to silence this warning.\n",
            "  FutureWarning)\n",
            "/usr/local/lib/python3.6/dist-packages/sklearn/linear_model/logistic.py:432: FutureWarning: Default solver will be changed to 'lbfgs' in 0.22. Specify a solver to silence this warning.\n",
            "  FutureWarning)\n",
            "/usr/local/lib/python3.6/dist-packages/sklearn/linear_model/logistic.py:432: FutureWarning: Default solver will be changed to 'lbfgs' in 0.22. Specify a solver to silence this warning.\n",
            "  FutureWarning)\n",
            "/usr/local/lib/python3.6/dist-packages/sklearn/linear_model/logistic.py:432: FutureWarning: Default solver will be changed to 'lbfgs' in 0.22. Specify a solver to silence this warning.\n",
            "  FutureWarning)\n",
            "/usr/local/lib/python3.6/dist-packages/sklearn/linear_model/logistic.py:432: FutureWarning: Default solver will be changed to 'lbfgs' in 0.22. Specify a solver to silence this warning.\n",
            "  FutureWarning)\n",
            "/usr/local/lib/python3.6/dist-packages/sklearn/linear_model/logistic.py:432: FutureWarning: Default solver will be changed to 'lbfgs' in 0.22. Specify a solver to silence this warning.\n",
            "  FutureWarning)\n",
            "/usr/local/lib/python3.6/dist-packages/sklearn/linear_model/logistic.py:432: FutureWarning: Default solver will be changed to 'lbfgs' in 0.22. Specify a solver to silence this warning.\n",
            "  FutureWarning)\n",
            "/usr/local/lib/python3.6/dist-packages/sklearn/linear_model/logistic.py:432: FutureWarning: Default solver will be changed to 'lbfgs' in 0.22. Specify a solver to silence this warning.\n",
            "  FutureWarning)\n",
            "/usr/local/lib/python3.6/dist-packages/sklearn/linear_model/logistic.py:432: FutureWarning: Default solver will be changed to 'lbfgs' in 0.22. Specify a solver to silence this warning.\n",
            "  FutureWarning)\n",
            "/usr/local/lib/python3.6/dist-packages/sklearn/linear_model/logistic.py:432: FutureWarning: Default solver will be changed to 'lbfgs' in 0.22. Specify a solver to silence this warning.\n",
            "  FutureWarning)\n",
            "/usr/local/lib/python3.6/dist-packages/sklearn/linear_model/logistic.py:432: FutureWarning: Default solver will be changed to 'lbfgs' in 0.22. Specify a solver to silence this warning.\n",
            "  FutureWarning)\n",
            "/usr/local/lib/python3.6/dist-packages/sklearn/linear_model/logistic.py:432: FutureWarning: Default solver will be changed to 'lbfgs' in 0.22. Specify a solver to silence this warning.\n",
            "  FutureWarning)\n",
            "/usr/local/lib/python3.6/dist-packages/sklearn/linear_model/logistic.py:432: FutureWarning: Default solver will be changed to 'lbfgs' in 0.22. Specify a solver to silence this warning.\n",
            "  FutureWarning)\n",
            "/usr/local/lib/python3.6/dist-packages/sklearn/linear_model/logistic.py:432: FutureWarning: Default solver will be changed to 'lbfgs' in 0.22. Specify a solver to silence this warning.\n",
            "  FutureWarning)\n",
            "/usr/local/lib/python3.6/dist-packages/sklearn/linear_model/logistic.py:432: FutureWarning: Default solver will be changed to 'lbfgs' in 0.22. Specify a solver to silence this warning.\n",
            "  FutureWarning)\n",
            "/usr/local/lib/python3.6/dist-packages/sklearn/linear_model/logistic.py:432: FutureWarning: Default solver will be changed to 'lbfgs' in 0.22. Specify a solver to silence this warning.\n",
            "  FutureWarning)\n",
            "/usr/local/lib/python3.6/dist-packages/sklearn/linear_model/logistic.py:432: FutureWarning: Default solver will be changed to 'lbfgs' in 0.22. Specify a solver to silence this warning.\n",
            "  FutureWarning)\n",
            "/usr/local/lib/python3.6/dist-packages/sklearn/linear_model/logistic.py:432: FutureWarning: Default solver will be changed to 'lbfgs' in 0.22. Specify a solver to silence this warning.\n",
            "  FutureWarning)\n",
            "/usr/local/lib/python3.6/dist-packages/sklearn/linear_model/logistic.py:432: FutureWarning: Default solver will be changed to 'lbfgs' in 0.22. Specify a solver to silence this warning.\n",
            "  FutureWarning)\n",
            "/usr/local/lib/python3.6/dist-packages/sklearn/linear_model/logistic.py:432: FutureWarning: Default solver will be changed to 'lbfgs' in 0.22. Specify a solver to silence this warning.\n",
            "  FutureWarning)\n",
            "/usr/local/lib/python3.6/dist-packages/sklearn/linear_model/logistic.py:432: FutureWarning: Default solver will be changed to 'lbfgs' in 0.22. Specify a solver to silence this warning.\n",
            "  FutureWarning)\n",
            "/usr/local/lib/python3.6/dist-packages/sklearn/linear_model/logistic.py:432: FutureWarning: Default solver will be changed to 'lbfgs' in 0.22. Specify a solver to silence this warning.\n",
            "  FutureWarning)\n",
            "/usr/local/lib/python3.6/dist-packages/sklearn/linear_model/logistic.py:432: FutureWarning: Default solver will be changed to 'lbfgs' in 0.22. Specify a solver to silence this warning.\n",
            "  FutureWarning)\n",
            "/usr/local/lib/python3.6/dist-packages/sklearn/linear_model/logistic.py:432: FutureWarning: Default solver will be changed to 'lbfgs' in 0.22. Specify a solver to silence this warning.\n",
            "  FutureWarning)\n",
            "/usr/local/lib/python3.6/dist-packages/sklearn/linear_model/logistic.py:432: FutureWarning: Default solver will be changed to 'lbfgs' in 0.22. Specify a solver to silence this warning.\n",
            "  FutureWarning)\n",
            "/usr/local/lib/python3.6/dist-packages/sklearn/linear_model/logistic.py:432: FutureWarning: Default solver will be changed to 'lbfgs' in 0.22. Specify a solver to silence this warning.\n",
            "  FutureWarning)\n",
            "/usr/local/lib/python3.6/dist-packages/sklearn/linear_model/logistic.py:432: FutureWarning: Default solver will be changed to 'lbfgs' in 0.22. Specify a solver to silence this warning.\n",
            "  FutureWarning)\n",
            "/usr/local/lib/python3.6/dist-packages/sklearn/linear_model/logistic.py:432: FutureWarning: Default solver will be changed to 'lbfgs' in 0.22. Specify a solver to silence this warning.\n",
            "  FutureWarning)\n",
            "/usr/local/lib/python3.6/dist-packages/sklearn/linear_model/logistic.py:432: FutureWarning: Default solver will be changed to 'lbfgs' in 0.22. Specify a solver to silence this warning.\n",
            "  FutureWarning)\n",
            "/usr/local/lib/python3.6/dist-packages/sklearn/linear_model/logistic.py:432: FutureWarning: Default solver will be changed to 'lbfgs' in 0.22. Specify a solver to silence this warning.\n",
            "  FutureWarning)\n",
            "/usr/local/lib/python3.6/dist-packages/sklearn/linear_model/logistic.py:432: FutureWarning: Default solver will be changed to 'lbfgs' in 0.22. Specify a solver to silence this warning.\n",
            "  FutureWarning)\n",
            "/usr/local/lib/python3.6/dist-packages/sklearn/linear_model/logistic.py:432: FutureWarning: Default solver will be changed to 'lbfgs' in 0.22. Specify a solver to silence this warning.\n",
            "  FutureWarning)\n",
            "/usr/local/lib/python3.6/dist-packages/sklearn/linear_model/logistic.py:432: FutureWarning: Default solver will be changed to 'lbfgs' in 0.22. Specify a solver to silence this warning.\n",
            "  FutureWarning)\n",
            "/usr/local/lib/python3.6/dist-packages/sklearn/linear_model/logistic.py:432: FutureWarning: Default solver will be changed to 'lbfgs' in 0.22. Specify a solver to silence this warning.\n",
            "  FutureWarning)\n",
            "/usr/local/lib/python3.6/dist-packages/sklearn/linear_model/logistic.py:432: FutureWarning: Default solver will be changed to 'lbfgs' in 0.22. Specify a solver to silence this warning.\n",
            "  FutureWarning)\n",
            "/usr/local/lib/python3.6/dist-packages/sklearn/linear_model/logistic.py:432: FutureWarning: Default solver will be changed to 'lbfgs' in 0.22. Specify a solver to silence this warning.\n",
            "  FutureWarning)\n",
            "/usr/local/lib/python3.6/dist-packages/sklearn/linear_model/logistic.py:432: FutureWarning: Default solver will be changed to 'lbfgs' in 0.22. Specify a solver to silence this warning.\n",
            "  FutureWarning)\n",
            "/usr/local/lib/python3.6/dist-packages/sklearn/linear_model/logistic.py:432: FutureWarning: Default solver will be changed to 'lbfgs' in 0.22. Specify a solver to silence this warning.\n",
            "  FutureWarning)\n",
            "/usr/local/lib/python3.6/dist-packages/sklearn/linear_model/logistic.py:432: FutureWarning: Default solver will be changed to 'lbfgs' in 0.22. Specify a solver to silence this warning.\n",
            "  FutureWarning)\n",
            "/usr/local/lib/python3.6/dist-packages/sklearn/linear_model/logistic.py:432: FutureWarning: Default solver will be changed to 'lbfgs' in 0.22. Specify a solver to silence this warning.\n",
            "  FutureWarning)\n",
            "/usr/local/lib/python3.6/dist-packages/sklearn/linear_model/logistic.py:432: FutureWarning: Default solver will be changed to 'lbfgs' in 0.22. Specify a solver to silence this warning.\n",
            "  FutureWarning)\n",
            "/usr/local/lib/python3.6/dist-packages/sklearn/linear_model/logistic.py:432: FutureWarning: Default solver will be changed to 'lbfgs' in 0.22. Specify a solver to silence this warning.\n",
            "  FutureWarning)\n",
            "/usr/local/lib/python3.6/dist-packages/sklearn/linear_model/logistic.py:432: FutureWarning: Default solver will be changed to 'lbfgs' in 0.22. Specify a solver to silence this warning.\n",
            "  FutureWarning)\n",
            "/usr/local/lib/python3.6/dist-packages/sklearn/linear_model/logistic.py:432: FutureWarning: Default solver will be changed to 'lbfgs' in 0.22. Specify a solver to silence this warning.\n",
            "  FutureWarning)\n",
            "/usr/local/lib/python3.6/dist-packages/sklearn/linear_model/logistic.py:432: FutureWarning: Default solver will be changed to 'lbfgs' in 0.22. Specify a solver to silence this warning.\n",
            "  FutureWarning)\n",
            "/usr/local/lib/python3.6/dist-packages/sklearn/linear_model/logistic.py:432: FutureWarning: Default solver will be changed to 'lbfgs' in 0.22. Specify a solver to silence this warning.\n",
            "  FutureWarning)\n",
            "/usr/local/lib/python3.6/dist-packages/sklearn/linear_model/logistic.py:432: FutureWarning: Default solver will be changed to 'lbfgs' in 0.22. Specify a solver to silence this warning.\n",
            "  FutureWarning)\n",
            "/usr/local/lib/python3.6/dist-packages/sklearn/linear_model/logistic.py:432: FutureWarning: Default solver will be changed to 'lbfgs' in 0.22. Specify a solver to silence this warning.\n",
            "  FutureWarning)\n",
            "/usr/local/lib/python3.6/dist-packages/sklearn/linear_model/logistic.py:432: FutureWarning: Default solver will be changed to 'lbfgs' in 0.22. Specify a solver to silence this warning.\n",
            "  FutureWarning)\n",
            "/usr/local/lib/python3.6/dist-packages/sklearn/linear_model/logistic.py:432: FutureWarning: Default solver will be changed to 'lbfgs' in 0.22. Specify a solver to silence this warning.\n",
            "  FutureWarning)\n",
            "/usr/local/lib/python3.6/dist-packages/sklearn/linear_model/logistic.py:432: FutureWarning: Default solver will be changed to 'lbfgs' in 0.22. Specify a solver to silence this warning.\n",
            "  FutureWarning)\n",
            "/usr/local/lib/python3.6/dist-packages/sklearn/linear_model/logistic.py:432: FutureWarning: Default solver will be changed to 'lbfgs' in 0.22. Specify a solver to silence this warning.\n",
            "  FutureWarning)\n",
            "/usr/local/lib/python3.6/dist-packages/sklearn/linear_model/logistic.py:432: FutureWarning: Default solver will be changed to 'lbfgs' in 0.22. Specify a solver to silence this warning.\n",
            "  FutureWarning)\n",
            "/usr/local/lib/python3.6/dist-packages/sklearn/linear_model/logistic.py:432: FutureWarning: Default solver will be changed to 'lbfgs' in 0.22. Specify a solver to silence this warning.\n",
            "  FutureWarning)\n",
            "/usr/local/lib/python3.6/dist-packages/sklearn/linear_model/logistic.py:432: FutureWarning: Default solver will be changed to 'lbfgs' in 0.22. Specify a solver to silence this warning.\n",
            "  FutureWarning)\n",
            "[Parallel(n_jobs=-1)]: Done 100 out of 100 | elapsed:  5.9min finished\n"
          ],
          "name": "stderr"
        },
        {
          "output_type": "stream",
          "text": [
            "dalearnerを./model/dalearner_20200519220007.pklに出力\n"
          ],
          "name": "stdout"
        }
      ]
    },
    {
      "cell_type": "markdown",
      "metadata": {
        "id": "S1SgUZcswc4o",
        "colab_type": "text"
      },
      "source": [
        "#### 傾向スコアモデルの精度算出\n",
        "傾向スコアモデルの作り方はXLeanerと変わらないので、精度も同じ"
      ]
    },
    {
      "cell_type": "code",
      "metadata": {
        "id": "H-kekI9Hv5kR",
        "colab_type": "code",
        "outputId": "da9bf1ac-df26-4cb3-b60f-a3e2043f6d3d",
        "colab": {
          "base_uri": "https://localhost:8080/",
          "height": 53
        }
      },
      "source": [
        "train_score, val_score = calc_model_score(DALearner_model.propensity_models[0], \n",
        "                                          train_data[COVARIATE_COLUMNS].values, train_data[TREATMENT_COLUMN].values,\n",
        "                                          test_data[COVARIATE_COLUMNS].values, test_data[TREATMENT_COLUMN].values)\n",
        "print(\"DA-Leaner内の傾向スコアモデルの訓練精度:{train_score}\".format(train_score=train_score))\n",
        "print(\"DA-Leaner内の傾向スコアモデルの検証精度:{val_score}\".format(val_score=val_score))"
      ],
      "execution_count": 0,
      "outputs": [
        {
          "output_type": "stream",
          "text": [
            "DA-Leaner内の傾向スコアモデルの訓練精度:0.927375\n",
            "DA-Leaner内の傾向スコアモデルの検証精度:0.8945\n"
          ],
          "name": "stdout"
        }
      ]
    },
    {
      "cell_type": "markdown",
      "metadata": {
        "id": "hY_CYUbvnied",
        "colab_type": "text"
      },
      "source": [
        "### (統計的に有意な特徴量のみで)X-Learner"
      ]
    },
    {
      "cell_type": "code",
      "metadata": {
        "id": "mC5SYZTlox2P",
        "colab_type": "code",
        "colab": {}
      },
      "source": [
        "hyperparameter = {\n",
        "    \"models\" : {\n",
        "        \"n_estimators\" : 600,\n",
        "        \"random_state\" : 7,\n",
        "        \"objective\" : \"reg:gamma\"\n",
        "    },\n",
        "    \"propensity_model\" : {\n",
        "        \"n_estimators\" : 600,\n",
        "        \"random_state\" : 7,\n",
        "        \"objective\" : \"binary:logistic\"\n",
        "    },\n",
        "    \"cate_models\" : {\n",
        "        \"n_estimators\" : 600,\n",
        "        \"random_state\" : 7,\n",
        "        \"objective\" : \"reg:squarederror\"\n",
        "    }\n",
        "}"
      ],
      "execution_count": 0,
      "outputs": []
    },
    {
      "cell_type": "code",
      "metadata": {
        "id": "wXYeDBX9nqVq",
        "colab_type": "code",
        "outputId": "55a7bc1e-a20e-4ddb-ee5f-d891da4775bf",
        "colab": {
          "base_uri": "https://localhost:8080/",
          "height": 35
        }
      },
      "source": [
        "SIGNIFICANT_FEAT_XLEARNER_TRAIN_MODE = False\n",
        "\n",
        "model_name = 'significant_feat_xlearner'\n",
        "model_obj_dir = \"./model\"\n",
        "load_pkl_path = \"significant_feat_xlearner_20200517192843.pkl\"\n",
        "\n",
        "if SIGNIFICANT_FEAT_XLEARNER_TRAIN_MODE:\n",
        "    Significant_feat_XLeaner_model = XLearner(models=xgb.XGBRegressor(**hyperparameter[\"models\"]), # （反事実も含めた）アウトカム予測用のモデル定義\n",
        "                             propensity_model=xgb.XGBClassifier(**hyperparameter[\"propensity_model\"]), # 傾向スコア予測用のモデル定義\n",
        "                             cate_models=xgb.XGBRegressor(**hyperparameter[\"cate_models\"]), # CATE予測用のモデル定義\n",
        "                             )\n",
        "\n",
        "    #inference='bootstrap'\n",
        "    inference=None\n",
        "    Significant_feat_XLeaner_model.fit(Y=train_data[OUTCOME_COLUMN].values, # アウトカム\n",
        "                                       T=train_data[TREATMENT_COLUMN].values, # 介入変数\n",
        "                                       X=train_data[SIGNIFICANT_FEAT].values, # 交絡因子\n",
        "                                       inference=inference\n",
        "                                       )\n",
        "    \n",
        "    # inferenceをbootstrapに設定した場合、pklファイルに書き出さない\n",
        "    # (最大深度の問題でpklファイルから読み込めないため)\n",
        "    if inference != 'bootstrap':\n",
        "        res = export_pkl_model_obj(model_obj_dir, model_name, Significant_feat_XLeaner_model, hyperparameter)\n",
        "        print(\"{model_name}を{file_path}に出力\".format(model_name=model_name, file_path=res))\n",
        "        \n",
        "else:\n",
        "    load_obj = load_pkl(model_obj_dir, load_pkl_path)\n",
        "    Significant_feat_XLeaner_model = load_obj[\"model\"]\n",
        "    print(\"{model_name}を{file_path}から読み込み\".format(model_name=model_name, file_path=load_pkl_path))\n",
        "    print(\"ハイパーパラメータ{hyperparameter}\".format(hyperparameter=load_obj[\"hyperparameter\"]))"
      ],
      "execution_count": 0,
      "outputs": [
        {
          "output_type": "stream",
          "text": [
            "significant_feat_xlearnerを./model/significant_feat_xlearner_20200517192843.pklに出力\n"
          ],
          "name": "stdout"
        }
      ]
    },
    {
      "cell_type": "markdown",
      "metadata": {
        "id": "micc9w-VD2cD",
        "colab_type": "text"
      },
      "source": [
        "#### 傾向スコアモデルの精度算出"
      ]
    },
    {
      "cell_type": "code",
      "metadata": {
        "id": "0d7EZxBHozuU",
        "colab_type": "code",
        "outputId": "056dde36-21b8-4087-dbf3-3a082b519bb0",
        "colab": {
          "base_uri": "https://localhost:8080/",
          "height": 53
        }
      },
      "source": [
        "train_score, val_score = calc_model_score(Significant_feat_XLeaner_model.propensity_models[0], \n",
        "                                          train_data[SIGNIFICANT_FEAT].values, train_data[TREATMENT_COLUMN].values,\n",
        "                                          test_data[SIGNIFICANT_FEAT].values, test_data[TREATMENT_COLUMN].values)\n",
        "print(\"有意な特徴量のみを用いたX-Leaner内の傾向スコアモデルの訓練精度:{train_score}\".format(train_score=train_score))\n",
        "print(\"有意な特徴量のみを用いたX-Leaner内の傾向スコアモデルの検証精度:{val_score}\".format(val_score=val_score))"
      ],
      "execution_count": 0,
      "outputs": [
        {
          "output_type": "stream",
          "text": [
            "有意な特徴量のみを用いたX-Leaner内の傾向スコアモデルの訓練精度:0.908625\n",
            "有意な特徴量のみを用いたX-Leaner内の傾向スコアモデルの検証精度:0.873\n"
          ],
          "name": "stdout"
        }
      ]
    },
    {
      "cell_type": "markdown",
      "metadata": {
        "id": "vFPw8yeHHTW6",
        "colab_type": "text"
      },
      "source": [
        "### (統計的に有意な特徴量のみで)DA-Learner"
      ]
    },
    {
      "cell_type": "code",
      "metadata": {
        "id": "Vxg4GE3CHVQT",
        "colab_type": "code",
        "colab": {}
      },
      "source": [
        "hyperparameter = {\n",
        "    \"models\" : {\n",
        "        \"n_estimators\" : 600,\n",
        "        \"random_state\" : 7,\n",
        "        \"objective\" : \"reg:gamma\"\n",
        "    },\n",
        "    \"propensity_model\" : {\n",
        "        \"n_estimators\" : 600,\n",
        "        \"random_state\" : 7,\n",
        "        \"objective\" : \"binary:logistic\"\n",
        "    },\n",
        "    \"final_models\" : {\n",
        "        \"n_estimators\" : 600,\n",
        "        \"random_state\" : 7,\n",
        "        \"objective\" : \"reg:squarederror\"\n",
        "    }\n",
        "}"
      ],
      "execution_count": 0,
      "outputs": []
    },
    {
      "cell_type": "code",
      "metadata": {
        "id": "nIreYSybHXAD",
        "colab_type": "code",
        "outputId": "4dd0e0d1-9e9c-4b0b-aea9-b301c6571f44",
        "colab": {
          "base_uri": "https://localhost:8080/",
          "height": 35
        }
      },
      "source": [
        "SIGNIFICANT_FEAT_DALEARNER_TRAIN_MODE = False\n",
        "\n",
        "model_name = 'significant_feat_dalearner'\n",
        "model_obj_dir = \"./model\"\n",
        "load_pkl_path = \"significant_feat_dalearner_20200517192943.pkl\"\n",
        "\n",
        "if SIGNIFICANT_FEAT_DALEARNER_TRAIN_MODE:\n",
        "    Significant_feat_DALearner_model = DomainAdaptationLearner(models=xgb.XGBRegressor(**hyperparameter[\"models\"]), # （反事実も含めた）アウトカム予測用のモデル定義\n",
        "                                          propensity_model=xgb.XGBClassifier(**hyperparameter[\"propensity_model\"]), # 傾向スコア予測用のモデル定義\n",
        "                                          final_models=xgb.XGBRegressor(**hyperparameter[\"final_models\"]), # CATE予測用のモデル定義\n",
        "                                          )\n",
        "\n",
        "    #inference='bootstrap'\n",
        "    inference=None\n",
        "    Significant_feat_DALearner_model.fit(Y=train_data[OUTCOME_COLUMN].values,\n",
        "                    T=train_data[TREATMENT_COLUMN].values,\n",
        "                    X=train_data[SIGNIFICANT_FEAT].values,\n",
        "                    inference=inference\n",
        "                    )\n",
        "    \n",
        "    # inferenceをbootstrapに設定した場合、pklファイルに書き出さない\n",
        "    # (最大深度の問題でpklファイルから読み込めないため)\n",
        "    if inference != 'bootstrap':\n",
        "        res = export_pkl_model_obj(model_obj_dir, model_name, Significant_feat_DALearner_model, hyperparameter)\n",
        "        print(\"{model_name}を{file_path}に出力\".format(model_name=model_name, file_path=res))\n",
        "        \n",
        "else:\n",
        "    load_obj = load_pkl(model_obj_dir, load_pkl_path)\n",
        "    Significant_feat_DALearner_model = load_obj[\"model\"]\n",
        "    print(\"{model_name}を{file_path}から読み込み\".format(model_name=model_name, file_path=load_pkl_path))\n",
        "    print(\"ハイパーパラメータ{hyperparameter}\".format(hyperparameter=load_obj[\"hyperparameter\"]))"
      ],
      "execution_count": 0,
      "outputs": [
        {
          "output_type": "stream",
          "text": [
            "significant_feat_dalearnerを./model/significant_feat_dalearner_20200517192943.pklに出力\n"
          ],
          "name": "stdout"
        }
      ]
    },
    {
      "cell_type": "markdown",
      "metadata": {
        "id": "VDYr1sX_zJmS",
        "colab_type": "text"
      },
      "source": [
        "## CATEの結果を描画\n",
        "econmlに収録されているInterpreterを使う"
      ]
    },
    {
      "cell_type": "code",
      "metadata": {
        "id": "43vCiRATvZ8N",
        "colab_type": "code",
        "colab": {}
      },
      "source": [
        "from econml.cate_interpreter import SingleTreeCateInterpreter"
      ],
      "execution_count": 0,
      "outputs": []
    },
    {
      "cell_type": "code",
      "metadata": {
        "id": "9oFOZAHJgCRA",
        "colab_type": "code",
        "colab": {}
      },
      "source": [
        "def plot_model_interpreter(model, X_df, model_inference=False):\n",
        "    \"\"\"\n",
        "    Interpreterを使ってCATEの結果を描画\n",
        "    \"\"\"\n",
        "    # 信頼区間も算出可能なモデルの場合True\n",
        "    include_model_uncertainty = model_inference\n",
        "\n",
        "    intrp = SingleTreeCateInterpreter(include_model_uncertainty=include_model_uncertainty, \n",
        "                                      max_depth=3, min_samples_leaf=10,\n",
        "                                      random_state=7)\n",
        "    \n",
        "    # We interpret the CATE model's behavior based on the features used for heterogeneity\n",
        "    intrp.interpret(model, X_df.values)\n",
        "\n",
        "    # Plot the tree\n",
        "    plt.figure(figsize=(35, 10))\n",
        "    intrp.plot(feature_names=X_df.columns, fontsize=12)\n",
        "    plt.show()"
      ],
      "execution_count": 0,
      "outputs": []
    },
    {
      "cell_type": "markdown",
      "metadata": {
        "id": "5Acndan_Lwph",
        "colab_type": "text"
      },
      "source": [
        "### SparseDRLearner"
      ]
    },
    {
      "cell_type": "code",
      "metadata": {
        "id": "66U4vKPBhFO5",
        "colab_type": "code",
        "outputId": "21d4626d-f8b7-424c-d630-988a24ea2ffc",
        "colab": {
          "base_uri": "https://localhost:8080/",
          "height": 260
        }
      },
      "source": [
        "plot_model_interpreter(Sparse_DRLearner_model, analysis_data[COVARIATE_COLUMNS])"
      ],
      "execution_count": 0,
      "outputs": [
        {
          "output_type": "display_data",
          "data": {
            "image/png": "[encoded data removed]",
            "text/plain": [
              "<Figure size 2520x720 with 1 Axes>"
            ]
          },
          "metadata": {
            "tags": [],
            "needs_background": "light"
          }
        }
      ]
    },
    {
      "cell_type": "markdown",
      "metadata": {
        "id": "7QiH8ZQzGXiH",
        "colab_type": "text"
      },
      "source": [
        "## 広告配信の戦略を決める\n",
        "econmlに収録されているPolicyInterpreterを使う"
      ]
    },
    {
      "cell_type": "code",
      "metadata": {
        "id": "Ikb2-yDCiuot",
        "colab_type": "code",
        "colab": {}
      },
      "source": [
        "from econml.cate_interpreter import SingleTreePolicyInterpreter"
      ],
      "execution_count": 0,
      "outputs": []
    },
    {
      "cell_type": "code",
      "metadata": {
        "id": "KpkochoRzc_B",
        "colab_type": "code",
        "colab": {}
      },
      "source": [
        "def plot_model_policyinterpreter(model, X_df):\n",
        "    # We find a tree-based treatment policy based on the CATE model\n",
        "    intrp = SingleTreePolicyInterpreter(risk_level=0.05, \n",
        "                                        max_depth=3, min_samples_leaf=1,\n",
        "                                        min_impurity_decrease=.001,\n",
        "                                        random_state=7)\n",
        "    intrp.interpret(model, X_df.values, sample_treatment_costs=0.2)\n",
        "    # Plot the tree\n",
        "    plt.figure(figsize=(35, 10))\n",
        "    intrp.plot(feature_names=X_df.columns, fontsize=12)\n",
        "    plt.show()"
      ],
      "execution_count": 0,
      "outputs": []
    },
    {
      "cell_type": "markdown",
      "metadata": {
        "id": "bxacfHP0OpZc",
        "colab_type": "text"
      },
      "source": [
        "### SparseDRLearner"
      ]
    },
    {
      "cell_type": "code",
      "metadata": {
        "id": "7KmwW3DhjkB2",
        "colab_type": "code",
        "outputId": "9cee259d-9770-45d7-b3ef-69efb16a692c",
        "colab": {
          "base_uri": "https://localhost:8080/",
          "height": 273
        }
      },
      "source": [
        "plot_model_policyinterpreter(Sparse_DRLearner_model, test_data[COVARIATE_COLUMNS])"
      ],
      "execution_count": 0,
      "outputs": [
        {
          "output_type": "display_data",
          "data": {
            "image/png": "[encoded data removed]",
            "text/plain": [
              "<Figure size 2520x720 with 1 Axes>"
            ]
          },
          "metadata": {
            "tags": [],
            "needs_background": "light"
          }
        }
      ]
    },
    {
      "cell_type": "code",
      "metadata": {
        "id": "iizKYqVDw6YJ",
        "colab_type": "code",
        "colab": {}
      },
      "source": [
        ""
      ],
      "execution_count": 0,
      "outputs": []
    }
  ]
}