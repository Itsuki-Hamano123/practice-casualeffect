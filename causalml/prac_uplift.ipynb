{
  "nbformat": 4,
  "nbformat_minor": 0,
  "metadata": {
    "colab": {
      "name": "prac_uplift.ipynb",
      "provenance": [],
      "collapsed_sections": [],
      "toc_visible": true,
      "authorship_tag": "ABX9TyNJNppUgG9bIUHZpQC8SjtH",
      "include_colab_link": true
    },
    "kernelspec": {
      "name": "python3",
      "display_name": "Python 3"
    }
  },
  "cells": [
    {
      "cell_type": "markdown",
      "metadata": {
        "id": "view-in-github",
        "colab_type": "text"
      },
      "source": [
        "<a href=\"https://colab.research.google.com/github/Itsuki-Hamano123/practice-casualeffect/blob/master/causalml/prac_uplift.ipynb\" target=\"_parent\"><img src=\"https://colab.research.google.com/assets/colab-badge.svg\" alt=\"Open In Colab\"/></a>"
      ]
    },
    {
      "cell_type": "code",
      "metadata": {
        "id": "E685KINtrWdH",
        "colab_type": "code",
        "outputId": "064a95c4-1f8b-41df-9dfb-f8b3c0154416",
        "colab": {
          "base_uri": "https://localhost:8080/",
          "height": 127
        }
      },
      "source": [
        "from google.colab import drive\n",
        "drive.mount('/content/drive')"
      ],
      "execution_count": 1,
      "outputs": [
        {
          "output_type": "stream",
          "text": [
            "Go to this URL in a browser: https://accounts.google.com/o/oauth2/auth?client_id=947318989803-6bn6qk8qdgf4n4g3pfee6491hc0brc4i.apps.googleusercontent.com&redirect_uri=urn%3aietf%3awg%3aoauth%3a2.0%3aoob&response_type=code&scope=email%20https%3a%2f%2fwww.googleapis.com%2fauth%2fdocs.test%20https%3a%2f%2fwww.googleapis.com%2fauth%2fdrive%20https%3a%2f%2fwww.googleapis.com%2fauth%2fdrive.photos.readonly%20https%3a%2f%2fwww.googleapis.com%2fauth%2fpeopleapi.readonly\n",
            "\n",
            "Enter your authorization code:\n",
            "··········\n",
            "Mounted at /content/drive\n"
          ],
          "name": "stdout"
        }
      ]
    },
    {
      "cell_type": "code",
      "metadata": {
        "id": "aHr2uxFmrcaC",
        "colab_type": "code",
        "outputId": "2502c8d6-471e-4601-e980-69cb70d39974",
        "colab": {
          "base_uri": "https://localhost:8080/",
          "height": 35
        }
      },
      "source": [
        "cd /content/drive/My Drive/機械学習練習/統計的因果推論/因果推論実践用/causalML"
      ],
      "execution_count": 2,
      "outputs": [
        {
          "output_type": "stream",
          "text": [
            "/content/drive/My Drive/機械学習練習/統計的因果推論/因果推論実践用/causalML\n"
          ],
          "name": "stdout"
        }
      ]
    },
    {
      "cell_type": "code",
      "metadata": {
        "id": "-g2VEP2ksDdU",
        "colab_type": "code",
        "outputId": "3f396961-692f-41b6-bf0d-c1de3f6004e2",
        "colab": {
          "base_uri": "https://localhost:8080/",
          "height": 35
        }
      },
      "source": [
        "ls"
      ],
      "execution_count": 3,
      "outputs": [
        {
          "output_type": "stream",
          "text": [
            "prac_uplift.ipynb\n"
          ],
          "name": "stdout"
        }
      ]
    },
    {
      "cell_type": "code",
      "metadata": {
        "id": "AZSrICcszNww",
        "colab_type": "code",
        "colab": {}
      },
      "source": [
        "def time_watch(func):\n",
        "    \"\"\"時間計測用デコレータ関数\n",
        "    \n",
        "    Parameters\n",
        "    -----\n",
        "    func : function\n",
        "        実行したい関数\n",
        "\n",
        "    \"\"\"\n",
        "    @functools.wraps(func)\n",
        "    def wrapper(*args, **kwargs):\n",
        "        start = datetime.datetime.today()\n",
        "        result = func(*args, **kwargs)\n",
        "        end = datetime.datetime.today()\n",
        "        print(\"実行時間:{time}\".format(time=end - start))\n",
        "        return result\n",
        "    return wrapper"
      ],
      "execution_count": 0,
      "outputs": []
    },
    {
      "cell_type": "markdown",
      "metadata": {
        "id": "yaAZRhQKq8EE",
        "colab_type": "text"
      },
      "source": [
        "# uplift値を算出するupliftモデルの練習"
      ]
    },
    {
      "cell_type": "code",
      "metadata": {
        "id": "eiTWDxfj1VtD",
        "colab_type": "code",
        "colab": {}
      },
      "source": [
        "# utils\n",
        "import datetime\n",
        "import functools\n",
        "import pprint"
      ],
      "execution_count": 0,
      "outputs": []
    },
    {
      "cell_type": "markdown",
      "metadata": {
        "id": "6mz1yNnIrsBU",
        "colab_type": "text"
      },
      "source": [
        "## dataset\n",
        "http://ailab.criteo.com/criteo-uplift-prediction-dataset/"
      ]
    },
    {
      "cell_type": "code",
      "metadata": {
        "id": "6BrRLNVQv6QN",
        "colab_type": "code",
        "colab": {}
      },
      "source": [
        "import pandas as pd"
      ],
      "execution_count": 0,
      "outputs": []
    },
    {
      "cell_type": "code",
      "metadata": {
        "id": "uhKWsg7Urrep",
        "colab_type": "code",
        "colab": {}
      },
      "source": [
        "DATADIR = \"../datasets\"\n",
        "#csv_data_file = \"criteo-uplift-v2.csv\"\n",
        "csv_data_file = \"sampling_1000000_seed7.csv\"\n",
        "data_path  = DATADIR + \"/\"  + csv_data_file"
      ],
      "execution_count": 0,
      "outputs": []
    },
    {
      "cell_type": "code",
      "metadata": {
        "id": "HPDlJ2pc3ID6",
        "colab_type": "code",
        "colab": {}
      },
      "source": [
        "@time_watch\n",
        "def sampling_data(file_path, sample_num):\n",
        "    \"\"\"\n",
        "    データをランダムにサンプリングして読み込む\n",
        "\n",
        "    Parameters\n",
        "    -----\n",
        "    file_path : string\n",
        "    sample_num : int\n",
        "\n",
        "    Retruns\n",
        "    -----\n",
        "    df : pandas.Dataframe\n",
        "    \"\"\"\n",
        "    df = pd.read_csv(file_path).sample(n=sample_num, random_state=7).reset_index(drop=True)\n",
        "    return df"
      ],
      "execution_count": 0,
      "outputs": []
    },
    {
      "cell_type": "code",
      "metadata": {
        "id": "ZmxxIuUkv-0N",
        "colab_type": "code",
        "outputId": "12895876-f3a6-43f5-94bc-0764cbb2601b",
        "colab": {
          "base_uri": "https://localhost:8080/",
          "height": 240
        }
      },
      "source": [
        "# （元データが大きすぎるので）ランダムに抽出したcsvファイルを読み込むかフラグ\n",
        "READ_SAMPLING_DATA_FLAG = True\n",
        "\n",
        "# ランダムに抽出する行数\n",
        "sample_num = 1000000\n",
        "\n",
        "if READ_SAMPLING_DATA_FLAG:\n",
        "    criteo_data = pd.read_csv(data_path)\n",
        "else:\n",
        "    criteo_data = sampling_data(file_path=data_path, sample_num=sample_num)\n",
        "\n",
        "print(\"解析対象のデータサイズ:{size}\".format(size=criteo_data.shape))\n",
        "criteo_data.head()"
      ],
      "execution_count": 9,
      "outputs": [
        {
          "output_type": "stream",
          "text": [
            "解析対象のデータサイズ:(1000000, 16)\n"
          ],
          "name": "stdout"
        },
        {
          "output_type": "execute_result",
          "data": {
            "text/html": [
              "<div>\n",
              "<style scoped>\n",
              "    .dataframe tbody tr th:only-of-type {\n",
              "        vertical-align: middle;\n",
              "    }\n",
              "\n",
              "    .dataframe tbody tr th {\n",
              "        vertical-align: top;\n",
              "    }\n",
              "\n",
              "    .dataframe thead th {\n",
              "        text-align: right;\n",
              "    }\n",
              "</style>\n",
              "<table border=\"1\" class=\"dataframe\">\n",
              "  <thead>\n",
              "    <tr style=\"text-align: right;\">\n",
              "      <th></th>\n",
              "      <th>f0</th>\n",
              "      <th>f1</th>\n",
              "      <th>f2</th>\n",
              "      <th>f3</th>\n",
              "      <th>f4</th>\n",
              "      <th>f5</th>\n",
              "      <th>f6</th>\n",
              "      <th>f7</th>\n",
              "      <th>f8</th>\n",
              "      <th>f9</th>\n",
              "      <th>f10</th>\n",
              "      <th>f11</th>\n",
              "      <th>treatment</th>\n",
              "      <th>conversion</th>\n",
              "      <th>visit</th>\n",
              "      <th>exposure</th>\n",
              "    </tr>\n",
              "  </thead>\n",
              "  <tbody>\n",
              "    <tr>\n",
              "      <th>0</th>\n",
              "      <td>26.140824</td>\n",
              "      <td>10.059654</td>\n",
              "      <td>8.848786</td>\n",
              "      <td>4.679882</td>\n",
              "      <td>10.280525</td>\n",
              "      <td>4.115453</td>\n",
              "      <td>-3.993764</td>\n",
              "      <td>4.833815</td>\n",
              "      <td>3.790775</td>\n",
              "      <td>13.190056</td>\n",
              "      <td>5.300375</td>\n",
              "      <td>-0.168679</td>\n",
              "      <td>1</td>\n",
              "      <td>0</td>\n",
              "      <td>0</td>\n",
              "      <td>0</td>\n",
              "    </tr>\n",
              "    <tr>\n",
              "      <th>1</th>\n",
              "      <td>25.589651</td>\n",
              "      <td>10.059654</td>\n",
              "      <td>9.032961</td>\n",
              "      <td>4.679882</td>\n",
              "      <td>10.280525</td>\n",
              "      <td>4.115453</td>\n",
              "      <td>-5.987667</td>\n",
              "      <td>4.833815</td>\n",
              "      <td>3.872698</td>\n",
              "      <td>13.190056</td>\n",
              "      <td>5.300375</td>\n",
              "      <td>-0.168679</td>\n",
              "      <td>1</td>\n",
              "      <td>0</td>\n",
              "      <td>0</td>\n",
              "      <td>0</td>\n",
              "    </tr>\n",
              "    <tr>\n",
              "      <th>2</th>\n",
              "      <td>12.616365</td>\n",
              "      <td>10.059654</td>\n",
              "      <td>8.944798</td>\n",
              "      <td>4.679882</td>\n",
              "      <td>10.280525</td>\n",
              "      <td>4.115453</td>\n",
              "      <td>0.294443</td>\n",
              "      <td>4.833815</td>\n",
              "      <td>3.920995</td>\n",
              "      <td>13.190056</td>\n",
              "      <td>5.300375</td>\n",
              "      <td>-0.168679</td>\n",
              "      <td>1</td>\n",
              "      <td>0</td>\n",
              "      <td>0</td>\n",
              "      <td>0</td>\n",
              "    </tr>\n",
              "    <tr>\n",
              "      <th>3</th>\n",
              "      <td>18.428264</td>\n",
              "      <td>10.059654</td>\n",
              "      <td>8.602762</td>\n",
              "      <td>3.907662</td>\n",
              "      <td>10.280525</td>\n",
              "      <td>4.115453</td>\n",
              "      <td>-1.288207</td>\n",
              "      <td>4.833815</td>\n",
              "      <td>3.927254</td>\n",
              "      <td>21.416100</td>\n",
              "      <td>5.300375</td>\n",
              "      <td>-0.168679</td>\n",
              "      <td>1</td>\n",
              "      <td>0</td>\n",
              "      <td>0</td>\n",
              "      <td>0</td>\n",
              "    </tr>\n",
              "    <tr>\n",
              "      <th>4</th>\n",
              "      <td>22.243701</td>\n",
              "      <td>10.059654</td>\n",
              "      <td>8.214383</td>\n",
              "      <td>4.679882</td>\n",
              "      <td>10.280525</td>\n",
              "      <td>4.115453</td>\n",
              "      <td>-5.116672</td>\n",
              "      <td>4.833815</td>\n",
              "      <td>3.971858</td>\n",
              "      <td>13.190056</td>\n",
              "      <td>5.300375</td>\n",
              "      <td>-0.168679</td>\n",
              "      <td>1</td>\n",
              "      <td>0</td>\n",
              "      <td>0</td>\n",
              "      <td>0</td>\n",
              "    </tr>\n",
              "  </tbody>\n",
              "</table>\n",
              "</div>"
            ],
            "text/plain": [
              "          f0         f1        f2  ...  conversion  visit  exposure\n",
              "0  26.140824  10.059654  8.848786  ...           0      0         0\n",
              "1  25.589651  10.059654  9.032961  ...           0      0         0\n",
              "2  12.616365  10.059654  8.944798  ...           0      0         0\n",
              "3  18.428264  10.059654  8.602762  ...           0      0         0\n",
              "4  22.243701  10.059654  8.214383  ...           0      0         0\n",
              "\n",
              "[5 rows x 16 columns]"
            ]
          },
          "metadata": {
            "tags": []
          },
          "execution_count": 9
        }
      ]
    },
    {
      "cell_type": "code",
      "metadata": {
        "id": "FvTxEGuYbZz5",
        "colab_type": "code",
        "colab": {}
      },
      "source": [
        "feature_columns = [\"f0\", \"f1\", \"f2\", \"f3\", \"f4\", \"f5\", \"f6\", \"f7\", \"f8\", \"f9\", \"f10\", \"f11\"]\n",
        "treatment_columns = [\"treatment\"]\n",
        "outcome_column = \"conversion\""
      ],
      "execution_count": 0,
      "outputs": []
    },
    {
      "cell_type": "code",
      "metadata": {
        "id": "vZI9Gl2s02sN",
        "colab_type": "code",
        "outputId": "f9b527d8-7b89-4481-9515-c32a519a0f22",
        "colab": {
          "base_uri": "https://localhost:8080/",
          "height": 314
        }
      },
      "source": [
        "# 統計量の確認\n",
        "criteo_data.describe()"
      ],
      "execution_count": 12,
      "outputs": [
        {
          "output_type": "execute_result",
          "data": {
            "text/html": [
              "<div>\n",
              "<style scoped>\n",
              "    .dataframe tbody tr th:only-of-type {\n",
              "        vertical-align: middle;\n",
              "    }\n",
              "\n",
              "    .dataframe tbody tr th {\n",
              "        vertical-align: top;\n",
              "    }\n",
              "\n",
              "    .dataframe thead th {\n",
              "        text-align: right;\n",
              "    }\n",
              "</style>\n",
              "<table border=\"1\" class=\"dataframe\">\n",
              "  <thead>\n",
              "    <tr style=\"text-align: right;\">\n",
              "      <th></th>\n",
              "      <th>f0</th>\n",
              "      <th>f1</th>\n",
              "      <th>f2</th>\n",
              "      <th>f3</th>\n",
              "      <th>f4</th>\n",
              "      <th>f5</th>\n",
              "      <th>f6</th>\n",
              "      <th>f7</th>\n",
              "      <th>f8</th>\n",
              "      <th>f9</th>\n",
              "      <th>f10</th>\n",
              "      <th>f11</th>\n",
              "      <th>treatment</th>\n",
              "      <th>conversion</th>\n",
              "      <th>visit</th>\n",
              "      <th>exposure</th>\n",
              "    </tr>\n",
              "  </thead>\n",
              "  <tbody>\n",
              "    <tr>\n",
              "      <th>count</th>\n",
              "      <td>1000000.000000</td>\n",
              "      <td>1000000.000000</td>\n",
              "      <td>1000000.000000</td>\n",
              "      <td>1000000.000000</td>\n",
              "      <td>1000000.000000</td>\n",
              "      <td>1000000.000000</td>\n",
              "      <td>1000000.000000</td>\n",
              "      <td>1000000.000000</td>\n",
              "      <td>1000000.000000</td>\n",
              "      <td>1000000.000000</td>\n",
              "      <td>1000000.000000</td>\n",
              "      <td>1000000.000000</td>\n",
              "      <td>1000000.000000</td>\n",
              "      <td>1000000.000000</td>\n",
              "      <td>1000000.000000</td>\n",
              "      <td>1000000.000000</td>\n",
              "    </tr>\n",
              "    <tr>\n",
              "      <th>mean</th>\n",
              "      <td>19.627545</td>\n",
              "      <td>10.069923</td>\n",
              "      <td>8.445923</td>\n",
              "      <td>4.179984</td>\n",
              "      <td>10.339064</td>\n",
              "      <td>4.028555</td>\n",
              "      <td>-4.158878</td>\n",
              "      <td>5.100977</td>\n",
              "      <td>3.933565</td>\n",
              "      <td>16.046565</td>\n",
              "      <td>5.333516</td>\n",
              "      <td>-0.170995</td>\n",
              "      <td>0.849992</td>\n",
              "      <td>0.002893</td>\n",
              "      <td>0.047355</td>\n",
              "      <td>0.030917</td>\n",
              "    </tr>\n",
              "    <tr>\n",
              "      <th>std</th>\n",
              "      <td>5.374274</td>\n",
              "      <td>0.104755</td>\n",
              "      <td>0.299113</td>\n",
              "      <td>1.334824</td>\n",
              "      <td>0.343399</td>\n",
              "      <td>0.432105</td>\n",
              "      <td>4.577827</td>\n",
              "      <td>1.203275</td>\n",
              "      <td>0.056740</td>\n",
              "      <td>7.054590</td>\n",
              "      <td>0.168441</td>\n",
              "      <td>0.022845</td>\n",
              "      <td>0.357079</td>\n",
              "      <td>0.053709</td>\n",
              "      <td>0.212397</td>\n",
              "      <td>0.173093</td>\n",
              "    </tr>\n",
              "    <tr>\n",
              "      <th>min</th>\n",
              "      <td>12.616365</td>\n",
              "      <td>10.059654</td>\n",
              "      <td>8.214383</td>\n",
              "      <td>-7.234371</td>\n",
              "      <td>10.280525</td>\n",
              "      <td>-8.912209</td>\n",
              "      <td>-28.605448</td>\n",
              "      <td>4.833815</td>\n",
              "      <td>3.648292</td>\n",
              "      <td>13.190056</td>\n",
              "      <td>5.300375</td>\n",
              "      <td>-1.284443</td>\n",
              "      <td>0.000000</td>\n",
              "      <td>0.000000</td>\n",
              "      <td>0.000000</td>\n",
              "      <td>0.000000</td>\n",
              "    </tr>\n",
              "    <tr>\n",
              "      <th>25%</th>\n",
              "      <td>12.616365</td>\n",
              "      <td>10.059654</td>\n",
              "      <td>8.214383</td>\n",
              "      <td>4.679882</td>\n",
              "      <td>10.280525</td>\n",
              "      <td>4.115453</td>\n",
              "      <td>-6.699321</td>\n",
              "      <td>4.833815</td>\n",
              "      <td>3.910792</td>\n",
              "      <td>13.190056</td>\n",
              "      <td>5.300375</td>\n",
              "      <td>-0.168679</td>\n",
              "      <td>1.000000</td>\n",
              "      <td>0.000000</td>\n",
              "      <td>0.000000</td>\n",
              "      <td>0.000000</td>\n",
              "    </tr>\n",
              "    <tr>\n",
              "      <th>50%</th>\n",
              "      <td>21.930735</td>\n",
              "      <td>10.059654</td>\n",
              "      <td>8.214383</td>\n",
              "      <td>4.679882</td>\n",
              "      <td>10.280525</td>\n",
              "      <td>4.115453</td>\n",
              "      <td>-2.411115</td>\n",
              "      <td>4.833815</td>\n",
              "      <td>3.971858</td>\n",
              "      <td>13.190056</td>\n",
              "      <td>5.300375</td>\n",
              "      <td>-0.168679</td>\n",
              "      <td>1.000000</td>\n",
              "      <td>0.000000</td>\n",
              "      <td>0.000000</td>\n",
              "      <td>0.000000</td>\n",
              "    </tr>\n",
              "    <tr>\n",
              "      <th>75%</th>\n",
              "      <td>24.438607</td>\n",
              "      <td>10.059654</td>\n",
              "      <td>8.719911</td>\n",
              "      <td>4.679882</td>\n",
              "      <td>10.280525</td>\n",
              "      <td>4.115453</td>\n",
              "      <td>0.294443</td>\n",
              "      <td>4.833815</td>\n",
              "      <td>3.971858</td>\n",
              "      <td>13.190056</td>\n",
              "      <td>5.300375</td>\n",
              "      <td>-0.168679</td>\n",
              "      <td>1.000000</td>\n",
              "      <td>0.000000</td>\n",
              "      <td>0.000000</td>\n",
              "      <td>0.000000</td>\n",
              "    </tr>\n",
              "    <tr>\n",
              "      <th>max</th>\n",
              "      <td>26.745255</td>\n",
              "      <td>15.640628</td>\n",
              "      <td>9.051961</td>\n",
              "      <td>4.679882</td>\n",
              "      <td>20.677034</td>\n",
              "      <td>4.115453</td>\n",
              "      <td>0.294443</td>\n",
              "      <td>11.998389</td>\n",
              "      <td>3.971858</td>\n",
              "      <td>65.086958</td>\n",
              "      <td>6.473910</td>\n",
              "      <td>-0.168679</td>\n",
              "      <td>1.000000</td>\n",
              "      <td>1.000000</td>\n",
              "      <td>1.000000</td>\n",
              "      <td>1.000000</td>\n",
              "    </tr>\n",
              "  </tbody>\n",
              "</table>\n",
              "</div>"
            ],
            "text/plain": [
              "                   f0              f1  ...           visit        exposure\n",
              "count  1000000.000000  1000000.000000  ...  1000000.000000  1000000.000000\n",
              "mean        19.627545       10.069923  ...        0.047355        0.030917\n",
              "std          5.374274        0.104755  ...        0.212397        0.173093\n",
              "min         12.616365       10.059654  ...        0.000000        0.000000\n",
              "25%         12.616365       10.059654  ...        0.000000        0.000000\n",
              "50%         21.930735       10.059654  ...        0.000000        0.000000\n",
              "75%         24.438607       10.059654  ...        0.000000        0.000000\n",
              "max         26.745255       15.640628  ...        1.000000        1.000000\n",
              "\n",
              "[8 rows x 16 columns]"
            ]
          },
          "metadata": {
            "tags": []
          },
          "execution_count": 12
        }
      ]
    },
    {
      "cell_type": "code",
      "metadata": {
        "id": "YA0KF2da-X6x",
        "colab_type": "code",
        "outputId": "1c5dfeb1-bad4-49c9-893c-0ff8757e00b2",
        "colab": {
          "base_uri": "https://localhost:8080/",
          "height": 35
        }
      },
      "source": [
        "# コンバージョンしたデータ数のカウント\n",
        "criteo_data[criteo_data[outcome_column] == 1].shape"
      ],
      "execution_count": 14,
      "outputs": [
        {
          "output_type": "execute_result",
          "data": {
            "text/plain": [
              "(2893, 16)"
            ]
          },
          "metadata": {
            "tags": []
          },
          "execution_count": 14
        }
      ]
    },
    {
      "cell_type": "markdown",
      "metadata": {
        "id": "S88-vnswVulD",
        "colab_type": "text"
      },
      "source": [
        "### データの前処理"
      ]
    },
    {
      "cell_type": "code",
      "metadata": {
        "id": "8R4Z1nDzwIqG",
        "colab_type": "code",
        "outputId": "d915b8b3-2129-4830-c7cb-4b13ab3efcc5",
        "colab": {
          "base_uri": "https://localhost:8080/",
          "height": 323
        }
      },
      "source": [
        "# 欠損値のチェック\n",
        "criteo_data.isnull().sum()"
      ],
      "execution_count": 15,
      "outputs": [
        {
          "output_type": "execute_result",
          "data": {
            "text/plain": [
              "f0            0\n",
              "f1            0\n",
              "f2            0\n",
              "f3            0\n",
              "f4            0\n",
              "f5            0\n",
              "f6            0\n",
              "f7            0\n",
              "f8            0\n",
              "f9            0\n",
              "f10           0\n",
              "f11           0\n",
              "treatment     0\n",
              "conversion    0\n",
              "visit         0\n",
              "exposure      0\n",
              "dtype: int64"
            ]
          },
          "metadata": {
            "tags": []
          },
          "execution_count": 15
        }
      ]
    },
    {
      "cell_type": "markdown",
      "metadata": {
        "id": "5jwAqPj4bERN",
        "colab_type": "text"
      },
      "source": [
        "### 標準化"
      ]
    },
    {
      "cell_type": "code",
      "metadata": {
        "id": "TSOj0ZMhUGuS",
        "colab_type": "code",
        "colab": {}
      },
      "source": [
        "from sklearn.preprocessing import StandardScaler"
      ],
      "execution_count": 0,
      "outputs": []
    },
    {
      "cell_type": "code",
      "metadata": {
        "id": "Ns3mZS_CXLrh",
        "colab_type": "code",
        "colab": {}
      },
      "source": [
        "@time_watch\n",
        "def convert_std_df(df):\n",
        "    \"\"\"\n",
        "    データフレーム内のデータの標準化を行う\n",
        "\n",
        "    Parameters\n",
        "    -----\n",
        "    df : pandas.Dataframe\n",
        "\n",
        "    Returns\n",
        "    -----\n",
        "    std_df : pandas.Dataframe\n",
        "    \"\"\"\n",
        "    sc = StandardScaler()\n",
        "    std_ndarray = sc.fit_transform(df)\n",
        "    std_df = pd.DataFrame(data=std_ndarray, columns=df.columns)\n",
        "    return std_df"
      ],
      "execution_count": 0,
      "outputs": []
    },
    {
      "cell_type": "code",
      "metadata": {
        "id": "RAsAzQPlWjrl",
        "colab_type": "code",
        "colab": {
          "base_uri": "https://localhost:8080/",
          "height": 35
        },
        "outputId": "4f0effe9-948c-40b0-9491-795d4d4161c6"
      },
      "source": [
        "criteo_data[feature_columns] = convert_std_df(criteo_data[feature_columns])"
      ],
      "execution_count": 26,
      "outputs": [
        {
          "output_type": "stream",
          "text": [
            "実行時間:0:00:00.249314\n"
          ],
          "name": "stdout"
        }
      ]
    },
    {
      "cell_type": "code",
      "metadata": {
        "id": "NwCFRbrcceMb",
        "colab_type": "code",
        "colab": {
          "base_uri": "https://localhost:8080/",
          "height": 222
        },
        "outputId": "394e7f53-0c80-4553-df98-7a7f1e5c2752"
      },
      "source": [
        "criteo_data.head()"
      ],
      "execution_count": 27,
      "outputs": [
        {
          "output_type": "execute_result",
          "data": {
            "text/html": [
              "<div>\n",
              "<style scoped>\n",
              "    .dataframe tbody tr th:only-of-type {\n",
              "        vertical-align: middle;\n",
              "    }\n",
              "\n",
              "    .dataframe tbody tr th {\n",
              "        vertical-align: top;\n",
              "    }\n",
              "\n",
              "    .dataframe thead th {\n",
              "        text-align: right;\n",
              "    }\n",
              "</style>\n",
              "<table border=\"1\" class=\"dataframe\">\n",
              "  <thead>\n",
              "    <tr style=\"text-align: right;\">\n",
              "      <th></th>\n",
              "      <th>f0</th>\n",
              "      <th>f1</th>\n",
              "      <th>f2</th>\n",
              "      <th>f3</th>\n",
              "      <th>f4</th>\n",
              "      <th>f5</th>\n",
              "      <th>f6</th>\n",
              "      <th>f7</th>\n",
              "      <th>f8</th>\n",
              "      <th>f9</th>\n",
              "      <th>f10</th>\n",
              "      <th>f11</th>\n",
              "      <th>treatment</th>\n",
              "      <th>conversion</th>\n",
              "      <th>visit</th>\n",
              "      <th>exposure</th>\n",
              "    </tr>\n",
              "  </thead>\n",
              "  <tbody>\n",
              "    <tr>\n",
              "      <th>0</th>\n",
              "      <td>1.211937</td>\n",
              "      <td>-0.098024</td>\n",
              "      <td>1.346861</td>\n",
              "      <td>0.374504</td>\n",
              "      <td>-0.17047</td>\n",
              "      <td>0.201105</td>\n",
              "      <td>0.036068</td>\n",
              "      <td>-0.22203</td>\n",
              "      <td>-2.516575</td>\n",
              "      <td>-0.404915</td>\n",
              "      <td>-0.196755</td>\n",
              "      <td>0.101372</td>\n",
              "      <td>1</td>\n",
              "      <td>0</td>\n",
              "      <td>0</td>\n",
              "      <td>0</td>\n",
              "    </tr>\n",
              "    <tr>\n",
              "      <th>1</th>\n",
              "      <td>1.109379</td>\n",
              "      <td>-0.098024</td>\n",
              "      <td>1.962597</td>\n",
              "      <td>0.374504</td>\n",
              "      <td>-0.17047</td>\n",
              "      <td>0.201105</td>\n",
              "      <td>-0.399489</td>\n",
              "      <td>-0.22203</td>\n",
              "      <td>-1.072741</td>\n",
              "      <td>-0.404915</td>\n",
              "      <td>-0.196755</td>\n",
              "      <td>0.101372</td>\n",
              "      <td>1</td>\n",
              "      <td>0</td>\n",
              "      <td>0</td>\n",
              "      <td>0</td>\n",
              "    </tr>\n",
              "    <tr>\n",
              "      <th>2</th>\n",
              "      <td>-1.304582</td>\n",
              "      <td>-0.098024</td>\n",
              "      <td>1.667848</td>\n",
              "      <td>0.374504</td>\n",
              "      <td>-0.17047</td>\n",
              "      <td>0.201105</td>\n",
              "      <td>0.972803</td>\n",
              "      <td>-0.22203</td>\n",
              "      <td>-0.221535</td>\n",
              "      <td>-0.404915</td>\n",
              "      <td>-0.196755</td>\n",
              "      <td>0.101372</td>\n",
              "      <td>1</td>\n",
              "      <td>0</td>\n",
              "      <td>0</td>\n",
              "      <td>0</td>\n",
              "    </tr>\n",
              "    <tr>\n",
              "      <th>3</th>\n",
              "      <td>-0.223152</td>\n",
              "      <td>-0.098024</td>\n",
              "      <td>0.524347</td>\n",
              "      <td>-0.204014</td>\n",
              "      <td>-0.17047</td>\n",
              "      <td>0.201105</td>\n",
              "      <td>0.627082</td>\n",
              "      <td>-0.22203</td>\n",
              "      <td>-0.111233</td>\n",
              "      <td>0.761141</td>\n",
              "      <td>-0.196755</td>\n",
              "      <td>0.101372</td>\n",
              "      <td>1</td>\n",
              "      <td>0</td>\n",
              "      <td>0</td>\n",
              "      <td>0</td>\n",
              "    </tr>\n",
              "    <tr>\n",
              "      <th>4</th>\n",
              "      <td>0.486793</td>\n",
              "      <td>-0.098024</td>\n",
              "      <td>-0.774089</td>\n",
              "      <td>0.374504</td>\n",
              "      <td>-0.17047</td>\n",
              "      <td>0.201105</td>\n",
              "      <td>-0.209225</td>\n",
              "      <td>-0.22203</td>\n",
              "      <td>0.674879</td>\n",
              "      <td>-0.404915</td>\n",
              "      <td>-0.196755</td>\n",
              "      <td>0.101372</td>\n",
              "      <td>1</td>\n",
              "      <td>0</td>\n",
              "      <td>0</td>\n",
              "      <td>0</td>\n",
              "    </tr>\n",
              "  </tbody>\n",
              "</table>\n",
              "</div>"
            ],
            "text/plain": [
              "         f0        f1        f2  ...  conversion  visit  exposure\n",
              "0  1.211937 -0.098024  1.346861  ...           0      0         0\n",
              "1  1.109379 -0.098024  1.962597  ...           0      0         0\n",
              "2 -1.304582 -0.098024  1.667848  ...           0      0         0\n",
              "3 -0.223152 -0.098024  0.524347  ...           0      0         0\n",
              "4  0.486793 -0.098024 -0.774089  ...           0      0         0\n",
              "\n",
              "[5 rows x 16 columns]"
            ]
          },
          "metadata": {
            "tags": []
          },
          "execution_count": 27
        }
      ]
    },
    {
      "cell_type": "markdown",
      "metadata": {
        "id": "dfMZLjE4cpOe",
        "colab_type": "text"
      },
      "source": [
        "### 訓練データと検証データに分割"
      ]
    },
    {
      "cell_type": "code",
      "metadata": {
        "id": "OFCwlbOIeVuO",
        "colab_type": "code",
        "colab": {}
      },
      "source": [
        "from sklearn.model_selection import train_test_split"
      ],
      "execution_count": 0,
      "outputs": []
    },
    {
      "cell_type": "code",
      "metadata": {
        "id": "IEdYMi35cxTR",
        "colab_type": "code",
        "colab": {}
      },
      "source": [
        "X_train, X_test, Y_train, Y_test = train_test_split(criteo_data[feature_columns + treatment_columns],\n",
        "                                                    criteo_data[outcome_column],\n",
        "                                                    train_size=0.8,\n",
        "                                                    random_state=1)"
      ],
      "execution_count": 0,
      "outputs": []
    },
    {
      "cell_type": "code",
      "metadata": {
        "id": "MbCqHwpVfdyp",
        "colab_type": "code",
        "colab": {
          "base_uri": "https://localhost:8080/",
          "height": 251
        },
        "outputId": "b8e26fca-a5a6-4c60-fd8f-6a1c86c77bed"
      },
      "source": [
        "X_train.head(), Y_train.head()"
      ],
      "execution_count": 52,
      "outputs": [
        {
          "output_type": "execute_result",
          "data": {
            "text/plain": [
              "(              f0        f1        f2  ...       f10       f11  treatment\n",
              " 771718 -1.304582 -0.098024  0.082301  ... -0.196755  0.101372          1\n",
              " 521462 -1.304582 -0.098024  0.775302  ... -0.196755  0.101372          0\n",
              " 137361 -0.975520 -0.098024 -0.774089  ... -0.196755  0.101372          1\n",
              " 404985 -1.304582 -0.098024  1.433005  ... -0.196755  0.101372          1\n",
              " 910092 -1.304582 -0.098024  0.552744  ...  3.104655 -4.217868          1\n",
              " \n",
              " [5 rows x 13 columns], 771718    0\n",
              " 521462    0\n",
              " 137361    0\n",
              " 404985    0\n",
              " 910092    0\n",
              " Name: conversion, dtype: int64)"
            ]
          },
          "metadata": {
            "tags": []
          },
          "execution_count": 52
        }
      ]
    },
    {
      "cell_type": "markdown",
      "metadata": {
        "id": "DpeOnkZ7b3CA",
        "colab_type": "text"
      },
      "source": [
        "## upliftTreeModel(Tree-Based Algorithms)"
      ]
    },
    {
      "cell_type": "code",
      "metadata": {
        "id": "FV5q1Gfpbhwf",
        "colab_type": "code",
        "colab": {}
      },
      "source": [
        ""
      ],
      "execution_count": 0,
      "outputs": []
    }
  ]
}