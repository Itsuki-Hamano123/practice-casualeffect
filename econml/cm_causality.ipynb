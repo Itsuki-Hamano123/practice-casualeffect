{
  "nbformat": 4,
  "nbformat_minor": 0,
  "metadata": {
    "colab": {
      "name": "cm_causality.ipynb",
      "provenance": [],
      "collapsed_sections": [],
      "toc_visible": true,
      "mount_file_id": "15LiD8A6OexI5NfRH3Iak7IAqRJZ5OpaO",
      "authorship_tag": "ABX9TyPUW0AUpVkOAEYnSRN+nkJ3",
      "include_colab_link": true
    },
    "kernelspec": {
      "name": "python3",
      "display_name": "Python 3"
    },
    "accelerator": "GPU"
  },
  "cells": [
    {
      "cell_type": "markdown",
      "metadata": {
        "id": "view-in-github",
        "colab_type": "text"
      },
      "source": [
        "<a href=\"https://colab.research.google.com/github/Itsuki-Hamano123/practice-casualeffect/blob/master/econml/cm_causality.ipynb\" target=\"_parent\"><img src=\"https://colab.research.google.com/assets/colab-badge.svg\" alt=\"Open In Colab\"/></a>"
      ]
    },
    {
      "cell_type": "markdown",
      "metadata": {
        "id": "AWJdkDNoBk4-",
        "colab_type": "text"
      },
      "source": [
        "### ライブラリのインストール\n",
        "- econml（マイクロソフト）"
      ]
    },
    {
      "cell_type": "code",
      "metadata": {
        "id": "PJEmsXuy--k9",
        "colab_type": "code",
        "outputId": "de473a16-9d90-4644-f649-77586075e26e",
        "colab": {
          "base_uri": "https://localhost:8080/",
          "height": 1000
        }
      },
      "source": [
        "!pip install econml"
      ],
      "execution_count": 1,
      "outputs": [
        {
          "output_type": "stream",
          "text": [
            "Collecting econml\n",
            "\u001b[?25l  Downloading https://files.pythonhosted.org/packages/98/30/9b89a34fa81f2b591671a15fca844ef6f5d9764e2951ef9e30ad2967cdfa/econml-0.7.0-py3-none-any.whl (312kB)\n",
            "\r\u001b[K     |█                               | 10kB 23.6MB/s eta 0:00:01\r\u001b[K     |██                              | 20kB 1.6MB/s eta 0:00:01\r\u001b[K     |███▏                            | 30kB 1.9MB/s eta 0:00:01\r\u001b[K     |████▏                           | 40kB 2.1MB/s eta 0:00:01\r\u001b[K     |█████▎                          | 51kB 2.0MB/s eta 0:00:01\r\u001b[K     |██████▎                         | 61kB 2.2MB/s eta 0:00:01\r\u001b[K     |███████▍                        | 71kB 2.4MB/s eta 0:00:01\r\u001b[K     |████████▍                       | 81kB 2.6MB/s eta 0:00:01\r\u001b[K     |█████████▍                      | 92kB 2.6MB/s eta 0:00:01\r\u001b[K     |██████████▌                     | 102kB 2.7MB/s eta 0:00:01\r\u001b[K     |███████████▌                    | 112kB 2.7MB/s eta 0:00:01\r\u001b[K     |████████████▋                   | 122kB 2.7MB/s eta 0:00:01\r\u001b[K     |█████████████▋                  | 133kB 2.7MB/s eta 0:00:01\r\u001b[K     |██████████████▊                 | 143kB 2.7MB/s eta 0:00:01\r\u001b[K     |███████████████▊                | 153kB 2.7MB/s eta 0:00:01\r\u001b[K     |████████████████▉               | 163kB 2.7MB/s eta 0:00:01\r\u001b[K     |█████████████████▉              | 174kB 2.7MB/s eta 0:00:01\r\u001b[K     |██████████████████▉             | 184kB 2.7MB/s eta 0:00:01\r\u001b[K     |████████████████████            | 194kB 2.7MB/s eta 0:00:01\r\u001b[K     |█████████████████████           | 204kB 2.7MB/s eta 0:00:01\r\u001b[K     |██████████████████████          | 215kB 2.7MB/s eta 0:00:01\r\u001b[K     |███████████████████████         | 225kB 2.7MB/s eta 0:00:01\r\u001b[K     |████████████████████████▏       | 235kB 2.7MB/s eta 0:00:01\r\u001b[K     |█████████████████████████▏      | 245kB 2.7MB/s eta 0:00:01\r\u001b[K     |██████████████████████████▏     | 256kB 2.7MB/s eta 0:00:01\r\u001b[K     |███████████████████████████▎    | 266kB 2.7MB/s eta 0:00:01\r\u001b[K     |████████████████████████████▎   | 276kB 2.7MB/s eta 0:00:01\r\u001b[K     |█████████████████████████████▍  | 286kB 2.7MB/s eta 0:00:01\r\u001b[K     |██████████████████████████████▍ | 296kB 2.7MB/s eta 0:00:01\r\u001b[K     |███████████████████████████████▌| 307kB 2.7MB/s eta 0:00:01\r\u001b[K     |████████████████████████████████| 317kB 2.7MB/s \n",
            "\u001b[?25hRequirement already satisfied: scipy!=1.4.0 in /usr/local/lib/python3.6/dist-packages (from econml) (1.4.1)\n",
            "Collecting scikit-learn~=0.21.0\n",
            "\u001b[?25l  Downloading https://files.pythonhosted.org/packages/a0/c5/d2238762d780dde84a20b8c761f563fe882b88c5a5fb03c056547c442a19/scikit_learn-0.21.3-cp36-cp36m-manylinux1_x86_64.whl (6.7MB)\n",
            "\u001b[K     |████████████████████████████████| 6.7MB 5.0MB/s \n",
            "\u001b[?25hRequirement already satisfied: numpy in /usr/local/lib/python3.6/dist-packages (from econml) (1.18.4)\n",
            "Requirement already satisfied: pandas in /usr/local/lib/python3.6/dist-packages (from econml) (1.0.3)\n",
            "Requirement already satisfied: graphviz in /usr/local/lib/python3.6/dist-packages (from econml) (0.10.1)\n",
            "Requirement already satisfied: keras in /usr/local/lib/python3.6/dist-packages (from econml) (2.3.1)\n",
            "Requirement already satisfied: numba!=0.42.1 in /usr/local/lib/python3.6/dist-packages (from econml) (0.48.0)\n",
            "Collecting tensorflow==1.*\n",
            "\u001b[?25l  Downloading https://files.pythonhosted.org/packages/9a/d9/fd234c7bf68638423fb8e7f44af7fcfce3bcaf416b51e6d902391e47ec43/tensorflow-1.15.2-cp36-cp36m-manylinux2010_x86_64.whl (110.5MB)\n",
            "\u001b[K     |████████████████████████████████| 110.5MB 97kB/s \n",
            "\u001b[?25hRequirement already satisfied: statsmodels>=0.9 in /usr/local/lib/python3.6/dist-packages (from econml) (0.10.2)\n",
            "Requirement already satisfied: joblib>=0.13.0 in /usr/local/lib/python3.6/dist-packages (from econml) (0.14.1)\n",
            "Requirement already satisfied: matplotlib; python_version > \"3.5\" in /usr/local/lib/python3.6/dist-packages (from econml) (3.2.1)\n",
            "Collecting sparse\n",
            "\u001b[?25l  Downloading https://files.pythonhosted.org/packages/3a/25/562a0cebb6fc36f16989469350ac96e9dbe2cc11dba0c22c34d0eff2f5dd/sparse-0.10.0-py2.py3-none-any.whl (64kB)\n",
            "\u001b[K     |████████████████████████████████| 71kB 8.1MB/s \n",
            "\u001b[?25hRequirement already satisfied: python-dateutil>=2.6.1 in /usr/local/lib/python3.6/dist-packages (from pandas->econml) (2.8.1)\n",
            "Requirement already satisfied: pytz>=2017.2 in /usr/local/lib/python3.6/dist-packages (from pandas->econml) (2018.9)\n",
            "Requirement already satisfied: pyyaml in /usr/local/lib/python3.6/dist-packages (from keras->econml) (3.13)\n",
            "Requirement already satisfied: keras-preprocessing>=1.0.5 in /usr/local/lib/python3.6/dist-packages (from keras->econml) (1.1.0)\n",
            "Requirement already satisfied: keras-applications>=1.0.6 in /usr/local/lib/python3.6/dist-packages (from keras->econml) (1.0.8)\n",
            "Requirement already satisfied: h5py in /usr/local/lib/python3.6/dist-packages (from keras->econml) (2.10.0)\n",
            "Requirement already satisfied: six>=1.9.0 in /usr/local/lib/python3.6/dist-packages (from keras->econml) (1.12.0)\n",
            "Requirement already satisfied: llvmlite<0.32.0,>=0.31.0dev0 in /usr/local/lib/python3.6/dist-packages (from numba!=0.42.1->econml) (0.31.0)\n",
            "Requirement already satisfied: setuptools in /usr/local/lib/python3.6/dist-packages (from numba!=0.42.1->econml) (46.1.3)\n",
            "Requirement already satisfied: google-pasta>=0.1.6 in /usr/local/lib/python3.6/dist-packages (from tensorflow==1.*->econml) (0.2.0)\n",
            "Requirement already satisfied: termcolor>=1.1.0 in /usr/local/lib/python3.6/dist-packages (from tensorflow==1.*->econml) (1.1.0)\n",
            "Requirement already satisfied: grpcio>=1.8.6 in /usr/local/lib/python3.6/dist-packages (from tensorflow==1.*->econml) (1.28.1)\n",
            "Requirement already satisfied: absl-py>=0.7.0 in /usr/local/lib/python3.6/dist-packages (from tensorflow==1.*->econml) (0.9.0)\n",
            "Requirement already satisfied: astor>=0.6.0 in /usr/local/lib/python3.6/dist-packages (from tensorflow==1.*->econml) (0.8.1)\n",
            "Requirement already satisfied: wrapt>=1.11.1 in /usr/local/lib/python3.6/dist-packages (from tensorflow==1.*->econml) (1.12.1)\n",
            "Requirement already satisfied: opt-einsum>=2.3.2 in /usr/local/lib/python3.6/dist-packages (from tensorflow==1.*->econml) (3.2.1)\n",
            "Requirement already satisfied: protobuf>=3.6.1 in /usr/local/lib/python3.6/dist-packages (from tensorflow==1.*->econml) (3.10.0)\n",
            "Collecting gast==0.2.2\n",
            "  Downloading https://files.pythonhosted.org/packages/4e/35/11749bf99b2d4e3cceb4d55ca22590b0d7c2c62b9de38ac4a4a7f4687421/gast-0.2.2.tar.gz\n",
            "Collecting tensorflow-estimator==1.15.1\n",
            "\u001b[?25l  Downloading https://files.pythonhosted.org/packages/de/62/2ee9cd74c9fa2fa450877847ba560b260f5d0fb70ee0595203082dafcc9d/tensorflow_estimator-1.15.1-py2.py3-none-any.whl (503kB)\n",
            "\u001b[K     |████████████████████████████████| 512kB 39.8MB/s \n",
            "\u001b[?25hCollecting tensorboard<1.16.0,>=1.15.0\n",
            "\u001b[?25l  Downloading https://files.pythonhosted.org/packages/1e/e9/d3d747a97f7188f48aa5eda486907f3b345cd409f0a0850468ba867db246/tensorboard-1.15.0-py3-none-any.whl (3.8MB)\n",
            "\u001b[K     |████████████████████████████████| 3.8MB 39.8MB/s \n",
            "\u001b[?25hRequirement already satisfied: wheel>=0.26; python_version >= \"3\" in /usr/local/lib/python3.6/dist-packages (from tensorflow==1.*->econml) (0.34.2)\n",
            "Requirement already satisfied: patsy>=0.4.0 in /usr/local/lib/python3.6/dist-packages (from statsmodels>=0.9->econml) (0.5.1)\n",
            "Requirement already satisfied: pyparsing!=2.0.4,!=2.1.2,!=2.1.6,>=2.0.1 in /usr/local/lib/python3.6/dist-packages (from matplotlib; python_version > \"3.5\"->econml) (2.4.7)\n",
            "Requirement already satisfied: cycler>=0.10 in /usr/local/lib/python3.6/dist-packages (from matplotlib; python_version > \"3.5\"->econml) (0.10.0)\n",
            "Requirement already satisfied: kiwisolver>=1.0.1 in /usr/local/lib/python3.6/dist-packages (from matplotlib; python_version > \"3.5\"->econml) (1.2.0)\n",
            "Requirement already satisfied: werkzeug>=0.11.15 in /usr/local/lib/python3.6/dist-packages (from tensorboard<1.16.0,>=1.15.0->tensorflow==1.*->econml) (1.0.1)\n",
            "Requirement already satisfied: markdown>=2.6.8 in /usr/local/lib/python3.6/dist-packages (from tensorboard<1.16.0,>=1.15.0->tensorflow==1.*->econml) (3.2.1)\n",
            "Building wheels for collected packages: gast\n",
            "  Building wheel for gast (setup.py) ... \u001b[?25l\u001b[?25hdone\n",
            "  Created wheel for gast: filename=gast-0.2.2-cp36-none-any.whl size=7540 sha256=4fe0904d33e22d2c43a5e766269521bc9f413015c1b40b2c6f751004dc04b2c7\n",
            "  Stored in directory: /root/.cache/pip/wheels/5c/2e/7e/a1d4d4fcebe6c381f378ce7743a3ced3699feb89bcfbdadadd\n",
            "Successfully built gast\n",
            "\u001b[31mERROR: tensorflow-probability 0.10.0rc0 has requirement gast>=0.3.2, but you'll have gast 0.2.2 which is incompatible.\u001b[0m\n",
            "\u001b[31mERROR: sparse 0.10.0 has requirement numba>=0.49, but you'll have numba 0.48.0 which is incompatible.\u001b[0m\n",
            "Installing collected packages: scikit-learn, gast, tensorflow-estimator, tensorboard, tensorflow, sparse, econml\n",
            "  Found existing installation: scikit-learn 0.22.2.post1\n",
            "    Uninstalling scikit-learn-0.22.2.post1:\n",
            "      Successfully uninstalled scikit-learn-0.22.2.post1\n",
            "  Found existing installation: gast 0.3.3\n",
            "    Uninstalling gast-0.3.3:\n",
            "      Successfully uninstalled gast-0.3.3\n",
            "  Found existing installation: tensorflow-estimator 2.2.0\n",
            "    Uninstalling tensorflow-estimator-2.2.0:\n",
            "      Successfully uninstalled tensorflow-estimator-2.2.0\n",
            "  Found existing installation: tensorboard 2.2.1\n",
            "    Uninstalling tensorboard-2.2.1:\n",
            "      Successfully uninstalled tensorboard-2.2.1\n",
            "  Found existing installation: tensorflow 2.2.0\n",
            "    Uninstalling tensorflow-2.2.0:\n",
            "      Successfully uninstalled tensorflow-2.2.0\n",
            "Successfully installed econml-0.7.0 gast-0.2.2 scikit-learn-0.21.3 sparse-0.10.0 tensorboard-1.15.0 tensorflow-1.15.2 tensorflow-estimator-1.15.1\n"
          ],
          "name": "stdout"
        }
      ]
    },
    {
      "cell_type": "code",
      "metadata": {
        "id": "A_FV1wR5-geJ",
        "colab_type": "code",
        "outputId": "3f0a2363-9a35-4b8e-a347-cf2d045096aa",
        "colab": {
          "base_uri": "https://localhost:8080/",
          "height": 127
        }
      },
      "source": [
        "from google.colab import drive\n",
        "drive.mount('/gdrive')"
      ],
      "execution_count": 3,
      "outputs": [
        {
          "output_type": "stream",
          "text": [
            "Go to this URL in a browser: https://accounts.google.com/o/oauth2/auth?client_id=947318989803-6bn6qk8qdgf4n4g3pfee6491hc0brc4i.apps.googleusercontent.com&redirect_uri=urn%3aietf%3awg%3aoauth%3a2.0%3aoob&response_type=code&scope=email%20https%3a%2f%2fwww.googleapis.com%2fauth%2fdocs.test%20https%3a%2f%2fwww.googleapis.com%2fauth%2fdrive%20https%3a%2f%2fwww.googleapis.com%2fauth%2fdrive.photos.readonly%20https%3a%2f%2fwww.googleapis.com%2fauth%2fpeopleapi.readonly\n",
            "\n",
            "Enter your authorization code:\n",
            "··········\n",
            "Mounted at /gdrive\n"
          ],
          "name": "stdout"
        }
      ]
    },
    {
      "cell_type": "code",
      "metadata": {
        "id": "fqNgJ3JD94RO",
        "colab_type": "code",
        "outputId": "ff32706d-f6cf-4c13-ef44-b622fa54ccf2",
        "colab": {
          "base_uri": "https://localhost:8080/",
          "height": 35
        }
      },
      "source": [
        "cd /gdrive/My Drive/機械学習練習/統計的因果推論/因果推論実践用/econML"
      ],
      "execution_count": 4,
      "outputs": [
        {
          "output_type": "stream",
          "text": [
            "/gdrive/My Drive/機械学習練習/統計的因果推論/因果推論実践用/econML\n"
          ],
          "name": "stdout"
        }
      ]
    },
    {
      "cell_type": "code",
      "metadata": {
        "id": "UzIC-Cuu--HR",
        "colab_type": "code",
        "outputId": "b653a74e-5d99-4db6-8cb7-71f7fe3e41fc",
        "colab": {
          "base_uri": "https://localhost:8080/",
          "height": 35
        }
      },
      "source": [
        "ls"
      ],
      "execution_count": 5,
      "outputs": [
        {
          "output_type": "stream",
          "text": [
            "cm_causality.ipynb  econML_readDocumet.ipynb  \u001b[0m\u001b[01;34mexport\u001b[0m/\n"
          ],
          "name": "stdout"
        }
      ]
    },
    {
      "cell_type": "markdown",
      "metadata": {
        "id": "ftsPh0li_EjM",
        "colab_type": "text"
      },
      "source": [
        "# アプリのCMを見たことで、アプリの利用時間がどのくらい増加したか分析（CATEの算出）"
      ]
    },
    {
      "cell_type": "markdown",
      "metadata": {
        "id": "MjjM4t4bQSaq",
        "colab_type": "text"
      },
      "source": [
        "## データの前処理"
      ]
    },
    {
      "cell_type": "markdown",
      "metadata": {
        "id": "MMAHi43cByQO",
        "colab_type": "text"
      },
      "source": [
        "### 分析対象のデータ読み込み"
      ]
    },
    {
      "cell_type": "code",
      "metadata": {
        "id": "4gDj95jfBxw3",
        "colab_type": "code",
        "colab": {}
      },
      "source": [
        "import datetime\n",
        "import matplotlib.pyplot as plt\n",
        "import numpy as np\n",
        "import pandas as pd\n",
        "from pprint import pprint"
      ],
      "execution_count": 0,
      "outputs": []
    },
    {
      "cell_type": "code",
      "metadata": {
        "id": "tG20tfpeDZuQ",
        "colab_type": "code",
        "colab": {}
      },
      "source": [
        "DATA_DIR = \"../datasets\"\n",
        "CSV_FIEL = \"game_cm_abtest.csv\"\n",
        "data_path = DATA_DIR + \"/\" + CSV_FIEL"
      ],
      "execution_count": 0,
      "outputs": []
    },
    {
      "cell_type": "code",
      "metadata": {
        "id": "nBy21EmzEE9B",
        "colab_type": "code",
        "outputId": "c094c6fa-48af-4ac7-d20f-e3edd8958ed9",
        "colab": {
          "base_uri": "https://localhost:8080/",
          "height": 161
        }
      },
      "source": [
        "read_data = pd.read_csv(data_path)\n",
        "read_data.head(3)"
      ],
      "execution_count": 8,
      "outputs": [
        {
          "output_type": "execute_result",
          "data": {
            "text/html": [
              "<div>\n",
              "<style scoped>\n",
              "    .dataframe tbody tr th:only-of-type {\n",
              "        vertical-align: middle;\n",
              "    }\n",
              "\n",
              "    .dataframe tbody tr th {\n",
              "        vertical-align: top;\n",
              "    }\n",
              "\n",
              "    .dataframe thead th {\n",
              "        text-align: right;\n",
              "    }\n",
              "</style>\n",
              "<table border=\"1\" class=\"dataframe\">\n",
              "  <thead>\n",
              "    <tr style=\"text-align: right;\">\n",
              "      <th></th>\n",
              "      <th>cm_dummy</th>\n",
              "      <th>gamedummy</th>\n",
              "      <th>area_kanto</th>\n",
              "      <th>area_keihan</th>\n",
              "      <th>area_tokai</th>\n",
              "      <th>area_keihanshin</th>\n",
              "      <th>age</th>\n",
              "      <th>sex</th>\n",
              "      <th>marry_dummy</th>\n",
              "      <th>job_dummy1</th>\n",
              "      <th>job_dummy2</th>\n",
              "      <th>job_dummy3</th>\n",
              "      <th>job_dummy4</th>\n",
              "      <th>job_dummy5</th>\n",
              "      <th>job_dummy6</th>\n",
              "      <th>job_dummy7</th>\n",
              "      <th>job_dummy8</th>\n",
              "      <th>inc</th>\n",
              "      <th>pmoney</th>\n",
              "      <th>fam_str_dummy1</th>\n",
              "      <th>fam_str_dummy2</th>\n",
              "      <th>fam_str_dummy3</th>\n",
              "      <th>fam_str_dummy4</th>\n",
              "      <th>fam_str_dummy5</th>\n",
              "      <th>child_dummy</th>\n",
              "      <th>T</th>\n",
              "      <th>F1</th>\n",
              "      <th>F2</th>\n",
              "      <th>F3</th>\n",
              "      <th>M1</th>\n",
              "      <th>M2</th>\n",
              "      <th>M3</th>\n",
              "      <th>TVwatch_day</th>\n",
              "      <th>gamesecond</th>\n",
              "      <th>gamecount</th>\n",
              "    </tr>\n",
              "  </thead>\n",
              "  <tbody>\n",
              "    <tr>\n",
              "      <th>0</th>\n",
              "      <td>0</td>\n",
              "      <td>0</td>\n",
              "      <td>0</td>\n",
              "      <td>0</td>\n",
              "      <td>0</td>\n",
              "      <td>1</td>\n",
              "      <td>44.5</td>\n",
              "      <td>1</td>\n",
              "      <td>1</td>\n",
              "      <td>1</td>\n",
              "      <td>0</td>\n",
              "      <td>0</td>\n",
              "      <td>0</td>\n",
              "      <td>0</td>\n",
              "      <td>0</td>\n",
              "      <td>0</td>\n",
              "      <td>0</td>\n",
              "      <td>249.5</td>\n",
              "      <td>0.0</td>\n",
              "      <td>0</td>\n",
              "      <td>0</td>\n",
              "      <td>1</td>\n",
              "      <td>0</td>\n",
              "      <td>0</td>\n",
              "      <td>1</td>\n",
              "      <td>0</td>\n",
              "      <td>0</td>\n",
              "      <td>0</td>\n",
              "      <td>0</td>\n",
              "      <td>0</td>\n",
              "      <td>1</td>\n",
              "      <td>0</td>\n",
              "      <td>33.427600</td>\n",
              "      <td>0</td>\n",
              "      <td>0</td>\n",
              "    </tr>\n",
              "    <tr>\n",
              "      <th>1</th>\n",
              "      <td>0</td>\n",
              "      <td>0</td>\n",
              "      <td>0</td>\n",
              "      <td>1</td>\n",
              "      <td>0</td>\n",
              "      <td>0</td>\n",
              "      <td>34.5</td>\n",
              "      <td>1</td>\n",
              "      <td>1</td>\n",
              "      <td>1</td>\n",
              "      <td>0</td>\n",
              "      <td>0</td>\n",
              "      <td>0</td>\n",
              "      <td>0</td>\n",
              "      <td>0</td>\n",
              "      <td>0</td>\n",
              "      <td>0</td>\n",
              "      <td>800.0</td>\n",
              "      <td>12.5</td>\n",
              "      <td>0</td>\n",
              "      <td>0</td>\n",
              "      <td>1</td>\n",
              "      <td>0</td>\n",
              "      <td>0</td>\n",
              "      <td>1</td>\n",
              "      <td>0</td>\n",
              "      <td>0</td>\n",
              "      <td>0</td>\n",
              "      <td>0</td>\n",
              "      <td>0</td>\n",
              "      <td>1</td>\n",
              "      <td>0</td>\n",
              "      <td>31.542862</td>\n",
              "      <td>0</td>\n",
              "      <td>0</td>\n",
              "    </tr>\n",
              "    <tr>\n",
              "      <th>2</th>\n",
              "      <td>0</td>\n",
              "      <td>0</td>\n",
              "      <td>0</td>\n",
              "      <td>1</td>\n",
              "      <td>0</td>\n",
              "      <td>0</td>\n",
              "      <td>24.5</td>\n",
              "      <td>1</td>\n",
              "      <td>0</td>\n",
              "      <td>0</td>\n",
              "      <td>0</td>\n",
              "      <td>0</td>\n",
              "      <td>0</td>\n",
              "      <td>0</td>\n",
              "      <td>0</td>\n",
              "      <td>1</td>\n",
              "      <td>0</td>\n",
              "      <td>0.0</td>\n",
              "      <td>2.0</td>\n",
              "      <td>0</td>\n",
              "      <td>0</td>\n",
              "      <td>0</td>\n",
              "      <td>1</td>\n",
              "      <td>0</td>\n",
              "      <td>0</td>\n",
              "      <td>0</td>\n",
              "      <td>0</td>\n",
              "      <td>0</td>\n",
              "      <td>0</td>\n",
              "      <td>1</td>\n",
              "      <td>0</td>\n",
              "      <td>0</td>\n",
              "      <td>37.825805</td>\n",
              "      <td>0</td>\n",
              "      <td>0</td>\n",
              "    </tr>\n",
              "  </tbody>\n",
              "</table>\n",
              "</div>"
            ],
            "text/plain": [
              "   cm_dummy  gamedummy  area_kanto  ...  TVwatch_day  gamesecond  gamecount\n",
              "0         0          0           0  ...    33.427600           0          0\n",
              "1         0          0           0  ...    31.542862           0          0\n",
              "2         0          0           0  ...    37.825805           0          0\n",
              "\n",
              "[3 rows x 35 columns]"
            ]
          },
          "metadata": {
            "tags": []
          },
          "execution_count": 8
        }
      ]
    },
    {
      "cell_type": "markdown",
      "metadata": {
        "id": "STI4YTTGGk09",
        "colab_type": "text"
      },
      "source": [
        "#### 統計量の確認"
      ]
    },
    {
      "cell_type": "code",
      "metadata": {
        "id": "_od91IH6OI7i",
        "colab_type": "code",
        "outputId": "0ce7f6ab-40f0-4b77-c751-da5b66098440",
        "colab": {
          "base_uri": "https://localhost:8080/",
          "height": 314
        }
      },
      "source": [
        "# 欠損数及び統計量の確認\n",
        "read_data.describe()"
      ],
      "execution_count": 9,
      "outputs": [
        {
          "output_type": "execute_result",
          "data": {
            "text/html": [
              "<div>\n",
              "<style scoped>\n",
              "    .dataframe tbody tr th:only-of-type {\n",
              "        vertical-align: middle;\n",
              "    }\n",
              "\n",
              "    .dataframe tbody tr th {\n",
              "        vertical-align: top;\n",
              "    }\n",
              "\n",
              "    .dataframe thead th {\n",
              "        text-align: right;\n",
              "    }\n",
              "</style>\n",
              "<table border=\"1\" class=\"dataframe\">\n",
              "  <thead>\n",
              "    <tr style=\"text-align: right;\">\n",
              "      <th></th>\n",
              "      <th>cm_dummy</th>\n",
              "      <th>gamedummy</th>\n",
              "      <th>area_kanto</th>\n",
              "      <th>area_keihan</th>\n",
              "      <th>area_tokai</th>\n",
              "      <th>area_keihanshin</th>\n",
              "      <th>age</th>\n",
              "      <th>sex</th>\n",
              "      <th>marry_dummy</th>\n",
              "      <th>job_dummy1</th>\n",
              "      <th>job_dummy2</th>\n",
              "      <th>job_dummy3</th>\n",
              "      <th>job_dummy4</th>\n",
              "      <th>job_dummy5</th>\n",
              "      <th>job_dummy6</th>\n",
              "      <th>job_dummy7</th>\n",
              "      <th>job_dummy8</th>\n",
              "      <th>inc</th>\n",
              "      <th>pmoney</th>\n",
              "      <th>fam_str_dummy1</th>\n",
              "      <th>fam_str_dummy2</th>\n",
              "      <th>fam_str_dummy3</th>\n",
              "      <th>fam_str_dummy4</th>\n",
              "      <th>fam_str_dummy5</th>\n",
              "      <th>child_dummy</th>\n",
              "      <th>T</th>\n",
              "      <th>F1</th>\n",
              "      <th>F2</th>\n",
              "      <th>F3</th>\n",
              "      <th>M1</th>\n",
              "      <th>M2</th>\n",
              "      <th>M3</th>\n",
              "      <th>TVwatch_day</th>\n",
              "      <th>gamesecond</th>\n",
              "      <th>gamecount</th>\n",
              "    </tr>\n",
              "  </thead>\n",
              "  <tbody>\n",
              "    <tr>\n",
              "      <th>count</th>\n",
              "      <td>10000.000000</td>\n",
              "      <td>10000.000000</td>\n",
              "      <td>10000.000000</td>\n",
              "      <td>10000.000000</td>\n",
              "      <td>10000.000000</td>\n",
              "      <td>10000.000000</td>\n",
              "      <td>10000.000000</td>\n",
              "      <td>10000.000000</td>\n",
              "      <td>10000.000000</td>\n",
              "      <td>10000.000000</td>\n",
              "      <td>10000.000000</td>\n",
              "      <td>10000.000000</td>\n",
              "      <td>10000.000000</td>\n",
              "      <td>10000.000000</td>\n",
              "      <td>10000.000000</td>\n",
              "      <td>10000.000000</td>\n",
              "      <td>10000.000000</td>\n",
              "      <td>10000.000000</td>\n",
              "      <td>10000.00000</td>\n",
              "      <td>10000.000000</td>\n",
              "      <td>10000.000000</td>\n",
              "      <td>10000.000000</td>\n",
              "      <td>10000.000000</td>\n",
              "      <td>10000.000000</td>\n",
              "      <td>10000.00000</td>\n",
              "      <td>10000.000000</td>\n",
              "      <td>10000.000000</td>\n",
              "      <td>10000.000000</td>\n",
              "      <td>10000.000000</td>\n",
              "      <td>10000.000000</td>\n",
              "      <td>10000.000000</td>\n",
              "      <td>10000.000000</td>\n",
              "      <td>10000.000000</td>\n",
              "      <td>10000.000000</td>\n",
              "      <td>10000.000000</td>\n",
              "    </tr>\n",
              "    <tr>\n",
              "      <th>mean</th>\n",
              "      <td>0.414400</td>\n",
              "      <td>0.074000</td>\n",
              "      <td>0.091200</td>\n",
              "      <td>0.588700</td>\n",
              "      <td>0.111500</td>\n",
              "      <td>0.208600</td>\n",
              "      <td>40.841900</td>\n",
              "      <td>0.640300</td>\n",
              "      <td>0.647000</td>\n",
              "      <td>0.566200</td>\n",
              "      <td>0.054200</td>\n",
              "      <td>0.075900</td>\n",
              "      <td>0.012300</td>\n",
              "      <td>0.117700</td>\n",
              "      <td>0.099900</td>\n",
              "      <td>0.039900</td>\n",
              "      <td>0.033900</td>\n",
              "      <td>357.829700</td>\n",
              "      <td>3.55234</td>\n",
              "      <td>0.148000</td>\n",
              "      <td>0.144800</td>\n",
              "      <td>0.620400</td>\n",
              "      <td>0.069900</td>\n",
              "      <td>0.016900</td>\n",
              "      <td>0.42300</td>\n",
              "      <td>0.013200</td>\n",
              "      <td>0.127800</td>\n",
              "      <td>0.173300</td>\n",
              "      <td>0.052200</td>\n",
              "      <td>0.140300</td>\n",
              "      <td>0.328800</td>\n",
              "      <td>0.164400</td>\n",
              "      <td>8096.497203</td>\n",
              "      <td>2846.783400</td>\n",
              "      <td>9.433300</td>\n",
              "    </tr>\n",
              "    <tr>\n",
              "      <th>std</th>\n",
              "      <td>0.492643</td>\n",
              "      <td>0.261784</td>\n",
              "      <td>0.287908</td>\n",
              "      <td>0.492094</td>\n",
              "      <td>0.314766</td>\n",
              "      <td>0.406328</td>\n",
              "      <td>10.465434</td>\n",
              "      <td>0.479936</td>\n",
              "      <td>0.477927</td>\n",
              "      <td>0.495623</td>\n",
              "      <td>0.226423</td>\n",
              "      <td>0.264851</td>\n",
              "      <td>0.110227</td>\n",
              "      <td>0.322269</td>\n",
              "      <td>0.299882</td>\n",
              "      <td>0.195734</td>\n",
              "      <td>0.180981</td>\n",
              "      <td>267.408383</td>\n",
              "      <td>3.37777</td>\n",
              "      <td>0.355118</td>\n",
              "      <td>0.351917</td>\n",
              "      <td>0.485312</td>\n",
              "      <td>0.254991</td>\n",
              "      <td>0.128903</td>\n",
              "      <td>0.49406</td>\n",
              "      <td>0.114136</td>\n",
              "      <td>0.333884</td>\n",
              "      <td>0.378525</td>\n",
              "      <td>0.222441</td>\n",
              "      <td>0.347315</td>\n",
              "      <td>0.469801</td>\n",
              "      <td>0.370657</td>\n",
              "      <td>7709.497437</td>\n",
              "      <td>17973.608991</td>\n",
              "      <td>54.475214</td>\n",
              "    </tr>\n",
              "    <tr>\n",
              "      <th>min</th>\n",
              "      <td>0.000000</td>\n",
              "      <td>0.000000</td>\n",
              "      <td>0.000000</td>\n",
              "      <td>0.000000</td>\n",
              "      <td>0.000000</td>\n",
              "      <td>0.000000</td>\n",
              "      <td>19.000000</td>\n",
              "      <td>0.000000</td>\n",
              "      <td>0.000000</td>\n",
              "      <td>0.000000</td>\n",
              "      <td>0.000000</td>\n",
              "      <td>0.000000</td>\n",
              "      <td>0.000000</td>\n",
              "      <td>0.000000</td>\n",
              "      <td>0.000000</td>\n",
              "      <td>0.000000</td>\n",
              "      <td>0.000000</td>\n",
              "      <td>0.000000</td>\n",
              "      <td>0.00000</td>\n",
              "      <td>0.000000</td>\n",
              "      <td>0.000000</td>\n",
              "      <td>0.000000</td>\n",
              "      <td>0.000000</td>\n",
              "      <td>0.000000</td>\n",
              "      <td>0.00000</td>\n",
              "      <td>0.000000</td>\n",
              "      <td>0.000000</td>\n",
              "      <td>0.000000</td>\n",
              "      <td>0.000000</td>\n",
              "      <td>0.000000</td>\n",
              "      <td>0.000000</td>\n",
              "      <td>0.000000</td>\n",
              "      <td>29.875270</td>\n",
              "      <td>0.000000</td>\n",
              "      <td>0.000000</td>\n",
              "    </tr>\n",
              "    <tr>\n",
              "      <th>25%</th>\n",
              "      <td>0.000000</td>\n",
              "      <td>0.000000</td>\n",
              "      <td>0.000000</td>\n",
              "      <td>0.000000</td>\n",
              "      <td>0.000000</td>\n",
              "      <td>0.000000</td>\n",
              "      <td>34.500000</td>\n",
              "      <td>0.000000</td>\n",
              "      <td>0.000000</td>\n",
              "      <td>0.000000</td>\n",
              "      <td>0.000000</td>\n",
              "      <td>0.000000</td>\n",
              "      <td>0.000000</td>\n",
              "      <td>0.000000</td>\n",
              "      <td>0.000000</td>\n",
              "      <td>0.000000</td>\n",
              "      <td>0.000000</td>\n",
              "      <td>103.000000</td>\n",
              "      <td>2.00000</td>\n",
              "      <td>0.000000</td>\n",
              "      <td>0.000000</td>\n",
              "      <td>0.000000</td>\n",
              "      <td>0.000000</td>\n",
              "      <td>0.000000</td>\n",
              "      <td>0.00000</td>\n",
              "      <td>0.000000</td>\n",
              "      <td>0.000000</td>\n",
              "      <td>0.000000</td>\n",
              "      <td>0.000000</td>\n",
              "      <td>0.000000</td>\n",
              "      <td>0.000000</td>\n",
              "      <td>0.000000</td>\n",
              "      <td>2502.245967</td>\n",
              "      <td>0.000000</td>\n",
              "      <td>0.000000</td>\n",
              "    </tr>\n",
              "    <tr>\n",
              "      <th>50%</th>\n",
              "      <td>0.000000</td>\n",
              "      <td>0.000000</td>\n",
              "      <td>0.000000</td>\n",
              "      <td>1.000000</td>\n",
              "      <td>0.000000</td>\n",
              "      <td>0.000000</td>\n",
              "      <td>44.500000</td>\n",
              "      <td>1.000000</td>\n",
              "      <td>1.000000</td>\n",
              "      <td>1.000000</td>\n",
              "      <td>0.000000</td>\n",
              "      <td>0.000000</td>\n",
              "      <td>0.000000</td>\n",
              "      <td>0.000000</td>\n",
              "      <td>0.000000</td>\n",
              "      <td>0.000000</td>\n",
              "      <td>0.000000</td>\n",
              "      <td>349.500000</td>\n",
              "      <td>2.00000</td>\n",
              "      <td>0.000000</td>\n",
              "      <td>0.000000</td>\n",
              "      <td>1.000000</td>\n",
              "      <td>0.000000</td>\n",
              "      <td>0.000000</td>\n",
              "      <td>0.00000</td>\n",
              "      <td>0.000000</td>\n",
              "      <td>0.000000</td>\n",
              "      <td>0.000000</td>\n",
              "      <td>0.000000</td>\n",
              "      <td>0.000000</td>\n",
              "      <td>0.000000</td>\n",
              "      <td>0.000000</td>\n",
              "      <td>5944.444520</td>\n",
              "      <td>0.000000</td>\n",
              "      <td>0.000000</td>\n",
              "    </tr>\n",
              "    <tr>\n",
              "      <th>75%</th>\n",
              "      <td>1.000000</td>\n",
              "      <td>0.000000</td>\n",
              "      <td>0.000000</td>\n",
              "      <td>1.000000</td>\n",
              "      <td>0.000000</td>\n",
              "      <td>0.000000</td>\n",
              "      <td>44.500000</td>\n",
              "      <td>1.000000</td>\n",
              "      <td>1.000000</td>\n",
              "      <td>1.000000</td>\n",
              "      <td>0.000000</td>\n",
              "      <td>0.000000</td>\n",
              "      <td>0.000000</td>\n",
              "      <td>0.000000</td>\n",
              "      <td>0.000000</td>\n",
              "      <td>0.000000</td>\n",
              "      <td>0.000000</td>\n",
              "      <td>549.500000</td>\n",
              "      <td>4.00000</td>\n",
              "      <td>0.000000</td>\n",
              "      <td>0.000000</td>\n",
              "      <td>1.000000</td>\n",
              "      <td>0.000000</td>\n",
              "      <td>0.000000</td>\n",
              "      <td>1.00000</td>\n",
              "      <td>0.000000</td>\n",
              "      <td>0.000000</td>\n",
              "      <td>0.000000</td>\n",
              "      <td>0.000000</td>\n",
              "      <td>0.000000</td>\n",
              "      <td>1.000000</td>\n",
              "      <td>0.000000</td>\n",
              "      <td>11154.786148</td>\n",
              "      <td>0.000000</td>\n",
              "      <td>0.000000</td>\n",
              "    </tr>\n",
              "    <tr>\n",
              "      <th>max</th>\n",
              "      <td>1.000000</td>\n",
              "      <td>1.000000</td>\n",
              "      <td>1.000000</td>\n",
              "      <td>1.000000</td>\n",
              "      <td>1.000000</td>\n",
              "      <td>1.000000</td>\n",
              "      <td>60.000000</td>\n",
              "      <td>1.000000</td>\n",
              "      <td>1.000000</td>\n",
              "      <td>1.000000</td>\n",
              "      <td>1.000000</td>\n",
              "      <td>1.000000</td>\n",
              "      <td>1.000000</td>\n",
              "      <td>1.000000</td>\n",
              "      <td>1.000000</td>\n",
              "      <td>1.000000</td>\n",
              "      <td>1.000000</td>\n",
              "      <td>800.000000</td>\n",
              "      <td>20.00000</td>\n",
              "      <td>1.000000</td>\n",
              "      <td>1.000000</td>\n",
              "      <td>1.000000</td>\n",
              "      <td>1.000000</td>\n",
              "      <td>1.000000</td>\n",
              "      <td>1.00000</td>\n",
              "      <td>1.000000</td>\n",
              "      <td>1.000000</td>\n",
              "      <td>1.000000</td>\n",
              "      <td>1.000000</td>\n",
              "      <td>1.000000</td>\n",
              "      <td>1.000000</td>\n",
              "      <td>1.000000</td>\n",
              "      <td>49036.055042</td>\n",
              "      <td>364814.000000</td>\n",
              "      <td>765.000000</td>\n",
              "    </tr>\n",
              "  </tbody>\n",
              "</table>\n",
              "</div>"
            ],
            "text/plain": [
              "           cm_dummy     gamedummy  ...     gamesecond     gamecount\n",
              "count  10000.000000  10000.000000  ...   10000.000000  10000.000000\n",
              "mean       0.414400      0.074000  ...    2846.783400      9.433300\n",
              "std        0.492643      0.261784  ...   17973.608991     54.475214\n",
              "min        0.000000      0.000000  ...       0.000000      0.000000\n",
              "25%        0.000000      0.000000  ...       0.000000      0.000000\n",
              "50%        0.000000      0.000000  ...       0.000000      0.000000\n",
              "75%        1.000000      0.000000  ...       0.000000      0.000000\n",
              "max        1.000000      1.000000  ...  364814.000000    765.000000\n",
              "\n",
              "[8 rows x 35 columns]"
            ]
          },
          "metadata": {
            "tags": []
          },
          "execution_count": 9
        }
      ]
    },
    {
      "cell_type": "code",
      "metadata": {
        "id": "p018J-lLoujI",
        "colab_type": "code",
        "outputId": "96640998-fa2c-48c3-c479-d6d8630864c5",
        "colab": {
          "base_uri": "https://localhost:8080/",
          "height": 297
        }
      },
      "source": [
        "# アウトカムの分布を確認\n",
        "read_data[\"gamesecond\"].hist(bins=20)\n",
        "plt.tight_layout()\n",
        "plt.show()"
      ],
      "execution_count": 10,
      "outputs": [
        {
          "output_type": "display_data",
          "data": {
            "image/png": "[encoded data removed]",
            "text/plain": [
              "<Figure size 432x288 with 1 Axes>"
            ]
          },
          "metadata": {
            "tags": [],
            "needs_background": "light"
          }
        }
      ]
    },
    {
      "cell_type": "markdown",
      "metadata": {
        "id": "dDDgypdkF3Vp",
        "colab_type": "text"
      },
      "source": [
        "### 不要なカラムの削除"
      ]
    },
    {
      "cell_type": "code",
      "metadata": {
        "id": "Y60jVhJrJcf3",
        "colab_type": "code",
        "outputId": "54c2e309-f322-4361-b128-4a0acdb56124",
        "colab": {
          "base_uri": "https://localhost:8080/",
          "height": 99
        }
      },
      "source": [
        "UNNECESSARY_COLUMNS = [\"gamedummy\", \"gamecount\"]\n",
        "analysis_data = read_data.drop(columns=UNNECESSARY_COLUMNS)\n",
        "analysis_data.head(1)"
      ],
      "execution_count": 11,
      "outputs": [
        {
          "output_type": "execute_result",
          "data": {
            "text/html": [
              "<div>\n",
              "<style scoped>\n",
              "    .dataframe tbody tr th:only-of-type {\n",
              "        vertical-align: middle;\n",
              "    }\n",
              "\n",
              "    .dataframe tbody tr th {\n",
              "        vertical-align: top;\n",
              "    }\n",
              "\n",
              "    .dataframe thead th {\n",
              "        text-align: right;\n",
              "    }\n",
              "</style>\n",
              "<table border=\"1\" class=\"dataframe\">\n",
              "  <thead>\n",
              "    <tr style=\"text-align: right;\">\n",
              "      <th></th>\n",
              "      <th>cm_dummy</th>\n",
              "      <th>area_kanto</th>\n",
              "      <th>area_keihan</th>\n",
              "      <th>area_tokai</th>\n",
              "      <th>area_keihanshin</th>\n",
              "      <th>age</th>\n",
              "      <th>sex</th>\n",
              "      <th>marry_dummy</th>\n",
              "      <th>job_dummy1</th>\n",
              "      <th>job_dummy2</th>\n",
              "      <th>job_dummy3</th>\n",
              "      <th>job_dummy4</th>\n",
              "      <th>job_dummy5</th>\n",
              "      <th>job_dummy6</th>\n",
              "      <th>job_dummy7</th>\n",
              "      <th>job_dummy8</th>\n",
              "      <th>inc</th>\n",
              "      <th>pmoney</th>\n",
              "      <th>fam_str_dummy1</th>\n",
              "      <th>fam_str_dummy2</th>\n",
              "      <th>fam_str_dummy3</th>\n",
              "      <th>fam_str_dummy4</th>\n",
              "      <th>fam_str_dummy5</th>\n",
              "      <th>child_dummy</th>\n",
              "      <th>T</th>\n",
              "      <th>F1</th>\n",
              "      <th>F2</th>\n",
              "      <th>F3</th>\n",
              "      <th>M1</th>\n",
              "      <th>M2</th>\n",
              "      <th>M3</th>\n",
              "      <th>TVwatch_day</th>\n",
              "      <th>gamesecond</th>\n",
              "    </tr>\n",
              "  </thead>\n",
              "  <tbody>\n",
              "    <tr>\n",
              "      <th>0</th>\n",
              "      <td>0</td>\n",
              "      <td>0</td>\n",
              "      <td>0</td>\n",
              "      <td>0</td>\n",
              "      <td>1</td>\n",
              "      <td>44.5</td>\n",
              "      <td>1</td>\n",
              "      <td>1</td>\n",
              "      <td>1</td>\n",
              "      <td>0</td>\n",
              "      <td>0</td>\n",
              "      <td>0</td>\n",
              "      <td>0</td>\n",
              "      <td>0</td>\n",
              "      <td>0</td>\n",
              "      <td>0</td>\n",
              "      <td>249.5</td>\n",
              "      <td>0.0</td>\n",
              "      <td>0</td>\n",
              "      <td>0</td>\n",
              "      <td>1</td>\n",
              "      <td>0</td>\n",
              "      <td>0</td>\n",
              "      <td>1</td>\n",
              "      <td>0</td>\n",
              "      <td>0</td>\n",
              "      <td>0</td>\n",
              "      <td>0</td>\n",
              "      <td>0</td>\n",
              "      <td>1</td>\n",
              "      <td>0</td>\n",
              "      <td>33.4276</td>\n",
              "      <td>0</td>\n",
              "    </tr>\n",
              "  </tbody>\n",
              "</table>\n",
              "</div>"
            ],
            "text/plain": [
              "   cm_dummy  area_kanto  area_keihan  ...  M3  TVwatch_day  gamesecond\n",
              "0         0           0            0  ...   0      33.4276           0\n",
              "\n",
              "[1 rows x 33 columns]"
            ]
          },
          "metadata": {
            "tags": []
          },
          "execution_count": 11
        }
      ]
    },
    {
      "cell_type": "markdown",
      "metadata": {
        "id": "qShBdy-Q195o",
        "colab_type": "text"
      },
      "source": [
        "### 主要な列名を定数で管理"
      ]
    },
    {
      "cell_type": "code",
      "metadata": {
        "id": "MeKA2dHdFfNq",
        "colab_type": "code",
        "colab": {}
      },
      "source": [
        "# 介入変数\n",
        "TREATMENT_COLUMN = \"cm_dummy\"\n",
        "# アウトカム\n",
        "OUTCOME_COLUMN = \"gamesecond\"\n",
        "# 交絡因子\n",
        "COVARIATE_COLUMNS = [c for c in analysis_data.columns if c != TREATMENT_COLUMN and c != OUTCOME_COLUMN]"
      ],
      "execution_count": 0,
      "outputs": []
    },
    {
      "cell_type": "markdown",
      "metadata": {
        "id": "yiPR0XQIQEkZ",
        "colab_type": "text"
      },
      "source": [
        "### 訓練データとテストデータに分割"
      ]
    },
    {
      "cell_type": "code",
      "metadata": {
        "id": "qIKn2X8UQCxK",
        "colab_type": "code",
        "colab": {}
      },
      "source": [
        "from sklearn.model_selection import train_test_split"
      ],
      "execution_count": 0,
      "outputs": []
    },
    {
      "cell_type": "code",
      "metadata": {
        "id": "Oo1aaQyGQoVw",
        "colab_type": "code",
        "outputId": "9ccf3c8b-1fbe-46a5-e1cc-33cf95b2dff0",
        "colab": {
          "base_uri": "https://localhost:8080/",
          "height": 71
        }
      },
      "source": [
        "train_data, test_data = train_test_split(analysis_data, test_size=0.2, shuffle=True, random_state=7)\n",
        "print(\"分割前のデータサイズ:{size}\".format(size=analysis_data.shape))\n",
        "print(\"訓練データサイズ:{size}\".format(size=train_data.shape))\n",
        "print(\"訓練データサイズ:{size}\".format(size=test_data.shape))"
      ],
      "execution_count": 14,
      "outputs": [
        {
          "output_type": "stream",
          "text": [
            "分割前のデータサイズ:(10000, 33)\n",
            "訓練データサイズ:(8000, 33)\n",
            "訓練データサイズ:(2000, 33)\n"
          ],
          "name": "stdout"
        }
      ]
    },
    {
      "cell_type": "markdown",
      "metadata": {
        "id": "o_cCmVsIq3hN",
        "colab_type": "text"
      },
      "source": [
        "#### アウトカムの統計量の差を確認"
      ]
    },
    {
      "cell_type": "code",
      "metadata": {
        "id": "NS8oNbANrFIk",
        "colab_type": "code",
        "outputId": "7d79bc71-d694-495c-9a1e-b16b8170db86",
        "colab": {
          "base_uri": "https://localhost:8080/",
          "height": 413
        }
      },
      "source": [
        "print(\"---訓練データ内のアウトカムの統計量---\\n{num}\\n\".format(num=train_data[OUTCOME_COLUMN].describe()))\n",
        "print(\"---テストデータ内のアウトカムの統計量---\\n{num}\\n\".format(num=test_data[OUTCOME_COLUMN].describe()))"
      ],
      "execution_count": 15,
      "outputs": [
        {
          "output_type": "stream",
          "text": [
            "---訓練データ内のアウトカムの統計量---\n",
            "count      8000.000000\n",
            "mean       2962.627250\n",
            "std       18693.136545\n",
            "min           0.000000\n",
            "25%           0.000000\n",
            "50%           0.000000\n",
            "75%           0.000000\n",
            "max      364814.000000\n",
            "Name: gamesecond, dtype: float64\n",
            "\n",
            "---テストデータ内のアウトカムの統計量---\n",
            "count      2000.000000\n",
            "mean       2383.408000\n",
            "std       14743.580547\n",
            "min           0.000000\n",
            "25%           0.000000\n",
            "50%           0.000000\n",
            "75%           0.000000\n",
            "max      223095.000000\n",
            "Name: gamesecond, dtype: float64\n",
            "\n"
          ],
          "name": "stdout"
        }
      ]
    },
    {
      "cell_type": "markdown",
      "metadata": {
        "id": "qXa9FrYDRvi4",
        "colab_type": "text"
      },
      "source": [
        "## MetaLeanerを使った因果推論"
      ]
    },
    {
      "cell_type": "code",
      "metadata": {
        "id": "XRIvSKYeoqWZ",
        "colab_type": "code",
        "colab": {}
      },
      "source": [
        "import cloudpickle\n",
        "import datetime\n",
        "import pytz\n",
        "import xgboost as xgb"
      ],
      "execution_count": 0,
      "outputs": []
    },
    {
      "cell_type": "markdown",
      "metadata": {
        "id": "n-hp8-LBGB3d",
        "colab_type": "text"
      },
      "source": [
        "### X-Leaner"
      ]
    },
    {
      "cell_type": "markdown",
      "metadata": {
        "id": "jzxoSGWMSNIJ",
        "colab_type": "text"
      },
      "source": [
        "#### モデルの定義と訓練"
      ]
    },
    {
      "cell_type": "code",
      "metadata": {
        "id": "Jgj6ouKcR5Jd",
        "colab_type": "code",
        "colab": {
          "base_uri": "https://localhost:8080/",
          "height": 73
        },
        "outputId": "d719402d-cd9c-49d4-b3dc-b971f8b0ecd6"
      },
      "source": [
        "from econml.metalearners import XLearner"
      ],
      "execution_count": 38,
      "outputs": [
        {
          "output_type": "stream",
          "text": [
            "/usr/local/lib/python3.6/dist-packages/statsmodels/tools/_testing.py:19: FutureWarning: pandas.util.testing is deprecated. Use the functions in the public API at pandas.testing instead.\n",
            "  import pandas.util.testing as tm\n"
          ],
          "name": "stderr"
        }
      ]
    },
    {
      "cell_type": "code",
      "metadata": {
        "id": "AaMnKQVv2gZp",
        "colab_type": "code",
        "colab": {}
      },
      "source": [
        "models_params = {\n",
        "    \"n_estimators\" : 5,\n",
        "    \"random_state\" : 7,\n",
        "    \"objective\" : \"reg:gamma\"\n",
        "}\n",
        "\n",
        "propensity_model_params = {\n",
        "    \"n_estimators\" : 5,\n",
        "    \"random_state\" : 7,\n",
        "    \"objective\" : \"binary:logistic\"\n",
        "}\n",
        "\n",
        "cate_models_params = {\n",
        "    \"n_estimators\" : 5,\n",
        "    \"random_state\" : 7,\n",
        "    \"objective\" : \"reg:squarederror\"\n",
        "}"
      ],
      "execution_count": 0,
      "outputs": []
    },
    {
      "cell_type": "code",
      "metadata": {
        "id": "t97fiPVae-WI",
        "colab_type": "code",
        "colab": {}
      },
      "source": [
        "XLEANER_TRAIN_MODE = True\n",
        "\n",
        "model_obj_dir = \"./model\"\n",
        "load_xleaner_pkl = \"XLEANER_20200514172739.pkl\"\n",
        "\n",
        "if XLEANER_TRAIN_MODE:\n",
        "    XLEANER_MODEL = XLearner(models=xgb.XGBRegressor(**models_params), # （反事実も含めた）アウトカム予測用のモデル定義\n",
        "                             propensity_model=xgb.XGBClassifier(**propensity_model_params), # 傾向スコア予測用のモデル定義\n",
        "                             cate_models=xgb.XGBRegressor(**cate_models_params), # CATE予測用のモデル定義\n",
        "                             )\n",
        "\n",
        "    XLEANER_MODEL.fit(Y=train_data[OUTCOME_COLUMN].values, # アウトカム\n",
        "                      T=train_data[TREATMENT_COLUMN].values, # 介入変数\n",
        "                      X=train_data[COVARIATE_COLUMNS].values, # 交絡因子\n",
        "                      inference='bootstrap' # ブートストラップを使った信頼区間の構築\n",
        "                      )\n",
        "    # モデルオブジェクトをログとして出力\n",
        "    model_name = \"XLEANER\"\n",
        "    now = datetime.datetime.now(pytz.timezone('Asia/Tokyo')).strftime('%Y%m%d%H%M%S')\n",
        "    export_file = model_obj_dir + \"/\" + model_name + \"_\" + now + \".pkl\"\n",
        "    with open(export_file, mode='wb') as f:\n",
        "        f.write(cloudpickle.dumps(XLEANER_MODEL))\n",
        "else:\n",
        "    load_file = model_obj_dir + \"/\" + load_xleaner_pkl\n",
        "    with open(load_file, mode=\"rb\") as f:\n",
        "        XLEANER_MODEL2 = cloudpickle.loads(f.read())"
      ],
      "execution_count": 0,
      "outputs": []
    },
    {
      "cell_type": "markdown",
      "metadata": {
        "id": "Q4lZ-ycJrmiK",
        "colab_type": "text"
      },
      "source": [
        "#### 精度の算出"
      ]
    },
    {
      "cell_type": "code",
      "metadata": {
        "id": "SlxsTH4BhtFI",
        "colab_type": "code",
        "colab": {
          "base_uri": "https://localhost:8080/",
          "height": 53
        },
        "outputId": "d6f7a49f-3f55-4ef1-87de-8cf4051a6ba8"
      },
      "source": [
        "# 傾向スコアモデルの訓練精度確認\n",
        "train_score = XLEANER_MODEL.propensity_models[0].score(X=train_data[COVARIATE_COLUMNS].values,\n",
        "                                                     y=train_data[TREATMENT_COLUMN].values)\n",
        "\n",
        "# 傾向スコアモデルの検証精度確認\n",
        "val_score = XLEANER_MODEL.propensity_models[0].score(X=test_data[COVARIATE_COLUMNS].values,\n",
        "                                                   y=test_data[TREATMENT_COLUMN].values)\n",
        "\n",
        "print(\"X-Leaner内の傾向スコアモデルの訓練精度:{train_score}\".format(train_score=train_score))\n",
        "print(\"X-Leaner内の傾向スコアモデルの検証精度:{val_score}\".format(val_score=val_score))"
      ],
      "execution_count": 49,
      "outputs": [
        {
          "output_type": "stream",
          "text": [
            "X-Leaner内の傾向スコアモデルの訓練精度:0.832625\n",
            "X-Leaner内の傾向スコアモデルの検証精度:0.7995\n"
          ],
          "name": "stdout"
        }
      ]
    },
    {
      "cell_type": "markdown",
      "metadata": {
        "id": "JHq4EyaQF8Tm",
        "colab_type": "text"
      },
      "source": [
        "#### CATEからATEを算出"
      ]
    },
    {
      "cell_type": "code",
      "metadata": {
        "id": "TFJu2KdlD0vl",
        "colab_type": "code",
        "outputId": "a715bc52-bac3-4366-abe7-dc62dbce982d",
        "colab": {
          "base_uri": "https://localhost:8080/",
          "height": 35
        }
      },
      "source": [
        "XLeaner_effect = XLEANER_MODEL.effect(analysis_data[COVARIATE_COLUMNS])\n",
        "print(\"訓練データ+テストデータにおけるATE:{ate}\".format(ate=XLeaner_effect.mean()))"
      ],
      "execution_count": 57,
      "outputs": [
        {
          "output_type": "stream",
          "text": [
            "訓練データ+テストデータにおけるATE:626.7579908915282\n"
          ],
          "name": "stdout"
        }
      ]
    },
    {
      "cell_type": "markdown",
      "metadata": {
        "id": "4abTtj5FGJNP",
        "colab_type": "text"
      },
      "source": [
        "### DA-Learner (Domain Adaptation Learner)"
      ]
    },
    {
      "cell_type": "markdown",
      "metadata": {
        "id": "D5a3iAVAwZqf",
        "colab_type": "text"
      },
      "source": [
        "#### モデルの定義と訓練"
      ]
    },
    {
      "cell_type": "code",
      "metadata": {
        "id": "gLKf_IBtaQYc",
        "colab_type": "code",
        "colab": {}
      },
      "source": [
        "from econml.metalearners import DomainAdaptationLearner"
      ],
      "execution_count": 0,
      "outputs": []
    },
    {
      "cell_type": "code",
      "metadata": {
        "id": "T4oTIe1Wb4kD",
        "colab_type": "code",
        "colab": {}
      },
      "source": [
        "models_params = {\n",
        "    \"n_estimators\" : 200,\n",
        "    \"random_state\" : 7,\n",
        "    #\"tree_method\" : \"gpu_hist\",\n",
        "    \"objective\" : \"reg:gamma\"\n",
        "}\n",
        "\n",
        "propensity_model_params = {\n",
        "    \"n_estimators\" : 200,\n",
        "    \"random_state\" : 7,\n",
        "    #\"tree_method\" : \"gpu_hist\",\n",
        "    \"objective\" : \"binary:logistic\"\n",
        "}\n",
        "\n",
        "final_models_params = {\n",
        "    \"n_estimators\" : 200,\n",
        "    \"random_state\" : 7,\n",
        "    #\"tree_method\" : \"gpu_hist\",\n",
        "    \"objective\" : \"reg:squarederror\"\n",
        "}"
      ],
      "execution_count": 0,
      "outputs": []
    },
    {
      "cell_type": "code",
      "metadata": {
        "id": "DncNYZQob6rt",
        "colab_type": "code",
        "colab": {}
      },
      "source": [
        "DA_LEANER_MODEL = DomainAdaptationLearner(models=xgb.XGBRegressor(**models_params), # （反事実も含めた）アウトカム予測用のモデル定義\n",
        "                                          propensity_model=xgb.XGBClassifier(**propensity_model_params), # 傾向スコア予測用のモデル定義\n",
        "                                          final_models=xgb.XGBRegressor(**final_models_params), # CATE予測用のモデル定義\n",
        "                                          )"
      ],
      "execution_count": 0,
      "outputs": []
    },
    {
      "cell_type": "code",
      "metadata": {
        "id": "hyThgpg8oMJb",
        "colab_type": "code",
        "colab": {
          "base_uri": "https://localhost:8080/",
          "height": 89
        },
        "outputId": "96e47d3e-c64b-4889-a19c-0f1bba3359d3"
      },
      "source": [
        "DA_LEANER_MODEL.fit(Y=train_data[OUTCOME_COLUMN].values,\n",
        "                    T=train_data[TREATMENT_COLUMN].values,\n",
        "                    X=train_data[COVARIATE_COLUMNS].values,\n",
        "                    inference='bootstrap'\n",
        "                    )"
      ],
      "execution_count": 47,
      "outputs": [
        {
          "output_type": "stream",
          "text": [
            "[Parallel(n_jobs=-1)]: Using backend ThreadingBackend with 2 concurrent workers.\n",
            "[Parallel(n_jobs=-1)]: Done  28 tasks      | elapsed:  1.5min\n",
            "[Parallel(n_jobs=-1)]: Done 100 out of 100 | elapsed:  5.5min finished\n"
          ],
          "name": "stderr"
        },
        {
          "output_type": "execute_result",
          "data": {
            "text/plain": [
              "<econml.metalearners.DomainAdaptationLearner at 0x7fcee6a75d30>"
            ]
          },
          "metadata": {
            "tags": []
          },
          "execution_count": 47
        }
      ]
    },
    {
      "cell_type": "markdown",
      "metadata": {
        "id": "S1SgUZcswc4o",
        "colab_type": "text"
      },
      "source": [
        "#### 精度の算出\n",
        "傾向スコアモデルの作り方はXLeanerと変わらないので、精度も同じ"
      ]
    },
    {
      "cell_type": "code",
      "metadata": {
        "id": "H-kekI9Hv5kR",
        "colab_type": "code",
        "colab": {
          "base_uri": "https://localhost:8080/",
          "height": 53
        },
        "outputId": "f8a58dfd-1129-4994-cbf4-50c98f0b4275"
      },
      "source": [
        "# 傾向スコアモデルの訓練精度確認\n",
        "train_score = DA_LEANER_MODEL.propensity_models[0].score(X=train_data[COVARIATE_COLUMNS].values,\n",
        "                                                         y=train_data[TREATMENT_COLUMN].values)\n",
        "\n",
        "# 傾向スコアモデルの検証精度確認\n",
        "val_score = DA_LEANER_MODEL.propensity_models[0].score(X=test_data[COVARIATE_COLUMNS].values,\n",
        "                                                       y=test_data[TREATMENT_COLUMN].values)\n",
        "\n",
        "print(\"DA-Leaner内の傾向スコアモデルの訓練精度:{train_score}\".format(train_score=train_score))\n",
        "print(\"DA-Leaner内の傾向スコアモデルの検証精度:{val_score}\".format(val_score=val_score))"
      ],
      "execution_count": 52,
      "outputs": [
        {
          "output_type": "stream",
          "text": [
            "DA-Leaner内の傾向スコアモデルの訓練精度:0.832625\n",
            "DA-Leaner内の傾向スコアモデルの検証精度:0.7995\n"
          ],
          "name": "stdout"
        }
      ]
    },
    {
      "cell_type": "markdown",
      "metadata": {
        "id": "LvueWbYJxeCO",
        "colab_type": "text"
      },
      "source": [
        "#### CATEからATEを算出"
      ]
    },
    {
      "cell_type": "code",
      "metadata": {
        "id": "Lks4E9HHxf6a",
        "colab_type": "code",
        "colab": {
          "base_uri": "https://localhost:8080/",
          "height": 35
        },
        "outputId": "c4d667a1-9ee5-4039-aa0a-e6bfbaf16f87"
      },
      "source": [
        "DAeaner_effect = DA_LEANER_MODEL.effect(analysis_data[COVARIATE_COLUMNS])\n",
        "print(\"訓練データ+テストデータにおけるATE:{ate}\".format(ate=DAeaner_effect.mean()))"
      ],
      "execution_count": 56,
      "outputs": [
        {
          "output_type": "stream",
          "text": [
            "訓練データ+テストデータにおけるATE:-1006.2444087644577\n"
          ],
          "name": "stdout"
        }
      ]
    },
    {
      "cell_type": "markdown",
      "metadata": {
        "id": "VDYr1sX_zJmS",
        "colab_type": "text"
      },
      "source": [
        "## Interpreterを使ってCATEの結果を分かりやすく描画"
      ]
    },
    {
      "cell_type": "code",
      "metadata": {
        "id": "43vCiRATvZ8N",
        "colab_type": "code",
        "colab": {}
      },
      "source": [
        "from econml.cate_interpreter import SingleTreeCateInterpreter\n",
        "intrp = SingleTreeCateInterpreter(include_model_uncertainty=True, max_depth=2, min_samples_leaf=10)"
      ],
      "execution_count": 0,
      "outputs": []
    },
    {
      "cell_type": "code",
      "metadata": {
        "id": "1y8nWwqAyl8Z",
        "colab_type": "code",
        "outputId": "35a589f4-1ee3-40d9-b768-6feb4719bf38",
        "colab": {
          "base_uri": "https://localhost:8080/",
          "height": 89
        }
      },
      "source": [
        "# We interpret the CATE model's behavior based on the features used for heterogeneity\n",
        "intrp.interpret(XLEANER_MODEL, test_data[COVARIATE_COLUMNS])"
      ],
      "execution_count": 0,
      "outputs": [
        {
          "output_type": "stream",
          "text": [
            "[Parallel(n_jobs=-1)]: Using backend ThreadingBackend with 2 concurrent workers.\n",
            "[Parallel(n_jobs=-1)]: Done  28 tasks      | elapsed:    0.4s\n",
            "[Parallel(n_jobs=-1)]: Done 100 out of 100 | elapsed:    1.5s finished\n"
          ],
          "name": "stderr"
        },
        {
          "output_type": "execute_result",
          "data": {
            "text/plain": [
              "<econml.cate_interpreter.SingleTreeCateInterpreter at 0x7f063f6b5240>"
            ]
          },
          "metadata": {
            "tags": []
          },
          "execution_count": 36
        }
      ]
    },
    {
      "cell_type": "code",
      "metadata": {
        "id": "Xo3fDJiHynTa",
        "colab_type": "code",
        "outputId": "7d593bf3-d026-4cfd-a7c0-485f2052cf06",
        "colab": {
          "base_uri": "https://localhost:8080/",
          "height": 191
        }
      },
      "source": [
        "# Plot the tree\n",
        "plt.figure(figsize=(25, 5))\n",
        "intrp.plot(feature_names=COVARIATE_COLUMNS, fontsize=12)\n",
        "plt.show()"
      ],
      "execution_count": 0,
      "outputs": [
        {
          "output_type": "display_data",
          "data": {
            "image/png": "[encoded data removed]",
            "text/plain": [
              "<Figure size 1800x360 with 1 Axes>"
            ]
          },
          "metadata": {
            "tags": [],
            "needs_background": "light"
          }
        }
      ]
    },
    {
      "cell_type": "markdown",
      "metadata": {
        "id": "7QiH8ZQzGXiH",
        "colab_type": "text"
      },
      "source": [
        "## (TODO)PolicyInterpreterを使って戦略を決める"
      ]
    },
    {
      "cell_type": "code",
      "metadata": {
        "id": "KpkochoRzc_B",
        "colab_type": "code",
        "colab": {}
      },
      "source": [
        ""
      ],
      "execution_count": 0,
      "outputs": []
    }
  ]
}