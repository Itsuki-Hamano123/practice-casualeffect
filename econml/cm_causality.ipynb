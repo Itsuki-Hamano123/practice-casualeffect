{
  "nbformat": 4,
  "nbformat_minor": 0,
  "metadata": {
    "colab": {
      "name": "cm_causality.ipynb",
      "provenance": [],
      "collapsed_sections": [],
      "toc_visible": true,
      "mount_file_id": "15LiD8A6OexI5NfRH3Iak7IAqRJZ5OpaO",
      "authorship_tag": "ABX9TyOvpTETkl5PJsVX9Ayzwpg+",
      "include_colab_link": true
    },
    "kernelspec": {
      "name": "python3",
      "display_name": "Python 3"
    },
    "accelerator": "GPU"
  },
  "cells": [
    {
      "cell_type": "markdown",
      "metadata": {
        "id": "view-in-github",
        "colab_type": "text"
      },
      "source": [
        "<a href=\"https://colab.research.google.com/github/Itsuki-Hamano123/practice-casualeffect/blob/master/econml/cm_causality.ipynb\" target=\"_parent\"><img src=\"https://colab.research.google.com/assets/colab-badge.svg\" alt=\"Open In Colab\"/></a>"
      ]
    },
    {
      "cell_type": "markdown",
      "metadata": {
        "id": "AWJdkDNoBk4-",
        "colab_type": "text"
      },
      "source": [
        "### ライブラリのインストール\n",
        "- econml（マイクロソフト）"
      ]
    },
    {
      "cell_type": "code",
      "metadata": {
        "id": "PJEmsXuy--k9",
        "colab_type": "code",
        "outputId": "abe0efe5-88f4-4f4a-b134-4e8872a3be7d",
        "colab": {
          "base_uri": "https://localhost:8080/",
          "height": 1000
        }
      },
      "source": [
        "!pip install econml"
      ],
      "execution_count": 1,
      "outputs": [
        {
          "output_type": "stream",
          "text": [
            "Collecting econml\n",
            "\u001b[?25l  Downloading https://files.pythonhosted.org/packages/98/30/9b89a34fa81f2b591671a15fca844ef6f5d9764e2951ef9e30ad2967cdfa/econml-0.7.0-py3-none-any.whl (312kB)\n",
            "\u001b[K     |████████████████████████████████| 317kB 6.1MB/s \n",
            "\u001b[?25hCollecting tensorflow==1.*\n",
            "\u001b[?25l  Downloading https://files.pythonhosted.org/packages/02/36/9a02e27f0ec248b676a380ffe910c1858e3af3027c0d4d513dd0b56a5613/tensorflow-1.15.3-cp36-cp36m-manylinux2010_x86_64.whl (110.5MB)\n",
            "\u001b[K     |████████████████████████████████| 110.5MB 36kB/s \n",
            "\u001b[?25hRequirement already satisfied: scipy!=1.4.0 in /usr/local/lib/python3.6/dist-packages (from econml) (1.4.1)\n",
            "Collecting scikit-learn~=0.21.0\n",
            "\u001b[?25l  Downloading https://files.pythonhosted.org/packages/a0/c5/d2238762d780dde84a20b8c761f563fe882b88c5a5fb03c056547c442a19/scikit_learn-0.21.3-cp36-cp36m-manylinux1_x86_64.whl (6.7MB)\n",
            "\u001b[K     |████████████████████████████████| 6.7MB 59.4MB/s \n",
            "\u001b[?25hRequirement already satisfied: keras in /usr/local/lib/python3.6/dist-packages (from econml) (2.3.1)\n",
            "Requirement already satisfied: graphviz in /usr/local/lib/python3.6/dist-packages (from econml) (0.10.1)\n",
            "Requirement already satisfied: statsmodels>=0.9 in /usr/local/lib/python3.6/dist-packages (from econml) (0.10.2)\n",
            "Requirement already satisfied: pandas in /usr/local/lib/python3.6/dist-packages (from econml) (1.0.4)\n",
            "Requirement already satisfied: numpy in /usr/local/lib/python3.6/dist-packages (from econml) (1.18.4)\n",
            "Requirement already satisfied: numba!=0.42.1 in /usr/local/lib/python3.6/dist-packages (from econml) (0.48.0)\n",
            "Requirement already satisfied: matplotlib; python_version > \"3.5\" in /usr/local/lib/python3.6/dist-packages (from econml) (3.2.1)\n",
            "Requirement already satisfied: joblib>=0.13.0 in /usr/local/lib/python3.6/dist-packages (from econml) (0.15.1)\n",
            "Collecting sparse\n",
            "\u001b[?25l  Downloading https://files.pythonhosted.org/packages/3a/25/562a0cebb6fc36f16989469350ac96e9dbe2cc11dba0c22c34d0eff2f5dd/sparse-0.10.0-py2.py3-none-any.whl (64kB)\n",
            "\u001b[K     |████████████████████████████████| 71kB 10.5MB/s \n",
            "\u001b[?25hRequirement already satisfied: opt-einsum>=2.3.2 in /usr/local/lib/python3.6/dist-packages (from tensorflow==1.*->econml) (3.2.1)\n",
            "Requirement already satisfied: absl-py>=0.7.0 in /usr/local/lib/python3.6/dist-packages (from tensorflow==1.*->econml) (0.9.0)\n",
            "Requirement already satisfied: termcolor>=1.1.0 in /usr/local/lib/python3.6/dist-packages (from tensorflow==1.*->econml) (1.1.0)\n",
            "Collecting gast==0.2.2\n",
            "  Downloading https://files.pythonhosted.org/packages/4e/35/11749bf99b2d4e3cceb4d55ca22590b0d7c2c62b9de38ac4a4a7f4687421/gast-0.2.2.tar.gz\n",
            "Requirement already satisfied: six>=1.10.0 in /usr/local/lib/python3.6/dist-packages (from tensorflow==1.*->econml) (1.12.0)\n",
            "Collecting tensorboard<1.16.0,>=1.15.0\n",
            "\u001b[?25l  Downloading https://files.pythonhosted.org/packages/1e/e9/d3d747a97f7188f48aa5eda486907f3b345cd409f0a0850468ba867db246/tensorboard-1.15.0-py3-none-any.whl (3.8MB)\n",
            "\u001b[K     |████████████████████████████████| 3.8MB 49.4MB/s \n",
            "\u001b[?25hRequirement already satisfied: wheel>=0.26; python_version >= \"3\" in /usr/local/lib/python3.6/dist-packages (from tensorflow==1.*->econml) (0.34.2)\n",
            "Requirement already satisfied: keras-applications>=1.0.8 in /usr/local/lib/python3.6/dist-packages (from tensorflow==1.*->econml) (1.0.8)\n",
            "Collecting tensorflow-estimator==1.15.1\n",
            "\u001b[?25l  Downloading https://files.pythonhosted.org/packages/de/62/2ee9cd74c9fa2fa450877847ba560b260f5d0fb70ee0595203082dafcc9d/tensorflow_estimator-1.15.1-py2.py3-none-any.whl (503kB)\n",
            "\u001b[K     |████████████████████████████████| 512kB 50.8MB/s \n",
            "\u001b[?25hRequirement already satisfied: wrapt>=1.11.1 in /usr/local/lib/python3.6/dist-packages (from tensorflow==1.*->econml) (1.12.1)\n",
            "Requirement already satisfied: google-pasta>=0.1.6 in /usr/local/lib/python3.6/dist-packages (from tensorflow==1.*->econml) (0.2.0)\n",
            "Requirement already satisfied: astor>=0.6.0 in /usr/local/lib/python3.6/dist-packages (from tensorflow==1.*->econml) (0.8.1)\n",
            "Requirement already satisfied: keras-preprocessing>=1.0.5 in /usr/local/lib/python3.6/dist-packages (from tensorflow==1.*->econml) (1.1.2)\n",
            "Requirement already satisfied: protobuf>=3.6.1 in /usr/local/lib/python3.6/dist-packages (from tensorflow==1.*->econml) (3.10.0)\n",
            "Requirement already satisfied: grpcio>=1.8.6 in /usr/local/lib/python3.6/dist-packages (from tensorflow==1.*->econml) (1.29.0)\n",
            "Requirement already satisfied: h5py in /usr/local/lib/python3.6/dist-packages (from keras->econml) (2.10.0)\n",
            "Requirement already satisfied: pyyaml in /usr/local/lib/python3.6/dist-packages (from keras->econml) (3.13)\n",
            "Requirement already satisfied: patsy>=0.4.0 in /usr/local/lib/python3.6/dist-packages (from statsmodels>=0.9->econml) (0.5.1)\n",
            "Requirement already satisfied: pytz>=2017.2 in /usr/local/lib/python3.6/dist-packages (from pandas->econml) (2018.9)\n",
            "Requirement already satisfied: python-dateutil>=2.6.1 in /usr/local/lib/python3.6/dist-packages (from pandas->econml) (2.8.1)\n",
            "Requirement already satisfied: setuptools in /usr/local/lib/python3.6/dist-packages (from numba!=0.42.1->econml) (47.1.1)\n",
            "Requirement already satisfied: llvmlite<0.32.0,>=0.31.0dev0 in /usr/local/lib/python3.6/dist-packages (from numba!=0.42.1->econml) (0.31.0)\n",
            "Requirement already satisfied: kiwisolver>=1.0.1 in /usr/local/lib/python3.6/dist-packages (from matplotlib; python_version > \"3.5\"->econml) (1.2.0)\n",
            "Requirement already satisfied: cycler>=0.10 in /usr/local/lib/python3.6/dist-packages (from matplotlib; python_version > \"3.5\"->econml) (0.10.0)\n",
            "Requirement already satisfied: pyparsing!=2.0.4,!=2.1.2,!=2.1.6,>=2.0.1 in /usr/local/lib/python3.6/dist-packages (from matplotlib; python_version > \"3.5\"->econml) (2.4.7)\n",
            "Requirement already satisfied: werkzeug>=0.11.15 in /usr/local/lib/python3.6/dist-packages (from tensorboard<1.16.0,>=1.15.0->tensorflow==1.*->econml) (1.0.1)\n",
            "Requirement already satisfied: markdown>=2.6.8 in /usr/local/lib/python3.6/dist-packages (from tensorboard<1.16.0,>=1.15.0->tensorflow==1.*->econml) (3.2.2)\n",
            "Requirement already satisfied: importlib-metadata; python_version < \"3.8\" in /usr/local/lib/python3.6/dist-packages (from markdown>=2.6.8->tensorboard<1.16.0,>=1.15.0->tensorflow==1.*->econml) (1.6.0)\n",
            "Requirement already satisfied: zipp>=0.5 in /usr/local/lib/python3.6/dist-packages (from importlib-metadata; python_version < \"3.8\"->markdown>=2.6.8->tensorboard<1.16.0,>=1.15.0->tensorflow==1.*->econml) (3.1.0)\n",
            "Building wheels for collected packages: gast\n",
            "  Building wheel for gast (setup.py) ... \u001b[?25l\u001b[?25hdone\n",
            "  Created wheel for gast: filename=gast-0.2.2-cp36-none-any.whl size=7540 sha256=b88d1b1730e20a68b8269095ec6adcf78b1917550f07b2b44e166fb6d8ea32f4\n",
            "  Stored in directory: /root/.cache/pip/wheels/5c/2e/7e/a1d4d4fcebe6c381f378ce7743a3ced3699feb89bcfbdadadd\n",
            "Successfully built gast\n",
            "\u001b[31mERROR: tensorflow-probability 0.10.0 has requirement gast>=0.3.2, but you'll have gast 0.2.2 which is incompatible.\u001b[0m\n",
            "\u001b[31mERROR: sparse 0.10.0 has requirement numba>=0.49, but you'll have numba 0.48.0 which is incompatible.\u001b[0m\n",
            "Installing collected packages: gast, tensorboard, tensorflow-estimator, tensorflow, scikit-learn, sparse, econml\n",
            "  Found existing installation: gast 0.3.3\n",
            "    Uninstalling gast-0.3.3:\n",
            "      Successfully uninstalled gast-0.3.3\n",
            "  Found existing installation: tensorboard 2.2.2\n",
            "    Uninstalling tensorboard-2.2.2:\n",
            "      Successfully uninstalled tensorboard-2.2.2\n",
            "  Found existing installation: tensorflow-estimator 2.2.0\n",
            "    Uninstalling tensorflow-estimator-2.2.0:\n",
            "      Successfully uninstalled tensorflow-estimator-2.2.0\n",
            "  Found existing installation: tensorflow 2.2.0\n",
            "    Uninstalling tensorflow-2.2.0:\n",
            "      Successfully uninstalled tensorflow-2.2.0\n",
            "  Found existing installation: scikit-learn 0.22.2.post1\n",
            "    Uninstalling scikit-learn-0.22.2.post1:\n",
            "      Successfully uninstalled scikit-learn-0.22.2.post1\n",
            "Successfully installed econml-0.7.0 gast-0.2.2 scikit-learn-0.21.3 sparse-0.10.0 tensorboard-1.15.0 tensorflow-1.15.3 tensorflow-estimator-1.15.1\n"
          ],
          "name": "stdout"
        }
      ]
    },
    {
      "cell_type": "code",
      "metadata": {
        "id": "A_FV1wR5-geJ",
        "colab_type": "code",
        "outputId": "d50b9d17-e60c-4b2b-bd97-c4c441518624",
        "colab": {
          "base_uri": "https://localhost:8080/",
          "height": 127
        }
      },
      "source": [
        "from google.colab import drive\n",
        "drive.mount('/gdrive')"
      ],
      "execution_count": 2,
      "outputs": [
        {
          "output_type": "stream",
          "text": [
            "Go to this URL in a browser: https://accounts.google.com/o/oauth2/auth?client_id=947318989803-6bn6qk8qdgf4n4g3pfee6491hc0brc4i.apps.googleusercontent.com&redirect_uri=urn%3aietf%3awg%3aoauth%3a2.0%3aoob&response_type=code&scope=email%20https%3a%2f%2fwww.googleapis.com%2fauth%2fdocs.test%20https%3a%2f%2fwww.googleapis.com%2fauth%2fdrive%20https%3a%2f%2fwww.googleapis.com%2fauth%2fdrive.photos.readonly%20https%3a%2f%2fwww.googleapis.com%2fauth%2fpeopleapi.readonly\n",
            "\n",
            "Enter your authorization code:\n",
            "··········\n",
            "Mounted at /gdrive\n"
          ],
          "name": "stdout"
        }
      ]
    },
    {
      "cell_type": "code",
      "metadata": {
        "id": "fqNgJ3JD94RO",
        "colab_type": "code",
        "outputId": "c83bdce5-1615-49d2-ce02-38f258251150",
        "colab": {
          "base_uri": "https://localhost:8080/",
          "height": 35
        }
      },
      "source": [
        "cd /gdrive/My Drive/機械学習練習/統計的因果推論/因果推論実践用/econML"
      ],
      "execution_count": 3,
      "outputs": [
        {
          "output_type": "stream",
          "text": [
            "/gdrive/My Drive/機械学習練習/統計的因果推論/因果推論実践用/econML\n"
          ],
          "name": "stdout"
        }
      ]
    },
    {
      "cell_type": "code",
      "metadata": {
        "id": "UzIC-Cuu--HR",
        "colab_type": "code",
        "outputId": "741aa7a4-df34-4068-feec-29a1e970eb72",
        "colab": {
          "base_uri": "https://localhost:8080/",
          "height": 53
        }
      },
      "source": [
        "ls"
      ],
      "execution_count": 4,
      "outputs": [
        {
          "output_type": "stream",
          "text": [
            "cm_causality.ipynb                      econML_readDocumet.ipynb\n",
            "cm_causality_propensity_analysis.ipynb  \u001b[0m\u001b[01;34mmodel\u001b[0m/\n"
          ],
          "name": "stdout"
        }
      ]
    },
    {
      "cell_type": "markdown",
      "metadata": {
        "id": "ftsPh0li_EjM",
        "colab_type": "text"
      },
      "source": [
        "# アプリのCM配信におけるユーザの傾向スコアの分布とCATEの関係性を分析"
      ]
    },
    {
      "cell_type": "markdown",
      "metadata": {
        "id": "MjjM4t4bQSaq",
        "colab_type": "text"
      },
      "source": [
        "## データの前処理\n",
        "\n",
        "\n",
        "\n",
        "\n"
      ]
    },
    {
      "cell_type": "markdown",
      "metadata": {
        "id": "MMAHi43cByQO",
        "colab_type": "text"
      },
      "source": [
        "### 分析対象のデータ読み込み"
      ]
    },
    {
      "cell_type": "code",
      "metadata": {
        "id": "4gDj95jfBxw3",
        "colab_type": "code",
        "colab": {}
      },
      "source": [
        "import datetime\n",
        "from pprint import pprint\n",
        "\n",
        "import matplotlib.pyplot as plt\n",
        "import numpy as np\n",
        "import pandas as pd"
      ],
      "execution_count": 0,
      "outputs": []
    },
    {
      "cell_type": "code",
      "metadata": {
        "id": "tG20tfpeDZuQ",
        "colab_type": "code",
        "colab": {}
      },
      "source": [
        "DATA_DIR = \"../datasets\"\n",
        "CSV_FIEL = \"game_cm_abtest.csv\"\n",
        "data_path = DATA_DIR + \"/\" + CSV_FIEL"
      ],
      "execution_count": 0,
      "outputs": []
    },
    {
      "cell_type": "code",
      "metadata": {
        "id": "nBy21EmzEE9B",
        "colab_type": "code",
        "outputId": "a9b9f52d-375a-4f52-963e-4ff8155cd467",
        "colab": {
          "base_uri": "https://localhost:8080/",
          "height": 161
        }
      },
      "source": [
        "read_data = pd.read_csv(data_path)\n",
        "read_data.head(3)"
      ],
      "execution_count": 7,
      "outputs": [
        {
          "output_type": "execute_result",
          "data": {
            "text/html": [
              "<div>\n",
              "<style scoped>\n",
              "    .dataframe tbody tr th:only-of-type {\n",
              "        vertical-align: middle;\n",
              "    }\n",
              "\n",
              "    .dataframe tbody tr th {\n",
              "        vertical-align: top;\n",
              "    }\n",
              "\n",
              "    .dataframe thead th {\n",
              "        text-align: right;\n",
              "    }\n",
              "</style>\n",
              "<table border=\"1\" class=\"dataframe\">\n",
              "  <thead>\n",
              "    <tr style=\"text-align: right;\">\n",
              "      <th></th>\n",
              "      <th>cm_dummy</th>\n",
              "      <th>gamedummy</th>\n",
              "      <th>area_kanto</th>\n",
              "      <th>area_keihan</th>\n",
              "      <th>area_tokai</th>\n",
              "      <th>area_keihanshin</th>\n",
              "      <th>age</th>\n",
              "      <th>sex</th>\n",
              "      <th>marry_dummy</th>\n",
              "      <th>job_dummy1</th>\n",
              "      <th>job_dummy2</th>\n",
              "      <th>job_dummy3</th>\n",
              "      <th>job_dummy4</th>\n",
              "      <th>job_dummy5</th>\n",
              "      <th>job_dummy6</th>\n",
              "      <th>job_dummy7</th>\n",
              "      <th>job_dummy8</th>\n",
              "      <th>inc</th>\n",
              "      <th>pmoney</th>\n",
              "      <th>fam_str_dummy1</th>\n",
              "      <th>fam_str_dummy2</th>\n",
              "      <th>fam_str_dummy3</th>\n",
              "      <th>fam_str_dummy4</th>\n",
              "      <th>fam_str_dummy5</th>\n",
              "      <th>child_dummy</th>\n",
              "      <th>T</th>\n",
              "      <th>F1</th>\n",
              "      <th>F2</th>\n",
              "      <th>F3</th>\n",
              "      <th>M1</th>\n",
              "      <th>M2</th>\n",
              "      <th>M3</th>\n",
              "      <th>TVwatch_day</th>\n",
              "      <th>gamesecond</th>\n",
              "      <th>gamecount</th>\n",
              "    </tr>\n",
              "  </thead>\n",
              "  <tbody>\n",
              "    <tr>\n",
              "      <th>0</th>\n",
              "      <td>0</td>\n",
              "      <td>0</td>\n",
              "      <td>0</td>\n",
              "      <td>0</td>\n",
              "      <td>0</td>\n",
              "      <td>1</td>\n",
              "      <td>44.5</td>\n",
              "      <td>1</td>\n",
              "      <td>1</td>\n",
              "      <td>1</td>\n",
              "      <td>0</td>\n",
              "      <td>0</td>\n",
              "      <td>0</td>\n",
              "      <td>0</td>\n",
              "      <td>0</td>\n",
              "      <td>0</td>\n",
              "      <td>0</td>\n",
              "      <td>249.5</td>\n",
              "      <td>0.0</td>\n",
              "      <td>0</td>\n",
              "      <td>0</td>\n",
              "      <td>1</td>\n",
              "      <td>0</td>\n",
              "      <td>0</td>\n",
              "      <td>1</td>\n",
              "      <td>0</td>\n",
              "      <td>0</td>\n",
              "      <td>0</td>\n",
              "      <td>0</td>\n",
              "      <td>0</td>\n",
              "      <td>1</td>\n",
              "      <td>0</td>\n",
              "      <td>33.427600</td>\n",
              "      <td>0</td>\n",
              "      <td>0</td>\n",
              "    </tr>\n",
              "    <tr>\n",
              "      <th>1</th>\n",
              "      <td>0</td>\n",
              "      <td>0</td>\n",
              "      <td>0</td>\n",
              "      <td>1</td>\n",
              "      <td>0</td>\n",
              "      <td>0</td>\n",
              "      <td>34.5</td>\n",
              "      <td>1</td>\n",
              "      <td>1</td>\n",
              "      <td>1</td>\n",
              "      <td>0</td>\n",
              "      <td>0</td>\n",
              "      <td>0</td>\n",
              "      <td>0</td>\n",
              "      <td>0</td>\n",
              "      <td>0</td>\n",
              "      <td>0</td>\n",
              "      <td>800.0</td>\n",
              "      <td>12.5</td>\n",
              "      <td>0</td>\n",
              "      <td>0</td>\n",
              "      <td>1</td>\n",
              "      <td>0</td>\n",
              "      <td>0</td>\n",
              "      <td>1</td>\n",
              "      <td>0</td>\n",
              "      <td>0</td>\n",
              "      <td>0</td>\n",
              "      <td>0</td>\n",
              "      <td>0</td>\n",
              "      <td>1</td>\n",
              "      <td>0</td>\n",
              "      <td>31.542862</td>\n",
              "      <td>0</td>\n",
              "      <td>0</td>\n",
              "    </tr>\n",
              "    <tr>\n",
              "      <th>2</th>\n",
              "      <td>0</td>\n",
              "      <td>0</td>\n",
              "      <td>0</td>\n",
              "      <td>1</td>\n",
              "      <td>0</td>\n",
              "      <td>0</td>\n",
              "      <td>24.5</td>\n",
              "      <td>1</td>\n",
              "      <td>0</td>\n",
              "      <td>0</td>\n",
              "      <td>0</td>\n",
              "      <td>0</td>\n",
              "      <td>0</td>\n",
              "      <td>0</td>\n",
              "      <td>0</td>\n",
              "      <td>1</td>\n",
              "      <td>0</td>\n",
              "      <td>0.0</td>\n",
              "      <td>2.0</td>\n",
              "      <td>0</td>\n",
              "      <td>0</td>\n",
              "      <td>0</td>\n",
              "      <td>1</td>\n",
              "      <td>0</td>\n",
              "      <td>0</td>\n",
              "      <td>0</td>\n",
              "      <td>0</td>\n",
              "      <td>0</td>\n",
              "      <td>0</td>\n",
              "      <td>1</td>\n",
              "      <td>0</td>\n",
              "      <td>0</td>\n",
              "      <td>37.825805</td>\n",
              "      <td>0</td>\n",
              "      <td>0</td>\n",
              "    </tr>\n",
              "  </tbody>\n",
              "</table>\n",
              "</div>"
            ],
            "text/plain": [
              "   cm_dummy  gamedummy  area_kanto  ...  TVwatch_day  gamesecond  gamecount\n",
              "0         0          0           0  ...    33.427600           0          0\n",
              "1         0          0           0  ...    31.542862           0          0\n",
              "2         0          0           0  ...    37.825805           0          0\n",
              "\n",
              "[3 rows x 35 columns]"
            ]
          },
          "metadata": {
            "tags": []
          },
          "execution_count": 7
        }
      ]
    },
    {
      "cell_type": "code",
      "metadata": {
        "id": "_od91IH6OI7i",
        "colab_type": "code",
        "outputId": "87183cc1-8566-43ea-b398-8b7ed792d74c",
        "colab": {
          "base_uri": "https://localhost:8080/",
          "height": 314
        }
      },
      "source": [
        "# 欠損数及び統計量の確認\n",
        "read_data.describe()"
      ],
      "execution_count": 8,
      "outputs": [
        {
          "output_type": "execute_result",
          "data": {
            "text/html": [
              "<div>\n",
              "<style scoped>\n",
              "    .dataframe tbody tr th:only-of-type {\n",
              "        vertical-align: middle;\n",
              "    }\n",
              "\n",
              "    .dataframe tbody tr th {\n",
              "        vertical-align: top;\n",
              "    }\n",
              "\n",
              "    .dataframe thead th {\n",
              "        text-align: right;\n",
              "    }\n",
              "</style>\n",
              "<table border=\"1\" class=\"dataframe\">\n",
              "  <thead>\n",
              "    <tr style=\"text-align: right;\">\n",
              "      <th></th>\n",
              "      <th>cm_dummy</th>\n",
              "      <th>gamedummy</th>\n",
              "      <th>area_kanto</th>\n",
              "      <th>area_keihan</th>\n",
              "      <th>area_tokai</th>\n",
              "      <th>area_keihanshin</th>\n",
              "      <th>age</th>\n",
              "      <th>sex</th>\n",
              "      <th>marry_dummy</th>\n",
              "      <th>job_dummy1</th>\n",
              "      <th>job_dummy2</th>\n",
              "      <th>job_dummy3</th>\n",
              "      <th>job_dummy4</th>\n",
              "      <th>job_dummy5</th>\n",
              "      <th>job_dummy6</th>\n",
              "      <th>job_dummy7</th>\n",
              "      <th>job_dummy8</th>\n",
              "      <th>inc</th>\n",
              "      <th>pmoney</th>\n",
              "      <th>fam_str_dummy1</th>\n",
              "      <th>fam_str_dummy2</th>\n",
              "      <th>fam_str_dummy3</th>\n",
              "      <th>fam_str_dummy4</th>\n",
              "      <th>fam_str_dummy5</th>\n",
              "      <th>child_dummy</th>\n",
              "      <th>T</th>\n",
              "      <th>F1</th>\n",
              "      <th>F2</th>\n",
              "      <th>F3</th>\n",
              "      <th>M1</th>\n",
              "      <th>M2</th>\n",
              "      <th>M3</th>\n",
              "      <th>TVwatch_day</th>\n",
              "      <th>gamesecond</th>\n",
              "      <th>gamecount</th>\n",
              "    </tr>\n",
              "  </thead>\n",
              "  <tbody>\n",
              "    <tr>\n",
              "      <th>count</th>\n",
              "      <td>10000.000000</td>\n",
              "      <td>10000.000000</td>\n",
              "      <td>10000.000000</td>\n",
              "      <td>10000.000000</td>\n",
              "      <td>10000.000000</td>\n",
              "      <td>10000.000000</td>\n",
              "      <td>10000.000000</td>\n",
              "      <td>10000.000000</td>\n",
              "      <td>10000.000000</td>\n",
              "      <td>10000.000000</td>\n",
              "      <td>10000.000000</td>\n",
              "      <td>10000.000000</td>\n",
              "      <td>10000.000000</td>\n",
              "      <td>10000.000000</td>\n",
              "      <td>10000.000000</td>\n",
              "      <td>10000.000000</td>\n",
              "      <td>10000.000000</td>\n",
              "      <td>10000.000000</td>\n",
              "      <td>10000.00000</td>\n",
              "      <td>10000.000000</td>\n",
              "      <td>10000.000000</td>\n",
              "      <td>10000.000000</td>\n",
              "      <td>10000.000000</td>\n",
              "      <td>10000.000000</td>\n",
              "      <td>10000.00000</td>\n",
              "      <td>10000.000000</td>\n",
              "      <td>10000.000000</td>\n",
              "      <td>10000.000000</td>\n",
              "      <td>10000.000000</td>\n",
              "      <td>10000.000000</td>\n",
              "      <td>10000.000000</td>\n",
              "      <td>10000.000000</td>\n",
              "      <td>10000.000000</td>\n",
              "      <td>10000.000000</td>\n",
              "      <td>10000.000000</td>\n",
              "    </tr>\n",
              "    <tr>\n",
              "      <th>mean</th>\n",
              "      <td>0.414400</td>\n",
              "      <td>0.074000</td>\n",
              "      <td>0.091200</td>\n",
              "      <td>0.588700</td>\n",
              "      <td>0.111500</td>\n",
              "      <td>0.208600</td>\n",
              "      <td>40.841900</td>\n",
              "      <td>0.640300</td>\n",
              "      <td>0.647000</td>\n",
              "      <td>0.566200</td>\n",
              "      <td>0.054200</td>\n",
              "      <td>0.075900</td>\n",
              "      <td>0.012300</td>\n",
              "      <td>0.117700</td>\n",
              "      <td>0.099900</td>\n",
              "      <td>0.039900</td>\n",
              "      <td>0.033900</td>\n",
              "      <td>357.829700</td>\n",
              "      <td>3.55234</td>\n",
              "      <td>0.148000</td>\n",
              "      <td>0.144800</td>\n",
              "      <td>0.620400</td>\n",
              "      <td>0.069900</td>\n",
              "      <td>0.016900</td>\n",
              "      <td>0.42300</td>\n",
              "      <td>0.013200</td>\n",
              "      <td>0.127800</td>\n",
              "      <td>0.173300</td>\n",
              "      <td>0.052200</td>\n",
              "      <td>0.140300</td>\n",
              "      <td>0.328800</td>\n",
              "      <td>0.164400</td>\n",
              "      <td>8096.497203</td>\n",
              "      <td>2846.783400</td>\n",
              "      <td>9.433300</td>\n",
              "    </tr>\n",
              "    <tr>\n",
              "      <th>std</th>\n",
              "      <td>0.492643</td>\n",
              "      <td>0.261784</td>\n",
              "      <td>0.287908</td>\n",
              "      <td>0.492094</td>\n",
              "      <td>0.314766</td>\n",
              "      <td>0.406328</td>\n",
              "      <td>10.465434</td>\n",
              "      <td>0.479936</td>\n",
              "      <td>0.477927</td>\n",
              "      <td>0.495623</td>\n",
              "      <td>0.226423</td>\n",
              "      <td>0.264851</td>\n",
              "      <td>0.110227</td>\n",
              "      <td>0.322269</td>\n",
              "      <td>0.299882</td>\n",
              "      <td>0.195734</td>\n",
              "      <td>0.180981</td>\n",
              "      <td>267.408383</td>\n",
              "      <td>3.37777</td>\n",
              "      <td>0.355118</td>\n",
              "      <td>0.351917</td>\n",
              "      <td>0.485312</td>\n",
              "      <td>0.254991</td>\n",
              "      <td>0.128903</td>\n",
              "      <td>0.49406</td>\n",
              "      <td>0.114136</td>\n",
              "      <td>0.333884</td>\n",
              "      <td>0.378525</td>\n",
              "      <td>0.222441</td>\n",
              "      <td>0.347315</td>\n",
              "      <td>0.469801</td>\n",
              "      <td>0.370657</td>\n",
              "      <td>7709.497437</td>\n",
              "      <td>17973.608991</td>\n",
              "      <td>54.475214</td>\n",
              "    </tr>\n",
              "    <tr>\n",
              "      <th>min</th>\n",
              "      <td>0.000000</td>\n",
              "      <td>0.000000</td>\n",
              "      <td>0.000000</td>\n",
              "      <td>0.000000</td>\n",
              "      <td>0.000000</td>\n",
              "      <td>0.000000</td>\n",
              "      <td>19.000000</td>\n",
              "      <td>0.000000</td>\n",
              "      <td>0.000000</td>\n",
              "      <td>0.000000</td>\n",
              "      <td>0.000000</td>\n",
              "      <td>0.000000</td>\n",
              "      <td>0.000000</td>\n",
              "      <td>0.000000</td>\n",
              "      <td>0.000000</td>\n",
              "      <td>0.000000</td>\n",
              "      <td>0.000000</td>\n",
              "      <td>0.000000</td>\n",
              "      <td>0.00000</td>\n",
              "      <td>0.000000</td>\n",
              "      <td>0.000000</td>\n",
              "      <td>0.000000</td>\n",
              "      <td>0.000000</td>\n",
              "      <td>0.000000</td>\n",
              "      <td>0.00000</td>\n",
              "      <td>0.000000</td>\n",
              "      <td>0.000000</td>\n",
              "      <td>0.000000</td>\n",
              "      <td>0.000000</td>\n",
              "      <td>0.000000</td>\n",
              "      <td>0.000000</td>\n",
              "      <td>0.000000</td>\n",
              "      <td>29.875270</td>\n",
              "      <td>0.000000</td>\n",
              "      <td>0.000000</td>\n",
              "    </tr>\n",
              "    <tr>\n",
              "      <th>25%</th>\n",
              "      <td>0.000000</td>\n",
              "      <td>0.000000</td>\n",
              "      <td>0.000000</td>\n",
              "      <td>0.000000</td>\n",
              "      <td>0.000000</td>\n",
              "      <td>0.000000</td>\n",
              "      <td>34.500000</td>\n",
              "      <td>0.000000</td>\n",
              "      <td>0.000000</td>\n",
              "      <td>0.000000</td>\n",
              "      <td>0.000000</td>\n",
              "      <td>0.000000</td>\n",
              "      <td>0.000000</td>\n",
              "      <td>0.000000</td>\n",
              "      <td>0.000000</td>\n",
              "      <td>0.000000</td>\n",
              "      <td>0.000000</td>\n",
              "      <td>103.000000</td>\n",
              "      <td>2.00000</td>\n",
              "      <td>0.000000</td>\n",
              "      <td>0.000000</td>\n",
              "      <td>0.000000</td>\n",
              "      <td>0.000000</td>\n",
              "      <td>0.000000</td>\n",
              "      <td>0.00000</td>\n",
              "      <td>0.000000</td>\n",
              "      <td>0.000000</td>\n",
              "      <td>0.000000</td>\n",
              "      <td>0.000000</td>\n",
              "      <td>0.000000</td>\n",
              "      <td>0.000000</td>\n",
              "      <td>0.000000</td>\n",
              "      <td>2502.245967</td>\n",
              "      <td>0.000000</td>\n",
              "      <td>0.000000</td>\n",
              "    </tr>\n",
              "    <tr>\n",
              "      <th>50%</th>\n",
              "      <td>0.000000</td>\n",
              "      <td>0.000000</td>\n",
              "      <td>0.000000</td>\n",
              "      <td>1.000000</td>\n",
              "      <td>0.000000</td>\n",
              "      <td>0.000000</td>\n",
              "      <td>44.500000</td>\n",
              "      <td>1.000000</td>\n",
              "      <td>1.000000</td>\n",
              "      <td>1.000000</td>\n",
              "      <td>0.000000</td>\n",
              "      <td>0.000000</td>\n",
              "      <td>0.000000</td>\n",
              "      <td>0.000000</td>\n",
              "      <td>0.000000</td>\n",
              "      <td>0.000000</td>\n",
              "      <td>0.000000</td>\n",
              "      <td>349.500000</td>\n",
              "      <td>2.00000</td>\n",
              "      <td>0.000000</td>\n",
              "      <td>0.000000</td>\n",
              "      <td>1.000000</td>\n",
              "      <td>0.000000</td>\n",
              "      <td>0.000000</td>\n",
              "      <td>0.00000</td>\n",
              "      <td>0.000000</td>\n",
              "      <td>0.000000</td>\n",
              "      <td>0.000000</td>\n",
              "      <td>0.000000</td>\n",
              "      <td>0.000000</td>\n",
              "      <td>0.000000</td>\n",
              "      <td>0.000000</td>\n",
              "      <td>5944.444520</td>\n",
              "      <td>0.000000</td>\n",
              "      <td>0.000000</td>\n",
              "    </tr>\n",
              "    <tr>\n",
              "      <th>75%</th>\n",
              "      <td>1.000000</td>\n",
              "      <td>0.000000</td>\n",
              "      <td>0.000000</td>\n",
              "      <td>1.000000</td>\n",
              "      <td>0.000000</td>\n",
              "      <td>0.000000</td>\n",
              "      <td>44.500000</td>\n",
              "      <td>1.000000</td>\n",
              "      <td>1.000000</td>\n",
              "      <td>1.000000</td>\n",
              "      <td>0.000000</td>\n",
              "      <td>0.000000</td>\n",
              "      <td>0.000000</td>\n",
              "      <td>0.000000</td>\n",
              "      <td>0.000000</td>\n",
              "      <td>0.000000</td>\n",
              "      <td>0.000000</td>\n",
              "      <td>549.500000</td>\n",
              "      <td>4.00000</td>\n",
              "      <td>0.000000</td>\n",
              "      <td>0.000000</td>\n",
              "      <td>1.000000</td>\n",
              "      <td>0.000000</td>\n",
              "      <td>0.000000</td>\n",
              "      <td>1.00000</td>\n",
              "      <td>0.000000</td>\n",
              "      <td>0.000000</td>\n",
              "      <td>0.000000</td>\n",
              "      <td>0.000000</td>\n",
              "      <td>0.000000</td>\n",
              "      <td>1.000000</td>\n",
              "      <td>0.000000</td>\n",
              "      <td>11154.786148</td>\n",
              "      <td>0.000000</td>\n",
              "      <td>0.000000</td>\n",
              "    </tr>\n",
              "    <tr>\n",
              "      <th>max</th>\n",
              "      <td>1.000000</td>\n",
              "      <td>1.000000</td>\n",
              "      <td>1.000000</td>\n",
              "      <td>1.000000</td>\n",
              "      <td>1.000000</td>\n",
              "      <td>1.000000</td>\n",
              "      <td>60.000000</td>\n",
              "      <td>1.000000</td>\n",
              "      <td>1.000000</td>\n",
              "      <td>1.000000</td>\n",
              "      <td>1.000000</td>\n",
              "      <td>1.000000</td>\n",
              "      <td>1.000000</td>\n",
              "      <td>1.000000</td>\n",
              "      <td>1.000000</td>\n",
              "      <td>1.000000</td>\n",
              "      <td>1.000000</td>\n",
              "      <td>800.000000</td>\n",
              "      <td>20.00000</td>\n",
              "      <td>1.000000</td>\n",
              "      <td>1.000000</td>\n",
              "      <td>1.000000</td>\n",
              "      <td>1.000000</td>\n",
              "      <td>1.000000</td>\n",
              "      <td>1.00000</td>\n",
              "      <td>1.000000</td>\n",
              "      <td>1.000000</td>\n",
              "      <td>1.000000</td>\n",
              "      <td>1.000000</td>\n",
              "      <td>1.000000</td>\n",
              "      <td>1.000000</td>\n",
              "      <td>1.000000</td>\n",
              "      <td>49036.055042</td>\n",
              "      <td>364814.000000</td>\n",
              "      <td>765.000000</td>\n",
              "    </tr>\n",
              "  </tbody>\n",
              "</table>\n",
              "</div>"
            ],
            "text/plain": [
              "           cm_dummy     gamedummy  ...     gamesecond     gamecount\n",
              "count  10000.000000  10000.000000  ...   10000.000000  10000.000000\n",
              "mean       0.414400      0.074000  ...    2846.783400      9.433300\n",
              "std        0.492643      0.261784  ...   17973.608991     54.475214\n",
              "min        0.000000      0.000000  ...       0.000000      0.000000\n",
              "25%        0.000000      0.000000  ...       0.000000      0.000000\n",
              "50%        0.000000      0.000000  ...       0.000000      0.000000\n",
              "75%        1.000000      0.000000  ...       0.000000      0.000000\n",
              "max        1.000000      1.000000  ...  364814.000000    765.000000\n",
              "\n",
              "[8 rows x 35 columns]"
            ]
          },
          "metadata": {
            "tags": []
          },
          "execution_count": 8
        }
      ]
    },
    {
      "cell_type": "code",
      "metadata": {
        "id": "p018J-lLoujI",
        "colab_type": "code",
        "outputId": "d9143b19-8452-4fe9-db9a-cc5f1f2c152c",
        "colab": {
          "base_uri": "https://localhost:8080/",
          "height": 297
        }
      },
      "source": [
        "# アウトカムの分布を確認\n",
        "read_data[\"gamesecond\"].hist(bins=20)\n",
        "plt.tight_layout()\n",
        "plt.show()"
      ],
      "execution_count": 9,
      "outputs": [
        {
          "output_type": "display_data",
          "data": {
            "image/png": "[encoded data removed]",
            "text/plain": [
              "<Figure size 432x288 with 1 Axes>"
            ]
          },
          "metadata": {
            "tags": [],
            "needs_background": "light"
          }
        }
      ]
    },
    {
      "cell_type": "markdown",
      "metadata": {
        "id": "qShBdy-Q195o",
        "colab_type": "text"
      },
      "source": [
        "### 列を整理"
      ]
    },
    {
      "cell_type": "code",
      "metadata": {
        "id": "Y60jVhJrJcf3",
        "colab_type": "code",
        "outputId": "2af81bc2-1d8a-4f2f-fd96-330517b124ef",
        "colab": {
          "base_uri": "https://localhost:8080/",
          "height": 99
        }
      },
      "source": [
        "UNNECESSARY_COLUMNS = [\"gamedummy\", \"gamecount\"]\n",
        "analysis_data = read_data.drop(columns=UNNECESSARY_COLUMNS)\n",
        "analysis_data.head(1)"
      ],
      "execution_count": 10,
      "outputs": [
        {
          "output_type": "execute_result",
          "data": {
            "text/html": [
              "<div>\n",
              "<style scoped>\n",
              "    .dataframe tbody tr th:only-of-type {\n",
              "        vertical-align: middle;\n",
              "    }\n",
              "\n",
              "    .dataframe tbody tr th {\n",
              "        vertical-align: top;\n",
              "    }\n",
              "\n",
              "    .dataframe thead th {\n",
              "        text-align: right;\n",
              "    }\n",
              "</style>\n",
              "<table border=\"1\" class=\"dataframe\">\n",
              "  <thead>\n",
              "    <tr style=\"text-align: right;\">\n",
              "      <th></th>\n",
              "      <th>cm_dummy</th>\n",
              "      <th>area_kanto</th>\n",
              "      <th>area_keihan</th>\n",
              "      <th>area_tokai</th>\n",
              "      <th>area_keihanshin</th>\n",
              "      <th>age</th>\n",
              "      <th>sex</th>\n",
              "      <th>marry_dummy</th>\n",
              "      <th>job_dummy1</th>\n",
              "      <th>job_dummy2</th>\n",
              "      <th>job_dummy3</th>\n",
              "      <th>job_dummy4</th>\n",
              "      <th>job_dummy5</th>\n",
              "      <th>job_dummy6</th>\n",
              "      <th>job_dummy7</th>\n",
              "      <th>job_dummy8</th>\n",
              "      <th>inc</th>\n",
              "      <th>pmoney</th>\n",
              "      <th>fam_str_dummy1</th>\n",
              "      <th>fam_str_dummy2</th>\n",
              "      <th>fam_str_dummy3</th>\n",
              "      <th>fam_str_dummy4</th>\n",
              "      <th>fam_str_dummy5</th>\n",
              "      <th>child_dummy</th>\n",
              "      <th>T</th>\n",
              "      <th>F1</th>\n",
              "      <th>F2</th>\n",
              "      <th>F3</th>\n",
              "      <th>M1</th>\n",
              "      <th>M2</th>\n",
              "      <th>M3</th>\n",
              "      <th>TVwatch_day</th>\n",
              "      <th>gamesecond</th>\n",
              "    </tr>\n",
              "  </thead>\n",
              "  <tbody>\n",
              "    <tr>\n",
              "      <th>0</th>\n",
              "      <td>0</td>\n",
              "      <td>0</td>\n",
              "      <td>0</td>\n",
              "      <td>0</td>\n",
              "      <td>1</td>\n",
              "      <td>44.5</td>\n",
              "      <td>1</td>\n",
              "      <td>1</td>\n",
              "      <td>1</td>\n",
              "      <td>0</td>\n",
              "      <td>0</td>\n",
              "      <td>0</td>\n",
              "      <td>0</td>\n",
              "      <td>0</td>\n",
              "      <td>0</td>\n",
              "      <td>0</td>\n",
              "      <td>249.5</td>\n",
              "      <td>0.0</td>\n",
              "      <td>0</td>\n",
              "      <td>0</td>\n",
              "      <td>1</td>\n",
              "      <td>0</td>\n",
              "      <td>0</td>\n",
              "      <td>1</td>\n",
              "      <td>0</td>\n",
              "      <td>0</td>\n",
              "      <td>0</td>\n",
              "      <td>0</td>\n",
              "      <td>0</td>\n",
              "      <td>1</td>\n",
              "      <td>0</td>\n",
              "      <td>33.4276</td>\n",
              "      <td>0</td>\n",
              "    </tr>\n",
              "  </tbody>\n",
              "</table>\n",
              "</div>"
            ],
            "text/plain": [
              "   cm_dummy  area_kanto  area_keihan  ...  M3  TVwatch_day  gamesecond\n",
              "0         0           0            0  ...   0      33.4276           0\n",
              "\n",
              "[1 rows x 33 columns]"
            ]
          },
          "metadata": {
            "tags": []
          },
          "execution_count": 10
        }
      ]
    },
    {
      "cell_type": "code",
      "metadata": {
        "id": "MeKA2dHdFfNq",
        "colab_type": "code",
        "colab": {}
      },
      "source": [
        "# 介入変数\n",
        "TREATMENT_COLUMN = \"cm_dummy\"\n",
        "# アウトカム\n",
        "OUTCOME_COLUMN = \"gamesecond\"\n",
        "# 交絡因子\n",
        "COVARIATE_COLUMNS = [c for c in analysis_data.columns if c != TREATMENT_COLUMN and c != OUTCOME_COLUMN]"
      ],
      "execution_count": 0,
      "outputs": []
    },
    {
      "cell_type": "code",
      "metadata": {
        "id": "drLRWMTO75NB",
        "colab_type": "code",
        "outputId": "3165f6aa-e3b8-4baa-ed55-2be32b3ca10f",
        "colab": {
          "base_uri": "https://localhost:8080/",
          "height": 629
        }
      },
      "source": [
        "# 介入群とコントロール群の平均値の差\n",
        "analysis_data[analysis_data[TREATMENT_COLUMN] == 1].mean() - analysis_data[analysis_data[TREATMENT_COLUMN] == 0].mean()"
      ],
      "execution_count": 12,
      "outputs": [
        {
          "output_type": "execute_result",
          "data": {
            "text/plain": [
              "cm_dummy              1.000000\n",
              "area_kanto            0.068021\n",
              "area_keihan           0.192204\n",
              "area_tokai           -0.031341\n",
              "area_keihanshin      -0.228884\n",
              "age                   1.579975\n",
              "sex                  -0.074340\n",
              "marry_dummy           0.039902\n",
              "job_dummy1           -0.082965\n",
              "job_dummy2           -0.006842\n",
              "job_dummy3            0.017089\n",
              "job_dummy4            0.002072\n",
              "job_dummy5            0.065212\n",
              "job_dummy6            0.018962\n",
              "job_dummy7           -0.015801\n",
              "job_dummy8            0.002274\n",
              "inc                 -27.548749\n",
              "pmoney               -0.013721\n",
              "fam_str_dummy1       -0.005898\n",
              "fam_str_dummy2        0.040363\n",
              "fam_str_dummy3        0.003322\n",
              "fam_str_dummy4       -0.032828\n",
              "fam_str_dummy5       -0.004959\n",
              "child_dummy           0.002509\n",
              "T                    -0.000701\n",
              "F1                   -0.025385\n",
              "F2                    0.089769\n",
              "F3                    0.005226\n",
              "M1                   -0.064038\n",
              "M2                   -0.031131\n",
              "M3                    0.026260\n",
              "TVwatch_day        5746.899002\n",
              "gamesecond         -629.640577\n",
              "dtype: float64"
            ]
          },
          "metadata": {
            "tags": []
          },
          "execution_count": 12
        }
      ]
    },
    {
      "cell_type": "markdown",
      "metadata": {
        "id": "1ftiVRdl7hCo",
        "colab_type": "text"
      },
      "source": [
        "単純に平均値を比較してしまうと、CM広告がゲームプレイ時間を減少させる結果となる"
      ]
    },
    {
      "cell_type": "markdown",
      "metadata": {
        "id": "yiPR0XQIQEkZ",
        "colab_type": "text"
      },
      "source": [
        "### 訓練データとテストデータに分割"
      ]
    },
    {
      "cell_type": "code",
      "metadata": {
        "id": "qIKn2X8UQCxK",
        "colab_type": "code",
        "colab": {}
      },
      "source": [
        "from sklearn.model_selection import train_test_split"
      ],
      "execution_count": 0,
      "outputs": []
    },
    {
      "cell_type": "code",
      "metadata": {
        "id": "Oo1aaQyGQoVw",
        "colab_type": "code",
        "outputId": "b998e4f8-f141-4a1e-a44f-e42a8b6196fc",
        "colab": {
          "base_uri": "https://localhost:8080/",
          "height": 71
        }
      },
      "source": [
        "train_data, test_data = train_test_split(analysis_data, test_size=0.2, shuffle=True, random_state=7)\n",
        "print(\"分割前のデータサイズ:{size}\".format(size=analysis_data.shape))\n",
        "print(\"訓練データサイズ:{size}\".format(size=train_data.shape))\n",
        "print(\"訓練データサイズ:{size}\".format(size=test_data.shape))"
      ],
      "execution_count": 14,
      "outputs": [
        {
          "output_type": "stream",
          "text": [
            "分割前のデータサイズ:(10000, 33)\n",
            "訓練データサイズ:(8000, 33)\n",
            "訓練データサイズ:(2000, 33)\n"
          ],
          "name": "stdout"
        }
      ]
    },
    {
      "cell_type": "code",
      "metadata": {
        "id": "NS8oNbANrFIk",
        "colab_type": "code",
        "outputId": "29c66a12-eb46-4b1a-e39e-283f62b76ffa",
        "colab": {
          "base_uri": "https://localhost:8080/",
          "height": 413
        }
      },
      "source": [
        "print(\"---訓練データ内のアウトカムの統計量---\\n{num}\\n\".format(num=train_data[OUTCOME_COLUMN].describe()))\n",
        "print(\"---テストデータ内のアウトカムの統計量---\\n{num}\\n\".format(num=test_data[OUTCOME_COLUMN].describe()))"
      ],
      "execution_count": 15,
      "outputs": [
        {
          "output_type": "stream",
          "text": [
            "---訓練データ内のアウトカムの統計量---\n",
            "count      8000.000000\n",
            "mean       2962.627250\n",
            "std       18693.136545\n",
            "min           0.000000\n",
            "25%           0.000000\n",
            "50%           0.000000\n",
            "75%           0.000000\n",
            "max      364814.000000\n",
            "Name: gamesecond, dtype: float64\n",
            "\n",
            "---テストデータ内のアウトカムの統計量---\n",
            "count      2000.000000\n",
            "mean       2383.408000\n",
            "std       14743.580547\n",
            "min           0.000000\n",
            "25%           0.000000\n",
            "50%           0.000000\n",
            "75%           0.000000\n",
            "max      223095.000000\n",
            "Name: gamesecond, dtype: float64\n",
            "\n"
          ],
          "name": "stdout"
        }
      ]
    },
    {
      "cell_type": "markdown",
      "metadata": {
        "id": "ePKvwzf-oQAl",
        "colab_type": "text"
      },
      "source": [
        "## 2. 因果効果を推論するモデルの構築"
      ]
    },
    {
      "cell_type": "code",
      "metadata": {
        "id": "XRIvSKYeoqWZ",
        "colab_type": "code",
        "colab": {}
      },
      "source": [
        "import datetime\n",
        "import pytz\n",
        "\n",
        "import cloudpickle\n",
        "from econml.cate_interpreter import SingleTreeCateInterpreter\n",
        "from econml.drlearner import SparseLinearDRLearner\n",
        "from econml.metalearners import SLearner, TLearner, DomainAdaptationLearner, XLearner\n",
        "import xgboost as xgb"
      ],
      "execution_count": 0,
      "outputs": []
    },
    {
      "cell_type": "code",
      "metadata": {
        "id": "giONsQi3Tzni",
        "colab_type": "code",
        "colab": {}
      },
      "source": [
        "def export_pkl_model_obj(dir_path, model_name, model, hyperparameter, protocol=4):\n",
        "    \"\"\"\n",
        "    モデルとハイパーパラメータをpklファイルに書き出し\n",
        "    \"\"\"\n",
        "    output_obj = {\n",
        "        \"model\" : model,\n",
        "        \"hyperparameter\" : hyperparameter\n",
        "    }\n",
        "    now = datetime.datetime.now(pytz.timezone('Asia/Tokyo')).strftime('%Y%m%d%H%M%S')\n",
        "    export_file = dir_path + \"/\" + model_name + \"_\" + now + \".pkl\"\n",
        "    with open(export_file, mode='wb') as f:\n",
        "        f.write(cloudpickle.dumps(output_obj,protocol=protocol))\n",
        "    return export_file\n",
        "\n",
        "\n",
        "def load_pkl(dir_path, pkl_file_path):\n",
        "    \"\"\"\n",
        "    pklファイルからモデルとハイパーパラメータのオブジェクトを読み込み\n",
        "    \"\"\"\n",
        "    load_file = dir_path + \"/\" + pkl_file_path\n",
        "    with open(load_file, mode=\"rb\") as f:\n",
        "        load_obj = cloudpickle.loads(f.read())\n",
        "    return load_obj"
      ],
      "execution_count": 0,
      "outputs": []
    },
    {
      "cell_type": "markdown",
      "metadata": {
        "id": "2VJe3Lbi4ftT",
        "colab_type": "text"
      },
      "source": [
        "### SLearner"
      ]
    },
    {
      "cell_type": "code",
      "metadata": {
        "id": "X3n-Kyfw4jYQ",
        "colab_type": "code",
        "colab": {}
      },
      "source": [
        "hyperparameter = {\n",
        "    \"model_regression\" : {\n",
        "        \"n_estimators\" : 600,\n",
        "        \"random_state\" : 7,\n",
        "        \"objective\" : \"reg:gamma\"\n",
        "    }\n",
        "}"
      ],
      "execution_count": 0,
      "outputs": []
    },
    {
      "cell_type": "code",
      "metadata": {
        "id": "C3tP7tBT4kQA",
        "colab_type": "code",
        "colab": {
          "base_uri": "https://localhost:8080/",
          "height": 35
        },
        "outputId": "fc064b38-ee87-4c92-91d7-a05c5e104d76"
      },
      "source": [
        "SLEARNER_TRAIN_MODE = True\n",
        "\n",
        "model_name = 'slearner'\n",
        "model_obj_dir = \"./model\"\n",
        "load_pkl_path = \"slearner_20200519222605.pkl\"\n",
        "\n",
        "if SLEARNER_TRAIN_MODE:\n",
        "    SLearner_model = SLearner(overall_model=xgb.XGBRegressor(**hyperparameter[\"model_regression\"]))\n",
        "\n",
        "    inference = None\n",
        "    SLearner_model.fit(Y=train_data[OUTCOME_COLUMN].values,\n",
        "                       T=train_data[TREATMENT_COLUMN].values,\n",
        "                       X=train_data[COVARIATE_COLUMNS].values,\n",
        "                       inference=inference)\n",
        "    \n",
        "    if inference != 'bootstrap':\n",
        "        res = export_pkl_model_obj(model_obj_dir, model_name, SLearner_model, hyperparameter)\n",
        "        print(\"{model_name}を{file_path}に出力\".format(model_name=model_name, file_path=res))\n",
        "\n",
        "else :\n",
        "    load_obj = load_pkl(model_obj_dir, load_pkl_path)\n",
        "    SLearner_model = load_obj[\"model\"]\n",
        "    print(\"{model_name}を{file_path}から読み込み\".format(model_name=model_name, file_path=load_pkl_path))\n",
        "    print(\"ハイパーパラメータ{hyperparameter}\".format(hyperparameter=load_obj[\"hyperparameter\"]))"
      ],
      "execution_count": 113,
      "outputs": [
        {
          "output_type": "stream",
          "text": [
            "slearnerを./model/slearner_20200606225141.pklに出力\n"
          ],
          "name": "stdout"
        }
      ]
    },
    {
      "cell_type": "code",
      "metadata": {
        "id": "6d2Tsv4a5s0h",
        "colab_type": "code",
        "colab": {
          "base_uri": "https://localhost:8080/",
          "height": 35
        },
        "outputId": "ef44a5d4-5377-41c2-fd22-be566026f963"
      },
      "source": [
        "SLearner_model.effect(test_data[COVARIATE_COLUMNS].values).sum() / 8000"
      ],
      "execution_count": 116,
      "outputs": [
        {
          "output_type": "execute_result",
          "data": {
            "text/plain": [
              "-272.50544371084123"
            ]
          },
          "metadata": {
            "tags": []
          },
          "execution_count": 116
        }
      ]
    },
    {
      "cell_type": "markdown",
      "metadata": {
        "id": "GByhl3xEoVr1",
        "colab_type": "text"
      },
      "source": [
        "### SparseDRLearner（傾向スコアモデル:XGBClassifier）"
      ]
    },
    {
      "cell_type": "code",
      "metadata": {
        "id": "ZVgQIjfq5YDi",
        "colab_type": "code",
        "colab": {}
      },
      "source": [
        "hyperparameter = {\n",
        "    \"model_propensity\" : {\n",
        "        \"n_estimators\" : 600,\n",
        "        \"random_state\" : 7,\n",
        "        \"objective\" : \"binary:logistic\"\n",
        "    },\n",
        "    \"model_regression\" : {\n",
        "        \"n_estimators\" : 600,\n",
        "        \"random_state\" : 7,\n",
        "        \"objective\" : \"reg:gamma\"\n",
        "    }\n",
        "}"
      ],
      "execution_count": 0,
      "outputs": []
    },
    {
      "cell_type": "code",
      "metadata": {
        "id": "asmDWnWHvDUB",
        "colab_type": "code",
        "outputId": "104830f6-bf83-42ba-b473-174bd8896c10",
        "colab": {
          "base_uri": "https://localhost:8080/",
          "height": 73
        }
      },
      "source": [
        "SPARSE_DRLEANER_TRAIN_MODE = False\n",
        "\n",
        "model_name = 'sparse_drlearner'\n",
        "model_obj_dir = \"./model\"\n",
        "load_pkl_path = \"sparse_drlearner_20200519222605.pkl\"\n",
        "\n",
        "if SPARSE_DRLEANER_TRAIN_MODE:\n",
        "    Sparse_DRLearner_model = SparseLinearDRLearner(model_propensity=xgb.XGBClassifier(**hyperparameter[\"model_propensity\"]),\n",
        "                                                  model_regression=xgb.XGBRegressor(**hyperparameter[\"model_regression\"]),\n",
        "                                                  random_state=7)\n",
        "    \n",
        "    inference = 'debiasedlasso'\n",
        "    Sparse_DRLearner_model.fit(Y=train_data[OUTCOME_COLUMN].values,\n",
        "                              T=train_data[TREATMENT_COLUMN].values,\n",
        "                              X=train_data[COVARIATE_COLUMNS].values,\n",
        "                              inference=inference)\n",
        "    \n",
        "    if inference != 'bootstrap':\n",
        "        res = export_pkl_model_obj(model_obj_dir, model_name, Sparse_DRLearner_model, hyperparameter)\n",
        "        print(\"{model_name}を{file_path}に出力\".format(model_name=model_name, file_path=res))\n",
        "\n",
        "else :\n",
        "    load_obj = load_pkl(model_obj_dir, load_pkl_path)\n",
        "    Sparse_DRLearner_model = load_obj[\"model\"]\n",
        "    print(\"{model_name}を{file_path}から読み込み\".format(model_name=model_name, file_path=load_pkl_path))\n",
        "    print(\"ハイパーパラメータ{hyperparameter}\".format(hyperparameter=load_obj[\"hyperparameter\"]))"
      ],
      "execution_count": 19,
      "outputs": [
        {
          "output_type": "stream",
          "text": [
            "sparse_drlearnerをsparse_drlearner_20200519222605.pklから読み込み\n",
            "ハイパーパラメータ{'model_propensity': {'n_estimators': 600, 'random_state': 7, 'objective': 'binary:logistic'}, 'model_regression': {'n_estimators': 600, 'random_state': 7, 'objective': 'reg:gamma'}}\n"
          ],
          "name": "stdout"
        }
      ]
    },
    {
      "cell_type": "markdown",
      "metadata": {
        "id": "U6PO43QsDDGr",
        "colab_type": "text"
      },
      "source": [
        "##### 回帰係数のp値を確認"
      ]
    },
    {
      "cell_type": "code",
      "metadata": {
        "id": "icPTE4NwxMrp",
        "colab_type": "code",
        "outputId": "122c6ca0-2549-46e1-d2a5-0ed70058a62e",
        "colab": {
          "base_uri": "https://localhost:8080/",
          "height": 759
        }
      },
      "source": [
        "summary_Sparse_DRLearner = Sparse_DRLearner_model.summary(T=1, feat_name=COVARIATE_COLUMNS)\n",
        "summary_Sparse_DRLearner"
      ],
      "execution_count": 20,
      "outputs": [
        {
          "output_type": "execute_result",
          "data": {
            "text/html": [
              "<table class=\"simpletable\">\n",
              "<caption>Coefficient Results</caption>\n",
              "<tr>\n",
              "         <td></td>         <th>point_estimate</th>  <th>stderr</th>   <th>zstat</th> <th>pvalue</th>  <th>ci_lower</th>  <th>ci_upper</th> \n",
              "</tr>\n",
              "<tr>\n",
              "  <th>area_kanto</th>         <td>-2818.249</td>   <td>1272.763</td> <td>-2.214</td>  <td>0.027</td>  <td>-4911.758</td>  <td>-724.74</td> \n",
              "</tr>\n",
              "<tr>\n",
              "  <th>area_keihan</th>         <td>942.788</td>     <td>743.436</td>  <td>1.268</td>  <td>0.205</td>  <td>-280.055</td>   <td>2165.63</td> \n",
              "</tr>\n",
              "<tr>\n",
              "  <th>area_tokai</th>         <td>-2378.968</td>    <td>1170.37</td> <td>-2.033</td>  <td>0.042</td>  <td>-4304.056</td>  <td>-453.88</td> \n",
              "</tr>\n",
              "<tr>\n",
              "  <th>area_keihanshin</th>    <td>1424.718</td>     <td>896.996</td>  <td>1.588</td>  <td>0.112</td>   <td>-50.71</td>   <td>2900.145</td> \n",
              "</tr>\n",
              "<tr>\n",
              "  <th>age</th>                 <td>-39.342</td>     <td>35.353</td>  <td>-1.113</td>  <td>0.266</td>   <td>-97.493</td>   <td>18.808</td>  \n",
              "</tr>\n",
              "<tr>\n",
              "  <th>sex</th>                 <td>588.236</td>     <td>761.861</td>  <td>0.772</td>  <td>0.44</td>   <td>-664.915</td>  <td>1841.386</td> \n",
              "</tr>\n",
              "<tr>\n",
              "  <th>marry_dummy</th>        <td>1739.513</td>     <td>765.68</td>   <td>2.272</td>  <td>0.023</td>   <td>480.083</td>  <td>2998.944</td> \n",
              "</tr>\n",
              "<tr>\n",
              "  <th>job_dummy1</th>         <td>-924.113</td>     <td>738.475</td> <td>-1.251</td>  <td>0.211</td>  <td>-2138.795</td>  <td>290.57</td>  \n",
              "</tr>\n",
              "<tr>\n",
              "  <th>job_dummy2</th>         <td>4080.763</td>    <td>1625.715</td>  <td>2.51</td>   <td>0.012</td>   <td>1406.7</td>   <td>6754.826</td> \n",
              "</tr>\n",
              "<tr>\n",
              "  <th>job_dummy3</th>         <td>4415.921</td>    <td>1381.551</td>  <td>3.196</td>  <td>0.001</td>  <td>2143.472</td>   <td>6688.37</td> \n",
              "</tr>\n",
              "<tr>\n",
              "  <th>job_dummy4</th>         <td>-6648.941</td>   <td>3260.716</td> <td>-2.039</td>  <td>0.041</td> <td>-12012.341</td> <td>-1285.541</td>\n",
              "</tr>\n",
              "<tr>\n",
              "  <th>job_dummy5</th>         <td>-2064.243</td>   <td>1128.824</td> <td>-1.829</td>  <td>0.067</td>  <td>-3920.992</td> <td>-207.493</td> \n",
              "</tr>\n",
              "<tr>\n",
              "  <th>job_dummy6</th>         <td>1762.895</td>    <td>1227.667</td>  <td>1.436</td>  <td>0.151</td>  <td>-256.437</td>  <td>3782.228</td> \n",
              "</tr>\n",
              "<tr>\n",
              "  <th>job_dummy7</th>         <td>-5124.24</td>    <td>1878.168</td> <td>-2.728</td>  <td>0.006</td>  <td>-8213.551</td> <td>-2034.929</td>\n",
              "</tr>\n",
              "<tr>\n",
              "  <th>job_dummy8</th>         <td>1537.415</td>     <td>2051.67</td>  <td>0.749</td>  <td>0.454</td>  <td>-1837.281</td> <td>4912.111</td> \n",
              "</tr>\n",
              "<tr>\n",
              "  <th>inc</th>                  <td>3.272</td>       <td>1.376</td>   <td>2.378</td>  <td>0.017</td>    <td>1.008</td>     <td>5.536</td>  \n",
              "</tr>\n",
              "<tr>\n",
              "  <th>pmoney</th>             <td>-106.476</td>     <td>107.442</td> <td>-0.991</td>  <td>0.322</td>  <td>-283.201</td>    <td>70.25</td>  \n",
              "</tr>\n",
              "<tr>\n",
              "  <th>fam_str_dummy1</th>     <td>-885.122</td>    <td>1035.672</td> <td>-0.855</td>  <td>0.393</td>  <td>-2588.651</td>  <td>818.407</td> \n",
              "</tr>\n",
              "<tr>\n",
              "  <th>fam_str_dummy2</th>      <td>2320.0</td>     <td>1031.664</td>  <td>2.249</td>  <td>0.025</td>   <td>623.063</td>  <td>4016.937</td> \n",
              "</tr>\n",
              "<tr>\n",
              "  <th>fam_str_dummy3</th>     <td>-2090.861</td>    <td>753.836</td> <td>-2.774</td>  <td>0.006</td>  <td>-3330.812</td> <td>-850.911</td> \n",
              "</tr>\n",
              "<tr>\n",
              "  <th>fam_str_dummy4</th>     <td>1688.382</td>    <td>1434.994</td>  <td>1.177</td>  <td>0.239</td>  <td>-671.973</td>  <td>4048.737</td> \n",
              "</tr>\n",
              "<tr>\n",
              "  <th>fam_str_dummy5</th>     <td>12694.603</td>   <td>2904.436</td>  <td>4.371</td>   <td>0.0</td>   <td>7917.231</td>  <td>17471.974</td>\n",
              "</tr>\n",
              "<tr>\n",
              "  <th>child_dummy</th>        <td>-672.233</td>     <td>740.381</td> <td>-0.908</td>  <td>0.364</td>  <td>-1890.051</td>  <td>545.586</td> \n",
              "</tr>\n",
              "<tr>\n",
              "  <th>T</th>                  <td>1871.115</td>    <td>3199.411</td>  <td>0.585</td>  <td>0.559</td>  <td>-3391.449</td> <td>7133.678</td> \n",
              "</tr>\n",
              "<tr>\n",
              "  <th>F1</th>                 <td>-299.176</td>    <td>1092.287</td> <td>-0.274</td>  <td>0.784</td>  <td>-2095.827</td> <td>1497.476</td> \n",
              "</tr>\n",
              "<tr>\n",
              "  <th>F2</th>                 <td>-1265.93</td>     <td>964.158</td> <td>-1.313</td>  <td>0.189</td>  <td>-2851.828</td>  <td>319.968</td> \n",
              "</tr>\n",
              "<tr>\n",
              "  <th>F3</th>                  <td>1091.88</td>    <td>1659.047</td>  <td>0.658</td>  <td>0.51</td>   <td>-1637.01</td>   <td>3820.77</td> \n",
              "</tr>\n",
              "<tr>\n",
              "  <th>M1</th>                 <td>-3957.018</td>   <td>1050.787</td> <td>-3.766</td>   <td>0.0</td>   <td>-5685.409</td> <td>-2228.627</td>\n",
              "</tr>\n",
              "<tr>\n",
              "  <th>M2</th>                 <td>3664.423</td>     <td>778.088</td>  <td>4.71</td>    <td>0.0</td>   <td>2384.581</td>  <td>4944.265</td> \n",
              "</tr>\n",
              "<tr>\n",
              "  <th>M3</th>                 <td>-1419.935</td>    <td>994.442</td> <td>-1.428</td>  <td>0.153</td>  <td>-3055.647</td>  <td>215.777</td> \n",
              "</tr>\n",
              "<tr>\n",
              "  <th>TVwatch_day</th>          <td>0.16</td>        <td>0.048</td>   <td>3.347</td>  <td>0.001</td>    <td>0.081</td>     <td>0.238</td>  \n",
              "</tr>\n",
              "</table>\n",
              "<table class=\"simpletable\">\n",
              "<caption>Intercept Results</caption>\n",
              "<tr>\n",
              "      <td></td>      <th>point_estimate</th>  <th>stderr</th>   <th>zstat</th> <th>pvalue</th> <th>ci_lower</th>  <th>ci_upper</th>\n",
              "</tr>\n",
              "<tr>\n",
              "  <th>intercept</th>    <td>-1371.966</td>   <td>2422.036</td> <td>-0.566</td>  <td>0.571</td> <td>-5355.861</td> <td>2611.928</td>\n",
              "</tr>\n",
              "</table>"
            ],
            "text/plain": [
              "<class 'econml.utilities.Summary'>\n",
              "\"\"\"\n",
              "                           Coefficient Results                            \n",
              "==========================================================================\n",
              "                point_estimate  stderr  zstat  pvalue  ci_lower   ci_upper\n",
              "--------------------------------------------------------------------------\n",
              "area_kanto           -2818.249 1272.763 -2.214  0.027  -4911.758   -724.74\n",
              "area_keihan            942.788  743.436  1.268  0.205   -280.055   2165.63\n",
              "area_tokai           -2378.968  1170.37 -2.033  0.042  -4304.056   -453.88\n",
              "area_keihanshin       1424.718  896.996  1.588  0.112     -50.71  2900.145\n",
              "age                    -39.342   35.353 -1.113  0.266    -97.493    18.808\n",
              "sex                    588.236  761.861  0.772   0.44   -664.915  1841.386\n",
              "marry_dummy           1739.513   765.68  2.272  0.023    480.083  2998.944\n",
              "job_dummy1            -924.113  738.475 -1.251  0.211  -2138.795    290.57\n",
              "job_dummy2            4080.763 1625.715   2.51  0.012     1406.7  6754.826\n",
              "job_dummy3            4415.921 1381.551  3.196  0.001   2143.472   6688.37\n",
              "job_dummy4           -6648.941 3260.716 -2.039  0.041 -12012.341 -1285.541\n",
              "job_dummy5           -2064.243 1128.824 -1.829  0.067  -3920.992  -207.493\n",
              "job_dummy6            1762.895 1227.667  1.436  0.151   -256.437  3782.228\n",
              "job_dummy7            -5124.24 1878.168 -2.728  0.006  -8213.551 -2034.929\n",
              "job_dummy8            1537.415  2051.67  0.749  0.454  -1837.281  4912.111\n",
              "inc                      3.272    1.376  2.378  0.017      1.008     5.536\n",
              "pmoney                -106.476  107.442 -0.991  0.322   -283.201     70.25\n",
              "fam_str_dummy1        -885.122 1035.672 -0.855  0.393  -2588.651   818.407\n",
              "fam_str_dummy2          2320.0 1031.664  2.249  0.025    623.063  4016.937\n",
              "fam_str_dummy3       -2090.861  753.836 -2.774  0.006  -3330.812  -850.911\n",
              "fam_str_dummy4        1688.382 1434.994  1.177  0.239   -671.973  4048.737\n",
              "fam_str_dummy5       12694.603 2904.436  4.371    0.0   7917.231 17471.974\n",
              "child_dummy           -672.233  740.381 -0.908  0.364  -1890.051   545.586\n",
              "T                     1871.115 3199.411  0.585  0.559  -3391.449  7133.678\n",
              "F1                    -299.176 1092.287 -0.274  0.784  -2095.827  1497.476\n",
              "F2                    -1265.93  964.158 -1.313  0.189  -2851.828   319.968\n",
              "F3                     1091.88 1659.047  0.658   0.51   -1637.01   3820.77\n",
              "M1                   -3957.018 1050.787 -3.766    0.0  -5685.409 -2228.627\n",
              "M2                    3664.423  778.088   4.71    0.0   2384.581  4944.265\n",
              "M3                   -1419.935  994.442 -1.428  0.153  -3055.647   215.777\n",
              "TVwatch_day               0.16    0.048  3.347  0.001      0.081     0.238\n",
              "                        Intercept Results                         \n",
              "==================================================================\n",
              "          point_estimate  stderr  zstat  pvalue  ci_lower ci_upper\n",
              "------------------------------------------------------------------\n",
              "intercept      -1371.966 2422.036 -0.566  0.571 -5355.861 2611.928\n",
              "------------------------------------------------------------------\n",
              "\"\"\""
            ]
          },
          "metadata": {
            "tags": []
          },
          "execution_count": 20
        }
      ]
    },
    {
      "cell_type": "markdown",
      "metadata": {
        "id": "Z4e56gJyJX5K",
        "colab_type": "text"
      },
      "source": [
        "##### MSE算出\n",
        "(負数のゲーム時間を予測する可能性もあり、MSEは大きい)"
      ]
    },
    {
      "cell_type": "code",
      "metadata": {
        "id": "lsElpaYt3_Gu",
        "colab_type": "code",
        "outputId": "c1612389-1700-4448-ee9e-0ecde172e642",
        "colab": {
          "base_uri": "https://localhost:8080/",
          "height": 53
        }
      },
      "source": [
        "# 訓練精度\n",
        "MSE_DLLeaner_train = Sparse_DRLearner_model.score(Y=train_data[OUTCOME_COLUMN].values,\n",
        "                                          T=train_data[TREATMENT_COLUMN].values,\n",
        "                                          X=train_data[COVARIATE_COLUMNS].values)\n",
        "\n",
        "# 検証精度\n",
        "MSE_DLLeaner_test = Sparse_DRLearner_model.score(Y=test_data[OUTCOME_COLUMN].values,\n",
        "                                          T=test_data[TREATMENT_COLUMN].values,\n",
        "                                          X=test_data[COVARIATE_COLUMNS].values)\n",
        "\n",
        "print(\"SparseDRLeanerの訓練データに対するMSE:{mse_train}\".format(mse_train=MSE_DLLeaner_train))\n",
        "print(\"SparseDRLeanerの検証データに対するMSE:{mse_test}\".format(mse_test=MSE_DLLeaner_test))"
      ],
      "execution_count": 21,
      "outputs": [
        {
          "output_type": "stream",
          "text": [
            "SparseDRLeanerの訓練データに対するMSE:760694097.933948\n",
            "SparseDRLeanerの検証データに対するMSE:484234958.90027654\n"
          ],
          "name": "stdout"
        }
      ]
    },
    {
      "cell_type": "markdown",
      "metadata": {
        "id": "91KLwwrsJO6w",
        "colab_type": "text"
      },
      "source": [
        "#### 傾向スコアモデルの精度算出"
      ]
    },
    {
      "cell_type": "code",
      "metadata": {
        "id": "0JTR2pfkEOt3",
        "colab_type": "code",
        "colab": {}
      },
      "source": [
        "def calc_model_score(model, train_X_values, train_y_values, val_X_values, val_y_values):\n",
        "    \"\"\"\n",
        "    modelに用意されたscore関数を使い、訓練精度と検証精度を算出\n",
        "    \"\"\"\n",
        "    train_score = model.score(X=train_X_values, y=train_y_values)\n",
        "    val_score = model.score(X=val_X_values, y=val_y_values)\n",
        "    return train_score, val_score"
      ],
      "execution_count": 0,
      "outputs": []
    },
    {
      "cell_type": "code",
      "metadata": {
        "id": "cCt8Tt0uJS-r",
        "colab_type": "code",
        "outputId": "51edc3e5-9eb9-4c97-cb34-9c81e554090a",
        "colab": {
          "base_uri": "https://localhost:8080/",
          "height": 53
        }
      },
      "source": [
        "train_score, val_score = calc_model_score(Sparse_DRLearner_model.models_propensity[0], \n",
        "                                          train_data[COVARIATE_COLUMNS].values, train_data[TREATMENT_COLUMN].values,\n",
        "                                          test_data[COVARIATE_COLUMNS].values, test_data[TREATMENT_COLUMN].values)\n",
        "print(\"X-Leaner内の傾向スコアモデルの訓練精度:{train_score}\".format(train_score=train_score))\n",
        "print(\"X-Leaner内の傾向スコアモデルの検証精度:{val_score}\".format(val_score=val_score))"
      ],
      "execution_count": 23,
      "outputs": [
        {
          "output_type": "stream",
          "text": [
            "X-Leaner内の傾向スコアモデルの訓練精度:0.921625\n",
            "X-Leaner内の傾向スコアモデルの検証精度:0.892\n"
          ],
          "name": "stdout"
        }
      ]
    },
    {
      "cell_type": "code",
      "metadata": {
        "id": "12IIzzEswsNT",
        "colab_type": "code",
        "colab": {
          "base_uri": "https://localhost:8080/",
          "height": 1000
        },
        "outputId": "ab7f57bf-03e9-4a7d-f956-9501439b73c1"
      },
      "source": [
        "Sparse_DRLearner_model.effect(train_data[COVARIATE_COLUMNS].values)[:1000]"
      ],
      "execution_count": 120,
      "outputs": [
        {
          "output_type": "execute_result",
          "data": {
            "text/plain": [
              "array([ -4284.79360075,    -36.88456307,  -2643.5139059 ,   -458.64546542,\n",
              "         6567.63862509,   6937.20196594,   -648.87374474,   1064.98373482,\n",
              "        -5472.31267152,  -2630.01256752,   -764.29876211,  -8561.81684555,\n",
              "         3531.46079217,  16208.16615388,  -2336.87249353,  -5276.65227621,\n",
              "        -3727.47005731,   6956.88774643,  -5729.27552076,  -5874.609222  ,\n",
              "        -8098.98867684,  -4288.84449675,  -2130.15236955,  -2699.8995578 ,\n",
              "         2668.99764954,   2191.00434704,  -1961.36599849,    737.64175174,\n",
              "         6145.60909177,    769.7737378 ,  -3190.98866941,   6485.34369344,\n",
              "        -7260.35799377,   1299.24945989,   5257.84998251,  -1093.97918319,\n",
              "         1819.22488941,   -710.85672927,   4351.70917956,   3817.1156493 ,\n",
              "         2796.08692256,  -6420.4116234 ,   2135.48730794,   -468.99684462,\n",
              "         1572.335752  ,    261.68695252,  -4456.48197521,   9472.22646967,\n",
              "         1060.02257749,  -1104.52455042, -10872.31847184,    602.3022974 ,\n",
              "         6105.78937104,  -8176.74477066,   2695.76168099, -15996.6602534 ,\n",
              "         2747.74454294,   2925.72734977,   9310.23721966,  -9280.83189941,\n",
              "        -1904.64975582,   3557.74718148,   3840.18091286,  -1801.91418071,\n",
              "        -5507.53230022,   3622.5324435 ,  -7055.58113462,   3870.26835098,\n",
              "         3319.90822   ,  -5545.94389463,  -2888.78977999,    303.84368115,\n",
              "        -2942.98307344,  -1800.69836738,   1591.83318536,   6559.31982841,\n",
              "         -545.47950144,   2766.64666404,   -425.04727377,   3036.17209478,\n",
              "         3935.04503984,  -2832.82234877,  -8895.64938031,   2916.80483564,\n",
              "        -2629.87040808,   8417.94808111,   2508.7984685 ,   7140.800094  ,\n",
              "        -5117.26580269,   7104.32098354,   3161.78293734,   4351.11020981,\n",
              "         5644.21545454,  -3097.00770947,    730.45955282,   6567.54518072,\n",
              "        -5669.62681164, -10178.86568225,   1387.54474164,   1550.25786761,\n",
              "          566.01063833,  -4386.71111844,  -4485.83177703,   3112.09941424,\n",
              "         3053.99020014,   3203.51465312,  -5908.3268579 ,   7180.84793581,\n",
              "         -112.80408321,   -425.1580185 ,  -2961.68108832,   2236.50454725,\n",
              "          118.51088407,  -2507.52766132,   2682.07525966,  -2665.76450409,\n",
              "       -10171.13628834,  -1324.90535196,   2678.54753991,  -5168.24523135,\n",
              "          810.27969897,   3825.93180511,  -1956.2386364 ,   6889.77185532,\n",
              "         2499.63827789,  -6173.7222077 ,  -5587.05747286, -10818.30756511,\n",
              "         -327.51516574,   7180.81720043,   4939.04631699,  -3681.876532  ,\n",
              "        -4930.96453323,  -5428.96811504,   6770.0191696 ,   -152.84803395,\n",
              "         2678.98941741,  -2727.81397918,   -651.18055937,  -5196.20869604,\n",
              "         1885.12672336,  -2972.05182772,   3087.53332138,  -2874.30942708,\n",
              "         6152.6921085 ,   -545.70356325,   2788.28508208,    303.48146569,\n",
              "         1344.18416782,  13801.32520016,     45.28757697,   -619.46797984,\n",
              "         9892.29804339,    579.10047012,   2601.57149609,   5413.162949  ,\n",
              "         3211.29923882,  -6083.86631198,  -8948.38951794,   1214.32333675,\n",
              "         5787.52159733,   7671.95319355,  -1832.3358529 ,  -3338.95683027,\n",
              "        -1912.10925433,   7821.60162576,  -2437.94772834,     75.64679968,\n",
              "        -8623.35026131,  -8236.30616612,   7622.89523411,  -2643.71376379,\n",
              "        -9304.256965  ,   2709.05540358,  -8206.62858   ,  -3148.36426874,\n",
              "        -5051.38974925,   4471.21982108,  -2222.83141492,    546.37134681,\n",
              "         2271.23184728,   -588.23724372, -10378.36280223,   2387.01461603,\n",
              "         4881.62789107,   3531.64544323,   2529.38547575,    -76.1750361 ,\n",
              "         1963.04656434,   -423.10505003,  -6415.18478144,    341.22117516,\n",
              "        -6487.14834689,   -499.26160189,  -2697.95777349,  -2629.8717309 ,\n",
              "        -1498.16097729,  -5807.59405476,  -2364.25475061,   2882.355162  ,\n",
              "         2725.48047671,   8458.73310603,   3211.63022684,   1919.31458659,\n",
              "       -11903.99554869,  -1740.0639455 ,  -2265.5201278 ,  -5007.23252614,\n",
              "         2564.8914177 ,   -324.50309827,   2796.18502382,  -5767.79416235,\n",
              "         2035.50813498,  -2847.46750216,   2437.86062203,    -33.00177426,\n",
              "        -3944.0427128 ,   1118.56245975,     61.92007904,   1810.12617595,\n",
              "         7821.78542813,   1897.10915321,  -1621.94828756,   6638.71050427,\n",
              "         6575.42850445,  -5136.37089948,  -2013.22751177,   5730.38508013,\n",
              "         2041.58083937,  -5669.53426904,   1520.08317387,   1848.89037344,\n",
              "         8283.36563269,   1900.61731912,   -923.18585656,   -650.99043847,\n",
              "         8841.24579693,  -4502.43386345,   5836.35998705,  -2541.95851406,\n",
              "         1367.74843641,  -2441.28723028,   2679.83464355,    770.02164674,\n",
              "         2225.34080839, -10278.25912854,  -2071.27687169,   1387.49653106,\n",
              "        -8437.86266509,  -7713.40645661,  18002.02003008,  -4347.79666685,\n",
              "        -2358.68824397,   2189.45993595,  -2479.97394909,  -2248.27841521,\n",
              "          624.55691413,  -8235.63278819,    692.74788642,   1254.78331427,\n",
              "        -2130.22513156,   4326.76124502,  -8397.73725416,   1382.30995717,\n",
              "         2529.48996914,   3105.01388938,   1170.69983146,   3443.76363937,\n",
              "         5413.38602106,  -4927.60449708,    310.14834069,  -1662.38506564,\n",
              "        -2395.1807239 ,  -4837.8403057 ,    946.7017936 ,  -7926.44116104,\n",
              "        -2314.40391412,   -692.97593026,  -7926.79759937,   2309.76820464,\n",
              "        -2709.72185302,  -3479.35113694,   -424.99886778,  -2013.99848031,\n",
              "        -3339.05189431,   6167.75671984,  -2558.16861464,  -5068.76642608,\n",
              "        -5413.50469467,   6956.95233902,  -6349.78616932,   5550.16843999,\n",
              "         2429.64234953,  -3681.96273897,  -4859.53071797,  -4657.06222713,\n",
              "        -6448.29630319,   4377.29755596,   2521.9003606 ,  -4783.77732127,\n",
              "         5262.10059021,   3919.19571925,  -5729.41817626,  -5138.38012691,\n",
              "         6152.76287194,  -5767.014361  ,  -1515.83546658,   4109.88632759,\n",
              "         2608.37732689,   5665.88320976,  -5007.20447275,  -3177.01965635,\n",
              "        -2113.30945194,  -1385.05355765,   8700.93308543,  -1564.40346713,\n",
              "        -1510.29764353,  -4519.97454352,  -2629.90953841,   2035.49780068,\n",
              "         2817.71774375,  -2317.39957502,   2080.81918949,  -4710.18032555,\n",
              "         5836.56153619,   1134.07964375,  11576.31460739,  -5669.49678042,\n",
              "        -6547.68787073,   2430.07583203,  -7015.98323999,  -6083.68210461,\n",
              "          737.58899075,   -761.41760417,   -850.05153158,   5787.79568767,\n",
              "        -3435.61329906,   6145.85247689,  -5119.54404469,  -1752.67119486,\n",
              "        -7653.69602564,  -7653.7168047 , -14855.26751935,   7821.85325516,\n",
              "         2543.84838142,  -6343.94371443,  -2386.10140603,   8841.08207347,\n",
              "         2341.23205736,  10910.80344582,  -2918.49143594,   2510.63894015,\n",
              "         6820.22309379,  -2719.63550164,  -1831.36516214,  -1136.08695632,\n",
              "        -5413.33577053,   4863.27570254,   1592.05017169,  -2529.71250364,\n",
              "         2709.60579555,  -2262.27101612,   1271.47862752,   2882.02878383,\n",
              "         3832.13295238,   2432.97485028,   2992.83936808,  13801.18545813,\n",
              "        -2042.14204375,  -1725.27705862,  -3056.70573673,  -4418.60866258,\n",
              "        12507.64948861,  -1552.38229981,  -5891.70851624,   3561.21728091,\n",
              "         6126.96172026,  -1027.34083375,   -619.68521412,  -4837.86302874,\n",
              "         -246.04332404,   3053.94517471, -11421.60714025,  -2918.55989185,\n",
              "         6746.05731856,  -2629.70734792,  -4512.83348183,   1214.24156008,\n",
              "        -7904.19169407,  -1409.43202617,  -6635.1630748 ,   1517.02943912,\n",
              "        -4916.78935614,  -5522.28360428,  -8895.75582258,  -5221.39912962,\n",
              "        -4074.42411627,   1731.37106697,   4949.25797592,  -8623.16651303,\n",
              "         2393.22686819,  -1662.54789845, -15346.93306094,   2702.62620491,\n",
              "        -6811.66415514,  -8404.53443788,    341.30067816,  -2084.0425892 ,\n",
              "        -4139.44379894,   2386.93076887,   6745.72954278,  -5251.31488739,\n",
              "          118.12086917,   3817.63240054,  -1531.6311753 ,   2454.87335742,\n",
              "          546.39642154,  -3136.17873261,   2820.00403261,  -3380.0433963 ,\n",
              "         3265.37088385,  -8881.90915373,   1837.84340386,   2471.11443843,\n",
              "        -4916.68214632, -12744.32959076,   2135.70770046,   5413.21953105,\n",
              "        -2458.52993628,  16816.49175056,   2941.49031951,  -6302.01821005,\n",
              "        -6104.36261125,   1136.45822514,   4538.57985187,   6638.99408239,\n",
              "        -6415.13077858,  -3587.33098311,  -5138.27146675,   1116.29426877,\n",
              "         1852.03220266,   2679.95174446,  -2880.11978738,   -639.86366977,\n",
              "        -6621.90085261,   1759.70572889,   7725.1208188 , -10342.70341272,\n",
              "         5730.76812585,   2281.5814772 ,  -6621.41355641,   1701.58295369,\n",
              "        -3979.13477673,  -2420.816772  ,  -1194.35798312,   3737.08294327,\n",
              "        -1832.28266186,  -3380.05326079,   1676.44943278,   2190.94062282,\n",
              "        -6330.01808034,   2812.68517768,  -6628.37652919,   2029.17199581,\n",
              "        -6003.30165956,  -6173.76817384,   3515.3189066 ,   5076.66893636,\n",
              "         6201.76628342,  -6634.18391852,  -1384.99622746,  -1716.06689503,\n",
              "         8084.07432923,  -2629.80313098,   -651.05374021,  -6751.51103268,\n",
              "        -7315.68432443,  -5440.87232129,  -6596.35030852,  -1192.58997151,\n",
              "        -7346.07479053,  -5891.49317552,   4296.00408709,   3557.58134026,\n",
              "       -11547.92850499,   4544.83403921, -11205.04599519,  -2430.1522622 ,\n",
              "        -6547.66136276,  -3097.5876719 ,   9579.47508416,  -6175.48843938,\n",
              "         2669.05150928,   2679.58880286,  -4927.79241581,   2539.54681914,\n",
              "         1149.23457826,   4559.66064208,  -7049.80453978,   2992.77293822,\n",
              "        -2848.45137117, -12067.21080915,   7617.656772  ,   1387.59324511,\n",
              "        -2955.19684752,   9441.79141587,   2595.24300618,   2996.69997486,\n",
              "         2020.43360468,  -1694.92191358,  -3352.65711962,   -654.00498442,\n",
              "        -3565.36246942,   -927.4202211 ,   9767.65260452,  -1949.46361803,\n",
              "        -2175.04875048,  11576.08522454,  -3682.04199634,   2431.86436055,\n",
              "         -159.95478165,  -5104.54304805,  -1009.51089915,   6638.36111088,\n",
              "         5489.60001607,   2724.49983134,  -2113.60038774,   3479.60968936,\n",
              "        -5841.51471447,   3453.92775441,  -5002.79415064,   4597.05794475,\n",
              "        -4317.19872921,   3249.48753706,  -2081.70394562,   7203.27863996,\n",
              "         9441.58550773,  -6299.84771955,  10816.75576515,   -885.20904144,\n",
              "        -5165.32480625,   -474.41645516,  -4526.21679771,  -1934.36286756,\n",
              "         5730.67461279,   1736.69792709,  -2358.46660591,  -1584.13924758,\n",
              "         9310.07110703,  -7530.13157083,  -1291.23363206,  -2529.84132143,\n",
              "         2743.25664955,   6587.69688472,   1214.3446489 ,  11576.4720255 ,\n",
              "        -3352.81456806,   5413.21642719,   2087.5171042 ,  -2257.12789065,\n",
              "          158.67586033,   2190.66812382,   -889.88089568,   6625.54308682,\n",
              "         4553.22388275,  -5840.73516819,  -4288.25112232,  -7472.37647646,\n",
              "         2403.82578496,    730.55288313,  -6930.3318305 ,  -1922.23424921,\n",
              "        -5852.62999236,   2316.08945517, -10277.69027532,  -1194.54302806,\n",
              "         6438.98474273,   2225.48787854,  -1829.03140018,  -3424.69288312,\n",
              "         2068.80645476,  -2621.37285519,   3015.09713477,   1992.48925401,\n",
              "          780.09807188,  -1905.70343923,   2020.82568815,  -6507.44146832,\n",
              "        -6131.65354262,   4471.40567594,  -2630.04435452,   3493.2331807 ,\n",
              "         -639.75603574,     51.95528231,  14877.39383537,   3459.87824692,\n",
              "        -4206.00441416,   2237.7924916 ,   4195.58412532,  -5313.54776708,\n",
              "       -13588.6703757 ,   3273.10011037,  -4908.52689305,   5305.86189683,\n",
              "         3579.85932945,  -3379.96796306,  -5196.28714585,   2925.65056764,\n",
              "        -8343.53556603,   2882.07811684,   3817.42951688,   3142.77438651,\n",
              "         6328.1090677 ,   5076.57018396,   1708.69389793,  -5907.75697339,\n",
              "          555.94215088,   1448.65341565,  -6096.0107859 ,  -9705.29776651,\n",
              "         3720.2678356 ,   2968.94597245,  -2709.80676944,  -2430.487335  ,\n",
              "         5262.55574564,  -3096.62206154,   -804.97003855,  -2262.2651972 ,\n",
              "         4661.20772337,   6439.28144155,   7617.76544226,  -4657.12989461,\n",
              "           62.40026153,    737.51238571,  -5168.56994617,  -7926.43534482,\n",
              "         1808.64269553,  -2012.32307741,   6638.84443621,   2421.25413238,\n",
              "        -5698.55469608,    303.64818631,   7692.25510343,   1032.40461647,\n",
              "        -2507.16699292,  -2257.08426411,  -5767.58819703,  -1497.69048065,\n",
              "         5413.27284571,  -4489.17920149,  -1924.12370296,  -1934.18035675,\n",
              "         1520.13004918,  -4454.76994379,   -779.76598522,  -1854.98744738,\n",
              "         3087.53246386,   4384.67594281,   2421.24807368,    708.79923021,\n",
              "         2091.5923416 ,   4559.57006776,  -2541.98190044,   2429.66329057,\n",
              "        -5295.64159578,    769.89494399,  -1140.51212966,  -4951.42823991,\n",
              "         2834.10007002,   3166.35131373,  -3210.90545312,  11576.26657648,\n",
              "         3935.34280623,   2956.82887459,   5480.69624959,   2429.91828039,\n",
              "         2594.83762528,   7260.42520896,  -4456.48435068,  -4857.83779276,\n",
              "         1214.11068187,  -3137.49666355,   1837.79285216,  -3608.1438568 ,\n",
              "         2678.88262748,    834.31378847,  -1695.24519528,    693.91687959,\n",
              "         6632.27128942,   3925.19468855,  -4960.47124269,  -4318.22221151,\n",
              "        -3982.28741213,   6126.8710986 ,  -4206.2057609 ,   2035.47521032,\n",
              "         1195.42489694,   2293.20800288,    946.80760289,   2021.01626663,\n",
              "        -6380.28812277,   3249.29452772,  -6071.24397877,    256.04478098,\n",
              "         5990.58986951,  -6939.35013965,  -6003.29715393,   4345.81973225,\n",
              "         -648.60755241,  -5807.2127088 ,   2315.77727056,  -1716.3892339 ,\n",
              "         3273.13438201,   6587.80928645,   2358.76429291,  -5807.68563732,\n",
              "         1677.20767478,  -5196.43232352,   2851.18193734,   1367.79263792,\n",
              "         2660.03911167,   2510.65436632, -11643.960848  ,   2591.25863384,\n",
              "          505.80911069,   1517.09416505,  -1500.6663827 ,   3191.10523315,\n",
              "        10017.4068907 , -17340.22997261,   2691.23216724,   1399.20020778,\n",
              "          737.14490254,  -1855.09877328,  10910.65204183,    522.31838348,\n",
              "        -5051.68652461,   2677.42020673,   2615.78572061,   4485.97490434,\n",
              "       -11422.87737698,  -2803.40151812,   5567.53350625,   2310.30819677,\n",
              "        -2450.51535871,  -2496.70452223,    398.71904813,   2705.99680005,\n",
              "         2109.06884351,   1380.43643266, -10277.95306346,  -6033.41815968,\n",
              "         2985.38349387,   7344.79441781,  -1542.59532805,   3622.72090458,\n",
              "         9892.55633057,   3175.8766184 ,   9208.20249412,    565.98802032,\n",
              "         5511.85287525,  11012.92877375,  -5339.13374313,  -1659.0155524 ,\n",
              "         2503.19477946,  -2722.9573034 ,    943.29155239,   2921.46305274,\n",
              "        -1399.9697053 ,   5464.96527514,   5262.13254888,  -2847.24373822,\n",
              "        -4711.14701102,  -1906.11276538,  -4456.33083022,     73.7824744 ,\n",
              "         3644.91969849,  -4663.94549882,  -4776.97246927,   1708.6728863 ,\n",
              "         1748.86946378,   4713.875747  ,   -752.8846687 ,   1363.97435661,\n",
              "        -4502.4070903 ,   -545.73089617,   -781.6920713 ,   2480.5464941 ,\n",
              "         8700.72694647,   2311.12182276,  -5168.46282375,   4718.43407556,\n",
              "        -3801.94438907,   5305.58229822,  -5807.62792489,  16208.01535333,\n",
              "         2817.42403565,  -1924.17590282,   4043.26820439,   2421.47881417,\n",
              "         4289.06913859,   -923.27801777,  -6238.15273723,   -312.22703325,\n",
              "         -502.79377365,   6813.90240073,   3246.15265093,    475.88807296,\n",
              "         3918.11464107,   1271.17507113,   -304.05711093,  -7653.76529531,\n",
              "        15279.85872507,   1550.29410211,   -149.45507775,  -1078.36448272,\n",
              "        -3965.70460803,   5489.7885419 ,  -2084.25457732,  -7846.11470312,\n",
              "          261.57439228,  -1409.38689771,  -4711.04575197,   3511.07328794,\n",
              "         2817.64156194,   9357.90578512,   2796.69933326,  -1557.60694129,\n",
              "         3919.10579565,  -1131.98896093,   4891.24733664,  -5165.22423335,\n",
              "         6063.17225316,   3542.12700592,    398.70518776,   1700.45540257,\n",
              "         3906.25840771,  -2458.18083184,  -1394.73812973,   -314.48391808,\n",
              "         9310.11547528,  -1622.09883352,  -1104.5432361 ,   2564.99585253,\n",
              "         9301.8788502 ,   2817.82591978,   1098.20498246,    698.18086583,\n",
              "         3111.96560674,   1924.65753808,   8841.07521396,   -654.53913259,\n",
              "         8099.6687499 ,   1195.47367436,   4523.63835523,    318.69446459,\n",
              "          946.93420411,   8665.64690787,   5423.80410206,   1641.14976067,\n",
              "         -994.24632583,   2362.13568115,  -4347.6222923 ,   2453.55649558,\n",
              "         2941.50986974,   6606.65406335,  -8644.50104198,  -2480.33629354,\n",
              "        -5110.0535786 ,    943.30974122,  -1215.57985738,  -8904.58087693,\n",
              "         4110.30820244,    808.23931125,  -1105.88388253,   3143.16880434,\n",
              "        -4520.17721602,  -1394.54873887,  -4711.24642922,  -1564.12449584,\n",
              "         7301.00920197,   1846.97205267,   2246.94657504,   8083.90712861,\n",
              "         3906.28459268,   7260.17270123,  -2557.94382572,  -6420.46124126,\n",
              "         1863.3966316 ,   -112.77431658,   2124.21279966,   6632.53722654,\n",
              "        -8176.61561209,   1470.16224224,   -994.37379136,   2086.05087114,\n",
              "        -1949.66243445,  -8206.48872313,  -1406.5214511 ,  -8438.27057207,\n",
              "         2543.96347867,  -3404.87147005,  -5444.08760314,   1676.31854238,\n",
              "        -4960.62963863,  -2148.16272453,  -1904.69163267,   3736.91487072,\n",
              "        -5196.20388332,  -2972.2045739 ,   6567.5155636 ,  -2507.14910041,\n",
              "         3580.10974034,  -1009.51643404,   -469.06933022,   6038.04836029,\n",
              "        -4666.17805894,   5425.64201056,  -1949.28061774,   2853.89615435,\n",
              "         3550.73829124, -10342.60800208,   6602.91554873,  11363.8157746 ,\n",
              "         2466.62399511,  -4780.66124181,  -5276.33301942,   3265.16230646,\n",
              "        -1027.18756375,   8024.4090066 ,  -4883.13223679,   -747.32016443,\n",
              "        -1091.82661147,  -3428.8656473 ,   4524.18635357, -17340.42871408,\n",
              "        -6812.10589494,   1569.96782464,  -6144.57457532,   1520.33940304,\n",
              "        -4916.7720275 ,   5730.59896168,  -4627.81577804,  -2031.81201637,\n",
              "         5660.94096452,     51.92283308, -10179.21076029,   1759.58124182,\n",
              "         8099.28612762,   4046.01107119,   6801.42010284,  -2848.33224754,\n",
              "        -2479.95284421,   7663.53558174,  -8457.94472636,   2756.91134145,\n",
              "        -7315.84821193,   2660.55242305,  -2415.0318323 ,  -2358.63230297,\n",
              "         2279.43878864,  -4454.86457607,   4559.49384874,  -8270.272006  ,\n",
              "         1909.60968985,  -5295.30593354,   2724.52422704,   -149.64659881,\n",
              "         6434.86523254,  -1223.38079516,   1528.67267739,   -250.40446092,\n",
              "        -4711.09002848,  -4784.18884471,  -2888.84323876,   -553.8416648 ,\n",
              "        -4863.03339363,   8459.23787003,  -6635.37137557,  -4059.84770529,\n",
              "       -10577.34002241,   5407.43869878,   2130.86124838,  -8397.32367641,\n",
              "         2151.24965148,   6485.18680253,   2091.62282714,  -7486.32190637,\n",
              "        -1533.06556008,   1966.24985587,   5429.31384492,   -781.78255776,\n",
              "         1749.21490128,  -1510.20845979,  -1829.08114203,  -2013.01061525,\n",
              "        -2013.10353036,  -5083.18696502, -11643.84295196,  -4922.25316601])"
            ]
          },
          "metadata": {
            "tags": []
          },
          "execution_count": 120
        }
      ]
    },
    {
      "cell_type": "markdown",
      "metadata": {
        "id": "n-hp8-LBGB3d",
        "colab_type": "text"
      },
      "source": [
        "### X-Learner"
      ]
    },
    {
      "cell_type": "code",
      "metadata": {
        "id": "AaMnKQVv2gZp",
        "colab_type": "code",
        "colab": {}
      },
      "source": [
        "hyperparameter = {\n",
        "    \"models\" : {\n",
        "        \"n_estimators\" : 700,\n",
        "        \"random_state\" : 7,\n",
        "        \"objective\" : \"reg:gamma\"\n",
        "    },\n",
        "    \"propensity_model\" : {\n",
        "        \"n_estimators\" : 700,\n",
        "        \"random_state\" : 7,\n",
        "        \"objective\" : \"binary:logistic\"\n",
        "    },\n",
        "    \"cate_models\" : {\n",
        "        \"n_estimators\" : 700,\n",
        "        \"random_state\" : 7,\n",
        "        \"objective\" : \"reg:squarederror\"\n",
        "    }\n",
        "}"
      ],
      "execution_count": 0,
      "outputs": []
    },
    {
      "cell_type": "code",
      "metadata": {
        "id": "t97fiPVae-WI",
        "colab_type": "code",
        "outputId": "c0b5ebb7-cc0b-4862-c32b-39673bef2280",
        "colab": {
          "base_uri": "https://localhost:8080/",
          "height": 35
        }
      },
      "source": [
        "XLEARNER_TRAIN_MODE = True\n",
        "\n",
        "model_name = 'xlearner'\n",
        "model_obj_dir = \"./model\"\n",
        "load_pkl_path = \"xlearner_20200518212505.pkl\"\n",
        "\n",
        "if XLEARNER_TRAIN_MODE:\n",
        "    XLearner_model = XLearner(models=xgb.XGBRegressor(**hyperparameter[\"models\"]), # （反事実も含めた）アウトカム予測用のモデル定義\n",
        "                             propensity_model=xgb.XGBClassifier(**hyperparameter[\"propensity_model\"]), # 傾向スコア予測用のモデル定義\n",
        "                             cate_models=xgb.XGBRegressor(**hyperparameter[\"cate_models\"]), # CATE予測用のモデル定義\n",
        "                             )\n",
        "\n",
        "    #inference='bootstrap'\n",
        "    inference=None\n",
        "    XLearner_model.fit(Y=train_data[OUTCOME_COLUMN].values, # アウトカム\n",
        "                      T=train_data[TREATMENT_COLUMN].values, # 介入変数\n",
        "                      X=train_data[COVARIATE_COLUMNS].values, # 交絡因子\n",
        "                      inference=inference \n",
        "                      )\n",
        "    \n",
        "    # inferenceをbootstrapに設定した場合、pklファイルに書き出さない\n",
        "    # (最大深度の問題でpklファイルから読み込めないため)\n",
        "    if inference != 'bootstrap':\n",
        "        res = export_pkl_model_obj(model_obj_dir, model_name, XLearner_model, hyperparameter)\n",
        "        print(\"{model_name}を{file_path}に出力\".format(model_name=model_name, file_path=res))\n",
        "        \n",
        "else:\n",
        "    load_obj = load_pkl(model_obj_dir, load_pkl_path)\n",
        "    XLearner_model = load_obj[\"model\"]\n",
        "    print(\"{model_name}を{file_path}から読み込み\".format(model_name=model_name, file_path=load_pkl_path))\n",
        "    print(\"ハイパーパラメータ{hyperparameter}\".format(hyperparameter=load_obj[\"hyperparameter\"]))"
      ],
      "execution_count": 84,
      "outputs": [
        {
          "output_type": "stream",
          "text": [
            "xlearnerを./model/xlearner_20200606223707.pklに出力\n"
          ],
          "name": "stdout"
        }
      ]
    },
    {
      "cell_type": "markdown",
      "metadata": {
        "id": "qzdaPmdObJqK",
        "colab_type": "text"
      },
      "source": [
        "#### 傾向スコアモデルの精度算出"
      ]
    },
    {
      "cell_type": "code",
      "metadata": {
        "id": "SlxsTH4BhtFI",
        "colab_type": "code",
        "outputId": "3baa4a16-86e2-4134-99a8-ce47f27b27f9",
        "colab": {
          "base_uri": "https://localhost:8080/",
          "height": 53
        }
      },
      "source": [
        "train_score, val_score = calc_model_score(XLearner_model.propensity_models[0], \n",
        "                                          train_data[COVARIATE_COLUMNS].values, train_data[TREATMENT_COLUMN].values,\n",
        "                                          test_data[COVARIATE_COLUMNS].values, test_data[TREATMENT_COLUMN].values)\n",
        "print(\"X-Leaner内の傾向スコアモデルの訓練精度:{train_score}\".format(train_score=train_score))\n",
        "print(\"X-Leaner内の傾向スコアモデルの検証精度:{val_score}\".format(val_score=val_score))"
      ],
      "execution_count": 85,
      "outputs": [
        {
          "output_type": "stream",
          "text": [
            "X-Leaner内の傾向スコアモデルの訓練精度:0.960125\n",
            "X-Leaner内の傾向スコアモデルの検証精度:0.929\n"
          ],
          "name": "stdout"
        }
      ]
    },
    {
      "cell_type": "markdown",
      "metadata": {
        "id": "4abTtj5FGJNP",
        "colab_type": "text"
      },
      "source": [
        "### DA-Learner (Domain Adaptation Learner)"
      ]
    },
    {
      "cell_type": "code",
      "metadata": {
        "id": "T4oTIe1Wb4kD",
        "colab_type": "code",
        "colab": {}
      },
      "source": [
        "hyperparameter = {\n",
        "    \"models\" : {\n",
        "        \"n_estimators\" : 700,\n",
        "        \"random_state\" : 7,\n",
        "        \"objective\" : \"reg:gamma\"\n",
        "    },\n",
        "    \"propensity_model\" : {\n",
        "        \"n_estimators\" : 700,\n",
        "        \"random_state\" : 7,\n",
        "        \"objective\" : \"binary:logistic\"\n",
        "    },\n",
        "    \"cate_models\" : {\n",
        "        \"n_estimators\" : 700,\n",
        "        \"random_state\" : 7,\n",
        "        \"objective\" : \"reg:squarederror\"\n",
        "    }\n",
        "}"
      ],
      "execution_count": 0,
      "outputs": []
    },
    {
      "cell_type": "code",
      "metadata": {
        "id": "OM_ghlyZbcTZ",
        "colab_type": "code",
        "outputId": "e435997c-1b57-445e-a69a-a0f28c5b5590",
        "colab": {
          "base_uri": "https://localhost:8080/",
          "height": 91
        }
      },
      "source": [
        "DALEARNER_TRAIN_MODE = True\n",
        "\n",
        "model_name = 'dalearner'\n",
        "model_obj_dir = \"./model\"\n",
        "load_pkl_path = \"dalearner_20200517192702.pkl\"\n",
        "\n",
        "if DALEARNER_TRAIN_MODE:\n",
        "    DALearner_model = DomainAdaptationLearner(models=xgb.XGBRegressor(**hyperparameter[\"models\"]), # （反事実も含めた）アウトカム予測用のモデル定義\n",
        "                                          #propensity_model=xgb.XGBClassifier(**hyperparameter[\"propensity_model\"]), # 傾向スコア予測用のモデル定義\n",
        "                                          final_models=xgb.XGBRegressor(**hyperparameter[\"final_models\"]), # CATE予測用のモデル定義\n",
        "                                          )\n",
        "\n",
        "    #inference='bootstrap'\n",
        "    inference=None\n",
        "    DALearner_model.fit(Y=train_data[OUTCOME_COLUMN].values,\n",
        "                    T=train_data[TREATMENT_COLUMN].values,\n",
        "                    X=train_data[COVARIATE_COLUMNS].values,\n",
        "                    inference=inference\n",
        "                    )\n",
        "    \n",
        "    # inferenceをbootstrapに設定した場合、pklファイルに書き出さない\n",
        "    # (最大深度の問題でpklファイルから読み込めないため)\n",
        "    if inference != 'bootstrap':\n",
        "        res = export_pkl_model_obj(model_obj_dir, model_name, DALearner_model, hyperparameter)\n",
        "        print(\"{model_name}を{file_path}に出力\".format(model_name=model_name, file_path=res))\n",
        "        \n",
        "else:\n",
        "    load_obj = load_pkl(model_obj_dir, load_pkl_path)\n",
        "    DALearner_model = load_obj[\"model\"]\n",
        "    print(\"{model_name}を{file_path}から読み込み\".format(model_name=model_name, file_path=load_pkl_path))\n",
        "    print(\"ハイパーパラメータ{hyperparameter}\".format(hyperparameter=load_obj[\"hyperparameter\"]))"
      ],
      "execution_count": 96,
      "outputs": [
        {
          "output_type": "stream",
          "text": [
            "/usr/local/lib/python3.6/dist-packages/sklearn/linear_model/logistic.py:432: FutureWarning: Default solver will be changed to 'lbfgs' in 0.22. Specify a solver to silence this warning.\n",
            "  FutureWarning)\n"
          ],
          "name": "stderr"
        },
        {
          "output_type": "stream",
          "text": [
            "dalearnerを./model/dalearner_20200606224259.pklに出力\n"
          ],
          "name": "stdout"
        }
      ]
    },
    {
      "cell_type": "markdown",
      "metadata": {
        "id": "S1SgUZcswc4o",
        "colab_type": "text"
      },
      "source": [
        "#### 傾向スコアモデルの精度算出\n",
        "傾向スコアモデルの作り方はXLeanerと変わらないので、精度も同じ"
      ]
    },
    {
      "cell_type": "code",
      "metadata": {
        "id": "H-kekI9Hv5kR",
        "colab_type": "code",
        "outputId": "1791f9fe-62e6-4ff6-f5ee-88a9eebd768b",
        "colab": {
          "base_uri": "https://localhost:8080/",
          "height": 53
        }
      },
      "source": [
        "train_score, val_score = calc_model_score(DALearner_model.propensity_models[0], \n",
        "                                          train_data[COVARIATE_COLUMNS].values, train_data[TREATMENT_COLUMN].values,\n",
        "                                          test_data[COVARIATE_COLUMNS].values, test_data[TREATMENT_COLUMN].values)\n",
        "print(\"DA-Leaner内の傾向スコアモデルの訓練精度:{train_score}\".format(train_score=train_score))\n",
        "print(\"DA-Leaner内の傾向スコアモデルの検証精度:{val_score}\".format(val_score=val_score))"
      ],
      "execution_count": 97,
      "outputs": [
        {
          "output_type": "stream",
          "text": [
            "DA-Leaner内の傾向スコアモデルの訓練精度:0.7245\n",
            "DA-Leaner内の傾向スコアモデルの検証精度:0.7075\n"
          ],
          "name": "stdout"
        }
      ]
    },
    {
      "cell_type": "markdown",
      "metadata": {
        "id": "5YLJTlzd6lgj",
        "colab_type": "text"
      },
      "source": [
        "## 平均因果効果を求める"
      ]
    },
    {
      "cell_type": "markdown",
      "metadata": {
        "id": "HF_hvqOD6p5e",
        "colab_type": "text"
      },
      "source": [
        "### (TODO)介入前後でゲーム時間が負数となるユーザの因果効果は0とおく"
      ]
    },
    {
      "cell_type": "code",
      "metadata": {
        "id": "3_Y5Mrou4AhT",
        "colab_type": "code",
        "colab": {}
      },
      "source": [
        ""
      ],
      "execution_count": 0,
      "outputs": []
    }
  ]
}