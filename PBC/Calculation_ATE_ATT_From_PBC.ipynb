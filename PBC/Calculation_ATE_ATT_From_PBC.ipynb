{
  "nbformat": 4,
  "nbformat_minor": 0,
  "metadata": {
    "colab": {
      "name": "Calculation_ATE_ATT_From_PBC.ipynb",
      "provenance": [],
      "collapsed_sections": [],
      "toc_visible": true,
      "include_colab_link": true
    },
    "kernelspec": {
      "name": "python3",
      "display_name": "Python 3"
    },
    "accelerator": "GPU"
  },
  "cells": [
    {
      "cell_type": "markdown",
      "metadata": {
        "id": "view-in-github",
        "colab_type": "text"
      },
      "source": [
        "<a href=\"https://colab.research.google.com/github/Itsuki-Hamano123/practice-casualeffect/blob/master/PBC/Calculation_ATE_ATT_From_PBC.ipynb\" target=\"_parent\"><img src=\"https://colab.research.google.com/assets/colab-badge.svg\" alt=\"Open In Colab\"/></a>"
      ]
    },
    {
      "cell_type": "code",
      "metadata": {
        "id": "dWO0X6iAAG0k",
        "colab_type": "code",
        "outputId": "4fe76792-c3d2-4fb9-ed8c-621d83579495",
        "colab": {
          "base_uri": "https://localhost:8080/",
          "height": 127
        }
      },
      "source": [
        "# GoogleCoraboratoryで実験する場合にMyDriveをマウント\n",
        "from google.colab import drive\n",
        "drive.mount('/content/drive')"
      ],
      "execution_count": 1,
      "outputs": [
        {
          "output_type": "stream",
          "text": [
            "Go to this URL in a browser: https://accounts.google.com/o/oauth2/auth?client_id=947318989803-6bn6qk8qdgf4n4g3pfee6491hc0brc4i.apps.googleusercontent.com&redirect_uri=urn%3aietf%3awg%3aoauth%3a2.0%3aoob&response_type=code&scope=email%20https%3a%2f%2fwww.googleapis.com%2fauth%2fdocs.test%20https%3a%2f%2fwww.googleapis.com%2fauth%2fdrive%20https%3a%2f%2fwww.googleapis.com%2fauth%2fdrive.photos.readonly%20https%3a%2f%2fwww.googleapis.com%2fauth%2fpeopleapi.readonly\n",
            "\n",
            "Enter your authorization code:\n",
            "··········\n",
            "Mounted at /content/drive\n"
          ],
          "name": "stdout"
        }
      ]
    },
    {
      "cell_type": "code",
      "metadata": {
        "id": "J3meQYgMBnPx",
        "colab_type": "code",
        "outputId": "457103ce-f7f2-4140-a892-d47e6af89085",
        "colab": {
          "base_uri": "https://localhost:8080/",
          "height": 35
        }
      },
      "source": [
        "# 対象ディレクトリに移動\n",
        "cd /content/drive/My Drive/機械学習練習/統計的因果推論/因果推論実践用/PBC"
      ],
      "execution_count": 2,
      "outputs": [
        {
          "output_type": "stream",
          "text": [
            "/content/drive/My Drive/機械学習練習/統計的因果推論/因果推論実践用/PBC\n"
          ],
          "name": "stdout"
        }
      ]
    },
    {
      "cell_type": "code",
      "metadata": {
        "id": "bRN0CtylCS8q",
        "colab_type": "code",
        "outputId": "948ae4d4-d6cb-40b8-a0ed-0e0316e090a9",
        "colab": {
          "base_uri": "https://localhost:8080/",
          "height": 35
        }
      },
      "source": [
        "ls"
      ],
      "execution_count": 3,
      "outputs": [
        {
          "output_type": "stream",
          "text": [
            "Calculation_ATE_ATT_From_PBC.ipynb  \u001b[0m\u001b[01;34mdatasets\u001b[0m/  memo.txt\n"
          ],
          "name": "stdout"
        }
      ]
    },
    {
      "cell_type": "code",
      "metadata": {
        "id": "bS94YYgxC--0",
        "colab_type": "code",
        "colab": {}
      },
      "source": [
        "import pandas as pd\n",
        "import numpy as np"
      ],
      "execution_count": 0,
      "outputs": []
    },
    {
      "cell_type": "markdown",
      "metadata": {
        "id": "TeDOMmFYDAkC",
        "colab_type": "text"
      },
      "source": [
        "#原発性胆汁性胆管炎（Primary biliary cholangitis：PBC）に対してD-ペニシラミンを用いたA/Bテストの結果からD-ペニシラミンの（因果）効果検証を行う"
      ]
    },
    {
      "cell_type": "markdown",
      "metadata": {
        "id": "-Vpbx8FXidXM",
        "colab_type": "text"
      },
      "source": [
        "## 参考書籍\n",
        "- [効果検証入門〜正しい比較のための因果推論/計量経済学の基礎](https://www.amazon.co.jp/%E5%8A%B9%E6%9E%9C%E6%A4%9C%E8%A8%BC%E5%85%A5%E9%96%80%E3%80%9C%E6%AD%A3%E3%81%97%E3%81%84%E6%AF%94%E8%BC%83%E3%81%AE%E3%81%9F%E3%82%81%E3%81%AE%E5%9B%A0%E6%9E%9C%E6%8E%A8%E8%AB%96-%E8%A8%88%E9%87%8F%E7%B5%8C%E6%B8%88%E5%AD%A6%E3%81%AE%E5%9F%BA%E7%A4%8E-%E5%AE%89%E4%BA%95-%E7%BF%94%E5%A4%AA/dp/4297111179/ref=sr_1_1?__mk_ja_JP=%E3%82%AB%E3%82%BF%E3%82%AB%E3%83%8A&keywords=%E5%8A%B9%E6%9E%9C%E6%A4%9C%E8%A8%BC&qid=1582603763&sr=8-1)\n",
        "- [超絶解説 医学論文の難解な統計手法が手に取るようにわかる本](https://www.amazon.co.jp/%E8%B6%85%E7%B5%B6%E8%A7%A3%E8%AA%AC-%E5%8C%BB%E5%AD%A6%E8%AB%96%E6%96%87%E3%81%AE%E9%9B%A3%E8%A7%A3%E3%81%AA%E7%B5%B1%E8%A8%88%E6%89%8B%E6%B3%95%E3%81%8C%E6%89%8B%E3%81%AB%E5%8F%96%E3%82%8B%E3%82%88%E3%81%86%E3%81%AB%E3%82%8F%E3%81%8B%E3%82%8B%E6%9C%AC-%E5%BA%B7%E6%B0%B8-%E7%A7%80%E7%94%9F/dp/4307004876/ref=sr_1_1?__mk_ja_JP=%E3%82%AB%E3%82%BF%E3%82%AB%E3%83%8A&keywords=%E9%9B%A3%E8%A7%A3+%E5%8C%BB%E7%99%82&qid=1582603837&sr=8-1)"
      ]
    },
    {
      "cell_type": "markdown",
      "metadata": {
        "id": "3bvxOBekYgp4",
        "colab_type": "text"
      },
      "source": [
        "## ざっくりRubinの因果推論手法とは\n",
        "-   介入を受けた際の結果を$Y^{(1)}$、介入を受けなかった際の結果を$Y^{(0)}$と定義した時、**結果の差（$Y^{(1)}-Y^{(0)}$）から、介入の因果効果 ${\\tau}$ を求めることができる。**\n",
        "\n",
        "- **RCT（ランダム化比較実験）が成り立っている場合**のサンプルデータに対しては、**各グループの平均値の差（$E[Y^{(1)}]-E[Y^{(0)}]$）から、因果効果 $τ$ を求めることができる。**\n",
        "\n",
        "- **RCTで介入の割り当てを無作為化作為化することがで、介入以外の他の因子の効果（共変量や交絡因子）を２つのグループ間で揃えられる。**\n",
        "\n",
        "- しかし、RCT実施には膨大なコストがかかるため、なかなか実施できない。そのため、**因果推論分野では、RCTが成り立っていない実験データから、共変量、交絡因子の影響を取り除き、RCTに近い状況を作り出し、介入の効果を求める手法が提案されている。**\n"
      ]
    },
    {
      "cell_type": "markdown",
      "metadata": {
        "id": "d7CWjWXcCmP1",
        "colab_type": "text"
      },
      "source": [
        "手順\n",
        "\n",
        "1.   データの前処理\n",
        "2.   （あまり良くない方法で）A/Bテストを評価\n",
        "</br>**（↓ここから因果推論手法を使ってみる）**\n",
        "3.    （準備）傾向スコアの導出\n",
        "4.   「IPW」で**因果効果ATE**を求めA/Bテストを評価\n",
        "5.   「傾向スコアマッチング」で**因果効果ATT**を求めA/Bテストを評価<br>"
      ]
    },
    {
      "cell_type": "markdown",
      "metadata": {
        "id": "1NaKCT5H668z",
        "colab_type": "text"
      },
      "source": [
        "**Primary Biliary Cirrhosis (PBC) Data**\n",
        "*   PBC患者を対象にA/Bテストを実施したデータ\n",
        "*  原発性胆汁性胆管炎（指定難病９３）について（https://www.nanbyou.or.jp/entry/252）\n",
        "\n",
        "<br>\n",
        "\n",
        "**重要なカラム**\n",
        "*   介入変数（treatment）：drug（D-ペニシラミン）\n",
        "*   アウトカム（outcome）：status（生存したか死亡したか）\n",
        "\n",
        "\n",
        "<br>\n",
        "\n",
        "**実験データのカラム説明（https://www4.stat.ncsu.edu/~boos/var.select/pbc.html）**\n",
        "* id       = case number\n",
        "* futime   = number of days between registration and the earlier of death,transplantion, or study analysis time in July, 1986\n",
        "* status   = **（アウトカム）**0=alive, 1=liver transplant, 2=dead\n",
        "* drug     = **（介入変数）** 1= D-penicillamine, 2=placebo\n",
        "* age      = age in days\n",
        "* sex      = 0=male, 1=female\n",
        "* ascites  = presence of ascites: 0=no 1=yes\n",
        "* hepato   = presence of hepatomegaly 0=no 1=yes\n",
        "* spiders  = presence of spiders 0=no 1=yes\n",
        "* edema    = presence of edema 0=no edema and no diuretic therapy for edema; .5 = edema present without diuretics, or edema resolved by diuretics; 1 = edema despite diuretic therapy\n",
        "* bili     = serum bilirubin in mg/dl\n",
        "* chol     = serum cholesterol in mg/dl\n",
        "* albumin  = albumin in gm/dl\n",
        "* copper   = urine copper in ug/day\n",
        "* alk_phos = alkaline phosphatase in U/liter\n",
        "* sgot     = SGOT in U/ml\n",
        "* trig     = triglicerides in mg/dl\n",
        "* platelet = platelets per cubic ml/1000\n",
        "* protime  = prothrombin time in seconds\n",
        "* stage    = histologic stage of disease\n",
        "\n",
        "\n"
      ]
    },
    {
      "cell_type": "code",
      "metadata": {
        "id": "-7jGAz4dEtNw",
        "colab_type": "code",
        "outputId": "975a3152-9f49-4214-fd75-e23f33b0aa2d",
        "colab": {
          "base_uri": "https://localhost:8080/",
          "height": 35
        }
      },
      "source": [
        "DATASET_PATH = './datasets/analytical_data.csv'\n",
        "EXPERIMENT_DATA_DF = pd.read_csv(DATASET_PATH)\n",
        "TREATMENT_COLUMN = 'drug'\n",
        "OUTCOME_COLUMN = 'status'\n",
        "print(\"ExperimentDataSize:{data}\".format(data=EXPERIMENT_DATA_DF.shape))"
      ],
      "execution_count": 5,
      "outputs": [
        {
          "output_type": "stream",
          "text": [
            "ExperimentDataSize:(418, 20)\n"
          ],
          "name": "stdout"
        }
      ]
    },
    {
      "cell_type": "code",
      "metadata": {
        "id": "jC535oUgI0ju",
        "colab_type": "code",
        "outputId": "393bb030-7f59-4d96-c0bc-2d68d7f4fea3",
        "colab": {
          "base_uri": "https://localhost:8080/",
          "height": 435
        }
      },
      "source": [
        "EXPERIMENT_DATA_DF"
      ],
      "execution_count": 6,
      "outputs": [
        {
          "output_type": "execute_result",
          "data": {
            "text/html": [
              "<div>\n",
              "<style scoped>\n",
              "    .dataframe tbody tr th:only-of-type {\n",
              "        vertical-align: middle;\n",
              "    }\n",
              "\n",
              "    .dataframe tbody tr th {\n",
              "        vertical-align: top;\n",
              "    }\n",
              "\n",
              "    .dataframe thead th {\n",
              "        text-align: right;\n",
              "    }\n",
              "</style>\n",
              "<table border=\"1\" class=\"dataframe\">\n",
              "  <thead>\n",
              "    <tr style=\"text-align: right;\">\n",
              "      <th></th>\n",
              "      <th>id</th>\n",
              "      <th>futime</th>\n",
              "      <th>status</th>\n",
              "      <th>drug</th>\n",
              "      <th>age</th>\n",
              "      <th>sex</th>\n",
              "      <th>ascites</th>\n",
              "      <th>hepato</th>\n",
              "      <th>spiders</th>\n",
              "      <th>edema</th>\n",
              "      <th>bili</th>\n",
              "      <th>chol</th>\n",
              "      <th>albumin</th>\n",
              "      <th>copper</th>\n",
              "      <th>alk_phos</th>\n",
              "      <th>sgot</th>\n",
              "      <th>trig</th>\n",
              "      <th>platelet</th>\n",
              "      <th>protime</th>\n",
              "      <th>stage</th>\n",
              "    </tr>\n",
              "  </thead>\n",
              "  <tbody>\n",
              "    <tr>\n",
              "      <th>0</th>\n",
              "      <td>1</td>\n",
              "      <td>400</td>\n",
              "      <td>2</td>\n",
              "      <td>1</td>\n",
              "      <td>21464</td>\n",
              "      <td>1</td>\n",
              "      <td>1</td>\n",
              "      <td>1</td>\n",
              "      <td>1</td>\n",
              "      <td>1.0</td>\n",
              "      <td>14.5</td>\n",
              "      <td>261</td>\n",
              "      <td>2.60</td>\n",
              "      <td>156</td>\n",
              "      <td>1718</td>\n",
              "      <td>137.95</td>\n",
              "      <td>172</td>\n",
              "      <td>190</td>\n",
              "      <td>12.2</td>\n",
              "      <td>4</td>\n",
              "    </tr>\n",
              "    <tr>\n",
              "      <th>1</th>\n",
              "      <td>2</td>\n",
              "      <td>4500</td>\n",
              "      <td>0</td>\n",
              "      <td>1</td>\n",
              "      <td>20617</td>\n",
              "      <td>1</td>\n",
              "      <td>0</td>\n",
              "      <td>1</td>\n",
              "      <td>1</td>\n",
              "      <td>0.0</td>\n",
              "      <td>1.1</td>\n",
              "      <td>302</td>\n",
              "      <td>4.14</td>\n",
              "      <td>54</td>\n",
              "      <td>7394.8</td>\n",
              "      <td>113.52</td>\n",
              "      <td>88</td>\n",
              "      <td>221</td>\n",
              "      <td>10.6</td>\n",
              "      <td>3</td>\n",
              "    </tr>\n",
              "    <tr>\n",
              "      <th>2</th>\n",
              "      <td>3</td>\n",
              "      <td>1012</td>\n",
              "      <td>2</td>\n",
              "      <td>1</td>\n",
              "      <td>25594</td>\n",
              "      <td>0</td>\n",
              "      <td>0</td>\n",
              "      <td>0</td>\n",
              "      <td>0</td>\n",
              "      <td>0.5</td>\n",
              "      <td>1.4</td>\n",
              "      <td>176</td>\n",
              "      <td>3.48</td>\n",
              "      <td>210</td>\n",
              "      <td>516</td>\n",
              "      <td>96.1</td>\n",
              "      <td>55</td>\n",
              "      <td>151</td>\n",
              "      <td>12</td>\n",
              "      <td>4</td>\n",
              "    </tr>\n",
              "    <tr>\n",
              "      <th>3</th>\n",
              "      <td>4</td>\n",
              "      <td>1925</td>\n",
              "      <td>2</td>\n",
              "      <td>1</td>\n",
              "      <td>19994</td>\n",
              "      <td>1</td>\n",
              "      <td>0</td>\n",
              "      <td>1</td>\n",
              "      <td>1</td>\n",
              "      <td>0.5</td>\n",
              "      <td>1.8</td>\n",
              "      <td>244</td>\n",
              "      <td>2.54</td>\n",
              "      <td>64</td>\n",
              "      <td>6121.8</td>\n",
              "      <td>60.63</td>\n",
              "      <td>92</td>\n",
              "      <td>183</td>\n",
              "      <td>10.3</td>\n",
              "      <td>4</td>\n",
              "    </tr>\n",
              "    <tr>\n",
              "      <th>4</th>\n",
              "      <td>5</td>\n",
              "      <td>1504</td>\n",
              "      <td>1</td>\n",
              "      <td>2</td>\n",
              "      <td>13918</td>\n",
              "      <td>1</td>\n",
              "      <td>0</td>\n",
              "      <td>1</td>\n",
              "      <td>1</td>\n",
              "      <td>0.0</td>\n",
              "      <td>3.4</td>\n",
              "      <td>279</td>\n",
              "      <td>3.53</td>\n",
              "      <td>143</td>\n",
              "      <td>671</td>\n",
              "      <td>113.15</td>\n",
              "      <td>72</td>\n",
              "      <td>136</td>\n",
              "      <td>10.9</td>\n",
              "      <td>3</td>\n",
              "    </tr>\n",
              "    <tr>\n",
              "      <th>...</th>\n",
              "      <td>...</td>\n",
              "      <td>...</td>\n",
              "      <td>...</td>\n",
              "      <td>...</td>\n",
              "      <td>...</td>\n",
              "      <td>...</td>\n",
              "      <td>...</td>\n",
              "      <td>...</td>\n",
              "      <td>...</td>\n",
              "      <td>...</td>\n",
              "      <td>...</td>\n",
              "      <td>...</td>\n",
              "      <td>...</td>\n",
              "      <td>...</td>\n",
              "      <td>...</td>\n",
              "      <td>...</td>\n",
              "      <td>...</td>\n",
              "      <td>...</td>\n",
              "      <td>...</td>\n",
              "      <td>...</td>\n",
              "    </tr>\n",
              "    <tr>\n",
              "      <th>413</th>\n",
              "      <td>414</td>\n",
              "      <td>681</td>\n",
              "      <td>2</td>\n",
              "      <td>.</td>\n",
              "      <td>24472</td>\n",
              "      <td>1</td>\n",
              "      <td>.</td>\n",
              "      <td>.</td>\n",
              "      <td>.</td>\n",
              "      <td>0.0</td>\n",
              "      <td>1.2</td>\n",
              "      <td>.</td>\n",
              "      <td>2.96</td>\n",
              "      <td>.</td>\n",
              "      <td>.</td>\n",
              "      <td>.</td>\n",
              "      <td>.</td>\n",
              "      <td>174</td>\n",
              "      <td>10.9</td>\n",
              "      <td>3</td>\n",
              "    </tr>\n",
              "    <tr>\n",
              "      <th>414</th>\n",
              "      <td>415</td>\n",
              "      <td>1103</td>\n",
              "      <td>0</td>\n",
              "      <td>.</td>\n",
              "      <td>14245</td>\n",
              "      <td>1</td>\n",
              "      <td>.</td>\n",
              "      <td>.</td>\n",
              "      <td>.</td>\n",
              "      <td>0.0</td>\n",
              "      <td>0.9</td>\n",
              "      <td>.</td>\n",
              "      <td>3.83</td>\n",
              "      <td>.</td>\n",
              "      <td>.</td>\n",
              "      <td>.</td>\n",
              "      <td>.</td>\n",
              "      <td>180</td>\n",
              "      <td>11.2</td>\n",
              "      <td>4</td>\n",
              "    </tr>\n",
              "    <tr>\n",
              "      <th>415</th>\n",
              "      <td>416</td>\n",
              "      <td>1055</td>\n",
              "      <td>0</td>\n",
              "      <td>.</td>\n",
              "      <td>20819</td>\n",
              "      <td>1</td>\n",
              "      <td>.</td>\n",
              "      <td>.</td>\n",
              "      <td>.</td>\n",
              "      <td>0.0</td>\n",
              "      <td>1.6</td>\n",
              "      <td>.</td>\n",
              "      <td>3.42</td>\n",
              "      <td>.</td>\n",
              "      <td>.</td>\n",
              "      <td>.</td>\n",
              "      <td>.</td>\n",
              "      <td>143</td>\n",
              "      <td>9.9</td>\n",
              "      <td>3</td>\n",
              "    </tr>\n",
              "    <tr>\n",
              "      <th>416</th>\n",
              "      <td>417</td>\n",
              "      <td>691</td>\n",
              "      <td>0</td>\n",
              "      <td>.</td>\n",
              "      <td>21185</td>\n",
              "      <td>1</td>\n",
              "      <td>.</td>\n",
              "      <td>.</td>\n",
              "      <td>.</td>\n",
              "      <td>0.0</td>\n",
              "      <td>0.8</td>\n",
              "      <td>.</td>\n",
              "      <td>3.75</td>\n",
              "      <td>.</td>\n",
              "      <td>.</td>\n",
              "      <td>.</td>\n",
              "      <td>.</td>\n",
              "      <td>269</td>\n",
              "      <td>10.4</td>\n",
              "      <td>3</td>\n",
              "    </tr>\n",
              "    <tr>\n",
              "      <th>417</th>\n",
              "      <td>418</td>\n",
              "      <td>976</td>\n",
              "      <td>0</td>\n",
              "      <td>.</td>\n",
              "      <td>19358</td>\n",
              "      <td>1</td>\n",
              "      <td>.</td>\n",
              "      <td>.</td>\n",
              "      <td>.</td>\n",
              "      <td>0.0</td>\n",
              "      <td>0.7</td>\n",
              "      <td>.</td>\n",
              "      <td>3.29</td>\n",
              "      <td>.</td>\n",
              "      <td>.</td>\n",
              "      <td>.</td>\n",
              "      <td>.</td>\n",
              "      <td>350</td>\n",
              "      <td>10.6</td>\n",
              "      <td>4</td>\n",
              "    </tr>\n",
              "  </tbody>\n",
              "</table>\n",
              "<p>418 rows × 20 columns</p>\n",
              "</div>"
            ],
            "text/plain": [
              "      id  futime  status drug    age  ...    sgot trig platelet protime  stage\n",
              "0      1     400       2    1  21464  ...  137.95  172      190    12.2      4\n",
              "1      2    4500       0    1  20617  ...  113.52   88      221    10.6      3\n",
              "2      3    1012       2    1  25594  ...    96.1   55      151      12      4\n",
              "3      4    1925       2    1  19994  ...   60.63   92      183    10.3      4\n",
              "4      5    1504       1    2  13918  ...  113.15   72      136    10.9      3\n",
              "..   ...     ...     ...  ...    ...  ...     ...  ...      ...     ...    ...\n",
              "413  414     681       2    .  24472  ...       .    .      174    10.9      3\n",
              "414  415    1103       0    .  14245  ...       .    .      180    11.2      4\n",
              "415  416    1055       0    .  20819  ...       .    .      143     9.9      3\n",
              "416  417     691       0    .  21185  ...       .    .      269    10.4      3\n",
              "417  418     976       0    .  19358  ...       .    .      350    10.6      4\n",
              "\n",
              "[418 rows x 20 columns]"
            ]
          },
          "metadata": {
            "tags": []
          },
          "execution_count": 6
        }
      ]
    },
    {
      "cell_type": "markdown",
      "metadata": {
        "id": "T90hw1kFGlDU",
        "colab_type": "text"
      },
      "source": [
        "#①DataPreprocessing"
      ]
    },
    {
      "cell_type": "markdown",
      "metadata": {
        "id": "Y9ruKXd0G5Ws",
        "colab_type": "text"
      },
      "source": [
        "今回はATE求める練習のため前処理は簡単に以下処理のみ行う\n",
        "*   D-penicillamineが投与された場合は1、placeboの場合は0に値変更\n",
        "*   欠測値を含むユーザを除く\n",
        "*   肝移植したユーザ（status=1）をのぞく\n",
        "*   生存=0,死亡=2　⇒　生存=1,死亡=0に置き換え\n",
        "\n",
        "\n"
      ]
    },
    {
      "cell_type": "code",
      "metadata": {
        "id": "B2TsEbYyNdVc",
        "colab_type": "code",
        "colab": {}
      },
      "source": [
        "def rewrite_categorical_binary_variable_value(data, stored_column, flag_var, non_flag_var):\n",
        "    \"\"\"二値カテゴリ変数の書き換え\n",
        "\n",
        "      WARNING:二値変数以外の値を取るカラムを渡して実行してはいけない\n",
        "\n",
        "      Args:\n",
        "         flag_val{category_name, current_val}(dict): 値を1にしたいカテゴリ {カテゴリ名, 現在格納されている値}\n",
        "         non_flag_val{category_name, current_val}(dict): 値を0にしたいカテゴリ {カテゴリ名, 現在格納されている値}\n",
        "    \"\"\"\n",
        "    data[stored_column] = data[stored_column].replace(flag_var['current_val'], flag_var['category_name']).replace(non_flag_var['current_val'], non_flag_var['category_name'])\n",
        "    data[stored_column] = data[stored_column].replace(flag_var['category_name'], 1).replace(non_flag_var['category_name'], 0)\n",
        "    return data\n",
        "\n",
        "def remove_missing_value_line(data):\n",
        "    \"\"\"欠測値のある行を取り除く\n",
        "\n",
        "     「.」のみまたは空白のデータが含まれる行を取り除く\n",
        "\n",
        "    \"\"\"\n",
        "    for colum in data.columns.tolist():\n",
        "        data.query(\"not \" + colum + \" in ['.', '']\", inplace=True)\n",
        "    preproccesing_data = data\n",
        "    return preproccesing_data\n",
        "\n",
        "\n",
        "def remove_status1_person(data):\n",
        "    \"\"\"肝移植したユーザを除く\n",
        "\n",
        "     statusカラムが1となっている行を除く\n",
        "\n",
        "    \"\"\"\n",
        "    preproccesing_data = data.query('not status == 1')\n",
        "    return preproccesing_data"
      ],
      "execution_count": 0,
      "outputs": []
    },
    {
      "cell_type": "code",
      "metadata": {
        "id": "tP1kF6b2FCFX",
        "colab_type": "code",
        "colab": {}
      },
      "source": [
        "def remove_any_columns_data(data, remove_columnlist=None):\n",
        "    return data if remove_columnlist == None else data.drop(remove_columnlist, axis = 1)\n",
        "\n",
        "def remove_element_from_list(target_list, expect_list):\n",
        "    return list(set(target_list) ^ set(expect_list))\n",
        "\n",
        "def df_change_type_to_double(data, expect_columnlist=None):\n",
        "    if expect_columnlist == None:\n",
        "       data = data.astype('float64')\n",
        "    else:\n",
        "       process_columns = remove_element_from_list(data.columns.tolist(), expect_columnlist)\n",
        "       data[process_columns] = data[process_columns].astype('float64')\n",
        "    return data\n",
        "\n",
        "def preproccesing_data(origin_data):\n",
        "    \"\"\"データ前処理用\n",
        "\n",
        "    Args:\n",
        "        origin_data(df): 整形前のデータ\n",
        "\n",
        "    Returns:\n",
        "        preprocessed_data(df): 整形後のデータ\n",
        "    \"\"\"\n",
        "    stored_column, flag_var, non_flag_var = TREATMENT_COLUMN, {'category_name' : 'D-penicillamine', 'current_val' : '1'}, {'category_name' : 'placebo', 'current_val' : '2'}\n",
        "    preproccessed_data = rewrite_categorical_binary_variable_value(origin_data, stored_column, flag_var, non_flag_var)\n",
        "    \n",
        "    preproccessed_data = remove_missing_value_line(preproccessed_data)\n",
        "    \n",
        "    preproccessed_data = remove_status1_person(preproccessed_data)\n",
        "\n",
        "    stored_column_st, flag_var_st, non_flag_var_st = 'status', {'category_name' : 'dead', 'current_val' : 2}, {'category_name' : 'survive', 'current_val' : 0}\n",
        "    preproccessed_data = rewrite_categorical_binary_variable_value(preproccessed_data.copy(), stored_column_st, flag_var_st, non_flag_var_st)\n",
        "\n",
        "    preproccessed_data = remove_any_columns_data(preproccessed_data, ['id'])\n",
        "\n",
        "    preproccessed_data = df_change_type_to_double(preproccessed_data, ['drug', 'status'])\n",
        "\n",
        "    return preproccessed_data"
      ],
      "execution_count": 0,
      "outputs": []
    },
    {
      "cell_type": "code",
      "metadata": {
        "id": "rx_9ra6vQM1T",
        "colab_type": "code",
        "outputId": "5d0df851-ed51-4d70-d36b-9235f4bc0b56",
        "colab": {
          "base_uri": "https://localhost:8080/",
          "height": 35
        }
      },
      "source": [
        "PREPROCESSED_DATA = preproccesing_data(EXPERIMENT_DATA_DF)\n",
        "print(\"PreprocessedDataSize:{data}\".format(data=PREPROCESSED_DATA.shape))"
      ],
      "execution_count": 9,
      "outputs": [
        {
          "output_type": "stream",
          "text": [
            "PreprocessedDataSize:(258, 19)\n"
          ],
          "name": "stdout"
        }
      ]
    },
    {
      "cell_type": "code",
      "metadata": {
        "id": "GhH8W9blQkGC",
        "colab_type": "code",
        "outputId": "8a27b93e-f399-40a4-ed54-a6705befc98f",
        "colab": {
          "base_uri": "https://localhost:8080/",
          "height": 435
        }
      },
      "source": [
        "PREPROCESSED_DATA"
      ],
      "execution_count": 10,
      "outputs": [
        {
          "output_type": "execute_result",
          "data": {
            "text/html": [
              "<div>\n",
              "<style scoped>\n",
              "    .dataframe tbody tr th:only-of-type {\n",
              "        vertical-align: middle;\n",
              "    }\n",
              "\n",
              "    .dataframe tbody tr th {\n",
              "        vertical-align: top;\n",
              "    }\n",
              "\n",
              "    .dataframe thead th {\n",
              "        text-align: right;\n",
              "    }\n",
              "</style>\n",
              "<table border=\"1\" class=\"dataframe\">\n",
              "  <thead>\n",
              "    <tr style=\"text-align: right;\">\n",
              "      <th></th>\n",
              "      <th>futime</th>\n",
              "      <th>status</th>\n",
              "      <th>drug</th>\n",
              "      <th>age</th>\n",
              "      <th>sex</th>\n",
              "      <th>ascites</th>\n",
              "      <th>hepato</th>\n",
              "      <th>spiders</th>\n",
              "      <th>edema</th>\n",
              "      <th>bili</th>\n",
              "      <th>chol</th>\n",
              "      <th>albumin</th>\n",
              "      <th>copper</th>\n",
              "      <th>alk_phos</th>\n",
              "      <th>sgot</th>\n",
              "      <th>trig</th>\n",
              "      <th>platelet</th>\n",
              "      <th>protime</th>\n",
              "      <th>stage</th>\n",
              "    </tr>\n",
              "  </thead>\n",
              "  <tbody>\n",
              "    <tr>\n",
              "      <th>0</th>\n",
              "      <td>400.0</td>\n",
              "      <td>1</td>\n",
              "      <td>1</td>\n",
              "      <td>21464.0</td>\n",
              "      <td>1.0</td>\n",
              "      <td>1.0</td>\n",
              "      <td>1.0</td>\n",
              "      <td>1.0</td>\n",
              "      <td>1.0</td>\n",
              "      <td>14.5</td>\n",
              "      <td>261.0</td>\n",
              "      <td>2.60</td>\n",
              "      <td>156.0</td>\n",
              "      <td>1718.0</td>\n",
              "      <td>137.95</td>\n",
              "      <td>172.0</td>\n",
              "      <td>190.0</td>\n",
              "      <td>12.2</td>\n",
              "      <td>4.0</td>\n",
              "    </tr>\n",
              "    <tr>\n",
              "      <th>1</th>\n",
              "      <td>4500.0</td>\n",
              "      <td>0</td>\n",
              "      <td>1</td>\n",
              "      <td>20617.0</td>\n",
              "      <td>1.0</td>\n",
              "      <td>0.0</td>\n",
              "      <td>1.0</td>\n",
              "      <td>1.0</td>\n",
              "      <td>0.0</td>\n",
              "      <td>1.1</td>\n",
              "      <td>302.0</td>\n",
              "      <td>4.14</td>\n",
              "      <td>54.0</td>\n",
              "      <td>7394.8</td>\n",
              "      <td>113.52</td>\n",
              "      <td>88.0</td>\n",
              "      <td>221.0</td>\n",
              "      <td>10.6</td>\n",
              "      <td>3.0</td>\n",
              "    </tr>\n",
              "    <tr>\n",
              "      <th>2</th>\n",
              "      <td>1012.0</td>\n",
              "      <td>1</td>\n",
              "      <td>1</td>\n",
              "      <td>25594.0</td>\n",
              "      <td>0.0</td>\n",
              "      <td>0.0</td>\n",
              "      <td>0.0</td>\n",
              "      <td>0.0</td>\n",
              "      <td>0.5</td>\n",
              "      <td>1.4</td>\n",
              "      <td>176.0</td>\n",
              "      <td>3.48</td>\n",
              "      <td>210.0</td>\n",
              "      <td>516.0</td>\n",
              "      <td>96.10</td>\n",
              "      <td>55.0</td>\n",
              "      <td>151.0</td>\n",
              "      <td>12.0</td>\n",
              "      <td>4.0</td>\n",
              "    </tr>\n",
              "    <tr>\n",
              "      <th>3</th>\n",
              "      <td>1925.0</td>\n",
              "      <td>1</td>\n",
              "      <td>1</td>\n",
              "      <td>19994.0</td>\n",
              "      <td>1.0</td>\n",
              "      <td>0.0</td>\n",
              "      <td>1.0</td>\n",
              "      <td>1.0</td>\n",
              "      <td>0.5</td>\n",
              "      <td>1.8</td>\n",
              "      <td>244.0</td>\n",
              "      <td>2.54</td>\n",
              "      <td>64.0</td>\n",
              "      <td>6121.8</td>\n",
              "      <td>60.63</td>\n",
              "      <td>92.0</td>\n",
              "      <td>183.0</td>\n",
              "      <td>10.3</td>\n",
              "      <td>4.0</td>\n",
              "    </tr>\n",
              "    <tr>\n",
              "      <th>6</th>\n",
              "      <td>1832.0</td>\n",
              "      <td>0</td>\n",
              "      <td>0</td>\n",
              "      <td>20284.0</td>\n",
              "      <td>1.0</td>\n",
              "      <td>0.0</td>\n",
              "      <td>1.0</td>\n",
              "      <td>0.0</td>\n",
              "      <td>0.0</td>\n",
              "      <td>1.0</td>\n",
              "      <td>322.0</td>\n",
              "      <td>4.09</td>\n",
              "      <td>52.0</td>\n",
              "      <td>824.0</td>\n",
              "      <td>60.45</td>\n",
              "      <td>213.0</td>\n",
              "      <td>204.0</td>\n",
              "      <td>9.7</td>\n",
              "      <td>3.0</td>\n",
              "    </tr>\n",
              "    <tr>\n",
              "      <th>...</th>\n",
              "      <td>...</td>\n",
              "      <td>...</td>\n",
              "      <td>...</td>\n",
              "      <td>...</td>\n",
              "      <td>...</td>\n",
              "      <td>...</td>\n",
              "      <td>...</td>\n",
              "      <td>...</td>\n",
              "      <td>...</td>\n",
              "      <td>...</td>\n",
              "      <td>...</td>\n",
              "      <td>...</td>\n",
              "      <td>...</td>\n",
              "      <td>...</td>\n",
              "      <td>...</td>\n",
              "      <td>...</td>\n",
              "      <td>...</td>\n",
              "      <td>...</td>\n",
              "      <td>...</td>\n",
              "    </tr>\n",
              "    <tr>\n",
              "      <th>307</th>\n",
              "      <td>1153.0</td>\n",
              "      <td>0</td>\n",
              "      <td>1</td>\n",
              "      <td>22347.0</td>\n",
              "      <td>1.0</td>\n",
              "      <td>0.0</td>\n",
              "      <td>1.0</td>\n",
              "      <td>0.0</td>\n",
              "      <td>0.0</td>\n",
              "      <td>0.4</td>\n",
              "      <td>246.0</td>\n",
              "      <td>3.58</td>\n",
              "      <td>24.0</td>\n",
              "      <td>797.0</td>\n",
              "      <td>91.00</td>\n",
              "      <td>113.0</td>\n",
              "      <td>288.0</td>\n",
              "      <td>10.4</td>\n",
              "      <td>2.0</td>\n",
              "    </tr>\n",
              "    <tr>\n",
              "      <th>308</th>\n",
              "      <td>994.0</td>\n",
              "      <td>0</td>\n",
              "      <td>0</td>\n",
              "      <td>21294.0</td>\n",
              "      <td>1.0</td>\n",
              "      <td>0.0</td>\n",
              "      <td>0.0</td>\n",
              "      <td>0.0</td>\n",
              "      <td>0.0</td>\n",
              "      <td>0.4</td>\n",
              "      <td>260.0</td>\n",
              "      <td>2.75</td>\n",
              "      <td>41.0</td>\n",
              "      <td>1166.0</td>\n",
              "      <td>70.00</td>\n",
              "      <td>82.0</td>\n",
              "      <td>231.0</td>\n",
              "      <td>10.8</td>\n",
              "      <td>2.0</td>\n",
              "    </tr>\n",
              "    <tr>\n",
              "      <th>309</th>\n",
              "      <td>939.0</td>\n",
              "      <td>0</td>\n",
              "      <td>1</td>\n",
              "      <td>22767.0</td>\n",
              "      <td>1.0</td>\n",
              "      <td>0.0</td>\n",
              "      <td>0.0</td>\n",
              "      <td>0.0</td>\n",
              "      <td>0.0</td>\n",
              "      <td>1.7</td>\n",
              "      <td>434.0</td>\n",
              "      <td>3.35</td>\n",
              "      <td>39.0</td>\n",
              "      <td>1713.0</td>\n",
              "      <td>171.00</td>\n",
              "      <td>100.0</td>\n",
              "      <td>234.0</td>\n",
              "      <td>10.2</td>\n",
              "      <td>2.0</td>\n",
              "    </tr>\n",
              "    <tr>\n",
              "      <th>310</th>\n",
              "      <td>839.0</td>\n",
              "      <td>0</td>\n",
              "      <td>1</td>\n",
              "      <td>13879.0</td>\n",
              "      <td>1.0</td>\n",
              "      <td>0.0</td>\n",
              "      <td>0.0</td>\n",
              "      <td>0.0</td>\n",
              "      <td>0.0</td>\n",
              "      <td>2.0</td>\n",
              "      <td>247.0</td>\n",
              "      <td>3.16</td>\n",
              "      <td>69.0</td>\n",
              "      <td>1050.0</td>\n",
              "      <td>117.00</td>\n",
              "      <td>88.0</td>\n",
              "      <td>335.0</td>\n",
              "      <td>10.5</td>\n",
              "      <td>2.0</td>\n",
              "    </tr>\n",
              "    <tr>\n",
              "      <th>311</th>\n",
              "      <td>788.0</td>\n",
              "      <td>0</td>\n",
              "      <td>0</td>\n",
              "      <td>12109.0</td>\n",
              "      <td>1.0</td>\n",
              "      <td>0.0</td>\n",
              "      <td>0.0</td>\n",
              "      <td>1.0</td>\n",
              "      <td>0.0</td>\n",
              "      <td>6.4</td>\n",
              "      <td>576.0</td>\n",
              "      <td>3.79</td>\n",
              "      <td>186.0</td>\n",
              "      <td>2115.0</td>\n",
              "      <td>136.00</td>\n",
              "      <td>149.0</td>\n",
              "      <td>200.0</td>\n",
              "      <td>10.8</td>\n",
              "      <td>2.0</td>\n",
              "    </tr>\n",
              "  </tbody>\n",
              "</table>\n",
              "<p>258 rows × 19 columns</p>\n",
              "</div>"
            ],
            "text/plain": [
              "     futime  status drug      age  sex  ...    sgot   trig  platelet  protime  stage\n",
              "0     400.0       1    1  21464.0  1.0  ...  137.95  172.0     190.0     12.2    4.0\n",
              "1    4500.0       0    1  20617.0  1.0  ...  113.52   88.0     221.0     10.6    3.0\n",
              "2    1012.0       1    1  25594.0  0.0  ...   96.10   55.0     151.0     12.0    4.0\n",
              "3    1925.0       1    1  19994.0  1.0  ...   60.63   92.0     183.0     10.3    4.0\n",
              "6    1832.0       0    0  20284.0  1.0  ...   60.45  213.0     204.0      9.7    3.0\n",
              "..      ...     ...  ...      ...  ...  ...     ...    ...       ...      ...    ...\n",
              "307  1153.0       0    1  22347.0  1.0  ...   91.00  113.0     288.0     10.4    2.0\n",
              "308   994.0       0    0  21294.0  1.0  ...   70.00   82.0     231.0     10.8    2.0\n",
              "309   939.0       0    1  22767.0  1.0  ...  171.00  100.0     234.0     10.2    2.0\n",
              "310   839.0       0    1  13879.0  1.0  ...  117.00   88.0     335.0     10.5    2.0\n",
              "311   788.0       0    0  12109.0  1.0  ...  136.00  149.0     200.0     10.8    2.0\n",
              "\n",
              "[258 rows x 19 columns]"
            ]
          },
          "metadata": {
            "tags": []
          },
          "execution_count": 10
        }
      ]
    },
    {
      "cell_type": "code",
      "metadata": {
        "id": "-RBpePBXjApb",
        "colab_type": "code",
        "colab": {}
      },
      "source": [
        "def extract_any_category_data(data, target_categorical_name, target_categorical_num):\n",
        "    extracted_data = data[data[target_categorical_name] == target_categorical_num]\n",
        "    return extracted_data"
      ],
      "execution_count": 0,
      "outputs": []
    },
    {
      "cell_type": "code",
      "metadata": {
        "id": "B6X2s7rqhNEv",
        "colab_type": "code",
        "outputId": "d52f2298-4810-48aa-e966-4c8f4c3b775f",
        "colab": {
          "base_uri": "https://localhost:8080/",
          "height": 521
        }
      },
      "source": [
        "TREATMENTGROUP_DATA = extract_any_category_data(PREPROCESSED_DATA, TREATMENT_COLUMN, 1)\n",
        "CONTROLGROUP_DATA = extract_any_category_data(PREPROCESSED_DATA, TREATMENT_COLUMN, 0)\n",
        "print(TREATMENTGROUP_DATA)\n",
        "print(CONTROLGROUP_DATA)"
      ],
      "execution_count": 12,
      "outputs": [
        {
          "output_type": "stream",
          "text": [
            "     futime  status drug      age  sex  ...    sgot   trig  platelet  protime  stage\n",
            "0     400.0       1    1  21464.0  1.0  ...  137.95  172.0     190.0     12.2    4.0\n",
            "1    4500.0       0    1  20617.0  1.0  ...  113.52   88.0     221.0     10.6    3.0\n",
            "2    1012.0       1    1  25594.0  0.0  ...   96.10   55.0     151.0     12.0    4.0\n",
            "3    1925.0       1    1  19994.0  1.0  ...   60.63   92.0     183.0     10.3    4.0\n",
            "8    2400.0       1    1  15526.0  1.0  ...  144.15   88.0     251.0     11.0    2.0\n",
            "..      ...     ...  ...      ...  ...  ...     ...    ...       ...      ...    ...\n",
            "301  1271.0       0    1  13806.0  1.0  ...   52.00  104.0     268.0     10.6    2.0\n",
            "303  1230.0       0    1  12979.0  1.0  ...   45.00   75.0     246.0     10.8    3.0\n",
            "307  1153.0       0    1  22347.0  1.0  ...   91.00  113.0     288.0     10.4    2.0\n",
            "309   939.0       0    1  22767.0  1.0  ...  171.00  100.0     234.0     10.2    2.0\n",
            "310   839.0       0    1  13879.0  1.0  ...  117.00   88.0     335.0     10.5    2.0\n",
            "\n",
            "[127 rows x 19 columns]\n",
            "     futime  status drug      age  sex  ...    sgot   trig  platelet  protime  stage\n",
            "6    1832.0       0    0  20284.0  1.0  ...   60.45  213.0     204.0      9.7    3.0\n",
            "7    2466.0       1    0  19379.0  1.0  ...   28.38  189.0     373.0     11.0    3.0\n",
            "9      51.0       1    0  25772.0  1.0  ...  147.25  143.0     302.0     11.5    4.0\n",
            "10   3762.0       1    0  19619.0  1.0  ...   79.05   79.0     258.0     12.0    4.0\n",
            "11    304.0       1    0  21600.0  1.0  ...   82.15   95.0      71.0     13.6    4.0\n",
            "..      ...     ...  ...      ...  ...  ...     ...    ...       ...      ...    ...\n",
            "304  1216.0       0    0  15730.0  1.0  ...  288.00  144.0     275.0     10.6    3.0\n",
            "305  1216.0       0    0  20597.0  1.0  ...   55.00   64.0     227.0     10.7    2.0\n",
            "306  1149.0       0    0  11167.0  1.0  ...  130.00   59.0     344.0     10.5    2.0\n",
            "308   994.0       0    0  21294.0  1.0  ...   70.00   82.0     231.0     10.8    2.0\n",
            "311   788.0       0    0  12109.0  1.0  ...  136.00  149.0     200.0     10.8    2.0\n",
            "\n",
            "[131 rows x 19 columns]\n"
          ],
          "name": "stdout"
        }
      ]
    },
    {
      "cell_type": "code",
      "metadata": {
        "id": "xfpbZpfbl-KB",
        "colab_type": "code",
        "outputId": "995aecf4-7cc0-492f-92a9-537ea95b8c8e",
        "colab": {
          "base_uri": "https://localhost:8080/",
          "height": 53
        }
      },
      "source": [
        "print(\"TreatmentGroupSize:{treated_size}\".format(treated_size = TREATMENTGROUP_DATA.shape[0]))\n",
        "print(\"ControlGroupSize:{control_size}\".format(control_size=CONTROLGROUP_DATA.shape[0]))"
      ],
      "execution_count": 13,
      "outputs": [
        {
          "output_type": "stream",
          "text": [
            "TreatmentGroupSize:127\n",
            "ControlGroupSize:131\n"
          ],
          "name": "stdout"
        }
      ]
    },
    {
      "cell_type": "code",
      "metadata": {
        "id": "mg8bOoBCmLnj",
        "colab_type": "code",
        "outputId": "4555e8dd-7da2-44b2-eef9-eb2c82763eec",
        "colab": {
          "base_uri": "https://localhost:8080/",
          "height": 1000
        }
      },
      "source": [
        "pd.set_option('display.max_columns', 50)\n",
        "print(\"TreatmentGroupStatistics:\\n{treated_statistics}\".format(treated_statistics = TREATMENTGROUP_DATA.describe()))\n",
        "print(\"ControlGroupStatistics:\\n{control_statistics}\".format(control_statistics=CONTROLGROUP_DATA.describe()))"
      ],
      "execution_count": 14,
      "outputs": [
        {
          "output_type": "stream",
          "text": [
            "TreatmentGroupStatistics:\n",
            "            futime      status           age         sex     ascites  \\\n",
            "count   127.000000  127.000000    127.000000  127.000000  127.000000   \n",
            "mean   2001.039370    0.448819  18979.551181    0.866142    0.086614   \n",
            "std    1097.222326    0.499343   3967.378697    0.341848    0.282383   \n",
            "min      41.000000    0.000000   9598.000000    0.000000    0.000000   \n",
            "25%    1234.500000    0.000000  16270.000000    1.000000    0.000000   \n",
            "50%    1827.000000    0.000000  19155.000000    1.000000    0.000000   \n",
            "75%    2673.000000    1.000000  21969.500000    1.000000    0.000000   \n",
            "max    4556.000000    1.000000  28650.000000    1.000000    1.000000   \n",
            "\n",
            "           hepato     spiders       edema        bili         chol  \\\n",
            "count  127.000000  127.000000  127.000000  127.000000   127.000000   \n",
            "mean     0.472441    0.307087    0.129921    2.925984   353.543307   \n",
            "std      0.501217    0.463113    0.290133    3.762708   180.429459   \n",
            "min      0.000000    0.000000    0.000000    0.300000   127.000000   \n",
            "25%      0.000000    0.000000    0.000000    0.800000   246.500000   \n",
            "50%      0.000000    0.000000    0.000000    1.400000   309.000000   \n",
            "75%      1.000000    1.000000    0.000000    3.300000   415.000000   \n",
            "max      1.000000    1.000000    1.000000   20.000000  1600.000000   \n",
            "\n",
            "          albumin      copper      alk_phos       sgot        trig  \\\n",
            "count  127.000000  127.000000    127.000000  127.00000  127.000000   \n",
            "mean     3.487953  101.606299   2030.993701  120.61622  124.401575   \n",
            "std      0.440388   92.876361   2189.794809   53.34760   72.630644   \n",
            "min      2.100000    9.000000    369.000000   45.00000   46.000000   \n",
            "25%      3.200000   42.500000    856.000000   81.30000   85.000000   \n",
            "50%      3.540000   74.000000   1214.000000  113.15000  106.000000   \n",
            "75%      3.780000  123.500000   2093.000000  150.95000  146.000000   \n",
            "max      4.400000  588.000000  11552.000000  338.00000  598.000000   \n",
            "\n",
            "         platelet     protime       stage  \n",
            "count  127.000000  127.000000  127.000000  \n",
            "mean   255.110236   10.677953    2.952756  \n",
            "std     98.555699    0.867940    0.924604  \n",
            "min     62.000000    9.000000    1.000000  \n",
            "25%    191.000000   10.000000    2.000000  \n",
            "50%    251.000000   10.600000    3.000000  \n",
            "75%    317.500000   11.000000    4.000000  \n",
            "max    563.000000   14.100000    4.000000  \n",
            "ControlGroupStatistics:\n",
            "            futime      status           age         sex     ascites  \\\n",
            "count   131.000000  131.000000    131.000000  131.000000  131.000000   \n",
            "mean   2022.206107    0.412214  17875.015267    0.893130    0.061069   \n",
            "std    1159.170026    0.494123   3627.751826    0.310134    0.240376   \n",
            "min      51.000000    0.000000  11167.000000    0.000000    0.000000   \n",
            "25%    1188.500000    0.000000  15505.500000    1.000000    0.000000   \n",
            "50%    1832.000000    0.000000  17809.000000    1.000000    0.000000   \n",
            "75%    2796.500000    1.000000  20417.000000    1.000000    0.000000   \n",
            "max    4523.000000    1.000000  27220.000000    1.000000    1.000000   \n",
            "\n",
            "           hepato     spiders       edema        bili         chol  \\\n",
            "count  131.000000  131.000000  131.000000  131.000000   131.000000   \n",
            "mean     0.534351    0.274809    0.091603    3.745038   379.061069   \n",
            "std      0.500733    0.448132    0.261663    5.493370   263.293219   \n",
            "min      0.000000    0.000000    0.000000    0.300000   120.000000   \n",
            "25%      0.000000    0.000000    0.000000    0.700000   252.000000   \n",
            "50%      1.000000    0.000000    0.000000    1.300000   302.000000   \n",
            "75%      1.000000    1.000000    0.000000    3.600000   388.000000   \n",
            "max      1.000000    1.000000    1.000000   28.000000  1775.000000   \n",
            "\n",
            "          albumin      copper      alk_phos        sgot        trig  \\\n",
            "count  131.000000  131.000000    131.000000  131.000000  131.000000   \n",
            "mean     3.534198   96.854962   2030.187786  126.675191  124.305344   \n",
            "std      0.372823   81.540846   2165.324545   61.922587   56.914361   \n",
            "min      1.960000    4.000000    289.000000   28.380000   44.000000   \n",
            "25%      3.350000   41.000000    959.500000   82.355000   85.000000   \n",
            "50%      3.540000   73.000000   1307.000000  119.350000  113.000000   \n",
            "75%      3.765000  135.000000   2090.000000  157.325000  156.500000   \n",
            "max      4.380000  558.000000  13862.400000  457.250000  432.000000   \n",
            "\n",
            "         platelet     protime       stage  \n",
            "count  131.000000  131.000000  131.000000  \n",
            "mean   263.694656   10.835878    3.099237  \n",
            "std     88.884531    1.161833    0.792804  \n",
            "min     71.000000    9.500000    1.000000  \n",
            "25%    205.500000   10.000000    3.000000  \n",
            "50%    258.000000   10.600000    3.000000  \n",
            "75%    322.000000   11.450000    4.000000  \n",
            "max    487.000000   17.100000    4.000000  \n"
          ],
          "name": "stdout"
        }
      ]
    },
    {
      "cell_type": "markdown",
      "metadata": {
        "id": "nqFuuVVkQgH1",
        "colab_type": "text"
      },
      "source": [
        "#②（あまり良くない方法で）A/Bテストを評価"
      ]
    },
    {
      "cell_type": "code",
      "metadata": {
        "id": "hsNlfwA5ZXMt",
        "colab_type": "code",
        "colab": {}
      },
      "source": [
        "def calc_naive_tau(outcome_column_name, tratment_group_data, control_group_data):\n",
        "    \"\"\"　単純なoutcomeの差を求める\n",
        "\n",
        "     WARNING:誤った効果測定の方法\n",
        "　　 計算方法：介入群のoutcomeの平均値 - 対照群のoutcomeの平均値\n",
        "    \"\"\"\n",
        "    naive_tau = tratment_group_data[outcome_column_name].mean() - control_group_data[outcome_column_name].mean()\n",
        "    return naive_tau"
      ],
      "execution_count": 0,
      "outputs": []
    },
    {
      "cell_type": "code",
      "metadata": {
        "id": "yM4gYLKdd2t-",
        "colab_type": "code",
        "outputId": "08820d9e-7903-46b8-fd7f-7a50e17daedd",
        "colab": {
          "base_uri": "https://localhost:8080/",
          "height": 35
        }
      },
      "source": [
        "naive_tau_hat = calc_naive_tau(OUTCOME_COLUMN, TREATMENTGROUP_DATA, CONTROLGROUP_DATA)\n",
        "print(\"naiveτ~（純粋な差） = {naive_tau_hat}\".format(naive_tau_hat = naive_tau_hat))"
      ],
      "execution_count": 16,
      "outputs": [
        {
          "output_type": "stream",
          "text": [
            "naiveτ~（純粋な差） = 0.03660515717977997\n"
          ],
          "name": "stdout"
        }
      ]
    },
    {
      "cell_type": "markdown",
      "metadata": {
        "id": "OgZg_IZQSxoT",
        "colab_type": "text"
      },
      "source": [
        "## 「２つのグループの平均値をそれぞれ求め、単純に引き算する方法」があまり良くない理由について\n",
        "-  **セレクションバイアスが生じている**\n",
        "    - 結果が観測されたデータのみで効果測定している\n",
        "    - 共変量、交絡因子が揃っていない（被験者のユーザ毎の特徴量の差が結果に影響している可能性）"
      ]
    },
    {
      "cell_type": "markdown",
      "metadata": {
        "id": "jDHg_XVAT44n",
        "colab_type": "text"
      },
      "source": [
        "A/Bテストで収集されたデータをサンプルデータ（標本）と考えた際、母集団内での因果効果を ${\\tau}$ と置くと、標本から推定される因果効果の推定量は $\\hat{\\tau}$ と定義することができる。<br>\n",
        "\n",
        "今回求めた純粋な差から求めた推定量を$\\hat{\\tau}_{naive}$と置くと、\n",
        "$$\\hat{\\tau}_{naive} = E[Y^{(1)}|Z=1]-E[Y^{(0)}|Z=0]$$\n",
        "$$=E[Y^{(1)}-Y^{(0)}]+E[Y^{(0)}|Z=1]-E[Y^{(0)}|Z=0]$$\n",
        "介入の因果効果（第1項目）以外に、セレクションバイアス（第2項目と第3項目）が含まれてしまっていることが分かる。"
      ]
    },
    {
      "cell_type": "markdown",
      "metadata": {
        "id": "xunHl60ylp_D",
        "colab_type": "text"
      },
      "source": [
        "# ③（因果推論手法を用いた）因果効果測定"
      ]
    },
    {
      "cell_type": "markdown",
      "metadata": {
        "id": "206At-ZcRGmU",
        "colab_type": "text"
      },
      "source": [
        "## （準備）傾向スコアの算出\n",
        "今回はLogistic Regression（ロジスティック回帰）を使い、傾向スコア（被験者の共変量に応じて介入群に割り振られる確率）を算出"
      ]
    },
    {
      "cell_type": "code",
      "metadata": {
        "id": "wTtVXUZolCCN",
        "colab_type": "code",
        "colab": {}
      },
      "source": [
        "from sklearn import preprocessing\n",
        "from sklearn.linear_model import LogisticRegression\n",
        "\n",
        "ss = preprocessing.StandardScaler()\n",
        "lr = LogisticRegression(random_state = 8, C=0.1)"
      ],
      "execution_count": 0,
      "outputs": []
    },
    {
      "cell_type": "code",
      "metadata": {
        "id": "5kJbJ-7LnMX4",
        "colab_type": "code",
        "colab": {}
      },
      "source": [
        "def process_standardization(data):\n",
        "    return ss.fit_transform(data)\n",
        "\n",
        "def preprocess_data_for_lr(data, extract_column_list = None):\n",
        "    \"\"\"ロジスティック回帰用データ整形\n",
        "    \n",
        "    ①不要なカラムの削除\n",
        "    ②データの標準化\n",
        "\n",
        "    \"\"\"\n",
        "    processed_data = remove_any_columns_data(data, extract_column_list)\n",
        "\n",
        "    processed_data_np = process_standardization(processed_data)\n",
        "    \n",
        "    return processed_data_np"
      ],
      "execution_count": 0,
      "outputs": []
    },
    {
      "cell_type": "code",
      "metadata": {
        "id": "sjHDmJn1uK92",
        "colab_type": "code",
        "colab": {}
      },
      "source": [
        "# トリートメント割り当て確率を予測するための特徴量\n",
        "TRAINING_VECTOR_X= preprocess_data_for_lr(PREPROCESSED_DATA, [TREATMENT_COLUMN, OUTCOME_COLUMN])\n",
        "#pd.DataFrame(TRAINING_VECTOR_X).describe()\n",
        "#TRAINING_VECTOR_X"
      ],
      "execution_count": 0,
      "outputs": []
    },
    {
      "cell_type": "code",
      "metadata": {
        "id": "jTEDn8Diq33S",
        "colab_type": "code",
        "outputId": "74acbe58-951e-483d-88af-f0b39f3a273b",
        "colab": {
          "base_uri": "https://localhost:8080/",
          "height": 107
        }
      },
      "source": [
        "# モデルの学習\n",
        "lr.fit(X=TRAINING_VECTOR_X, y=PREPROCESSED_DATA[TREATMENT_COLUMN].values.astype('int'))"
      ],
      "execution_count": 20,
      "outputs": [
        {
          "output_type": "execute_result",
          "data": {
            "text/plain": [
              "LogisticRegression(C=0.1, class_weight=None, dual=False, fit_intercept=True,\n",
              "                   intercept_scaling=1, l1_ratio=None, max_iter=100,\n",
              "                   multi_class='auto', n_jobs=None, penalty='l2',\n",
              "                   random_state=8, solver='lbfgs', tol=0.0001, verbose=0,\n",
              "                   warm_start=False)"
            ]
          },
          "metadata": {
            "tags": []
          },
          "execution_count": 20
        }
      ]
    },
    {
      "cell_type": "code",
      "metadata": {
        "id": "cCUNfWmIfUcG",
        "colab_type": "code",
        "outputId": "3d27f294-cd25-4e95-b109-00b056526baf",
        "colab": {
          "base_uri": "https://localhost:8080/",
          "height": 35
        }
      },
      "source": [
        "# 傾向スコア算出における回帰モデルの精度はそれほど重要ではないらしいが一応確認\n",
        "lr_score = lr.score(X=TRAINING_VECTOR_X, y=PREPROCESSED_DATA[TREATMENT_COLUMN].values.astype('int'))\n",
        "print(\"score={lr_score}\".format(lr_score=lr_score))"
      ],
      "execution_count": 21,
      "outputs": [
        {
          "output_type": "stream",
          "text": [
            "score=0.5852713178294574\n"
          ],
          "name": "stdout"
        }
      ]
    },
    {
      "cell_type": "code",
      "metadata": {
        "id": "MZNqr7d_wu52",
        "colab_type": "code",
        "outputId": "68b2860d-d1ef-4803-e5d0-e728008f618d",
        "colab": {
          "base_uri": "https://localhost:8080/",
          "height": 35
        }
      },
      "source": [
        "from sklearn.metrics import log_loss\n",
        "print('logistic loss = ', log_loss(y_true=PREPROCESSED_DATA[\"status\"], y_pred=lr.predict(X=TRAINING_VECTOR_X)))"
      ],
      "execution_count": 22,
      "outputs": [
        {
          "output_type": "stream",
          "text": [
            "logistic loss =  17.001859590605967\n"
          ],
          "name": "stdout"
        }
      ]
    },
    {
      "cell_type": "markdown",
      "metadata": {
        "id": "oeBn9PGyz7GM",
        "colab_type": "text"
      },
      "source": [
        "### ロジスティック回帰モデルのC統計量（AUC）考察\n",
        "- 損失も上手く最小化できておらず、C統計量（AUC）が低かった理由として、サンプルデータ不足が考えられる。<br>\n",
        "C統計量が0.7以上を推奨している[文献](https://www.jstage.jst.go.jp/article/tenrikiyo/19/2/19_19-008/_pdf)がある。その文献の中では、イベントの少ない方のサンプル数は、共変量の数の10倍の例数が必要なことが論じられている。\n",
        "   - 今回の場合、共変量が17つくらいあるため、最低でも合計340以上のサンプルが必要だったのかもしれない。\n",
        "\n",
        "- 参考書籍によると、C統計量が最小値（0.5）の場合は識別力なし、最大値(1)の場合は完全識別という。識別力が高すぎると傾向スコアマッチングでマッチできるペアが少なくなってしまい、低いと、通常の線形回帰とほぼ変わらない結果になるため、傾向スコア・マッチングを行う意義はあまりない。\n",
        " - 今回のロジスティック回帰で求めた傾向スコアで傾向スコアマッチングは線形回帰と近い結果になりそう"
      ]
    },
    {
      "cell_type": "code",
      "metadata": {
        "id": "WiZKplATgE29",
        "colab_type": "code",
        "outputId": "ff6b5094-a906-4fa1-8302-a47b8f7ea7b4",
        "colab": {
          "base_uri": "https://localhost:8080/",
          "height": 35
        }
      },
      "source": [
        "# [0になる確信度, 1になる確信度]\n",
        "#print(lr.predict_proba(X=TRAINING_VECTOR_X)[:5])\n",
        "\n",
        "# 1になる確信度を傾向スコアとして抽出\n",
        "propensity_score_nparray = lr.predict_proba(X=TRAINING_VECTOR_X)[:,1]\n",
        "propensity_score_nparray[:5]"
      ],
      "execution_count": 23,
      "outputs": [
        {
          "output_type": "execute_result",
          "data": {
            "text/plain": [
              "array([0.56517114, 0.55085202, 0.61260233, 0.64348232, 0.54285658])"
            ]
          },
          "metadata": {
            "tags": []
          },
          "execution_count": 23
        }
      ]
    },
    {
      "cell_type": "code",
      "metadata": {
        "id": "D2m4HbeDkR12",
        "colab_type": "code",
        "colab": {}
      },
      "source": [
        "def insert_pd_data(data, insert_column_data, insert_column_name):\n",
        "    \"\"\"データフレームに任意の列を追加\n",
        "\n",
        "    Args:\n",
        "        insert_column_data(np.array):挿入したい列データ \n",
        "        insert_column_name(String): 挿入後に付けたい列名\n",
        "\n",
        "    \"\"\"\n",
        "    data[insert_column_name] = insert_column_data\n",
        "    return data"
      ],
      "execution_count": 0,
      "outputs": []
    },
    {
      "cell_type": "code",
      "metadata": {
        "id": "xMFODkFngcRk",
        "colab_type": "code",
        "outputId": "865266b9-330b-4bfc-9c94-3b14b325982c",
        "colab": {
          "base_uri": "https://localhost:8080/",
          "height": 435
        }
      },
      "source": [
        "PROPENSITY_COLUMN = \"propensity_score\"\n",
        "PREPROCESSED_DATA_ADD_PS = insert_pd_data(PREPROCESSED_DATA, propensity_score_nparray, PROPENSITY_COLUMN)\n",
        "PREPROCESSED_DATA_ADD_PS"
      ],
      "execution_count": 25,
      "outputs": [
        {
          "output_type": "execute_result",
          "data": {
            "text/html": [
              "<div>\n",
              "<style scoped>\n",
              "    .dataframe tbody tr th:only-of-type {\n",
              "        vertical-align: middle;\n",
              "    }\n",
              "\n",
              "    .dataframe tbody tr th {\n",
              "        vertical-align: top;\n",
              "    }\n",
              "\n",
              "    .dataframe thead th {\n",
              "        text-align: right;\n",
              "    }\n",
              "</style>\n",
              "<table border=\"1\" class=\"dataframe\">\n",
              "  <thead>\n",
              "    <tr style=\"text-align: right;\">\n",
              "      <th></th>\n",
              "      <th>futime</th>\n",
              "      <th>status</th>\n",
              "      <th>drug</th>\n",
              "      <th>age</th>\n",
              "      <th>sex</th>\n",
              "      <th>ascites</th>\n",
              "      <th>hepato</th>\n",
              "      <th>spiders</th>\n",
              "      <th>edema</th>\n",
              "      <th>bili</th>\n",
              "      <th>chol</th>\n",
              "      <th>albumin</th>\n",
              "      <th>copper</th>\n",
              "      <th>alk_phos</th>\n",
              "      <th>sgot</th>\n",
              "      <th>trig</th>\n",
              "      <th>platelet</th>\n",
              "      <th>protime</th>\n",
              "      <th>stage</th>\n",
              "      <th>propensity_score</th>\n",
              "    </tr>\n",
              "  </thead>\n",
              "  <tbody>\n",
              "    <tr>\n",
              "      <th>0</th>\n",
              "      <td>400.0</td>\n",
              "      <td>1</td>\n",
              "      <td>1</td>\n",
              "      <td>21464.0</td>\n",
              "      <td>1.0</td>\n",
              "      <td>1.0</td>\n",
              "      <td>1.0</td>\n",
              "      <td>1.0</td>\n",
              "      <td>1.0</td>\n",
              "      <td>14.5</td>\n",
              "      <td>261.0</td>\n",
              "      <td>2.60</td>\n",
              "      <td>156.0</td>\n",
              "      <td>1718.0</td>\n",
              "      <td>137.95</td>\n",
              "      <td>172.0</td>\n",
              "      <td>190.0</td>\n",
              "      <td>12.2</td>\n",
              "      <td>4.0</td>\n",
              "      <td>0.565171</td>\n",
              "    </tr>\n",
              "    <tr>\n",
              "      <th>1</th>\n",
              "      <td>4500.0</td>\n",
              "      <td>0</td>\n",
              "      <td>1</td>\n",
              "      <td>20617.0</td>\n",
              "      <td>1.0</td>\n",
              "      <td>0.0</td>\n",
              "      <td>1.0</td>\n",
              "      <td>1.0</td>\n",
              "      <td>0.0</td>\n",
              "      <td>1.1</td>\n",
              "      <td>302.0</td>\n",
              "      <td>4.14</td>\n",
              "      <td>54.0</td>\n",
              "      <td>7394.8</td>\n",
              "      <td>113.52</td>\n",
              "      <td>88.0</td>\n",
              "      <td>221.0</td>\n",
              "      <td>10.6</td>\n",
              "      <td>3.0</td>\n",
              "      <td>0.550852</td>\n",
              "    </tr>\n",
              "    <tr>\n",
              "      <th>2</th>\n",
              "      <td>1012.0</td>\n",
              "      <td>1</td>\n",
              "      <td>1</td>\n",
              "      <td>25594.0</td>\n",
              "      <td>0.0</td>\n",
              "      <td>0.0</td>\n",
              "      <td>0.0</td>\n",
              "      <td>0.0</td>\n",
              "      <td>0.5</td>\n",
              "      <td>1.4</td>\n",
              "      <td>176.0</td>\n",
              "      <td>3.48</td>\n",
              "      <td>210.0</td>\n",
              "      <td>516.0</td>\n",
              "      <td>96.10</td>\n",
              "      <td>55.0</td>\n",
              "      <td>151.0</td>\n",
              "      <td>12.0</td>\n",
              "      <td>4.0</td>\n",
              "      <td>0.612602</td>\n",
              "    </tr>\n",
              "    <tr>\n",
              "      <th>3</th>\n",
              "      <td>1925.0</td>\n",
              "      <td>1</td>\n",
              "      <td>1</td>\n",
              "      <td>19994.0</td>\n",
              "      <td>1.0</td>\n",
              "      <td>0.0</td>\n",
              "      <td>1.0</td>\n",
              "      <td>1.0</td>\n",
              "      <td>0.5</td>\n",
              "      <td>1.8</td>\n",
              "      <td>244.0</td>\n",
              "      <td>2.54</td>\n",
              "      <td>64.0</td>\n",
              "      <td>6121.8</td>\n",
              "      <td>60.63</td>\n",
              "      <td>92.0</td>\n",
              "      <td>183.0</td>\n",
              "      <td>10.3</td>\n",
              "      <td>4.0</td>\n",
              "      <td>0.643482</td>\n",
              "    </tr>\n",
              "    <tr>\n",
              "      <th>6</th>\n",
              "      <td>1832.0</td>\n",
              "      <td>0</td>\n",
              "      <td>0</td>\n",
              "      <td>20284.0</td>\n",
              "      <td>1.0</td>\n",
              "      <td>0.0</td>\n",
              "      <td>1.0</td>\n",
              "      <td>0.0</td>\n",
              "      <td>0.0</td>\n",
              "      <td>1.0</td>\n",
              "      <td>322.0</td>\n",
              "      <td>4.09</td>\n",
              "      <td>52.0</td>\n",
              "      <td>824.0</td>\n",
              "      <td>60.45</td>\n",
              "      <td>213.0</td>\n",
              "      <td>204.0</td>\n",
              "      <td>9.7</td>\n",
              "      <td>3.0</td>\n",
              "      <td>0.542857</td>\n",
              "    </tr>\n",
              "    <tr>\n",
              "      <th>...</th>\n",
              "      <td>...</td>\n",
              "      <td>...</td>\n",
              "      <td>...</td>\n",
              "      <td>...</td>\n",
              "      <td>...</td>\n",
              "      <td>...</td>\n",
              "      <td>...</td>\n",
              "      <td>...</td>\n",
              "      <td>...</td>\n",
              "      <td>...</td>\n",
              "      <td>...</td>\n",
              "      <td>...</td>\n",
              "      <td>...</td>\n",
              "      <td>...</td>\n",
              "      <td>...</td>\n",
              "      <td>...</td>\n",
              "      <td>...</td>\n",
              "      <td>...</td>\n",
              "      <td>...</td>\n",
              "      <td>...</td>\n",
              "    </tr>\n",
              "    <tr>\n",
              "      <th>307</th>\n",
              "      <td>1153.0</td>\n",
              "      <td>0</td>\n",
              "      <td>1</td>\n",
              "      <td>22347.0</td>\n",
              "      <td>1.0</td>\n",
              "      <td>0.0</td>\n",
              "      <td>1.0</td>\n",
              "      <td>0.0</td>\n",
              "      <td>0.0</td>\n",
              "      <td>0.4</td>\n",
              "      <td>246.0</td>\n",
              "      <td>3.58</td>\n",
              "      <td>24.0</td>\n",
              "      <td>797.0</td>\n",
              "      <td>91.00</td>\n",
              "      <td>113.0</td>\n",
              "      <td>288.0</td>\n",
              "      <td>10.4</td>\n",
              "      <td>2.0</td>\n",
              "      <td>0.589221</td>\n",
              "    </tr>\n",
              "    <tr>\n",
              "      <th>308</th>\n",
              "      <td>994.0</td>\n",
              "      <td>0</td>\n",
              "      <td>0</td>\n",
              "      <td>21294.0</td>\n",
              "      <td>1.0</td>\n",
              "      <td>0.0</td>\n",
              "      <td>0.0</td>\n",
              "      <td>0.0</td>\n",
              "      <td>0.0</td>\n",
              "      <td>0.4</td>\n",
              "      <td>260.0</td>\n",
              "      <td>2.75</td>\n",
              "      <td>41.0</td>\n",
              "      <td>1166.0</td>\n",
              "      <td>70.00</td>\n",
              "      <td>82.0</td>\n",
              "      <td>231.0</td>\n",
              "      <td>10.8</td>\n",
              "      <td>2.0</td>\n",
              "      <td>0.643987</td>\n",
              "    </tr>\n",
              "    <tr>\n",
              "      <th>309</th>\n",
              "      <td>939.0</td>\n",
              "      <td>0</td>\n",
              "      <td>1</td>\n",
              "      <td>22767.0</td>\n",
              "      <td>1.0</td>\n",
              "      <td>0.0</td>\n",
              "      <td>0.0</td>\n",
              "      <td>0.0</td>\n",
              "      <td>0.0</td>\n",
              "      <td>1.7</td>\n",
              "      <td>434.0</td>\n",
              "      <td>3.35</td>\n",
              "      <td>39.0</td>\n",
              "      <td>1713.0</td>\n",
              "      <td>171.00</td>\n",
              "      <td>100.0</td>\n",
              "      <td>234.0</td>\n",
              "      <td>10.2</td>\n",
              "      <td>2.0</td>\n",
              "      <td>0.647393</td>\n",
              "    </tr>\n",
              "    <tr>\n",
              "      <th>310</th>\n",
              "      <td>839.0</td>\n",
              "      <td>0</td>\n",
              "      <td>1</td>\n",
              "      <td>13879.0</td>\n",
              "      <td>1.0</td>\n",
              "      <td>0.0</td>\n",
              "      <td>0.0</td>\n",
              "      <td>0.0</td>\n",
              "      <td>0.0</td>\n",
              "      <td>2.0</td>\n",
              "      <td>247.0</td>\n",
              "      <td>3.16</td>\n",
              "      <td>69.0</td>\n",
              "      <td>1050.0</td>\n",
              "      <td>117.00</td>\n",
              "      <td>88.0</td>\n",
              "      <td>335.0</td>\n",
              "      <td>10.5</td>\n",
              "      <td>2.0</td>\n",
              "      <td>0.466295</td>\n",
              "    </tr>\n",
              "    <tr>\n",
              "      <th>311</th>\n",
              "      <td>788.0</td>\n",
              "      <td>0</td>\n",
              "      <td>0</td>\n",
              "      <td>12109.0</td>\n",
              "      <td>1.0</td>\n",
              "      <td>0.0</td>\n",
              "      <td>0.0</td>\n",
              "      <td>1.0</td>\n",
              "      <td>0.0</td>\n",
              "      <td>6.4</td>\n",
              "      <td>576.0</td>\n",
              "      <td>3.79</td>\n",
              "      <td>186.0</td>\n",
              "      <td>2115.0</td>\n",
              "      <td>136.00</td>\n",
              "      <td>149.0</td>\n",
              "      <td>200.0</td>\n",
              "      <td>10.8</td>\n",
              "      <td>2.0</td>\n",
              "      <td>0.495477</td>\n",
              "    </tr>\n",
              "  </tbody>\n",
              "</table>\n",
              "<p>258 rows × 20 columns</p>\n",
              "</div>"
            ],
            "text/plain": [
              "     futime  status drug      age  sex  ascites  hepato  spiders  edema  bili  \\\n",
              "0     400.0       1    1  21464.0  1.0      1.0     1.0      1.0    1.0  14.5   \n",
              "1    4500.0       0    1  20617.0  1.0      0.0     1.0      1.0    0.0   1.1   \n",
              "2    1012.0       1    1  25594.0  0.0      0.0     0.0      0.0    0.5   1.4   \n",
              "3    1925.0       1    1  19994.0  1.0      0.0     1.0      1.0    0.5   1.8   \n",
              "6    1832.0       0    0  20284.0  1.0      0.0     1.0      0.0    0.0   1.0   \n",
              "..      ...     ...  ...      ...  ...      ...     ...      ...    ...   ...   \n",
              "307  1153.0       0    1  22347.0  1.0      0.0     1.0      0.0    0.0   0.4   \n",
              "308   994.0       0    0  21294.0  1.0      0.0     0.0      0.0    0.0   0.4   \n",
              "309   939.0       0    1  22767.0  1.0      0.0     0.0      0.0    0.0   1.7   \n",
              "310   839.0       0    1  13879.0  1.0      0.0     0.0      0.0    0.0   2.0   \n",
              "311   788.0       0    0  12109.0  1.0      0.0     0.0      1.0    0.0   6.4   \n",
              "\n",
              "      chol  albumin  copper  alk_phos    sgot   trig  platelet  protime  \\\n",
              "0    261.0     2.60   156.0    1718.0  137.95  172.0     190.0     12.2   \n",
              "1    302.0     4.14    54.0    7394.8  113.52   88.0     221.0     10.6   \n",
              "2    176.0     3.48   210.0     516.0   96.10   55.0     151.0     12.0   \n",
              "3    244.0     2.54    64.0    6121.8   60.63   92.0     183.0     10.3   \n",
              "6    322.0     4.09    52.0     824.0   60.45  213.0     204.0      9.7   \n",
              "..     ...      ...     ...       ...     ...    ...       ...      ...   \n",
              "307  246.0     3.58    24.0     797.0   91.00  113.0     288.0     10.4   \n",
              "308  260.0     2.75    41.0    1166.0   70.00   82.0     231.0     10.8   \n",
              "309  434.0     3.35    39.0    1713.0  171.00  100.0     234.0     10.2   \n",
              "310  247.0     3.16    69.0    1050.0  117.00   88.0     335.0     10.5   \n",
              "311  576.0     3.79   186.0    2115.0  136.00  149.0     200.0     10.8   \n",
              "\n",
              "     stage  propensity_score  \n",
              "0      4.0          0.565171  \n",
              "1      3.0          0.550852  \n",
              "2      4.0          0.612602  \n",
              "3      4.0          0.643482  \n",
              "6      3.0          0.542857  \n",
              "..     ...               ...  \n",
              "307    2.0          0.589221  \n",
              "308    2.0          0.643987  \n",
              "309    2.0          0.647393  \n",
              "310    2.0          0.466295  \n",
              "311    2.0          0.495477  \n",
              "\n",
              "[258 rows x 20 columns]"
            ]
          },
          "metadata": {
            "tags": []
          },
          "execution_count": 25
        }
      ]
    },
    {
      "cell_type": "markdown",
      "metadata": {
        "id": "NjYeq2xYqiV1",
        "colab_type": "text"
      },
      "source": [
        "## ATE(Average Treatment Effect)を算出\n",
        "傾向スコアの逆数をサンプルの重みとするIPW（Inverse Probability Weighting）を使うことで、RCTに近い無作為化の状況（共変量や交絡因子の分布が近くなる）を作り出せる。これでATE(Average Treatment Effect)を算出することができる。"
      ]
    },
    {
      "cell_type": "code",
      "metadata": {
        "id": "8DddCfreintQ",
        "colab_type": "code",
        "colab": {}
      },
      "source": [
        "def calc_weight_for_ATE(data, treatment_column_name, propensity_score_column_name):\n",
        "    \"\"\"ATE算出用にサンプルデータに重みを付ける\n",
        "    \"\"\"\n",
        "    weights = data[treatment_column_name] / data[propensity_score_column_name]\n",
        "    return weights\n",
        "\n",
        "def calc_expected_value(data, outcome_column_name, weights = None):\n",
        "    \"\"\"重みを考慮した期待値計算\n",
        "    \"\"\"\n",
        "\n",
        "    if not isinstance(weights, pd.Series):\n",
        "       weights = np.ones(len(data))\n",
        "    \n",
        "    try:\n",
        "       expected_value = (np.sum(data[outcome_column_name] * weights)) / np.sum(weights)\n",
        "    except ZeroDivisionError:\n",
        "       expected_value = 0\n",
        "    \n",
        "    return expected_value\n",
        "\n",
        "def calc_ATE(data, treatment_column_name, propensity_score_column_name, outcome_column_name):\n",
        "    \"\"\"平均因果効果（Average Treatment Effect：ATE）の算出\n",
        "    \"\"\"\n",
        "    treatmentgroup_data_add_ps = extract_any_category_data(data, treatment_column_name, 1)\n",
        "    controlgroup_data_add_ps = extract_any_category_data(data, treatment_column_name, 0)\n",
        "\n",
        "    #第1項目にかかる重み\n",
        "    weights1 = calc_weight_for_ATE(treatmentgroup_data_add_ps, treatment_column_name, propensity_score_column_name)\n",
        "    #第2項目にかかる重み（今回は生存の二値フラグなため、0になる）\n",
        "    weights0 = calc_weight_for_ATE(controlgroup_data_add_ps, treatment_column_name, propensity_score_column_name)\n",
        "\n",
        "    #第1項目の計算\n",
        "    e1 = calc_expected_value(treatmentgroup_data_add_ps, outcome_column_name, weights = weights1)\n",
        "    #第2項目の計算\n",
        "    e0 = calc_expected_value(treatmentgroup_data_add_ps, outcome_column_name, weights = weights0)\n",
        "    \n",
        "    ate = e1 - e0\n",
        "\n",
        "    return ate"
      ],
      "execution_count": 0,
      "outputs": []
    },
    {
      "cell_type": "code",
      "metadata": {
        "id": "OAKMMWqqDzcX",
        "colab_type": "code",
        "colab": {
          "base_uri": "https://localhost:8080/",
          "height": 35
        },
        "outputId": "452c9c5f-a8db-41af-832d-d54404e12d5f"
      },
      "source": [
        "ate_ipw = calc_ATE(PREPROCESSED_DATA_ADD_PS, TREATMENT_COLUMN, PROPENSITY_COLUMN, OUTCOME_COLUMN)\n",
        "print(\"ate_ipw（IPW補正あり平均因果効果） = {ate_ipw}\".format(ate_ipw = ate_ipw))"
      ],
      "execution_count": 107,
      "outputs": [
        {
          "output_type": "stream",
          "text": [
            "ate_ipw~（IPW補正あり平均因果効果） = 0.446418111740009\n"
          ],
          "name": "stdout"
        }
      ]
    },
    {
      "cell_type": "markdown",
      "metadata": {
        "id": "d0SeZYg4p8R2",
        "colab_type": "text"
      },
      "source": [
        "### IPWによるATE算出について\n",
        "逆確率重み付き推定（Inverse Probability Weighting:IPW）は傾向スコアをサンプルの重みとして、与えられたデータ全体での介入を受けた場合の結果の期待値（$E[Y^{(1)}]$）と、介入を受けなかった場合の結果の期待値（$E[Y^{(0)}]$）を推定した後、期待値の差分を取ることで因果効果を推定する手法。<br>\n",
        "IPWを使い求めたATE（平均因果効果）を$\\hat{\\tau}_{IPW}$とすると以下の式で算出される。\n",
        "$$\\hat{\\tau}_{IPW} = \\sum_{i=1}^N \\frac{Y^{(1)}Z}{\\hat{P}(A)}/\\sum_{i=1}^N \\frac{Z}{\\hat{P}(A)}-\\sum_{i=1}^N \\frac{Y^{(0)}(1-Z)}{1-\\hat{P}(A)}/\\sum_{i=1}^N \\frac{1-Z}{1-\\hat{P}(A)}$$"
      ]
    },
    {
      "cell_type": "markdown",
      "metadata": {
        "id": "UKDJNFn9TkVk",
        "colab_type": "text"
      },
      "source": [
        "# （TODO）ロジスティック回帰モデルの精度が悪いのか、IPWで求めた因果効果が大きすぎるかもしれないので、多重回帰モデルで感度分析を行う"
      ]
    },
    {
      "cell_type": "code",
      "metadata": {
        "id": "b8JOvCYPqIQk",
        "colab_type": "code",
        "colab": {}
      },
      "source": [
        ""
      ],
      "execution_count": 0,
      "outputs": []
    }
  ]
}