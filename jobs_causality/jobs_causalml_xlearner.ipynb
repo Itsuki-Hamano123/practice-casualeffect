{
  "nbformat": 4,
  "nbformat_minor": 0,
  "metadata": {
    "colab": {
      "name": "jobs_causalml_xlearner.ipynb",
      "provenance": [],
      "collapsed_sections": [],
      "toc_visible": true,
      "authorship_tag": "ABX9TyO9X9scD8EllUVq1jO2XIvG",
      "include_colab_link": true
    },
    "kernelspec": {
      "name": "python3",
      "display_name": "Python 3"
    }
  },
  "cells": [
    {
      "cell_type": "markdown",
      "metadata": {
        "id": "view-in-github",
        "colab_type": "text"
      },
      "source": [
        "<a href=\"https://colab.research.google.com/github/Itsuki-Hamano123/practice-casualeffect/blob/master/jobs_causality/jobs_causalml_xlearner.ipynb\" target=\"_parent\"><img src=\"https://colab.research.google.com/assets/colab-badge.svg\" alt=\"Open In Colab\"/></a>"
      ]
    },
    {
      "cell_type": "code",
      "metadata": {
        "id": "ujBdp7uChDMD",
        "colab_type": "code",
        "colab": {
          "base_uri": "https://localhost:8080/",
          "height": 1000
        },
        "outputId": "ea180d10-a71d-42dd-fbc3-c4c78964b2cd"
      },
      "source": [
        "!pip install causalml"
      ],
      "execution_count": null,
      "outputs": [
        {
          "output_type": "stream",
          "text": [
            "Collecting causalml\n",
            "\u001b[?25l  Downloading https://files.pythonhosted.org/packages/50/7c/dd3c967b3bd8185c454fe7554f959914d2fb7674cb22467b64fa2b61fc67/causalml-0.8.0.tar.gz (3.8MB)\n",
            "\u001b[K     |████████████████████████████████| 3.9MB 99kB/s \n",
            "\u001b[?25hRequirement already satisfied: setuptools>=41.0.0 in /usr/local/lib/python3.6/dist-packages (from causalml) (49.1.0)\n",
            "Requirement already satisfied: pip>=10.0 in /usr/local/lib/python3.6/dist-packages (from causalml) (19.3.1)\n",
            "Requirement already satisfied: numpy>=0.16.0 in /usr/local/lib/python3.6/dist-packages (from causalml) (1.18.5)\n",
            "Requirement already satisfied: scipy==1.4.1 in /usr/local/lib/python3.6/dist-packages (from causalml) (1.4.1)\n",
            "Requirement already satisfied: matplotlib in /usr/local/lib/python3.6/dist-packages (from causalml) (3.2.2)\n",
            "Requirement already satisfied: pandas>=0.24.1 in /usr/local/lib/python3.6/dist-packages (from causalml) (1.0.5)\n",
            "Requirement already satisfied: scikit-learn>=0.22.0 in /usr/local/lib/python3.6/dist-packages (from causalml) (0.22.2.post1)\n",
            "Requirement already satisfied: statsmodels>=0.9.0 in /usr/local/lib/python3.6/dist-packages (from causalml) (0.10.2)\n",
            "Requirement already satisfied: seaborn in /usr/local/lib/python3.6/dist-packages (from causalml) (0.10.1)\n",
            "Requirement already satisfied: Cython>=0.28.0 in /usr/local/lib/python3.6/dist-packages (from causalml) (0.29.21)\n",
            "Requirement already satisfied: xgboost in /usr/local/lib/python3.6/dist-packages (from causalml) (0.90)\n",
            "Requirement already satisfied: pydotplus in /usr/local/lib/python3.6/dist-packages (from causalml) (2.0.2)\n",
            "Requirement already satisfied: tqdm in /usr/local/lib/python3.6/dist-packages (from causalml) (4.41.1)\n",
            "Collecting shap\n",
            "\u001b[?25l  Downloading https://files.pythonhosted.org/packages/a8/77/b504e43e21a2ba543a1ac4696718beb500cfa708af2fb57cb54ce299045c/shap-0.35.0.tar.gz (273kB)\n",
            "\u001b[K     |████████████████████████████████| 276kB 33.0MB/s \n",
            "\u001b[?25hRequirement already satisfied: dill in /usr/local/lib/python3.6/dist-packages (from causalml) (0.3.2)\n",
            "Requirement already satisfied: lightgbm in /usr/local/lib/python3.6/dist-packages (from causalml) (2.2.3)\n",
            "Collecting pygam\n",
            "\u001b[?25l  Downloading https://files.pythonhosted.org/packages/13/be/775033ef08a8945bec6ad7973b161ca909f852442e0d7cfb8d1a214de1ac/pygam-0.8.0-py2.py3-none-any.whl (1.8MB)\n",
            "\u001b[K     |████████████████████████████████| 1.8MB 31.2MB/s \n",
            "\u001b[?25hRequirement already satisfied: packaging in /usr/local/lib/python3.6/dist-packages (from causalml) (20.4)\n",
            "Requirement already satisfied: keras in /usr/local/lib/python3.6/dist-packages (from causalml) (2.3.1)\n",
            "Requirement already satisfied: tensorflow>=1.15.2 in /usr/local/lib/python3.6/dist-packages (from causalml) (2.2.0)\n",
            "Requirement already satisfied: cycler>=0.10 in /usr/local/lib/python3.6/dist-packages (from matplotlib->causalml) (0.10.0)\n",
            "Requirement already satisfied: kiwisolver>=1.0.1 in /usr/local/lib/python3.6/dist-packages (from matplotlib->causalml) (1.2.0)\n",
            "Requirement already satisfied: python-dateutil>=2.1 in /usr/local/lib/python3.6/dist-packages (from matplotlib->causalml) (2.8.1)\n",
            "Requirement already satisfied: pyparsing!=2.0.4,!=2.1.2,!=2.1.6,>=2.0.1 in /usr/local/lib/python3.6/dist-packages (from matplotlib->causalml) (2.4.7)\n",
            "Requirement already satisfied: pytz>=2017.2 in /usr/local/lib/python3.6/dist-packages (from pandas>=0.24.1->causalml) (2018.9)\n",
            "Requirement already satisfied: joblib>=0.11 in /usr/local/lib/python3.6/dist-packages (from scikit-learn>=0.22.0->causalml) (0.16.0)\n",
            "Requirement already satisfied: patsy>=0.4.0 in /usr/local/lib/python3.6/dist-packages (from statsmodels>=0.9.0->causalml) (0.5.1)\n",
            "Requirement already satisfied: progressbar2 in /usr/local/lib/python3.6/dist-packages (from pygam->causalml) (3.38.0)\n",
            "Requirement already satisfied: future in /usr/local/lib/python3.6/dist-packages (from pygam->causalml) (0.16.0)\n",
            "Requirement already satisfied: six in /usr/local/lib/python3.6/dist-packages (from packaging->causalml) (1.15.0)\n",
            "Requirement already satisfied: pyyaml in /usr/local/lib/python3.6/dist-packages (from keras->causalml) (3.13)\n",
            "Requirement already satisfied: keras-preprocessing>=1.0.5 in /usr/local/lib/python3.6/dist-packages (from keras->causalml) (1.1.2)\n",
            "Requirement already satisfied: keras-applications>=1.0.6 in /usr/local/lib/python3.6/dist-packages (from keras->causalml) (1.0.8)\n",
            "Requirement already satisfied: h5py in /usr/local/lib/python3.6/dist-packages (from keras->causalml) (2.10.0)\n",
            "Requirement already satisfied: opt-einsum>=2.3.2 in /usr/local/lib/python3.6/dist-packages (from tensorflow>=1.15.2->causalml) (3.3.0)\n",
            "Requirement already satisfied: grpcio>=1.8.6 in /usr/local/lib/python3.6/dist-packages (from tensorflow>=1.15.2->causalml) (1.30.0)\n",
            "Requirement already satisfied: wheel>=0.26; python_version >= \"3\" in /usr/local/lib/python3.6/dist-packages (from tensorflow>=1.15.2->causalml) (0.34.2)\n",
            "Requirement already satisfied: absl-py>=0.7.0 in /usr/local/lib/python3.6/dist-packages (from tensorflow>=1.15.2->causalml) (0.9.0)\n",
            "Requirement already satisfied: google-pasta>=0.1.8 in /usr/local/lib/python3.6/dist-packages (from tensorflow>=1.15.2->causalml) (0.2.0)\n",
            "Requirement already satisfied: protobuf>=3.8.0 in /usr/local/lib/python3.6/dist-packages (from tensorflow>=1.15.2->causalml) (3.12.2)\n",
            "Requirement already satisfied: astunparse==1.6.3 in /usr/local/lib/python3.6/dist-packages (from tensorflow>=1.15.2->causalml) (1.6.3)\n",
            "Requirement already satisfied: tensorboard<2.3.0,>=2.2.0 in /usr/local/lib/python3.6/dist-packages (from tensorflow>=1.15.2->causalml) (2.2.2)\n",
            "Requirement already satisfied: gast==0.3.3 in /usr/local/lib/python3.6/dist-packages (from tensorflow>=1.15.2->causalml) (0.3.3)\n",
            "Requirement already satisfied: tensorflow-estimator<2.3.0,>=2.2.0 in /usr/local/lib/python3.6/dist-packages (from tensorflow>=1.15.2->causalml) (2.2.0)\n",
            "Requirement already satisfied: wrapt>=1.11.1 in /usr/local/lib/python3.6/dist-packages (from tensorflow>=1.15.2->causalml) (1.12.1)\n",
            "Requirement already satisfied: termcolor>=1.1.0 in /usr/local/lib/python3.6/dist-packages (from tensorflow>=1.15.2->causalml) (1.1.0)\n",
            "Requirement already satisfied: python-utils>=2.3.0 in /usr/local/lib/python3.6/dist-packages (from progressbar2->pygam->causalml) (2.4.0)\n",
            "Requirement already satisfied: markdown>=2.6.8 in /usr/local/lib/python3.6/dist-packages (from tensorboard<2.3.0,>=2.2.0->tensorflow>=1.15.2->causalml) (3.2.2)\n",
            "Requirement already satisfied: werkzeug>=0.11.15 in /usr/local/lib/python3.6/dist-packages (from tensorboard<2.3.0,>=2.2.0->tensorflow>=1.15.2->causalml) (1.0.1)\n",
            "Requirement already satisfied: tensorboard-plugin-wit>=1.6.0 in /usr/local/lib/python3.6/dist-packages (from tensorboard<2.3.0,>=2.2.0->tensorflow>=1.15.2->causalml) (1.7.0)\n",
            "Requirement already satisfied: google-auth-oauthlib<0.5,>=0.4.1 in /usr/local/lib/python3.6/dist-packages (from tensorboard<2.3.0,>=2.2.0->tensorflow>=1.15.2->causalml) (0.4.1)\n",
            "Requirement already satisfied: requests<3,>=2.21.0 in /usr/local/lib/python3.6/dist-packages (from tensorboard<2.3.0,>=2.2.0->tensorflow>=1.15.2->causalml) (2.23.0)\n",
            "Requirement already satisfied: google-auth<2,>=1.6.3 in /usr/local/lib/python3.6/dist-packages (from tensorboard<2.3.0,>=2.2.0->tensorflow>=1.15.2->causalml) (1.17.2)\n",
            "Requirement already satisfied: importlib-metadata; python_version < \"3.8\" in /usr/local/lib/python3.6/dist-packages (from markdown>=2.6.8->tensorboard<2.3.0,>=2.2.0->tensorflow>=1.15.2->causalml) (1.7.0)\n",
            "Requirement already satisfied: requests-oauthlib>=0.7.0 in /usr/local/lib/python3.6/dist-packages (from google-auth-oauthlib<0.5,>=0.4.1->tensorboard<2.3.0,>=2.2.0->tensorflow>=1.15.2->causalml) (1.3.0)\n",
            "Requirement already satisfied: urllib3!=1.25.0,!=1.25.1,<1.26,>=1.21.1 in /usr/local/lib/python3.6/dist-packages (from requests<3,>=2.21.0->tensorboard<2.3.0,>=2.2.0->tensorflow>=1.15.2->causalml) (1.24.3)\n",
            "Requirement already satisfied: chardet<4,>=3.0.2 in /usr/local/lib/python3.6/dist-packages (from requests<3,>=2.21.0->tensorboard<2.3.0,>=2.2.0->tensorflow>=1.15.2->causalml) (3.0.4)\n",
            "Requirement already satisfied: idna<3,>=2.5 in /usr/local/lib/python3.6/dist-packages (from requests<3,>=2.21.0->tensorboard<2.3.0,>=2.2.0->tensorflow>=1.15.2->causalml) (2.10)\n",
            "Requirement already satisfied: certifi>=2017.4.17 in /usr/local/lib/python3.6/dist-packages (from requests<3,>=2.21.0->tensorboard<2.3.0,>=2.2.0->tensorflow>=1.15.2->causalml) (2020.6.20)\n",
            "Requirement already satisfied: cachetools<5.0,>=2.0.0 in /usr/local/lib/python3.6/dist-packages (from google-auth<2,>=1.6.3->tensorboard<2.3.0,>=2.2.0->tensorflow>=1.15.2->causalml) (4.1.1)\n",
            "Requirement already satisfied: pyasn1-modules>=0.2.1 in /usr/local/lib/python3.6/dist-packages (from google-auth<2,>=1.6.3->tensorboard<2.3.0,>=2.2.0->tensorflow>=1.15.2->causalml) (0.2.8)\n",
            "Requirement already satisfied: rsa<5,>=3.1.4; python_version >= \"3\" in /usr/local/lib/python3.6/dist-packages (from google-auth<2,>=1.6.3->tensorboard<2.3.0,>=2.2.0->tensorflow>=1.15.2->causalml) (4.6)\n",
            "Requirement already satisfied: zipp>=0.5 in /usr/local/lib/python3.6/dist-packages (from importlib-metadata; python_version < \"3.8\"->markdown>=2.6.8->tensorboard<2.3.0,>=2.2.0->tensorflow>=1.15.2->causalml) (3.1.0)\n",
            "Requirement already satisfied: oauthlib>=3.0.0 in /usr/local/lib/python3.6/dist-packages (from requests-oauthlib>=0.7.0->google-auth-oauthlib<0.5,>=0.4.1->tensorboard<2.3.0,>=2.2.0->tensorflow>=1.15.2->causalml) (3.1.0)\n",
            "Requirement already satisfied: pyasn1<0.5.0,>=0.4.6 in /usr/local/lib/python3.6/dist-packages (from pyasn1-modules>=0.2.1->google-auth<2,>=1.6.3->tensorboard<2.3.0,>=2.2.0->tensorflow>=1.15.2->causalml) (0.4.8)\n",
            "Building wheels for collected packages: causalml, shap\n",
            "  Building wheel for causalml (setup.py) ... \u001b[?25l\u001b[?25hdone\n",
            "  Created wheel for causalml: filename=causalml-0.8.0-cp36-cp36m-linux_x86_64.whl size=482052 sha256=68f8402d71e18e46755465e450e70c1dc1d833fc7e53231633affdea2a1ddfa1\n",
            "  Stored in directory: /root/.cache/pip/wheels/db/d8/1f/c5c57e0a0a1e2d597da3b4b73f26a0365874e363bb1b57db41\n",
            "  Building wheel for shap (setup.py) ... \u001b[?25l\u001b[?25hdone\n",
            "  Created wheel for shap: filename=shap-0.35.0-cp36-cp36m-linux_x86_64.whl size=394120 sha256=8a3adf6a8a900196dc64b0fd5b9b6462db05e656730e5a10ad257aeee29a41dd\n",
            "  Stored in directory: /root/.cache/pip/wheels/e7/f7/0f/b57055080cf8894906b3bd3616d2fc2bfd0b12d5161bcb24ac\n",
            "Successfully built causalml shap\n",
            "Installing collected packages: shap, pygam, causalml\n",
            "Successfully installed causalml-0.8.0 pygam-0.8.0 shap-0.35.0\n"
          ],
          "name": "stdout"
        }
      ]
    },
    {
      "cell_type": "code",
      "metadata": {
        "id": "y_f2q5jHhOt2",
        "colab_type": "code",
        "colab": {
          "base_uri": "https://localhost:8080/",
          "height": 145
        },
        "outputId": "b3d86884-8dfa-46e8-a88d-7831377007b5"
      },
      "source": [
        "from google.colab import drive\n",
        "drive.mount('/gdrive')\n",
        "%cd /gdrive"
      ],
      "execution_count": null,
      "outputs": [
        {
          "output_type": "stream",
          "text": [
            "Go to this URL in a browser: https://accounts.google.com/o/oauth2/auth?client_id=947318989803-6bn6qk8qdgf4n4g3pfee6491hc0brc4i.apps.googleusercontent.com&redirect_uri=urn%3aietf%3awg%3aoauth%3a2.0%3aoob&response_type=code&scope=email%20https%3a%2f%2fwww.googleapis.com%2fauth%2fdocs.test%20https%3a%2f%2fwww.googleapis.com%2fauth%2fdrive%20https%3a%2f%2fwww.googleapis.com%2fauth%2fdrive.photos.readonly%20https%3a%2f%2fwww.googleapis.com%2fauth%2fpeopleapi.readonly\n",
            "\n",
            "Enter your authorization code:\n",
            "··········\n",
            "Mounted at /gdrive\n",
            "/gdrive\n"
          ],
          "name": "stdout"
        }
      ]
    },
    {
      "cell_type": "code",
      "metadata": {
        "id": "KmwguKuShibC",
        "colab_type": "code",
        "colab": {
          "base_uri": "https://localhost:8080/",
          "height": 53
        },
        "outputId": "6b8a861a-cadb-4d89-b171-c734847bd0e6"
      },
      "source": [
        "%cd /gdrive/My Drive/機械学習練習/統計的因果推論/因果推論実践用/jobs_causality\n",
        "%ls"
      ],
      "execution_count": null,
      "outputs": [
        {
          "output_type": "stream",
          "text": [
            "/gdrive/My Drive/機械学習練習/統計的因果推論/因果推論実践用/jobs_causality\n",
            "\u001b[0m\u001b[01;34mdataset\u001b[0m/  jobs_causalml_xlearner.ipynb  jobs_rct_causalml_xlearner.ipynb\n"
          ],
          "name": "stdout"
        }
      ]
    },
    {
      "cell_type": "markdown",
      "metadata": {
        "id": "xgaH0ChhhuPo",
        "colab_type": "text"
      },
      "source": [
        "# 職業訓練データセットでCausalmlの練習"
      ]
    },
    {
      "cell_type": "code",
      "metadata": {
        "id": "fTqNaNDFhNhV",
        "colab_type": "code",
        "colab": {}
      },
      "source": [
        "import os\n",
        "\n",
        "import matplotlib.pyplot as plt\n",
        "import numpy as np\n",
        "import pandas as pd\n",
        "\n",
        "from causalml.inference.meta import BaseXRegressor, XGBTRegressor, \n",
        "from causalml.metrics import get_tmlegain, plot_tmlegain, plot_tmleqini, Sensitivity\n",
        "from sklearn.model_selection import train_test_split\n",
        "from xgboost import XGBRegressor, XGBClassifier"
      ],
      "execution_count": null,
      "outputs": []
    },
    {
      "cell_type": "markdown",
      "metadata": {
        "id": "xhdfHJivh8_S",
        "colab_type": "text"
      },
      "source": [
        "## 職業訓練データセット読み込み\n",
        "**職業訓練を受けた人は、収入がどのくらい増加/減少するのか因果分析**<br>\n",
        "Lalondeが分析した職業訓練データセットの詳細について：[http://users.nber.org/~rdehejia/nswdata.html](http://users.nber.org/~rdehejia/nswdata.html)"
      ]
    },
    {
      "cell_type": "markdown",
      "metadata": {
        "id": "8UspiAXKg7Cr",
        "colab_type": "text"
      },
      "source": [
        "Dataset description\n",
        "* treat: 1 if the subject participated in the job  training program, 0 otherwise\n",
        "* age: the subject's age\n",
        "* educ: years of education\n",
        "* race: categorical variable with three possible values: Black, Hispanic, or White\n",
        "* married: 1 if the subject was married at the time of the training program, 0 otherwise\n",
        "* nodegree: 1 if the subject has earned no school degree, 0 otherwise\n",
        "* re74: real earnings in 1974 (pre-treatment)\n",
        "* re75: real earnings in 1975 (pre-treatment)\n",
        "* re78: real earnings in 1978 (outcome)"
      ]
    },
    {
      "cell_type": "code",
      "metadata": {
        "id": "FksomhiZh_P1",
        "colab_type": "code",
        "colab": {
          "base_uri": "https://localhost:8080/",
          "height": 256
        },
        "outputId": "1249e284-9cb2-4111-8984-8bca550ef39b"
      },
      "source": [
        "csv_path = 'dataset/lalonde.csv'\n",
        "df= pd.read_csv(csv_path)\n",
        "\n",
        "OUTCOME_COLUMN = 're78'\n",
        "TREATMENT_COLUMN = 'treat'\n",
        "UNNECESSARY_COLUMNS = [\"id\"]\n",
        "FEATURE_COLUMNS = list(df.drop(columns=[OUTCOME_COLUMN, TREATMENT_COLUMN]+UNNECESSARY_COLUMNS).columns)\n",
        "\n",
        "print('outcome:{col}'.format(col=OUTCOME_COLUMN))\n",
        "print('treatment:{col}'.format(col=TREATMENT_COLUMN))\n",
        "print('features:{cols}'.format(cols=FEATURE_COLUMNS))\n",
        "df.head()"
      ],
      "execution_count": null,
      "outputs": [
        {
          "output_type": "stream",
          "text": [
            "outcome:re78\n",
            "treatment:treat\n",
            "features:['age', 'educ', 'black', 'hispan', 'married', 'nodegree', 're74', 're75']\n"
          ],
          "name": "stdout"
        },
        {
          "output_type": "execute_result",
          "data": {
            "text/html": [
              "<div>\n",
              "<style scoped>\n",
              "    .dataframe tbody tr th:only-of-type {\n",
              "        vertical-align: middle;\n",
              "    }\n",
              "\n",
              "    .dataframe tbody tr th {\n",
              "        vertical-align: top;\n",
              "    }\n",
              "\n",
              "    .dataframe thead th {\n",
              "        text-align: right;\n",
              "    }\n",
              "</style>\n",
              "<table border=\"1\" class=\"dataframe\">\n",
              "  <thead>\n",
              "    <tr style=\"text-align: right;\">\n",
              "      <th></th>\n",
              "      <th>id</th>\n",
              "      <th>treat</th>\n",
              "      <th>age</th>\n",
              "      <th>educ</th>\n",
              "      <th>black</th>\n",
              "      <th>hispan</th>\n",
              "      <th>married</th>\n",
              "      <th>nodegree</th>\n",
              "      <th>re74</th>\n",
              "      <th>re75</th>\n",
              "      <th>re78</th>\n",
              "    </tr>\n",
              "  </thead>\n",
              "  <tbody>\n",
              "    <tr>\n",
              "      <th>0</th>\n",
              "      <td>NSW1</td>\n",
              "      <td>1</td>\n",
              "      <td>37</td>\n",
              "      <td>11</td>\n",
              "      <td>1</td>\n",
              "      <td>0</td>\n",
              "      <td>1</td>\n",
              "      <td>1</td>\n",
              "      <td>0.0</td>\n",
              "      <td>0.0</td>\n",
              "      <td>9930.0460</td>\n",
              "    </tr>\n",
              "    <tr>\n",
              "      <th>1</th>\n",
              "      <td>NSW2</td>\n",
              "      <td>1</td>\n",
              "      <td>22</td>\n",
              "      <td>9</td>\n",
              "      <td>0</td>\n",
              "      <td>1</td>\n",
              "      <td>0</td>\n",
              "      <td>1</td>\n",
              "      <td>0.0</td>\n",
              "      <td>0.0</td>\n",
              "      <td>3595.8940</td>\n",
              "    </tr>\n",
              "    <tr>\n",
              "      <th>2</th>\n",
              "      <td>NSW3</td>\n",
              "      <td>1</td>\n",
              "      <td>30</td>\n",
              "      <td>12</td>\n",
              "      <td>1</td>\n",
              "      <td>0</td>\n",
              "      <td>0</td>\n",
              "      <td>0</td>\n",
              "      <td>0.0</td>\n",
              "      <td>0.0</td>\n",
              "      <td>24909.4500</td>\n",
              "    </tr>\n",
              "    <tr>\n",
              "      <th>3</th>\n",
              "      <td>NSW4</td>\n",
              "      <td>1</td>\n",
              "      <td>27</td>\n",
              "      <td>11</td>\n",
              "      <td>1</td>\n",
              "      <td>0</td>\n",
              "      <td>0</td>\n",
              "      <td>1</td>\n",
              "      <td>0.0</td>\n",
              "      <td>0.0</td>\n",
              "      <td>7506.1460</td>\n",
              "    </tr>\n",
              "    <tr>\n",
              "      <th>4</th>\n",
              "      <td>NSW5</td>\n",
              "      <td>1</td>\n",
              "      <td>33</td>\n",
              "      <td>8</td>\n",
              "      <td>1</td>\n",
              "      <td>0</td>\n",
              "      <td>0</td>\n",
              "      <td>1</td>\n",
              "      <td>0.0</td>\n",
              "      <td>0.0</td>\n",
              "      <td>289.7899</td>\n",
              "    </tr>\n",
              "  </tbody>\n",
              "</table>\n",
              "</div>"
            ],
            "text/plain": [
              "     id  treat  age  educ  black  ...  married  nodegree  re74  re75        re78\n",
              "0  NSW1      1   37    11      1  ...        1         1   0.0   0.0   9930.0460\n",
              "1  NSW2      1   22     9      0  ...        0         1   0.0   0.0   3595.8940\n",
              "2  NSW3      1   30    12      1  ...        0         0   0.0   0.0  24909.4500\n",
              "3  NSW4      1   27    11      1  ...        0         1   0.0   0.0   7506.1460\n",
              "4  NSW5      1   33     8      1  ...        0         1   0.0   0.0    289.7899\n",
              "\n",
              "[5 rows x 11 columns]"
            ]
          },
          "metadata": {
            "tags": []
          },
          "execution_count": 7
        }
      ]
    },
    {
      "cell_type": "code",
      "metadata": {
        "id": "3NQ_jzolkwIR",
        "colab_type": "code",
        "colab": {
          "base_uri": "https://localhost:8080/",
          "height": 314
        },
        "outputId": "48660d9d-d3e0-4678-b104-32b6e7a125a7"
      },
      "source": [
        "df.describe()"
      ],
      "execution_count": null,
      "outputs": [
        {
          "output_type": "execute_result",
          "data": {
            "text/html": [
              "<div>\n",
              "<style scoped>\n",
              "    .dataframe tbody tr th:only-of-type {\n",
              "        vertical-align: middle;\n",
              "    }\n",
              "\n",
              "    .dataframe tbody tr th {\n",
              "        vertical-align: top;\n",
              "    }\n",
              "\n",
              "    .dataframe thead th {\n",
              "        text-align: right;\n",
              "    }\n",
              "</style>\n",
              "<table border=\"1\" class=\"dataframe\">\n",
              "  <thead>\n",
              "    <tr style=\"text-align: right;\">\n",
              "      <th></th>\n",
              "      <th>treat</th>\n",
              "      <th>age</th>\n",
              "      <th>educ</th>\n",
              "      <th>black</th>\n",
              "      <th>hispan</th>\n",
              "      <th>married</th>\n",
              "      <th>nodegree</th>\n",
              "      <th>re74</th>\n",
              "      <th>re75</th>\n",
              "      <th>re78</th>\n",
              "    </tr>\n",
              "  </thead>\n",
              "  <tbody>\n",
              "    <tr>\n",
              "      <th>count</th>\n",
              "      <td>614.000000</td>\n",
              "      <td>614.000000</td>\n",
              "      <td>614.000000</td>\n",
              "      <td>614.000000</td>\n",
              "      <td>614.000000</td>\n",
              "      <td>614.000000</td>\n",
              "      <td>614.000000</td>\n",
              "      <td>614.000000</td>\n",
              "      <td>614.000000</td>\n",
              "      <td>614.000000</td>\n",
              "    </tr>\n",
              "    <tr>\n",
              "      <th>mean</th>\n",
              "      <td>0.301303</td>\n",
              "      <td>27.363192</td>\n",
              "      <td>10.268730</td>\n",
              "      <td>0.395765</td>\n",
              "      <td>0.117264</td>\n",
              "      <td>0.415309</td>\n",
              "      <td>0.630293</td>\n",
              "      <td>4557.546569</td>\n",
              "      <td>2184.938207</td>\n",
              "      <td>6792.834483</td>\n",
              "    </tr>\n",
              "    <tr>\n",
              "      <th>std</th>\n",
              "      <td>0.459198</td>\n",
              "      <td>9.881187</td>\n",
              "      <td>2.628325</td>\n",
              "      <td>0.489413</td>\n",
              "      <td>0.321997</td>\n",
              "      <td>0.493177</td>\n",
              "      <td>0.483119</td>\n",
              "      <td>6477.964479</td>\n",
              "      <td>3295.679043</td>\n",
              "      <td>7470.730792</td>\n",
              "    </tr>\n",
              "    <tr>\n",
              "      <th>min</th>\n",
              "      <td>0.000000</td>\n",
              "      <td>16.000000</td>\n",
              "      <td>0.000000</td>\n",
              "      <td>0.000000</td>\n",
              "      <td>0.000000</td>\n",
              "      <td>0.000000</td>\n",
              "      <td>0.000000</td>\n",
              "      <td>0.000000</td>\n",
              "      <td>0.000000</td>\n",
              "      <td>0.000000</td>\n",
              "    </tr>\n",
              "    <tr>\n",
              "      <th>25%</th>\n",
              "      <td>0.000000</td>\n",
              "      <td>20.000000</td>\n",
              "      <td>9.000000</td>\n",
              "      <td>0.000000</td>\n",
              "      <td>0.000000</td>\n",
              "      <td>0.000000</td>\n",
              "      <td>0.000000</td>\n",
              "      <td>0.000000</td>\n",
              "      <td>0.000000</td>\n",
              "      <td>238.283425</td>\n",
              "    </tr>\n",
              "    <tr>\n",
              "      <th>50%</th>\n",
              "      <td>0.000000</td>\n",
              "      <td>25.000000</td>\n",
              "      <td>11.000000</td>\n",
              "      <td>0.000000</td>\n",
              "      <td>0.000000</td>\n",
              "      <td>0.000000</td>\n",
              "      <td>1.000000</td>\n",
              "      <td>1042.330000</td>\n",
              "      <td>601.548400</td>\n",
              "      <td>4759.018500</td>\n",
              "    </tr>\n",
              "    <tr>\n",
              "      <th>75%</th>\n",
              "      <td>1.000000</td>\n",
              "      <td>32.000000</td>\n",
              "      <td>12.000000</td>\n",
              "      <td>1.000000</td>\n",
              "      <td>0.000000</td>\n",
              "      <td>1.000000</td>\n",
              "      <td>1.000000</td>\n",
              "      <td>7888.498250</td>\n",
              "      <td>3248.987500</td>\n",
              "      <td>10893.592500</td>\n",
              "    </tr>\n",
              "    <tr>\n",
              "      <th>max</th>\n",
              "      <td>1.000000</td>\n",
              "      <td>55.000000</td>\n",
              "      <td>18.000000</td>\n",
              "      <td>1.000000</td>\n",
              "      <td>1.000000</td>\n",
              "      <td>1.000000</td>\n",
              "      <td>1.000000</td>\n",
              "      <td>35040.070000</td>\n",
              "      <td>25142.240000</td>\n",
              "      <td>60307.930000</td>\n",
              "    </tr>\n",
              "  </tbody>\n",
              "</table>\n",
              "</div>"
            ],
            "text/plain": [
              "            treat         age  ...          re75          re78\n",
              "count  614.000000  614.000000  ...    614.000000    614.000000\n",
              "mean     0.301303   27.363192  ...   2184.938207   6792.834483\n",
              "std      0.459198    9.881187  ...   3295.679043   7470.730792\n",
              "min      0.000000   16.000000  ...      0.000000      0.000000\n",
              "25%      0.000000   20.000000  ...      0.000000    238.283425\n",
              "50%      0.000000   25.000000  ...    601.548400   4759.018500\n",
              "75%      1.000000   32.000000  ...   3248.987500  10893.592500\n",
              "max      1.000000   55.000000  ...  25142.240000  60307.930000\n",
              "\n",
              "[8 rows x 10 columns]"
            ]
          },
          "metadata": {
            "tags": []
          },
          "execution_count": 8
        }
      ]
    },
    {
      "cell_type": "markdown",
      "metadata": {
        "id": "zIzmRJM-8Nih",
        "colab_type": "text"
      },
      "source": [
        "### 単純な平均値の比較"
      ]
    },
    {
      "cell_type": "code",
      "metadata": {
        "id": "AxTqC5Qj8dKR",
        "colab_type": "code",
        "colab": {
          "base_uri": "https://localhost:8080/",
          "height": 71
        },
        "outputId": "d519f9ba-0423-4435-a430-84b968b03f44"
      },
      "source": [
        "control_group = df.query(TREATMENT_COLUMN + '==0')[OUTCOME_COLUMN].mean()\n",
        "treatment_group = df.query(TREATMENT_COLUMN + '==1')[OUTCOME_COLUMN].mean()\n",
        "print('介入群のアウトカムの平均値:{}'.format(control_group))\n",
        "print('コントロール群のアウトカムの平均値:{}'.format(treatment_group))\n",
        "print('単純な平均値の差:{}'.format(treatment_group-control_group))"
      ],
      "execution_count": null,
      "outputs": [
        {
          "output_type": "stream",
          "text": [
            "介入群のアウトカムの平均値:6984.169742307697\n",
            "コントロール群のアウトカムの平均値:6349.143530270269\n",
            "単純な平均値の差:-635.0262120374273\n"
          ],
          "name": "stdout"
        }
      ]
    },
    {
      "cell_type": "markdown",
      "metadata": {
        "id": "jAwlU2gU_sPd",
        "colab_type": "text"
      },
      "source": [
        "今回求めた推定量を$\\hat{\\tau}_{naive}$と置くと\n",
        "$$\\hat{\\tau}_{naive} = E[Y^{(1)}|t=1]-E[Y^{(0)}|t=0]$$\n",
        "$$=E[Y^{(1)}-Y^{(0)}]+E[Y^{(0)}|t=1]-E[Y^{(0)}|t=0]$$\n",
        "セレクションバイアスが生じているため、**単純な平均値の差の比較**では望ましくない因果効果の算出方法であることが分かる。<br>\n",
        "<font color=\"Red\">（今回のデータセットについては、単純に平均値の差分を取ると、セレクションバイアスにより職業訓練がその後の収入を下げる効果があるという結果が得られてしまう</font>"
      ]
    },
    {
      "cell_type": "code",
      "metadata": {
        "id": "q9ySgXrWlMti",
        "colab_type": "code",
        "colab": {
          "base_uri": "https://localhost:8080/",
          "height": 89
        },
        "outputId": "a84adbd1-e290-49a6-d43e-a62b78e84385"
      },
      "source": [
        "SEED = 2\n",
        "\n",
        "data = df.drop(columns=UNNECESSARY_COLUMNS)\n",
        "\n",
        "train_X, test_X, train_y, test_y = train_test_split(data.drop(columns=OUTCOME_COLUMN).values, data[OUTCOME_COLUMN].values,\n",
        "                                                    test_size=0.2, random_state=SEED)\n",
        "train_X, val_X, train_y, val_y = train_test_split(train_X, train_y,\n",
        "                                                  test_size=0.2, random_state=SEED)\n",
        "# t:treatment(介入変数)の取り出し\n",
        "train_t = train_X[:,0].astype(int)\n",
        "train_X = train_X[:,1:]\n",
        "val_t = val_X[:,0].astype(int)\n",
        "val_X = val_X[:,1:]\n",
        "test_t = test_X[:,0].astype(int)\n",
        "test_X = test_X[:,1:]\n",
        "\n",
        "print('data.shape:{}'.format(data.shape))\n",
        "print('train_X:{}, train_t:{}, train_y:{}'.format(train_X.shape, train_t.shape, train_y.shape))\n",
        "print('val_X:{}, val_t:{}, val_y:{}'.format(val_X.shape, val_t.shape, val_y.shape))\n",
        "print(('test_X:{}, test_t:{}, test_y:{}'.format(test_X.shape, test_t.shape, test_y.shape)))"
      ],
      "execution_count": null,
      "outputs": [
        {
          "output_type": "stream",
          "text": [
            "data.shape:(614, 10)\n",
            "train_X:(392, 8), train_t:(392,), train_y:(392,)\n",
            "val_X:(99, 8), val_t:(99,), val_y:(99,)\n",
            "test_X:(123, 8), test_t:(123,), test_y:(123,)\n"
          ],
          "name": "stdout"
        }
      ]
    },
    {
      "cell_type": "markdown",
      "metadata": {
        "id": "3zrz2PgKnhFs",
        "colab_type": "text"
      },
      "source": [
        "## 傾向スコアモデル作成"
      ]
    },
    {
      "cell_type": "code",
      "metadata": {
        "id": "1aB3n1S7nRTh",
        "colab_type": "code",
        "colab": {
          "base_uri": "https://localhost:8080/",
          "height": 341
        },
        "outputId": "3610459b-42ab-491f-8aa6-c34403bc242a"
      },
      "source": [
        "# causalmlで使用できるElasticNetPropensityModelでは内部でsklearn.linear_model.ElasticNetCVが使われている\n",
        "# ElasticNetPropensityModelでは検証用データを使えなさそうなので、過学習を防ぐためにも今回はxgboostを使用\n",
        "# ps：propensity score(傾向スコア)\n",
        "ps_model = XGBClassifier(random_state=SEED)\n",
        "# 目的変数をTreatmentとして学習\n",
        "ps_model.fit(X=train_X, y=train_t, eval_set=[(val_X, val_t)],\n",
        "             early_stopping_rounds=5)\n",
        "\n",
        "# 傾向スコア算出\n",
        "train_ps = ps_model.predict_proba(data=train_X)[:,1]\n",
        "val_ps = ps_model.predict_proba(data=val_X)[:,1]\n",
        "print('train_ps:{}, val_ps:{}'.format(train_ps.shape, val_ps.shape))\n",
        "print('train_ps[:5]:{}'.format(train_ps[:5]))"
      ],
      "execution_count": null,
      "outputs": [
        {
          "output_type": "stream",
          "text": [
            "[0]\tvalidation_0-error:0.181818\n",
            "Will train until validation_0-error hasn't improved in 5 rounds.\n",
            "[1]\tvalidation_0-error:0.171717\n",
            "[2]\tvalidation_0-error:0.161616\n",
            "[3]\tvalidation_0-error:0.161616\n",
            "[4]\tvalidation_0-error:0.161616\n",
            "[5]\tvalidation_0-error:0.161616\n",
            "[6]\tvalidation_0-error:0.151515\n",
            "[7]\tvalidation_0-error:0.161616\n",
            "[8]\tvalidation_0-error:0.161616\n",
            "[9]\tvalidation_0-error:0.161616\n",
            "[10]\tvalidation_0-error:0.161616\n",
            "[11]\tvalidation_0-error:0.161616\n",
            "Stopping. Best iteration:\n",
            "[6]\tvalidation_0-error:0.151515\n",
            "\n",
            "train_ps:(392,), val_ps:(99,)\n",
            "train_ps[:5]:[0.2567932  0.66210157 0.63644516 0.66210157 0.5567844 ]\n"
          ],
          "name": "stdout"
        }
      ]
    },
    {
      "cell_type": "code",
      "metadata": {
        "id": "0TBfW-1DMjuP",
        "colab_type": "code",
        "colab": {
          "base_uri": "https://localhost:8080/",
          "height": 35
        },
        "outputId": "4e540b46-8c9c-421c-9e03-cef3c0cae7ec"
      },
      "source": [
        "test_ps_score = ps_model.score(X=test_X, y=test_t)\n",
        "print('テストデータに対する傾向スコアモデルの精度:{score}'.format(score=test_ps_score))"
      ],
      "execution_count": null,
      "outputs": [
        {
          "output_type": "stream",
          "text": [
            "テストデータに対する傾向スコアモデルの精度:0.8617886178861789\n"
          ],
          "name": "stdout"
        }
      ]
    },
    {
      "cell_type": "markdown",
      "metadata": {
        "id": "mqx9D521xB1W",
        "colab_type": "text"
      },
      "source": [
        "## MetaLearnerモデル作成"
      ]
    },
    {
      "cell_type": "code",
      "metadata": {
        "id": "SfBenOmwyNdf",
        "colab_type": "code",
        "colab": {
          "base_uri": "https://localhost:8080/",
          "height": 35
        },
        "outputId": "98013b9d-69b5-410b-9b66-a64ddf1d083b"
      },
      "source": [
        "# 観測されたアウトカムから反事実を予測するMetaLearnerモデルを構築していく\n",
        "# 一般的なMLの学習タスクと異なり、正解に反事実が含まれるためmae,val_loss等を算出できない\n",
        "# 今回は、傾向スコアモデル学習時と異なり、学習データを少しでも水増しさせるため検証データを加える\n",
        "learner_train_X = np.concatenate([train_X, val_X])\n",
        "learner_train_t = np.concatenate([train_t, val_t])\n",
        "learner_train_y = np.concatenate([train_y, val_y])\n",
        "learner_train_ps = np.concatenate([train_ps, val_ps])\n",
        "print('learner_train_ps:{}'.format(learner_train_ps.shape))"
      ],
      "execution_count": null,
      "outputs": [
        {
          "output_type": "stream",
          "text": [
            "learner_train_ps:(491,)\n"
          ],
          "name": "stdout"
        }
      ]
    },
    {
      "cell_type": "code",
      "metadata": {
        "id": "WkVBRwHXvuEl",
        "colab_type": "code",
        "colab": {
          "base_uri": "https://localhost:8080/",
          "height": 145
        },
        "outputId": "bf1d9651-5f5d-4c5b-b941-fb65496e7e27"
      },
      "source": [
        "%%time\n",
        "x_learner = BaseXRegressor(XGBRegressor(n_estimators=1000,random_state=SEED))\n",
        "\n",
        "x_learner.fit(X=learner_train_X, treatment=learner_train_t, \n",
        "              y=learner_train_y, p=learner_train_ps)"
      ],
      "execution_count": null,
      "outputs": [
        {
          "output_type": "stream",
          "text": [
            "[00:58:16] WARNING: /workspace/src/objective/regression_obj.cu:152: reg:linear is now deprecated in favor of reg:squarederror.\n",
            "[00:58:16] WARNING: /workspace/src/objective/regression_obj.cu:152: reg:linear is now deprecated in favor of reg:squarederror.\n",
            "[00:58:16] WARNING: /workspace/src/objective/regression_obj.cu:152: reg:linear is now deprecated in favor of reg:squarederror.\n",
            "[00:58:17] WARNING: /workspace/src/objective/regression_obj.cu:152: reg:linear is now deprecated in favor of reg:squarederror.\n",
            "CPU times: user 654 ms, sys: 16.3 ms, total: 670 ms\n",
            "Wall time: 680 ms\n"
          ],
          "name": "stdout"
        }
      ]
    },
    {
      "cell_type": "code",
      "metadata": {
        "id": "npmsdIxKn3A7",
        "colab_type": "code",
        "colab": {
          "base_uri": "https://localhost:8080/",
          "height": 109
        },
        "outputId": "5d20c1a1-598a-4ba3-d743-292a250630dc"
      },
      "source": [
        "%%time\n",
        "t_learner = XGBTRegressor(ate_alpha=0.05, n_estimators=1000, random_state=SEED)\n",
        "t_learner.fit(X=learner_train_X, treatment=learner_train_t, y=learner_train_y)"
      ],
      "execution_count": null,
      "outputs": [
        {
          "output_type": "stream",
          "text": [
            "[01:17:37] WARNING: /workspace/src/objective/regression_obj.cu:152: reg:linear is now deprecated in favor of reg:squarederror.\n",
            "[01:17:38] WARNING: /workspace/src/objective/regression_obj.cu:152: reg:linear is now deprecated in favor of reg:squarederror.\n",
            "CPU times: user 311 ms, sys: 9.61 ms, total: 320 ms\n",
            "Wall time: 320 ms\n"
          ],
          "name": "stdout"
        }
      ]
    },
    {
      "cell_type": "markdown",
      "metadata": {
        "id": "JLa6Y7Tc3xPX",
        "colab_type": "text"
      },
      "source": [
        "## 予測結果の確認\n",
        "公式チュートリアルで構築されたモデルの予測結果[https://github.com/uber/causalml/blob/master/examples/dragonnet_example.ipynb](https://github.com/uber/causalml/blob/master/examples/dragonnet_example.ipynb)"
      ]
    },
    {
      "cell_type": "code",
      "metadata": {
        "id": "o3gNvv4A7znp",
        "colab_type": "code",
        "colab": {
          "base_uri": "https://localhost:8080/",
          "height": 35
        },
        "outputId": "4d7c64bd-1dc8-40a5-8a66-9ac8801690a5"
      },
      "source": [
        "# 解析対象となるデータ用意(学習/検証/テストデータの結合)\n",
        "learner_input_X = np.concatenate([train_X, val_X, test_X])\n",
        "learner_input_t = np.concatenate([train_t, val_t, test_t])\n",
        "learner_input_y = np.concatenate([train_y, val_y, test_y])\n",
        "\n",
        "test_ps = ps_model.predict_proba(test_X)[:,1]\n",
        "learner_input_ps = np.concatenate([train_ps, val_ps, test_ps])\n",
        "print('learner_input_ps:{}'.format(learner_input_ps.shape))"
      ],
      "execution_count": null,
      "outputs": [
        {
          "output_type": "stream",
          "text": [
            "learner_input_ps:(614,)\n"
          ],
          "name": "stdout"
        }
      ]
    },
    {
      "cell_type": "markdown",
      "metadata": {
        "id": "fl7IxIYR6HEN",
        "colab_type": "text"
      },
      "source": [
        "### ATE:AverageTreatmentEffect（平均因果効果）"
      ]
    },
    {
      "cell_type": "code",
      "metadata": {
        "id": "8_9xU6Ig0aqr",
        "colab_type": "code",
        "colab": {
          "base_uri": "https://localhost:8080/",
          "height": 181
        },
        "outputId": "76ac83f8-7006-46af-8d28-beef718051c7"
      },
      "source": [
        "%%time\n",
        "x_ate = x_learner.estimate_ate(X=learner_input_X, treatment=learner_input_t,\n",
        "                             y=learner_input_y, p=learner_input_ps)\n",
        "t_ate = t_learner.estimate_ate(X=learner_input_X, treatment=learner_input_t,\n",
        "                               y=learner_input_y)"
      ],
      "execution_count": null,
      "outputs": [
        {
          "output_type": "stream",
          "text": [
            "[01:17:40] WARNING: /workspace/src/objective/regression_obj.cu:152: reg:linear is now deprecated in favor of reg:squarederror.\n",
            "[01:17:40] WARNING: /workspace/src/objective/regression_obj.cu:152: reg:linear is now deprecated in favor of reg:squarederror.\n",
            "[01:17:40] WARNING: /workspace/src/objective/regression_obj.cu:152: reg:linear is now deprecated in favor of reg:squarederror.\n",
            "[01:17:41] WARNING: /workspace/src/objective/regression_obj.cu:152: reg:linear is now deprecated in favor of reg:squarederror.\n",
            "[01:17:41] WARNING: /workspace/src/objective/regression_obj.cu:152: reg:linear is now deprecated in favor of reg:squarederror.\n",
            "[01:17:41] WARNING: /workspace/src/objective/regression_obj.cu:152: reg:linear is now deprecated in favor of reg:squarederror.\n",
            "CPU times: user 1.2 s, sys: 28.5 ms, total: 1.23 s\n",
            "Wall time: 1.23 s\n"
          ],
          "name": "stdout"
        }
      ]
    },
    {
      "cell_type": "code",
      "metadata": {
        "id": "Gc5mbRaS2U1K",
        "colab_type": "code",
        "colab": {
          "base_uri": "https://localhost:8080/",
          "height": 125
        },
        "outputId": "f6fd6b41-5588-4a8c-a2e7-666c7d999f24"
      },
      "source": [
        "# ATE:AverageTreatmentEffectp\n",
        "print('x-learnerのATE:{ate}'.format(ate=x_ate[0][0]))\n",
        "print('信頼区間の下限値(LB):{lb}'.format(lb=x_ate[1][0]))\n",
        "print('信頼区間の上限値(UB):{ub}'.format(ub=x_ate[2][0]))\n",
        "print('t-learnerのATE:{ate}'.format(ate=t_ate[0][0]))\n",
        "print('信頼区間の下限値(LB):{lb}'.format(lb=t_ate[1][0]))\n",
        "print('信頼区間の上限値(UB):{ub}'.format(ub=t_ate[2][0]))"
      ],
      "execution_count": null,
      "outputs": [
        {
          "output_type": "stream",
          "text": [
            "x-learnerのATE:833.3525574774229\n",
            "信頼区間の下限値(LB):70.72747283452168\n",
            "信頼区間の上限値(UB):1595.9776421203242\n",
            "t-learnerのATE:-268.872274790214\n",
            "信頼区間の下限値(LB):-1160.6494286220998\n",
            "信頼区間の上限値(UB):622.9048790416716\n"
          ],
          "name": "stdout"
        }
      ]
    },
    {
      "cell_type": "markdown",
      "metadata": {
        "id": "11VY8Ywb6asr",
        "colab_type": "text"
      },
      "source": [
        "### ITE:IndividualTreatmentEffect（個別的因果効果）"
      ]
    },
    {
      "cell_type": "code",
      "metadata": {
        "id": "1rFfRPLl7P_J",
        "colab_type": "code",
        "colab": {
          "base_uri": "https://localhost:8080/",
          "height": 53
        },
        "outputId": "0768539d-f961-4570-f3c4-3ce9ab458414"
      },
      "source": [
        "%%time\n",
        "x_ite = x_learner.predict(X=learner_input_X, treatment=learner_input_t,\n",
        "                        y=learner_input_y, p=learner_input_ps)"
      ],
      "execution_count": null,
      "outputs": [
        {
          "output_type": "stream",
          "text": [
            "CPU times: user 54 ms, sys: 729 µs, total: 54.7 ms\n",
            "Wall time: 57.8 ms\n"
          ],
          "name": "stdout"
        }
      ]
    },
    {
      "cell_type": "code",
      "metadata": {
        "id": "nLm_Iyjk39lZ",
        "colab_type": "code",
        "colab": {
          "base_uri": "https://localhost:8080/",
          "height": 435
        },
        "outputId": "e7327768-3a33-4e0e-c4f6-5ea419740ed0"
      },
      "source": [
        "# ITE:IndividualTreatmentEffect\n",
        "insert_column = 'x_ITE'\n",
        "\n",
        "if insert_column in df.columns:\n",
        "  df.drop(columns=insert_column,inplace=True)\n",
        "df.insert(loc=0, column=insert_column, value=x_ite)\n",
        "df"
      ],
      "execution_count": null,
      "outputs": [
        {
          "output_type": "execute_result",
          "data": {
            "text/html": [
              "<div>\n",
              "<style scoped>\n",
              "    .dataframe tbody tr th:only-of-type {\n",
              "        vertical-align: middle;\n",
              "    }\n",
              "\n",
              "    .dataframe tbody tr th {\n",
              "        vertical-align: top;\n",
              "    }\n",
              "\n",
              "    .dataframe thead th {\n",
              "        text-align: right;\n",
              "    }\n",
              "</style>\n",
              "<table border=\"1\" class=\"dataframe\">\n",
              "  <thead>\n",
              "    <tr style=\"text-align: right;\">\n",
              "      <th></th>\n",
              "      <th>x_ITE</th>\n",
              "      <th>ps</th>\n",
              "      <th>t_ITE</th>\n",
              "      <th>id</th>\n",
              "      <th>treat</th>\n",
              "      <th>age</th>\n",
              "      <th>educ</th>\n",
              "      <th>black</th>\n",
              "      <th>hispan</th>\n",
              "      <th>married</th>\n",
              "      <th>nodegree</th>\n",
              "      <th>re74</th>\n",
              "      <th>re75</th>\n",
              "      <th>re78</th>\n",
              "    </tr>\n",
              "  </thead>\n",
              "  <tbody>\n",
              "    <tr>\n",
              "      <th>0</th>\n",
              "      <td>-1687.435669</td>\n",
              "      <td>0.256793</td>\n",
              "      <td>-1687.435669</td>\n",
              "      <td>NSW1</td>\n",
              "      <td>1</td>\n",
              "      <td>37</td>\n",
              "      <td>11</td>\n",
              "      <td>1</td>\n",
              "      <td>0</td>\n",
              "      <td>1</td>\n",
              "      <td>1</td>\n",
              "      <td>0.0</td>\n",
              "      <td>0.0</td>\n",
              "      <td>9930.0460</td>\n",
              "    </tr>\n",
              "    <tr>\n",
              "      <th>1</th>\n",
              "      <td>3245.366455</td>\n",
              "      <td>0.662102</td>\n",
              "      <td>3245.366455</td>\n",
              "      <td>NSW2</td>\n",
              "      <td>1</td>\n",
              "      <td>22</td>\n",
              "      <td>9</td>\n",
              "      <td>0</td>\n",
              "      <td>1</td>\n",
              "      <td>0</td>\n",
              "      <td>1</td>\n",
              "      <td>0.0</td>\n",
              "      <td>0.0</td>\n",
              "      <td>3595.8940</td>\n",
              "    </tr>\n",
              "    <tr>\n",
              "      <th>2</th>\n",
              "      <td>3929.312012</td>\n",
              "      <td>0.636445</td>\n",
              "      <td>3929.312012</td>\n",
              "      <td>NSW3</td>\n",
              "      <td>1</td>\n",
              "      <td>30</td>\n",
              "      <td>12</td>\n",
              "      <td>1</td>\n",
              "      <td>0</td>\n",
              "      <td>0</td>\n",
              "      <td>0</td>\n",
              "      <td>0.0</td>\n",
              "      <td>0.0</td>\n",
              "      <td>24909.4500</td>\n",
              "    </tr>\n",
              "    <tr>\n",
              "      <th>3</th>\n",
              "      <td>9288.609375</td>\n",
              "      <td>0.662102</td>\n",
              "      <td>9288.609375</td>\n",
              "      <td>NSW4</td>\n",
              "      <td>1</td>\n",
              "      <td>27</td>\n",
              "      <td>11</td>\n",
              "      <td>1</td>\n",
              "      <td>0</td>\n",
              "      <td>0</td>\n",
              "      <td>1</td>\n",
              "      <td>0.0</td>\n",
              "      <td>0.0</td>\n",
              "      <td>7506.1460</td>\n",
              "    </tr>\n",
              "    <tr>\n",
              "      <th>4</th>\n",
              "      <td>2050.707520</td>\n",
              "      <td>0.556784</td>\n",
              "      <td>2050.707520</td>\n",
              "      <td>NSW5</td>\n",
              "      <td>1</td>\n",
              "      <td>33</td>\n",
              "      <td>8</td>\n",
              "      <td>1</td>\n",
              "      <td>0</td>\n",
              "      <td>0</td>\n",
              "      <td>1</td>\n",
              "      <td>0.0</td>\n",
              "      <td>0.0</td>\n",
              "      <td>289.7899</td>\n",
              "    </tr>\n",
              "    <tr>\n",
              "      <th>...</th>\n",
              "      <td>...</td>\n",
              "      <td>...</td>\n",
              "      <td>...</td>\n",
              "      <td>...</td>\n",
              "      <td>...</td>\n",
              "      <td>...</td>\n",
              "      <td>...</td>\n",
              "      <td>...</td>\n",
              "      <td>...</td>\n",
              "      <td>...</td>\n",
              "      <td>...</td>\n",
              "      <td>...</td>\n",
              "      <td>...</td>\n",
              "      <td>...</td>\n",
              "    </tr>\n",
              "    <tr>\n",
              "      <th>609</th>\n",
              "      <td>5256.033203</td>\n",
              "      <td>0.512067</td>\n",
              "      <td>5256.033203</td>\n",
              "      <td>PSID425</td>\n",
              "      <td>0</td>\n",
              "      <td>18</td>\n",
              "      <td>11</td>\n",
              "      <td>0</td>\n",
              "      <td>0</td>\n",
              "      <td>0</td>\n",
              "      <td>1</td>\n",
              "      <td>0.0</td>\n",
              "      <td>0.0</td>\n",
              "      <td>10150.5000</td>\n",
              "    </tr>\n",
              "    <tr>\n",
              "      <th>610</th>\n",
              "      <td>1746.914551</td>\n",
              "      <td>0.288172</td>\n",
              "      <td>1746.914551</td>\n",
              "      <td>PSID426</td>\n",
              "      <td>0</td>\n",
              "      <td>24</td>\n",
              "      <td>1</td>\n",
              "      <td>0</td>\n",
              "      <td>1</td>\n",
              "      <td>1</td>\n",
              "      <td>1</td>\n",
              "      <td>0.0</td>\n",
              "      <td>0.0</td>\n",
              "      <td>19464.6100</td>\n",
              "    </tr>\n",
              "    <tr>\n",
              "      <th>611</th>\n",
              "      <td>-8735.042969</td>\n",
              "      <td>0.256793</td>\n",
              "      <td>-8735.042969</td>\n",
              "      <td>PSID427</td>\n",
              "      <td>0</td>\n",
              "      <td>21</td>\n",
              "      <td>18</td>\n",
              "      <td>0</td>\n",
              "      <td>0</td>\n",
              "      <td>0</td>\n",
              "      <td>0</td>\n",
              "      <td>0.0</td>\n",
              "      <td>0.0</td>\n",
              "      <td>0.0000</td>\n",
              "    </tr>\n",
              "    <tr>\n",
              "      <th>612</th>\n",
              "      <td>3587.343994</td>\n",
              "      <td>0.662102</td>\n",
              "      <td>3587.343994</td>\n",
              "      <td>PSID428</td>\n",
              "      <td>0</td>\n",
              "      <td>32</td>\n",
              "      <td>5</td>\n",
              "      <td>1</td>\n",
              "      <td>0</td>\n",
              "      <td>1</td>\n",
              "      <td>1</td>\n",
              "      <td>0.0</td>\n",
              "      <td>0.0</td>\n",
              "      <td>187.6713</td>\n",
              "    </tr>\n",
              "    <tr>\n",
              "      <th>613</th>\n",
              "      <td>-5494.321289</td>\n",
              "      <td>0.469429</td>\n",
              "      <td>-5494.321289</td>\n",
              "      <td>PSID429</td>\n",
              "      <td>0</td>\n",
              "      <td>16</td>\n",
              "      <td>9</td>\n",
              "      <td>0</td>\n",
              "      <td>0</td>\n",
              "      <td>0</td>\n",
              "      <td>1</td>\n",
              "      <td>0.0</td>\n",
              "      <td>0.0</td>\n",
              "      <td>1495.4590</td>\n",
              "    </tr>\n",
              "  </tbody>\n",
              "</table>\n",
              "<p>614 rows × 14 columns</p>\n",
              "</div>"
            ],
            "text/plain": [
              "           x_ITE        ps        t_ITE  ... re74  re75        re78\n",
              "0   -1687.435669  0.256793 -1687.435669  ...  0.0   0.0   9930.0460\n",
              "1    3245.366455  0.662102  3245.366455  ...  0.0   0.0   3595.8940\n",
              "2    3929.312012  0.636445  3929.312012  ...  0.0   0.0  24909.4500\n",
              "3    9288.609375  0.662102  9288.609375  ...  0.0   0.0   7506.1460\n",
              "4    2050.707520  0.556784  2050.707520  ...  0.0   0.0    289.7899\n",
              "..           ...       ...          ...  ...  ...   ...         ...\n",
              "609  5256.033203  0.512067  5256.033203  ...  0.0   0.0  10150.5000\n",
              "610  1746.914551  0.288172  1746.914551  ...  0.0   0.0  19464.6100\n",
              "611 -8735.042969  0.256793 -8735.042969  ...  0.0   0.0      0.0000\n",
              "612  3587.343994  0.662102  3587.343994  ...  0.0   0.0    187.6713\n",
              "613 -5494.321289  0.469429 -5494.321289  ...  0.0   0.0   1495.4590\n",
              "\n",
              "[614 rows x 14 columns]"
            ]
          },
          "metadata": {
            "tags": []
          },
          "execution_count": 64
        }
      ]
    },
    {
      "cell_type": "code",
      "metadata": {
        "id": "HBYS8vckrOXa",
        "colab_type": "code",
        "colab": {
          "base_uri": "https://localhost:8080/",
          "height": 53
        },
        "outputId": "28442743-b1fd-49ea-ddeb-013628bd13b7"
      },
      "source": [
        "%%time\n",
        "t_ite = t_learner.predict(X=learner_input_X, treatment=learner_input_t, y=learner_input_y)"
      ],
      "execution_count": null,
      "outputs": [
        {
          "output_type": "stream",
          "text": [
            "CPU times: user 37.1 ms, sys: 779 µs, total: 37.9 ms\n",
            "Wall time: 39.8 ms\n"
          ],
          "name": "stdout"
        }
      ]
    },
    {
      "cell_type": "code",
      "metadata": {
        "id": "EvisKLv6rqO1",
        "colab_type": "code",
        "colab": {
          "base_uri": "https://localhost:8080/",
          "height": 435
        },
        "outputId": "506cceeb-043b-47fc-dbe3-3b4bd093a9f4"
      },
      "source": [
        "# ITE:IndividualTreatmentEffect\n",
        "insert_column = 't_ITE'\n",
        "\n",
        "if insert_column in df.columns:\n",
        "  df.drop(columns=insert_column,inplace=True)\n",
        "df.insert(loc=0, column=insert_column, value=t_ite)\n",
        "df"
      ],
      "execution_count": null,
      "outputs": [
        {
          "output_type": "execute_result",
          "data": {
            "text/html": [
              "<div>\n",
              "<style scoped>\n",
              "    .dataframe tbody tr th:only-of-type {\n",
              "        vertical-align: middle;\n",
              "    }\n",
              "\n",
              "    .dataframe tbody tr th {\n",
              "        vertical-align: top;\n",
              "    }\n",
              "\n",
              "    .dataframe thead th {\n",
              "        text-align: right;\n",
              "    }\n",
              "</style>\n",
              "<table border=\"1\" class=\"dataframe\">\n",
              "  <thead>\n",
              "    <tr style=\"text-align: right;\">\n",
              "      <th></th>\n",
              "      <th>t_ITE</th>\n",
              "      <th>x_ITE</th>\n",
              "      <th>ps</th>\n",
              "      <th>id</th>\n",
              "      <th>treat</th>\n",
              "      <th>age</th>\n",
              "      <th>educ</th>\n",
              "      <th>black</th>\n",
              "      <th>hispan</th>\n",
              "      <th>married</th>\n",
              "      <th>nodegree</th>\n",
              "      <th>re74</th>\n",
              "      <th>re75</th>\n",
              "      <th>re78</th>\n",
              "    </tr>\n",
              "  </thead>\n",
              "  <tbody>\n",
              "    <tr>\n",
              "      <th>0</th>\n",
              "      <td>-5502.710938</td>\n",
              "      <td>-1687.435669</td>\n",
              "      <td>0.256793</td>\n",
              "      <td>NSW1</td>\n",
              "      <td>1</td>\n",
              "      <td>37</td>\n",
              "      <td>11</td>\n",
              "      <td>1</td>\n",
              "      <td>0</td>\n",
              "      <td>1</td>\n",
              "      <td>1</td>\n",
              "      <td>0.0</td>\n",
              "      <td>0.0</td>\n",
              "      <td>9930.0460</td>\n",
              "    </tr>\n",
              "    <tr>\n",
              "      <th>1</th>\n",
              "      <td>1561.993164</td>\n",
              "      <td>3245.366455</td>\n",
              "      <td>0.662102</td>\n",
              "      <td>NSW2</td>\n",
              "      <td>1</td>\n",
              "      <td>22</td>\n",
              "      <td>9</td>\n",
              "      <td>0</td>\n",
              "      <td>1</td>\n",
              "      <td>0</td>\n",
              "      <td>1</td>\n",
              "      <td>0.0</td>\n",
              "      <td>0.0</td>\n",
              "      <td>3595.8940</td>\n",
              "    </tr>\n",
              "    <tr>\n",
              "      <th>2</th>\n",
              "      <td>4122.614746</td>\n",
              "      <td>3929.312012</td>\n",
              "      <td>0.636445</td>\n",
              "      <td>NSW3</td>\n",
              "      <td>1</td>\n",
              "      <td>30</td>\n",
              "      <td>12</td>\n",
              "      <td>1</td>\n",
              "      <td>0</td>\n",
              "      <td>0</td>\n",
              "      <td>0</td>\n",
              "      <td>0.0</td>\n",
              "      <td>0.0</td>\n",
              "      <td>24909.4500</td>\n",
              "    </tr>\n",
              "    <tr>\n",
              "      <th>3</th>\n",
              "      <td>11159.207031</td>\n",
              "      <td>9288.609375</td>\n",
              "      <td>0.662102</td>\n",
              "      <td>NSW4</td>\n",
              "      <td>1</td>\n",
              "      <td>27</td>\n",
              "      <td>11</td>\n",
              "      <td>1</td>\n",
              "      <td>0</td>\n",
              "      <td>0</td>\n",
              "      <td>1</td>\n",
              "      <td>0.0</td>\n",
              "      <td>0.0</td>\n",
              "      <td>7506.1460</td>\n",
              "    </tr>\n",
              "    <tr>\n",
              "      <th>4</th>\n",
              "      <td>2994.234375</td>\n",
              "      <td>2050.707520</td>\n",
              "      <td>0.556784</td>\n",
              "      <td>NSW5</td>\n",
              "      <td>1</td>\n",
              "      <td>33</td>\n",
              "      <td>8</td>\n",
              "      <td>1</td>\n",
              "      <td>0</td>\n",
              "      <td>0</td>\n",
              "      <td>1</td>\n",
              "      <td>0.0</td>\n",
              "      <td>0.0</td>\n",
              "      <td>289.7899</td>\n",
              "    </tr>\n",
              "    <tr>\n",
              "      <th>...</th>\n",
              "      <td>...</td>\n",
              "      <td>...</td>\n",
              "      <td>...</td>\n",
              "      <td>...</td>\n",
              "      <td>...</td>\n",
              "      <td>...</td>\n",
              "      <td>...</td>\n",
              "      <td>...</td>\n",
              "      <td>...</td>\n",
              "      <td>...</td>\n",
              "      <td>...</td>\n",
              "      <td>...</td>\n",
              "      <td>...</td>\n",
              "      <td>...</td>\n",
              "    </tr>\n",
              "    <tr>\n",
              "      <th>609</th>\n",
              "      <td>5591.243164</td>\n",
              "      <td>5256.033203</td>\n",
              "      <td>0.512067</td>\n",
              "      <td>PSID425</td>\n",
              "      <td>0</td>\n",
              "      <td>18</td>\n",
              "      <td>11</td>\n",
              "      <td>0</td>\n",
              "      <td>0</td>\n",
              "      <td>0</td>\n",
              "      <td>1</td>\n",
              "      <td>0.0</td>\n",
              "      <td>0.0</td>\n",
              "      <td>10150.5000</td>\n",
              "    </tr>\n",
              "    <tr>\n",
              "      <th>610</th>\n",
              "      <td>195.707275</td>\n",
              "      <td>1746.914551</td>\n",
              "      <td>0.288172</td>\n",
              "      <td>PSID426</td>\n",
              "      <td>0</td>\n",
              "      <td>24</td>\n",
              "      <td>1</td>\n",
              "      <td>0</td>\n",
              "      <td>1</td>\n",
              "      <td>1</td>\n",
              "      <td>1</td>\n",
              "      <td>0.0</td>\n",
              "      <td>0.0</td>\n",
              "      <td>19464.6100</td>\n",
              "    </tr>\n",
              "    <tr>\n",
              "      <th>611</th>\n",
              "      <td>-9295.302734</td>\n",
              "      <td>-8735.042969</td>\n",
              "      <td>0.256793</td>\n",
              "      <td>PSID427</td>\n",
              "      <td>0</td>\n",
              "      <td>21</td>\n",
              "      <td>18</td>\n",
              "      <td>0</td>\n",
              "      <td>0</td>\n",
              "      <td>0</td>\n",
              "      <td>0</td>\n",
              "      <td>0.0</td>\n",
              "      <td>0.0</td>\n",
              "      <td>0.0000</td>\n",
              "    </tr>\n",
              "    <tr>\n",
              "      <th>612</th>\n",
              "      <td>-240.141113</td>\n",
              "      <td>3587.343994</td>\n",
              "      <td>0.662102</td>\n",
              "      <td>PSID428</td>\n",
              "      <td>0</td>\n",
              "      <td>32</td>\n",
              "      <td>5</td>\n",
              "      <td>1</td>\n",
              "      <td>0</td>\n",
              "      <td>1</td>\n",
              "      <td>1</td>\n",
              "      <td>0.0</td>\n",
              "      <td>0.0</td>\n",
              "      <td>187.6713</td>\n",
              "    </tr>\n",
              "    <tr>\n",
              "      <th>613</th>\n",
              "      <td>-6581.687012</td>\n",
              "      <td>-5494.321289</td>\n",
              "      <td>0.469429</td>\n",
              "      <td>PSID429</td>\n",
              "      <td>0</td>\n",
              "      <td>16</td>\n",
              "      <td>9</td>\n",
              "      <td>0</td>\n",
              "      <td>0</td>\n",
              "      <td>0</td>\n",
              "      <td>1</td>\n",
              "      <td>0.0</td>\n",
              "      <td>0.0</td>\n",
              "      <td>1495.4590</td>\n",
              "    </tr>\n",
              "  </tbody>\n",
              "</table>\n",
              "<p>614 rows × 14 columns</p>\n",
              "</div>"
            ],
            "text/plain": [
              "            t_ITE        x_ITE        ps  ... re74  re75        re78\n",
              "0    -5502.710938 -1687.435669  0.256793  ...  0.0   0.0   9930.0460\n",
              "1     1561.993164  3245.366455  0.662102  ...  0.0   0.0   3595.8940\n",
              "2     4122.614746  3929.312012  0.636445  ...  0.0   0.0  24909.4500\n",
              "3    11159.207031  9288.609375  0.662102  ...  0.0   0.0   7506.1460\n",
              "4     2994.234375  2050.707520  0.556784  ...  0.0   0.0    289.7899\n",
              "..            ...          ...       ...  ...  ...   ...         ...\n",
              "609   5591.243164  5256.033203  0.512067  ...  0.0   0.0  10150.5000\n",
              "610    195.707275  1746.914551  0.288172  ...  0.0   0.0  19464.6100\n",
              "611  -9295.302734 -8735.042969  0.256793  ...  0.0   0.0      0.0000\n",
              "612   -240.141113  3587.343994  0.662102  ...  0.0   0.0    187.6713\n",
              "613  -6581.687012 -5494.321289  0.469429  ...  0.0   0.0   1495.4590\n",
              "\n",
              "[614 rows x 14 columns]"
            ]
          },
          "metadata": {
            "tags": []
          },
          "execution_count": 66
        }
      ]
    },
    {
      "cell_type": "code",
      "metadata": {
        "id": "JwEvjODXq6vn",
        "colab_type": "code",
        "colab": {
          "base_uri": "https://localhost:8080/",
          "height": 558
        },
        "outputId": "9fbadfaf-c418-41f9-ef16-25853dcdc2e3"
      },
      "source": [
        "alpha=0.2\n",
        "bins=30\n",
        "plt.figure(figsize=(12,8))\n",
        "plt.hist(ite, alpha=alpha, bins=bins, label='x Learner')\n",
        "plt.hist(t_ite, alpha=alpha, bins=bins, label='T Learner')\n",
        "plt.title('Distribution of CATE Predictions by Meta Learner')\n",
        "plt.xlabel('Individual Treatment Effect (ITE/CATE)')\n",
        "plt.ylabel('# of Samples')\n",
        "_=plt.legend()"
      ],
      "execution_count": null,
      "outputs": [
        {
          "output_type": "display_data",
          "data": {
            "image/png": "[encoded data removed]",
            "text/plain": [
              "<Figure size 864x576 with 1 Axes>"
            ]
          },
          "metadata": {
            "tags": []
          }
        }
      ]
    },
    {
      "cell_type": "markdown",
      "metadata": {
        "id": "MzVlffouBnsH",
        "colab_type": "text"
      },
      "source": [
        "### 特徴量毎の重要度の確認"
      ]
    },
    {
      "cell_type": "code",
      "metadata": {
        "id": "RnqLlYQgB1AR",
        "colab_type": "code",
        "colab": {
          "base_uri": "https://localhost:8080/",
          "height": 592
        },
        "outputId": "a491ea51-c420-425e-95bb-6e3fe23e8c02"
      },
      "source": [
        "x_learner.plot_importance(X=learner_input_X,\n",
        "                          tau=ite,\n",
        "                          model_tau_feature=XGBRegressor(random_state=SEED),\n",
        "                          features=FEATURE_COLUMNS,\n",
        "                          method='auto',\n",
        "                          random_state=SEED)"
      ],
      "execution_count": null,
      "outputs": [
        {
          "output_type": "stream",
          "text": [
            "[01:19:27] WARNING: /workspace/src/objective/regression_obj.cu:152: reg:linear is now deprecated in favor of reg:squarederror.\n",
            "[01:19:27] WARNING: /workspace/src/objective/regression_obj.cu:152: reg:linear is now deprecated in favor of reg:squarederror.\n"
          ],
          "name": "stdout"
        },
        {
          "output_type": "display_data",
          "data": {
            "image/png": "[encoded data removed]",
            "text/plain": [
              "<Figure size 864x576 with 1 Axes>"
            ]
          },
          "metadata": {
            "tags": []
          }
        }
      ]
    },
    {
      "cell_type": "markdown",
      "metadata": {
        "id": "TjtsPzZ3XmJ5",
        "colab_type": "text"
      },
      "source": [
        "### 特徴量毎のshap値確認"
      ]
    },
    {
      "cell_type": "code",
      "metadata": {
        "id": "jXlZ7gJXOkO0",
        "colab_type": "code",
        "colab": {
          "base_uri": "https://localhost:8080/",
          "height": 431
        },
        "outputId": "2285c70a-fbb4-425f-e143-0b33ee6ec926"
      },
      "source": [
        "x_learner.plot_shap_values(X=learner_input_X, tau=ite, \n",
        "                           features=FEATURE_COLUMNS,\n",
        "                           model_tau_feature=XGBRegressor(random_state=SEED))"
      ],
      "execution_count": null,
      "outputs": [
        {
          "output_type": "stream",
          "text": [
            "[01:19:27] WARNING: /workspace/src/objective/regression_obj.cu:152: reg:linear is now deprecated in favor of reg:squarederror.\n",
            "[01:19:27] WARNING: /workspace/src/objective/regression_obj.cu:152: reg:linear is now deprecated in favor of reg:squarederror.\n"
          ],
          "name": "stdout"
        },
        {
          "output_type": "stream",
          "text": [
            "Setting feature_perturbation = \"tree_path_dependent\" because no background data was given.\n"
          ],
          "name": "stderr"
        },
        {
          "output_type": "display_data",
          "data": {
            "image/png": "[encoded data removed]",
            "text/plain": [
              "<Figure size 576x338.4 with 1 Axes>"
            ]
          },
          "metadata": {
            "tags": []
          }
        }
      ]
    },
    {
      "cell_type": "markdown",
      "metadata": {
        "id": "nkpQqBYkYojq",
        "colab_type": "text"
      },
      "source": [
        "## モデルの評価\n",
        "TMLE:Targeted maximum likelihood estimation(局所的に最尤推定を行う)モデルとの比較。<br>正解となる目的変数にはCounterfactual(反事実)が含まれているため、一般的な精度が算出できない。そこでTMLEモデルをベースラインにして、構築したモデルの精度を比較し評価する。"
      ]
    },
    {
      "cell_type": "code",
      "metadata": {
        "id": "FPBFW2C7PbSr",
        "colab_type": "code",
        "colab": {
          "base_uri": "https://localhost:8080/",
          "height": 222
        },
        "outputId": "e22edd82-97d5-409e-b0c4-3d2d39fc391b"
      },
      "source": [
        "# 傾向スコアの挿入\n",
        "PS_COLUMN = 'ps'\n",
        "insert_column = PS_COLUMN\n",
        "\n",
        "if insert_column in df.columns:\n",
        "  df.drop(columns=insert_column,inplace=True)\n",
        "df.insert(loc=0, column=insert_column, value=learner_input_ps)\n",
        "df.head()"
      ],
      "execution_count": null,
      "outputs": [
        {
          "output_type": "execute_result",
          "data": {
            "text/html": [
              "<div>\n",
              "<style scoped>\n",
              "    .dataframe tbody tr th:only-of-type {\n",
              "        vertical-align: middle;\n",
              "    }\n",
              "\n",
              "    .dataframe tbody tr th {\n",
              "        vertical-align: top;\n",
              "    }\n",
              "\n",
              "    .dataframe thead th {\n",
              "        text-align: right;\n",
              "    }\n",
              "</style>\n",
              "<table border=\"1\" class=\"dataframe\">\n",
              "  <thead>\n",
              "    <tr style=\"text-align: right;\">\n",
              "      <th></th>\n",
              "      <th>ps</th>\n",
              "      <th>t_ITE</th>\n",
              "      <th>x_ITE</th>\n",
              "      <th>id</th>\n",
              "      <th>treat</th>\n",
              "      <th>age</th>\n",
              "      <th>educ</th>\n",
              "      <th>black</th>\n",
              "      <th>hispan</th>\n",
              "      <th>married</th>\n",
              "      <th>nodegree</th>\n",
              "      <th>re74</th>\n",
              "      <th>re75</th>\n",
              "      <th>re78</th>\n",
              "    </tr>\n",
              "  </thead>\n",
              "  <tbody>\n",
              "    <tr>\n",
              "      <th>0</th>\n",
              "      <td>0.256793</td>\n",
              "      <td>-5502.710938</td>\n",
              "      <td>-1687.435669</td>\n",
              "      <td>NSW1</td>\n",
              "      <td>1</td>\n",
              "      <td>37</td>\n",
              "      <td>11</td>\n",
              "      <td>1</td>\n",
              "      <td>0</td>\n",
              "      <td>1</td>\n",
              "      <td>1</td>\n",
              "      <td>0.0</td>\n",
              "      <td>0.0</td>\n",
              "      <td>9930.0460</td>\n",
              "    </tr>\n",
              "    <tr>\n",
              "      <th>1</th>\n",
              "      <td>0.662102</td>\n",
              "      <td>1561.993164</td>\n",
              "      <td>3245.366455</td>\n",
              "      <td>NSW2</td>\n",
              "      <td>1</td>\n",
              "      <td>22</td>\n",
              "      <td>9</td>\n",
              "      <td>0</td>\n",
              "      <td>1</td>\n",
              "      <td>0</td>\n",
              "      <td>1</td>\n",
              "      <td>0.0</td>\n",
              "      <td>0.0</td>\n",
              "      <td>3595.8940</td>\n",
              "    </tr>\n",
              "    <tr>\n",
              "      <th>2</th>\n",
              "      <td>0.636445</td>\n",
              "      <td>4122.614746</td>\n",
              "      <td>3929.312012</td>\n",
              "      <td>NSW3</td>\n",
              "      <td>1</td>\n",
              "      <td>30</td>\n",
              "      <td>12</td>\n",
              "      <td>1</td>\n",
              "      <td>0</td>\n",
              "      <td>0</td>\n",
              "      <td>0</td>\n",
              "      <td>0.0</td>\n",
              "      <td>0.0</td>\n",
              "      <td>24909.4500</td>\n",
              "    </tr>\n",
              "    <tr>\n",
              "      <th>3</th>\n",
              "      <td>0.662102</td>\n",
              "      <td>11159.207031</td>\n",
              "      <td>9288.609375</td>\n",
              "      <td>NSW4</td>\n",
              "      <td>1</td>\n",
              "      <td>27</td>\n",
              "      <td>11</td>\n",
              "      <td>1</td>\n",
              "      <td>0</td>\n",
              "      <td>0</td>\n",
              "      <td>1</td>\n",
              "      <td>0.0</td>\n",
              "      <td>0.0</td>\n",
              "      <td>7506.1460</td>\n",
              "    </tr>\n",
              "    <tr>\n",
              "      <th>4</th>\n",
              "      <td>0.556784</td>\n",
              "      <td>2994.234375</td>\n",
              "      <td>2050.707520</td>\n",
              "      <td>NSW5</td>\n",
              "      <td>1</td>\n",
              "      <td>33</td>\n",
              "      <td>8</td>\n",
              "      <td>1</td>\n",
              "      <td>0</td>\n",
              "      <td>0</td>\n",
              "      <td>1</td>\n",
              "      <td>0.0</td>\n",
              "      <td>0.0</td>\n",
              "      <td>289.7899</td>\n",
              "    </tr>\n",
              "  </tbody>\n",
              "</table>\n",
              "</div>"
            ],
            "text/plain": [
              "         ps         t_ITE        x_ITE    id  ...  nodegree  re74  re75        re78\n",
              "0  0.256793  -5502.710938 -1687.435669  NSW1  ...         1   0.0   0.0   9930.0460\n",
              "1  0.662102   1561.993164  3245.366455  NSW2  ...         1   0.0   0.0   3595.8940\n",
              "2  0.636445   4122.614746  3929.312012  NSW3  ...         0   0.0   0.0  24909.4500\n",
              "3  0.662102  11159.207031  9288.609375  NSW4  ...         1   0.0   0.0   7506.1460\n",
              "4  0.556784   2994.234375  2050.707520  NSW5  ...         1   0.0   0.0    289.7899\n",
              "\n",
              "[5 rows x 14 columns]"
            ]
          },
          "metadata": {
            "tags": []
          },
          "execution_count": 70
        }
      ]
    },
    {
      "cell_type": "code",
      "metadata": {
        "id": "HbY6KsLnpEnX",
        "colab_type": "code",
        "colab": {
          "base_uri": "https://localhost:8080/",
          "height": 307
        },
        "outputId": "fb578605-10b8-4667-9a89-e17550f9b643"
      },
      "source": [
        "tmlgeain = get_tmlegain(df=df.drop(columns=UNNECESSARY_COLUMNS),inference_col=FEATURE_COLUMNS, \n",
        "                                    learner=XGBRegressor(n_estimators=1000, random_state=SEED),\n",
        "                                    outcome_col=OUTCOME_COLUMN, treatment_col=TREATMENT_COLUMN, p_col=PS_COLUMN,ci=True)\n",
        "tmlgeain"
      ],
      "execution_count": null,
      "outputs": [
        {
          "output_type": "stream",
          "text": [
            "[01:19:30] WARNING: /workspace/src/objective/regression_obj.cu:152: reg:linear is now deprecated in favor of reg:squarederror.\n",
            "[01:19:31] WARNING: /workspace/src/objective/regression_obj.cu:152: reg:linear is now deprecated in favor of reg:squarederror.\n",
            "[01:19:31] WARNING: /workspace/src/objective/regression_obj.cu:152: reg:linear is now deprecated in favor of reg:squarederror.\n"
          ],
          "name": "stdout"
        },
        {
          "output_type": "execute_result",
          "data": {
            "text/html": [
              "<div>\n",
              "<style scoped>\n",
              "    .dataframe tbody tr th:only-of-type {\n",
              "        vertical-align: middle;\n",
              "    }\n",
              "\n",
              "    .dataframe tbody tr th {\n",
              "        vertical-align: top;\n",
              "    }\n",
              "\n",
              "    .dataframe thead th {\n",
              "        text-align: right;\n",
              "    }\n",
              "</style>\n",
              "<table border=\"1\" class=\"dataframe\">\n",
              "  <thead>\n",
              "    <tr style=\"text-align: right;\">\n",
              "      <th></th>\n",
              "      <th>t_ITE</th>\n",
              "      <th>x_ITE</th>\n",
              "      <th>t_ITE LB</th>\n",
              "      <th>x_ITE LB</th>\n",
              "      <th>t_ITE UB</th>\n",
              "      <th>x_ITE UB</th>\n",
              "      <th>Random</th>\n",
              "    </tr>\n",
              "  </thead>\n",
              "  <tbody>\n",
              "    <tr>\n",
              "      <th>0.0</th>\n",
              "      <td>0.000000</td>\n",
              "      <td>0.000000</td>\n",
              "      <td>0.000000</td>\n",
              "      <td>0.000000</td>\n",
              "      <td>0.000000</td>\n",
              "      <td>0.000000</td>\n",
              "      <td>0.000000</td>\n",
              "    </tr>\n",
              "    <tr>\n",
              "      <th>0.2</th>\n",
              "      <td>187.943930</td>\n",
              "      <td>61.072938</td>\n",
              "      <td>-81.552958</td>\n",
              "      <td>-257.249784</td>\n",
              "      <td>457.440819</td>\n",
              "      <td>379.395660</td>\n",
              "      <td>161.552388</td>\n",
              "    </tr>\n",
              "    <tr>\n",
              "      <th>0.4</th>\n",
              "      <td>291.408631</td>\n",
              "      <td>265.306633</td>\n",
              "      <td>-400.322012</td>\n",
              "      <td>-396.255389</td>\n",
              "      <td>983.139274</td>\n",
              "      <td>926.868655</td>\n",
              "      <td>323.104776</td>\n",
              "    </tr>\n",
              "    <tr>\n",
              "      <th>0.6</th>\n",
              "      <td>512.490714</td>\n",
              "      <td>471.480939</td>\n",
              "      <td>-427.418715</td>\n",
              "      <td>-476.260662</td>\n",
              "      <td>1452.400142</td>\n",
              "      <td>1419.222539</td>\n",
              "      <td>484.657164</td>\n",
              "    </tr>\n",
              "    <tr>\n",
              "      <th>0.8</th>\n",
              "      <td>668.933163</td>\n",
              "      <td>573.081534</td>\n",
              "      <td>-550.491391</td>\n",
              "      <td>-596.964502</td>\n",
              "      <td>1888.357717</td>\n",
              "      <td>1743.127570</td>\n",
              "      <td>646.209552</td>\n",
              "    </tr>\n",
              "    <tr>\n",
              "      <th>1.0</th>\n",
              "      <td>807.761940</td>\n",
              "      <td>807.761940</td>\n",
              "      <td>151.310284</td>\n",
              "      <td>151.310284</td>\n",
              "      <td>1464.213597</td>\n",
              "      <td>1464.213597</td>\n",
              "      <td>807.761940</td>\n",
              "    </tr>\n",
              "  </tbody>\n",
              "</table>\n",
              "</div>"
            ],
            "text/plain": [
              "          t_ITE       x_ITE    t_ITE LB  ...     t_ITE UB     x_ITE UB      Random\n",
              "0.0    0.000000    0.000000    0.000000  ...     0.000000     0.000000    0.000000\n",
              "0.2  187.943930   61.072938  -81.552958  ...   457.440819   379.395660  161.552388\n",
              "0.4  291.408631  265.306633 -400.322012  ...   983.139274   926.868655  323.104776\n",
              "0.6  512.490714  471.480939 -427.418715  ...  1452.400142  1419.222539  484.657164\n",
              "0.8  668.933163  573.081534 -550.491391  ...  1888.357717  1743.127570  646.209552\n",
              "1.0  807.761940  807.761940  151.310284  ...  1464.213597  1464.213597  807.761940\n",
              "\n",
              "[6 rows x 7 columns]"
            ]
          },
          "metadata": {
            "tags": []
          },
          "execution_count": 71
        }
      ]
    },
    {
      "cell_type": "code",
      "metadata": {
        "id": "jOJClvS47Pj7",
        "colab_type": "code",
        "colab": {
          "base_uri": "https://localhost:8080/",
          "height": 611
        },
        "outputId": "8af67097-d6ba-4f9e-d2c2-ae3a371503da"
      },
      "source": [
        "plot_tmlegain(df=df.drop(columns=UNNECESSARY_COLUMNS),inference_col=FEATURE_COLUMNS, \n",
        "              learner=XGBRegressor(n_estimators=1000, random_state=SEED),\n",
        "              outcome_col=OUTCOME_COLUMN, treatment_col=TREATMENT_COLUMN, p_col=PS_COLUMN,\n",
        "              n_segment=10)"
      ],
      "execution_count": null,
      "outputs": [
        {
          "output_type": "stream",
          "text": [
            "[01:19:38] WARNING: /workspace/src/objective/regression_obj.cu:152: reg:linear is now deprecated in favor of reg:squarederror.\n",
            "[01:19:38] WARNING: /workspace/src/objective/regression_obj.cu:152: reg:linear is now deprecated in favor of reg:squarederror.\n",
            "[01:19:39] WARNING: /workspace/src/objective/regression_obj.cu:152: reg:linear is now deprecated in favor of reg:squarederror.\n"
          ],
          "name": "stdout"
        },
        {
          "output_type": "display_data",
          "data": {
            "image/png": "[encoded data removed]",
            "text/plain": [
              "<Figure size 576x576 with 1 Axes>"
            ]
          },
          "metadata": {
            "tags": []
          }
        }
      ]
    },
    {
      "cell_type": "markdown",
      "metadata": {
        "id": "yWZnFA3J84-R",
        "colab_type": "text"
      },
      "source": [
        "そんなに綺麗なupliftカーブを描いてくれない、、、そんなに精度よく無さそう<br>\n",
        "[公式チュートリアル:https://github.com/uber/causalml/blob/master/examples/validation_with_tmle.ipynb](https://github.com/uber/causalml/blob/master/examples/validation_with_tmle.ipynb)"
      ]
    },
    {
      "cell_type": "code",
      "metadata": {
        "id": "f7DFed6B-Lob",
        "colab_type": "code",
        "colab": {
          "base_uri": "https://localhost:8080/",
          "height": 611
        },
        "outputId": "25395933-7ad7-498e-cbf4-aaa59a19314d"
      },
      "source": [
        "plot_tmleqini(df=df.drop(columns=UNNECESSARY_COLUMNS),inference_col=FEATURE_COLUMNS, \n",
        "              learner=XGBRegressor(n_estimators=1000, random_state=SEED),\n",
        "              outcome_col=OUTCOME_COLUMN, treatment_col=TREATMENT_COLUMN, p_col=PS_COLUMN,\n",
        "              n_segment=10)"
      ],
      "execution_count": null,
      "outputs": [
        {
          "output_type": "stream",
          "text": [
            "[01:19:45] WARNING: /workspace/src/objective/regression_obj.cu:152: reg:linear is now deprecated in favor of reg:squarederror.\n",
            "[01:19:46] WARNING: /workspace/src/objective/regression_obj.cu:152: reg:linear is now deprecated in favor of reg:squarederror.\n",
            "[01:19:46] WARNING: /workspace/src/objective/regression_obj.cu:152: reg:linear is now deprecated in favor of reg:squarederror.\n"
          ],
          "name": "stdout"
        },
        {
          "output_type": "display_data",
          "data": {
            "image/png": "[encoded data removed]",
            "text/plain": [
              "<Figure size 576x576 with 1 Axes>"
            ]
          },
          "metadata": {
            "tags": []
          }
        }
      ]
    },
    {
      "cell_type": "markdown",
      "metadata": {
        "id": "AoN6_fJrOJgD",
        "colab_type": "text"
      },
      "source": [
        "## 感度分析\n",
        "元のデータを一部変化させることで、推定された因果効果のロバスト性を確認する分析手法<br>\n",
        "causalmlドキュメントに挙げられている感度分析の種類\n",
        "* Placebo Treatment\n",
        "* Irrelevant Additional Confounder\n",
        "* Subset validation\n",
        "* Random Replace\n",
        "* Selection Bias\n"
      ]
    },
    {
      "cell_type": "code",
      "metadata": {
        "id": "-Qkxsl8_SgZk",
        "colab_type": "code",
        "colab": {
          "base_uri": "https://localhost:8080/",
          "height": 222
        },
        "outputId": "3e6ffdd5-449d-41f4-dce2-8f2bc5f6f37c"
      },
      "source": [
        "df.head()"
      ],
      "execution_count": null,
      "outputs": [
        {
          "output_type": "execute_result",
          "data": {
            "text/html": [
              "<div>\n",
              "<style scoped>\n",
              "    .dataframe tbody tr th:only-of-type {\n",
              "        vertical-align: middle;\n",
              "    }\n",
              "\n",
              "    .dataframe tbody tr th {\n",
              "        vertical-align: top;\n",
              "    }\n",
              "\n",
              "    .dataframe thead th {\n",
              "        text-align: right;\n",
              "    }\n",
              "</style>\n",
              "<table border=\"1\" class=\"dataframe\">\n",
              "  <thead>\n",
              "    <tr style=\"text-align: right;\">\n",
              "      <th></th>\n",
              "      <th>ps</th>\n",
              "      <th>t_ITE</th>\n",
              "      <th>x_ITE</th>\n",
              "      <th>id</th>\n",
              "      <th>treat</th>\n",
              "      <th>age</th>\n",
              "      <th>educ</th>\n",
              "      <th>black</th>\n",
              "      <th>hispan</th>\n",
              "      <th>married</th>\n",
              "      <th>nodegree</th>\n",
              "      <th>re74</th>\n",
              "      <th>re75</th>\n",
              "      <th>re78</th>\n",
              "    </tr>\n",
              "  </thead>\n",
              "  <tbody>\n",
              "    <tr>\n",
              "      <th>0</th>\n",
              "      <td>0.256793</td>\n",
              "      <td>-5502.710938</td>\n",
              "      <td>-1687.435669</td>\n",
              "      <td>NSW1</td>\n",
              "      <td>1</td>\n",
              "      <td>37</td>\n",
              "      <td>11</td>\n",
              "      <td>1</td>\n",
              "      <td>0</td>\n",
              "      <td>1</td>\n",
              "      <td>1</td>\n",
              "      <td>0.0</td>\n",
              "      <td>0.0</td>\n",
              "      <td>9930.0460</td>\n",
              "    </tr>\n",
              "    <tr>\n",
              "      <th>1</th>\n",
              "      <td>0.662102</td>\n",
              "      <td>1561.993164</td>\n",
              "      <td>3245.366455</td>\n",
              "      <td>NSW2</td>\n",
              "      <td>1</td>\n",
              "      <td>22</td>\n",
              "      <td>9</td>\n",
              "      <td>0</td>\n",
              "      <td>1</td>\n",
              "      <td>0</td>\n",
              "      <td>1</td>\n",
              "      <td>0.0</td>\n",
              "      <td>0.0</td>\n",
              "      <td>3595.8940</td>\n",
              "    </tr>\n",
              "    <tr>\n",
              "      <th>2</th>\n",
              "      <td>0.636445</td>\n",
              "      <td>4122.614746</td>\n",
              "      <td>3929.312012</td>\n",
              "      <td>NSW3</td>\n",
              "      <td>1</td>\n",
              "      <td>30</td>\n",
              "      <td>12</td>\n",
              "      <td>1</td>\n",
              "      <td>0</td>\n",
              "      <td>0</td>\n",
              "      <td>0</td>\n",
              "      <td>0.0</td>\n",
              "      <td>0.0</td>\n",
              "      <td>24909.4500</td>\n",
              "    </tr>\n",
              "    <tr>\n",
              "      <th>3</th>\n",
              "      <td>0.662102</td>\n",
              "      <td>11159.207031</td>\n",
              "      <td>9288.609375</td>\n",
              "      <td>NSW4</td>\n",
              "      <td>1</td>\n",
              "      <td>27</td>\n",
              "      <td>11</td>\n",
              "      <td>1</td>\n",
              "      <td>0</td>\n",
              "      <td>0</td>\n",
              "      <td>1</td>\n",
              "      <td>0.0</td>\n",
              "      <td>0.0</td>\n",
              "      <td>7506.1460</td>\n",
              "    </tr>\n",
              "    <tr>\n",
              "      <th>4</th>\n",
              "      <td>0.556784</td>\n",
              "      <td>2994.234375</td>\n",
              "      <td>2050.707520</td>\n",
              "      <td>NSW5</td>\n",
              "      <td>1</td>\n",
              "      <td>33</td>\n",
              "      <td>8</td>\n",
              "      <td>1</td>\n",
              "      <td>0</td>\n",
              "      <td>0</td>\n",
              "      <td>1</td>\n",
              "      <td>0.0</td>\n",
              "      <td>0.0</td>\n",
              "      <td>289.7899</td>\n",
              "    </tr>\n",
              "  </tbody>\n",
              "</table>\n",
              "</div>"
            ],
            "text/plain": [
              "         ps         t_ITE        x_ITE    id  ...  nodegree  re74  re75        re78\n",
              "0  0.256793  -5502.710938 -1687.435669  NSW1  ...         1   0.0   0.0   9930.0460\n",
              "1  0.662102   1561.993164  3245.366455  NSW2  ...         1   0.0   0.0   3595.8940\n",
              "2  0.636445   4122.614746  3929.312012  NSW3  ...         0   0.0   0.0  24909.4500\n",
              "3  0.662102  11159.207031  9288.609375  NSW4  ...         1   0.0   0.0   7506.1460\n",
              "4  0.556784   2994.234375  2050.707520  NSW5  ...         1   0.0   0.0    289.7899\n",
              "\n",
              "[5 rows x 14 columns]"
            ]
          },
          "metadata": {
            "tags": []
          },
          "execution_count": 74
        }
      ]
    },
    {
      "cell_type": "code",
      "metadata": {
        "id": "wqPLmOB2PM0p",
        "colab_type": "code",
        "colab": {
          "base_uri": "https://localhost:8080/",
          "height": 163
        },
        "outputId": "31cb4ab5-e9d1-4ec0-c493-322788d5d9aa"
      },
      "source": [
        "# Sensitivityクラスのインスタンス化\n",
        "sensitivity = Sensitivity(df=df.drop(columns=[','.join(UNNECESSARY_COLUMNS) , 't_ITE']),\n",
        "                          inference_features=FEATURE_COLUMNS,\n",
        "                          p_col=PS_COLUMN, treatment_col=TREATMENT_COLUMN,\n",
        "                          outcome_col=OUTCOME_COLUMN, learner=x_learner)\n",
        "# ATEの再確認\n",
        "s_ate_ci = sensitivity.get_ate_ci(X=learner_input_X, p=learner_input_ps,\n",
        "                                  treatment=learner_input_t, y=learner_input_y)\n",
        "print('ATE:{ate}'.format(ate=s_ate_ci[0]))\n",
        "print('信頼区間の下限値(LB):{lb}'.format(lb=s_ate_ci[1]))\n",
        "print('信頼区間の上限値(UB):{ub}'.format(ub=s_ate_ci[2]))"
      ],
      "execution_count": null,
      "outputs": [
        {
          "output_type": "stream",
          "text": [
            "[01:20:07] WARNING: /workspace/src/objective/regression_obj.cu:152: reg:linear is now deprecated in favor of reg:squarederror.\n",
            "[01:20:07] WARNING: /workspace/src/objective/regression_obj.cu:152: reg:linear is now deprecated in favor of reg:squarederror.\n",
            "[01:20:08] WARNING: /workspace/src/objective/regression_obj.cu:152: reg:linear is now deprecated in favor of reg:squarederror.\n",
            "[01:20:08] WARNING: /workspace/src/objective/regression_obj.cu:152: reg:linear is now deprecated in favor of reg:squarederror.\n",
            "ATE:833.3525574774229\n",
            "信頼区間の下限値(LB):70.72747283452168\n",
            "信頼区間の上限値(UB):1595.9776421203242\n"
          ],
          "name": "stdout"
        }
      ]
    },
    {
      "cell_type": "code",
      "metadata": {
        "id": "d2XGk5PePF0n",
        "colab_type": "code",
        "colab": {
          "base_uri": "https://localhost:8080/",
          "height": 35
        },
        "outputId": "9b2b4af2-488c-4e5c-deb2-be14ff31490c"
      },
      "source": [
        "# causalmlで使用可能な感度分析一覧\n",
        "sensitivity_methods = ['Placebo Treatment', 'Random Cause',\n",
        "                      'Subset Data', 'Random Replace', \n",
        "                      'Selection Bias']\n",
        "sensitivity_methods"
      ],
      "execution_count": null,
      "outputs": [
        {
          "output_type": "execute_result",
          "data": {
            "text/html": [
              "['Placebo Treatment', 'Random Cause', 'Subset Data', 'Random Replace', 'Selection Bias']"
            ],
            "text/plain": [
              "['Placebo Treatment',\n",
              " 'Random Cause',\n",
              " 'Subset Data',\n",
              " 'Random Replace',\n",
              " 'Selection Bias']"
            ]
          },
          "metadata": {
            "tags": []
          },
          "execution_count": 76
        }
      ]
    },
    {
      "cell_type": "markdown",
      "metadata": {
        "id": "B5QphDYIK7iV",
        "colab_type": "text"
      },
      "source": [
        "confound引数に渡せる関数一覧\n",
        "* one_sided\n",
        "* alignment\n",
        "* one_sided_att\n",
        "* alignment_att<br>\n",
        "[詳細：https://www.mattblackwell.org/files/papers/causalsens.pdf](https://www.mattblackwell.org/files/papers/causalsens.pdf)"
      ]
    },
    {
      "cell_type": "markdown",
      "metadata": {
        "id": "r0fZIOe9TwXJ",
        "colab_type": "text"
      },
      "source": [
        "### sample_size=0.2"
      ]
    },
    {
      "cell_type": "code",
      "metadata": {
        "id": "pEIMOCwbQ6l2",
        "colab_type": "code",
        "colab": {
          "base_uri": "https://localhost:8080/",
          "height": 1000
        },
        "outputId": "9a49d8f2-bbc4-4355-ca8d-6f55a733a11c"
      },
      "source": [
        "%%time\n",
        "sensitivity_result = sensitivity.sensitivity_analysis(methods=sensitivity_methods,\n",
        "                                             sample_size=0.2, confound='alignment_att')"
      ],
      "execution_count": null,
      "outputs": [
        {
          "output_type": "stream",
          "text": [
            "[01:20:31] WARNING: /workspace/src/objective/regression_obj.cu:152: reg:linear is now deprecated in favor of reg:squarederror.\n",
            "[01:20:32] WARNING: /workspace/src/objective/regression_obj.cu:152: reg:linear is now deprecated in favor of reg:squarederror.\n",
            "[01:20:32] WARNING: /workspace/src/objective/regression_obj.cu:152: reg:linear is now deprecated in favor of reg:squarederror.\n",
            "[01:20:32] WARNING: /workspace/src/objective/regression_obj.cu:152: reg:linear is now deprecated in favor of reg:squarederror.\n",
            "[01:20:32] WARNING: /workspace/src/objective/regression_obj.cu:152: reg:linear is now deprecated in favor of reg:squarederror.\n",
            "[01:20:32] WARNING: /workspace/src/objective/regression_obj.cu:152: reg:linear is now deprecated in favor of reg:squarederror.\n",
            "[01:20:33] WARNING: /workspace/src/objective/regression_obj.cu:152: reg:linear is now deprecated in favor of reg:squarederror.\n",
            "[01:20:33] WARNING: /workspace/src/objective/regression_obj.cu:152: reg:linear is now deprecated in favor of reg:squarederror.\n",
            "[01:20:33] WARNING: /workspace/src/objective/regression_obj.cu:152: reg:linear is now deprecated in favor of reg:squarederror.\n",
            "[01:20:33] WARNING: /workspace/src/objective/regression_obj.cu:152: reg:linear is now deprecated in favor of reg:squarederror.\n",
            "[01:20:33] WARNING: /workspace/src/objective/regression_obj.cu:152: reg:linear is now deprecated in favor of reg:squarederror.\n",
            "[01:20:34] WARNING: /workspace/src/objective/regression_obj.cu:152: reg:linear is now deprecated in favor of reg:squarederror.\n",
            "[01:20:34] WARNING: /workspace/src/objective/regression_obj.cu:152: reg:linear is now deprecated in favor of reg:squarederror.\n",
            "[01:20:34] WARNING: /workspace/src/objective/regression_obj.cu:152: reg:linear is now deprecated in favor of reg:squarederror.\n",
            "[01:20:34] WARNING: /workspace/src/objective/regression_obj.cu:152: reg:linear is now deprecated in favor of reg:squarederror.\n",
            "[01:20:34] WARNING: /workspace/src/objective/regression_obj.cu:152: reg:linear is now deprecated in favor of reg:squarederror.\n",
            "[01:20:35] WARNING: /workspace/src/objective/regression_obj.cu:152: reg:linear is now deprecated in favor of reg:squarederror.\n",
            "[01:20:35] WARNING: /workspace/src/objective/regression_obj.cu:152: reg:linear is now deprecated in favor of reg:squarederror.\n",
            "[01:20:35] WARNING: /workspace/src/objective/regression_obj.cu:152: reg:linear is now deprecated in favor of reg:squarederror.\n",
            "[01:20:35] WARNING: /workspace/src/objective/regression_obj.cu:152: reg:linear is now deprecated in favor of reg:squarederror.\n",
            "[01:20:35] WARNING: /workspace/src/objective/regression_obj.cu:152: reg:linear is now deprecated in favor of reg:squarederror.\n",
            "[01:20:36] WARNING: /workspace/src/objective/regression_obj.cu:152: reg:linear is now deprecated in favor of reg:squarederror.\n",
            "[01:20:36] WARNING: /workspace/src/objective/regression_obj.cu:152: reg:linear is now deprecated in favor of reg:squarederror.\n",
            "[01:20:36] WARNING: /workspace/src/objective/regression_obj.cu:152: reg:linear is now deprecated in favor of reg:squarederror.\n",
            "[01:20:36] WARNING: /workspace/src/objective/regression_obj.cu:152: reg:linear is now deprecated in favor of reg:squarederror.\n",
            "[01:20:36] WARNING: /workspace/src/objective/regression_obj.cu:152: reg:linear is now deprecated in favor of reg:squarederror.\n",
            "[01:20:36] WARNING: /workspace/src/objective/regression_obj.cu:152: reg:linear is now deprecated in favor of reg:squarederror.\n",
            "[01:20:36] WARNING: /workspace/src/objective/regression_obj.cu:152: reg:linear is now deprecated in favor of reg:squarederror.\n",
            "[01:20:37] WARNING: /workspace/src/objective/regression_obj.cu:152: reg:linear is now deprecated in favor of reg:squarederror.\n",
            "[01:20:37] WARNING: /workspace/src/objective/regression_obj.cu:152: reg:linear is now deprecated in favor of reg:squarederror.\n",
            "[01:20:37] WARNING: /workspace/src/objective/regression_obj.cu:152: reg:linear is now deprecated in favor of reg:squarederror.\n",
            "[01:20:37] WARNING: /workspace/src/objective/regression_obj.cu:152: reg:linear is now deprecated in favor of reg:squarederror.\n",
            "[01:20:38] WARNING: /workspace/src/objective/regression_obj.cu:152: reg:linear is now deprecated in favor of reg:squarederror.\n",
            "[01:20:38] WARNING: /workspace/src/objective/regression_obj.cu:152: reg:linear is now deprecated in favor of reg:squarederror.\n",
            "[01:20:38] WARNING: /workspace/src/objective/regression_obj.cu:152: reg:linear is now deprecated in favor of reg:squarederror.\n",
            "[01:20:38] WARNING: /workspace/src/objective/regression_obj.cu:152: reg:linear is now deprecated in favor of reg:squarederror.\n",
            "[01:20:38] WARNING: /workspace/src/objective/regression_obj.cu:152: reg:linear is now deprecated in favor of reg:squarederror.\n",
            "[01:20:39] WARNING: /workspace/src/objective/regression_obj.cu:152: reg:linear is now deprecated in favor of reg:squarederror.\n",
            "[01:20:39] WARNING: /workspace/src/objective/regression_obj.cu:152: reg:linear is now deprecated in favor of reg:squarederror.\n",
            "[01:20:39] WARNING: /workspace/src/objective/regression_obj.cu:152: reg:linear is now deprecated in favor of reg:squarederror.\n",
            "[01:20:39] WARNING: /workspace/src/objective/regression_obj.cu:152: reg:linear is now deprecated in favor of reg:squarederror.\n",
            "[01:20:39] WARNING: /workspace/src/objective/regression_obj.cu:152: reg:linear is now deprecated in favor of reg:squarederror.\n",
            "[01:20:40] WARNING: /workspace/src/objective/regression_obj.cu:152: reg:linear is now deprecated in favor of reg:squarederror.\n",
            "[01:20:40] WARNING: /workspace/src/objective/regression_obj.cu:152: reg:linear is now deprecated in favor of reg:squarederror.\n",
            "[01:20:40] WARNING: /workspace/src/objective/regression_obj.cu:152: reg:linear is now deprecated in favor of reg:squarederror.\n",
            "[01:20:40] WARNING: /workspace/src/objective/regression_obj.cu:152: reg:linear is now deprecated in favor of reg:squarederror.\n",
            "[01:20:40] WARNING: /workspace/src/objective/regression_obj.cu:152: reg:linear is now deprecated in favor of reg:squarederror.\n",
            "[01:20:41] WARNING: /workspace/src/objective/regression_obj.cu:152: reg:linear is now deprecated in favor of reg:squarederror.\n",
            "[01:20:41] WARNING: /workspace/src/objective/regression_obj.cu:152: reg:linear is now deprecated in favor of reg:squarederror.\n",
            "[01:20:41] WARNING: /workspace/src/objective/regression_obj.cu:152: reg:linear is now deprecated in favor of reg:squarederror.\n",
            "[01:20:41] WARNING: /workspace/src/objective/regression_obj.cu:152: reg:linear is now deprecated in favor of reg:squarederror.\n",
            "[01:20:41] WARNING: /workspace/src/objective/regression_obj.cu:152: reg:linear is now deprecated in favor of reg:squarederror.\n",
            "[01:20:42] WARNING: /workspace/src/objective/regression_obj.cu:152: reg:linear is now deprecated in favor of reg:squarederror.\n",
            "[01:20:42] WARNING: /workspace/src/objective/regression_obj.cu:152: reg:linear is now deprecated in favor of reg:squarederror.\n",
            "[01:20:42] WARNING: /workspace/src/objective/regression_obj.cu:152: reg:linear is now deprecated in favor of reg:squarederror.\n",
            "[01:20:42] WARNING: /workspace/src/objective/regression_obj.cu:152: reg:linear is now deprecated in favor of reg:squarederror.\n",
            "[01:20:42] WARNING: /workspace/src/objective/regression_obj.cu:152: reg:linear is now deprecated in favor of reg:squarederror.\n",
            "[01:20:43] WARNING: /workspace/src/objective/regression_obj.cu:152: reg:linear is now deprecated in favor of reg:squarederror.\n",
            "[01:20:43] WARNING: /workspace/src/objective/regression_obj.cu:152: reg:linear is now deprecated in favor of reg:squarederror.\n",
            "[01:20:43] WARNING: /workspace/src/objective/regression_obj.cu:152: reg:linear is now deprecated in favor of reg:squarederror.\n",
            "[01:20:43] WARNING: /workspace/src/objective/regression_obj.cu:152: reg:linear is now deprecated in favor of reg:squarederror.\n",
            "[01:20:43] WARNING: /workspace/src/objective/regression_obj.cu:152: reg:linear is now deprecated in favor of reg:squarederror.\n",
            "[01:20:44] WARNING: /workspace/src/objective/regression_obj.cu:152: reg:linear is now deprecated in favor of reg:squarederror.\n",
            "[01:20:44] WARNING: /workspace/src/objective/regression_obj.cu:152: reg:linear is now deprecated in favor of reg:squarederror.\n",
            "[01:20:44] WARNING: /workspace/src/objective/regression_obj.cu:152: reg:linear is now deprecated in favor of reg:squarederror.\n",
            "[01:20:44] WARNING: /workspace/src/objective/regression_obj.cu:152: reg:linear is now deprecated in favor of reg:squarederror.\n",
            "[01:20:44] WARNING: /workspace/src/objective/regression_obj.cu:152: reg:linear is now deprecated in favor of reg:squarederror.\n",
            "[01:20:45] WARNING: /workspace/src/objective/regression_obj.cu:152: reg:linear is now deprecated in favor of reg:squarederror.\n",
            "[01:20:45] WARNING: /workspace/src/objective/regression_obj.cu:152: reg:linear is now deprecated in favor of reg:squarederror.\n",
            "[01:20:45] WARNING: /workspace/src/objective/regression_obj.cu:152: reg:linear is now deprecated in favor of reg:squarederror.\n",
            "[01:20:45] WARNING: /workspace/src/objective/regression_obj.cu:152: reg:linear is now deprecated in favor of reg:squarederror.\n",
            "[01:20:45] WARNING: /workspace/src/objective/regression_obj.cu:152: reg:linear is now deprecated in favor of reg:squarederror.\n",
            "[01:20:46] WARNING: /workspace/src/objective/regression_obj.cu:152: reg:linear is now deprecated in favor of reg:squarederror.\n",
            "[01:20:46] WARNING: /workspace/src/objective/regression_obj.cu:152: reg:linear is now deprecated in favor of reg:squarederror.\n",
            "[01:20:46] WARNING: /workspace/src/objective/regression_obj.cu:152: reg:linear is now deprecated in favor of reg:squarederror.\n",
            "[01:20:46] WARNING: /workspace/src/objective/regression_obj.cu:152: reg:linear is now deprecated in favor of reg:squarederror.\n",
            "[01:20:46] WARNING: /workspace/src/objective/regression_obj.cu:152: reg:linear is now deprecated in favor of reg:squarederror.\n",
            "[01:20:47] WARNING: /workspace/src/objective/regression_obj.cu:152: reg:linear is now deprecated in favor of reg:squarederror.\n",
            "[01:20:47] WARNING: /workspace/src/objective/regression_obj.cu:152: reg:linear is now deprecated in favor of reg:squarederror.\n",
            "[01:20:47] WARNING: /workspace/src/objective/regression_obj.cu:152: reg:linear is now deprecated in favor of reg:squarederror.\n",
            "[01:20:47] WARNING: /workspace/src/objective/regression_obj.cu:152: reg:linear is now deprecated in favor of reg:squarederror.\n",
            "[01:20:47] WARNING: /workspace/src/objective/regression_obj.cu:152: reg:linear is now deprecated in favor of reg:squarederror.\n",
            "[01:20:48] WARNING: /workspace/src/objective/regression_obj.cu:152: reg:linear is now deprecated in favor of reg:squarederror.\n",
            "[01:20:48] WARNING: /workspace/src/objective/regression_obj.cu:152: reg:linear is now deprecated in favor of reg:squarederror.\n",
            "[01:20:48] WARNING: /workspace/src/objective/regression_obj.cu:152: reg:linear is now deprecated in favor of reg:squarederror.\n",
            "[01:20:48] WARNING: /workspace/src/objective/regression_obj.cu:152: reg:linear is now deprecated in favor of reg:squarederror.\n",
            "[01:20:48] WARNING: /workspace/src/objective/regression_obj.cu:152: reg:linear is now deprecated in favor of reg:squarederror.\n",
            "[01:20:49] WARNING: /workspace/src/objective/regression_obj.cu:152: reg:linear is now deprecated in favor of reg:squarederror.\n",
            "[01:20:49] WARNING: /workspace/src/objective/regression_obj.cu:152: reg:linear is now deprecated in favor of reg:squarederror.\n",
            "[01:20:49] WARNING: /workspace/src/objective/regression_obj.cu:152: reg:linear is now deprecated in favor of reg:squarederror.\n",
            "[01:20:49] WARNING: /workspace/src/objective/regression_obj.cu:152: reg:linear is now deprecated in favor of reg:squarederror.\n",
            "[01:20:50] WARNING: /workspace/src/objective/regression_obj.cu:152: reg:linear is now deprecated in favor of reg:squarederror.\n",
            "[01:20:50] WARNING: /workspace/src/objective/regression_obj.cu:152: reg:linear is now deprecated in favor of reg:squarederror.\n",
            "[01:20:50] WARNING: /workspace/src/objective/regression_obj.cu:152: reg:linear is now deprecated in favor of reg:squarederror.\n",
            "[01:20:50] WARNING: /workspace/src/objective/regression_obj.cu:152: reg:linear is now deprecated in favor of reg:squarederror.\n",
            "[01:20:50] WARNING: /workspace/src/objective/regression_obj.cu:152: reg:linear is now deprecated in favor of reg:squarederror.\n",
            "[01:20:50] WARNING: /workspace/src/objective/regression_obj.cu:152: reg:linear is now deprecated in favor of reg:squarederror.\n",
            "[01:20:51] WARNING: /workspace/src/objective/regression_obj.cu:152: reg:linear is now deprecated in favor of reg:squarederror.\n",
            "[01:20:51] WARNING: /workspace/src/objective/regression_obj.cu:152: reg:linear is now deprecated in favor of reg:squarederror.\n",
            "[01:20:51] WARNING: /workspace/src/objective/regression_obj.cu:152: reg:linear is now deprecated in favor of reg:squarederror.\n",
            "[01:20:51] WARNING: /workspace/src/objective/regression_obj.cu:152: reg:linear is now deprecated in favor of reg:squarederror.\n",
            "[01:20:52] WARNING: /workspace/src/objective/regression_obj.cu:152: reg:linear is now deprecated in favor of reg:squarederror.\n",
            "[01:20:52] WARNING: /workspace/src/objective/regression_obj.cu:152: reg:linear is now deprecated in favor of reg:squarederror.\n",
            "[01:20:52] WARNING: /workspace/src/objective/regression_obj.cu:152: reg:linear is now deprecated in favor of reg:squarederror.\n",
            "[01:20:52] WARNING: /workspace/src/objective/regression_obj.cu:152: reg:linear is now deprecated in favor of reg:squarederror.\n",
            "[01:20:52] WARNING: /workspace/src/objective/regression_obj.cu:152: reg:linear is now deprecated in favor of reg:squarederror.\n",
            "[01:20:53] WARNING: /workspace/src/objective/regression_obj.cu:152: reg:linear is now deprecated in favor of reg:squarederror.\n",
            "[01:20:53] WARNING: /workspace/src/objective/regression_obj.cu:152: reg:linear is now deprecated in favor of reg:squarederror.\n",
            "[01:20:53] WARNING: /workspace/src/objective/regression_obj.cu:152: reg:linear is now deprecated in favor of reg:squarederror.\n",
            "[01:20:53] WARNING: /workspace/src/objective/regression_obj.cu:152: reg:linear is now deprecated in favor of reg:squarederror.\n",
            "[01:20:53] WARNING: /workspace/src/objective/regression_obj.cu:152: reg:linear is now deprecated in favor of reg:squarederror.\n",
            "[01:20:54] WARNING: /workspace/src/objective/regression_obj.cu:152: reg:linear is now deprecated in favor of reg:squarederror.\n",
            "[01:20:54] WARNING: /workspace/src/objective/regression_obj.cu:152: reg:linear is now deprecated in favor of reg:squarederror.\n",
            "[01:20:54] WARNING: /workspace/src/objective/regression_obj.cu:152: reg:linear is now deprecated in favor of reg:squarederror.\n",
            "[01:20:54] WARNING: /workspace/src/objective/regression_obj.cu:152: reg:linear is now deprecated in favor of reg:squarederror.\n",
            "[01:20:54] WARNING: /workspace/src/objective/regression_obj.cu:152: reg:linear is now deprecated in favor of reg:squarederror.\n",
            "[01:20:55] WARNING: /workspace/src/objective/regression_obj.cu:152: reg:linear is now deprecated in favor of reg:squarederror.\n",
            "[01:20:55] WARNING: /workspace/src/objective/regression_obj.cu:152: reg:linear is now deprecated in favor of reg:squarederror.\n",
            "[01:20:55] WARNING: /workspace/src/objective/regression_obj.cu:152: reg:linear is now deprecated in favor of reg:squarederror.\n",
            "[01:20:55] WARNING: /workspace/src/objective/regression_obj.cu:152: reg:linear is now deprecated in favor of reg:squarederror.\n",
            "[01:20:55] WARNING: /workspace/src/objective/regression_obj.cu:152: reg:linear is now deprecated in favor of reg:squarederror.\n",
            "[01:20:56] WARNING: /workspace/src/objective/regression_obj.cu:152: reg:linear is now deprecated in favor of reg:squarederror.\n",
            "[01:20:56] WARNING: /workspace/src/objective/regression_obj.cu:152: reg:linear is now deprecated in favor of reg:squarederror.\n",
            "[01:20:56] WARNING: /workspace/src/objective/regression_obj.cu:152: reg:linear is now deprecated in favor of reg:squarederror.\n",
            "[01:20:56] WARNING: /workspace/src/objective/regression_obj.cu:152: reg:linear is now deprecated in favor of reg:squarederror.\n",
            "[01:20:56] WARNING: /workspace/src/objective/regression_obj.cu:152: reg:linear is now deprecated in favor of reg:squarederror.\n",
            "[01:20:57] WARNING: /workspace/src/objective/regression_obj.cu:152: reg:linear is now deprecated in favor of reg:squarederror.\n",
            "[01:20:57] WARNING: /workspace/src/objective/regression_obj.cu:152: reg:linear is now deprecated in favor of reg:squarederror.\n",
            "[01:20:57] WARNING: /workspace/src/objective/regression_obj.cu:152: reg:linear is now deprecated in favor of reg:squarederror.\n",
            "[01:20:57] WARNING: /workspace/src/objective/regression_obj.cu:152: reg:linear is now deprecated in favor of reg:squarederror.\n",
            "[01:20:57] WARNING: /workspace/src/objective/regression_obj.cu:152: reg:linear is now deprecated in favor of reg:squarederror.\n",
            "[01:20:58] WARNING: /workspace/src/objective/regression_obj.cu:152: reg:linear is now deprecated in favor of reg:squarederror.\n",
            "[01:20:58] WARNING: /workspace/src/objective/regression_obj.cu:152: reg:linear is now deprecated in favor of reg:squarederror.\n",
            "[01:20:58] WARNING: /workspace/src/objective/regression_obj.cu:152: reg:linear is now deprecated in favor of reg:squarederror.\n",
            "[01:20:58] WARNING: /workspace/src/objective/regression_obj.cu:152: reg:linear is now deprecated in favor of reg:squarederror.\n",
            "[01:20:58] WARNING: /workspace/src/objective/regression_obj.cu:152: reg:linear is now deprecated in favor of reg:squarederror.\n",
            "[01:20:58] WARNING: /workspace/src/objective/regression_obj.cu:152: reg:linear is now deprecated in favor of reg:squarederror.\n",
            "[01:20:59] WARNING: /workspace/src/objective/regression_obj.cu:152: reg:linear is now deprecated in favor of reg:squarederror.\n",
            "[01:20:59] WARNING: /workspace/src/objective/regression_obj.cu:152: reg:linear is now deprecated in favor of reg:squarederror.\n",
            "[01:20:59] WARNING: /workspace/src/objective/regression_obj.cu:152: reg:linear is now deprecated in favor of reg:squarederror.\n",
            "[01:20:59] WARNING: /workspace/src/objective/regression_obj.cu:152: reg:linear is now deprecated in favor of reg:squarederror.\n",
            "[01:20:59] WARNING: /workspace/src/objective/regression_obj.cu:152: reg:linear is now deprecated in favor of reg:squarederror.\n",
            "[01:21:00] WARNING: /workspace/src/objective/regression_obj.cu:152: reg:linear is now deprecated in favor of reg:squarederror.\n",
            "[01:21:00] WARNING: /workspace/src/objective/regression_obj.cu:152: reg:linear is now deprecated in favor of reg:squarederror.\n",
            "[01:21:00] WARNING: /workspace/src/objective/regression_obj.cu:152: reg:linear is now deprecated in favor of reg:squarederror.\n",
            "[01:21:00] WARNING: /workspace/src/objective/regression_obj.cu:152: reg:linear is now deprecated in favor of reg:squarederror.\n",
            "[01:21:00] WARNING: /workspace/src/objective/regression_obj.cu:152: reg:linear is now deprecated in favor of reg:squarederror.\n",
            "[01:21:01] WARNING: /workspace/src/objective/regression_obj.cu:152: reg:linear is now deprecated in favor of reg:squarederror.\n",
            "[01:21:01] WARNING: /workspace/src/objective/regression_obj.cu:152: reg:linear is now deprecated in favor of reg:squarederror.\n",
            "[01:21:01] WARNING: /workspace/src/objective/regression_obj.cu:152: reg:linear is now deprecated in favor of reg:squarederror.\n",
            "[01:21:01] WARNING: /workspace/src/objective/regression_obj.cu:152: reg:linear is now deprecated in favor of reg:squarederror.\n",
            "[01:21:01] WARNING: /workspace/src/objective/regression_obj.cu:152: reg:linear is now deprecated in favor of reg:squarederror.\n",
            "[01:21:02] WARNING: /workspace/src/objective/regression_obj.cu:152: reg:linear is now deprecated in favor of reg:squarederror.\n",
            "[01:21:02] WARNING: /workspace/src/objective/regression_obj.cu:152: reg:linear is now deprecated in favor of reg:squarederror.\n",
            "[01:21:02] WARNING: /workspace/src/objective/regression_obj.cu:152: reg:linear is now deprecated in favor of reg:squarederror.\n",
            "[01:21:02] WARNING: /workspace/src/objective/regression_obj.cu:152: reg:linear is now deprecated in favor of reg:squarederror.\n",
            "CPU times: user 30.3 s, sys: 760 ms, total: 31.1 s\n",
            "Wall time: 31 s\n"
          ],
          "name": "stdout"
        }
      ]
    },
    {
      "cell_type": "code",
      "metadata": {
        "id": "LwmGEAOeUuXH",
        "colab_type": "code",
        "colab": {
          "base_uri": "https://localhost:8080/",
          "height": 509
        },
        "outputId": "76970ef0-9980-4c48-ea50-b301c45ec55e"
      },
      "source": [
        "pd.options.display.max_colwidth = 100\n",
        "sensitivity_result"
      ],
      "execution_count": null,
      "outputs": [
        {
          "output_type": "execute_result",
          "data": {
            "text/html": [
              "<div>\n",
              "<style scoped>\n",
              "    .dataframe tbody tr th:only-of-type {\n",
              "        vertical-align: middle;\n",
              "    }\n",
              "\n",
              "    .dataframe tbody tr th {\n",
              "        vertical-align: top;\n",
              "    }\n",
              "\n",
              "    .dataframe thead th {\n",
              "        text-align: right;\n",
              "    }\n",
              "</style>\n",
              "<table border=\"1\" class=\"dataframe\">\n",
              "  <thead>\n",
              "    <tr style=\"text-align: right;\">\n",
              "      <th></th>\n",
              "      <th>Method</th>\n",
              "      <th>ATE</th>\n",
              "      <th>New ATE</th>\n",
              "      <th>New ATE LB</th>\n",
              "      <th>New ATE UB</th>\n",
              "    </tr>\n",
              "  </thead>\n",
              "  <tbody>\n",
              "    <tr>\n",
              "      <th>0</th>\n",
              "      <td>Placebo Treatment</td>\n",
              "      <td>592.507</td>\n",
              "      <td>-165.242</td>\n",
              "      <td>-757.203</td>\n",
              "      <td>426.719</td>\n",
              "    </tr>\n",
              "    <tr>\n",
              "      <th>0</th>\n",
              "      <td>Random Cause</td>\n",
              "      <td>592.507</td>\n",
              "      <td>926.824</td>\n",
              "      <td>372.232</td>\n",
              "      <td>1481.42</td>\n",
              "    </tr>\n",
              "    <tr>\n",
              "      <th>0</th>\n",
              "      <td>Subset Data(sample size @0.2)</td>\n",
              "      <td>592.507</td>\n",
              "      <td>5733.55</td>\n",
              "      <td>3368.53</td>\n",
              "      <td>8098.57</td>\n",
              "    </tr>\n",
              "    <tr>\n",
              "      <th>0</th>\n",
              "      <td>Random Replace</td>\n",
              "      <td>592.507</td>\n",
              "      <td>463.379</td>\n",
              "      <td>-108.102</td>\n",
              "      <td>1034.86</td>\n",
              "    </tr>\n",
              "    <tr>\n",
              "      <th>0</th>\n",
              "      <td>Selection Bias (alpha@-5327.65454, with r-sqaure:0.0414</td>\n",
              "      <td>592.507</td>\n",
              "      <td>-4693.69</td>\n",
              "      <td>-5471.88</td>\n",
              "      <td>-3915.49</td>\n",
              "    </tr>\n",
              "    <tr>\n",
              "      <th>0</th>\n",
              "      <td>Selection Bias (alpha@-4262.12363, with r-sqaure:0.0256</td>\n",
              "      <td>592.507</td>\n",
              "      <td>-3733.86</td>\n",
              "      <td>-4537.86</td>\n",
              "      <td>-2929.86</td>\n",
              "    </tr>\n",
              "    <tr>\n",
              "      <th>0</th>\n",
              "      <td>Selection Bias (alpha@-3196.59272, with r-sqaure:0.01571</td>\n",
              "      <td>592.507</td>\n",
              "      <td>-2531.25</td>\n",
              "      <td>-3302</td>\n",
              "      <td>-1760.51</td>\n",
              "    </tr>\n",
              "    <tr>\n",
              "      <th>0</th>\n",
              "      <td>Selection Bias (alpha@-2131.06182, with r-sqaure:0.00658</td>\n",
              "      <td>592.507</td>\n",
              "      <td>-1576.3</td>\n",
              "      <td>-2368.61</td>\n",
              "      <td>-784.001</td>\n",
              "    </tr>\n",
              "    <tr>\n",
              "      <th>0</th>\n",
              "      <td>Selection Bias (alpha@-1065.53091, with r-sqaure:0.0017</td>\n",
              "      <td>592.507</td>\n",
              "      <td>-395.445</td>\n",
              "      <td>-1189.78</td>\n",
              "      <td>398.891</td>\n",
              "    </tr>\n",
              "    <tr>\n",
              "      <th>0</th>\n",
              "      <td>Selection Bias (alpha@0.0, with r-sqaure:0.0</td>\n",
              "      <td>592.507</td>\n",
              "      <td>592.507</td>\n",
              "      <td>-190.504</td>\n",
              "      <td>1375.52</td>\n",
              "    </tr>\n",
              "    <tr>\n",
              "      <th>0</th>\n",
              "      <td>Selection Bias (alpha@1065.53091, with r-sqaure:0.00171</td>\n",
              "      <td>592.507</td>\n",
              "      <td>1446.57</td>\n",
              "      <td>656.121</td>\n",
              "      <td>2237.03</td>\n",
              "    </tr>\n",
              "    <tr>\n",
              "      <th>0</th>\n",
              "      <td>Selection Bias (alpha@2131.06181, with r-sqaure:0.00707</td>\n",
              "      <td>592.507</td>\n",
              "      <td>3069.6</td>\n",
              "      <td>2289.72</td>\n",
              "      <td>3849.49</td>\n",
              "    </tr>\n",
              "    <tr>\n",
              "      <th>0</th>\n",
              "      <td>Selection Bias (alpha@3196.59272, with r-sqaure:0.01558</td>\n",
              "      <td>592.507</td>\n",
              "      <td>3809.62</td>\n",
              "      <td>3028.22</td>\n",
              "      <td>4591.02</td>\n",
              "    </tr>\n",
              "    <tr>\n",
              "      <th>0</th>\n",
              "      <td>Selection Bias (alpha@4262.12363, with r-sqaure:0.02711</td>\n",
              "      <td>592.507</td>\n",
              "      <td>4937.08</td>\n",
              "      <td>4145.37</td>\n",
              "      <td>5728.78</td>\n",
              "    </tr>\n",
              "    <tr>\n",
              "      <th>0</th>\n",
              "      <td>Selection Bias (alpha@5327.65454, with r-sqaure:0.03978</td>\n",
              "      <td>592.507</td>\n",
              "      <td>5459.83</td>\n",
              "      <td>4641.77</td>\n",
              "      <td>6277.89</td>\n",
              "    </tr>\n",
              "  </tbody>\n",
              "</table>\n",
              "</div>"
            ],
            "text/plain": [
              "                                                     Method  ... New ATE UB\n",
              "0                                         Placebo Treatment  ...    426.719\n",
              "0                                              Random Cause  ...    1481.42\n",
              "0                             Subset Data(sample size @0.2)  ...    8098.57\n",
              "0                                            Random Replace  ...    1034.86\n",
              "0   Selection Bias (alpha@-5327.65454, with r-sqaure:0.0414  ...   -3915.49\n",
              "0   Selection Bias (alpha@-4262.12363, with r-sqaure:0.0256  ...   -2929.86\n",
              "0  Selection Bias (alpha@-3196.59272, with r-sqaure:0.01571  ...   -1760.51\n",
              "0  Selection Bias (alpha@-2131.06182, with r-sqaure:0.00658  ...   -784.001\n",
              "0   Selection Bias (alpha@-1065.53091, with r-sqaure:0.0017  ...    398.891\n",
              "0              Selection Bias (alpha@0.0, with r-sqaure:0.0  ...    1375.52\n",
              "0   Selection Bias (alpha@1065.53091, with r-sqaure:0.00171  ...    2237.03\n",
              "0   Selection Bias (alpha@2131.06181, with r-sqaure:0.00707  ...    3849.49\n",
              "0   Selection Bias (alpha@3196.59272, with r-sqaure:0.01558  ...    4591.02\n",
              "0   Selection Bias (alpha@4262.12363, with r-sqaure:0.02711  ...    5728.78\n",
              "0   Selection Bias (alpha@5327.65454, with r-sqaure:0.03978  ...    6277.89\n",
              "\n",
              "[15 rows x 5 columns]"
            ]
          },
          "metadata": {
            "tags": []
          },
          "execution_count": 78
        }
      ]
    },
    {
      "cell_type": "markdown",
      "metadata": {
        "id": "TusK4DbbYp3T",
        "colab_type": "text"
      },
      "source": [
        "## TODO:感度分析後のATEがget_prediction().mean()の値と異なる原因調査"
      ]
    },
    {
      "cell_type": "code",
      "metadata": {
        "id": "r43VLXUbYR7P",
        "colab_type": "code",
        "colab": {}
      },
      "source": [
        ""
      ],
      "execution_count": null,
      "outputs": []
    }
  ]
}