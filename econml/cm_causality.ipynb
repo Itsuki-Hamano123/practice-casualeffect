{
  "nbformat": 4,
  "nbformat_minor": 0,
  "metadata": {
    "colab": {
      "name": "cm_causality.ipynb",
      "provenance": [],
      "collapsed_sections": [],
      "toc_visible": true,
      "mount_file_id": "15LiD8A6OexI5NfRH3Iak7IAqRJZ5OpaO",
      "authorship_tag": "ABX9TyMbBceWv0Tc5dYYoJcrAxYl",
      "include_colab_link": true
    },
    "kernelspec": {
      "name": "python3",
      "display_name": "Python 3"
    },
    "accelerator": "GPU"
  },
  "cells": [
    {
      "cell_type": "markdown",
      "metadata": {
        "id": "view-in-github",
        "colab_type": "text"
      },
      "source": [
        "<a href=\"https://colab.research.google.com/github/Itsuki-Hamano123/practice-casualeffect/blob/master/econml/cm_causality.ipynb\" target=\"_parent\"><img src=\"https://colab.research.google.com/assets/colab-badge.svg\" alt=\"Open In Colab\"/></a>"
      ]
    },
    {
      "cell_type": "markdown",
      "metadata": {
        "id": "AWJdkDNoBk4-",
        "colab_type": "text"
      },
      "source": [
        "### ライブラリのインストール\n",
        "- econml（マイクロソフト）"
      ]
    },
    {
      "cell_type": "code",
      "metadata": {
        "id": "PJEmsXuy--k9",
        "colab_type": "code",
        "outputId": "f47b9fee-6e37-4950-8401-ca77b2a2e83a",
        "colab": {
          "base_uri": "https://localhost:8080/",
          "height": 1000
        }
      },
      "source": [
        "!pip install econml"
      ],
      "execution_count": 1,
      "outputs": [
        {
          "output_type": "stream",
          "text": [
            "Collecting econml\n",
            "\u001b[?25l  Downloading https://files.pythonhosted.org/packages/98/30/9b89a34fa81f2b591671a15fca844ef6f5d9764e2951ef9e30ad2967cdfa/econml-0.7.0-py3-none-any.whl (312kB)\n",
            "\r\u001b[K     |█                               | 10kB 25.2MB/s eta 0:00:01\r\u001b[K     |██                              | 20kB 6.0MB/s eta 0:00:01\r\u001b[K     |███▏                            | 30kB 7.0MB/s eta 0:00:01\r\u001b[K     |████▏                           | 40kB 8.2MB/s eta 0:00:01\r\u001b[K     |█████▎                          | 51kB 6.7MB/s eta 0:00:01\r\u001b[K     |██████▎                         | 61kB 7.9MB/s eta 0:00:01\r\u001b[K     |███████▍                        | 71kB 8.2MB/s eta 0:00:01\r\u001b[K     |████████▍                       | 81kB 8.5MB/s eta 0:00:01\r\u001b[K     |█████████▍                      | 92kB 8.0MB/s eta 0:00:01\r\u001b[K     |██████████▌                     | 102kB 8.3MB/s eta 0:00:01\r\u001b[K     |███████████▌                    | 112kB 8.3MB/s eta 0:00:01\r\u001b[K     |████████████▋                   | 122kB 8.3MB/s eta 0:00:01\r\u001b[K     |█████████████▋                  | 133kB 8.3MB/s eta 0:00:01\r\u001b[K     |██████████████▊                 | 143kB 8.3MB/s eta 0:00:01\r\u001b[K     |███████████████▊                | 153kB 8.3MB/s eta 0:00:01\r\u001b[K     |████████████████▉               | 163kB 8.3MB/s eta 0:00:01\r\u001b[K     |█████████████████▉              | 174kB 8.3MB/s eta 0:00:01\r\u001b[K     |██████████████████▉             | 184kB 8.3MB/s eta 0:00:01\r\u001b[K     |████████████████████            | 194kB 8.3MB/s eta 0:00:01\r\u001b[K     |█████████████████████           | 204kB 8.3MB/s eta 0:00:01\r\u001b[K     |██████████████████████          | 215kB 8.3MB/s eta 0:00:01\r\u001b[K     |███████████████████████         | 225kB 8.3MB/s eta 0:00:01\r\u001b[K     |████████████████████████▏       | 235kB 8.3MB/s eta 0:00:01\r\u001b[K     |█████████████████████████▏      | 245kB 8.3MB/s eta 0:00:01\r\u001b[K     |██████████████████████████▏     | 256kB 8.3MB/s eta 0:00:01\r\u001b[K     |███████████████████████████▎    | 266kB 8.3MB/s eta 0:00:01\r\u001b[K     |████████████████████████████▎   | 276kB 8.3MB/s eta 0:00:01\r\u001b[K     |█████████████████████████████▍  | 286kB 8.3MB/s eta 0:00:01\r\u001b[K     |██████████████████████████████▍ | 296kB 8.3MB/s eta 0:00:01\r\u001b[K     |███████████████████████████████▌| 307kB 8.3MB/s eta 0:00:01\r\u001b[K     |████████████████████████████████| 317kB 8.3MB/s \n",
            "\u001b[?25hRequirement already satisfied: numpy in /usr/local/lib/python3.6/dist-packages (from econml) (1.18.5)\n",
            "Collecting sparse\n",
            "\u001b[?25l  Downloading https://files.pythonhosted.org/packages/3a/25/562a0cebb6fc36f16989469350ac96e9dbe2cc11dba0c22c34d0eff2f5dd/sparse-0.10.0-py2.py3-none-any.whl (64kB)\n",
            "\u001b[K     |████████████████████████████████| 71kB 8.0MB/s \n",
            "\u001b[?25hRequirement already satisfied: matplotlib; python_version > \"3.5\" in /usr/local/lib/python3.6/dist-packages (from econml) (3.2.1)\n",
            "Requirement already satisfied: scipy!=1.4.0 in /usr/local/lib/python3.6/dist-packages (from econml) (1.4.1)\n",
            "Requirement already satisfied: keras in /usr/local/lib/python3.6/dist-packages (from econml) (2.3.1)\n",
            "Requirement already satisfied: statsmodels>=0.9 in /usr/local/lib/python3.6/dist-packages (from econml) (0.10.2)\n",
            "Requirement already satisfied: graphviz in /usr/local/lib/python3.6/dist-packages (from econml) (0.10.1)\n",
            "Requirement already satisfied: pandas in /usr/local/lib/python3.6/dist-packages (from econml) (1.0.4)\n",
            "Collecting tensorflow==1.*\n",
            "\u001b[?25l  Downloading https://files.pythonhosted.org/packages/02/36/9a02e27f0ec248b676a380ffe910c1858e3af3027c0d4d513dd0b56a5613/tensorflow-1.15.3-cp36-cp36m-manylinux2010_x86_64.whl (110.5MB)\n",
            "\u001b[K     |████████████████████████████████| 110.5MB 94kB/s \n",
            "\u001b[?25hRequirement already satisfied: numba!=0.42.1 in /usr/local/lib/python3.6/dist-packages (from econml) (0.48.0)\n",
            "Collecting scikit-learn~=0.21.0\n",
            "\u001b[?25l  Downloading https://files.pythonhosted.org/packages/a0/c5/d2238762d780dde84a20b8c761f563fe882b88c5a5fb03c056547c442a19/scikit_learn-0.21.3-cp36-cp36m-manylinux1_x86_64.whl (6.7MB)\n",
            "\u001b[K     |████████████████████████████████| 6.7MB 58.8MB/s \n",
            "\u001b[?25hRequirement already satisfied: joblib>=0.13.0 in /usr/local/lib/python3.6/dist-packages (from econml) (0.15.1)\n",
            "Requirement already satisfied: pyparsing!=2.0.4,!=2.1.2,!=2.1.6,>=2.0.1 in /usr/local/lib/python3.6/dist-packages (from matplotlib; python_version > \"3.5\"->econml) (2.4.7)\n",
            "Requirement already satisfied: cycler>=0.10 in /usr/local/lib/python3.6/dist-packages (from matplotlib; python_version > \"3.5\"->econml) (0.10.0)\n",
            "Requirement already satisfied: kiwisolver>=1.0.1 in /usr/local/lib/python3.6/dist-packages (from matplotlib; python_version > \"3.5\"->econml) (1.2.0)\n",
            "Requirement already satisfied: python-dateutil>=2.1 in /usr/local/lib/python3.6/dist-packages (from matplotlib; python_version > \"3.5\"->econml) (2.8.1)\n",
            "Requirement already satisfied: six>=1.9.0 in /usr/local/lib/python3.6/dist-packages (from keras->econml) (1.12.0)\n",
            "Requirement already satisfied: keras-applications>=1.0.6 in /usr/local/lib/python3.6/dist-packages (from keras->econml) (1.0.8)\n",
            "Requirement already satisfied: h5py in /usr/local/lib/python3.6/dist-packages (from keras->econml) (2.10.0)\n",
            "Requirement already satisfied: pyyaml in /usr/local/lib/python3.6/dist-packages (from keras->econml) (3.13)\n",
            "Requirement already satisfied: keras-preprocessing>=1.0.5 in /usr/local/lib/python3.6/dist-packages (from keras->econml) (1.1.2)\n",
            "Requirement already satisfied: patsy>=0.4.0 in /usr/local/lib/python3.6/dist-packages (from statsmodels>=0.9->econml) (0.5.1)\n",
            "Requirement already satisfied: pytz>=2017.2 in /usr/local/lib/python3.6/dist-packages (from pandas->econml) (2018.9)\n",
            "Collecting gast==0.2.2\n",
            "  Downloading https://files.pythonhosted.org/packages/4e/35/11749bf99b2d4e3cceb4d55ca22590b0d7c2c62b9de38ac4a4a7f4687421/gast-0.2.2.tar.gz\n",
            "Requirement already satisfied: google-pasta>=0.1.6 in /usr/local/lib/python3.6/dist-packages (from tensorflow==1.*->econml) (0.2.0)\n",
            "Requirement already satisfied: absl-py>=0.7.0 in /usr/local/lib/python3.6/dist-packages (from tensorflow==1.*->econml) (0.9.0)\n",
            "Requirement already satisfied: astor>=0.6.0 in /usr/local/lib/python3.6/dist-packages (from tensorflow==1.*->econml) (0.8.1)\n",
            "Collecting tensorboard<1.16.0,>=1.15.0\n",
            "\u001b[?25l  Downloading https://files.pythonhosted.org/packages/1e/e9/d3d747a97f7188f48aa5eda486907f3b345cd409f0a0850468ba867db246/tensorboard-1.15.0-py3-none-any.whl (3.8MB)\n",
            "\u001b[K     |████████████████████████████████| 3.8MB 53.3MB/s \n",
            "\u001b[?25hRequirement already satisfied: termcolor>=1.1.0 in /usr/local/lib/python3.6/dist-packages (from tensorflow==1.*->econml) (1.1.0)\n",
            "Requirement already satisfied: wheel>=0.26; python_version >= \"3\" in /usr/local/lib/python3.6/dist-packages (from tensorflow==1.*->econml) (0.34.2)\n",
            "Requirement already satisfied: opt-einsum>=2.3.2 in /usr/local/lib/python3.6/dist-packages (from tensorflow==1.*->econml) (3.2.1)\n",
            "Requirement already satisfied: protobuf>=3.6.1 in /usr/local/lib/python3.6/dist-packages (from tensorflow==1.*->econml) (3.10.0)\n",
            "Collecting tensorflow-estimator==1.15.1\n",
            "\u001b[?25l  Downloading https://files.pythonhosted.org/packages/de/62/2ee9cd74c9fa2fa450877847ba560b260f5d0fb70ee0595203082dafcc9d/tensorflow_estimator-1.15.1-py2.py3-none-any.whl (503kB)\n",
            "\u001b[K     |████████████████████████████████| 512kB 54.8MB/s \n",
            "\u001b[?25hRequirement already satisfied: grpcio>=1.8.6 in /usr/local/lib/python3.6/dist-packages (from tensorflow==1.*->econml) (1.29.0)\n",
            "Requirement already satisfied: wrapt>=1.11.1 in /usr/local/lib/python3.6/dist-packages (from tensorflow==1.*->econml) (1.12.1)\n",
            "Requirement already satisfied: llvmlite<0.32.0,>=0.31.0dev0 in /usr/local/lib/python3.6/dist-packages (from numba!=0.42.1->econml) (0.31.0)\n",
            "Requirement already satisfied: setuptools in /usr/local/lib/python3.6/dist-packages (from numba!=0.42.1->econml) (47.1.1)\n",
            "Requirement already satisfied: markdown>=2.6.8 in /usr/local/lib/python3.6/dist-packages (from tensorboard<1.16.0,>=1.15.0->tensorflow==1.*->econml) (3.2.2)\n",
            "Requirement already satisfied: werkzeug>=0.11.15 in /usr/local/lib/python3.6/dist-packages (from tensorboard<1.16.0,>=1.15.0->tensorflow==1.*->econml) (1.0.1)\n",
            "Requirement already satisfied: importlib-metadata; python_version < \"3.8\" in /usr/local/lib/python3.6/dist-packages (from markdown>=2.6.8->tensorboard<1.16.0,>=1.15.0->tensorflow==1.*->econml) (1.6.0)\n",
            "Requirement already satisfied: zipp>=0.5 in /usr/local/lib/python3.6/dist-packages (from importlib-metadata; python_version < \"3.8\"->markdown>=2.6.8->tensorboard<1.16.0,>=1.15.0->tensorflow==1.*->econml) (3.1.0)\n",
            "Building wheels for collected packages: gast\n",
            "  Building wheel for gast (setup.py) ... \u001b[?25l\u001b[?25hdone\n",
            "  Created wheel for gast: filename=gast-0.2.2-cp36-none-any.whl size=7540 sha256=9d753c9b0268da6076e11d6e60f39b478eaac8447b4ace1ea1f4759d012c4b53\n",
            "  Stored in directory: /root/.cache/pip/wheels/5c/2e/7e/a1d4d4fcebe6c381f378ce7743a3ced3699feb89bcfbdadadd\n",
            "Successfully built gast\n",
            "\u001b[31mERROR: tensorflow-probability 0.10.0 has requirement gast>=0.3.2, but you'll have gast 0.2.2 which is incompatible.\u001b[0m\n",
            "\u001b[31mERROR: sparse 0.10.0 has requirement numba>=0.49, but you'll have numba 0.48.0 which is incompatible.\u001b[0m\n",
            "Installing collected packages: sparse, gast, tensorboard, tensorflow-estimator, tensorflow, scikit-learn, econml\n",
            "  Found existing installation: gast 0.3.3\n",
            "    Uninstalling gast-0.3.3:\n",
            "      Successfully uninstalled gast-0.3.3\n",
            "  Found existing installation: tensorboard 2.2.2\n",
            "    Uninstalling tensorboard-2.2.2:\n",
            "      Successfully uninstalled tensorboard-2.2.2\n",
            "  Found existing installation: tensorflow-estimator 2.2.0\n",
            "    Uninstalling tensorflow-estimator-2.2.0:\n",
            "      Successfully uninstalled tensorflow-estimator-2.2.0\n",
            "  Found existing installation: tensorflow 2.2.0\n",
            "    Uninstalling tensorflow-2.2.0:\n",
            "      Successfully uninstalled tensorflow-2.2.0\n",
            "  Found existing installation: scikit-learn 0.22.2.post1\n",
            "    Uninstalling scikit-learn-0.22.2.post1:\n",
            "      Successfully uninstalled scikit-learn-0.22.2.post1\n",
            "Successfully installed econml-0.7.0 gast-0.2.2 scikit-learn-0.21.3 sparse-0.10.0 tensorboard-1.15.0 tensorflow-1.15.3 tensorflow-estimator-1.15.1\n"
          ],
          "name": "stdout"
        }
      ]
    },
    {
      "cell_type": "code",
      "metadata": {
        "id": "A_FV1wR5-geJ",
        "colab_type": "code",
        "outputId": "3027cf96-b8e0-4c9d-f96d-8c71f96a32e8",
        "colab": {
          "base_uri": "https://localhost:8080/",
          "height": 122
        }
      },
      "source": [
        "from google.colab import drive\n",
        "drive.mount('/gdrive')"
      ],
      "execution_count": 2,
      "outputs": [
        {
          "output_type": "stream",
          "text": [
            "Go to this URL in a browser: https://accounts.google.com/o/oauth2/auth?client_id=947318989803-6bn6qk8qdgf4n4g3pfee6491hc0brc4i.apps.googleusercontent.com&redirect_uri=urn%3aietf%3awg%3aoauth%3a2.0%3aoob&response_type=code&scope=email%20https%3a%2f%2fwww.googleapis.com%2fauth%2fdocs.test%20https%3a%2f%2fwww.googleapis.com%2fauth%2fdrive%20https%3a%2f%2fwww.googleapis.com%2fauth%2fdrive.photos.readonly%20https%3a%2f%2fwww.googleapis.com%2fauth%2fpeopleapi.readonly\n",
            "\n",
            "Enter your authorization code:\n",
            "··········\n",
            "Mounted at /gdrive\n"
          ],
          "name": "stdout"
        }
      ]
    },
    {
      "cell_type": "code",
      "metadata": {
        "id": "fqNgJ3JD94RO",
        "colab_type": "code",
        "outputId": "31d74150-a507-4a1a-e56e-533549d649bb",
        "colab": {
          "base_uri": "https://localhost:8080/",
          "height": 34
        }
      },
      "source": [
        "cd /gdrive/My Drive/機械学習練習/統計的因果推論/因果推論実践用/econML"
      ],
      "execution_count": 3,
      "outputs": [
        {
          "output_type": "stream",
          "text": [
            "/gdrive/My Drive/機械学習練習/統計的因果推論/因果推論実践用/econML\n"
          ],
          "name": "stdout"
        }
      ]
    },
    {
      "cell_type": "code",
      "metadata": {
        "id": "UzIC-Cuu--HR",
        "colab_type": "code",
        "outputId": "bd00b410-e1d3-4f9c-93c2-79e986e83be8",
        "colab": {
          "base_uri": "https://localhost:8080/",
          "height": 34
        }
      },
      "source": [
        "ls"
      ],
      "execution_count": 4,
      "outputs": [
        {
          "output_type": "stream",
          "text": [
            "\u001b[0m\u001b[01;34mbk\u001b[0m/  cm_causality.ipynb  econML_readDocumet.ipynb  \u001b[01;34mmodel\u001b[0m/\n"
          ],
          "name": "stdout"
        }
      ]
    },
    {
      "cell_type": "markdown",
      "metadata": {
        "id": "ftsPh0li_EjM",
        "colab_type": "text"
      },
      "source": [
        "# アプリのCM配信におけるユーザの傾向スコアの分布とCATEの関係性を分析"
      ]
    },
    {
      "cell_type": "markdown",
      "metadata": {
        "id": "MjjM4t4bQSaq",
        "colab_type": "text"
      },
      "source": [
        "## データの前処理\n",
        "\n",
        "\n",
        "\n",
        "\n"
      ]
    },
    {
      "cell_type": "markdown",
      "metadata": {
        "id": "MMAHi43cByQO",
        "colab_type": "text"
      },
      "source": [
        "### 分析対象のデータ読み込み"
      ]
    },
    {
      "cell_type": "code",
      "metadata": {
        "id": "4gDj95jfBxw3",
        "colab_type": "code",
        "colab": {}
      },
      "source": [
        "import datetime\n",
        "\n",
        "import matplotlib.pyplot as plt\n",
        "import numpy as np\n",
        "import pandas as pd"
      ],
      "execution_count": 0,
      "outputs": []
    },
    {
      "cell_type": "code",
      "metadata": {
        "id": "tG20tfpeDZuQ",
        "colab_type": "code",
        "colab": {}
      },
      "source": [
        "DATA_DIR = \"../datasets\"\n",
        "CSV_FIEL = \"game_cm_abtest.csv\"\n",
        "data_path = DATA_DIR + \"/\" + CSV_FIEL"
      ],
      "execution_count": 0,
      "outputs": []
    },
    {
      "cell_type": "code",
      "metadata": {
        "id": "nBy21EmzEE9B",
        "colab_type": "code",
        "outputId": "d6451b62-2e87-458b-f1a7-aadabc5f4cf8",
        "colab": {
          "base_uri": "https://localhost:8080/",
          "height": 162
        }
      },
      "source": [
        "read_data = pd.read_csv(data_path)\n",
        "read_data.head(3)"
      ],
      "execution_count": 7,
      "outputs": [
        {
          "output_type": "execute_result",
          "data": {
            "text/html": [
              "<div>\n",
              "<style scoped>\n",
              "    .dataframe tbody tr th:only-of-type {\n",
              "        vertical-align: middle;\n",
              "    }\n",
              "\n",
              "    .dataframe tbody tr th {\n",
              "        vertical-align: top;\n",
              "    }\n",
              "\n",
              "    .dataframe thead th {\n",
              "        text-align: right;\n",
              "    }\n",
              "</style>\n",
              "<table border=\"1\" class=\"dataframe\">\n",
              "  <thead>\n",
              "    <tr style=\"text-align: right;\">\n",
              "      <th></th>\n",
              "      <th>cm_dummy</th>\n",
              "      <th>gamedummy</th>\n",
              "      <th>area_kanto</th>\n",
              "      <th>area_keihan</th>\n",
              "      <th>area_tokai</th>\n",
              "      <th>area_keihanshin</th>\n",
              "      <th>age</th>\n",
              "      <th>sex</th>\n",
              "      <th>marry_dummy</th>\n",
              "      <th>job_dummy1</th>\n",
              "      <th>job_dummy2</th>\n",
              "      <th>job_dummy3</th>\n",
              "      <th>job_dummy4</th>\n",
              "      <th>job_dummy5</th>\n",
              "      <th>job_dummy6</th>\n",
              "      <th>job_dummy7</th>\n",
              "      <th>job_dummy8</th>\n",
              "      <th>inc</th>\n",
              "      <th>pmoney</th>\n",
              "      <th>fam_str_dummy1</th>\n",
              "      <th>fam_str_dummy2</th>\n",
              "      <th>fam_str_dummy3</th>\n",
              "      <th>fam_str_dummy4</th>\n",
              "      <th>fam_str_dummy5</th>\n",
              "      <th>child_dummy</th>\n",
              "      <th>T</th>\n",
              "      <th>F1</th>\n",
              "      <th>F2</th>\n",
              "      <th>F3</th>\n",
              "      <th>M1</th>\n",
              "      <th>M2</th>\n",
              "      <th>M3</th>\n",
              "      <th>TVwatch_day</th>\n",
              "      <th>gamesecond</th>\n",
              "      <th>gamecount</th>\n",
              "    </tr>\n",
              "  </thead>\n",
              "  <tbody>\n",
              "    <tr>\n",
              "      <th>0</th>\n",
              "      <td>0</td>\n",
              "      <td>0</td>\n",
              "      <td>0</td>\n",
              "      <td>0</td>\n",
              "      <td>0</td>\n",
              "      <td>1</td>\n",
              "      <td>44.5</td>\n",
              "      <td>1</td>\n",
              "      <td>1</td>\n",
              "      <td>1</td>\n",
              "      <td>0</td>\n",
              "      <td>0</td>\n",
              "      <td>0</td>\n",
              "      <td>0</td>\n",
              "      <td>0</td>\n",
              "      <td>0</td>\n",
              "      <td>0</td>\n",
              "      <td>249.5</td>\n",
              "      <td>0.0</td>\n",
              "      <td>0</td>\n",
              "      <td>0</td>\n",
              "      <td>1</td>\n",
              "      <td>0</td>\n",
              "      <td>0</td>\n",
              "      <td>1</td>\n",
              "      <td>0</td>\n",
              "      <td>0</td>\n",
              "      <td>0</td>\n",
              "      <td>0</td>\n",
              "      <td>0</td>\n",
              "      <td>1</td>\n",
              "      <td>0</td>\n",
              "      <td>33.427600</td>\n",
              "      <td>0</td>\n",
              "      <td>0</td>\n",
              "    </tr>\n",
              "    <tr>\n",
              "      <th>1</th>\n",
              "      <td>0</td>\n",
              "      <td>0</td>\n",
              "      <td>0</td>\n",
              "      <td>1</td>\n",
              "      <td>0</td>\n",
              "      <td>0</td>\n",
              "      <td>34.5</td>\n",
              "      <td>1</td>\n",
              "      <td>1</td>\n",
              "      <td>1</td>\n",
              "      <td>0</td>\n",
              "      <td>0</td>\n",
              "      <td>0</td>\n",
              "      <td>0</td>\n",
              "      <td>0</td>\n",
              "      <td>0</td>\n",
              "      <td>0</td>\n",
              "      <td>800.0</td>\n",
              "      <td>12.5</td>\n",
              "      <td>0</td>\n",
              "      <td>0</td>\n",
              "      <td>1</td>\n",
              "      <td>0</td>\n",
              "      <td>0</td>\n",
              "      <td>1</td>\n",
              "      <td>0</td>\n",
              "      <td>0</td>\n",
              "      <td>0</td>\n",
              "      <td>0</td>\n",
              "      <td>0</td>\n",
              "      <td>1</td>\n",
              "      <td>0</td>\n",
              "      <td>31.542862</td>\n",
              "      <td>0</td>\n",
              "      <td>0</td>\n",
              "    </tr>\n",
              "    <tr>\n",
              "      <th>2</th>\n",
              "      <td>0</td>\n",
              "      <td>0</td>\n",
              "      <td>0</td>\n",
              "      <td>1</td>\n",
              "      <td>0</td>\n",
              "      <td>0</td>\n",
              "      <td>24.5</td>\n",
              "      <td>1</td>\n",
              "      <td>0</td>\n",
              "      <td>0</td>\n",
              "      <td>0</td>\n",
              "      <td>0</td>\n",
              "      <td>0</td>\n",
              "      <td>0</td>\n",
              "      <td>0</td>\n",
              "      <td>1</td>\n",
              "      <td>0</td>\n",
              "      <td>0.0</td>\n",
              "      <td>2.0</td>\n",
              "      <td>0</td>\n",
              "      <td>0</td>\n",
              "      <td>0</td>\n",
              "      <td>1</td>\n",
              "      <td>0</td>\n",
              "      <td>0</td>\n",
              "      <td>0</td>\n",
              "      <td>0</td>\n",
              "      <td>0</td>\n",
              "      <td>0</td>\n",
              "      <td>1</td>\n",
              "      <td>0</td>\n",
              "      <td>0</td>\n",
              "      <td>37.825805</td>\n",
              "      <td>0</td>\n",
              "      <td>0</td>\n",
              "    </tr>\n",
              "  </tbody>\n",
              "</table>\n",
              "</div>"
            ],
            "text/plain": [
              "   cm_dummy  gamedummy  area_kanto  ...  TVwatch_day  gamesecond  gamecount\n",
              "0         0          0           0  ...    33.427600           0          0\n",
              "1         0          0           0  ...    31.542862           0          0\n",
              "2         0          0           0  ...    37.825805           0          0\n",
              "\n",
              "[3 rows x 35 columns]"
            ]
          },
          "metadata": {
            "tags": []
          },
          "execution_count": 7
        }
      ]
    },
    {
      "cell_type": "code",
      "metadata": {
        "id": "_od91IH6OI7i",
        "colab_type": "code",
        "outputId": "67f9eab0-9d25-46ba-9784-4d0d97ae4448",
        "colab": {
          "base_uri": "https://localhost:8080/",
          "height": 317
        }
      },
      "source": [
        "# 欠損数及び統計量の確認\n",
        "read_data.describe()"
      ],
      "execution_count": 8,
      "outputs": [
        {
          "output_type": "execute_result",
          "data": {
            "text/html": [
              "<div>\n",
              "<style scoped>\n",
              "    .dataframe tbody tr th:only-of-type {\n",
              "        vertical-align: middle;\n",
              "    }\n",
              "\n",
              "    .dataframe tbody tr th {\n",
              "        vertical-align: top;\n",
              "    }\n",
              "\n",
              "    .dataframe thead th {\n",
              "        text-align: right;\n",
              "    }\n",
              "</style>\n",
              "<table border=\"1\" class=\"dataframe\">\n",
              "  <thead>\n",
              "    <tr style=\"text-align: right;\">\n",
              "      <th></th>\n",
              "      <th>cm_dummy</th>\n",
              "      <th>gamedummy</th>\n",
              "      <th>area_kanto</th>\n",
              "      <th>area_keihan</th>\n",
              "      <th>area_tokai</th>\n",
              "      <th>area_keihanshin</th>\n",
              "      <th>age</th>\n",
              "      <th>sex</th>\n",
              "      <th>marry_dummy</th>\n",
              "      <th>job_dummy1</th>\n",
              "      <th>job_dummy2</th>\n",
              "      <th>job_dummy3</th>\n",
              "      <th>job_dummy4</th>\n",
              "      <th>job_dummy5</th>\n",
              "      <th>job_dummy6</th>\n",
              "      <th>job_dummy7</th>\n",
              "      <th>job_dummy8</th>\n",
              "      <th>inc</th>\n",
              "      <th>pmoney</th>\n",
              "      <th>fam_str_dummy1</th>\n",
              "      <th>fam_str_dummy2</th>\n",
              "      <th>fam_str_dummy3</th>\n",
              "      <th>fam_str_dummy4</th>\n",
              "      <th>fam_str_dummy5</th>\n",
              "      <th>child_dummy</th>\n",
              "      <th>T</th>\n",
              "      <th>F1</th>\n",
              "      <th>F2</th>\n",
              "      <th>F3</th>\n",
              "      <th>M1</th>\n",
              "      <th>M2</th>\n",
              "      <th>M3</th>\n",
              "      <th>TVwatch_day</th>\n",
              "      <th>gamesecond</th>\n",
              "      <th>gamecount</th>\n",
              "    </tr>\n",
              "  </thead>\n",
              "  <tbody>\n",
              "    <tr>\n",
              "      <th>count</th>\n",
              "      <td>10000.000000</td>\n",
              "      <td>10000.000000</td>\n",
              "      <td>10000.000000</td>\n",
              "      <td>10000.000000</td>\n",
              "      <td>10000.000000</td>\n",
              "      <td>10000.000000</td>\n",
              "      <td>10000.000000</td>\n",
              "      <td>10000.000000</td>\n",
              "      <td>10000.000000</td>\n",
              "      <td>10000.000000</td>\n",
              "      <td>10000.000000</td>\n",
              "      <td>10000.000000</td>\n",
              "      <td>10000.000000</td>\n",
              "      <td>10000.000000</td>\n",
              "      <td>10000.000000</td>\n",
              "      <td>10000.000000</td>\n",
              "      <td>10000.000000</td>\n",
              "      <td>10000.000000</td>\n",
              "      <td>10000.00000</td>\n",
              "      <td>10000.000000</td>\n",
              "      <td>10000.000000</td>\n",
              "      <td>10000.000000</td>\n",
              "      <td>10000.000000</td>\n",
              "      <td>10000.000000</td>\n",
              "      <td>10000.00000</td>\n",
              "      <td>10000.000000</td>\n",
              "      <td>10000.000000</td>\n",
              "      <td>10000.000000</td>\n",
              "      <td>10000.000000</td>\n",
              "      <td>10000.000000</td>\n",
              "      <td>10000.000000</td>\n",
              "      <td>10000.000000</td>\n",
              "      <td>10000.000000</td>\n",
              "      <td>10000.000000</td>\n",
              "      <td>10000.000000</td>\n",
              "    </tr>\n",
              "    <tr>\n",
              "      <th>mean</th>\n",
              "      <td>0.414400</td>\n",
              "      <td>0.074000</td>\n",
              "      <td>0.091200</td>\n",
              "      <td>0.588700</td>\n",
              "      <td>0.111500</td>\n",
              "      <td>0.208600</td>\n",
              "      <td>40.841900</td>\n",
              "      <td>0.640300</td>\n",
              "      <td>0.647000</td>\n",
              "      <td>0.566200</td>\n",
              "      <td>0.054200</td>\n",
              "      <td>0.075900</td>\n",
              "      <td>0.012300</td>\n",
              "      <td>0.117700</td>\n",
              "      <td>0.099900</td>\n",
              "      <td>0.039900</td>\n",
              "      <td>0.033900</td>\n",
              "      <td>357.829700</td>\n",
              "      <td>3.55234</td>\n",
              "      <td>0.148000</td>\n",
              "      <td>0.144800</td>\n",
              "      <td>0.620400</td>\n",
              "      <td>0.069900</td>\n",
              "      <td>0.016900</td>\n",
              "      <td>0.42300</td>\n",
              "      <td>0.013200</td>\n",
              "      <td>0.127800</td>\n",
              "      <td>0.173300</td>\n",
              "      <td>0.052200</td>\n",
              "      <td>0.140300</td>\n",
              "      <td>0.328800</td>\n",
              "      <td>0.164400</td>\n",
              "      <td>8096.497203</td>\n",
              "      <td>2846.783400</td>\n",
              "      <td>9.433300</td>\n",
              "    </tr>\n",
              "    <tr>\n",
              "      <th>std</th>\n",
              "      <td>0.492643</td>\n",
              "      <td>0.261784</td>\n",
              "      <td>0.287908</td>\n",
              "      <td>0.492094</td>\n",
              "      <td>0.314766</td>\n",
              "      <td>0.406328</td>\n",
              "      <td>10.465434</td>\n",
              "      <td>0.479936</td>\n",
              "      <td>0.477927</td>\n",
              "      <td>0.495623</td>\n",
              "      <td>0.226423</td>\n",
              "      <td>0.264851</td>\n",
              "      <td>0.110227</td>\n",
              "      <td>0.322269</td>\n",
              "      <td>0.299882</td>\n",
              "      <td>0.195734</td>\n",
              "      <td>0.180981</td>\n",
              "      <td>267.408383</td>\n",
              "      <td>3.37777</td>\n",
              "      <td>0.355118</td>\n",
              "      <td>0.351917</td>\n",
              "      <td>0.485312</td>\n",
              "      <td>0.254991</td>\n",
              "      <td>0.128903</td>\n",
              "      <td>0.49406</td>\n",
              "      <td>0.114136</td>\n",
              "      <td>0.333884</td>\n",
              "      <td>0.378525</td>\n",
              "      <td>0.222441</td>\n",
              "      <td>0.347315</td>\n",
              "      <td>0.469801</td>\n",
              "      <td>0.370657</td>\n",
              "      <td>7709.497437</td>\n",
              "      <td>17973.608991</td>\n",
              "      <td>54.475214</td>\n",
              "    </tr>\n",
              "    <tr>\n",
              "      <th>min</th>\n",
              "      <td>0.000000</td>\n",
              "      <td>0.000000</td>\n",
              "      <td>0.000000</td>\n",
              "      <td>0.000000</td>\n",
              "      <td>0.000000</td>\n",
              "      <td>0.000000</td>\n",
              "      <td>19.000000</td>\n",
              "      <td>0.000000</td>\n",
              "      <td>0.000000</td>\n",
              "      <td>0.000000</td>\n",
              "      <td>0.000000</td>\n",
              "      <td>0.000000</td>\n",
              "      <td>0.000000</td>\n",
              "      <td>0.000000</td>\n",
              "      <td>0.000000</td>\n",
              "      <td>0.000000</td>\n",
              "      <td>0.000000</td>\n",
              "      <td>0.000000</td>\n",
              "      <td>0.00000</td>\n",
              "      <td>0.000000</td>\n",
              "      <td>0.000000</td>\n",
              "      <td>0.000000</td>\n",
              "      <td>0.000000</td>\n",
              "      <td>0.000000</td>\n",
              "      <td>0.00000</td>\n",
              "      <td>0.000000</td>\n",
              "      <td>0.000000</td>\n",
              "      <td>0.000000</td>\n",
              "      <td>0.000000</td>\n",
              "      <td>0.000000</td>\n",
              "      <td>0.000000</td>\n",
              "      <td>0.000000</td>\n",
              "      <td>29.875270</td>\n",
              "      <td>0.000000</td>\n",
              "      <td>0.000000</td>\n",
              "    </tr>\n",
              "    <tr>\n",
              "      <th>25%</th>\n",
              "      <td>0.000000</td>\n",
              "      <td>0.000000</td>\n",
              "      <td>0.000000</td>\n",
              "      <td>0.000000</td>\n",
              "      <td>0.000000</td>\n",
              "      <td>0.000000</td>\n",
              "      <td>34.500000</td>\n",
              "      <td>0.000000</td>\n",
              "      <td>0.000000</td>\n",
              "      <td>0.000000</td>\n",
              "      <td>0.000000</td>\n",
              "      <td>0.000000</td>\n",
              "      <td>0.000000</td>\n",
              "      <td>0.000000</td>\n",
              "      <td>0.000000</td>\n",
              "      <td>0.000000</td>\n",
              "      <td>0.000000</td>\n",
              "      <td>103.000000</td>\n",
              "      <td>2.00000</td>\n",
              "      <td>0.000000</td>\n",
              "      <td>0.000000</td>\n",
              "      <td>0.000000</td>\n",
              "      <td>0.000000</td>\n",
              "      <td>0.000000</td>\n",
              "      <td>0.00000</td>\n",
              "      <td>0.000000</td>\n",
              "      <td>0.000000</td>\n",
              "      <td>0.000000</td>\n",
              "      <td>0.000000</td>\n",
              "      <td>0.000000</td>\n",
              "      <td>0.000000</td>\n",
              "      <td>0.000000</td>\n",
              "      <td>2502.245967</td>\n",
              "      <td>0.000000</td>\n",
              "      <td>0.000000</td>\n",
              "    </tr>\n",
              "    <tr>\n",
              "      <th>50%</th>\n",
              "      <td>0.000000</td>\n",
              "      <td>0.000000</td>\n",
              "      <td>0.000000</td>\n",
              "      <td>1.000000</td>\n",
              "      <td>0.000000</td>\n",
              "      <td>0.000000</td>\n",
              "      <td>44.500000</td>\n",
              "      <td>1.000000</td>\n",
              "      <td>1.000000</td>\n",
              "      <td>1.000000</td>\n",
              "      <td>0.000000</td>\n",
              "      <td>0.000000</td>\n",
              "      <td>0.000000</td>\n",
              "      <td>0.000000</td>\n",
              "      <td>0.000000</td>\n",
              "      <td>0.000000</td>\n",
              "      <td>0.000000</td>\n",
              "      <td>349.500000</td>\n",
              "      <td>2.00000</td>\n",
              "      <td>0.000000</td>\n",
              "      <td>0.000000</td>\n",
              "      <td>1.000000</td>\n",
              "      <td>0.000000</td>\n",
              "      <td>0.000000</td>\n",
              "      <td>0.00000</td>\n",
              "      <td>0.000000</td>\n",
              "      <td>0.000000</td>\n",
              "      <td>0.000000</td>\n",
              "      <td>0.000000</td>\n",
              "      <td>0.000000</td>\n",
              "      <td>0.000000</td>\n",
              "      <td>0.000000</td>\n",
              "      <td>5944.444520</td>\n",
              "      <td>0.000000</td>\n",
              "      <td>0.000000</td>\n",
              "    </tr>\n",
              "    <tr>\n",
              "      <th>75%</th>\n",
              "      <td>1.000000</td>\n",
              "      <td>0.000000</td>\n",
              "      <td>0.000000</td>\n",
              "      <td>1.000000</td>\n",
              "      <td>0.000000</td>\n",
              "      <td>0.000000</td>\n",
              "      <td>44.500000</td>\n",
              "      <td>1.000000</td>\n",
              "      <td>1.000000</td>\n",
              "      <td>1.000000</td>\n",
              "      <td>0.000000</td>\n",
              "      <td>0.000000</td>\n",
              "      <td>0.000000</td>\n",
              "      <td>0.000000</td>\n",
              "      <td>0.000000</td>\n",
              "      <td>0.000000</td>\n",
              "      <td>0.000000</td>\n",
              "      <td>549.500000</td>\n",
              "      <td>4.00000</td>\n",
              "      <td>0.000000</td>\n",
              "      <td>0.000000</td>\n",
              "      <td>1.000000</td>\n",
              "      <td>0.000000</td>\n",
              "      <td>0.000000</td>\n",
              "      <td>1.00000</td>\n",
              "      <td>0.000000</td>\n",
              "      <td>0.000000</td>\n",
              "      <td>0.000000</td>\n",
              "      <td>0.000000</td>\n",
              "      <td>0.000000</td>\n",
              "      <td>1.000000</td>\n",
              "      <td>0.000000</td>\n",
              "      <td>11154.786148</td>\n",
              "      <td>0.000000</td>\n",
              "      <td>0.000000</td>\n",
              "    </tr>\n",
              "    <tr>\n",
              "      <th>max</th>\n",
              "      <td>1.000000</td>\n",
              "      <td>1.000000</td>\n",
              "      <td>1.000000</td>\n",
              "      <td>1.000000</td>\n",
              "      <td>1.000000</td>\n",
              "      <td>1.000000</td>\n",
              "      <td>60.000000</td>\n",
              "      <td>1.000000</td>\n",
              "      <td>1.000000</td>\n",
              "      <td>1.000000</td>\n",
              "      <td>1.000000</td>\n",
              "      <td>1.000000</td>\n",
              "      <td>1.000000</td>\n",
              "      <td>1.000000</td>\n",
              "      <td>1.000000</td>\n",
              "      <td>1.000000</td>\n",
              "      <td>1.000000</td>\n",
              "      <td>800.000000</td>\n",
              "      <td>20.00000</td>\n",
              "      <td>1.000000</td>\n",
              "      <td>1.000000</td>\n",
              "      <td>1.000000</td>\n",
              "      <td>1.000000</td>\n",
              "      <td>1.000000</td>\n",
              "      <td>1.00000</td>\n",
              "      <td>1.000000</td>\n",
              "      <td>1.000000</td>\n",
              "      <td>1.000000</td>\n",
              "      <td>1.000000</td>\n",
              "      <td>1.000000</td>\n",
              "      <td>1.000000</td>\n",
              "      <td>1.000000</td>\n",
              "      <td>49036.055042</td>\n",
              "      <td>364814.000000</td>\n",
              "      <td>765.000000</td>\n",
              "    </tr>\n",
              "  </tbody>\n",
              "</table>\n",
              "</div>"
            ],
            "text/plain": [
              "           cm_dummy     gamedummy  ...     gamesecond     gamecount\n",
              "count  10000.000000  10000.000000  ...   10000.000000  10000.000000\n",
              "mean       0.414400      0.074000  ...    2846.783400      9.433300\n",
              "std        0.492643      0.261784  ...   17973.608991     54.475214\n",
              "min        0.000000      0.000000  ...       0.000000      0.000000\n",
              "25%        0.000000      0.000000  ...       0.000000      0.000000\n",
              "50%        0.000000      0.000000  ...       0.000000      0.000000\n",
              "75%        1.000000      0.000000  ...       0.000000      0.000000\n",
              "max        1.000000      1.000000  ...  364814.000000    765.000000\n",
              "\n",
              "[8 rows x 35 columns]"
            ]
          },
          "metadata": {
            "tags": []
          },
          "execution_count": 8
        }
      ]
    },
    {
      "cell_type": "code",
      "metadata": {
        "id": "p018J-lLoujI",
        "colab_type": "code",
        "outputId": "20761690-ed45-4415-dc0f-1da0f8f36d6f",
        "colab": {
          "base_uri": "https://localhost:8080/",
          "height": 297
        }
      },
      "source": [
        "# アウトカムの分布を確認\n",
        "read_data[\"gamesecond\"].hist(bins=20)\n",
        "plt.tight_layout()\n",
        "plt.show()"
      ],
      "execution_count": 9,
      "outputs": [
        {
          "output_type": "display_data",
          "data": {
            "image/png": "[encoded data removed]",
            "text/plain": [
              "<Figure size 432x288 with 1 Axes>"
            ]
          },
          "metadata": {
            "tags": [],
            "needs_background": "light"
          }
        }
      ]
    },
    {
      "cell_type": "markdown",
      "metadata": {
        "id": "qShBdy-Q195o",
        "colab_type": "text"
      },
      "source": [
        "### 列を整理"
      ]
    },
    {
      "cell_type": "code",
      "metadata": {
        "id": "Y60jVhJrJcf3",
        "colab_type": "code",
        "outputId": "8e3acae0-adbf-4609-effc-97b835a23241",
        "colab": {
          "base_uri": "https://localhost:8080/",
          "height": 100
        }
      },
      "source": [
        "UNNECESSARY_COLUMNS = ['gamedummy', 'gamecount', 'T', 'F1', 'F2', 'F3', 'M1', 'M2', 'M3', 'job_dummy8', 'fam_str_dummy5']\n",
        "analysis_data = read_data.drop(columns=UNNECESSARY_COLUMNS)\n",
        "analysis_data.head(1)"
      ],
      "execution_count": 10,
      "outputs": [
        {
          "output_type": "execute_result",
          "data": {
            "text/html": [
              "<div>\n",
              "<style scoped>\n",
              "    .dataframe tbody tr th:only-of-type {\n",
              "        vertical-align: middle;\n",
              "    }\n",
              "\n",
              "    .dataframe tbody tr th {\n",
              "        vertical-align: top;\n",
              "    }\n",
              "\n",
              "    .dataframe thead th {\n",
              "        text-align: right;\n",
              "    }\n",
              "</style>\n",
              "<table border=\"1\" class=\"dataframe\">\n",
              "  <thead>\n",
              "    <tr style=\"text-align: right;\">\n",
              "      <th></th>\n",
              "      <th>cm_dummy</th>\n",
              "      <th>area_kanto</th>\n",
              "      <th>area_keihan</th>\n",
              "      <th>area_tokai</th>\n",
              "      <th>area_keihanshin</th>\n",
              "      <th>age</th>\n",
              "      <th>sex</th>\n",
              "      <th>marry_dummy</th>\n",
              "      <th>job_dummy1</th>\n",
              "      <th>job_dummy2</th>\n",
              "      <th>job_dummy3</th>\n",
              "      <th>job_dummy4</th>\n",
              "      <th>job_dummy5</th>\n",
              "      <th>job_dummy6</th>\n",
              "      <th>job_dummy7</th>\n",
              "      <th>inc</th>\n",
              "      <th>pmoney</th>\n",
              "      <th>fam_str_dummy1</th>\n",
              "      <th>fam_str_dummy2</th>\n",
              "      <th>fam_str_dummy3</th>\n",
              "      <th>fam_str_dummy4</th>\n",
              "      <th>child_dummy</th>\n",
              "      <th>TVwatch_day</th>\n",
              "      <th>gamesecond</th>\n",
              "    </tr>\n",
              "  </thead>\n",
              "  <tbody>\n",
              "    <tr>\n",
              "      <th>0</th>\n",
              "      <td>0</td>\n",
              "      <td>0</td>\n",
              "      <td>0</td>\n",
              "      <td>0</td>\n",
              "      <td>1</td>\n",
              "      <td>44.5</td>\n",
              "      <td>1</td>\n",
              "      <td>1</td>\n",
              "      <td>1</td>\n",
              "      <td>0</td>\n",
              "      <td>0</td>\n",
              "      <td>0</td>\n",
              "      <td>0</td>\n",
              "      <td>0</td>\n",
              "      <td>0</td>\n",
              "      <td>249.5</td>\n",
              "      <td>0.0</td>\n",
              "      <td>0</td>\n",
              "      <td>0</td>\n",
              "      <td>1</td>\n",
              "      <td>0</td>\n",
              "      <td>1</td>\n",
              "      <td>33.4276</td>\n",
              "      <td>0</td>\n",
              "    </tr>\n",
              "  </tbody>\n",
              "</table>\n",
              "</div>"
            ],
            "text/plain": [
              "   cm_dummy  area_kanto  area_keihan  ...  child_dummy  TVwatch_day  gamesecond\n",
              "0         0           0            0  ...            1      33.4276           0\n",
              "\n",
              "[1 rows x 24 columns]"
            ]
          },
          "metadata": {
            "tags": []
          },
          "execution_count": 10
        }
      ]
    },
    {
      "cell_type": "code",
      "metadata": {
        "id": "MeKA2dHdFfNq",
        "colab_type": "code",
        "colab": {}
      },
      "source": [
        "# 介入変数\n",
        "TREATMENT_COLUMN = \"cm_dummy\"\n",
        "# アウトカム\n",
        "OUTCOME_COLUMN = \"gamesecond\"\n",
        "# 交絡因子\n",
        "COVARIATE_COLUMNS = analysis_data.drop(columns=[OUTCOME_COLUMN, TREATMENT_COLUMN]).columns"
      ],
      "execution_count": 0,
      "outputs": []
    },
    {
      "cell_type": "code",
      "metadata": {
        "id": "drLRWMTO75NB",
        "colab_type": "code",
        "outputId": "fe555a01-af23-4739-ddc9-9d8817a5a741",
        "colab": {
          "base_uri": "https://localhost:8080/",
          "height": 442
        }
      },
      "source": [
        "# 介入群とコントロール群の平均値の差\n",
        "analysis_data[analysis_data[TREATMENT_COLUMN] == 1].mean() - analysis_data[analysis_data[TREATMENT_COLUMN] == 0].mean()"
      ],
      "execution_count": 13,
      "outputs": [
        {
          "output_type": "execute_result",
          "data": {
            "text/plain": [
              "cm_dummy              1.000000\n",
              "area_kanto            0.068021\n",
              "area_keihan           0.192204\n",
              "area_tokai           -0.031341\n",
              "area_keihanshin      -0.228884\n",
              "age                   1.579975\n",
              "sex                  -0.074340\n",
              "marry_dummy           0.039902\n",
              "job_dummy1           -0.082965\n",
              "job_dummy2           -0.006842\n",
              "job_dummy3            0.017089\n",
              "job_dummy4            0.002072\n",
              "job_dummy5            0.065212\n",
              "job_dummy6            0.018962\n",
              "job_dummy7           -0.015801\n",
              "inc                 -27.548749\n",
              "pmoney               -0.013721\n",
              "fam_str_dummy1       -0.005898\n",
              "fam_str_dummy2        0.040363\n",
              "fam_str_dummy3        0.003322\n",
              "fam_str_dummy4       -0.032828\n",
              "child_dummy           0.002509\n",
              "TVwatch_day        5746.899002\n",
              "gamesecond         -629.640577\n",
              "dtype: float64"
            ]
          },
          "metadata": {
            "tags": []
          },
          "execution_count": 13
        }
      ]
    },
    {
      "cell_type": "markdown",
      "metadata": {
        "id": "1ftiVRdl7hCo",
        "colab_type": "text"
      },
      "source": [
        "単純に平均値を比較してしまうと、CM広告がゲームプレイ時間を減少させる結果となる"
      ]
    },
    {
      "cell_type": "markdown",
      "metadata": {
        "id": "yiPR0XQIQEkZ",
        "colab_type": "text"
      },
      "source": [
        "### 訓練データとテストデータに分割"
      ]
    },
    {
      "cell_type": "code",
      "metadata": {
        "id": "qIKn2X8UQCxK",
        "colab_type": "code",
        "colab": {}
      },
      "source": [
        "from sklearn.model_selection import train_test_split"
      ],
      "execution_count": 0,
      "outputs": []
    },
    {
      "cell_type": "code",
      "metadata": {
        "id": "Oo1aaQyGQoVw",
        "colab_type": "code",
        "outputId": "cabeaed1-ddee-43ed-975a-d79f9c2f1d23",
        "colab": {
          "base_uri": "https://localhost:8080/",
          "height": 68
        }
      },
      "source": [
        "train_data, test_data = train_test_split(analysis_data, test_size=0.2, shuffle=True, random_state=7)\n",
        "print(\"分割前のデータサイズ:{size}\".format(size=analysis_data.shape))\n",
        "print(\"訓練データサイズ:{size}\".format(size=train_data.shape))\n",
        "print(\"訓練データサイズ:{size}\".format(size=test_data.shape))"
      ],
      "execution_count": 15,
      "outputs": [
        {
          "output_type": "stream",
          "text": [
            "分割前のデータサイズ:(10000, 24)\n",
            "訓練データサイズ:(8000, 24)\n",
            "訓練データサイズ:(2000, 24)\n"
          ],
          "name": "stdout"
        }
      ]
    },
    {
      "cell_type": "code",
      "metadata": {
        "id": "NS8oNbANrFIk",
        "colab_type": "code",
        "outputId": "d82d6c14-8611-47bb-9026-6a1f9e416433",
        "colab": {
          "base_uri": "https://localhost:8080/",
          "height": 391
        }
      },
      "source": [
        "print(\"---訓練データ内のアウトカムの統計量---\\n{num}\\n\".format(num=train_data[OUTCOME_COLUMN].describe()))\n",
        "print(\"---テストデータ内のアウトカムの統計量---\\n{num}\\n\".format(num=test_data[OUTCOME_COLUMN].describe()))"
      ],
      "execution_count": 16,
      "outputs": [
        {
          "output_type": "stream",
          "text": [
            "---訓練データ内のアウトカムの統計量---\n",
            "count      8000.000000\n",
            "mean       2962.627250\n",
            "std       18693.136545\n",
            "min           0.000000\n",
            "25%           0.000000\n",
            "50%           0.000000\n",
            "75%           0.000000\n",
            "max      364814.000000\n",
            "Name: gamesecond, dtype: float64\n",
            "\n",
            "---テストデータ内のアウトカムの統計量---\n",
            "count      2000.000000\n",
            "mean       2383.408000\n",
            "std       14743.580547\n",
            "min           0.000000\n",
            "25%           0.000000\n",
            "50%           0.000000\n",
            "75%           0.000000\n",
            "max      223095.000000\n",
            "Name: gamesecond, dtype: float64\n",
            "\n"
          ],
          "name": "stdout"
        }
      ]
    },
    {
      "cell_type": "markdown",
      "metadata": {
        "id": "ePKvwzf-oQAl",
        "colab_type": "text"
      },
      "source": [
        "## 2. 因果効果を推論するモデルの構築"
      ]
    },
    {
      "cell_type": "code",
      "metadata": {
        "id": "XRIvSKYeoqWZ",
        "colab_type": "code",
        "outputId": "679acfeb-1447-4d06-9ac6-035439af2842",
        "colab": {
          "base_uri": "https://localhost:8080/",
          "height": 51
        }
      },
      "source": [
        "import datetime\n",
        "import pytz\n",
        "\n",
        "import cloudpickle\n",
        "from econml.cate_interpreter import SingleTreeCateInterpreter\n",
        "from econml.drlearner import SparseLinearDRLearner\n",
        "from econml.metalearners import SLearner, TLearner, DomainAdaptationLearner, XLearner\n",
        "import xgboost as xgb"
      ],
      "execution_count": 17,
      "outputs": [
        {
          "output_type": "stream",
          "text": [
            "/usr/local/lib/python3.6/dist-packages/statsmodels/tools/_testing.py:19: FutureWarning: pandas.util.testing is deprecated. Use the functions in the public API at pandas.testing instead.\n",
            "  import pandas.util.testing as tm\n"
          ],
          "name": "stderr"
        }
      ]
    },
    {
      "cell_type": "code",
      "metadata": {
        "id": "giONsQi3Tzni",
        "colab_type": "code",
        "colab": {}
      },
      "source": [
        "def export_pkl_model_obj(dir_path, model_name, model, hyperparameter, protocol=4):\n",
        "    \"\"\"\n",
        "    モデルとハイパーパラメータをpklファイルに書き出し\n",
        "    \"\"\"\n",
        "    output_obj = {\n",
        "        \"model\" : model,\n",
        "        \"hyperparameter\" : hyperparameter\n",
        "    }\n",
        "    now = datetime.datetime.now(pytz.timezone('Asia/Tokyo')).strftime('%Y%m%d%H%M%S')\n",
        "    export_file = dir_path + \"/\" + model_name + \"_\" + now + \".pkl\"\n",
        "    with open(export_file, mode='wb') as f:\n",
        "        f.write(cloudpickle.dumps(output_obj,protocol=protocol))\n",
        "    return export_file\n",
        "\n",
        "\n",
        "def load_pkl(dir_path, pkl_file_path):\n",
        "    \"\"\"\n",
        "    pklファイルからモデルとハイパーパラメータのオブジェクトを読み込み\n",
        "    \"\"\"\n",
        "    load_file = dir_path + \"/\" + pkl_file_path\n",
        "    with open(load_file, mode=\"rb\") as f:\n",
        "        load_obj = cloudpickle.loads(f.read())\n",
        "    return load_obj"
      ],
      "execution_count": 0,
      "outputs": []
    },
    {
      "cell_type": "markdown",
      "metadata": {
        "id": "2VJe3Lbi4ftT",
        "colab_type": "text"
      },
      "source": [
        "### SLearner"
      ]
    },
    {
      "cell_type": "code",
      "metadata": {
        "id": "X3n-Kyfw4jYQ",
        "colab_type": "code",
        "colab": {}
      },
      "source": [
        "hyperparameter = {\n",
        "    \"model_regression\" : {\n",
        "        \"n_estimators\" : 600,\n",
        "        \"random_state\" : 7,\n",
        "        \"objective\" : \"reg:gamma\"\n",
        "    }\n",
        "}"
      ],
      "execution_count": 0,
      "outputs": []
    },
    {
      "cell_type": "code",
      "metadata": {
        "id": "C3tP7tBT4kQA",
        "colab_type": "code",
        "outputId": "a7c00d33-be75-4937-c90d-701a6eb3110c",
        "colab": {
          "base_uri": "https://localhost:8080/",
          "height": 34
        }
      },
      "source": [
        "SLEARNER_TRAIN_MODE = True\n",
        "\n",
        "model_name = 'slearner'\n",
        "model_obj_dir = \"./model\"\n",
        "load_pkl_path = \"slearner_20200615183701.pkl\"\n",
        "\n",
        "if SLEARNER_TRAIN_MODE:\n",
        "    SLearner_model = SLearner(overall_model=xgb.XGBRegressor(**hyperparameter[\"model_regression\"]))\n",
        "\n",
        "    inference = None\n",
        "    SLearner_model.fit(Y=train_data[OUTCOME_COLUMN].values,\n",
        "                       T=train_data[TREATMENT_COLUMN].values,\n",
        "                       X=train_data[COVARIATE_COLUMNS].values,\n",
        "                       inference=inference)\n",
        "    \n",
        "    if inference != 'bootstrap':\n",
        "        res = export_pkl_model_obj(model_obj_dir, model_name, SLearner_model, hyperparameter)\n",
        "        print(\"{model_name}を{file_path}に出力\".format(model_name=model_name, file_path=res))\n",
        "\n",
        "else :\n",
        "    load_obj = load_pkl(model_obj_dir, load_pkl_path)\n",
        "    SLearner_model = load_obj[\"model\"]\n",
        "    print(\"{model_name}を{file_path}から読み込み\".format(model_name=model_name, file_path=load_pkl_path))\n",
        "    print(\"ハイパーパラメータ{hyperparameter}\".format(hyperparameter=load_obj[\"hyperparameter\"]))"
      ],
      "execution_count": 64,
      "outputs": [
        {
          "output_type": "stream",
          "text": [
            "slearnerを./model/slearner_20200615183701.pklに出力\n"
          ],
          "name": "stdout"
        }
      ]
    },
    {
      "cell_type": "code",
      "metadata": {
        "id": "6d2Tsv4a5s0h",
        "colab_type": "code",
        "outputId": "d4892ace-7f00-403d-a1b2-eb7ab967f27d",
        "colab": {
          "base_uri": "https://localhost:8080/",
          "height": 34
        }
      },
      "source": [
        "SLearner_model.effect(test_data[COVARIATE_COLUMNS].values).sum() /test_data.shape[0]"
      ],
      "execution_count": 65,
      "outputs": [
        {
          "output_type": "execute_result",
          "data": {
            "text/plain": [
              "3660.703185436917"
            ]
          },
          "metadata": {
            "tags": []
          },
          "execution_count": 65
        }
      ]
    },
    {
      "cell_type": "markdown",
      "metadata": {
        "id": "GByhl3xEoVr1",
        "colab_type": "text"
      },
      "source": [
        "### SparseDRLearner（傾向スコアモデル:XGBClassifier）"
      ]
    },
    {
      "cell_type": "code",
      "metadata": {
        "id": "ZVgQIjfq5YDi",
        "colab_type": "code",
        "colab": {}
      },
      "source": [
        "hyperparameter = {\n",
        "    \"model_propensity\" : {\n",
        "        \"n_estimators\" : 600,\n",
        "        \"random_state\" : 7,\n",
        "        \"objective\" : \"binary:logistic\"\n",
        "    },\n",
        "    \"model_regression\" : {\n",
        "        \"n_estimators\" : 600,\n",
        "        \"random_state\" : 7,\n",
        "        \"objective\" : \"reg:gamma\"\n",
        "    }\n",
        "}"
      ],
      "execution_count": 0,
      "outputs": []
    },
    {
      "cell_type": "code",
      "metadata": {
        "id": "asmDWnWHvDUB",
        "colab_type": "code",
        "outputId": "db91f737-ae13-42cb-eff7-3b2092919dfa",
        "colab": {
          "base_uri": "https://localhost:8080/",
          "height": 34
        }
      },
      "source": [
        "SPARSE_DRLEANER_TRAIN_MODE = True\n",
        "\n",
        "model_name = 'sparse_drlearner'\n",
        "model_obj_dir = \"./model\"\n",
        "load_pkl_path = \"sparse_drlearner_20200615182217.pkl\"\n",
        "\n",
        "if SPARSE_DRLEANER_TRAIN_MODE:\n",
        "    Sparse_DRLearner_model = SparseLinearDRLearner(model_propensity=xgb.XGBClassifier(**hyperparameter[\"model_propensity\"]),\n",
        "                                                  model_regression=xgb.XGBRegressor(**hyperparameter[\"model_regression\"]),\n",
        "                                                  random_state=7)\n",
        "    \n",
        "    inference = 'debiasedlasso'\n",
        "    Sparse_DRLearner_model.fit(Y=train_data[OUTCOME_COLUMN].values,\n",
        "                              T=train_data[TREATMENT_COLUMN].values,\n",
        "                              X=train_data[COVARIATE_COLUMNS].values,\n",
        "                              inference=inference)\n",
        "    \n",
        "    if inference != 'bootstrap':\n",
        "        res = export_pkl_model_obj(model_obj_dir, model_name, Sparse_DRLearner_model, hyperparameter)\n",
        "        print(\"{model_name}を{file_path}に出力\".format(model_name=model_name, file_path=res))\n",
        "\n",
        "else :\n",
        "    load_obj = load_pkl(model_obj_dir, load_pkl_path)\n",
        "    Sparse_DRLearner_model = load_obj[\"model\"]\n",
        "    print(\"{model_name}を{file_path}から読み込み\".format(model_name=model_name, file_path=load_pkl_path))\n",
        "    print(\"ハイパーパラメータ{hyperparameter}\".format(hyperparameter=load_obj[\"hyperparameter\"]))"
      ],
      "execution_count": 23,
      "outputs": [
        {
          "output_type": "stream",
          "text": [
            "sparse_drlearnerを./model/sparse_drlearner_20200615182217.pklに出力\n"
          ],
          "name": "stdout"
        }
      ]
    },
    {
      "cell_type": "markdown",
      "metadata": {
        "id": "U6PO43QsDDGr",
        "colab_type": "text"
      },
      "source": [
        "##### 回帰係数のp値を確認"
      ]
    },
    {
      "cell_type": "code",
      "metadata": {
        "id": "icPTE4NwxMrp",
        "colab_type": "code",
        "outputId": "e0f0ccf4-a292-4810-8321-5690dd52ea47",
        "colab": {
          "base_uri": "https://localhost:8080/",
          "height": 580
        }
      },
      "source": [
        "summary_Sparse_DRLearner = Sparse_DRLearner_model.summary(T=1, feat_name=COVARIATE_COLUMNS)\n",
        "summary_Sparse_DRLearner"
      ],
      "execution_count": 24,
      "outputs": [
        {
          "output_type": "execute_result",
          "data": {
            "text/html": [
              "<table class=\"simpletable\">\n",
              "<caption>Coefficient Results</caption>\n",
              "<tr>\n",
              "         <td></td>         <th>point_estimate</th>  <th>stderr</th>   <th>zstat</th> <th>pvalue</th>  <th>ci_lower</th>  <th>ci_upper</th> \n",
              "</tr>\n",
              "<tr>\n",
              "  <th>area_kanto</th>         <td>-1321.178</td>   <td>1159.833</td> <td>-1.139</td>  <td>0.255</td>  <td>-3228.934</td>  <td>586.578</td> \n",
              "</tr>\n",
              "<tr>\n",
              "  <th>area_keihan</th>          <td>82.34</td>      <td>677.472</td>  <td>0.122</td>  <td>0.903</td>  <td>-1032.002</td> <td>1196.682</td> \n",
              "</tr>\n",
              "<tr>\n",
              "  <th>area_tokai</th>         <td>-2202.256</td>   <td>1066.526</td> <td>-2.065</td>  <td>0.039</td>  <td>-3956.535</td> <td>-447.978</td> \n",
              "</tr>\n",
              "<tr>\n",
              "  <th>area_keihanshin</th>    <td>1829.954</td>     <td>817.407</td>  <td>2.239</td>  <td>0.025</td>   <td>485.439</td>   <td>3174.47</td> \n",
              "</tr>\n",
              "<tr>\n",
              "  <th>age</th>                 <td>-13.768</td>     <td>32.366</td>  <td>-0.425</td>  <td>0.671</td>   <td>-67.006</td>   <td>39.469</td>  \n",
              "</tr>\n",
              "<tr>\n",
              "  <th>sex</th>                 <td>329.656</td>     <td>694.263</td>  <td>0.475</td>  <td>0.635</td>  <td>-812.304</td>  <td>1471.617</td> \n",
              "</tr>\n",
              "<tr>\n",
              "  <th>marry_dummy</th>        <td>1509.311</td>     <td>697.742</td>  <td>2.163</td>  <td>0.031</td>   <td>361.627</td>  <td>2656.995</td> \n",
              "</tr>\n",
              "<tr>\n",
              "  <th>job_dummy1</th>         <td>-564.097</td>     <td>672.951</td> <td>-0.838</td>  <td>0.402</td>  <td>-1671.003</td>  <td>542.809</td> \n",
              "</tr>\n",
              "<tr>\n",
              "  <th>job_dummy2</th>          <td>4370.14</td>    <td>1481.468</td>  <td>2.95</td>   <td>0.003</td>  <td>1933.341</td>  <td>6806.938</td> \n",
              "</tr>\n",
              "<tr>\n",
              "  <th>job_dummy3</th>         <td>2527.249</td>    <td>1258.968</td>  <td>2.007</td>  <td>0.045</td>   <td>456.43</td>   <td>4598.068</td> \n",
              "</tr>\n",
              "<tr>\n",
              "  <th>job_dummy4</th>         <td>-6867.994</td>   <td>2971.398</td> <td>-2.311</td>  <td>0.021</td> <td>-11755.509</td> <td>-1980.479</td>\n",
              "</tr>\n",
              "<tr>\n",
              "  <th>job_dummy5</th>         <td>-1686.531</td>   <td>1028.665</td>  <td>-1.64</td>  <td>0.101</td>  <td>-3378.534</td>   <td>5.473</td>  \n",
              "</tr>\n",
              "<tr>\n",
              "  <th>job_dummy6</th>         <td>1719.612</td>    <td>1118.738</td>  <td>1.537</td>  <td>0.124</td>  <td>-120.549</td>  <td>3559.773</td> \n",
              "</tr>\n",
              "<tr>\n",
              "  <th>job_dummy7</th>         <td>-5217.21</td>    <td>1711.521</td> <td>-3.048</td>  <td>0.002</td>  <td>-8032.412</td> <td>-2402.007</td>\n",
              "</tr>\n",
              "<tr>\n",
              "  <th>inc</th>                  <td>2.026</td>       <td>1.254</td>   <td>1.615</td>  <td>0.106</td>   <td>-0.037</td>     <td>4.088</td>  \n",
              "</tr>\n",
              "<tr>\n",
              "  <th>pmoney</th>             <td>-186.102</td>     <td>97.909</td>  <td>-1.901</td>  <td>0.057</td>  <td>-347.148</td>   <td>-25.057</td> \n",
              "</tr>\n",
              "<tr>\n",
              "  <th>fam_str_dummy1</th>     <td>-1342.843</td>    <td>943.779</td> <td>-1.423</td>  <td>0.155</td>  <td>-2895.221</td>  <td>209.534</td> \n",
              "</tr>\n",
              "<tr>\n",
              "  <th>fam_str_dummy2</th>     <td>1601.571</td>     <td>940.127</td>  <td>1.704</td>  <td>0.088</td>    <td>55.2</td>    <td>3147.942</td> \n",
              "</tr>\n",
              "<tr>\n",
              "  <th>fam_str_dummy3</th>     <td>-1531.875</td>    <td>686.95</td>   <td>-2.23</td>  <td>0.026</td>  <td>-2661.807</td> <td>-401.943</td> \n",
              "</tr>\n",
              "<tr>\n",
              "  <th>fam_str_dummy4</th>      <td>393.949</td>    <td>1307.669</td>  <td>0.301</td>  <td>0.763</td>  <td>-1756.976</td> <td>2544.874</td> \n",
              "</tr>\n",
              "<tr>\n",
              "  <th>child_dummy</th>        <td>-300.544</td>     <td>674.688</td> <td>-0.445</td>  <td>0.656</td>  <td>-1410.308</td>  <td>809.22</td>  \n",
              "</tr>\n",
              "<tr>\n",
              "  <th>TVwatch_day</th>          <td>0.114</td>       <td>0.044</td>   <td>2.611</td>  <td>0.009</td>    <td>0.042</td>     <td>0.186</td>  \n",
              "</tr>\n",
              "</table>\n",
              "<table class=\"simpletable\">\n",
              "<caption>Intercept Results</caption>\n",
              "<tr>\n",
              "      <td></td>      <th>point_estimate</th> <th>stderr</th>  <th>zstat</th> <th>pvalue</th> <th>ci_lower</th>  <th>ci_upper</th>\n",
              "</tr>\n",
              "<tr>\n",
              "  <th>intercept</th>    <td>-747.688</td>    <td>2187.7</td> <td>-0.342</td>  <td>0.733</td> <td>-4346.135</td> <td>2850.758</td>\n",
              "</tr>\n",
              "</table>"
            ],
            "text/plain": [
              "<class 'econml.utilities.Summary'>\n",
              "\"\"\"\n",
              "                           Coefficient Results                            \n",
              "==========================================================================\n",
              "                point_estimate  stderr  zstat  pvalue  ci_lower   ci_upper\n",
              "--------------------------------------------------------------------------\n",
              "area_kanto           -1321.178 1159.833 -1.139  0.255  -3228.934   586.578\n",
              "area_keihan              82.34  677.472  0.122  0.903  -1032.002  1196.682\n",
              "area_tokai           -2202.256 1066.526 -2.065  0.039  -3956.535  -447.978\n",
              "area_keihanshin       1829.954  817.407  2.239  0.025    485.439   3174.47\n",
              "age                    -13.768   32.366 -0.425  0.671    -67.006    39.469\n",
              "sex                    329.656  694.263  0.475  0.635   -812.304  1471.617\n",
              "marry_dummy           1509.311  697.742  2.163  0.031    361.627  2656.995\n",
              "job_dummy1            -564.097  672.951 -0.838  0.402  -1671.003   542.809\n",
              "job_dummy2             4370.14 1481.468   2.95  0.003   1933.341  6806.938\n",
              "job_dummy3            2527.249 1258.968  2.007  0.045     456.43  4598.068\n",
              "job_dummy4           -6867.994 2971.398 -2.311  0.021 -11755.509 -1980.479\n",
              "job_dummy5           -1686.531 1028.665  -1.64  0.101  -3378.534     5.473\n",
              "job_dummy6            1719.612 1118.738  1.537  0.124   -120.549  3559.773\n",
              "job_dummy7            -5217.21 1711.521 -3.048  0.002  -8032.412 -2402.007\n",
              "inc                      2.026    1.254  1.615  0.106     -0.037     4.088\n",
              "pmoney                -186.102   97.909 -1.901  0.057   -347.148   -25.057\n",
              "fam_str_dummy1       -1342.843  943.779 -1.423  0.155  -2895.221   209.534\n",
              "fam_str_dummy2        1601.571  940.127  1.704  0.088       55.2  3147.942\n",
              "fam_str_dummy3       -1531.875   686.95  -2.23  0.026  -2661.807  -401.943\n",
              "fam_str_dummy4         393.949 1307.669  0.301  0.763  -1756.976  2544.874\n",
              "child_dummy           -300.544  674.688 -0.445  0.656  -1410.308    809.22\n",
              "TVwatch_day              0.114    0.044  2.611  0.009      0.042     0.186\n",
              "                       Intercept Results                        \n",
              "================================================================\n",
              "          point_estimate stderr zstat  pvalue  ci_lower ci_upper\n",
              "----------------------------------------------------------------\n",
              "intercept       -747.688 2187.7 -0.342  0.733 -4346.135 2850.758\n",
              "----------------------------------------------------------------\n",
              "\"\"\""
            ]
          },
          "metadata": {
            "tags": []
          },
          "execution_count": 24
        }
      ]
    },
    {
      "cell_type": "markdown",
      "metadata": {
        "id": "Z4e56gJyJX5K",
        "colab_type": "text"
      },
      "source": [
        "##### MSE算出"
      ]
    },
    {
      "cell_type": "code",
      "metadata": {
        "id": "lsElpaYt3_Gu",
        "colab_type": "code",
        "outputId": "e67c2ec0-4bed-4c33-e067-e5b4198b8826",
        "colab": {
          "base_uri": "https://localhost:8080/",
          "height": 51
        }
      },
      "source": [
        "# 訓練精度\n",
        "MSE_DLLeaner_train = Sparse_DRLearner_model.score(Y=train_data[OUTCOME_COLUMN].values,\n",
        "                                          T=train_data[TREATMENT_COLUMN].values,\n",
        "                                          X=train_data[COVARIATE_COLUMNS].values)\n",
        "\n",
        "# 検証精度\n",
        "MSE_DLLeaner_test = Sparse_DRLearner_model.score(Y=test_data[OUTCOME_COLUMN].values,\n",
        "                                          T=test_data[TREATMENT_COLUMN].values,\n",
        "                                          X=test_data[COVARIATE_COLUMNS].values)\n",
        "\n",
        "print(\"SparseDRLeanerの訓練データに対するMSE:{mse_train}\".format(mse_train=MSE_DLLeaner_train))\n",
        "print(\"SparseDRLeanerの検証データに対するMSE:{mse_test}\".format(mse_test=MSE_DLLeaner_test))"
      ],
      "execution_count": 25,
      "outputs": [
        {
          "output_type": "stream",
          "text": [
            "SparseDRLeanerの訓練データに対するMSE:695620415.161645\n",
            "SparseDRLeanerの検証データに対するMSE:409570822.6732118\n"
          ],
          "name": "stdout"
        }
      ]
    },
    {
      "cell_type": "markdown",
      "metadata": {
        "id": "91KLwwrsJO6w",
        "colab_type": "text"
      },
      "source": [
        "#### 傾向スコアモデルの精度算出"
      ]
    },
    {
      "cell_type": "code",
      "metadata": {
        "id": "0JTR2pfkEOt3",
        "colab_type": "code",
        "colab": {}
      },
      "source": [
        "def calc_model_score(model, train_X_values, train_y_values, val_X_values, val_y_values):\n",
        "    \"\"\"\n",
        "    modelに用意されたscore関数を使い、訓練精度と検証精度を算出\n",
        "    \"\"\"\n",
        "    train_score = model.score(X=train_X_values, y=train_y_values)\n",
        "    val_score = model.score(X=val_X_values, y=val_y_values)\n",
        "    return train_score, val_score"
      ],
      "execution_count": 0,
      "outputs": []
    },
    {
      "cell_type": "code",
      "metadata": {
        "id": "cCt8Tt0uJS-r",
        "colab_type": "code",
        "outputId": "3da6a08c-a580-4fb0-b914-ae89c14ec51b",
        "colab": {
          "base_uri": "https://localhost:8080/",
          "height": 51
        }
      },
      "source": [
        "train_score, val_score = calc_model_score(Sparse_DRLearner_model.models_propensity[0], \n",
        "                                          train_data[COVARIATE_COLUMNS].values, train_data[TREATMENT_COLUMN].values,\n",
        "                                          test_data[COVARIATE_COLUMNS].values, test_data[TREATMENT_COLUMN].values)\n",
        "print(\"SparseDRLearner内の傾向スコアモデルの訓練精度:{train_score}\".format(train_score=train_score))\n",
        "print(\"SparseDRLearner内の傾向スコアモデルの検証精度:{val_score}\".format(val_score=val_score))"
      ],
      "execution_count": 28,
      "outputs": [
        {
          "output_type": "stream",
          "text": [
            "SparseDRLearner内の傾向スコアモデルの訓練精度:0.913125\n",
            "SparseDRLearner内の傾向スコアモデルの検証精度:0.883\n"
          ],
          "name": "stdout"
        }
      ]
    },
    {
      "cell_type": "code",
      "metadata": {
        "id": "12IIzzEswsNT",
        "colab_type": "code",
        "outputId": "7a2ec47b-b4fb-475b-bb03-32689133a776",
        "colab": {
          "base_uri": "https://localhost:8080/",
          "height": 34
        }
      },
      "source": [
        "Sparse_DRLearner_model.effect(test_data[COVARIATE_COLUMNS].values).sum() / test_data.shape[0]"
      ],
      "execution_count": 62,
      "outputs": [
        {
          "output_type": "execute_result",
          "data": {
            "text/plain": [
              "-306.5857536402338"
            ]
          },
          "metadata": {
            "tags": []
          },
          "execution_count": 62
        }
      ]
    },
    {
      "cell_type": "markdown",
      "metadata": {
        "id": "n-hp8-LBGB3d",
        "colab_type": "text"
      },
      "source": [
        "### X-Learner"
      ]
    },
    {
      "cell_type": "code",
      "metadata": {
        "id": "AaMnKQVv2gZp",
        "colab_type": "code",
        "colab": {}
      },
      "source": [
        "hyperparameter = {\n",
        "    \"models\" : {\n",
        "        \"n_estimators\" : 700,\n",
        "        \"random_state\" : 7,\n",
        "        \"objective\" : \"reg:squarederror\",\n",
        "        #\"objective\" : \"reg:gamma\"\n",
        "    },\n",
        "    \"propensity_model\" : {\n",
        "        \"n_estimators\" : 700,\n",
        "        \"random_state\" : 7,\n",
        "        \"objective\" : \"binary:logistic\"\n",
        "    },\n",
        "    \"cate_models\" : {\n",
        "        \"n_estimators\" : 700,\n",
        "        \"random_state\" : 7,\n",
        "        \"objective\" : \"reg:squarederror\"\n",
        "    }\n",
        "}"
      ],
      "execution_count": 0,
      "outputs": []
    },
    {
      "cell_type": "code",
      "metadata": {
        "id": "t97fiPVae-WI",
        "colab_type": "code",
        "outputId": "451490ae-7e95-4197-be02-6efbd62b4039",
        "colab": {
          "base_uri": "https://localhost:8080/",
          "height": 34
        }
      },
      "source": [
        "XLEARNER_TRAIN_MODE = True\n",
        "\n",
        "model_name = 'xlearner'\n",
        "model_obj_dir = \"./model\"\n",
        "load_pkl_path = \"xlearner_20200615184454.pkl\"\n",
        "\n",
        "if XLEARNER_TRAIN_MODE:\n",
        "    XLearner_model = XLearner(models=xgb.XGBRegressor(**hyperparameter[\"models\"]), # （反事実も含めた）アウトカム予測用のモデル定義\n",
        "                             propensity_model=xgb.XGBClassifier(**hyperparameter[\"propensity_model\"]), # 傾向スコア予測用のモデル定義\n",
        "                             cate_models=xgb.XGBRegressor(**hyperparameter[\"cate_models\"]), # CATE予測用のモデル定義\n",
        "                             )\n",
        "\n",
        "    #inference='bootstrap'\n",
        "    inference=None\n",
        "    XLearner_model.fit(Y=train_data[OUTCOME_COLUMN].values, # アウトカム\n",
        "                      T=train_data[TREATMENT_COLUMN].values, # 介入変数\n",
        "                      X=train_data[COVARIATE_COLUMNS].values, # 交絡因子\n",
        "                      inference=inference \n",
        "                      )\n",
        "    \n",
        "    # inferenceをbootstrapに設定した場合、pklファイルに書き出さない\n",
        "    # (最大深度の問題でpklファイルから読み込めないため)\n",
        "    if inference != 'bootstrap':\n",
        "        res = export_pkl_model_obj(model_obj_dir, model_name, XLearner_model, hyperparameter)\n",
        "        print(\"{model_name}を{file_path}に出力\".format(model_name=model_name, file_path=res))\n",
        "        \n",
        "else:\n",
        "    load_obj = load_pkl(model_obj_dir, load_pkl_path)\n",
        "    XLearner_model = load_obj[\"model\"]\n",
        "    print(\"{model_name}を{file_path}から読み込み\".format(model_name=model_name, file_path=load_pkl_path))\n",
        "    print(\"ハイパーパラメータ{hyperparameter}\".format(hyperparameter=load_obj[\"hyperparameter\"]))"
      ],
      "execution_count": 78,
      "outputs": [
        {
          "output_type": "stream",
          "text": [
            "xlearnerを./model/xlearner_20200615184454.pklに出力\n"
          ],
          "name": "stdout"
        }
      ]
    },
    {
      "cell_type": "markdown",
      "metadata": {
        "id": "qzdaPmdObJqK",
        "colab_type": "text"
      },
      "source": [
        "#### 傾向スコアモデルの精度算出"
      ]
    },
    {
      "cell_type": "code",
      "metadata": {
        "id": "SlxsTH4BhtFI",
        "colab_type": "code",
        "outputId": "c9abec1f-44bf-4ecc-d114-005888f45b5c",
        "colab": {
          "base_uri": "https://localhost:8080/",
          "height": 51
        }
      },
      "source": [
        "train_score, val_score = calc_model_score(XLearner_model.propensity_models[0], \n",
        "                                          train_data[COVARIATE_COLUMNS].values, train_data[TREATMENT_COLUMN].values,\n",
        "                                          test_data[COVARIATE_COLUMNS].values, test_data[TREATMENT_COLUMN].values)\n",
        "print(\"X-Leaner内の傾向スコアモデルの訓練精度:{train_score}\".format(train_score=train_score))\n",
        "print(\"X-Leaner内の傾向スコアモデルの検証精度:{val_score}\".format(val_score=val_score))"
      ],
      "execution_count": 79,
      "outputs": [
        {
          "output_type": "stream",
          "text": [
            "X-Leaner内の傾向スコアモデルの訓練精度:0.953625\n",
            "X-Leaner内の傾向スコアモデルの検証精度:0.917\n"
          ],
          "name": "stdout"
        }
      ]
    },
    {
      "cell_type": "code",
      "metadata": {
        "id": "iSwmVa5BS2o_",
        "colab_type": "code",
        "colab": {
          "base_uri": "https://localhost:8080/",
          "height": 34
        },
        "outputId": "04965be9-8e62-45b0-c4c6-91c389cd3107"
      },
      "source": [
        "XLearner_model.effect(test_data[COVARIATE_COLUMNS].values).sum() / test_data.shape[0]"
      ],
      "execution_count": 80,
      "outputs": [
        {
          "output_type": "execute_result",
          "data": {
            "text/plain": [
              "1871.1889343643188"
            ]
          },
          "metadata": {
            "tags": []
          },
          "execution_count": 80
        }
      ]
    },
    {
      "cell_type": "markdown",
      "metadata": {
        "id": "4abTtj5FGJNP",
        "colab_type": "text"
      },
      "source": [
        "### DA-Learner (Domain Adaptation Learner)"
      ]
    },
    {
      "cell_type": "code",
      "metadata": {
        "id": "T4oTIe1Wb4kD",
        "colab_type": "code",
        "colab": {}
      },
      "source": [
        "hyperparameter = {\n",
        "    \"models\" : {\n",
        "        \"n_estimators\" : 700,\n",
        "        \"random_state\" : 7,\n",
        "        \"objective\" : \"reg:squarederror\"\n",
        "        #\"objective\" : \"reg:gamma\"\n",
        "    },\n",
        "    \"propensity_model\" : {\n",
        "        \"n_estimators\" : 700,\n",
        "        \"random_state\" : 7,\n",
        "        \"objective\" : \"binary:logistic\"\n",
        "    },\n",
        "    \"final_models\" : {\n",
        "        \"n_estimators\" : 700,\n",
        "        \"random_state\" : 7,\n",
        "        \"objective\" : \"reg:squarederror\"\n",
        "    }\n",
        "}"
      ],
      "execution_count": 0,
      "outputs": []
    },
    {
      "cell_type": "code",
      "metadata": {
        "id": "OM_ghlyZbcTZ",
        "colab_type": "code",
        "outputId": "0ffab188-2cf2-4164-ee2a-32af23226db3",
        "colab": {
          "base_uri": "https://localhost:8080/",
          "height": 34
        }
      },
      "source": [
        "DALEARNER_TRAIN_MODE = True\n",
        "\n",
        "model_name = 'dalearner'\n",
        "model_obj_dir = \"./model\"\n",
        "load_pkl_path = \"dalearner_20200615184332.pkl\"\n",
        "\n",
        "if DALEARNER_TRAIN_MODE:\n",
        "    DALearner_model = DomainAdaptationLearner(models=xgb.XGBRegressor(**hyperparameter[\"models\"]), # （反事実も含めた）アウトカム予測用のモデル定義\n",
        "                                          propensity_model=xgb.XGBClassifier(**hyperparameter[\"propensity_model\"]), # 傾向スコア予測用のモデル定義\n",
        "                                          final_models=xgb.XGBRegressor(**hyperparameter[\"final_models\"]), # CATE予測用のモデル定義\n",
        "                                          )\n",
        "\n",
        "    #inference='bootstrap'\n",
        "    inference=None\n",
        "    DALearner_model.fit(Y=train_data[OUTCOME_COLUMN].values,\n",
        "                    T=train_data[TREATMENT_COLUMN].values,\n",
        "                    X=train_data[COVARIATE_COLUMNS].values,\n",
        "                    inference=inference\n",
        "                    )\n",
        "    \n",
        "    # inferenceをbootstrapに設定した場合、pklファイルに書き出さない\n",
        "    # (最大深度の問題でpklファイルから読み込めないため)\n",
        "    if inference != 'bootstrap':\n",
        "        res = export_pkl_model_obj(model_obj_dir, model_name, DALearner_model, hyperparameter)\n",
        "        print(\"{model_name}を{file_path}に出力\".format(model_name=model_name, file_path=res))\n",
        "        \n",
        "else:\n",
        "    load_obj = load_pkl(model_obj_dir, load_pkl_path)\n",
        "    DALearner_model = load_obj[\"model\"]\n",
        "    print(\"{model_name}を{file_path}から読み込み\".format(model_name=model_name, file_path=load_pkl_path))\n",
        "    print(\"ハイパーパラメータ{hyperparameter}\".format(hyperparameter=load_obj[\"hyperparameter\"]))"
      ],
      "execution_count": 73,
      "outputs": [
        {
          "output_type": "stream",
          "text": [
            "dalearnerを./model/dalearner_20200615184332.pklに出力\n"
          ],
          "name": "stdout"
        }
      ]
    },
    {
      "cell_type": "markdown",
      "metadata": {
        "id": "S1SgUZcswc4o",
        "colab_type": "text"
      },
      "source": [
        "#### 傾向スコアモデルの精度算出\n",
        "傾向スコアモデルの作り方はXLeanerと変わらないので、精度も同じ"
      ]
    },
    {
      "cell_type": "code",
      "metadata": {
        "id": "H-kekI9Hv5kR",
        "colab_type": "code",
        "outputId": "208e2a24-eb94-4a76-8317-9d149744eff5",
        "colab": {
          "base_uri": "https://localhost:8080/",
          "height": 51
        }
      },
      "source": [
        "train_score, val_score = calc_model_score(DALearner_model.propensity_models[0], \n",
        "                                          train_data[COVARIATE_COLUMNS].values, train_data[TREATMENT_COLUMN].values,\n",
        "                                          test_data[COVARIATE_COLUMNS].values, test_data[TREATMENT_COLUMN].values)\n",
        "print(\"DA-Leaner内の傾向スコアモデルの訓練精度:{train_score}\".format(train_score=train_score))\n",
        "print(\"DA-Leaner内の傾向スコアモデルの検証精度:{val_score}\".format(val_score=val_score))"
      ],
      "execution_count": 74,
      "outputs": [
        {
          "output_type": "stream",
          "text": [
            "DA-Leaner内の傾向スコアモデルの訓練精度:0.953625\n",
            "DA-Leaner内の傾向スコアモデルの検証精度:0.917\n"
          ],
          "name": "stdout"
        }
      ]
    },
    {
      "cell_type": "markdown",
      "metadata": {
        "id": "5YLJTlzd6lgj",
        "colab_type": "text"
      },
      "source": [
        "## 平均因果効果を求める"
      ]
    },
    {
      "cell_type": "code",
      "metadata": {
        "id": "J4lqNajslQsp",
        "colab_type": "code",
        "colab": {}
      },
      "source": [
        "analysis_data[\"SLearner\"] = SLearner_model.effect(analysis_data[COVARIATE_COLUMNS].values)\n",
        "analysis_data[\"SparseDRLearner\"] = Sparse_DRLearner_model.effect(analysis_data[COVARIATE_COLUMNS].values)\n",
        "analysis_data[\"XLearner\"] = XLearner_model.effect(analysis_data[COVARIATE_COLUMNS].values)\n",
        "analysis_data[\"DALearner\"] = DALearner_model.effect(analysis_data[COVARIATE_COLUMNS].values)"
      ],
      "execution_count": 0,
      "outputs": []
    },
    {
      "cell_type": "code",
      "metadata": {
        "id": "lbdPJRxZl0M2",
        "colab_type": "code",
        "outputId": "c2aa5e84-74a6-46c3-c31c-042cb6395afb",
        "colab": {
          "base_uri": "https://localhost:8080/",
          "height": 317
        }
      },
      "source": [
        "analysis_data.describe()"
      ],
      "execution_count": 82,
      "outputs": [
        {
          "output_type": "execute_result",
          "data": {
            "text/html": [
              "<div>\n",
              "<style scoped>\n",
              "    .dataframe tbody tr th:only-of-type {\n",
              "        vertical-align: middle;\n",
              "    }\n",
              "\n",
              "    .dataframe tbody tr th {\n",
              "        vertical-align: top;\n",
              "    }\n",
              "\n",
              "    .dataframe thead th {\n",
              "        text-align: right;\n",
              "    }\n",
              "</style>\n",
              "<table border=\"1\" class=\"dataframe\">\n",
              "  <thead>\n",
              "    <tr style=\"text-align: right;\">\n",
              "      <th></th>\n",
              "      <th>cm_dummy</th>\n",
              "      <th>area_kanto</th>\n",
              "      <th>area_keihan</th>\n",
              "      <th>area_tokai</th>\n",
              "      <th>area_keihanshin</th>\n",
              "      <th>age</th>\n",
              "      <th>sex</th>\n",
              "      <th>marry_dummy</th>\n",
              "      <th>job_dummy1</th>\n",
              "      <th>job_dummy2</th>\n",
              "      <th>job_dummy3</th>\n",
              "      <th>job_dummy4</th>\n",
              "      <th>job_dummy5</th>\n",
              "      <th>job_dummy6</th>\n",
              "      <th>job_dummy7</th>\n",
              "      <th>inc</th>\n",
              "      <th>pmoney</th>\n",
              "      <th>fam_str_dummy1</th>\n",
              "      <th>fam_str_dummy2</th>\n",
              "      <th>fam_str_dummy3</th>\n",
              "      <th>fam_str_dummy4</th>\n",
              "      <th>child_dummy</th>\n",
              "      <th>TVwatch_day</th>\n",
              "      <th>gamesecond</th>\n",
              "      <th>SLearner</th>\n",
              "      <th>SparseDRLearner</th>\n",
              "      <th>XLearner</th>\n",
              "      <th>DALearner</th>\n",
              "      <th>adjust_SLeaner_cate</th>\n",
              "      <th>adjust_SparseDRLeaner_cate</th>\n",
              "      <th>adjust_XLeaner_cate</th>\n",
              "      <th>adjust_DALeaner_cate</th>\n",
              "    </tr>\n",
              "  </thead>\n",
              "  <tbody>\n",
              "    <tr>\n",
              "      <th>count</th>\n",
              "      <td>10000.000000</td>\n",
              "      <td>10000.000000</td>\n",
              "      <td>10000.000000</td>\n",
              "      <td>10000.000000</td>\n",
              "      <td>10000.000000</td>\n",
              "      <td>10000.000000</td>\n",
              "      <td>10000.000000</td>\n",
              "      <td>10000.000000</td>\n",
              "      <td>10000.000000</td>\n",
              "      <td>10000.000000</td>\n",
              "      <td>10000.000000</td>\n",
              "      <td>10000.000000</td>\n",
              "      <td>10000.000000</td>\n",
              "      <td>10000.000000</td>\n",
              "      <td>10000.000000</td>\n",
              "      <td>10000.000000</td>\n",
              "      <td>10000.00000</td>\n",
              "      <td>10000.000000</td>\n",
              "      <td>10000.000000</td>\n",
              "      <td>10000.000000</td>\n",
              "      <td>10000.000000</td>\n",
              "      <td>10000.00000</td>\n",
              "      <td>10000.000000</td>\n",
              "      <td>10000.000000</td>\n",
              "      <td>10000.000000</td>\n",
              "      <td>10000.000000</td>\n",
              "      <td>10000.000000</td>\n",
              "      <td>10000.000000</td>\n",
              "      <td>10000.000000</td>\n",
              "      <td>10000.000000</td>\n",
              "      <td>10000.000000</td>\n",
              "      <td>10000.000000</td>\n",
              "    </tr>\n",
              "    <tr>\n",
              "      <th>mean</th>\n",
              "      <td>0.414400</td>\n",
              "      <td>0.091200</td>\n",
              "      <td>0.588700</td>\n",
              "      <td>0.111500</td>\n",
              "      <td>0.208600</td>\n",
              "      <td>40.841900</td>\n",
              "      <td>0.640300</td>\n",
              "      <td>0.647000</td>\n",
              "      <td>0.566200</td>\n",
              "      <td>0.054200</td>\n",
              "      <td>0.075900</td>\n",
              "      <td>0.012300</td>\n",
              "      <td>0.117700</td>\n",
              "      <td>0.099900</td>\n",
              "      <td>0.039900</td>\n",
              "      <td>357.829700</td>\n",
              "      <td>3.55234</td>\n",
              "      <td>0.148000</td>\n",
              "      <td>0.144800</td>\n",
              "      <td>0.620400</td>\n",
              "      <td>0.069900</td>\n",
              "      <td>0.42300</td>\n",
              "      <td>8096.497203</td>\n",
              "      <td>2846.783400</td>\n",
              "      <td>3570.436002</td>\n",
              "      <td>-297.659566</td>\n",
              "      <td>1653.350183</td>\n",
              "      <td>1074.697739</td>\n",
              "      <td>-27.083135</td>\n",
              "      <td>-1309.351159</td>\n",
              "      <td>-1466.664049</td>\n",
              "      <td>0.037000</td>\n",
              "    </tr>\n",
              "    <tr>\n",
              "      <th>std</th>\n",
              "      <td>0.492643</td>\n",
              "      <td>0.287908</td>\n",
              "      <td>0.492094</td>\n",
              "      <td>0.314766</td>\n",
              "      <td>0.406328</td>\n",
              "      <td>10.465434</td>\n",
              "      <td>0.479936</td>\n",
              "      <td>0.477927</td>\n",
              "      <td>0.495623</td>\n",
              "      <td>0.226423</td>\n",
              "      <td>0.264851</td>\n",
              "      <td>0.110227</td>\n",
              "      <td>0.322269</td>\n",
              "      <td>0.299882</td>\n",
              "      <td>0.195734</td>\n",
              "      <td>267.408383</td>\n",
              "      <td>3.37777</td>\n",
              "      <td>0.355118</td>\n",
              "      <td>0.351917</td>\n",
              "      <td>0.485312</td>\n",
              "      <td>0.254991</td>\n",
              "      <td>0.49406</td>\n",
              "      <td>7709.497437</td>\n",
              "      <td>17973.608991</td>\n",
              "      <td>32259.181642</td>\n",
              "      <td>3155.266009</td>\n",
              "      <td>17345.945218</td>\n",
              "      <td>20850.682441</td>\n",
              "      <td>2657.218123</td>\n",
              "      <td>2098.444989</td>\n",
              "      <td>5767.084451</td>\n",
              "      <td>0.130892</td>\n",
              "    </tr>\n",
              "    <tr>\n",
              "      <th>min</th>\n",
              "      <td>0.000000</td>\n",
              "      <td>0.000000</td>\n",
              "      <td>0.000000</td>\n",
              "      <td>0.000000</td>\n",
              "      <td>0.000000</td>\n",
              "      <td>19.000000</td>\n",
              "      <td>0.000000</td>\n",
              "      <td>0.000000</td>\n",
              "      <td>0.000000</td>\n",
              "      <td>0.000000</td>\n",
              "      <td>0.000000</td>\n",
              "      <td>0.000000</td>\n",
              "      <td>0.000000</td>\n",
              "      <td>0.000000</td>\n",
              "      <td>0.000000</td>\n",
              "      <td>0.000000</td>\n",
              "      <td>0.00000</td>\n",
              "      <td>0.000000</td>\n",
              "      <td>0.000000</td>\n",
              "      <td>0.000000</td>\n",
              "      <td>0.000000</td>\n",
              "      <td>0.00000</td>\n",
              "      <td>29.875270</td>\n",
              "      <td>0.000000</td>\n",
              "      <td>-32066.597656</td>\n",
              "      <td>-10781.037345</td>\n",
              "      <td>-107973.500000</td>\n",
              "      <td>-362968.968750</td>\n",
              "      <td>-32066.597656</td>\n",
              "      <td>-10781.037345</td>\n",
              "      <td>-105928.039062</td>\n",
              "      <td>0.000000</td>\n",
              "    </tr>\n",
              "    <tr>\n",
              "      <th>25%</th>\n",
              "      <td>0.000000</td>\n",
              "      <td>0.000000</td>\n",
              "      <td>0.000000</td>\n",
              "      <td>0.000000</td>\n",
              "      <td>0.000000</td>\n",
              "      <td>34.500000</td>\n",
              "      <td>0.000000</td>\n",
              "      <td>0.000000</td>\n",
              "      <td>0.000000</td>\n",
              "      <td>0.000000</td>\n",
              "      <td>0.000000</td>\n",
              "      <td>0.000000</td>\n",
              "      <td>0.000000</td>\n",
              "      <td>0.000000</td>\n",
              "      <td>0.000000</td>\n",
              "      <td>103.000000</td>\n",
              "      <td>2.00000</td>\n",
              "      <td>0.000000</td>\n",
              "      <td>0.000000</td>\n",
              "      <td>0.000000</td>\n",
              "      <td>0.000000</td>\n",
              "      <td>0.00000</td>\n",
              "      <td>2502.245967</td>\n",
              "      <td>0.000000</td>\n",
              "      <td>-0.000006</td>\n",
              "      <td>-2193.261632</td>\n",
              "      <td>-1974.874298</td>\n",
              "      <td>-1694.226318</td>\n",
              "      <td>-0.000006</td>\n",
              "      <td>-2193.261632</td>\n",
              "      <td>-543.211975</td>\n",
              "      <td>0.000000</td>\n",
              "    </tr>\n",
              "    <tr>\n",
              "      <th>50%</th>\n",
              "      <td>0.000000</td>\n",
              "      <td>0.000000</td>\n",
              "      <td>1.000000</td>\n",
              "      <td>0.000000</td>\n",
              "      <td>0.000000</td>\n",
              "      <td>44.500000</td>\n",
              "      <td>1.000000</td>\n",
              "      <td>1.000000</td>\n",
              "      <td>1.000000</td>\n",
              "      <td>0.000000</td>\n",
              "      <td>0.000000</td>\n",
              "      <td>0.000000</td>\n",
              "      <td>0.000000</td>\n",
              "      <td>0.000000</td>\n",
              "      <td>0.000000</td>\n",
              "      <td>349.500000</td>\n",
              "      <td>2.00000</td>\n",
              "      <td>0.000000</td>\n",
              "      <td>0.000000</td>\n",
              "      <td>1.000000</td>\n",
              "      <td>0.000000</td>\n",
              "      <td>0.00000</td>\n",
              "      <td>5944.444520</td>\n",
              "      <td>0.000000</td>\n",
              "      <td>0.000741</td>\n",
              "      <td>-227.929902</td>\n",
              "      <td>335.410461</td>\n",
              "      <td>308.859070</td>\n",
              "      <td>0.000000</td>\n",
              "      <td>-227.929902</td>\n",
              "      <td>-9.264246</td>\n",
              "      <td>0.000000</td>\n",
              "    </tr>\n",
              "    <tr>\n",
              "      <th>75%</th>\n",
              "      <td>1.000000</td>\n",
              "      <td>0.000000</td>\n",
              "      <td>1.000000</td>\n",
              "      <td>0.000000</td>\n",
              "      <td>0.000000</td>\n",
              "      <td>44.500000</td>\n",
              "      <td>1.000000</td>\n",
              "      <td>1.000000</td>\n",
              "      <td>1.000000</td>\n",
              "      <td>0.000000</td>\n",
              "      <td>0.000000</td>\n",
              "      <td>0.000000</td>\n",
              "      <td>0.000000</td>\n",
              "      <td>0.000000</td>\n",
              "      <td>0.000000</td>\n",
              "      <td>549.500000</td>\n",
              "      <td>4.00000</td>\n",
              "      <td>0.000000</td>\n",
              "      <td>0.000000</td>\n",
              "      <td>1.000000</td>\n",
              "      <td>0.000000</td>\n",
              "      <td>1.00000</td>\n",
              "      <td>11154.786148</td>\n",
              "      <td>0.000000</td>\n",
              "      <td>37.976917</td>\n",
              "      <td>1675.530002</td>\n",
              "      <td>2876.086426</td>\n",
              "      <td>2337.525879</td>\n",
              "      <td>0.000000</td>\n",
              "      <td>0.000000</td>\n",
              "      <td>0.000000</td>\n",
              "      <td>0.000000</td>\n",
              "    </tr>\n",
              "    <tr>\n",
              "      <th>max</th>\n",
              "      <td>1.000000</td>\n",
              "      <td>1.000000</td>\n",
              "      <td>1.000000</td>\n",
              "      <td>1.000000</td>\n",
              "      <td>1.000000</td>\n",
              "      <td>60.000000</td>\n",
              "      <td>1.000000</td>\n",
              "      <td>1.000000</td>\n",
              "      <td>1.000000</td>\n",
              "      <td>1.000000</td>\n",
              "      <td>1.000000</td>\n",
              "      <td>1.000000</td>\n",
              "      <td>1.000000</td>\n",
              "      <td>1.000000</td>\n",
              "      <td>1.000000</td>\n",
              "      <td>800.000000</td>\n",
              "      <td>20.00000</td>\n",
              "      <td>1.000000</td>\n",
              "      <td>1.000000</td>\n",
              "      <td>1.000000</td>\n",
              "      <td>1.000000</td>\n",
              "      <td>1.00000</td>\n",
              "      <td>49036.055042</td>\n",
              "      <td>364814.000000</td>\n",
              "      <td>679834.062500</td>\n",
              "      <td>10830.904520</td>\n",
              "      <td>182558.031250</td>\n",
              "      <td>213068.375000</td>\n",
              "      <td>28234.574219</td>\n",
              "      <td>4949.508981</td>\n",
              "      <td>38569.164062</td>\n",
              "      <td>0.500000</td>\n",
              "    </tr>\n",
              "  </tbody>\n",
              "</table>\n",
              "</div>"
            ],
            "text/plain": [
              "           cm_dummy    area_kanto  ...  adjust_XLeaner_cate  adjust_DALeaner_cate\n",
              "count  10000.000000  10000.000000  ...         10000.000000          10000.000000\n",
              "mean       0.414400      0.091200  ...         -1466.664049              0.037000\n",
              "std        0.492643      0.287908  ...          5767.084451              0.130892\n",
              "min        0.000000      0.000000  ...       -105928.039062              0.000000\n",
              "25%        0.000000      0.000000  ...          -543.211975              0.000000\n",
              "50%        0.000000      0.000000  ...            -9.264246              0.000000\n",
              "75%        1.000000      0.000000  ...             0.000000              0.000000\n",
              "max        1.000000      1.000000  ...         38569.164062              0.500000\n",
              "\n",
              "[8 rows x 32 columns]"
            ]
          },
          "metadata": {
            "tags": []
          },
          "execution_count": 82
        }
      ]
    },
    {
      "cell_type": "markdown",
      "metadata": {
        "id": "HF_hvqOD6p5e",
        "colab_type": "text"
      },
      "source": [
        "### （試行）介入前後でゲーム時間が負数となるユーザの因果効果は0とおいてみる"
      ]
    },
    {
      "cell_type": "code",
      "metadata": {
        "id": "3_Y5Mrou4AhT",
        "colab_type": "code",
        "colab": {}
      },
      "source": [
        "def adjust_nega_gamesec_cate(obs_Y, pred_cate):\n",
        "    \"\"\"\n",
        "    実験前のゲーム時間が負数となってしまうユーザのcateを修正\n",
        "\n",
        "    Parameters\n",
        "    -----\n",
        "    obs_Y : ndarray(d)\n",
        "        観測されているアウトカム\n",
        "    pred_cate : nddarya(d)\n",
        "        モデルが予測したcate\n",
        "\n",
        "    Returns\n",
        "    -----\n",
        "    adjust_cate : ndarray(d)\n",
        "\n",
        "    Notes\n",
        "    -----\n",
        "    INFO : 負数となったユーザのCATEは0に置き換え\n",
        "    \"\"\"\n",
        "    adjust_cate = pred_cate\n",
        "    for i, (indiv_y, indiv_cate) in enumerate(zip(obs_Y, pred_cate)):\n",
        "        indiv_y_before = indiv_y - indiv_cate\n",
        "        if indiv_y_before <= 0:\n",
        "            adjust_cate[i] = 0\n",
        "\n",
        "    return adjust_cate"
      ],
      "execution_count": 0,
      "outputs": []
    },
    {
      "cell_type": "code",
      "metadata": {
        "id": "XwA_SuGAYDiL",
        "colab_type": "code",
        "colab": {}
      },
      "source": [
        "analysis_data[\"adjust_SLeaner_cate\"] = adjust_nega_gamesec_cate(analysis_data[OUTCOME_COLUMN].values, SLearner_model.effect(analysis_data[COVARIATE_COLUMNS]))\n",
        "analysis_data[\"adjust_SparseDRLeaner_cate\"] = adjust_nega_gamesec_cate(analysis_data[OUTCOME_COLUMN].values, Sparse_DRLearner_model.effect(analysis_data[COVARIATE_COLUMNS]))\n",
        "analysis_data[\"adjust_XLeaner_cate\"] = adjust_nega_gamesec_cate(analysis_data[OUTCOME_COLUMN].values, XLearner_model.effect(analysis_data[COVARIATE_COLUMNS]))\n",
        "analysis_data[\"adjust_DALeaner_cate\"] = adjust_nega_gamesec_cate(analysis_data[OUTCOME_COLUMN].values, DALearner_model.effect(analysis_data[COVARIATE_COLUMNS]))"
      ],
      "execution_count": 0,
      "outputs": []
    },
    {
      "cell_type": "code",
      "metadata": {
        "id": "3Lw6LejeejYl",
        "colab_type": "code",
        "outputId": "4c60aa1c-073c-4d81-a5e9-9a1fd2ff8d79",
        "colab": {
          "base_uri": "https://localhost:8080/",
          "height": 317
        }
      },
      "source": [
        "analysis_data.describe()"
      ],
      "execution_count": 85,
      "outputs": [
        {
          "output_type": "execute_result",
          "data": {
            "text/html": [
              "<div>\n",
              "<style scoped>\n",
              "    .dataframe tbody tr th:only-of-type {\n",
              "        vertical-align: middle;\n",
              "    }\n",
              "\n",
              "    .dataframe tbody tr th {\n",
              "        vertical-align: top;\n",
              "    }\n",
              "\n",
              "    .dataframe thead th {\n",
              "        text-align: right;\n",
              "    }\n",
              "</style>\n",
              "<table border=\"1\" class=\"dataframe\">\n",
              "  <thead>\n",
              "    <tr style=\"text-align: right;\">\n",
              "      <th></th>\n",
              "      <th>cm_dummy</th>\n",
              "      <th>area_kanto</th>\n",
              "      <th>area_keihan</th>\n",
              "      <th>area_tokai</th>\n",
              "      <th>area_keihanshin</th>\n",
              "      <th>age</th>\n",
              "      <th>sex</th>\n",
              "      <th>marry_dummy</th>\n",
              "      <th>job_dummy1</th>\n",
              "      <th>job_dummy2</th>\n",
              "      <th>job_dummy3</th>\n",
              "      <th>job_dummy4</th>\n",
              "      <th>job_dummy5</th>\n",
              "      <th>job_dummy6</th>\n",
              "      <th>job_dummy7</th>\n",
              "      <th>inc</th>\n",
              "      <th>pmoney</th>\n",
              "      <th>fam_str_dummy1</th>\n",
              "      <th>fam_str_dummy2</th>\n",
              "      <th>fam_str_dummy3</th>\n",
              "      <th>fam_str_dummy4</th>\n",
              "      <th>child_dummy</th>\n",
              "      <th>TVwatch_day</th>\n",
              "      <th>gamesecond</th>\n",
              "      <th>SLearner</th>\n",
              "      <th>SparseDRLearner</th>\n",
              "      <th>XLearner</th>\n",
              "      <th>DALearner</th>\n",
              "      <th>adjust_SLeaner_cate</th>\n",
              "      <th>adjust_SparseDRLeaner_cate</th>\n",
              "      <th>adjust_XLeaner_cate</th>\n",
              "      <th>adjust_DALeaner_cate</th>\n",
              "    </tr>\n",
              "  </thead>\n",
              "  <tbody>\n",
              "    <tr>\n",
              "      <th>count</th>\n",
              "      <td>10000.000000</td>\n",
              "      <td>10000.000000</td>\n",
              "      <td>10000.000000</td>\n",
              "      <td>10000.000000</td>\n",
              "      <td>10000.000000</td>\n",
              "      <td>10000.000000</td>\n",
              "      <td>10000.000000</td>\n",
              "      <td>10000.000000</td>\n",
              "      <td>10000.000000</td>\n",
              "      <td>10000.000000</td>\n",
              "      <td>10000.000000</td>\n",
              "      <td>10000.000000</td>\n",
              "      <td>10000.000000</td>\n",
              "      <td>10000.000000</td>\n",
              "      <td>10000.000000</td>\n",
              "      <td>10000.000000</td>\n",
              "      <td>10000.00000</td>\n",
              "      <td>10000.000000</td>\n",
              "      <td>10000.000000</td>\n",
              "      <td>10000.000000</td>\n",
              "      <td>10000.000000</td>\n",
              "      <td>10000.00000</td>\n",
              "      <td>10000.000000</td>\n",
              "      <td>10000.000000</td>\n",
              "      <td>10000.000000</td>\n",
              "      <td>10000.000000</td>\n",
              "      <td>10000.000000</td>\n",
              "      <td>10000.000000</td>\n",
              "      <td>10000.000000</td>\n",
              "      <td>10000.000000</td>\n",
              "      <td>10000.000000</td>\n",
              "      <td>10000.000000</td>\n",
              "    </tr>\n",
              "    <tr>\n",
              "      <th>mean</th>\n",
              "      <td>0.414400</td>\n",
              "      <td>0.091200</td>\n",
              "      <td>0.588700</td>\n",
              "      <td>0.111500</td>\n",
              "      <td>0.208600</td>\n",
              "      <td>40.841900</td>\n",
              "      <td>0.640300</td>\n",
              "      <td>0.647000</td>\n",
              "      <td>0.566200</td>\n",
              "      <td>0.054200</td>\n",
              "      <td>0.075900</td>\n",
              "      <td>0.012300</td>\n",
              "      <td>0.117700</td>\n",
              "      <td>0.099900</td>\n",
              "      <td>0.039900</td>\n",
              "      <td>357.829700</td>\n",
              "      <td>3.55234</td>\n",
              "      <td>0.148000</td>\n",
              "      <td>0.144800</td>\n",
              "      <td>0.620400</td>\n",
              "      <td>0.069900</td>\n",
              "      <td>0.42300</td>\n",
              "      <td>8096.497203</td>\n",
              "      <td>2846.783400</td>\n",
              "      <td>3570.436002</td>\n",
              "      <td>-297.659566</td>\n",
              "      <td>1653.350183</td>\n",
              "      <td>1074.697739</td>\n",
              "      <td>-27.083135</td>\n",
              "      <td>-1309.351159</td>\n",
              "      <td>-2383.652455</td>\n",
              "      <td>-2239.851956</td>\n",
              "    </tr>\n",
              "    <tr>\n",
              "      <th>std</th>\n",
              "      <td>0.492643</td>\n",
              "      <td>0.287908</td>\n",
              "      <td>0.492094</td>\n",
              "      <td>0.314766</td>\n",
              "      <td>0.406328</td>\n",
              "      <td>10.465434</td>\n",
              "      <td>0.479936</td>\n",
              "      <td>0.477927</td>\n",
              "      <td>0.495623</td>\n",
              "      <td>0.226423</td>\n",
              "      <td>0.264851</td>\n",
              "      <td>0.110227</td>\n",
              "      <td>0.322269</td>\n",
              "      <td>0.299882</td>\n",
              "      <td>0.195734</td>\n",
              "      <td>267.408383</td>\n",
              "      <td>3.37777</td>\n",
              "      <td>0.355118</td>\n",
              "      <td>0.351917</td>\n",
              "      <td>0.485312</td>\n",
              "      <td>0.254991</td>\n",
              "      <td>0.49406</td>\n",
              "      <td>7709.497437</td>\n",
              "      <td>17973.608991</td>\n",
              "      <td>32259.181642</td>\n",
              "      <td>3155.266009</td>\n",
              "      <td>17345.945218</td>\n",
              "      <td>20850.682441</td>\n",
              "      <td>2657.218123</td>\n",
              "      <td>2098.444989</td>\n",
              "      <td>10837.253047</td>\n",
              "      <td>16663.721408</td>\n",
              "    </tr>\n",
              "    <tr>\n",
              "      <th>min</th>\n",
              "      <td>0.000000</td>\n",
              "      <td>0.000000</td>\n",
              "      <td>0.000000</td>\n",
              "      <td>0.000000</td>\n",
              "      <td>0.000000</td>\n",
              "      <td>19.000000</td>\n",
              "      <td>0.000000</td>\n",
              "      <td>0.000000</td>\n",
              "      <td>0.000000</td>\n",
              "      <td>0.000000</td>\n",
              "      <td>0.000000</td>\n",
              "      <td>0.000000</td>\n",
              "      <td>0.000000</td>\n",
              "      <td>0.000000</td>\n",
              "      <td>0.000000</td>\n",
              "      <td>0.000000</td>\n",
              "      <td>0.00000</td>\n",
              "      <td>0.000000</td>\n",
              "      <td>0.000000</td>\n",
              "      <td>0.000000</td>\n",
              "      <td>0.000000</td>\n",
              "      <td>0.00000</td>\n",
              "      <td>29.875270</td>\n",
              "      <td>0.000000</td>\n",
              "      <td>-32066.597656</td>\n",
              "      <td>-10781.037345</td>\n",
              "      <td>-107973.500000</td>\n",
              "      <td>-362968.968750</td>\n",
              "      <td>-32066.597656</td>\n",
              "      <td>-10781.037345</td>\n",
              "      <td>-107973.500000</td>\n",
              "      <td>-362968.968750</td>\n",
              "    </tr>\n",
              "    <tr>\n",
              "      <th>25%</th>\n",
              "      <td>0.000000</td>\n",
              "      <td>0.000000</td>\n",
              "      <td>0.000000</td>\n",
              "      <td>0.000000</td>\n",
              "      <td>0.000000</td>\n",
              "      <td>34.500000</td>\n",
              "      <td>0.000000</td>\n",
              "      <td>0.000000</td>\n",
              "      <td>0.000000</td>\n",
              "      <td>0.000000</td>\n",
              "      <td>0.000000</td>\n",
              "      <td>0.000000</td>\n",
              "      <td>0.000000</td>\n",
              "      <td>0.000000</td>\n",
              "      <td>0.000000</td>\n",
              "      <td>103.000000</td>\n",
              "      <td>2.00000</td>\n",
              "      <td>0.000000</td>\n",
              "      <td>0.000000</td>\n",
              "      <td>0.000000</td>\n",
              "      <td>0.000000</td>\n",
              "      <td>0.00000</td>\n",
              "      <td>2502.245967</td>\n",
              "      <td>0.000000</td>\n",
              "      <td>-0.000006</td>\n",
              "      <td>-2193.261632</td>\n",
              "      <td>-1974.874298</td>\n",
              "      <td>-1694.226318</td>\n",
              "      <td>-0.000006</td>\n",
              "      <td>-2193.261632</td>\n",
              "      <td>-1974.874298</td>\n",
              "      <td>-1694.226318</td>\n",
              "    </tr>\n",
              "    <tr>\n",
              "      <th>50%</th>\n",
              "      <td>0.000000</td>\n",
              "      <td>0.000000</td>\n",
              "      <td>1.000000</td>\n",
              "      <td>0.000000</td>\n",
              "      <td>0.000000</td>\n",
              "      <td>44.500000</td>\n",
              "      <td>1.000000</td>\n",
              "      <td>1.000000</td>\n",
              "      <td>1.000000</td>\n",
              "      <td>0.000000</td>\n",
              "      <td>0.000000</td>\n",
              "      <td>0.000000</td>\n",
              "      <td>0.000000</td>\n",
              "      <td>0.000000</td>\n",
              "      <td>0.000000</td>\n",
              "      <td>349.500000</td>\n",
              "      <td>2.00000</td>\n",
              "      <td>0.000000</td>\n",
              "      <td>0.000000</td>\n",
              "      <td>1.000000</td>\n",
              "      <td>0.000000</td>\n",
              "      <td>0.00000</td>\n",
              "      <td>5944.444520</td>\n",
              "      <td>0.000000</td>\n",
              "      <td>0.000741</td>\n",
              "      <td>-227.929902</td>\n",
              "      <td>335.410461</td>\n",
              "      <td>308.859070</td>\n",
              "      <td>0.000000</td>\n",
              "      <td>-227.929902</td>\n",
              "      <td>0.000000</td>\n",
              "      <td>0.000000</td>\n",
              "    </tr>\n",
              "    <tr>\n",
              "      <th>75%</th>\n",
              "      <td>1.000000</td>\n",
              "      <td>0.000000</td>\n",
              "      <td>1.000000</td>\n",
              "      <td>0.000000</td>\n",
              "      <td>0.000000</td>\n",
              "      <td>44.500000</td>\n",
              "      <td>1.000000</td>\n",
              "      <td>1.000000</td>\n",
              "      <td>1.000000</td>\n",
              "      <td>0.000000</td>\n",
              "      <td>0.000000</td>\n",
              "      <td>0.000000</td>\n",
              "      <td>0.000000</td>\n",
              "      <td>0.000000</td>\n",
              "      <td>0.000000</td>\n",
              "      <td>549.500000</td>\n",
              "      <td>4.00000</td>\n",
              "      <td>0.000000</td>\n",
              "      <td>0.000000</td>\n",
              "      <td>1.000000</td>\n",
              "      <td>0.000000</td>\n",
              "      <td>1.00000</td>\n",
              "      <td>11154.786148</td>\n",
              "      <td>0.000000</td>\n",
              "      <td>37.976917</td>\n",
              "      <td>1675.530002</td>\n",
              "      <td>2876.086426</td>\n",
              "      <td>2337.525879</td>\n",
              "      <td>0.000000</td>\n",
              "      <td>0.000000</td>\n",
              "      <td>0.000000</td>\n",
              "      <td>0.000000</td>\n",
              "    </tr>\n",
              "    <tr>\n",
              "      <th>max</th>\n",
              "      <td>1.000000</td>\n",
              "      <td>1.000000</td>\n",
              "      <td>1.000000</td>\n",
              "      <td>1.000000</td>\n",
              "      <td>1.000000</td>\n",
              "      <td>60.000000</td>\n",
              "      <td>1.000000</td>\n",
              "      <td>1.000000</td>\n",
              "      <td>1.000000</td>\n",
              "      <td>1.000000</td>\n",
              "      <td>1.000000</td>\n",
              "      <td>1.000000</td>\n",
              "      <td>1.000000</td>\n",
              "      <td>1.000000</td>\n",
              "      <td>1.000000</td>\n",
              "      <td>800.000000</td>\n",
              "      <td>20.00000</td>\n",
              "      <td>1.000000</td>\n",
              "      <td>1.000000</td>\n",
              "      <td>1.000000</td>\n",
              "      <td>1.000000</td>\n",
              "      <td>1.00000</td>\n",
              "      <td>49036.055042</td>\n",
              "      <td>364814.000000</td>\n",
              "      <td>679834.062500</td>\n",
              "      <td>10830.904520</td>\n",
              "      <td>182558.031250</td>\n",
              "      <td>213068.375000</td>\n",
              "      <td>28234.574219</td>\n",
              "      <td>4949.508981</td>\n",
              "      <td>123682.453125</td>\n",
              "      <td>213068.375000</td>\n",
              "    </tr>\n",
              "  </tbody>\n",
              "</table>\n",
              "</div>"
            ],
            "text/plain": [
              "           cm_dummy    area_kanto  ...  adjust_XLeaner_cate  adjust_DALeaner_cate\n",
              "count  10000.000000  10000.000000  ...         10000.000000          10000.000000\n",
              "mean       0.414400      0.091200  ...         -2383.652455          -2239.851956\n",
              "std        0.492643      0.287908  ...         10837.253047          16663.721408\n",
              "min        0.000000      0.000000  ...       -107973.500000        -362968.968750\n",
              "25%        0.000000      0.000000  ...         -1974.874298          -1694.226318\n",
              "50%        0.000000      0.000000  ...             0.000000              0.000000\n",
              "75%        1.000000      0.000000  ...             0.000000              0.000000\n",
              "max        1.000000      1.000000  ...        123682.453125         213068.375000\n",
              "\n",
              "[8 rows x 32 columns]"
            ]
          },
          "metadata": {
            "tags": []
          },
          "execution_count": 85
        }
      ]
    },
    {
      "cell_type": "code",
      "metadata": {
        "id": "x24wCpWJkD_E",
        "colab_type": "code",
        "colab": {}
      },
      "source": [
        ""
      ],
      "execution_count": 0,
      "outputs": []
    }
  ]
}