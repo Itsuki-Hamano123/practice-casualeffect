{
  "nbformat": 4,
  "nbformat_minor": 0,
  "metadata": {
    "colab": {
      "name": "jobs_rct_causalml_xlearner.ipynb",
      "provenance": [],
      "collapsed_sections": [],
      "toc_visible": true,
      "authorship_tag": "ABX9TyOHjbLxfWABJteokNcwWS/3",
      "include_colab_link": true
    },
    "kernelspec": {
      "name": "python3",
      "display_name": "Python 3"
    }
  },
  "cells": [
    {
      "cell_type": "markdown",
      "metadata": {
        "id": "view-in-github",
        "colab_type": "text"
      },
      "source": [
        "<a href=\"https://colab.research.google.com/github/Itsuki-Hamano123/practice-casualeffect/blob/master/jobs_causality/jobs_rct_causalml_xlearner.ipynb\" target=\"_parent\"><img src=\"https://colab.research.google.com/assets/colab-badge.svg\" alt=\"Open In Colab\"/></a>"
      ]
    },
    {
      "cell_type": "code",
      "metadata": {
        "id": "ujBdp7uChDMD",
        "colab_type": "code",
        "colab": {
          "base_uri": "https://localhost:8080/",
          "height": 1000
        },
        "outputId": "a88c8230-531c-4cec-b3b7-ffd3f6a61ec3"
      },
      "source": [
        "!pip install causalml"
      ],
      "execution_count": 1,
      "outputs": [
        {
          "output_type": "stream",
          "text": [
            "Collecting causalml\n",
            "\u001b[?25l  Downloading https://files.pythonhosted.org/packages/50/7c/dd3c967b3bd8185c454fe7554f959914d2fb7674cb22467b64fa2b61fc67/causalml-0.8.0.tar.gz (3.8MB)\n",
            "\r\u001b[K     |                                | 10kB 13.3MB/s eta 0:00:01\r\u001b[K     |▏                               | 20kB 3.2MB/s eta 0:00:02\r\u001b[K     |▎                               | 30kB 4.2MB/s eta 0:00:01\r\u001b[K     |▍                               | 40kB 4.5MB/s eta 0:00:01\r\u001b[K     |▍                               | 51kB 3.6MB/s eta 0:00:02\r\u001b[K     |▌                               | 61kB 3.9MB/s eta 0:00:01\r\u001b[K     |▋                               | 71kB 4.2MB/s eta 0:00:01\r\u001b[K     |▊                               | 81kB 4.6MB/s eta 0:00:01\r\u001b[K     |▊                               | 92kB 4.9MB/s eta 0:00:01\r\u001b[K     |▉                               | 102kB 4.9MB/s eta 0:00:01\r\u001b[K     |█                               | 112kB 4.9MB/s eta 0:00:01\r\u001b[K     |█                               | 122kB 4.9MB/s eta 0:00:01\r\u001b[K     |█                               | 133kB 4.9MB/s eta 0:00:01\r\u001b[K     |█▏                              | 143kB 4.9MB/s eta 0:00:01\r\u001b[K     |█▎                              | 153kB 4.9MB/s eta 0:00:01\r\u001b[K     |█▍                              | 163kB 4.9MB/s eta 0:00:01\r\u001b[K     |█▌                              | 174kB 4.9MB/s eta 0:00:01\r\u001b[K     |█▌                              | 184kB 4.9MB/s eta 0:00:01\r\u001b[K     |█▋                              | 194kB 4.9MB/s eta 0:00:01\r\u001b[K     |█▊                              | 204kB 4.9MB/s eta 0:00:01\r\u001b[K     |█▉                              | 215kB 4.9MB/s eta 0:00:01\r\u001b[K     |█▉                              | 225kB 4.9MB/s eta 0:00:01\r\u001b[K     |██                              | 235kB 4.9MB/s eta 0:00:01\r\u001b[K     |██                              | 245kB 4.9MB/s eta 0:00:01\r\u001b[K     |██▏                             | 256kB 4.9MB/s eta 0:00:01\r\u001b[K     |██▏                             | 266kB 4.9MB/s eta 0:00:01\r\u001b[K     |██▎                             | 276kB 4.9MB/s eta 0:00:01\r\u001b[K     |██▍                             | 286kB 4.9MB/s eta 0:00:01\r\u001b[K     |██▌                             | 296kB 4.9MB/s eta 0:00:01\r\u001b[K     |██▋                             | 307kB 4.9MB/s eta 0:00:01\r\u001b[K     |██▋                             | 317kB 4.9MB/s eta 0:00:01\r\u001b[K     |██▊                             | 327kB 4.9MB/s eta 0:00:01\r\u001b[K     |██▉                             | 337kB 4.9MB/s eta 0:00:01\r\u001b[K     |███                             | 348kB 4.9MB/s eta 0:00:01\r\u001b[K     |███                             | 358kB 4.9MB/s eta 0:00:01\r\u001b[K     |███                             | 368kB 4.9MB/s eta 0:00:01\r\u001b[K     |███▏                            | 378kB 4.9MB/s eta 0:00:01\r\u001b[K     |███▎                            | 389kB 4.9MB/s eta 0:00:01\r\u001b[K     |███▎                            | 399kB 4.9MB/s eta 0:00:01\r\u001b[K     |███▍                            | 409kB 4.9MB/s eta 0:00:01\r\u001b[K     |███▌                            | 419kB 4.9MB/s eta 0:00:01\r\u001b[K     |███▋                            | 430kB 4.9MB/s eta 0:00:01\r\u001b[K     |███▊                            | 440kB 4.9MB/s eta 0:00:01\r\u001b[K     |███▊                            | 450kB 4.9MB/s eta 0:00:01\r\u001b[K     |███▉                            | 460kB 4.9MB/s eta 0:00:01\r\u001b[K     |████                            | 471kB 4.9MB/s eta 0:00:01\r\u001b[K     |████                            | 481kB 4.9MB/s eta 0:00:01\r\u001b[K     |████                            | 491kB 4.9MB/s eta 0:00:01\r\u001b[K     |████▏                           | 501kB 4.9MB/s eta 0:00:01\r\u001b[K     |████▎                           | 512kB 4.9MB/s eta 0:00:01\r\u001b[K     |████▍                           | 522kB 4.9MB/s eta 0:00:01\r\u001b[K     |████▍                           | 532kB 4.9MB/s eta 0:00:01\r\u001b[K     |████▌                           | 542kB 4.9MB/s eta 0:00:01\r\u001b[K     |████▋                           | 552kB 4.9MB/s eta 0:00:01\r\u001b[K     |████▊                           | 563kB 4.9MB/s eta 0:00:01\r\u001b[K     |████▉                           | 573kB 4.9MB/s eta 0:00:01\r\u001b[K     |████▉                           | 583kB 4.9MB/s eta 0:00:01\r\u001b[K     |█████                           | 593kB 4.9MB/s eta 0:00:01\r\u001b[K     |█████                           | 604kB 4.9MB/s eta 0:00:01\r\u001b[K     |█████▏                          | 614kB 4.9MB/s eta 0:00:01\r\u001b[K     |█████▏                          | 624kB 4.9MB/s eta 0:00:01\r\u001b[K     |█████▎                          | 634kB 4.9MB/s eta 0:00:01\r\u001b[K     |█████▍                          | 645kB 4.9MB/s eta 0:00:01\r\u001b[K     |█████▌                          | 655kB 4.9MB/s eta 0:00:01\r\u001b[K     |█████▌                          | 665kB 4.9MB/s eta 0:00:01\r\u001b[K     |█████▋                          | 675kB 4.9MB/s eta 0:00:01\r\u001b[K     |█████▊                          | 686kB 4.9MB/s eta 0:00:01\r\u001b[K     |█████▉                          | 696kB 4.9MB/s eta 0:00:01\r\u001b[K     |█████▉                          | 706kB 4.9MB/s eta 0:00:01\r\u001b[K     |██████                          | 716kB 4.9MB/s eta 0:00:01\r\u001b[K     |██████                          | 727kB 4.9MB/s eta 0:00:01\r\u001b[K     |██████▏                         | 737kB 4.9MB/s eta 0:00:01\r\u001b[K     |██████▎                         | 747kB 4.9MB/s eta 0:00:01\r\u001b[K     |██████▎                         | 757kB 4.9MB/s eta 0:00:01\r\u001b[K     |██████▍                         | 768kB 4.9MB/s eta 0:00:01\r\u001b[K     |██████▌                         | 778kB 4.9MB/s eta 0:00:01\r\u001b[K     |██████▋                         | 788kB 4.9MB/s eta 0:00:01\r\u001b[K     |██████▋                         | 798kB 4.9MB/s eta 0:00:01\r\u001b[K     |██████▊                         | 808kB 4.9MB/s eta 0:00:01\r\u001b[K     |██████▉                         | 819kB 4.9MB/s eta 0:00:01\r\u001b[K     |███████                         | 829kB 4.9MB/s eta 0:00:01\r\u001b[K     |███████                         | 839kB 4.9MB/s eta 0:00:01\r\u001b[K     |███████                         | 849kB 4.9MB/s eta 0:00:01\r\u001b[K     |███████▏                        | 860kB 4.9MB/s eta 0:00:01\r\u001b[K     |███████▎                        | 870kB 4.9MB/s eta 0:00:01\r\u001b[K     |███████▍                        | 880kB 4.9MB/s eta 0:00:01\r\u001b[K     |███████▍                        | 890kB 4.9MB/s eta 0:00:01\r\u001b[K     |███████▌                        | 901kB 4.9MB/s eta 0:00:01\r\u001b[K     |███████▋                        | 911kB 4.9MB/s eta 0:00:01\r\u001b[K     |███████▊                        | 921kB 4.9MB/s eta 0:00:01\r\u001b[K     |███████▊                        | 931kB 4.9MB/s eta 0:00:01\r\u001b[K     |███████▉                        | 942kB 4.9MB/s eta 0:00:01\r\u001b[K     |████████                        | 952kB 4.9MB/s eta 0:00:01\r\u001b[K     |████████                        | 962kB 4.9MB/s eta 0:00:01\r\u001b[K     |████████                        | 972kB 4.9MB/s eta 0:00:01\r\u001b[K     |████████▏                       | 983kB 4.9MB/s eta 0:00:01\r\u001b[K     |████████▎                       | 993kB 4.9MB/s eta 0:00:01\r\u001b[K     |████████▍                       | 1.0MB 4.9MB/s eta 0:00:01\r\u001b[K     |████████▌                       | 1.0MB 4.9MB/s eta 0:00:01\r\u001b[K     |████████▌                       | 1.0MB 4.9MB/s eta 0:00:01\r\u001b[K     |████████▋                       | 1.0MB 4.9MB/s eta 0:00:01\r\u001b[K     |████████▊                       | 1.0MB 4.9MB/s eta 0:00:01\r\u001b[K     |████████▉                       | 1.1MB 4.9MB/s eta 0:00:01\r\u001b[K     |████████▉                       | 1.1MB 4.9MB/s eta 0:00:01\r\u001b[K     |█████████                       | 1.1MB 4.9MB/s eta 0:00:01\r\u001b[K     |█████████                       | 1.1MB 4.9MB/s eta 0:00:01\r\u001b[K     |█████████▏                      | 1.1MB 4.9MB/s eta 0:00:01\r\u001b[K     |█████████▏                      | 1.1MB 4.9MB/s eta 0:00:01\r\u001b[K     |█████████▎                      | 1.1MB 4.9MB/s eta 0:00:01\r\u001b[K     |█████████▍                      | 1.1MB 4.9MB/s eta 0:00:01\r\u001b[K     |█████████▌                      | 1.1MB 4.9MB/s eta 0:00:01\r\u001b[K     |█████████▋                      | 1.1MB 4.9MB/s eta 0:00:01\r\u001b[K     |█████████▋                      | 1.2MB 4.9MB/s eta 0:00:01\r\u001b[K     |█████████▊                      | 1.2MB 4.9MB/s eta 0:00:01\r\u001b[K     |█████████▉                      | 1.2MB 4.9MB/s eta 0:00:01\r\u001b[K     |██████████                      | 1.2MB 4.9MB/s eta 0:00:01\r\u001b[K     |██████████                      | 1.2MB 4.9MB/s eta 0:00:01\r\u001b[K     |██████████                      | 1.2MB 4.9MB/s eta 0:00:01\r\u001b[K     |██████████▏                     | 1.2MB 4.9MB/s eta 0:00:01\r\u001b[K     |██████████▎                     | 1.2MB 4.9MB/s eta 0:00:01\r\u001b[K     |██████████▎                     | 1.2MB 4.9MB/s eta 0:00:01\r\u001b[K     |██████████▍                     | 1.2MB 4.9MB/s eta 0:00:01\r\u001b[K     |██████████▌                     | 1.3MB 4.9MB/s eta 0:00:01\r\u001b[K     |██████████▋                     | 1.3MB 4.9MB/s eta 0:00:01\r\u001b[K     |██████████▋                     | 1.3MB 4.9MB/s eta 0:00:01\r\u001b[K     |██████████▊                     | 1.3MB 4.9MB/s eta 0:00:01\r\u001b[K     |██████████▉                     | 1.3MB 4.9MB/s eta 0:00:01\r\u001b[K     |███████████                     | 1.3MB 4.9MB/s eta 0:00:01\r\u001b[K     |███████████                     | 1.3MB 4.9MB/s eta 0:00:01\r\u001b[K     |███████████                     | 1.3MB 4.9MB/s eta 0:00:01\r\u001b[K     |███████████▏                    | 1.3MB 4.9MB/s eta 0:00:01\r\u001b[K     |███████████▎                    | 1.4MB 4.9MB/s eta 0:00:01\r\u001b[K     |███████████▍                    | 1.4MB 4.9MB/s eta 0:00:01\r\u001b[K     |███████████▍                    | 1.4MB 4.9MB/s eta 0:00:01\r\u001b[K     |███████████▌                    | 1.4MB 4.9MB/s eta 0:00:01\r\u001b[K     |███████████▋                    | 1.4MB 4.9MB/s eta 0:00:01\r\u001b[K     |███████████▊                    | 1.4MB 4.9MB/s eta 0:00:01\r\u001b[K     |███████████▊                    | 1.4MB 4.9MB/s eta 0:00:01\r\u001b[K     |███████████▉                    | 1.4MB 4.9MB/s eta 0:00:01\r\u001b[K     |████████████                    | 1.4MB 4.9MB/s eta 0:00:01\r\u001b[K     |████████████                    | 1.4MB 4.9MB/s eta 0:00:01\r\u001b[K     |████████████▏                   | 1.5MB 4.9MB/s eta 0:00:01\r\u001b[K     |████████████▏                   | 1.5MB 4.9MB/s eta 0:00:01\r\u001b[K     |████████████▎                   | 1.5MB 4.9MB/s eta 0:00:01\r\u001b[K     |████████████▍                   | 1.5MB 4.9MB/s eta 0:00:01\r\u001b[K     |████████████▌                   | 1.5MB 4.9MB/s eta 0:00:01\r\u001b[K     |████████████▌                   | 1.5MB 4.9MB/s eta 0:00:01\r\u001b[K     |████████████▋                   | 1.5MB 4.9MB/s eta 0:00:01\r\u001b[K     |████████████▊                   | 1.5MB 4.9MB/s eta 0:00:01\r\u001b[K     |████████████▉                   | 1.5MB 4.9MB/s eta 0:00:01\r\u001b[K     |████████████▉                   | 1.5MB 4.9MB/s eta 0:00:01\r\u001b[K     |█████████████                   | 1.6MB 4.9MB/s eta 0:00:01\r\u001b[K     |█████████████                   | 1.6MB 4.9MB/s eta 0:00:01\r\u001b[K     |█████████████▏                  | 1.6MB 4.9MB/s eta 0:00:01\r\u001b[K     |█████████████▎                  | 1.6MB 4.9MB/s eta 0:00:01\r\u001b[K     |█████████████▎                  | 1.6MB 4.9MB/s eta 0:00:01\r\u001b[K     |█████████████▍                  | 1.6MB 4.9MB/s eta 0:00:01\r\u001b[K     |█████████████▌                  | 1.6MB 4.9MB/s eta 0:00:01\r\u001b[K     |█████████████▋                  | 1.6MB 4.9MB/s eta 0:00:01\r\u001b[K     |█████████████▋                  | 1.6MB 4.9MB/s eta 0:00:01\r\u001b[K     |█████████████▊                  | 1.6MB 4.9MB/s eta 0:00:01\r\u001b[K     |█████████████▉                  | 1.7MB 4.9MB/s eta 0:00:01\r\u001b[K     |██████████████                  | 1.7MB 4.9MB/s eta 0:00:01\r\u001b[K     |██████████████                  | 1.7MB 4.9MB/s eta 0:00:01\r\u001b[K     |██████████████                  | 1.7MB 4.9MB/s eta 0:00:01\r\u001b[K     |██████████████▏                 | 1.7MB 4.9MB/s eta 0:00:01\r\u001b[K     |██████████████▎                 | 1.7MB 4.9MB/s eta 0:00:01\r\u001b[K     |██████████████▍                 | 1.7MB 4.9MB/s eta 0:00:01\r\u001b[K     |██████████████▍                 | 1.7MB 4.9MB/s eta 0:00:01\r\u001b[K     |██████████████▌                 | 1.7MB 4.9MB/s eta 0:00:01\r\u001b[K     |██████████████▋                 | 1.8MB 4.9MB/s eta 0:00:01\r\u001b[K     |██████████████▊                 | 1.8MB 4.9MB/s eta 0:00:01\r\u001b[K     |██████████████▊                 | 1.8MB 4.9MB/s eta 0:00:01\r\u001b[K     |██████████████▉                 | 1.8MB 4.9MB/s eta 0:00:01\r\u001b[K     |███████████████                 | 1.8MB 4.9MB/s eta 0:00:01\r\u001b[K     |███████████████                 | 1.8MB 4.9MB/s eta 0:00:01\r\u001b[K     |███████████████                 | 1.8MB 4.9MB/s eta 0:00:01\r\u001b[K     |███████████████▏                | 1.8MB 4.9MB/s eta 0:00:01\r\u001b[K     |███████████████▎                | 1.8MB 4.9MB/s eta 0:00:01\r\u001b[K     |███████████████▍                | 1.8MB 4.9MB/s eta 0:00:01\r\u001b[K     |███████████████▍                | 1.9MB 4.9MB/s eta 0:00:01\r\u001b[K     |███████████████▌                | 1.9MB 4.9MB/s eta 0:00:01\r\u001b[K     |███████████████▋                | 1.9MB 4.9MB/s eta 0:00:01\r\u001b[K     |███████████████▊                | 1.9MB 4.9MB/s eta 0:00:01\r\u001b[K     |███████████████▉                | 1.9MB 4.9MB/s eta 0:00:01\r\u001b[K     |███████████████▉                | 1.9MB 4.9MB/s eta 0:00:01\r\u001b[K     |████████████████                | 1.9MB 4.9MB/s eta 0:00:01\r\u001b[K     |████████████████                | 1.9MB 4.9MB/s eta 0:00:01\r\u001b[K     |████████████████▏               | 1.9MB 4.9MB/s eta 0:00:01\r\u001b[K     |████████████████▏               | 1.9MB 4.9MB/s eta 0:00:01\r\u001b[K     |████████████████▎               | 2.0MB 4.9MB/s eta 0:00:01\r\u001b[K     |████████████████▍               | 2.0MB 4.9MB/s eta 0:00:01\r\u001b[K     |████████████████▌               | 2.0MB 4.9MB/s eta 0:00:01\r\u001b[K     |████████████████▌               | 2.0MB 4.9MB/s eta 0:00:01\r\u001b[K     |████████████████▋               | 2.0MB 4.9MB/s eta 0:00:01\r\u001b[K     |████████████████▊               | 2.0MB 4.9MB/s eta 0:00:01\r\u001b[K     |████████████████▉               | 2.0MB 4.9MB/s eta 0:00:01\r\u001b[K     |█████████████████               | 2.0MB 4.9MB/s eta 0:00:01\r\u001b[K     |█████████████████               | 2.0MB 4.9MB/s eta 0:00:01\r\u001b[K     |█████████████████               | 2.0MB 4.9MB/s eta 0:00:01\r\u001b[K     |█████████████████▏              | 2.1MB 4.9MB/s eta 0:00:01\r\u001b[K     |█████████████████▎              | 2.1MB 4.9MB/s eta 0:00:01\r\u001b[K     |█████████████████▎              | 2.1MB 4.9MB/s eta 0:00:01\r\u001b[K     |█████████████████▍              | 2.1MB 4.9MB/s eta 0:00:01\r\u001b[K     |█████████████████▌              | 2.1MB 4.9MB/s eta 0:00:01\r\u001b[K     |█████████████████▋              | 2.1MB 4.9MB/s eta 0:00:01\r\u001b[K     |█████████████████▋              | 2.1MB 4.9MB/s eta 0:00:01\r\u001b[K     |█████████████████▊              | 2.1MB 4.9MB/s eta 0:00:01\r\u001b[K     |█████████████████▉              | 2.1MB 4.9MB/s eta 0:00:01\r\u001b[K     |██████████████████              | 2.2MB 4.9MB/s eta 0:00:01\r\u001b[K     |██████████████████              | 2.2MB 4.9MB/s eta 0:00:01\r\u001b[K     |██████████████████              | 2.2MB 4.9MB/s eta 0:00:01\r\u001b[K     |██████████████████▏             | 2.2MB 4.9MB/s eta 0:00:01\r\u001b[K     |██████████████████▎             | 2.2MB 4.9MB/s eta 0:00:01\r\u001b[K     |██████████████████▍             | 2.2MB 4.9MB/s eta 0:00:01\r\u001b[K     |██████████████████▍             | 2.2MB 4.9MB/s eta 0:00:01\r\u001b[K     |██████████████████▌             | 2.2MB 4.9MB/s eta 0:00:01\r\u001b[K     |██████████████████▋             | 2.2MB 4.9MB/s eta 0:00:01\r\u001b[K     |██████████████████▊             | 2.2MB 4.9MB/s eta 0:00:01\r\u001b[K     |██████████████████▊             | 2.3MB 4.9MB/s eta 0:00:01\r\u001b[K     |██████████████████▉             | 2.3MB 4.9MB/s eta 0:00:01\r\u001b[K     |███████████████████             | 2.3MB 4.9MB/s eta 0:00:01\r\u001b[K     |███████████████████             | 2.3MB 4.9MB/s eta 0:00:01\r\u001b[K     |███████████████████▏            | 2.3MB 4.9MB/s eta 0:00:01\r\u001b[K     |███████████████████▏            | 2.3MB 4.9MB/s eta 0:00:01\r\u001b[K     |███████████████████▎            | 2.3MB 4.9MB/s eta 0:00:01\r\u001b[K     |███████████████████▍            | 2.3MB 4.9MB/s eta 0:00:01\r\u001b[K     |███████████████████▌            | 2.3MB 4.9MB/s eta 0:00:01\r\u001b[K     |███████████████████▌            | 2.3MB 4.9MB/s eta 0:00:01\r\u001b[K     |███████████████████▋            | 2.4MB 4.9MB/s eta 0:00:01\r\u001b[K     |███████████████████▊            | 2.4MB 4.9MB/s eta 0:00:01\r\u001b[K     |███████████████████▉            | 2.4MB 4.9MB/s eta 0:00:01\r\u001b[K     |███████████████████▉            | 2.4MB 4.9MB/s eta 0:00:01\r\u001b[K     |████████████████████            | 2.4MB 4.9MB/s eta 0:00:01\r\u001b[K     |████████████████████            | 2.4MB 4.9MB/s eta 0:00:01\r\u001b[K     |████████████████████▏           | 2.4MB 4.9MB/s eta 0:00:01\r\u001b[K     |████████████████████▏           | 2.4MB 4.9MB/s eta 0:00:01\r\u001b[K     |████████████████████▎           | 2.4MB 4.9MB/s eta 0:00:01\r\u001b[K     |████████████████████▍           | 2.4MB 4.9MB/s eta 0:00:01\r\u001b[K     |████████████████████▌           | 2.5MB 4.9MB/s eta 0:00:01\r\u001b[K     |████████████████████▋           | 2.5MB 4.9MB/s eta 0:00:01\r\u001b[K     |████████████████████▋           | 2.5MB 4.9MB/s eta 0:00:01\r\u001b[K     |████████████████████▊           | 2.5MB 4.9MB/s eta 0:00:01\r\u001b[K     |████████████████████▉           | 2.5MB 4.9MB/s eta 0:00:01\r\u001b[K     |█████████████████████           | 2.5MB 4.9MB/s eta 0:00:01\r\u001b[K     |█████████████████████           | 2.5MB 4.9MB/s eta 0:00:01\r\u001b[K     |█████████████████████           | 2.5MB 4.9MB/s eta 0:00:01\r\u001b[K     |█████████████████████▏          | 2.5MB 4.9MB/s eta 0:00:01\r\u001b[K     |█████████████████████▎          | 2.5MB 4.9MB/s eta 0:00:01\r\u001b[K     |█████████████████████▎          | 2.6MB 4.9MB/s eta 0:00:01\r\u001b[K     |█████████████████████▍          | 2.6MB 4.9MB/s eta 0:00:01\r\u001b[K     |█████████████████████▌          | 2.6MB 4.9MB/s eta 0:00:01\r\u001b[K     |█████████████████████▋          | 2.6MB 4.9MB/s eta 0:00:01\r\u001b[K     |█████████████████████▊          | 2.6MB 4.9MB/s eta 0:00:01\r\u001b[K     |█████████████████████▊          | 2.6MB 4.9MB/s eta 0:00:01\r\u001b[K     |█████████████████████▉          | 2.6MB 4.9MB/s eta 0:00:01\r\u001b[K     |██████████████████████          | 2.6MB 4.9MB/s eta 0:00:01\r\u001b[K     |██████████████████████          | 2.6MB 4.9MB/s eta 0:00:01\r\u001b[K     |██████████████████████          | 2.7MB 4.9MB/s eta 0:00:01\r\u001b[K     |██████████████████████▏         | 2.7MB 4.9MB/s eta 0:00:01\r\u001b[K     |██████████████████████▎         | 2.7MB 4.9MB/s eta 0:00:01\r\u001b[K     |██████████████████████▍         | 2.7MB 4.9MB/s eta 0:00:01\r\u001b[K     |██████████████████████▍         | 2.7MB 4.9MB/s eta 0:00:01\r\u001b[K     |██████████████████████▌         | 2.7MB 4.9MB/s eta 0:00:01\r\u001b[K     |██████████████████████▋         | 2.7MB 4.9MB/s eta 0:00:01\r\u001b[K     |██████████████████████▊         | 2.7MB 4.9MB/s eta 0:00:01\r\u001b[K     |██████████████████████▉         | 2.7MB 4.9MB/s eta 0:00:01\r\u001b[K     |██████████████████████▉         | 2.7MB 4.9MB/s eta 0:00:01\r\u001b[K     |███████████████████████         | 2.8MB 4.9MB/s eta 0:00:01\r\u001b[K     |███████████████████████         | 2.8MB 4.9MB/s eta 0:00:01\r\u001b[K     |███████████████████████▏        | 2.8MB 4.9MB/s eta 0:00:01\r\u001b[K     |███████████████████████▏        | 2.8MB 4.9MB/s eta 0:00:01\r\u001b[K     |███████████████████████▎        | 2.8MB 4.9MB/s eta 0:00:01\r\u001b[K     |███████████████████████▍        | 2.8MB 4.9MB/s eta 0:00:01\r\u001b[K     |███████████████████████▌        | 2.8MB 4.9MB/s eta 0:00:01\r\u001b[K     |███████████████████████▌        | 2.8MB 4.9MB/s eta 0:00:01\r\u001b[K     |███████████████████████▋        | 2.8MB 4.9MB/s eta 0:00:01\r\u001b[K     |███████████████████████▊        | 2.8MB 4.9MB/s eta 0:00:01\r\u001b[K     |███████████████████████▉        | 2.9MB 4.9MB/s eta 0:00:01\r\u001b[K     |████████████████████████        | 2.9MB 4.9MB/s eta 0:00:01\r\u001b[K     |████████████████████████        | 2.9MB 4.9MB/s eta 0:00:01\r\u001b[K     |████████████████████████        | 2.9MB 4.9MB/s eta 0:00:01\r\u001b[K     |████████████████████████▏       | 2.9MB 4.9MB/s eta 0:00:01\r\u001b[K     |████████████████████████▎       | 2.9MB 4.9MB/s eta 0:00:01\r\u001b[K     |████████████████████████▎       | 2.9MB 4.9MB/s eta 0:00:01\r\u001b[K     |████████████████████████▍       | 2.9MB 4.9MB/s eta 0:00:01\r\u001b[K     |████████████████████████▌       | 2.9MB 4.9MB/s eta 0:00:01\r\u001b[K     |████████████████████████▋       | 2.9MB 4.9MB/s eta 0:00:01\r\u001b[K     |████████████████████████▋       | 3.0MB 4.9MB/s eta 0:00:01\r\u001b[K     |████████████████████████▊       | 3.0MB 4.9MB/s eta 0:00:01\r\u001b[K     |████████████████████████▉       | 3.0MB 4.9MB/s eta 0:00:01\r\u001b[K     |█████████████████████████       | 3.0MB 4.9MB/s eta 0:00:01\r\u001b[K     |█████████████████████████       | 3.0MB 4.9MB/s eta 0:00:01\r\u001b[K     |█████████████████████████       | 3.0MB 4.9MB/s eta 0:00:01\r\u001b[K     |█████████████████████████▏      | 3.0MB 4.9MB/s eta 0:00:01\r\u001b[K     |█████████████████████████▎      | 3.0MB 4.9MB/s eta 0:00:01\r\u001b[K     |█████████████████████████▍      | 3.0MB 4.9MB/s eta 0:00:01\r\u001b[K     |█████████████████████████▍      | 3.1MB 4.9MB/s eta 0:00:01\r\u001b[K     |█████████████████████████▌      | 3.1MB 4.9MB/s eta 0:00:01\r\u001b[K     |█████████████████████████▋      | 3.1MB 4.9MB/s eta 0:00:01\r\u001b[K     |█████████████████████████▊      | 3.1MB 4.9MB/s eta 0:00:01\r\u001b[K     |█████████████████████████▊      | 3.1MB 4.9MB/s eta 0:00:01\r\u001b[K     |█████████████████████████▉      | 3.1MB 4.9MB/s eta 0:00:01\r\u001b[K     |██████████████████████████      | 3.1MB 4.9MB/s eta 0:00:01\r\u001b[K     |██████████████████████████      | 3.1MB 4.9MB/s eta 0:00:01\r\u001b[K     |██████████████████████████      | 3.1MB 4.9MB/s eta 0:00:01\r\u001b[K     |██████████████████████████▏     | 3.1MB 4.9MB/s eta 0:00:01\r\u001b[K     |██████████████████████████▎     | 3.2MB 4.9MB/s eta 0:00:01\r\u001b[K     |██████████████████████████▍     | 3.2MB 4.9MB/s eta 0:00:01\r\u001b[K     |██████████████████████████▌     | 3.2MB 4.9MB/s eta 0:00:01\r\u001b[K     |██████████████████████████▌     | 3.2MB 4.9MB/s eta 0:00:01\r\u001b[K     |██████████████████████████▋     | 3.2MB 4.9MB/s eta 0:00:01\r\u001b[K     |██████████████████████████▊     | 3.2MB 4.9MB/s eta 0:00:01\r\u001b[K     |██████████████████████████▉     | 3.2MB 4.9MB/s eta 0:00:01\r\u001b[K     |██████████████████████████▉     | 3.2MB 4.9MB/s eta 0:00:01\r\u001b[K     |███████████████████████████     | 3.2MB 4.9MB/s eta 0:00:01\r\u001b[K     |███████████████████████████     | 3.2MB 4.9MB/s eta 0:00:01\r\u001b[K     |███████████████████████████▏    | 3.3MB 4.9MB/s eta 0:00:01\r\u001b[K     |███████████████████████████▏    | 3.3MB 4.9MB/s eta 0:00:01\r\u001b[K     |███████████████████████████▎    | 3.3MB 4.9MB/s eta 0:00:01\r\u001b[K     |███████████████████████████▍    | 3.3MB 4.9MB/s eta 0:00:01\r\u001b[K     |███████████████████████████▌    | 3.3MB 4.9MB/s eta 0:00:01\r\u001b[K     |███████████████████████████▋    | 3.3MB 4.9MB/s eta 0:00:01\r\u001b[K     |███████████████████████████▋    | 3.3MB 4.9MB/s eta 0:00:01\r\u001b[K     |███████████████████████████▊    | 3.3MB 4.9MB/s eta 0:00:01\r\u001b[K     |███████████████████████████▉    | 3.3MB 4.9MB/s eta 0:00:01\r\u001b[K     |████████████████████████████    | 3.3MB 4.9MB/s eta 0:00:01\r\u001b[K     |████████████████████████████    | 3.4MB 4.9MB/s eta 0:00:01\r\u001b[K     |████████████████████████████    | 3.4MB 4.9MB/s eta 0:00:01\r\u001b[K     |████████████████████████████▏   | 3.4MB 4.9MB/s eta 0:00:01\r\u001b[K     |████████████████████████████▎   | 3.4MB 4.9MB/s eta 0:00:01\r\u001b[K     |████████████████████████████▎   | 3.4MB 4.9MB/s eta 0:00:01\r\u001b[K     |████████████████████████████▍   | 3.4MB 4.9MB/s eta 0:00:01\r\u001b[K     |████████████████████████████▌   | 3.4MB 4.9MB/s eta 0:00:01\r\u001b[K     |████████████████████████████▋   | 3.4MB 4.9MB/s eta 0:00:01\r\u001b[K     |████████████████████████████▊   | 3.4MB 4.9MB/s eta 0:00:01\r\u001b[K     |████████████████████████████▊   | 3.5MB 4.9MB/s eta 0:00:01\r\u001b[K     |████████████████████████████▉   | 3.5MB 4.9MB/s eta 0:00:01\r\u001b[K     |█████████████████████████████   | 3.5MB 4.9MB/s eta 0:00:01\r\u001b[K     |█████████████████████████████   | 3.5MB 4.9MB/s eta 0:00:01\r\u001b[K     |█████████████████████████████   | 3.5MB 4.9MB/s eta 0:00:01\r\u001b[K     |█████████████████████████████▏  | 3.5MB 4.9MB/s eta 0:00:01\r\u001b[K     |█████████████████████████████▎  | 3.5MB 4.9MB/s eta 0:00:01\r\u001b[K     |█████████████████████████████▍  | 3.5MB 4.9MB/s eta 0:00:01\r\u001b[K     |█████████████████████████████▍  | 3.5MB 4.9MB/s eta 0:00:01\r\u001b[K     |█████████████████████████████▌  | 3.5MB 4.9MB/s eta 0:00:01\r\u001b[K     |█████████████████████████████▋  | 3.6MB 4.9MB/s eta 0:00:01\r\u001b[K     |█████████████████████████████▊  | 3.6MB 4.9MB/s eta 0:00:01\r\u001b[K     |█████████████████████████████▊  | 3.6MB 4.9MB/s eta 0:00:01\r\u001b[K     |█████████████████████████████▉  | 3.6MB 4.9MB/s eta 0:00:01\r\u001b[K     |██████████████████████████████  | 3.6MB 4.9MB/s eta 0:00:01\r\u001b[K     |██████████████████████████████  | 3.6MB 4.9MB/s eta 0:00:01\r\u001b[K     |██████████████████████████████▏ | 3.6MB 4.9MB/s eta 0:00:01\r\u001b[K     |██████████████████████████████▏ | 3.6MB 4.9MB/s eta 0:00:01\r\u001b[K     |██████████████████████████████▎ | 3.6MB 4.9MB/s eta 0:00:01\r\u001b[K     |██████████████████████████████▍ | 3.6MB 4.9MB/s eta 0:00:01\r\u001b[K     |██████████████████████████████▌ | 3.7MB 4.9MB/s eta 0:00:01\r\u001b[K     |██████████████████████████████▌ | 3.7MB 4.9MB/s eta 0:00:01\r\u001b[K     |██████████████████████████████▋ | 3.7MB 4.9MB/s eta 0:00:01\r\u001b[K     |██████████████████████████████▊ | 3.7MB 4.9MB/s eta 0:00:01\r\u001b[K     |██████████████████████████████▉ | 3.7MB 4.9MB/s eta 0:00:01\r\u001b[K     |██████████████████████████████▉ | 3.7MB 4.9MB/s eta 0:00:01\r\u001b[K     |███████████████████████████████ | 3.7MB 4.9MB/s eta 0:00:01\r\u001b[K     |███████████████████████████████ | 3.7MB 4.9MB/s eta 0:00:01\r\u001b[K     |███████████████████████████████▏| 3.7MB 4.9MB/s eta 0:00:01\r\u001b[K     |███████████████████████████████▎| 3.7MB 4.9MB/s eta 0:00:01\r\u001b[K     |███████████████████████████████▎| 3.8MB 4.9MB/s eta 0:00:01\r\u001b[K     |███████████████████████████████▍| 3.8MB 4.9MB/s eta 0:00:01\r\u001b[K     |███████████████████████████████▌| 3.8MB 4.9MB/s eta 0:00:01\r\u001b[K     |███████████████████████████████▋| 3.8MB 4.9MB/s eta 0:00:01\r\u001b[K     |███████████████████████████████▋| 3.8MB 4.9MB/s eta 0:00:01\r\u001b[K     |███████████████████████████████▊| 3.8MB 4.9MB/s eta 0:00:01\r\u001b[K     |███████████████████████████████▉| 3.8MB 4.9MB/s eta 0:00:01\r\u001b[K     |████████████████████████████████| 3.8MB 4.9MB/s eta 0:00:01\r\u001b[K     |████████████████████████████████| 3.8MB 4.9MB/s eta 0:00:01\r\u001b[K     |████████████████████████████████| 3.9MB 4.9MB/s \n",
            "\u001b[?25hRequirement already satisfied: setuptools>=41.0.0 in /usr/local/lib/python3.6/dist-packages (from causalml) (49.1.0)\n",
            "Requirement already satisfied: pip>=10.0 in /usr/local/lib/python3.6/dist-packages (from causalml) (19.3.1)\n",
            "Requirement already satisfied: numpy>=0.16.0 in /usr/local/lib/python3.6/dist-packages (from causalml) (1.18.5)\n",
            "Requirement already satisfied: scipy==1.4.1 in /usr/local/lib/python3.6/dist-packages (from causalml) (1.4.1)\n",
            "Requirement already satisfied: matplotlib in /usr/local/lib/python3.6/dist-packages (from causalml) (3.2.2)\n",
            "Requirement already satisfied: pandas>=0.24.1 in /usr/local/lib/python3.6/dist-packages (from causalml) (1.0.5)\n",
            "Requirement already satisfied: scikit-learn>=0.22.0 in /usr/local/lib/python3.6/dist-packages (from causalml) (0.22.2.post1)\n",
            "Requirement already satisfied: statsmodels>=0.9.0 in /usr/local/lib/python3.6/dist-packages (from causalml) (0.10.2)\n",
            "Requirement already satisfied: seaborn in /usr/local/lib/python3.6/dist-packages (from causalml) (0.10.1)\n",
            "Requirement already satisfied: Cython>=0.28.0 in /usr/local/lib/python3.6/dist-packages (from causalml) (0.29.21)\n",
            "Requirement already satisfied: xgboost in /usr/local/lib/python3.6/dist-packages (from causalml) (0.90)\n",
            "Requirement already satisfied: pydotplus in /usr/local/lib/python3.6/dist-packages (from causalml) (2.0.2)\n",
            "Requirement already satisfied: tqdm in /usr/local/lib/python3.6/dist-packages (from causalml) (4.41.1)\n",
            "Collecting shap\n",
            "\u001b[?25l  Downloading https://files.pythonhosted.org/packages/a8/77/b504e43e21a2ba543a1ac4696718beb500cfa708af2fb57cb54ce299045c/shap-0.35.0.tar.gz (273kB)\n",
            "\u001b[K     |████████████████████████████████| 276kB 37.4MB/s \n",
            "\u001b[?25hRequirement already satisfied: dill in /usr/local/lib/python3.6/dist-packages (from causalml) (0.3.2)\n",
            "Requirement already satisfied: lightgbm in /usr/local/lib/python3.6/dist-packages (from causalml) (2.2.3)\n",
            "Collecting pygam\n",
            "\u001b[?25l  Downloading https://files.pythonhosted.org/packages/13/be/775033ef08a8945bec6ad7973b161ca909f852442e0d7cfb8d1a214de1ac/pygam-0.8.0-py2.py3-none-any.whl (1.8MB)\n",
            "\u001b[K     |████████████████████████████████| 1.8MB 39.6MB/s \n",
            "\u001b[?25hRequirement already satisfied: packaging in /usr/local/lib/python3.6/dist-packages (from causalml) (20.4)\n",
            "Requirement already satisfied: keras in /usr/local/lib/python3.6/dist-packages (from causalml) (2.3.1)\n",
            "Requirement already satisfied: tensorflow>=1.15.2 in /usr/local/lib/python3.6/dist-packages (from causalml) (2.2.0)\n",
            "Requirement already satisfied: kiwisolver>=1.0.1 in /usr/local/lib/python3.6/dist-packages (from matplotlib->causalml) (1.2.0)\n",
            "Requirement already satisfied: pyparsing!=2.0.4,!=2.1.2,!=2.1.6,>=2.0.1 in /usr/local/lib/python3.6/dist-packages (from matplotlib->causalml) (2.4.7)\n",
            "Requirement already satisfied: cycler>=0.10 in /usr/local/lib/python3.6/dist-packages (from matplotlib->causalml) (0.10.0)\n",
            "Requirement already satisfied: python-dateutil>=2.1 in /usr/local/lib/python3.6/dist-packages (from matplotlib->causalml) (2.8.1)\n",
            "Requirement already satisfied: pytz>=2017.2 in /usr/local/lib/python3.6/dist-packages (from pandas>=0.24.1->causalml) (2018.9)\n",
            "Requirement already satisfied: joblib>=0.11 in /usr/local/lib/python3.6/dist-packages (from scikit-learn>=0.22.0->causalml) (0.16.0)\n",
            "Requirement already satisfied: patsy>=0.4.0 in /usr/local/lib/python3.6/dist-packages (from statsmodels>=0.9.0->causalml) (0.5.1)\n",
            "Requirement already satisfied: progressbar2 in /usr/local/lib/python3.6/dist-packages (from pygam->causalml) (3.38.0)\n",
            "Requirement already satisfied: future in /usr/local/lib/python3.6/dist-packages (from pygam->causalml) (0.16.0)\n",
            "Requirement already satisfied: six in /usr/local/lib/python3.6/dist-packages (from packaging->causalml) (1.15.0)\n",
            "Requirement already satisfied: h5py in /usr/local/lib/python3.6/dist-packages (from keras->causalml) (2.10.0)\n",
            "Requirement already satisfied: keras-applications>=1.0.6 in /usr/local/lib/python3.6/dist-packages (from keras->causalml) (1.0.8)\n",
            "Requirement already satisfied: keras-preprocessing>=1.0.5 in /usr/local/lib/python3.6/dist-packages (from keras->causalml) (1.1.2)\n",
            "Requirement already satisfied: pyyaml in /usr/local/lib/python3.6/dist-packages (from keras->causalml) (3.13)\n",
            "Requirement already satisfied: astunparse==1.6.3 in /usr/local/lib/python3.6/dist-packages (from tensorflow>=1.15.2->causalml) (1.6.3)\n",
            "Requirement already satisfied: opt-einsum>=2.3.2 in /usr/local/lib/python3.6/dist-packages (from tensorflow>=1.15.2->causalml) (3.2.1)\n",
            "Requirement already satisfied: grpcio>=1.8.6 in /usr/local/lib/python3.6/dist-packages (from tensorflow>=1.15.2->causalml) (1.30.0)\n",
            "Requirement already satisfied: wrapt>=1.11.1 in /usr/local/lib/python3.6/dist-packages (from tensorflow>=1.15.2->causalml) (1.12.1)\n",
            "Requirement already satisfied: absl-py>=0.7.0 in /usr/local/lib/python3.6/dist-packages (from tensorflow>=1.15.2->causalml) (0.9.0)\n",
            "Requirement already satisfied: protobuf>=3.8.0 in /usr/local/lib/python3.6/dist-packages (from tensorflow>=1.15.2->causalml) (3.12.2)\n",
            "Requirement already satisfied: wheel>=0.26; python_version >= \"3\" in /usr/local/lib/python3.6/dist-packages (from tensorflow>=1.15.2->causalml) (0.34.2)\n",
            "Requirement already satisfied: termcolor>=1.1.0 in /usr/local/lib/python3.6/dist-packages (from tensorflow>=1.15.2->causalml) (1.1.0)\n",
            "Requirement already satisfied: tensorboard<2.3.0,>=2.2.0 in /usr/local/lib/python3.6/dist-packages (from tensorflow>=1.15.2->causalml) (2.2.2)\n",
            "Requirement already satisfied: google-pasta>=0.1.8 in /usr/local/lib/python3.6/dist-packages (from tensorflow>=1.15.2->causalml) (0.2.0)\n",
            "Requirement already satisfied: gast==0.3.3 in /usr/local/lib/python3.6/dist-packages (from tensorflow>=1.15.2->causalml) (0.3.3)\n",
            "Requirement already satisfied: tensorflow-estimator<2.3.0,>=2.2.0 in /usr/local/lib/python3.6/dist-packages (from tensorflow>=1.15.2->causalml) (2.2.0)\n",
            "Requirement already satisfied: python-utils>=2.3.0 in /usr/local/lib/python3.6/dist-packages (from progressbar2->pygam->causalml) (2.4.0)\n",
            "Requirement already satisfied: requests<3,>=2.21.0 in /usr/local/lib/python3.6/dist-packages (from tensorboard<2.3.0,>=2.2.0->tensorflow>=1.15.2->causalml) (2.23.0)\n",
            "Requirement already satisfied: werkzeug>=0.11.15 in /usr/local/lib/python3.6/dist-packages (from tensorboard<2.3.0,>=2.2.0->tensorflow>=1.15.2->causalml) (1.0.1)\n",
            "Requirement already satisfied: google-auth-oauthlib<0.5,>=0.4.1 in /usr/local/lib/python3.6/dist-packages (from tensorboard<2.3.0,>=2.2.0->tensorflow>=1.15.2->causalml) (0.4.1)\n",
            "Requirement already satisfied: google-auth<2,>=1.6.3 in /usr/local/lib/python3.6/dist-packages (from tensorboard<2.3.0,>=2.2.0->tensorflow>=1.15.2->causalml) (1.17.2)\n",
            "Requirement already satisfied: markdown>=2.6.8 in /usr/local/lib/python3.6/dist-packages (from tensorboard<2.3.0,>=2.2.0->tensorflow>=1.15.2->causalml) (3.2.2)\n",
            "Requirement already satisfied: tensorboard-plugin-wit>=1.6.0 in /usr/local/lib/python3.6/dist-packages (from tensorboard<2.3.0,>=2.2.0->tensorflow>=1.15.2->causalml) (1.7.0)\n",
            "Requirement already satisfied: idna<3,>=2.5 in /usr/local/lib/python3.6/dist-packages (from requests<3,>=2.21.0->tensorboard<2.3.0,>=2.2.0->tensorflow>=1.15.2->causalml) (2.10)\n",
            "Requirement already satisfied: urllib3!=1.25.0,!=1.25.1,<1.26,>=1.21.1 in /usr/local/lib/python3.6/dist-packages (from requests<3,>=2.21.0->tensorboard<2.3.0,>=2.2.0->tensorflow>=1.15.2->causalml) (1.24.3)\n",
            "Requirement already satisfied: chardet<4,>=3.0.2 in /usr/local/lib/python3.6/dist-packages (from requests<3,>=2.21.0->tensorboard<2.3.0,>=2.2.0->tensorflow>=1.15.2->causalml) (3.0.4)\n",
            "Requirement already satisfied: certifi>=2017.4.17 in /usr/local/lib/python3.6/dist-packages (from requests<3,>=2.21.0->tensorboard<2.3.0,>=2.2.0->tensorflow>=1.15.2->causalml) (2020.6.20)\n",
            "Requirement already satisfied: requests-oauthlib>=0.7.0 in /usr/local/lib/python3.6/dist-packages (from google-auth-oauthlib<0.5,>=0.4.1->tensorboard<2.3.0,>=2.2.0->tensorflow>=1.15.2->causalml) (1.3.0)\n",
            "Requirement already satisfied: rsa<5,>=3.1.4; python_version >= \"3\" in /usr/local/lib/python3.6/dist-packages (from google-auth<2,>=1.6.3->tensorboard<2.3.0,>=2.2.0->tensorflow>=1.15.2->causalml) (4.6)\n",
            "Requirement already satisfied: pyasn1-modules>=0.2.1 in /usr/local/lib/python3.6/dist-packages (from google-auth<2,>=1.6.3->tensorboard<2.3.0,>=2.2.0->tensorflow>=1.15.2->causalml) (0.2.8)\n",
            "Requirement already satisfied: cachetools<5.0,>=2.0.0 in /usr/local/lib/python3.6/dist-packages (from google-auth<2,>=1.6.3->tensorboard<2.3.0,>=2.2.0->tensorflow>=1.15.2->causalml) (4.1.1)\n",
            "Requirement already satisfied: importlib-metadata; python_version < \"3.8\" in /usr/local/lib/python3.6/dist-packages (from markdown>=2.6.8->tensorboard<2.3.0,>=2.2.0->tensorflow>=1.15.2->causalml) (1.7.0)\n",
            "Requirement already satisfied: oauthlib>=3.0.0 in /usr/local/lib/python3.6/dist-packages (from requests-oauthlib>=0.7.0->google-auth-oauthlib<0.5,>=0.4.1->tensorboard<2.3.0,>=2.2.0->tensorflow>=1.15.2->causalml) (3.1.0)\n",
            "Requirement already satisfied: pyasn1>=0.1.3 in /usr/local/lib/python3.6/dist-packages (from rsa<5,>=3.1.4; python_version >= \"3\"->google-auth<2,>=1.6.3->tensorboard<2.3.0,>=2.2.0->tensorflow>=1.15.2->causalml) (0.4.8)\n",
            "Requirement already satisfied: zipp>=0.5 in /usr/local/lib/python3.6/dist-packages (from importlib-metadata; python_version < \"3.8\"->markdown>=2.6.8->tensorboard<2.3.0,>=2.2.0->tensorflow>=1.15.2->causalml) (3.1.0)\n",
            "Building wheels for collected packages: causalml, shap\n",
            "  Building wheel for causalml (setup.py) ... \u001b[?25l\u001b[?25hdone\n",
            "  Created wheel for causalml: filename=causalml-0.8.0-cp36-cp36m-linux_x86_64.whl size=482039 sha256=d3fba7e882b358aa3aca9a2695a3564d3e92136da4cafb97dea6fd1c24844fcf\n",
            "  Stored in directory: /root/.cache/pip/wheels/db/d8/1f/c5c57e0a0a1e2d597da3b4b73f26a0365874e363bb1b57db41\n",
            "  Building wheel for shap (setup.py) ... \u001b[?25l\u001b[?25hdone\n",
            "  Created wheel for shap: filename=shap-0.35.0-cp36-cp36m-linux_x86_64.whl size=394114 sha256=517324d3770ef8b7147f9f015abd27ab429f3ea17bd6a7e93a7e084eaea37949\n",
            "  Stored in directory: /root/.cache/pip/wheels/e7/f7/0f/b57055080cf8894906b3bd3616d2fc2bfd0b12d5161bcb24ac\n",
            "Successfully built causalml shap\n",
            "Installing collected packages: shap, pygam, causalml\n",
            "Successfully installed causalml-0.8.0 pygam-0.8.0 shap-0.35.0\n"
          ],
          "name": "stdout"
        }
      ]
    },
    {
      "cell_type": "code",
      "metadata": {
        "id": "y_f2q5jHhOt2",
        "colab_type": "code",
        "colab": {
          "base_uri": "https://localhost:8080/",
          "height": 145
        },
        "outputId": "2f2b2039-4ddd-4a78-c70d-4014ab68c0a8"
      },
      "source": [
        "from google.colab import drive\n",
        "drive.mount('/gdrive')\n",
        "%cd /gdrive"
      ],
      "execution_count": 2,
      "outputs": [
        {
          "output_type": "stream",
          "text": [
            "Go to this URL in a browser: https://accounts.google.com/o/oauth2/auth?client_id=947318989803-6bn6qk8qdgf4n4g3pfee6491hc0brc4i.apps.googleusercontent.com&redirect_uri=urn%3aietf%3awg%3aoauth%3a2.0%3aoob&response_type=code&scope=email%20https%3a%2f%2fwww.googleapis.com%2fauth%2fdocs.test%20https%3a%2f%2fwww.googleapis.com%2fauth%2fdrive%20https%3a%2f%2fwww.googleapis.com%2fauth%2fdrive.photos.readonly%20https%3a%2f%2fwww.googleapis.com%2fauth%2fpeopleapi.readonly\n",
            "\n",
            "Enter your authorization code:\n",
            "··········\n",
            "Mounted at /gdrive\n",
            "/gdrive\n"
          ],
          "name": "stdout"
        }
      ]
    },
    {
      "cell_type": "code",
      "metadata": {
        "id": "KmwguKuShibC",
        "colab_type": "code",
        "colab": {
          "base_uri": "https://localhost:8080/",
          "height": 53
        },
        "outputId": "1276ceeb-06d8-4704-eaed-790396a5ad56"
      },
      "source": [
        "%cd /gdrive/My Drive/機械学習練習/統計的因果推論/因果推論実践用/jobs_causality\n",
        "%ls"
      ],
      "execution_count": 3,
      "outputs": [
        {
          "output_type": "stream",
          "text": [
            "/gdrive/My Drive/機械学習練習/統計的因果推論/因果推論実践用/jobs_causality\n",
            "\u001b[0m\u001b[01;34mdataset\u001b[0m/  jobs_causalml_xlearner.ipynb\n"
          ],
          "name": "stdout"
        }
      ]
    },
    {
      "cell_type": "markdown",
      "metadata": {
        "id": "xgaH0ChhhuPo",
        "colab_type": "text"
      },
      "source": [
        "# 職業訓練データセットでCausalmlの練習"
      ]
    },
    {
      "cell_type": "code",
      "metadata": {
        "id": "fTqNaNDFhNhV",
        "colab_type": "code",
        "colab": {}
      },
      "source": [
        "import os\n",
        "\n",
        "import numpy as np\n",
        "import pandas as pd\n",
        "\n",
        "from causalml.inference.meta import BaseXRegressor\n",
        "from causalml.metrics import get_tmlegain, plot_tmlegain, plot_tmleqini, Sensitivity\n",
        "from sklearn.model_selection import train_test_split\n",
        "from xgboost import XGBRegressor, XGBClassifier"
      ],
      "execution_count": 95,
      "outputs": []
    },
    {
      "cell_type": "markdown",
      "metadata": {
        "id": "xhdfHJivh8_S",
        "colab_type": "text"
      },
      "source": [
        "## 職業訓練データセット読み込み\n",
        "**職業訓練を受けた人は、収入がどのくらい増加/減少するのか因果分析**<br>\n",
        "職業訓練データセットの詳細について：[https://users.nber.org/~rdehejia/data/.nswdata2.html](https://users.nber.org/~rdehejia/data/.nswdata2.html)"
      ]
    },
    {
      "cell_type": "markdown",
      "metadata": {
        "id": "8UspiAXKg7Cr",
        "colab_type": "text"
      },
      "source": [
        "Dataset description\n",
        "* treat: 1 if the subject participated in the job  training program, 0 otherwise\n",
        "* age: the subject's age\n",
        "* educ: years of education\n",
        "* race: categorical variable with three possible values: Black, Hispanic, or White\n",
        "* married: 1 if the subject was married at the time of the training program, 0 otherwise\n",
        "* nodegree: 1 if the subject has earned no school degree, 0 otherwise\n",
        "* re74: real earnings in 1974 (pre-treatment)\n",
        "* re75: real earnings in 1975 (pre-treatment)\n",
        "* re78: real earnings in 1978 (outcome)"
      ]
    },
    {
      "cell_type": "code",
      "metadata": {
        "id": "FksomhiZh_P1",
        "colab_type": "code",
        "colab": {
          "base_uri": "https://localhost:8080/",
          "height": 256
        },
        "outputId": "9822cff3-b6bb-45b2-b37c-e018c6e2a2a7"
      },
      "source": [
        "stan_path='dataset/nsw.dta' # Lalonde Sample \n",
        "#stan_path='dataset/nsw_dw.dta' # Dehejia-Wahha Sample\n",
        "df = pd.read_stata(stan_path)\n",
        "\n",
        "OUTCOME_COLUMN = 're78'\n",
        "TREATMENT_COLUMN = 'treat'\n",
        "UNNECESSARY_COLUMNS = ['data_id']\n",
        "FEATURE_COLUMNS = list(df.drop(columns=[OUTCOME_COLUMN, TREATMENT_COLUMN]+UNNECESSARY_COLUMNS).columns)\n",
        "\n",
        "print('outcome:{col}'.format(col=OUTCOME_COLUMN))\n",
        "print('treatment:{col}'.format(col=TREATMENT_COLUMN))\n",
        "print('features:{cols}'.format(cols=FEATURE_COLUMNS))\n",
        "\n",
        "df['treat'] = df['treat'].astype(int)\n",
        "df.head()"
      ],
      "execution_count": 96,
      "outputs": [
        {
          "output_type": "stream",
          "text": [
            "outcome:re78\n",
            "treatment:treat\n",
            "features:['age', 'education', 'black', 'hispanic', 'married', 'nodegree', 're75']\n"
          ],
          "name": "stdout"
        },
        {
          "output_type": "execute_result",
          "data": {
            "text/html": [
              "<div>\n",
              "<style scoped>\n",
              "    .dataframe tbody tr th:only-of-type {\n",
              "        vertical-align: middle;\n",
              "    }\n",
              "\n",
              "    .dataframe tbody tr th {\n",
              "        vertical-align: top;\n",
              "    }\n",
              "\n",
              "    .dataframe thead th {\n",
              "        text-align: right;\n",
              "    }\n",
              "</style>\n",
              "<table border=\"1\" class=\"dataframe\">\n",
              "  <thead>\n",
              "    <tr style=\"text-align: right;\">\n",
              "      <th></th>\n",
              "      <th>data_id</th>\n",
              "      <th>treat</th>\n",
              "      <th>age</th>\n",
              "      <th>education</th>\n",
              "      <th>black</th>\n",
              "      <th>hispanic</th>\n",
              "      <th>married</th>\n",
              "      <th>nodegree</th>\n",
              "      <th>re75</th>\n",
              "      <th>re78</th>\n",
              "    </tr>\n",
              "  </thead>\n",
              "  <tbody>\n",
              "    <tr>\n",
              "      <th>0</th>\n",
              "      <td>Lalonde Sample</td>\n",
              "      <td>1</td>\n",
              "      <td>37</td>\n",
              "      <td>11</td>\n",
              "      <td>1</td>\n",
              "      <td>0</td>\n",
              "      <td>1</td>\n",
              "      <td>1</td>\n",
              "      <td>0.0</td>\n",
              "      <td>9930.045898</td>\n",
              "    </tr>\n",
              "    <tr>\n",
              "      <th>1</th>\n",
              "      <td>Lalonde Sample</td>\n",
              "      <td>1</td>\n",
              "      <td>22</td>\n",
              "      <td>9</td>\n",
              "      <td>0</td>\n",
              "      <td>1</td>\n",
              "      <td>0</td>\n",
              "      <td>1</td>\n",
              "      <td>0.0</td>\n",
              "      <td>3595.894043</td>\n",
              "    </tr>\n",
              "    <tr>\n",
              "      <th>2</th>\n",
              "      <td>Lalonde Sample</td>\n",
              "      <td>1</td>\n",
              "      <td>30</td>\n",
              "      <td>12</td>\n",
              "      <td>1</td>\n",
              "      <td>0</td>\n",
              "      <td>0</td>\n",
              "      <td>0</td>\n",
              "      <td>0.0</td>\n",
              "      <td>24909.449219</td>\n",
              "    </tr>\n",
              "    <tr>\n",
              "      <th>3</th>\n",
              "      <td>Lalonde Sample</td>\n",
              "      <td>1</td>\n",
              "      <td>27</td>\n",
              "      <td>11</td>\n",
              "      <td>1</td>\n",
              "      <td>0</td>\n",
              "      <td>0</td>\n",
              "      <td>1</td>\n",
              "      <td>0.0</td>\n",
              "      <td>7506.145996</td>\n",
              "    </tr>\n",
              "    <tr>\n",
              "      <th>4</th>\n",
              "      <td>Lalonde Sample</td>\n",
              "      <td>1</td>\n",
              "      <td>33</td>\n",
              "      <td>8</td>\n",
              "      <td>1</td>\n",
              "      <td>0</td>\n",
              "      <td>0</td>\n",
              "      <td>1</td>\n",
              "      <td>0.0</td>\n",
              "      <td>289.789886</td>\n",
              "    </tr>\n",
              "  </tbody>\n",
              "</table>\n",
              "</div>"
            ],
            "text/plain": [
              "          data_id  treat  age  education  ...  married  nodegree  re75          re78\n",
              "0  Lalonde Sample      1   37         11  ...        1         1   0.0   9930.045898\n",
              "1  Lalonde Sample      1   22          9  ...        0         1   0.0   3595.894043\n",
              "2  Lalonde Sample      1   30         12  ...        0         0   0.0  24909.449219\n",
              "3  Lalonde Sample      1   27         11  ...        0         1   0.0   7506.145996\n",
              "4  Lalonde Sample      1   33          8  ...        0         1   0.0    289.789886\n",
              "\n",
              "[5 rows x 10 columns]"
            ]
          },
          "metadata": {
            "tags": []
          },
          "execution_count": 96
        }
      ]
    },
    {
      "cell_type": "code",
      "metadata": {
        "id": "3NQ_jzolkwIR",
        "colab_type": "code",
        "colab": {
          "base_uri": "https://localhost:8080/",
          "height": 314
        },
        "outputId": "9bbe4737-18ce-4f12-de4b-62ad9c394f3a"
      },
      "source": [
        "df.describe()"
      ],
      "execution_count": 97,
      "outputs": [
        {
          "output_type": "execute_result",
          "data": {
            "text/html": [
              "<div>\n",
              "<style scoped>\n",
              "    .dataframe tbody tr th:only-of-type {\n",
              "        vertical-align: middle;\n",
              "    }\n",
              "\n",
              "    .dataframe tbody tr th {\n",
              "        vertical-align: top;\n",
              "    }\n",
              "\n",
              "    .dataframe thead th {\n",
              "        text-align: right;\n",
              "    }\n",
              "</style>\n",
              "<table border=\"1\" class=\"dataframe\">\n",
              "  <thead>\n",
              "    <tr style=\"text-align: right;\">\n",
              "      <th></th>\n",
              "      <th>treat</th>\n",
              "      <th>age</th>\n",
              "      <th>education</th>\n",
              "      <th>black</th>\n",
              "      <th>hispanic</th>\n",
              "      <th>married</th>\n",
              "      <th>nodegree</th>\n",
              "      <th>re75</th>\n",
              "      <th>re78</th>\n",
              "    </tr>\n",
              "  </thead>\n",
              "  <tbody>\n",
              "    <tr>\n",
              "      <th>count</th>\n",
              "      <td>722.000000</td>\n",
              "      <td>722.000000</td>\n",
              "      <td>722.000000</td>\n",
              "      <td>722.000000</td>\n",
              "      <td>722.000000</td>\n",
              "      <td>722.000000</td>\n",
              "      <td>722.000000</td>\n",
              "      <td>722.000000</td>\n",
              "      <td>722.000000</td>\n",
              "    </tr>\n",
              "    <tr>\n",
              "      <th>mean</th>\n",
              "      <td>0.411357</td>\n",
              "      <td>24.520776</td>\n",
              "      <td>10.267313</td>\n",
              "      <td>0.800554</td>\n",
              "      <td>0.105263</td>\n",
              "      <td>0.162050</td>\n",
              "      <td>0.779778</td>\n",
              "      <td>3042.896240</td>\n",
              "      <td>5454.638672</td>\n",
              "    </tr>\n",
              "    <tr>\n",
              "      <th>std</th>\n",
              "      <td>0.492421</td>\n",
              "      <td>6.625947</td>\n",
              "      <td>1.704774</td>\n",
              "      <td>0.399861</td>\n",
              "      <td>0.307105</td>\n",
              "      <td>0.368752</td>\n",
              "      <td>0.414683</td>\n",
              "      <td>5066.138672</td>\n",
              "      <td>6252.948242</td>\n",
              "    </tr>\n",
              "    <tr>\n",
              "      <th>min</th>\n",
              "      <td>0.000000</td>\n",
              "      <td>17.000000</td>\n",
              "      <td>3.000000</td>\n",
              "      <td>0.000000</td>\n",
              "      <td>0.000000</td>\n",
              "      <td>0.000000</td>\n",
              "      <td>0.000000</td>\n",
              "      <td>0.000000</td>\n",
              "      <td>0.000000</td>\n",
              "    </tr>\n",
              "    <tr>\n",
              "      <th>25%</th>\n",
              "      <td>0.000000</td>\n",
              "      <td>19.000000</td>\n",
              "      <td>9.000000</td>\n",
              "      <td>1.000000</td>\n",
              "      <td>0.000000</td>\n",
              "      <td>0.000000</td>\n",
              "      <td>1.000000</td>\n",
              "      <td>0.000000</td>\n",
              "      <td>0.000000</td>\n",
              "    </tr>\n",
              "    <tr>\n",
              "      <th>50%</th>\n",
              "      <td>0.000000</td>\n",
              "      <td>23.000000</td>\n",
              "      <td>10.000000</td>\n",
              "      <td>1.000000</td>\n",
              "      <td>0.000000</td>\n",
              "      <td>0.000000</td>\n",
              "      <td>1.000000</td>\n",
              "      <td>936.307953</td>\n",
              "      <td>3951.889038</td>\n",
              "    </tr>\n",
              "    <tr>\n",
              "      <th>75%</th>\n",
              "      <td>1.000000</td>\n",
              "      <td>27.000000</td>\n",
              "      <td>11.000000</td>\n",
              "      <td>1.000000</td>\n",
              "      <td>0.000000</td>\n",
              "      <td>0.000000</td>\n",
              "      <td>1.000000</td>\n",
              "      <td>3993.206970</td>\n",
              "      <td>8772.004395</td>\n",
              "    </tr>\n",
              "    <tr>\n",
              "      <th>max</th>\n",
              "      <td>1.000000</td>\n",
              "      <td>55.000000</td>\n",
              "      <td>16.000000</td>\n",
              "      <td>1.000000</td>\n",
              "      <td>1.000000</td>\n",
              "      <td>1.000000</td>\n",
              "      <td>1.000000</td>\n",
              "      <td>37431.660156</td>\n",
              "      <td>60307.929688</td>\n",
              "    </tr>\n",
              "  </tbody>\n",
              "</table>\n",
              "</div>"
            ],
            "text/plain": [
              "            treat         age  ...          re75          re78\n",
              "count  722.000000  722.000000  ...    722.000000    722.000000\n",
              "mean     0.411357   24.520776  ...   3042.896240   5454.638672\n",
              "std      0.492421    6.625947  ...   5066.138672   6252.948242\n",
              "min      0.000000   17.000000  ...      0.000000      0.000000\n",
              "25%      0.000000   19.000000  ...      0.000000      0.000000\n",
              "50%      0.000000   23.000000  ...    936.307953   3951.889038\n",
              "75%      1.000000   27.000000  ...   3993.206970   8772.004395\n",
              "max      1.000000   55.000000  ...  37431.660156  60307.929688\n",
              "\n",
              "[8 rows x 9 columns]"
            ]
          },
          "metadata": {
            "tags": []
          },
          "execution_count": 97
        }
      ]
    },
    {
      "cell_type": "markdown",
      "metadata": {
        "id": "zIzmRJM-8Nih",
        "colab_type": "text"
      },
      "source": [
        "### 単純な平均値の比較"
      ]
    },
    {
      "cell_type": "code",
      "metadata": {
        "id": "AxTqC5Qj8dKR",
        "colab_type": "code",
        "colab": {
          "base_uri": "https://localhost:8080/",
          "height": 71
        },
        "outputId": "71130261-39f9-46ae-b52c-6fb8a8f336b1"
      },
      "source": [
        "control_group = df.query(TREATMENT_COLUMN + '==0')[OUTCOME_COLUMN].mean()\n",
        "treatment_group = df.query(TREATMENT_COLUMN + '==1')[OUTCOME_COLUMN].mean()\n",
        "print('介入群のアウトカムの平均値:{}'.format(control_group))\n",
        "print('コントロール群のアウトカムの平均値:{}'.format(treatment_group))\n",
        "print('単純な平均値の差:{}'.format(treatment_group-control_group))"
      ],
      "execution_count": 98,
      "outputs": [
        {
          "output_type": "stream",
          "text": [
            "介入群のアウトカムの平均値:5090.0478515625\n",
            "コントロール群のアウトカムの平均値:5976.353515625\n",
            "単純な平均値の差:886.3056640625\n"
          ],
          "name": "stdout"
        }
      ]
    },
    {
      "cell_type": "markdown",
      "metadata": {
        "id": "jAwlU2gU_sPd",
        "colab_type": "text"
      },
      "source": [
        "今回求めた推定量を$\\hat{\\tau}_{naive}$と置くと\n",
        "$$\\hat{\\tau}_{naive} = E[Y^{(1)}|t=1]-E[Y^{(0)}|t=0]$$\n",
        "$$=E[Y^{(1)}-Y^{(0)}]+E[Y^{(0)}|t=1]-E[Y^{(0)}|t=0]$$\n",
        "セレクションバイアスが生じているため、**単純な平均値の差の比較**では望ましくない因果効果の算出方法であることが分かる。<br>\n",
        "<font color=\"Red\">（今回のデータセットについては、介入が無作為で割り当てらているためセレクションバイアスはほぼ無いと考えられる）</font>"
      ]
    },
    {
      "cell_type": "code",
      "metadata": {
        "id": "q9ySgXrWlMti",
        "colab_type": "code",
        "colab": {
          "base_uri": "https://localhost:8080/",
          "height": 89
        },
        "outputId": "9fb5500f-5e1f-4dc9-b993-f043631f165c"
      },
      "source": [
        "SEED = 2\n",
        "\n",
        "data = df.drop(columns=UNNECESSARY_COLUMNS)\n",
        "\n",
        "train_X, test_X, train_y, test_y = train_test_split(data.drop(columns=OUTCOME_COLUMN).values, data[OUTCOME_COLUMN].values,\n",
        "                                                    test_size=0.2, random_state=SEED)\n",
        "train_X, val_X, train_y, val_y = train_test_split(train_X, train_y,\n",
        "                                                  test_size=0.2, random_state=SEED)\n",
        "# t:treatment(介入変数)の取り出し\n",
        "train_t = train_X[:,0].astype(int)\n",
        "train_X = train_X[:,1:]\n",
        "val_t = val_X[:,0].astype(int)\n",
        "val_X = val_X[:,1:]\n",
        "test_t = test_X[:,0].astype(int)\n",
        "test_X = test_X[:,1:]\n",
        "\n",
        "print('data.shape:{}'.format(data.shape))\n",
        "print('train_X:{}, train_t:{}, train_y:{}'.format(train_X.shape, train_t.shape, train_y.shape))\n",
        "print('val_X:{}, val_t:{}, val_y:{}'.format(val_X.shape, val_t.shape, val_y.shape))\n",
        "print(('test_X:{}, test_t:{}, test_y:{}'.format(test_X.shape, test_t.shape, test_y.shape)))"
      ],
      "execution_count": 99,
      "outputs": [
        {
          "output_type": "stream",
          "text": [
            "data.shape:(722, 9)\n",
            "train_X:(461, 7), train_t:(461,), train_y:(461,)\n",
            "val_X:(116, 7), val_t:(116,), val_y:(116,)\n",
            "test_X:(145, 7), test_t:(145,), test_y:(145,)\n"
          ],
          "name": "stdout"
        }
      ]
    },
    {
      "cell_type": "markdown",
      "metadata": {
        "id": "3zrz2PgKnhFs",
        "colab_type": "text"
      },
      "source": [
        "## 傾向スコアモデル作成"
      ]
    },
    {
      "cell_type": "code",
      "metadata": {
        "id": "1aB3n1S7nRTh",
        "colab_type": "code",
        "colab": {
          "base_uri": "https://localhost:8080/",
          "height": 251
        },
        "outputId": "473cb50b-0731-4021-9601-6d8086d9a9c6"
      },
      "source": [
        "# causalmlで使用できるElasticNetPropensityModelでは内部でsklearn.linear_model.ElasticNetCVが使われている\n",
        "# ElasticNetPropensityModelでは検証用データを使えなさそうなので、過学習を防ぐためにも今回はxgboostを使用\n",
        "# ps：propensity score(傾向スコア)\n",
        "ps_model = XGBClassifier(n_estimators=1000,random_state=SEED)\n",
        "# 目的変数をTreatmentとして学習\n",
        "ps_model.fit(X=train_X, y=train_t, eval_set=[(val_X, val_t)],\n",
        "             early_stopping_rounds=5)\n",
        "\n",
        "# 傾向スコア算出\n",
        "train_ps = ps_model.predict_proba(data=train_X)[:,1]\n",
        "val_ps = ps_model.predict_proba(data=val_X)[:,1]\n",
        "print('train_ps:{}, val_ps:{}'.format(train_ps.shape, val_ps.shape))\n",
        "print('train_ps[:5]:{}'.format(train_ps[:5]))"
      ],
      "execution_count": 100,
      "outputs": [
        {
          "output_type": "stream",
          "text": [
            "[0]\tvalidation_0-error:0.431034\n",
            "Will train until validation_0-error hasn't improved in 5 rounds.\n",
            "[1]\tvalidation_0-error:0.37069\n",
            "[2]\tvalidation_0-error:0.37069\n",
            "[3]\tvalidation_0-error:0.37069\n",
            "[4]\tvalidation_0-error:0.37069\n",
            "[5]\tvalidation_0-error:0.37069\n",
            "[6]\tvalidation_0-error:0.37069\n",
            "Stopping. Best iteration:\n",
            "[1]\tvalidation_0-error:0.37069\n",
            "\n",
            "train_ps:(461,), val_ps:(116,)\n",
            "train_ps[:5]:[0.43394563 0.48648664 0.4962392  0.48648664 0.48648664]\n"
          ],
          "name": "stdout"
        }
      ]
    },
    {
      "cell_type": "code",
      "metadata": {
        "id": "0TBfW-1DMjuP",
        "colab_type": "code",
        "colab": {
          "base_uri": "https://localhost:8080/",
          "height": 35
        },
        "outputId": "3eee5919-ee71-474c-dc93-7a6fd6a1acc0"
      },
      "source": [
        "test_ps_score = ps_model.score(X=test_X, y=test_t)\n",
        "print('テストデータに対する傾向スコアモデルの精度:{score}'.format(score=test_ps_score))"
      ],
      "execution_count": 101,
      "outputs": [
        {
          "output_type": "stream",
          "text": [
            "テストデータに対する傾向スコアモデルの精度:0.6137931034482759\n"
          ],
          "name": "stdout"
        }
      ]
    },
    {
      "cell_type": "markdown",
      "metadata": {
        "id": "mqx9D521xB1W",
        "colab_type": "text"
      },
      "source": [
        "## MetaLearnerモデル作成"
      ]
    },
    {
      "cell_type": "code",
      "metadata": {
        "id": "SfBenOmwyNdf",
        "colab_type": "code",
        "colab": {
          "base_uri": "https://localhost:8080/",
          "height": 35
        },
        "outputId": "2e2012ec-7075-40bd-f60e-f12b072b1cc8"
      },
      "source": [
        "# 観測されたアウトカムから反事実を予測するMetaLearnerモデルを構築していく\n",
        "# 一般的なMLの学習タスクと異なり、正解に反事実が含まれるためmae,val_loss等を算出できない\n",
        "# 今回は、傾向スコアモデル学習時と異なり、学習データを少しでも水増しさせるため検証データを加える\n",
        "learner_train_X = np.concatenate([train_X, val_X])\n",
        "learner_train_t = np.concatenate([train_t, val_t])\n",
        "learner_train_y = np.concatenate([train_y, val_y])\n",
        "learner_train_ps = np.concatenate([train_ps, val_ps])\n",
        "print('learner_train_ps:{}'.format(learner_train_ps.shape))"
      ],
      "execution_count": 102,
      "outputs": [
        {
          "output_type": "stream",
          "text": [
            "learner_train_ps:(577,)\n"
          ],
          "name": "stdout"
        }
      ]
    },
    {
      "cell_type": "code",
      "metadata": {
        "id": "WkVBRwHXvuEl",
        "colab_type": "code",
        "colab": {
          "base_uri": "https://localhost:8080/",
          "height": 145
        },
        "outputId": "8ff3feb7-3d6b-49cb-e31e-4dd52a1c2c8c"
      },
      "source": [
        "%%time\n",
        "x_learner = BaseXRegressor(XGBRegressor(n_estimators=1000,random_state=SEED))\n",
        "\n",
        "x_learner.fit(X=learner_train_X, treatment=learner_train_t, \n",
        "              y=learner_train_y, p=learner_train_ps)"
      ],
      "execution_count": 103,
      "outputs": [
        {
          "output_type": "stream",
          "text": [
            "[14:31:34] WARNING: /workspace/src/objective/regression_obj.cu:152: reg:linear is now deprecated in favor of reg:squarederror.\n",
            "[14:31:34] WARNING: /workspace/src/objective/regression_obj.cu:152: reg:linear is now deprecated in favor of reg:squarederror.\n",
            "[14:31:35] WARNING: /workspace/src/objective/regression_obj.cu:152: reg:linear is now deprecated in favor of reg:squarederror.\n",
            "[14:31:35] WARNING: /workspace/src/objective/regression_obj.cu:152: reg:linear is now deprecated in favor of reg:squarederror.\n",
            "CPU times: user 671 ms, sys: 24.2 ms, total: 696 ms\n",
            "Wall time: 701 ms\n"
          ],
          "name": "stdout"
        }
      ]
    },
    {
      "cell_type": "markdown",
      "metadata": {
        "id": "JLa6Y7Tc3xPX",
        "colab_type": "text"
      },
      "source": [
        "## 予測結果の確認\n"
      ]
    },
    {
      "cell_type": "code",
      "metadata": {
        "id": "o3gNvv4A7znp",
        "colab_type": "code",
        "colab": {
          "base_uri": "https://localhost:8080/",
          "height": 35
        },
        "outputId": "794c8e62-5af9-4a7b-b7cc-0ca1099c0ea7"
      },
      "source": [
        "# 解析対象となるデータ用意(学習/検証/テストデータの結合)\n",
        "learner_input_X = np.concatenate([train_X, val_X, test_X])\n",
        "learner_input_t = np.concatenate([train_t, val_t, test_t])\n",
        "learner_input_y = np.concatenate([train_y, val_y, test_y])\n",
        "\n",
        "test_ps = ps_model.predict_proba(test_X)[:,1]\n",
        "learner_input_ps = np.concatenate([train_ps, val_ps, test_ps])\n",
        "print('learner_input_ps:{}'.format(learner_input_ps.shape))"
      ],
      "execution_count": 104,
      "outputs": [
        {
          "output_type": "stream",
          "text": [
            "learner_input_ps:(722,)\n"
          ],
          "name": "stdout"
        }
      ]
    },
    {
      "cell_type": "markdown",
      "metadata": {
        "id": "fl7IxIYR6HEN",
        "colab_type": "text"
      },
      "source": [
        "### ATE:AverageTreatmentEffect（平均因果効果）"
      ]
    },
    {
      "cell_type": "code",
      "metadata": {
        "id": "8_9xU6Ig0aqr",
        "colab_type": "code",
        "colab": {
          "base_uri": "https://localhost:8080/",
          "height": 145
        },
        "outputId": "6ae02246-855e-4b21-bab7-5e20dcb01343"
      },
      "source": [
        "%%time\n",
        "ate = x_learner.estimate_ate(X=learner_input_X, treatment=learner_input_t,\n",
        "                             y=learner_input_y, p=learner_input_ps)"
      ],
      "execution_count": 105,
      "outputs": [
        {
          "output_type": "stream",
          "text": [
            "[14:31:35] WARNING: /workspace/src/objective/regression_obj.cu:152: reg:linear is now deprecated in favor of reg:squarederror.\n",
            "[14:31:35] WARNING: /workspace/src/objective/regression_obj.cu:152: reg:linear is now deprecated in favor of reg:squarederror.\n",
            "[14:31:35] WARNING: /workspace/src/objective/regression_obj.cu:152: reg:linear is now deprecated in favor of reg:squarederror.\n",
            "[14:31:36] WARNING: /workspace/src/objective/regression_obj.cu:152: reg:linear is now deprecated in favor of reg:squarederror.\n",
            "CPU times: user 851 ms, sys: 29.6 ms, total: 880 ms\n",
            "Wall time: 882 ms\n"
          ],
          "name": "stdout"
        }
      ]
    },
    {
      "cell_type": "code",
      "metadata": {
        "id": "Gc5mbRaS2U1K",
        "colab_type": "code",
        "colab": {
          "base_uri": "https://localhost:8080/",
          "height": 71
        },
        "outputId": "6aa83418-d927-4e61-a31f-6790f9db21e4"
      },
      "source": [
        "# ATE:AverageTreatmentEffect\n",
        "print('ATE:{ate}'.format(ate=ate[0][0]))\n",
        "print('信頼区間の下限値(LB):{lb}'.format(lb=ate[1][0]))\n",
        "print('信頼区間の上限値(UB):{ub}'.format(ub=ate[2][0]))"
      ],
      "execution_count": 106,
      "outputs": [
        {
          "output_type": "stream",
          "text": [
            "ATE:882.7977300628071\n",
            "信頼区間の下限値(LB):310.3630819961652\n",
            "信頼区間の上限値(UB):1455.232378129449\n"
          ],
          "name": "stdout"
        }
      ]
    },
    {
      "cell_type": "markdown",
      "metadata": {
        "id": "11VY8Ywb6asr",
        "colab_type": "text"
      },
      "source": [
        "### ITE:IndividualTreatmentEffect（個別的因果効果）"
      ]
    },
    {
      "cell_type": "code",
      "metadata": {
        "id": "1rFfRPLl7P_J",
        "colab_type": "code",
        "colab": {
          "base_uri": "https://localhost:8080/",
          "height": 53
        },
        "outputId": "73982db4-af07-437e-a334-09d17a70332e"
      },
      "source": [
        "%%time\n",
        "ite = x_learner.predict(X=learner_input_X, treatment=learner_input_t,\n",
        "                        y=learner_input_y, p=learner_input_ps)"
      ],
      "execution_count": 107,
      "outputs": [
        {
          "output_type": "stream",
          "text": [
            "CPU times: user 65.7 ms, sys: 0 ns, total: 65.7 ms\n",
            "Wall time: 66.2 ms\n"
          ],
          "name": "stdout"
        }
      ]
    },
    {
      "cell_type": "code",
      "metadata": {
        "id": "nLm_Iyjk39lZ",
        "colab_type": "code",
        "colab": {
          "base_uri": "https://localhost:8080/",
          "height": 609
        },
        "outputId": "eef24e4d-674e-4225-bf02-eac23e859d7c"
      },
      "source": [
        "# ITE:IndividualTreatmentEffect\n",
        "insert_column = 'ITE'\n",
        "\n",
        "if insert_column in df.columns:\n",
        "  df.drop(columns=insert_column,inplace=True)\n",
        "df.insert(loc=0, column=insert_column, value=ite)\n",
        "df"
      ],
      "execution_count": 108,
      "outputs": [
        {
          "output_type": "execute_result",
          "data": {
            "text/html": [
              "<div>\n",
              "<style scoped>\n",
              "    .dataframe tbody tr th:only-of-type {\n",
              "        vertical-align: middle;\n",
              "    }\n",
              "\n",
              "    .dataframe tbody tr th {\n",
              "        vertical-align: top;\n",
              "    }\n",
              "\n",
              "    .dataframe thead th {\n",
              "        text-align: right;\n",
              "    }\n",
              "</style>\n",
              "<table border=\"1\" class=\"dataframe\">\n",
              "  <thead>\n",
              "    <tr style=\"text-align: right;\">\n",
              "      <th></th>\n",
              "      <th>ITE</th>\n",
              "      <th>data_id</th>\n",
              "      <th>treat</th>\n",
              "      <th>age</th>\n",
              "      <th>education</th>\n",
              "      <th>black</th>\n",
              "      <th>hispanic</th>\n",
              "      <th>married</th>\n",
              "      <th>nodegree</th>\n",
              "      <th>re75</th>\n",
              "      <th>re78</th>\n",
              "    </tr>\n",
              "  </thead>\n",
              "  <tbody>\n",
              "    <tr>\n",
              "      <th>0</th>\n",
              "      <td>-7674.987305</td>\n",
              "      <td>Lalonde Sample</td>\n",
              "      <td>1</td>\n",
              "      <td>37</td>\n",
              "      <td>11</td>\n",
              "      <td>1</td>\n",
              "      <td>0</td>\n",
              "      <td>1</td>\n",
              "      <td>1</td>\n",
              "      <td>0.000000</td>\n",
              "      <td>9930.045898</td>\n",
              "    </tr>\n",
              "    <tr>\n",
              "      <th>1</th>\n",
              "      <td>-2245.755127</td>\n",
              "      <td>Lalonde Sample</td>\n",
              "      <td>1</td>\n",
              "      <td>22</td>\n",
              "      <td>9</td>\n",
              "      <td>0</td>\n",
              "      <td>1</td>\n",
              "      <td>0</td>\n",
              "      <td>1</td>\n",
              "      <td>0.000000</td>\n",
              "      <td>3595.894043</td>\n",
              "    </tr>\n",
              "    <tr>\n",
              "      <th>2</th>\n",
              "      <td>4774.103516</td>\n",
              "      <td>Lalonde Sample</td>\n",
              "      <td>1</td>\n",
              "      <td>30</td>\n",
              "      <td>12</td>\n",
              "      <td>1</td>\n",
              "      <td>0</td>\n",
              "      <td>0</td>\n",
              "      <td>0</td>\n",
              "      <td>0.000000</td>\n",
              "      <td>24909.449219</td>\n",
              "    </tr>\n",
              "    <tr>\n",
              "      <th>3</th>\n",
              "      <td>3454.171875</td>\n",
              "      <td>Lalonde Sample</td>\n",
              "      <td>1</td>\n",
              "      <td>27</td>\n",
              "      <td>11</td>\n",
              "      <td>1</td>\n",
              "      <td>0</td>\n",
              "      <td>0</td>\n",
              "      <td>1</td>\n",
              "      <td>0.000000</td>\n",
              "      <td>7506.145996</td>\n",
              "    </tr>\n",
              "    <tr>\n",
              "      <th>4</th>\n",
              "      <td>-16805.341797</td>\n",
              "      <td>Lalonde Sample</td>\n",
              "      <td>1</td>\n",
              "      <td>33</td>\n",
              "      <td>8</td>\n",
              "      <td>1</td>\n",
              "      <td>0</td>\n",
              "      <td>0</td>\n",
              "      <td>1</td>\n",
              "      <td>0.000000</td>\n",
              "      <td>289.789886</td>\n",
              "    </tr>\n",
              "    <tr>\n",
              "      <th>...</th>\n",
              "      <td>...</td>\n",
              "      <td>...</td>\n",
              "      <td>...</td>\n",
              "      <td>...</td>\n",
              "      <td>...</td>\n",
              "      <td>...</td>\n",
              "      <td>...</td>\n",
              "      <td>...</td>\n",
              "      <td>...</td>\n",
              "      <td>...</td>\n",
              "      <td>...</td>\n",
              "    </tr>\n",
              "    <tr>\n",
              "      <th>717</th>\n",
              "      <td>-2382.829590</td>\n",
              "      <td>Lalonde Sample</td>\n",
              "      <td>0</td>\n",
              "      <td>20</td>\n",
              "      <td>10</td>\n",
              "      <td>1</td>\n",
              "      <td>0</td>\n",
              "      <td>0</td>\n",
              "      <td>1</td>\n",
              "      <td>825.230103</td>\n",
              "      <td>0.000000</td>\n",
              "    </tr>\n",
              "    <tr>\n",
              "      <th>718</th>\n",
              "      <td>20265.615234</td>\n",
              "      <td>Lalonde Sample</td>\n",
              "      <td>0</td>\n",
              "      <td>17</td>\n",
              "      <td>9</td>\n",
              "      <td>0</td>\n",
              "      <td>1</td>\n",
              "      <td>0</td>\n",
              "      <td>1</td>\n",
              "      <td>0.000000</td>\n",
              "      <td>5114.813965</td>\n",
              "    </tr>\n",
              "    <tr>\n",
              "      <th>719</th>\n",
              "      <td>10576.161133</td>\n",
              "      <td>Lalonde Sample</td>\n",
              "      <td>0</td>\n",
              "      <td>17</td>\n",
              "      <td>9</td>\n",
              "      <td>1</td>\n",
              "      <td>0</td>\n",
              "      <td>0</td>\n",
              "      <td>1</td>\n",
              "      <td>1206.441040</td>\n",
              "      <td>0.000000</td>\n",
              "    </tr>\n",
              "    <tr>\n",
              "      <th>720</th>\n",
              "      <td>-4837.734375</td>\n",
              "      <td>Lalonde Sample</td>\n",
              "      <td>0</td>\n",
              "      <td>19</td>\n",
              "      <td>11</td>\n",
              "      <td>1</td>\n",
              "      <td>0</td>\n",
              "      <td>0</td>\n",
              "      <td>1</td>\n",
              "      <td>0.000000</td>\n",
              "      <td>0.000000</td>\n",
              "    </tr>\n",
              "    <tr>\n",
              "      <th>721</th>\n",
              "      <td>2649.863281</td>\n",
              "      <td>Lalonde Sample</td>\n",
              "      <td>0</td>\n",
              "      <td>18</td>\n",
              "      <td>10</td>\n",
              "      <td>1</td>\n",
              "      <td>0</td>\n",
              "      <td>0</td>\n",
              "      <td>1</td>\n",
              "      <td>0.000000</td>\n",
              "      <td>781.224304</td>\n",
              "    </tr>\n",
              "  </tbody>\n",
              "</table>\n",
              "<p>722 rows × 11 columns</p>\n",
              "</div>"
            ],
            "text/plain": [
              "              ITE         data_id  treat  ...  nodegree         re75          re78\n",
              "0    -7674.987305  Lalonde Sample      1  ...         1     0.000000   9930.045898\n",
              "1    -2245.755127  Lalonde Sample      1  ...         1     0.000000   3595.894043\n",
              "2     4774.103516  Lalonde Sample      1  ...         0     0.000000  24909.449219\n",
              "3     3454.171875  Lalonde Sample      1  ...         1     0.000000   7506.145996\n",
              "4   -16805.341797  Lalonde Sample      1  ...         1     0.000000    289.789886\n",
              "..            ...             ...    ...  ...       ...          ...           ...\n",
              "717  -2382.829590  Lalonde Sample      0  ...         1   825.230103      0.000000\n",
              "718  20265.615234  Lalonde Sample      0  ...         1     0.000000   5114.813965\n",
              "719  10576.161133  Lalonde Sample      0  ...         1  1206.441040      0.000000\n",
              "720  -4837.734375  Lalonde Sample      0  ...         1     0.000000      0.000000\n",
              "721   2649.863281  Lalonde Sample      0  ...         1     0.000000    781.224304\n",
              "\n",
              "[722 rows x 11 columns]"
            ]
          },
          "metadata": {
            "tags": []
          },
          "execution_count": 108
        }
      ]
    },
    {
      "cell_type": "markdown",
      "metadata": {
        "id": "MzVlffouBnsH",
        "colab_type": "text"
      },
      "source": [
        "### 特徴量毎の重要度の確認"
      ]
    },
    {
      "cell_type": "code",
      "metadata": {
        "id": "RnqLlYQgB1AR",
        "colab_type": "code",
        "colab": {
          "base_uri": "https://localhost:8080/",
          "height": 592
        },
        "outputId": "8444f7ae-1755-49a3-a38e-a227431ab506"
      },
      "source": [
        "x_learner.plot_importance(X=learner_input_X,\n",
        "                          tau=ite,\n",
        "                          model_tau_feature=XGBRegressor(random_state=SEED),\n",
        "                          features=FEATURE_COLUMNS,\n",
        "                          method='auto',\n",
        "                          random_state=SEED)"
      ],
      "execution_count": 109,
      "outputs": [
        {
          "output_type": "stream",
          "text": [
            "[14:31:36] WARNING: /workspace/src/objective/regression_obj.cu:152: reg:linear is now deprecated in favor of reg:squarederror.\n",
            "[14:31:36] WARNING: /workspace/src/objective/regression_obj.cu:152: reg:linear is now deprecated in favor of reg:squarederror.\n"
          ],
          "name": "stdout"
        },
        {
          "output_type": "display_data",
          "data": {
            "image/png": "[encoded data removed]",
            "text/plain": [
              "<Figure size 864x576 with 1 Axes>"
            ]
          },
          "metadata": {
            "tags": []
          }
        }
      ]
    },
    {
      "cell_type": "markdown",
      "metadata": {
        "id": "TjtsPzZ3XmJ5",
        "colab_type": "text"
      },
      "source": [
        "### 特徴量毎のshap値確認"
      ]
    },
    {
      "cell_type": "code",
      "metadata": {
        "id": "jXlZ7gJXOkO0",
        "colab_type": "code",
        "colab": {
          "base_uri": "https://localhost:8080/",
          "height": 407
        },
        "outputId": "367c48e7-9db2-403f-a7b1-cbee92f52c6a"
      },
      "source": [
        "x_learner.plot_shap_values(X=learner_input_X, tau=ite, \n",
        "                           features=FEATURE_COLUMNS,\n",
        "                           model_tau_feature=XGBRegressor(random_state=SEED))"
      ],
      "execution_count": 110,
      "outputs": [
        {
          "output_type": "stream",
          "text": [
            "[14:31:36] WARNING: /workspace/src/objective/regression_obj.cu:152: reg:linear is now deprecated in favor of reg:squarederror.\n",
            "[14:31:36] WARNING: /workspace/src/objective/regression_obj.cu:152: reg:linear is now deprecated in favor of reg:squarederror.\n"
          ],
          "name": "stdout"
        },
        {
          "output_type": "stream",
          "text": [
            "Setting feature_perturbation = \"tree_path_dependent\" because no background data was given.\n"
          ],
          "name": "stderr"
        },
        {
          "output_type": "display_data",
          "data": {
            "image/png": "[encoded data removed]",
            "text/plain": [
              "<Figure size 576x309.6 with 1 Axes>"
            ]
          },
          "metadata": {
            "tags": []
          }
        }
      ]
    },
    {
      "cell_type": "markdown",
      "metadata": {
        "id": "nkpQqBYkYojq",
        "colab_type": "text"
      },
      "source": [
        "## モデルの評価\n",
        "TMLE:Targeted maximum likelihood estimation(局所的に最尤推定を行う)モデルとの比較。<br>正解となる目的変数にはCounterfactual(反事実)が含まれているため、一般的な精度が算出できない。そこでTMLEモデルをベースラインにして、構築したモデルの精度を比較し評価する。"
      ]
    },
    {
      "cell_type": "code",
      "metadata": {
        "id": "FPBFW2C7PbSr",
        "colab_type": "code",
        "colab": {
          "base_uri": "https://localhost:8080/",
          "height": 309
        },
        "outputId": "56a9918f-a813-4552-e687-bd6d46ab2141"
      },
      "source": [
        "# 傾向スコアの挿入\n",
        "PS_COLUMN = 'ps'\n",
        "insert_column = PS_COLUMN\n",
        "\n",
        "if insert_column in df.columns:\n",
        "  df.drop(columns=insert_column,inplace=True)\n",
        "df.insert(loc=0, column=insert_column, value=learner_input_ps)\n",
        "df.head()"
      ],
      "execution_count": 111,
      "outputs": [
        {
          "output_type": "execute_result",
          "data": {
            "text/html": [
              "<div>\n",
              "<style scoped>\n",
              "    .dataframe tbody tr th:only-of-type {\n",
              "        vertical-align: middle;\n",
              "    }\n",
              "\n",
              "    .dataframe tbody tr th {\n",
              "        vertical-align: top;\n",
              "    }\n",
              "\n",
              "    .dataframe thead th {\n",
              "        text-align: right;\n",
              "    }\n",
              "</style>\n",
              "<table border=\"1\" class=\"dataframe\">\n",
              "  <thead>\n",
              "    <tr style=\"text-align: right;\">\n",
              "      <th></th>\n",
              "      <th>ps</th>\n",
              "      <th>ITE</th>\n",
              "      <th>data_id</th>\n",
              "      <th>treat</th>\n",
              "      <th>age</th>\n",
              "      <th>education</th>\n",
              "      <th>black</th>\n",
              "      <th>hispanic</th>\n",
              "      <th>married</th>\n",
              "      <th>nodegree</th>\n",
              "      <th>re75</th>\n",
              "      <th>re78</th>\n",
              "    </tr>\n",
              "  </thead>\n",
              "  <tbody>\n",
              "    <tr>\n",
              "      <th>0</th>\n",
              "      <td>0.433946</td>\n",
              "      <td>-7674.987305</td>\n",
              "      <td>Lalonde Sample</td>\n",
              "      <td>1</td>\n",
              "      <td>37</td>\n",
              "      <td>11</td>\n",
              "      <td>1</td>\n",
              "      <td>0</td>\n",
              "      <td>1</td>\n",
              "      <td>1</td>\n",
              "      <td>0.0</td>\n",
              "      <td>9930.045898</td>\n",
              "    </tr>\n",
              "    <tr>\n",
              "      <th>1</th>\n",
              "      <td>0.486487</td>\n",
              "      <td>-2245.755127</td>\n",
              "      <td>Lalonde Sample</td>\n",
              "      <td>1</td>\n",
              "      <td>22</td>\n",
              "      <td>9</td>\n",
              "      <td>0</td>\n",
              "      <td>1</td>\n",
              "      <td>0</td>\n",
              "      <td>1</td>\n",
              "      <td>0.0</td>\n",
              "      <td>3595.894043</td>\n",
              "    </tr>\n",
              "    <tr>\n",
              "      <th>2</th>\n",
              "      <td>0.496239</td>\n",
              "      <td>4774.103516</td>\n",
              "      <td>Lalonde Sample</td>\n",
              "      <td>1</td>\n",
              "      <td>30</td>\n",
              "      <td>12</td>\n",
              "      <td>1</td>\n",
              "      <td>0</td>\n",
              "      <td>0</td>\n",
              "      <td>0</td>\n",
              "      <td>0.0</td>\n",
              "      <td>24909.449219</td>\n",
              "    </tr>\n",
              "    <tr>\n",
              "      <th>3</th>\n",
              "      <td>0.486487</td>\n",
              "      <td>3454.171875</td>\n",
              "      <td>Lalonde Sample</td>\n",
              "      <td>1</td>\n",
              "      <td>27</td>\n",
              "      <td>11</td>\n",
              "      <td>1</td>\n",
              "      <td>0</td>\n",
              "      <td>0</td>\n",
              "      <td>1</td>\n",
              "      <td>0.0</td>\n",
              "      <td>7506.145996</td>\n",
              "    </tr>\n",
              "    <tr>\n",
              "      <th>4</th>\n",
              "      <td>0.486487</td>\n",
              "      <td>-16805.341797</td>\n",
              "      <td>Lalonde Sample</td>\n",
              "      <td>1</td>\n",
              "      <td>33</td>\n",
              "      <td>8</td>\n",
              "      <td>1</td>\n",
              "      <td>0</td>\n",
              "      <td>0</td>\n",
              "      <td>1</td>\n",
              "      <td>0.0</td>\n",
              "      <td>289.789886</td>\n",
              "    </tr>\n",
              "  </tbody>\n",
              "</table>\n",
              "</div>"
            ],
            "text/plain": [
              "         ps           ITE         data_id  ...  nodegree  re75          re78\n",
              "0  0.433946  -7674.987305  Lalonde Sample  ...         1   0.0   9930.045898\n",
              "1  0.486487  -2245.755127  Lalonde Sample  ...         1   0.0   3595.894043\n",
              "2  0.496239   4774.103516  Lalonde Sample  ...         0   0.0  24909.449219\n",
              "3  0.486487   3454.171875  Lalonde Sample  ...         1   0.0   7506.145996\n",
              "4  0.486487 -16805.341797  Lalonde Sample  ...         1   0.0    289.789886\n",
              "\n",
              "[5 rows x 12 columns]"
            ]
          },
          "metadata": {
            "tags": []
          },
          "execution_count": 111
        }
      ]
    },
    {
      "cell_type": "code",
      "metadata": {
        "id": "HbY6KsLnpEnX",
        "colab_type": "code",
        "colab": {
          "base_uri": "https://localhost:8080/",
          "height": 289
        },
        "outputId": "295a0aa7-b761-49bb-cf56-23a58ea56bf9"
      },
      "source": [
        "tmlgeain = get_tmlegain(df=df.drop(columns=UNNECESSARY_COLUMNS),inference_col=FEATURE_COLUMNS, \n",
        "                                    learner=XGBRegressor(n_estimators=1000, random_state=SEED),\n",
        "                                    outcome_col=OUTCOME_COLUMN, treatment_col=TREATMENT_COLUMN, p_col=PS_COLUMN,ci=True)\n",
        "tmlgeain"
      ],
      "execution_count": 112,
      "outputs": [
        {
          "output_type": "stream",
          "text": [
            "[14:31:37] WARNING: /workspace/src/objective/regression_obj.cu:152: reg:linear is now deprecated in favor of reg:squarederror.\n",
            "[14:31:37] WARNING: /workspace/src/objective/regression_obj.cu:152: reg:linear is now deprecated in favor of reg:squarederror.\n"
          ],
          "name": "stdout"
        },
        {
          "output_type": "execute_result",
          "data": {
            "text/html": [
              "<div>\n",
              "<style scoped>\n",
              "    .dataframe tbody tr th:only-of-type {\n",
              "        vertical-align: middle;\n",
              "    }\n",
              "\n",
              "    .dataframe tbody tr th {\n",
              "        vertical-align: top;\n",
              "    }\n",
              "\n",
              "    .dataframe thead th {\n",
              "        text-align: right;\n",
              "    }\n",
              "</style>\n",
              "<table border=\"1\" class=\"dataframe\">\n",
              "  <thead>\n",
              "    <tr style=\"text-align: right;\">\n",
              "      <th></th>\n",
              "      <th>ITE</th>\n",
              "      <th>ITE LB</th>\n",
              "      <th>ITE UB</th>\n",
              "      <th>Random</th>\n",
              "    </tr>\n",
              "  </thead>\n",
              "  <tbody>\n",
              "    <tr>\n",
              "      <th>0.0</th>\n",
              "      <td>0.000000</td>\n",
              "      <td>0.000000</td>\n",
              "      <td>0.000000</td>\n",
              "      <td>0.000000</td>\n",
              "    </tr>\n",
              "    <tr>\n",
              "      <th>0.2</th>\n",
              "      <td>242.062984</td>\n",
              "      <td>49.002707</td>\n",
              "      <td>435.123261</td>\n",
              "      <td>122.406853</td>\n",
              "    </tr>\n",
              "    <tr>\n",
              "      <th>0.4</th>\n",
              "      <td>388.483032</td>\n",
              "      <td>-21.045297</td>\n",
              "      <td>798.011361</td>\n",
              "      <td>244.813706</td>\n",
              "    </tr>\n",
              "    <tr>\n",
              "      <th>0.6</th>\n",
              "      <td>380.281532</td>\n",
              "      <td>-279.031135</td>\n",
              "      <td>1039.594199</td>\n",
              "      <td>367.220558</td>\n",
              "    </tr>\n",
              "    <tr>\n",
              "      <th>0.8</th>\n",
              "      <td>363.958366</td>\n",
              "      <td>-490.773487</td>\n",
              "      <td>1218.690219</td>\n",
              "      <td>489.627411</td>\n",
              "    </tr>\n",
              "    <tr>\n",
              "      <th>1.0</th>\n",
              "      <td>612.034264</td>\n",
              "      <td>134.181500</td>\n",
              "      <td>1089.887028</td>\n",
              "      <td>612.034264</td>\n",
              "    </tr>\n",
              "  </tbody>\n",
              "</table>\n",
              "</div>"
            ],
            "text/plain": [
              "            ITE      ITE LB       ITE UB      Random\n",
              "0.0    0.000000    0.000000     0.000000    0.000000\n",
              "0.2  242.062984   49.002707   435.123261  122.406853\n",
              "0.4  388.483032  -21.045297   798.011361  244.813706\n",
              "0.6  380.281532 -279.031135  1039.594199  367.220558\n",
              "0.8  363.958366 -490.773487  1218.690219  489.627411\n",
              "1.0  612.034264  134.181500  1089.887028  612.034264"
            ]
          },
          "metadata": {
            "tags": []
          },
          "execution_count": 112
        }
      ]
    },
    {
      "cell_type": "code",
      "metadata": {
        "id": "jOJClvS47Pj7",
        "colab_type": "code",
        "colab": {
          "base_uri": "https://localhost:8080/",
          "height": 593
        },
        "outputId": "641a5299-8767-4e42-c7ba-fc8a6564636f"
      },
      "source": [
        "plot_tmlegain(df=df.drop(columns=UNNECESSARY_COLUMNS),inference_col=FEATURE_COLUMNS, \n",
        "              learner=XGBRegressor(n_estimators=1000, random_state=SEED),\n",
        "              outcome_col=OUTCOME_COLUMN, treatment_col=TREATMENT_COLUMN, p_col=PS_COLUMN,\n",
        "              n_segment=10)"
      ],
      "execution_count": 113,
      "outputs": [
        {
          "output_type": "stream",
          "text": [
            "[14:31:38] WARNING: /workspace/src/objective/regression_obj.cu:152: reg:linear is now deprecated in favor of reg:squarederror.\n",
            "[14:31:38] WARNING: /workspace/src/objective/regression_obj.cu:152: reg:linear is now deprecated in favor of reg:squarederror.\n"
          ],
          "name": "stdout"
        },
        {
          "output_type": "display_data",
          "data": {
            "image/png": "[encoded data removed]",
            "text/plain": [
              "<Figure size 576x576 with 1 Axes>"
            ]
          },
          "metadata": {
            "tags": []
          }
        }
      ]
    },
    {
      "cell_type": "markdown",
      "metadata": {
        "id": "yWZnFA3J84-R",
        "colab_type": "text"
      },
      "source": [
        "そんなに綺麗なupliftカーブを描いてくれない、、、そんなに精度よく無さそう<br>\n",
        "[公式チュートリアル:https://github.com/uber/causalml/blob/master/examples/validation_with_tmle.ipynb](https://github.com/uber/causalml/blob/master/examples/validation_with_tmle.ipynb)"
      ]
    },
    {
      "cell_type": "code",
      "metadata": {
        "id": "f7DFed6B-Lob",
        "colab_type": "code",
        "colab": {
          "base_uri": "https://localhost:8080/",
          "height": 593
        },
        "outputId": "f3dafb09-7c30-44dd-b816-fed4af1b03e0"
      },
      "source": [
        "plot_tmleqini(df=df.drop(columns=UNNECESSARY_COLUMNS),inference_col=FEATURE_COLUMNS, \n",
        "              learner=XGBRegressor(n_estimators=1000, random_state=SEED),\n",
        "              outcome_col=OUTCOME_COLUMN, treatment_col=TREATMENT_COLUMN, p_col=PS_COLUMN,\n",
        "              n_segment=10)"
      ],
      "execution_count": 114,
      "outputs": [
        {
          "output_type": "stream",
          "text": [
            "[14:31:39] WARNING: /workspace/src/objective/regression_obj.cu:152: reg:linear is now deprecated in favor of reg:squarederror.\n",
            "[14:31:39] WARNING: /workspace/src/objective/regression_obj.cu:152: reg:linear is now deprecated in favor of reg:squarederror.\n"
          ],
          "name": "stdout"
        },
        {
          "output_type": "display_data",
          "data": {
            "image/png": "[encoded data removed]",
            "text/plain": [
              "<Figure size 576x576 with 1 Axes>"
            ]
          },
          "metadata": {
            "tags": []
          }
        }
      ]
    },
    {
      "cell_type": "markdown",
      "metadata": {
        "id": "AoN6_fJrOJgD",
        "colab_type": "text"
      },
      "source": [
        "## 感度分析\n",
        "元のデータを一部変化させることで、推定された因果効果のロバスト性を確認する分析手法<br>\n",
        "causalmlドキュメントに挙げられている感度分析の種類\n",
        "* Placebo Treatment\n",
        "* Irrelevant Additional Confounder\n",
        "* Subset validation\n",
        "* Random Replace\n",
        "* Selection Bias\n"
      ]
    },
    {
      "cell_type": "code",
      "metadata": {
        "id": "-Qkxsl8_SgZk",
        "colab_type": "code",
        "colab": {
          "base_uri": "https://localhost:8080/",
          "height": 309
        },
        "outputId": "307128f7-d1cb-4dcf-f91b-acec7e3873d9"
      },
      "source": [
        "df.head()"
      ],
      "execution_count": 115,
      "outputs": [
        {
          "output_type": "execute_result",
          "data": {
            "text/html": [
              "<div>\n",
              "<style scoped>\n",
              "    .dataframe tbody tr th:only-of-type {\n",
              "        vertical-align: middle;\n",
              "    }\n",
              "\n",
              "    .dataframe tbody tr th {\n",
              "        vertical-align: top;\n",
              "    }\n",
              "\n",
              "    .dataframe thead th {\n",
              "        text-align: right;\n",
              "    }\n",
              "</style>\n",
              "<table border=\"1\" class=\"dataframe\">\n",
              "  <thead>\n",
              "    <tr style=\"text-align: right;\">\n",
              "      <th></th>\n",
              "      <th>ps</th>\n",
              "      <th>ITE</th>\n",
              "      <th>data_id</th>\n",
              "      <th>treat</th>\n",
              "      <th>age</th>\n",
              "      <th>education</th>\n",
              "      <th>black</th>\n",
              "      <th>hispanic</th>\n",
              "      <th>married</th>\n",
              "      <th>nodegree</th>\n",
              "      <th>re75</th>\n",
              "      <th>re78</th>\n",
              "    </tr>\n",
              "  </thead>\n",
              "  <tbody>\n",
              "    <tr>\n",
              "      <th>0</th>\n",
              "      <td>0.433946</td>\n",
              "      <td>-7674.987305</td>\n",
              "      <td>Lalonde Sample</td>\n",
              "      <td>1</td>\n",
              "      <td>37</td>\n",
              "      <td>11</td>\n",
              "      <td>1</td>\n",
              "      <td>0</td>\n",
              "      <td>1</td>\n",
              "      <td>1</td>\n",
              "      <td>0.0</td>\n",
              "      <td>9930.045898</td>\n",
              "    </tr>\n",
              "    <tr>\n",
              "      <th>1</th>\n",
              "      <td>0.486487</td>\n",
              "      <td>-2245.755127</td>\n",
              "      <td>Lalonde Sample</td>\n",
              "      <td>1</td>\n",
              "      <td>22</td>\n",
              "      <td>9</td>\n",
              "      <td>0</td>\n",
              "      <td>1</td>\n",
              "      <td>0</td>\n",
              "      <td>1</td>\n",
              "      <td>0.0</td>\n",
              "      <td>3595.894043</td>\n",
              "    </tr>\n",
              "    <tr>\n",
              "      <th>2</th>\n",
              "      <td>0.496239</td>\n",
              "      <td>4774.103516</td>\n",
              "      <td>Lalonde Sample</td>\n",
              "      <td>1</td>\n",
              "      <td>30</td>\n",
              "      <td>12</td>\n",
              "      <td>1</td>\n",
              "      <td>0</td>\n",
              "      <td>0</td>\n",
              "      <td>0</td>\n",
              "      <td>0.0</td>\n",
              "      <td>24909.449219</td>\n",
              "    </tr>\n",
              "    <tr>\n",
              "      <th>3</th>\n",
              "      <td>0.486487</td>\n",
              "      <td>3454.171875</td>\n",
              "      <td>Lalonde Sample</td>\n",
              "      <td>1</td>\n",
              "      <td>27</td>\n",
              "      <td>11</td>\n",
              "      <td>1</td>\n",
              "      <td>0</td>\n",
              "      <td>0</td>\n",
              "      <td>1</td>\n",
              "      <td>0.0</td>\n",
              "      <td>7506.145996</td>\n",
              "    </tr>\n",
              "    <tr>\n",
              "      <th>4</th>\n",
              "      <td>0.486487</td>\n",
              "      <td>-16805.341797</td>\n",
              "      <td>Lalonde Sample</td>\n",
              "      <td>1</td>\n",
              "      <td>33</td>\n",
              "      <td>8</td>\n",
              "      <td>1</td>\n",
              "      <td>0</td>\n",
              "      <td>0</td>\n",
              "      <td>1</td>\n",
              "      <td>0.0</td>\n",
              "      <td>289.789886</td>\n",
              "    </tr>\n",
              "  </tbody>\n",
              "</table>\n",
              "</div>"
            ],
            "text/plain": [
              "         ps           ITE         data_id  ...  nodegree  re75          re78\n",
              "0  0.433946  -7674.987305  Lalonde Sample  ...         1   0.0   9930.045898\n",
              "1  0.486487  -2245.755127  Lalonde Sample  ...         1   0.0   3595.894043\n",
              "2  0.496239   4774.103516  Lalonde Sample  ...         0   0.0  24909.449219\n",
              "3  0.486487   3454.171875  Lalonde Sample  ...         1   0.0   7506.145996\n",
              "4  0.486487 -16805.341797  Lalonde Sample  ...         1   0.0    289.789886\n",
              "\n",
              "[5 rows x 12 columns]"
            ]
          },
          "metadata": {
            "tags": []
          },
          "execution_count": 115
        }
      ]
    },
    {
      "cell_type": "code",
      "metadata": {
        "id": "wqPLmOB2PM0p",
        "colab_type": "code",
        "colab": {
          "base_uri": "https://localhost:8080/",
          "height": 163
        },
        "outputId": "7153ccae-be22-41ab-fdc4-f65f4668362c"
      },
      "source": [
        "# Sensitivityクラスのインスタンス化\n",
        "sensitivity = Sensitivity(df=df.drop(columns=[','.join(UNNECESSARY_COLUMNS) , 'ITE']),\n",
        "                          inference_features=FEATURE_COLUMNS,\n",
        "                          p_col=PS_COLUMN, treatment_col=TREATMENT_COLUMN,\n",
        "                          outcome_col=OUTCOME_COLUMN, learner=x_learner)\n",
        "# ATEの再確認\n",
        "s_ate_ci = sensitivity.get_ate_ci(X=learner_input_X, p=learner_input_ps,\n",
        "                                  treatment=learner_input_t, y=learner_input_y)\n",
        "print('ATE:{ate}'.format(ate=s_ate_ci[0]))\n",
        "print('信頼区間の下限値(LB):{lb}'.format(lb=s_ate_ci[1]))\n",
        "print('信頼区間の上限値(UB):{ub}'.format(ub=s_ate_ci[2]))"
      ],
      "execution_count": 116,
      "outputs": [
        {
          "output_type": "stream",
          "text": [
            "[14:31:40] WARNING: /workspace/src/objective/regression_obj.cu:152: reg:linear is now deprecated in favor of reg:squarederror.\n",
            "[14:31:40] WARNING: /workspace/src/objective/regression_obj.cu:152: reg:linear is now deprecated in favor of reg:squarederror.\n",
            "[14:31:41] WARNING: /workspace/src/objective/regression_obj.cu:152: reg:linear is now deprecated in favor of reg:squarederror.\n",
            "[14:31:41] WARNING: /workspace/src/objective/regression_obj.cu:152: reg:linear is now deprecated in favor of reg:squarederror.\n",
            "ATE:882.7977300628071\n",
            "信頼区間の下限値(LB):310.3630819961652\n",
            "信頼区間の上限値(UB):1455.232378129449\n"
          ],
          "name": "stdout"
        }
      ]
    },
    {
      "cell_type": "code",
      "metadata": {
        "id": "d2XGk5PePF0n",
        "colab_type": "code",
        "colab": {
          "base_uri": "https://localhost:8080/",
          "height": 35
        },
        "outputId": "bfbd43d9-1108-4a63-855c-e181dd7b33e3"
      },
      "source": [
        "# causalmlで使用可能な感度分析一覧\n",
        "sensitivity_methods = ['Placebo Treatment', 'Random Cause',\n",
        "                      'Subset Data', 'Random Replace', \n",
        "                      'Selection Bias']\n",
        "sensitivity_methods"
      ],
      "execution_count": 117,
      "outputs": [
        {
          "output_type": "execute_result",
          "data": {
            "text/html": [
              "['Placebo Treatment', 'Random Cause', 'Subset Data', 'Random Replace', 'Selection Bias']"
            ],
            "text/plain": [
              "['Placebo Treatment',\n",
              " 'Random Cause',\n",
              " 'Subset Data',\n",
              " 'Random Replace',\n",
              " 'Selection Bias']"
            ]
          },
          "metadata": {
            "tags": []
          },
          "execution_count": 117
        }
      ]
    },
    {
      "cell_type": "markdown",
      "metadata": {
        "id": "B5QphDYIK7iV",
        "colab_type": "text"
      },
      "source": [
        "confound引数に渡せる関数一覧\n",
        "* one_sided\n",
        "* alignment\n",
        "* one_sided_att\n",
        "* alignment_att<br>\n",
        "[詳細：https://www.mattblackwell.org/files/papers/causalsens.pdf](https://www.mattblackwell.org/files/papers/causalsens.pdf)"
      ]
    },
    {
      "cell_type": "markdown",
      "metadata": {
        "id": "UK3PcBEXPf2E",
        "colab_type": "text"
      },
      "source": [
        "### sample_size=0.2"
      ]
    },
    {
      "cell_type": "code",
      "metadata": {
        "id": "pEIMOCwbQ6l2",
        "colab_type": "code",
        "colab": {
          "base_uri": "https://localhost:8080/",
          "height": 1000
        },
        "outputId": "06ba7e17-e84a-4a6a-ab97-eba92acea619"
      },
      "source": [
        "%%time\n",
        "sensitivity_result = sensitivity.sensitivity_analysis(methods=sensitivity_methods,\n",
        "                                             sample_size=0.2, confound='alignment')"
      ],
      "execution_count": 118,
      "outputs": [
        {
          "output_type": "stream",
          "text": [
            "[14:31:41] WARNING: /workspace/src/objective/regression_obj.cu:152: reg:linear is now deprecated in favor of reg:squarederror.\n",
            "[14:31:41] WARNING: /workspace/src/objective/regression_obj.cu:152: reg:linear is now deprecated in favor of reg:squarederror.\n",
            "[14:31:41] WARNING: /workspace/src/objective/regression_obj.cu:152: reg:linear is now deprecated in favor of reg:squarederror.\n",
            "[14:31:42] WARNING: /workspace/src/objective/regression_obj.cu:152: reg:linear is now deprecated in favor of reg:squarederror.\n",
            "[14:31:42] WARNING: /workspace/src/objective/regression_obj.cu:152: reg:linear is now deprecated in favor of reg:squarederror.\n",
            "[14:31:42] WARNING: /workspace/src/objective/regression_obj.cu:152: reg:linear is now deprecated in favor of reg:squarederror.\n",
            "[14:31:42] WARNING: /workspace/src/objective/regression_obj.cu:152: reg:linear is now deprecated in favor of reg:squarederror.\n",
            "[14:31:42] WARNING: /workspace/src/objective/regression_obj.cu:152: reg:linear is now deprecated in favor of reg:squarederror.\n",
            "[14:31:43] WARNING: /workspace/src/objective/regression_obj.cu:152: reg:linear is now deprecated in favor of reg:squarederror.\n",
            "[14:31:43] WARNING: /workspace/src/objective/regression_obj.cu:152: reg:linear is now deprecated in favor of reg:squarederror.\n",
            "[14:31:43] WARNING: /workspace/src/objective/regression_obj.cu:152: reg:linear is now deprecated in favor of reg:squarederror.\n",
            "[14:31:43] WARNING: /workspace/src/objective/regression_obj.cu:152: reg:linear is now deprecated in favor of reg:squarederror.\n",
            "[14:31:44] WARNING: /workspace/src/objective/regression_obj.cu:152: reg:linear is now deprecated in favor of reg:squarederror.\n",
            "[14:31:44] WARNING: /workspace/src/objective/regression_obj.cu:152: reg:linear is now deprecated in favor of reg:squarederror.\n",
            "[14:31:44] WARNING: /workspace/src/objective/regression_obj.cu:152: reg:linear is now deprecated in favor of reg:squarederror.\n",
            "[14:31:44] WARNING: /workspace/src/objective/regression_obj.cu:152: reg:linear is now deprecated in favor of reg:squarederror.\n",
            "[14:31:45] WARNING: /workspace/src/objective/regression_obj.cu:152: reg:linear is now deprecated in favor of reg:squarederror.\n",
            "[14:31:45] WARNING: /workspace/src/objective/regression_obj.cu:152: reg:linear is now deprecated in favor of reg:squarederror.\n",
            "[14:31:45] WARNING: /workspace/src/objective/regression_obj.cu:152: reg:linear is now deprecated in favor of reg:squarederror.\n",
            "[14:31:45] WARNING: /workspace/src/objective/regression_obj.cu:152: reg:linear is now deprecated in favor of reg:squarederror.\n",
            "[14:31:45] WARNING: /workspace/src/objective/regression_obj.cu:152: reg:linear is now deprecated in favor of reg:squarederror.\n",
            "[14:31:45] WARNING: /workspace/src/objective/regression_obj.cu:152: reg:linear is now deprecated in favor of reg:squarederror.\n",
            "[14:31:46] WARNING: /workspace/src/objective/regression_obj.cu:152: reg:linear is now deprecated in favor of reg:squarederror.\n",
            "[14:31:46] WARNING: /workspace/src/objective/regression_obj.cu:152: reg:linear is now deprecated in favor of reg:squarederror.\n",
            "[14:31:46] WARNING: /workspace/src/objective/regression_obj.cu:152: reg:linear is now deprecated in favor of reg:squarederror.\n",
            "[14:31:46] WARNING: /workspace/src/objective/regression_obj.cu:152: reg:linear is now deprecated in favor of reg:squarederror.\n",
            "[14:31:46] WARNING: /workspace/src/objective/regression_obj.cu:152: reg:linear is now deprecated in favor of reg:squarederror.\n",
            "[14:31:46] WARNING: /workspace/src/objective/regression_obj.cu:152: reg:linear is now deprecated in favor of reg:squarederror.\n",
            "[14:31:47] WARNING: /workspace/src/objective/regression_obj.cu:152: reg:linear is now deprecated in favor of reg:squarederror.\n",
            "[14:31:47] WARNING: /workspace/src/objective/regression_obj.cu:152: reg:linear is now deprecated in favor of reg:squarederror.\n",
            "[14:31:47] WARNING: /workspace/src/objective/regression_obj.cu:152: reg:linear is now deprecated in favor of reg:squarederror.\n",
            "[14:31:47] WARNING: /workspace/src/objective/regression_obj.cu:152: reg:linear is now deprecated in favor of reg:squarederror.\n",
            "[14:31:47] WARNING: /workspace/src/objective/regression_obj.cu:152: reg:linear is now deprecated in favor of reg:squarederror.\n",
            "[14:31:48] WARNING: /workspace/src/objective/regression_obj.cu:152: reg:linear is now deprecated in favor of reg:squarederror.\n",
            "[14:31:48] WARNING: /workspace/src/objective/regression_obj.cu:152: reg:linear is now deprecated in favor of reg:squarederror.\n",
            "[14:31:48] WARNING: /workspace/src/objective/regression_obj.cu:152: reg:linear is now deprecated in favor of reg:squarederror.\n",
            "[14:31:48] WARNING: /workspace/src/objective/regression_obj.cu:152: reg:linear is now deprecated in favor of reg:squarederror.\n",
            "[14:31:49] WARNING: /workspace/src/objective/regression_obj.cu:152: reg:linear is now deprecated in favor of reg:squarederror.\n",
            "[14:31:49] WARNING: /workspace/src/objective/regression_obj.cu:152: reg:linear is now deprecated in favor of reg:squarederror.\n",
            "[14:31:49] WARNING: /workspace/src/objective/regression_obj.cu:152: reg:linear is now deprecated in favor of reg:squarederror.\n",
            "[14:31:49] WARNING: /workspace/src/objective/regression_obj.cu:152: reg:linear is now deprecated in favor of reg:squarederror.\n",
            "[14:31:49] WARNING: /workspace/src/objective/regression_obj.cu:152: reg:linear is now deprecated in favor of reg:squarederror.\n",
            "[14:31:50] WARNING: /workspace/src/objective/regression_obj.cu:152: reg:linear is now deprecated in favor of reg:squarederror.\n",
            "[14:31:50] WARNING: /workspace/src/objective/regression_obj.cu:152: reg:linear is now deprecated in favor of reg:squarederror.\n",
            "[14:31:50] WARNING: /workspace/src/objective/regression_obj.cu:152: reg:linear is now deprecated in favor of reg:squarederror.\n",
            "[14:31:50] WARNING: /workspace/src/objective/regression_obj.cu:152: reg:linear is now deprecated in favor of reg:squarederror.\n",
            "[14:31:50] WARNING: /workspace/src/objective/regression_obj.cu:152: reg:linear is now deprecated in favor of reg:squarederror.\n",
            "[14:31:51] WARNING: /workspace/src/objective/regression_obj.cu:152: reg:linear is now deprecated in favor of reg:squarederror.\n",
            "[14:31:51] WARNING: /workspace/src/objective/regression_obj.cu:152: reg:linear is now deprecated in favor of reg:squarederror.\n",
            "[14:31:51] WARNING: /workspace/src/objective/regression_obj.cu:152: reg:linear is now deprecated in favor of reg:squarederror.\n",
            "[14:31:51] WARNING: /workspace/src/objective/regression_obj.cu:152: reg:linear is now deprecated in favor of reg:squarederror.\n",
            "[14:31:51] WARNING: /workspace/src/objective/regression_obj.cu:152: reg:linear is now deprecated in favor of reg:squarederror.\n",
            "[14:31:52] WARNING: /workspace/src/objective/regression_obj.cu:152: reg:linear is now deprecated in favor of reg:squarederror.\n",
            "[14:31:52] WARNING: /workspace/src/objective/regression_obj.cu:152: reg:linear is now deprecated in favor of reg:squarederror.\n",
            "[14:31:52] WARNING: /workspace/src/objective/regression_obj.cu:152: reg:linear is now deprecated in favor of reg:squarederror.\n",
            "[14:31:52] WARNING: /workspace/src/objective/regression_obj.cu:152: reg:linear is now deprecated in favor of reg:squarederror.\n",
            "[14:31:53] WARNING: /workspace/src/objective/regression_obj.cu:152: reg:linear is now deprecated in favor of reg:squarederror.\n",
            "[14:31:53] WARNING: /workspace/src/objective/regression_obj.cu:152: reg:linear is now deprecated in favor of reg:squarederror.\n",
            "[14:31:53] WARNING: /workspace/src/objective/regression_obj.cu:152: reg:linear is now deprecated in favor of reg:squarederror.\n",
            "[14:31:53] WARNING: /workspace/src/objective/regression_obj.cu:152: reg:linear is now deprecated in favor of reg:squarederror.\n",
            "[14:31:53] WARNING: /workspace/src/objective/regression_obj.cu:152: reg:linear is now deprecated in favor of reg:squarederror.\n",
            "[14:31:54] WARNING: /workspace/src/objective/regression_obj.cu:152: reg:linear is now deprecated in favor of reg:squarederror.\n",
            "[14:31:54] WARNING: /workspace/src/objective/regression_obj.cu:152: reg:linear is now deprecated in favor of reg:squarederror.\n",
            "[14:31:54] WARNING: /workspace/src/objective/regression_obj.cu:152: reg:linear is now deprecated in favor of reg:squarederror.\n",
            "[14:31:54] WARNING: /workspace/src/objective/regression_obj.cu:152: reg:linear is now deprecated in favor of reg:squarederror.\n",
            "[14:31:54] WARNING: /workspace/src/objective/regression_obj.cu:152: reg:linear is now deprecated in favor of reg:squarederror.\n",
            "[14:31:55] WARNING: /workspace/src/objective/regression_obj.cu:152: reg:linear is now deprecated in favor of reg:squarederror.\n",
            "[14:31:55] WARNING: /workspace/src/objective/regression_obj.cu:152: reg:linear is now deprecated in favor of reg:squarederror.\n",
            "[14:31:55] WARNING: /workspace/src/objective/regression_obj.cu:152: reg:linear is now deprecated in favor of reg:squarederror.\n",
            "[14:31:55] WARNING: /workspace/src/objective/regression_obj.cu:152: reg:linear is now deprecated in favor of reg:squarederror.\n",
            "[14:31:55] WARNING: /workspace/src/objective/regression_obj.cu:152: reg:linear is now deprecated in favor of reg:squarederror.\n",
            "[14:31:56] WARNING: /workspace/src/objective/regression_obj.cu:152: reg:linear is now deprecated in favor of reg:squarederror.\n",
            "[14:31:56] WARNING: /workspace/src/objective/regression_obj.cu:152: reg:linear is now deprecated in favor of reg:squarederror.\n",
            "[14:31:56] WARNING: /workspace/src/objective/regression_obj.cu:152: reg:linear is now deprecated in favor of reg:squarederror.\n",
            "[14:31:56] WARNING: /workspace/src/objective/regression_obj.cu:152: reg:linear is now deprecated in favor of reg:squarederror.\n",
            "[14:31:57] WARNING: /workspace/src/objective/regression_obj.cu:152: reg:linear is now deprecated in favor of reg:squarederror.\n",
            "[14:31:57] WARNING: /workspace/src/objective/regression_obj.cu:152: reg:linear is now deprecated in favor of reg:squarederror.\n",
            "[14:31:57] WARNING: /workspace/src/objective/regression_obj.cu:152: reg:linear is now deprecated in favor of reg:squarederror.\n",
            "[14:31:57] WARNING: /workspace/src/objective/regression_obj.cu:152: reg:linear is now deprecated in favor of reg:squarederror.\n",
            "[14:31:57] WARNING: /workspace/src/objective/regression_obj.cu:152: reg:linear is now deprecated in favor of reg:squarederror.\n",
            "[14:31:58] WARNING: /workspace/src/objective/regression_obj.cu:152: reg:linear is now deprecated in favor of reg:squarederror.\n",
            "[14:31:58] WARNING: /workspace/src/objective/regression_obj.cu:152: reg:linear is now deprecated in favor of reg:squarederror.\n",
            "[14:31:58] WARNING: /workspace/src/objective/regression_obj.cu:152: reg:linear is now deprecated in favor of reg:squarederror.\n",
            "[14:31:58] WARNING: /workspace/src/objective/regression_obj.cu:152: reg:linear is now deprecated in favor of reg:squarederror.\n",
            "[14:31:58] WARNING: /workspace/src/objective/regression_obj.cu:152: reg:linear is now deprecated in favor of reg:squarederror.\n",
            "[14:31:59] WARNING: /workspace/src/objective/regression_obj.cu:152: reg:linear is now deprecated in favor of reg:squarederror.\n",
            "[14:31:59] WARNING: /workspace/src/objective/regression_obj.cu:152: reg:linear is now deprecated in favor of reg:squarederror.\n",
            "[14:31:59] WARNING: /workspace/src/objective/regression_obj.cu:152: reg:linear is now deprecated in favor of reg:squarederror.\n",
            "[14:31:59] WARNING: /workspace/src/objective/regression_obj.cu:152: reg:linear is now deprecated in favor of reg:squarederror.\n",
            "[14:32:00] WARNING: /workspace/src/objective/regression_obj.cu:152: reg:linear is now deprecated in favor of reg:squarederror.\n",
            "[14:32:00] WARNING: /workspace/src/objective/regression_obj.cu:152: reg:linear is now deprecated in favor of reg:squarederror.\n",
            "[14:32:00] WARNING: /workspace/src/objective/regression_obj.cu:152: reg:linear is now deprecated in favor of reg:squarederror.\n",
            "[14:32:00] WARNING: /workspace/src/objective/regression_obj.cu:152: reg:linear is now deprecated in favor of reg:squarederror.\n",
            "[14:32:00] WARNING: /workspace/src/objective/regression_obj.cu:152: reg:linear is now deprecated in favor of reg:squarederror.\n",
            "[14:32:01] WARNING: /workspace/src/objective/regression_obj.cu:152: reg:linear is now deprecated in favor of reg:squarederror.\n",
            "[14:32:01] WARNING: /workspace/src/objective/regression_obj.cu:152: reg:linear is now deprecated in favor of reg:squarederror.\n",
            "[14:32:01] WARNING: /workspace/src/objective/regression_obj.cu:152: reg:linear is now deprecated in favor of reg:squarederror.\n",
            "[14:32:01] WARNING: /workspace/src/objective/regression_obj.cu:152: reg:linear is now deprecated in favor of reg:squarederror.\n",
            "[14:32:01] WARNING: /workspace/src/objective/regression_obj.cu:152: reg:linear is now deprecated in favor of reg:squarederror.\n",
            "[14:32:02] WARNING: /workspace/src/objective/regression_obj.cu:152: reg:linear is now deprecated in favor of reg:squarederror.\n",
            "[14:32:02] WARNING: /workspace/src/objective/regression_obj.cu:152: reg:linear is now deprecated in favor of reg:squarederror.\n",
            "[14:32:02] WARNING: /workspace/src/objective/regression_obj.cu:152: reg:linear is now deprecated in favor of reg:squarederror.\n",
            "[14:32:02] WARNING: /workspace/src/objective/regression_obj.cu:152: reg:linear is now deprecated in favor of reg:squarederror.\n",
            "[14:32:02] WARNING: /workspace/src/objective/regression_obj.cu:152: reg:linear is now deprecated in favor of reg:squarederror.\n",
            "[14:32:03] WARNING: /workspace/src/objective/regression_obj.cu:152: reg:linear is now deprecated in favor of reg:squarederror.\n",
            "[14:32:03] WARNING: /workspace/src/objective/regression_obj.cu:152: reg:linear is now deprecated in favor of reg:squarederror.\n",
            "[14:32:03] WARNING: /workspace/src/objective/regression_obj.cu:152: reg:linear is now deprecated in favor of reg:squarederror.\n",
            "[14:32:03] WARNING: /workspace/src/objective/regression_obj.cu:152: reg:linear is now deprecated in favor of reg:squarederror.\n",
            "[14:32:03] WARNING: /workspace/src/objective/regression_obj.cu:152: reg:linear is now deprecated in favor of reg:squarederror.\n",
            "[14:32:04] WARNING: /workspace/src/objective/regression_obj.cu:152: reg:linear is now deprecated in favor of reg:squarederror.\n",
            "[14:32:04] WARNING: /workspace/src/objective/regression_obj.cu:152: reg:linear is now deprecated in favor of reg:squarederror.\n",
            "[14:32:04] WARNING: /workspace/src/objective/regression_obj.cu:152: reg:linear is now deprecated in favor of reg:squarederror.\n",
            "[14:32:04] WARNING: /workspace/src/objective/regression_obj.cu:152: reg:linear is now deprecated in favor of reg:squarederror.\n",
            "[14:32:05] WARNING: /workspace/src/objective/regression_obj.cu:152: reg:linear is now deprecated in favor of reg:squarederror.\n",
            "[14:32:05] WARNING: /workspace/src/objective/regression_obj.cu:152: reg:linear is now deprecated in favor of reg:squarederror.\n",
            "[14:32:05] WARNING: /workspace/src/objective/regression_obj.cu:152: reg:linear is now deprecated in favor of reg:squarederror.\n",
            "[14:32:05] WARNING: /workspace/src/objective/regression_obj.cu:152: reg:linear is now deprecated in favor of reg:squarederror.\n",
            "[14:32:05] WARNING: /workspace/src/objective/regression_obj.cu:152: reg:linear is now deprecated in favor of reg:squarederror.\n",
            "[14:32:06] WARNING: /workspace/src/objective/regression_obj.cu:152: reg:linear is now deprecated in favor of reg:squarederror.\n",
            "[14:32:06] WARNING: /workspace/src/objective/regression_obj.cu:152: reg:linear is now deprecated in favor of reg:squarederror.\n",
            "[14:32:06] WARNING: /workspace/src/objective/regression_obj.cu:152: reg:linear is now deprecated in favor of reg:squarederror.\n",
            "[14:32:06] WARNING: /workspace/src/objective/regression_obj.cu:152: reg:linear is now deprecated in favor of reg:squarederror.\n",
            "[14:32:06] WARNING: /workspace/src/objective/regression_obj.cu:152: reg:linear is now deprecated in favor of reg:squarederror.\n",
            "[14:32:07] WARNING: /workspace/src/objective/regression_obj.cu:152: reg:linear is now deprecated in favor of reg:squarederror.\n",
            "[14:32:07] WARNING: /workspace/src/objective/regression_obj.cu:152: reg:linear is now deprecated in favor of reg:squarederror.\n",
            "[14:32:07] WARNING: /workspace/src/objective/regression_obj.cu:152: reg:linear is now deprecated in favor of reg:squarederror.\n",
            "[14:32:07] WARNING: /workspace/src/objective/regression_obj.cu:152: reg:linear is now deprecated in favor of reg:squarederror.\n",
            "[14:32:07] WARNING: /workspace/src/objective/regression_obj.cu:152: reg:linear is now deprecated in favor of reg:squarederror.\n",
            "[14:32:08] WARNING: /workspace/src/objective/regression_obj.cu:152: reg:linear is now deprecated in favor of reg:squarederror.\n",
            "[14:32:08] WARNING: /workspace/src/objective/regression_obj.cu:152: reg:linear is now deprecated in favor of reg:squarederror.\n",
            "[14:32:08] WARNING: /workspace/src/objective/regression_obj.cu:152: reg:linear is now deprecated in favor of reg:squarederror.\n",
            "[14:32:08] WARNING: /workspace/src/objective/regression_obj.cu:152: reg:linear is now deprecated in favor of reg:squarederror.\n",
            "[14:32:08] WARNING: /workspace/src/objective/regression_obj.cu:152: reg:linear is now deprecated in favor of reg:squarederror.\n",
            "[14:32:09] WARNING: /workspace/src/objective/regression_obj.cu:152: reg:linear is now deprecated in favor of reg:squarederror.\n",
            "[14:32:09] WARNING: /workspace/src/objective/regression_obj.cu:152: reg:linear is now deprecated in favor of reg:squarederror.\n",
            "[14:32:09] WARNING: /workspace/src/objective/regression_obj.cu:152: reg:linear is now deprecated in favor of reg:squarederror.\n",
            "[14:32:09] WARNING: /workspace/src/objective/regression_obj.cu:152: reg:linear is now deprecated in favor of reg:squarederror.\n",
            "[14:32:09] WARNING: /workspace/src/objective/regression_obj.cu:152: reg:linear is now deprecated in favor of reg:squarederror.\n",
            "[14:32:10] WARNING: /workspace/src/objective/regression_obj.cu:152: reg:linear is now deprecated in favor of reg:squarederror.\n",
            "[14:32:10] WARNING: /workspace/src/objective/regression_obj.cu:152: reg:linear is now deprecated in favor of reg:squarederror.\n",
            "[14:32:10] WARNING: /workspace/src/objective/regression_obj.cu:152: reg:linear is now deprecated in favor of reg:squarederror.\n",
            "[14:32:10] WARNING: /workspace/src/objective/regression_obj.cu:152: reg:linear is now deprecated in favor of reg:squarederror.\n",
            "[14:32:10] WARNING: /workspace/src/objective/regression_obj.cu:152: reg:linear is now deprecated in favor of reg:squarederror.\n",
            "[14:32:11] WARNING: /workspace/src/objective/regression_obj.cu:152: reg:linear is now deprecated in favor of reg:squarederror.\n",
            "[14:32:11] WARNING: /workspace/src/objective/regression_obj.cu:152: reg:linear is now deprecated in favor of reg:squarederror.\n",
            "[14:32:11] WARNING: /workspace/src/objective/regression_obj.cu:152: reg:linear is now deprecated in favor of reg:squarederror.\n",
            "[14:32:11] WARNING: /workspace/src/objective/regression_obj.cu:152: reg:linear is now deprecated in favor of reg:squarederror.\n",
            "[14:32:11] WARNING: /workspace/src/objective/regression_obj.cu:152: reg:linear is now deprecated in favor of reg:squarederror.\n",
            "[14:32:12] WARNING: /workspace/src/objective/regression_obj.cu:152: reg:linear is now deprecated in favor of reg:squarederror.\n",
            "[14:32:12] WARNING: /workspace/src/objective/regression_obj.cu:152: reg:linear is now deprecated in favor of reg:squarederror.\n",
            "[14:32:12] WARNING: /workspace/src/objective/regression_obj.cu:152: reg:linear is now deprecated in favor of reg:squarederror.\n",
            "[14:32:12] WARNING: /workspace/src/objective/regression_obj.cu:152: reg:linear is now deprecated in favor of reg:squarederror.\n",
            "CPU times: user 30.6 s, sys: 868 ms, total: 31.5 s\n",
            "Wall time: 31.5 s\n"
          ],
          "name": "stdout"
        }
      ]
    },
    {
      "cell_type": "code",
      "metadata": {
        "id": "LwmGEAOeUuXH",
        "colab_type": "code",
        "colab": {
          "base_uri": "https://localhost:8080/",
          "height": 509
        },
        "outputId": "7659cb58-aaf0-4ce6-b52b-34558ceffa04"
      },
      "source": [
        "pd.options.display.max_colwidth = 100\n",
        "sensitivity_result"
      ],
      "execution_count": 119,
      "outputs": [
        {
          "output_type": "execute_result",
          "data": {
            "text/html": [
              "<div>\n",
              "<style scoped>\n",
              "    .dataframe tbody tr th:only-of-type {\n",
              "        vertical-align: middle;\n",
              "    }\n",
              "\n",
              "    .dataframe tbody tr th {\n",
              "        vertical-align: top;\n",
              "    }\n",
              "\n",
              "    .dataframe thead th {\n",
              "        text-align: right;\n",
              "    }\n",
              "</style>\n",
              "<table border=\"1\" class=\"dataframe\">\n",
              "  <thead>\n",
              "    <tr style=\"text-align: right;\">\n",
              "      <th></th>\n",
              "      <th>Method</th>\n",
              "      <th>ATE</th>\n",
              "      <th>New ATE</th>\n",
              "      <th>New ATE LB</th>\n",
              "      <th>New ATE UB</th>\n",
              "    </tr>\n",
              "  </thead>\n",
              "  <tbody>\n",
              "    <tr>\n",
              "      <th>0</th>\n",
              "      <td>Placebo Treatment</td>\n",
              "      <td>885.045</td>\n",
              "      <td>573.84</td>\n",
              "      <td>43.7381</td>\n",
              "      <td>1103.94</td>\n",
              "    </tr>\n",
              "    <tr>\n",
              "      <th>0</th>\n",
              "      <td>Random Cause</td>\n",
              "      <td>885.045</td>\n",
              "      <td>591.866</td>\n",
              "      <td>159.539</td>\n",
              "      <td>1024.19</td>\n",
              "    </tr>\n",
              "    <tr>\n",
              "      <th>0</th>\n",
              "      <td>Subset Data(sample size @0.2)</td>\n",
              "      <td>885.045</td>\n",
              "      <td>720.237</td>\n",
              "      <td>-675.223</td>\n",
              "      <td>2115.7</td>\n",
              "    </tr>\n",
              "    <tr>\n",
              "      <th>0</th>\n",
              "      <td>Random Replace</td>\n",
              "      <td>885.045</td>\n",
              "      <td>460.433</td>\n",
              "      <td>43.8803</td>\n",
              "      <td>876.986</td>\n",
              "    </tr>\n",
              "    <tr>\n",
              "      <th>0</th>\n",
              "      <td>Selection Bias (alpha@-4386.0022, with r-sqaure:0.06845</td>\n",
              "      <td>885.045</td>\n",
              "      <td>969.377</td>\n",
              "      <td>402.259</td>\n",
              "      <td>1536.49</td>\n",
              "    </tr>\n",
              "    <tr>\n",
              "      <th>0</th>\n",
              "      <td>Selection Bias (alpha@-3508.80176, with r-sqaure:0.04376</td>\n",
              "      <td>885.045</td>\n",
              "      <td>1003.06</td>\n",
              "      <td>439.609</td>\n",
              "      <td>1566.51</td>\n",
              "    </tr>\n",
              "    <tr>\n",
              "      <th>0</th>\n",
              "      <td>Selection Bias (alpha@-2631.60132, with r-sqaure:0.02431</td>\n",
              "      <td>885.045</td>\n",
              "      <td>954.494</td>\n",
              "      <td>382.632</td>\n",
              "      <td>1526.36</td>\n",
              "    </tr>\n",
              "    <tr>\n",
              "      <th>0</th>\n",
              "      <td>Selection Bias (alpha@-1754.40088, with r-sqaure:0.01108</td>\n",
              "      <td>885.045</td>\n",
              "      <td>958.742</td>\n",
              "      <td>393.443</td>\n",
              "      <td>1524.04</td>\n",
              "    </tr>\n",
              "    <tr>\n",
              "      <th>0</th>\n",
              "      <td>Selection Bias (alpha@-877.20044, with r-sqaure:0.00272</td>\n",
              "      <td>885.045</td>\n",
              "      <td>982.191</td>\n",
              "      <td>410.372</td>\n",
              "      <td>1554.01</td>\n",
              "    </tr>\n",
              "    <tr>\n",
              "      <th>0</th>\n",
              "      <td>Selection Bias (alpha@0.0, with r-sqaure:0.0</td>\n",
              "      <td>885.045</td>\n",
              "      <td>885.045</td>\n",
              "      <td>313.111</td>\n",
              "      <td>1456.98</td>\n",
              "    </tr>\n",
              "    <tr>\n",
              "      <th>0</th>\n",
              "      <td>Selection Bias (alpha@877.20044, with r-sqaure:0.00275</td>\n",
              "      <td>885.045</td>\n",
              "      <td>928.059</td>\n",
              "      <td>360.604</td>\n",
              "      <td>1495.51</td>\n",
              "    </tr>\n",
              "    <tr>\n",
              "      <th>0</th>\n",
              "      <td>Selection Bias (alpha@1754.40088, with r-sqaure:0.01099</td>\n",
              "      <td>885.045</td>\n",
              "      <td>860.905</td>\n",
              "      <td>298.025</td>\n",
              "      <td>1423.79</td>\n",
              "    </tr>\n",
              "    <tr>\n",
              "      <th>0</th>\n",
              "      <td>Selection Bias (alpha@2631.60132, with r-sqaure:0.02456</td>\n",
              "      <td>885.045</td>\n",
              "      <td>835.471</td>\n",
              "      <td>272.129</td>\n",
              "      <td>1398.81</td>\n",
              "    </tr>\n",
              "    <tr>\n",
              "      <th>0</th>\n",
              "      <td>Selection Bias (alpha@3508.80176, with r-sqaure:0.04433</td>\n",
              "      <td>885.045</td>\n",
              "      <td>867.618</td>\n",
              "      <td>304.869</td>\n",
              "      <td>1430.37</td>\n",
              "    </tr>\n",
              "    <tr>\n",
              "      <th>0</th>\n",
              "      <td>Selection Bias (alpha@4386.0022, with r-sqaure:0.06867</td>\n",
              "      <td>885.045</td>\n",
              "      <td>845.416</td>\n",
              "      <td>280.053</td>\n",
              "      <td>1410.78</td>\n",
              "    </tr>\n",
              "  </tbody>\n",
              "</table>\n",
              "</div>"
            ],
            "text/plain": [
              "                                                     Method  ... New ATE UB\n",
              "0                                         Placebo Treatment  ...    1103.94\n",
              "0                                              Random Cause  ...    1024.19\n",
              "0                             Subset Data(sample size @0.2)  ...     2115.7\n",
              "0                                            Random Replace  ...    876.986\n",
              "0   Selection Bias (alpha@-4386.0022, with r-sqaure:0.06845  ...    1536.49\n",
              "0  Selection Bias (alpha@-3508.80176, with r-sqaure:0.04376  ...    1566.51\n",
              "0  Selection Bias (alpha@-2631.60132, with r-sqaure:0.02431  ...    1526.36\n",
              "0  Selection Bias (alpha@-1754.40088, with r-sqaure:0.01108  ...    1524.04\n",
              "0   Selection Bias (alpha@-877.20044, with r-sqaure:0.00272  ...    1554.01\n",
              "0              Selection Bias (alpha@0.0, with r-sqaure:0.0  ...    1456.98\n",
              "0    Selection Bias (alpha@877.20044, with r-sqaure:0.00275  ...    1495.51\n",
              "0   Selection Bias (alpha@1754.40088, with r-sqaure:0.01099  ...    1423.79\n",
              "0   Selection Bias (alpha@2631.60132, with r-sqaure:0.02456  ...    1398.81\n",
              "0   Selection Bias (alpha@3508.80176, with r-sqaure:0.04433  ...    1430.37\n",
              "0    Selection Bias (alpha@4386.0022, with r-sqaure:0.06867  ...    1410.78\n",
              "\n",
              "[15 rows x 5 columns]"
            ]
          },
          "metadata": {
            "tags": []
          },
          "execution_count": 119
        }
      ]
    },
    {
      "cell_type": "markdown",
      "metadata": {
        "id": "Oe7VuDN_PqIR",
        "colab_type": "text"
      },
      "source": [
        "### sample_size=0.5"
      ]
    },
    {
      "cell_type": "code",
      "metadata": {
        "id": "r43VLXUbYR7P",
        "colab_type": "code",
        "colab": {
          "base_uri": "https://localhost:8080/",
          "height": 1000
        },
        "outputId": "30c93e59-ba13-4455-a9dc-9e2e6b249bef"
      },
      "source": [
        "%%time\n",
        "sensitivity_result = sensitivity.sensitivity_analysis(methods=sensitivity_methods,\n",
        "                                             sample_size=0.5, confound='alignment')"
      ],
      "execution_count": 120,
      "outputs": [
        {
          "output_type": "stream",
          "text": [
            "[14:32:54] WARNING: /workspace/src/objective/regression_obj.cu:152: reg:linear is now deprecated in favor of reg:squarederror.\n",
            "[14:32:54] WARNING: /workspace/src/objective/regression_obj.cu:152: reg:linear is now deprecated in favor of reg:squarederror.\n",
            "[14:32:54] WARNING: /workspace/src/objective/regression_obj.cu:152: reg:linear is now deprecated in favor of reg:squarederror.\n",
            "[14:32:54] WARNING: /workspace/src/objective/regression_obj.cu:152: reg:linear is now deprecated in favor of reg:squarederror.\n",
            "[14:32:55] WARNING: /workspace/src/objective/regression_obj.cu:152: reg:linear is now deprecated in favor of reg:squarederror.\n",
            "[14:32:55] WARNING: /workspace/src/objective/regression_obj.cu:152: reg:linear is now deprecated in favor of reg:squarederror.\n",
            "[14:32:55] WARNING: /workspace/src/objective/regression_obj.cu:152: reg:linear is now deprecated in favor of reg:squarederror.\n",
            "[14:32:55] WARNING: /workspace/src/objective/regression_obj.cu:152: reg:linear is now deprecated in favor of reg:squarederror.\n",
            "[14:32:55] WARNING: /workspace/src/objective/regression_obj.cu:152: reg:linear is now deprecated in favor of reg:squarederror.\n",
            "[14:32:56] WARNING: /workspace/src/objective/regression_obj.cu:152: reg:linear is now deprecated in favor of reg:squarederror.\n",
            "[14:32:56] WARNING: /workspace/src/objective/regression_obj.cu:152: reg:linear is now deprecated in favor of reg:squarederror.\n",
            "[14:32:56] WARNING: /workspace/src/objective/regression_obj.cu:152: reg:linear is now deprecated in favor of reg:squarederror.\n",
            "[14:32:56] WARNING: /workspace/src/objective/regression_obj.cu:152: reg:linear is now deprecated in favor of reg:squarederror.\n",
            "[14:32:57] WARNING: /workspace/src/objective/regression_obj.cu:152: reg:linear is now deprecated in favor of reg:squarederror.\n",
            "[14:32:57] WARNING: /workspace/src/objective/regression_obj.cu:152: reg:linear is now deprecated in favor of reg:squarederror.\n",
            "[14:32:57] WARNING: /workspace/src/objective/regression_obj.cu:152: reg:linear is now deprecated in favor of reg:squarederror.\n",
            "[14:32:57] WARNING: /workspace/src/objective/regression_obj.cu:152: reg:linear is now deprecated in favor of reg:squarederror.\n",
            "[14:32:58] WARNING: /workspace/src/objective/regression_obj.cu:152: reg:linear is now deprecated in favor of reg:squarederror.\n",
            "[14:32:58] WARNING: /workspace/src/objective/regression_obj.cu:152: reg:linear is now deprecated in favor of reg:squarederror.\n",
            "[14:32:58] WARNING: /workspace/src/objective/regression_obj.cu:152: reg:linear is now deprecated in favor of reg:squarederror.\n",
            "[14:32:58] WARNING: /workspace/src/objective/regression_obj.cu:152: reg:linear is now deprecated in favor of reg:squarederror.\n",
            "[14:32:58] WARNING: /workspace/src/objective/regression_obj.cu:152: reg:linear is now deprecated in favor of reg:squarederror.\n",
            "[14:32:58] WARNING: /workspace/src/objective/regression_obj.cu:152: reg:linear is now deprecated in favor of reg:squarederror.\n",
            "[14:32:59] WARNING: /workspace/src/objective/regression_obj.cu:152: reg:linear is now deprecated in favor of reg:squarederror.\n",
            "[14:32:59] WARNING: /workspace/src/objective/regression_obj.cu:152: reg:linear is now deprecated in favor of reg:squarederror.\n",
            "[14:32:59] WARNING: /workspace/src/objective/regression_obj.cu:152: reg:linear is now deprecated in favor of reg:squarederror.\n",
            "[14:32:59] WARNING: /workspace/src/objective/regression_obj.cu:152: reg:linear is now deprecated in favor of reg:squarederror.\n",
            "[14:32:59] WARNING: /workspace/src/objective/regression_obj.cu:152: reg:linear is now deprecated in favor of reg:squarederror.\n",
            "[14:33:00] WARNING: /workspace/src/objective/regression_obj.cu:152: reg:linear is now deprecated in favor of reg:squarederror.\n",
            "[14:33:00] WARNING: /workspace/src/objective/regression_obj.cu:152: reg:linear is now deprecated in favor of reg:squarederror.\n",
            "[14:33:00] WARNING: /workspace/src/objective/regression_obj.cu:152: reg:linear is now deprecated in favor of reg:squarederror.\n",
            "[14:33:00] WARNING: /workspace/src/objective/regression_obj.cu:152: reg:linear is now deprecated in favor of reg:squarederror.\n",
            "[14:33:00] WARNING: /workspace/src/objective/regression_obj.cu:152: reg:linear is now deprecated in favor of reg:squarederror.\n",
            "[14:33:01] WARNING: /workspace/src/objective/regression_obj.cu:152: reg:linear is now deprecated in favor of reg:squarederror.\n",
            "[14:33:01] WARNING: /workspace/src/objective/regression_obj.cu:152: reg:linear is now deprecated in favor of reg:squarederror.\n",
            "[14:33:01] WARNING: /workspace/src/objective/regression_obj.cu:152: reg:linear is now deprecated in favor of reg:squarederror.\n",
            "[14:33:01] WARNING: /workspace/src/objective/regression_obj.cu:152: reg:linear is now deprecated in favor of reg:squarederror.\n",
            "[14:33:01] WARNING: /workspace/src/objective/regression_obj.cu:152: reg:linear is now deprecated in favor of reg:squarederror.\n",
            "[14:33:02] WARNING: /workspace/src/objective/regression_obj.cu:152: reg:linear is now deprecated in favor of reg:squarederror.\n",
            "[14:33:02] WARNING: /workspace/src/objective/regression_obj.cu:152: reg:linear is now deprecated in favor of reg:squarederror.\n",
            "[14:33:02] WARNING: /workspace/src/objective/regression_obj.cu:152: reg:linear is now deprecated in favor of reg:squarederror.\n",
            "[14:33:02] WARNING: /workspace/src/objective/regression_obj.cu:152: reg:linear is now deprecated in favor of reg:squarederror.\n",
            "[14:33:03] WARNING: /workspace/src/objective/regression_obj.cu:152: reg:linear is now deprecated in favor of reg:squarederror.\n",
            "[14:33:03] WARNING: /workspace/src/objective/regression_obj.cu:152: reg:linear is now deprecated in favor of reg:squarederror.\n",
            "[14:33:03] WARNING: /workspace/src/objective/regression_obj.cu:152: reg:linear is now deprecated in favor of reg:squarederror.\n",
            "[14:33:03] WARNING: /workspace/src/objective/regression_obj.cu:152: reg:linear is now deprecated in favor of reg:squarederror.\n",
            "[14:33:03] WARNING: /workspace/src/objective/regression_obj.cu:152: reg:linear is now deprecated in favor of reg:squarederror.\n",
            "[14:33:04] WARNING: /workspace/src/objective/regression_obj.cu:152: reg:linear is now deprecated in favor of reg:squarederror.\n",
            "[14:33:04] WARNING: /workspace/src/objective/regression_obj.cu:152: reg:linear is now deprecated in favor of reg:squarederror.\n",
            "[14:33:04] WARNING: /workspace/src/objective/regression_obj.cu:152: reg:linear is now deprecated in favor of reg:squarederror.\n",
            "[14:33:04] WARNING: /workspace/src/objective/regression_obj.cu:152: reg:linear is now deprecated in favor of reg:squarederror.\n",
            "[14:33:04] WARNING: /workspace/src/objective/regression_obj.cu:152: reg:linear is now deprecated in favor of reg:squarederror.\n",
            "[14:33:05] WARNING: /workspace/src/objective/regression_obj.cu:152: reg:linear is now deprecated in favor of reg:squarederror.\n",
            "[14:33:05] WARNING: /workspace/src/objective/regression_obj.cu:152: reg:linear is now deprecated in favor of reg:squarederror.\n",
            "[14:33:05] WARNING: /workspace/src/objective/regression_obj.cu:152: reg:linear is now deprecated in favor of reg:squarederror.\n",
            "[14:33:05] WARNING: /workspace/src/objective/regression_obj.cu:152: reg:linear is now deprecated in favor of reg:squarederror.\n",
            "[14:33:06] WARNING: /workspace/src/objective/regression_obj.cu:152: reg:linear is now deprecated in favor of reg:squarederror.\n",
            "[14:33:06] WARNING: /workspace/src/objective/regression_obj.cu:152: reg:linear is now deprecated in favor of reg:squarederror.\n",
            "[14:33:06] WARNING: /workspace/src/objective/regression_obj.cu:152: reg:linear is now deprecated in favor of reg:squarederror.\n",
            "[14:33:06] WARNING: /workspace/src/objective/regression_obj.cu:152: reg:linear is now deprecated in favor of reg:squarederror.\n",
            "[14:33:06] WARNING: /workspace/src/objective/regression_obj.cu:152: reg:linear is now deprecated in favor of reg:squarederror.\n",
            "[14:33:07] WARNING: /workspace/src/objective/regression_obj.cu:152: reg:linear is now deprecated in favor of reg:squarederror.\n",
            "[14:33:07] WARNING: /workspace/src/objective/regression_obj.cu:152: reg:linear is now deprecated in favor of reg:squarederror.\n",
            "[14:33:07] WARNING: /workspace/src/objective/regression_obj.cu:152: reg:linear is now deprecated in favor of reg:squarederror.\n",
            "[14:33:07] WARNING: /workspace/src/objective/regression_obj.cu:152: reg:linear is now deprecated in favor of reg:squarederror.\n",
            "[14:33:07] WARNING: /workspace/src/objective/regression_obj.cu:152: reg:linear is now deprecated in favor of reg:squarederror.\n",
            "[14:33:08] WARNING: /workspace/src/objective/regression_obj.cu:152: reg:linear is now deprecated in favor of reg:squarederror.\n",
            "[14:33:08] WARNING: /workspace/src/objective/regression_obj.cu:152: reg:linear is now deprecated in favor of reg:squarederror.\n",
            "[14:33:08] WARNING: /workspace/src/objective/regression_obj.cu:152: reg:linear is now deprecated in favor of reg:squarederror.\n",
            "[14:33:08] WARNING: /workspace/src/objective/regression_obj.cu:152: reg:linear is now deprecated in favor of reg:squarederror.\n",
            "[14:33:08] WARNING: /workspace/src/objective/regression_obj.cu:152: reg:linear is now deprecated in favor of reg:squarederror.\n",
            "[14:33:09] WARNING: /workspace/src/objective/regression_obj.cu:152: reg:linear is now deprecated in favor of reg:squarederror.\n",
            "[14:33:09] WARNING: /workspace/src/objective/regression_obj.cu:152: reg:linear is now deprecated in favor of reg:squarederror.\n",
            "[14:33:09] WARNING: /workspace/src/objective/regression_obj.cu:152: reg:linear is now deprecated in favor of reg:squarederror.\n",
            "[14:33:09] WARNING: /workspace/src/objective/regression_obj.cu:152: reg:linear is now deprecated in favor of reg:squarederror.\n",
            "[14:33:10] WARNING: /workspace/src/objective/regression_obj.cu:152: reg:linear is now deprecated in favor of reg:squarederror.\n",
            "[14:33:10] WARNING: /workspace/src/objective/regression_obj.cu:152: reg:linear is now deprecated in favor of reg:squarederror.\n",
            "[14:33:10] WARNING: /workspace/src/objective/regression_obj.cu:152: reg:linear is now deprecated in favor of reg:squarederror.\n",
            "[14:33:10] WARNING: /workspace/src/objective/regression_obj.cu:152: reg:linear is now deprecated in favor of reg:squarederror.\n",
            "[14:33:10] WARNING: /workspace/src/objective/regression_obj.cu:152: reg:linear is now deprecated in favor of reg:squarederror.\n",
            "[14:33:11] WARNING: /workspace/src/objective/regression_obj.cu:152: reg:linear is now deprecated in favor of reg:squarederror.\n",
            "[14:33:11] WARNING: /workspace/src/objective/regression_obj.cu:152: reg:linear is now deprecated in favor of reg:squarederror.\n",
            "[14:33:11] WARNING: /workspace/src/objective/regression_obj.cu:152: reg:linear is now deprecated in favor of reg:squarederror.\n",
            "[14:33:11] WARNING: /workspace/src/objective/regression_obj.cu:152: reg:linear is now deprecated in favor of reg:squarederror.\n",
            "[14:33:11] WARNING: /workspace/src/objective/regression_obj.cu:152: reg:linear is now deprecated in favor of reg:squarederror.\n",
            "[14:33:12] WARNING: /workspace/src/objective/regression_obj.cu:152: reg:linear is now deprecated in favor of reg:squarederror.\n",
            "[14:33:12] WARNING: /workspace/src/objective/regression_obj.cu:152: reg:linear is now deprecated in favor of reg:squarederror.\n",
            "[14:33:12] WARNING: /workspace/src/objective/regression_obj.cu:152: reg:linear is now deprecated in favor of reg:squarederror.\n",
            "[14:33:12] WARNING: /workspace/src/objective/regression_obj.cu:152: reg:linear is now deprecated in favor of reg:squarederror.\n",
            "[14:33:12] WARNING: /workspace/src/objective/regression_obj.cu:152: reg:linear is now deprecated in favor of reg:squarederror.\n",
            "[14:33:13] WARNING: /workspace/src/objective/regression_obj.cu:152: reg:linear is now deprecated in favor of reg:squarederror.\n",
            "[14:33:13] WARNING: /workspace/src/objective/regression_obj.cu:152: reg:linear is now deprecated in favor of reg:squarederror.\n",
            "[14:33:13] WARNING: /workspace/src/objective/regression_obj.cu:152: reg:linear is now deprecated in favor of reg:squarederror.\n",
            "[14:33:13] WARNING: /workspace/src/objective/regression_obj.cu:152: reg:linear is now deprecated in favor of reg:squarederror.\n",
            "[14:33:14] WARNING: /workspace/src/objective/regression_obj.cu:152: reg:linear is now deprecated in favor of reg:squarederror.\n",
            "[14:33:14] WARNING: /workspace/src/objective/regression_obj.cu:152: reg:linear is now deprecated in favor of reg:squarederror.\n",
            "[14:33:14] WARNING: /workspace/src/objective/regression_obj.cu:152: reg:linear is now deprecated in favor of reg:squarederror.\n",
            "[14:33:14] WARNING: /workspace/src/objective/regression_obj.cu:152: reg:linear is now deprecated in favor of reg:squarederror.\n",
            "[14:33:14] WARNING: /workspace/src/objective/regression_obj.cu:152: reg:linear is now deprecated in favor of reg:squarederror.\n",
            "[14:33:15] WARNING: /workspace/src/objective/regression_obj.cu:152: reg:linear is now deprecated in favor of reg:squarederror.\n",
            "[14:33:15] WARNING: /workspace/src/objective/regression_obj.cu:152: reg:linear is now deprecated in favor of reg:squarederror.\n",
            "[14:33:15] WARNING: /workspace/src/objective/regression_obj.cu:152: reg:linear is now deprecated in favor of reg:squarederror.\n",
            "[14:33:15] WARNING: /workspace/src/objective/regression_obj.cu:152: reg:linear is now deprecated in favor of reg:squarederror.\n",
            "[14:33:15] WARNING: /workspace/src/objective/regression_obj.cu:152: reg:linear is now deprecated in favor of reg:squarederror.\n",
            "[14:33:16] WARNING: /workspace/src/objective/regression_obj.cu:152: reg:linear is now deprecated in favor of reg:squarederror.\n",
            "[14:33:16] WARNING: /workspace/src/objective/regression_obj.cu:152: reg:linear is now deprecated in favor of reg:squarederror.\n",
            "[14:33:16] WARNING: /workspace/src/objective/regression_obj.cu:152: reg:linear is now deprecated in favor of reg:squarederror.\n",
            "[14:33:16] WARNING: /workspace/src/objective/regression_obj.cu:152: reg:linear is now deprecated in favor of reg:squarederror.\n",
            "[14:33:17] WARNING: /workspace/src/objective/regression_obj.cu:152: reg:linear is now deprecated in favor of reg:squarederror.\n",
            "[14:33:17] WARNING: /workspace/src/objective/regression_obj.cu:152: reg:linear is now deprecated in favor of reg:squarederror.\n",
            "[14:33:17] WARNING: /workspace/src/objective/regression_obj.cu:152: reg:linear is now deprecated in favor of reg:squarederror.\n",
            "[14:33:17] WARNING: /workspace/src/objective/regression_obj.cu:152: reg:linear is now deprecated in favor of reg:squarederror.\n",
            "[14:33:17] WARNING: /workspace/src/objective/regression_obj.cu:152: reg:linear is now deprecated in favor of reg:squarederror.\n",
            "[14:33:18] WARNING: /workspace/src/objective/regression_obj.cu:152: reg:linear is now deprecated in favor of reg:squarederror.\n",
            "[14:33:18] WARNING: /workspace/src/objective/regression_obj.cu:152: reg:linear is now deprecated in favor of reg:squarederror.\n",
            "[14:33:18] WARNING: /workspace/src/objective/regression_obj.cu:152: reg:linear is now deprecated in favor of reg:squarederror.\n",
            "[14:33:18] WARNING: /workspace/src/objective/regression_obj.cu:152: reg:linear is now deprecated in favor of reg:squarederror.\n",
            "[14:33:18] WARNING: /workspace/src/objective/regression_obj.cu:152: reg:linear is now deprecated in favor of reg:squarederror.\n",
            "[14:33:19] WARNING: /workspace/src/objective/regression_obj.cu:152: reg:linear is now deprecated in favor of reg:squarederror.\n",
            "[14:33:19] WARNING: /workspace/src/objective/regression_obj.cu:152: reg:linear is now deprecated in favor of reg:squarederror.\n",
            "[14:33:19] WARNING: /workspace/src/objective/regression_obj.cu:152: reg:linear is now deprecated in favor of reg:squarederror.\n",
            "[14:33:19] WARNING: /workspace/src/objective/regression_obj.cu:152: reg:linear is now deprecated in favor of reg:squarederror.\n",
            "[14:33:20] WARNING: /workspace/src/objective/regression_obj.cu:152: reg:linear is now deprecated in favor of reg:squarederror.\n",
            "[14:33:20] WARNING: /workspace/src/objective/regression_obj.cu:152: reg:linear is now deprecated in favor of reg:squarederror.\n",
            "[14:33:20] WARNING: /workspace/src/objective/regression_obj.cu:152: reg:linear is now deprecated in favor of reg:squarederror.\n",
            "[14:33:20] WARNING: /workspace/src/objective/regression_obj.cu:152: reg:linear is now deprecated in favor of reg:squarederror.\n",
            "[14:33:20] WARNING: /workspace/src/objective/regression_obj.cu:152: reg:linear is now deprecated in favor of reg:squarederror.\n",
            "[14:33:21] WARNING: /workspace/src/objective/regression_obj.cu:152: reg:linear is now deprecated in favor of reg:squarederror.\n",
            "[14:33:21] WARNING: /workspace/src/objective/regression_obj.cu:152: reg:linear is now deprecated in favor of reg:squarederror.\n",
            "[14:33:21] WARNING: /workspace/src/objective/regression_obj.cu:152: reg:linear is now deprecated in favor of reg:squarederror.\n",
            "[14:33:21] WARNING: /workspace/src/objective/regression_obj.cu:152: reg:linear is now deprecated in favor of reg:squarederror.\n",
            "[14:33:21] WARNING: /workspace/src/objective/regression_obj.cu:152: reg:linear is now deprecated in favor of reg:squarederror.\n",
            "[14:33:22] WARNING: /workspace/src/objective/regression_obj.cu:152: reg:linear is now deprecated in favor of reg:squarederror.\n",
            "[14:33:22] WARNING: /workspace/src/objective/regression_obj.cu:152: reg:linear is now deprecated in favor of reg:squarederror.\n",
            "[14:33:22] WARNING: /workspace/src/objective/regression_obj.cu:152: reg:linear is now deprecated in favor of reg:squarederror.\n",
            "[14:33:22] WARNING: /workspace/src/objective/regression_obj.cu:152: reg:linear is now deprecated in favor of reg:squarederror.\n",
            "[14:33:22] WARNING: /workspace/src/objective/regression_obj.cu:152: reg:linear is now deprecated in favor of reg:squarederror.\n",
            "[14:33:23] WARNING: /workspace/src/objective/regression_obj.cu:152: reg:linear is now deprecated in favor of reg:squarederror.\n",
            "[14:33:23] WARNING: /workspace/src/objective/regression_obj.cu:152: reg:linear is now deprecated in favor of reg:squarederror.\n",
            "[14:33:23] WARNING: /workspace/src/objective/regression_obj.cu:152: reg:linear is now deprecated in favor of reg:squarederror.\n",
            "[14:33:23] WARNING: /workspace/src/objective/regression_obj.cu:152: reg:linear is now deprecated in favor of reg:squarederror.\n",
            "[14:33:23] WARNING: /workspace/src/objective/regression_obj.cu:152: reg:linear is now deprecated in favor of reg:squarederror.\n",
            "[14:33:24] WARNING: /workspace/src/objective/regression_obj.cu:152: reg:linear is now deprecated in favor of reg:squarederror.\n",
            "[14:33:24] WARNING: /workspace/src/objective/regression_obj.cu:152: reg:linear is now deprecated in favor of reg:squarederror.\n",
            "[14:33:24] WARNING: /workspace/src/objective/regression_obj.cu:152: reg:linear is now deprecated in favor of reg:squarederror.\n",
            "[14:33:24] WARNING: /workspace/src/objective/regression_obj.cu:152: reg:linear is now deprecated in favor of reg:squarederror.\n",
            "[14:33:24] WARNING: /workspace/src/objective/regression_obj.cu:152: reg:linear is now deprecated in favor of reg:squarederror.\n",
            "[14:33:25] WARNING: /workspace/src/objective/regression_obj.cu:152: reg:linear is now deprecated in favor of reg:squarederror.\n",
            "[14:33:25] WARNING: /workspace/src/objective/regression_obj.cu:152: reg:linear is now deprecated in favor of reg:squarederror.\n",
            "[14:33:25] WARNING: /workspace/src/objective/regression_obj.cu:152: reg:linear is now deprecated in favor of reg:squarederror.\n",
            "[14:33:25] WARNING: /workspace/src/objective/regression_obj.cu:152: reg:linear is now deprecated in favor of reg:squarederror.\n",
            "[14:33:25] WARNING: /workspace/src/objective/regression_obj.cu:152: reg:linear is now deprecated in favor of reg:squarederror.\n",
            "CPU times: user 31 s, sys: 847 ms, total: 31.8 s\n",
            "Wall time: 31.8 s\n"
          ],
          "name": "stdout"
        }
      ]
    },
    {
      "cell_type": "code",
      "metadata": {
        "id": "ooUuK8z5PbjN",
        "colab_type": "code",
        "colab": {
          "base_uri": "https://localhost:8080/",
          "height": 509
        },
        "outputId": "24985106-fdc1-4698-da6e-71f00d143b23"
      },
      "source": [
        "pd.options.display.max_colwidth = 100\n",
        "sensitivity_result"
      ],
      "execution_count": 121,
      "outputs": [
        {
          "output_type": "execute_result",
          "data": {
            "text/html": [
              "<div>\n",
              "<style scoped>\n",
              "    .dataframe tbody tr th:only-of-type {\n",
              "        vertical-align: middle;\n",
              "    }\n",
              "\n",
              "    .dataframe tbody tr th {\n",
              "        vertical-align: top;\n",
              "    }\n",
              "\n",
              "    .dataframe thead th {\n",
              "        text-align: right;\n",
              "    }\n",
              "</style>\n",
              "<table border=\"1\" class=\"dataframe\">\n",
              "  <thead>\n",
              "    <tr style=\"text-align: right;\">\n",
              "      <th></th>\n",
              "      <th>Method</th>\n",
              "      <th>ATE</th>\n",
              "      <th>New ATE</th>\n",
              "      <th>New ATE LB</th>\n",
              "      <th>New ATE UB</th>\n",
              "    </tr>\n",
              "  </thead>\n",
              "  <tbody>\n",
              "    <tr>\n",
              "      <th>0</th>\n",
              "      <td>Placebo Treatment</td>\n",
              "      <td>885.045</td>\n",
              "      <td>56.9952</td>\n",
              "      <td>-516.076</td>\n",
              "      <td>630.066</td>\n",
              "    </tr>\n",
              "    <tr>\n",
              "      <th>0</th>\n",
              "      <td>Random Cause</td>\n",
              "      <td>885.045</td>\n",
              "      <td>983.919</td>\n",
              "      <td>499.101</td>\n",
              "      <td>1468.74</td>\n",
              "    </tr>\n",
              "    <tr>\n",
              "      <th>0</th>\n",
              "      <td>Subset Data(sample size @0.5)</td>\n",
              "      <td>885.045</td>\n",
              "      <td>483.443</td>\n",
              "      <td>-346.136</td>\n",
              "      <td>1313.02</td>\n",
              "    </tr>\n",
              "    <tr>\n",
              "      <th>0</th>\n",
              "      <td>Random Replace</td>\n",
              "      <td>885.045</td>\n",
              "      <td>1269.9</td>\n",
              "      <td>787.607</td>\n",
              "      <td>1752.2</td>\n",
              "    </tr>\n",
              "    <tr>\n",
              "      <th>0</th>\n",
              "      <td>Selection Bias (alpha@-4386.0022, with r-sqaure:0.06845</td>\n",
              "      <td>885.045</td>\n",
              "      <td>969.377</td>\n",
              "      <td>402.259</td>\n",
              "      <td>1536.49</td>\n",
              "    </tr>\n",
              "    <tr>\n",
              "      <th>0</th>\n",
              "      <td>Selection Bias (alpha@-3508.80176, with r-sqaure:0.04376</td>\n",
              "      <td>885.045</td>\n",
              "      <td>1003.06</td>\n",
              "      <td>439.609</td>\n",
              "      <td>1566.51</td>\n",
              "    </tr>\n",
              "    <tr>\n",
              "      <th>0</th>\n",
              "      <td>Selection Bias (alpha@-2631.60132, with r-sqaure:0.02431</td>\n",
              "      <td>885.045</td>\n",
              "      <td>954.494</td>\n",
              "      <td>382.632</td>\n",
              "      <td>1526.36</td>\n",
              "    </tr>\n",
              "    <tr>\n",
              "      <th>0</th>\n",
              "      <td>Selection Bias (alpha@-1754.40088, with r-sqaure:0.01108</td>\n",
              "      <td>885.045</td>\n",
              "      <td>958.742</td>\n",
              "      <td>393.443</td>\n",
              "      <td>1524.04</td>\n",
              "    </tr>\n",
              "    <tr>\n",
              "      <th>0</th>\n",
              "      <td>Selection Bias (alpha@-877.20044, with r-sqaure:0.00272</td>\n",
              "      <td>885.045</td>\n",
              "      <td>982.191</td>\n",
              "      <td>410.372</td>\n",
              "      <td>1554.01</td>\n",
              "    </tr>\n",
              "    <tr>\n",
              "      <th>0</th>\n",
              "      <td>Selection Bias (alpha@0.0, with r-sqaure:0.0</td>\n",
              "      <td>885.045</td>\n",
              "      <td>885.045</td>\n",
              "      <td>313.111</td>\n",
              "      <td>1456.98</td>\n",
              "    </tr>\n",
              "    <tr>\n",
              "      <th>0</th>\n",
              "      <td>Selection Bias (alpha@877.20044, with r-sqaure:0.00275</td>\n",
              "      <td>885.045</td>\n",
              "      <td>928.059</td>\n",
              "      <td>360.604</td>\n",
              "      <td>1495.51</td>\n",
              "    </tr>\n",
              "    <tr>\n",
              "      <th>0</th>\n",
              "      <td>Selection Bias (alpha@1754.40088, with r-sqaure:0.01099</td>\n",
              "      <td>885.045</td>\n",
              "      <td>860.905</td>\n",
              "      <td>298.025</td>\n",
              "      <td>1423.79</td>\n",
              "    </tr>\n",
              "    <tr>\n",
              "      <th>0</th>\n",
              "      <td>Selection Bias (alpha@2631.60132, with r-sqaure:0.02456</td>\n",
              "      <td>885.045</td>\n",
              "      <td>835.471</td>\n",
              "      <td>272.129</td>\n",
              "      <td>1398.81</td>\n",
              "    </tr>\n",
              "    <tr>\n",
              "      <th>0</th>\n",
              "      <td>Selection Bias (alpha@3508.80176, with r-sqaure:0.04433</td>\n",
              "      <td>885.045</td>\n",
              "      <td>867.618</td>\n",
              "      <td>304.869</td>\n",
              "      <td>1430.37</td>\n",
              "    </tr>\n",
              "    <tr>\n",
              "      <th>0</th>\n",
              "      <td>Selection Bias (alpha@4386.0022, with r-sqaure:0.06867</td>\n",
              "      <td>885.045</td>\n",
              "      <td>845.416</td>\n",
              "      <td>280.053</td>\n",
              "      <td>1410.78</td>\n",
              "    </tr>\n",
              "  </tbody>\n",
              "</table>\n",
              "</div>"
            ],
            "text/plain": [
              "                                                     Method  ... New ATE UB\n",
              "0                                         Placebo Treatment  ...    630.066\n",
              "0                                              Random Cause  ...    1468.74\n",
              "0                             Subset Data(sample size @0.5)  ...    1313.02\n",
              "0                                            Random Replace  ...     1752.2\n",
              "0   Selection Bias (alpha@-4386.0022, with r-sqaure:0.06845  ...    1536.49\n",
              "0  Selection Bias (alpha@-3508.80176, with r-sqaure:0.04376  ...    1566.51\n",
              "0  Selection Bias (alpha@-2631.60132, with r-sqaure:0.02431  ...    1526.36\n",
              "0  Selection Bias (alpha@-1754.40088, with r-sqaure:0.01108  ...    1524.04\n",
              "0   Selection Bias (alpha@-877.20044, with r-sqaure:0.00272  ...    1554.01\n",
              "0              Selection Bias (alpha@0.0, with r-sqaure:0.0  ...    1456.98\n",
              "0    Selection Bias (alpha@877.20044, with r-sqaure:0.00275  ...    1495.51\n",
              "0   Selection Bias (alpha@1754.40088, with r-sqaure:0.01099  ...    1423.79\n",
              "0   Selection Bias (alpha@2631.60132, with r-sqaure:0.02456  ...    1398.81\n",
              "0   Selection Bias (alpha@3508.80176, with r-sqaure:0.04433  ...    1430.37\n",
              "0    Selection Bias (alpha@4386.0022, with r-sqaure:0.06867  ...    1410.78\n",
              "\n",
              "[15 rows x 5 columns]"
            ]
          },
          "metadata": {
            "tags": []
          },
          "execution_count": 121
        }
      ]
    },
    {
      "cell_type": "code",
      "metadata": {
        "id": "QVPDcdJKPlVz",
        "colab_type": "code",
        "colab": {}
      },
      "source": [
        ""
      ],
      "execution_count": null,
      "outputs": []
    }
  ]
}