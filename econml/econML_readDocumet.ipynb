{
  "nbformat": 4,
  "nbformat_minor": 0,
  "metadata": {
    "colab": {
      "name": "econML_readDocumet.ipynb",
      "provenance": [],
      "collapsed_sections": [],
      "authorship_tag": "ABX9TyO9GPueO5Z/jTGh96w0tsIG",
      "include_colab_link": true
    },
    "kernelspec": {
      "name": "python3",
      "display_name": "Python 3"
    }
  },
  "cells": [
    {
      "cell_type": "markdown",
      "metadata": {
        "id": "view-in-github",
        "colab_type": "text"
      },
      "source": [
        "<a href=\"https://colab.research.google.com/github/Itsuki-Hamano123/practice-casualeffect/blob/master/econml/econML_readDocumet.ipynb\" target=\"_parent\"><img src=\"https://colab.research.google.com/assets/colab-badge.svg\" alt=\"Open In Colab\"/></a>"
      ]
    },
    {
      "cell_type": "markdown",
      "metadata": {
        "id": "IWL6WkYIdUi_",
        "colab_type": "text"
      },
      "source": [
        "# econMLのドキュメントを読んでみる\n",
        "[公式ドキュメント](https://econml.azurewebsites.net/index.html)"
      ]
    },
    {
      "cell_type": "markdown",
      "metadata": {
        "id": "8Kfbcibldzvd",
        "colab_type": "text"
      },
      "source": [
        "## ecnMLについて\n",
        "- Microsoft　Researchが提供している因果推論用ライブラリ（2020/3/7時点：ver0.7.0）\n",
        "   - RCTが成り立っていない不均衡データに対してCATE、marginal CATEを求められる\n",
        "      - **CATE：Conditional Average Treatment Effect**<br>\n",
        "      $t(treatment)$が離散値の場合の$ATE$\n",
        "      $${\\tau}(t_0,t_1,x)=E[Y(t_1)-Y(t_0)|X=x]$$ \n",
        "      - **marginal CATE：marginal Conditional Average Treatment Effect**<br>\n",
        "      $t(tratment)$が連続値の場合の$ATE$\n",
        "      $${\\partial \\tau}(t,x)=E[{\\nabla}_tY(t)|X=x]$$"
      ]
    },
    {
      "cell_type": "code",
      "metadata": {
        "id": "RM_a1GNldINk",
        "colab_type": "code",
        "colab": {
          "base_uri": "https://localhost:8080/",
          "height": 757
        },
        "outputId": "873a3361-57d6-4bcd-bcbd-0d1f0d6ee3e6"
      },
      "source": [
        "!pip install econml"
      ],
      "execution_count": 1,
      "outputs": [
        {
          "output_type": "stream",
          "text": [
            "Requirement already satisfied: econml in /usr/local/lib/python3.6/dist-packages (0.6.1)\n",
            "Requirement already satisfied: keras in /usr/local/lib/python3.6/dist-packages (from econml) (2.2.5)\n",
            "Requirement already satisfied: scipy in /usr/local/lib/python3.6/dist-packages (from econml) (1.4.1)\n",
            "Requirement already satisfied: statsmodels>=0.9 in /usr/local/lib/python3.6/dist-packages (from econml) (0.10.2)\n",
            "Requirement already satisfied: sparse in /usr/local/lib/python3.6/dist-packages (from econml) (0.9.1)\n",
            "Requirement already satisfied: numba!=0.42.1 in /usr/local/lib/python3.6/dist-packages (from econml) (0.47.0)\n",
            "Requirement already satisfied: graphviz in /usr/local/lib/python3.6/dist-packages (from econml) (0.10.1)\n",
            "Requirement already satisfied: tensorflow==1.* in /usr/local/lib/python3.6/dist-packages (from econml) (1.15.0)\n",
            "Requirement already satisfied: numpy in /usr/local/lib/python3.6/dist-packages (from econml) (1.17.5)\n",
            "Requirement already satisfied: scikit-learn~=0.21.0 in /usr/local/lib/python3.6/dist-packages (from econml) (0.21.3)\n",
            "Requirement already satisfied: matplotlib<3.1 in /usr/local/lib/python3.6/dist-packages (from econml) (3.0.3)\n",
            "Requirement already satisfied: joblib>=0.13.0 in /usr/local/lib/python3.6/dist-packages (from econml) (0.14.1)\n",
            "Requirement already satisfied: keras-applications>=1.0.8 in /usr/local/lib/python3.6/dist-packages (from keras->econml) (1.0.8)\n",
            "Requirement already satisfied: h5py in /usr/local/lib/python3.6/dist-packages (from keras->econml) (2.8.0)\n",
            "Requirement already satisfied: six>=1.9.0 in /usr/local/lib/python3.6/dist-packages (from keras->econml) (1.12.0)\n",
            "Requirement already satisfied: pyyaml in /usr/local/lib/python3.6/dist-packages (from keras->econml) (3.13)\n",
            "Requirement already satisfied: keras-preprocessing>=1.1.0 in /usr/local/lib/python3.6/dist-packages (from keras->econml) (1.1.0)\n",
            "Requirement already satisfied: patsy>=0.4.0 in /usr/local/lib/python3.6/dist-packages (from statsmodels>=0.9->econml) (0.5.1)\n",
            "Requirement already satisfied: pandas>=0.19 in /usr/local/lib/python3.6/dist-packages (from statsmodels>=0.9->econml) (0.25.3)\n",
            "Requirement already satisfied: setuptools in /usr/local/lib/python3.6/dist-packages (from numba!=0.42.1->econml) (45.2.0)\n",
            "Requirement already satisfied: llvmlite>=0.31.0dev0 in /usr/local/lib/python3.6/dist-packages (from numba!=0.42.1->econml) (0.31.0)\n",
            "Requirement already satisfied: tensorflow-estimator==1.15.1 in /usr/local/lib/python3.6/dist-packages (from tensorflow==1.*->econml) (1.15.1)\n",
            "Requirement already satisfied: grpcio>=1.8.6 in /usr/local/lib/python3.6/dist-packages (from tensorflow==1.*->econml) (1.27.1)\n",
            "Requirement already satisfied: astor>=0.6.0 in /usr/local/lib/python3.6/dist-packages (from tensorflow==1.*->econml) (0.8.1)\n",
            "Requirement already satisfied: protobuf>=3.6.1 in /usr/local/lib/python3.6/dist-packages (from tensorflow==1.*->econml) (3.10.0)\n",
            "Requirement already satisfied: wheel>=0.26 in /usr/local/lib/python3.6/dist-packages (from tensorflow==1.*->econml) (0.34.2)\n",
            "Requirement already satisfied: gast==0.2.2 in /usr/local/lib/python3.6/dist-packages (from tensorflow==1.*->econml) (0.2.2)\n",
            "Requirement already satisfied: tensorboard<1.16.0,>=1.15.0 in /usr/local/lib/python3.6/dist-packages (from tensorflow==1.*->econml) (1.15.0)\n",
            "Requirement already satisfied: termcolor>=1.1.0 in /usr/local/lib/python3.6/dist-packages (from tensorflow==1.*->econml) (1.1.0)\n",
            "Requirement already satisfied: opt-einsum>=2.3.2 in /usr/local/lib/python3.6/dist-packages (from tensorflow==1.*->econml) (3.1.0)\n",
            "Requirement already satisfied: absl-py>=0.7.0 in /usr/local/lib/python3.6/dist-packages (from tensorflow==1.*->econml) (0.9.0)\n",
            "Requirement already satisfied: wrapt>=1.11.1 in /usr/local/lib/python3.6/dist-packages (from tensorflow==1.*->econml) (1.11.2)\n",
            "Requirement already satisfied: google-pasta>=0.1.6 in /usr/local/lib/python3.6/dist-packages (from tensorflow==1.*->econml) (0.1.8)\n",
            "Requirement already satisfied: pyparsing!=2.0.4,!=2.1.2,!=2.1.6,>=2.0.1 in /usr/local/lib/python3.6/dist-packages (from matplotlib<3.1->econml) (2.4.6)\n",
            "Requirement already satisfied: python-dateutil>=2.1 in /usr/local/lib/python3.6/dist-packages (from matplotlib<3.1->econml) (2.6.1)\n",
            "Requirement already satisfied: cycler>=0.10 in /usr/local/lib/python3.6/dist-packages (from matplotlib<3.1->econml) (0.10.0)\n",
            "Requirement already satisfied: kiwisolver>=1.0.1 in /usr/local/lib/python3.6/dist-packages (from matplotlib<3.1->econml) (1.1.0)\n",
            "Requirement already satisfied: pytz>=2017.2 in /usr/local/lib/python3.6/dist-packages (from pandas>=0.19->statsmodels>=0.9->econml) (2018.9)\n",
            "Requirement already satisfied: markdown>=2.6.8 in /usr/local/lib/python3.6/dist-packages (from tensorboard<1.16.0,>=1.15.0->tensorflow==1.*->econml) (3.2.1)\n",
            "Requirement already satisfied: werkzeug>=0.11.15 in /usr/local/lib/python3.6/dist-packages (from tensorboard<1.16.0,>=1.15.0->tensorflow==1.*->econml) (1.0.0)\n"
          ],
          "name": "stdout"
        }
      ]
    },
    {
      "cell_type": "code",
      "metadata": {
        "id": "FN7sq9xudQUJ",
        "colab_type": "code",
        "colab": {}
      },
      "source": [
        ""
      ],
      "execution_count": 0,
      "outputs": []
    }
  ]
}