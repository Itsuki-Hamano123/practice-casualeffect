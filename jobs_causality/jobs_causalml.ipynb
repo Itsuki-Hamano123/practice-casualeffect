{
  "nbformat": 4,
  "nbformat_minor": 0,
  "metadata": {
    "colab": {
      "name": "jobs_causalml.ipynb",
      "provenance": [],
      "collapsed_sections": [],
      "toc_visible": true,
      "authorship_tag": "ABX9TyOWqJ/chO9yBtlHZL9cav97",
      "include_colab_link": true
    },
    "kernelspec": {
      "name": "python3",
      "display_name": "Python 3"
    }
  },
  "cells": [
    {
      "cell_type": "markdown",
      "metadata": {
        "id": "view-in-github",
        "colab_type": "text"
      },
      "source": [
        "<a href=\"https://colab.research.google.com/github/Itsuki-Hamano123/practice-casualeffect/blob/master/jobs_causality/jobs_causalml.ipynb\" target=\"_parent\"><img src=\"https://colab.research.google.com/assets/colab-badge.svg\" alt=\"Open In Colab\"/></a>"
      ]
    },
    {
      "cell_type": "code",
      "metadata": {
        "id": "ujBdp7uChDMD",
        "colab_type": "code",
        "colab": {
          "base_uri": "https://localhost:8080/",
          "height": 1000
        },
        "outputId": "204c246d-9c0a-42cc-ac23-15f96885bba6"
      },
      "source": [
        "%pip install causalml"
      ],
      "execution_count": 1,
      "outputs": [
        {
          "output_type": "stream",
          "text": [
            "Collecting causalml\n",
            "\u001b[?25l  Downloading https://files.pythonhosted.org/packages/50/7c/dd3c967b3bd8185c454fe7554f959914d2fb7674cb22467b64fa2b61fc67/causalml-0.8.0.tar.gz (3.8MB)\n",
            "\u001b[K     |████████████████████████████████| 3.9MB 2.8MB/s \n",
            "\u001b[?25hRequirement already satisfied: setuptools>=41.0.0 in /usr/local/lib/python3.6/dist-packages (from causalml) (49.2.0)\n",
            "Requirement already satisfied: pip>=10.0 in /usr/local/lib/python3.6/dist-packages (from causalml) (19.3.1)\n",
            "Requirement already satisfied: numpy>=0.16.0 in /usr/local/lib/python3.6/dist-packages (from causalml) (1.18.5)\n",
            "Requirement already satisfied: scipy==1.4.1 in /usr/local/lib/python3.6/dist-packages (from causalml) (1.4.1)\n",
            "Requirement already satisfied: matplotlib in /usr/local/lib/python3.6/dist-packages (from causalml) (3.2.2)\n",
            "Requirement already satisfied: pandas>=0.24.1 in /usr/local/lib/python3.6/dist-packages (from causalml) (1.0.5)\n",
            "Requirement already satisfied: scikit-learn>=0.22.0 in /usr/local/lib/python3.6/dist-packages (from causalml) (0.22.2.post1)\n",
            "Requirement already satisfied: statsmodels>=0.9.0 in /usr/local/lib/python3.6/dist-packages (from causalml) (0.10.2)\n",
            "Requirement already satisfied: seaborn in /usr/local/lib/python3.6/dist-packages (from causalml) (0.10.1)\n",
            "Requirement already satisfied: Cython>=0.28.0 in /usr/local/lib/python3.6/dist-packages (from causalml) (0.29.21)\n",
            "Requirement already satisfied: xgboost in /usr/local/lib/python3.6/dist-packages (from causalml) (0.90)\n",
            "Requirement already satisfied: pydotplus in /usr/local/lib/python3.6/dist-packages (from causalml) (2.0.2)\n",
            "Requirement already satisfied: tqdm in /usr/local/lib/python3.6/dist-packages (from causalml) (4.41.1)\n",
            "Collecting shap\n",
            "\u001b[?25l  Downloading https://files.pythonhosted.org/packages/a8/77/b504e43e21a2ba543a1ac4696718beb500cfa708af2fb57cb54ce299045c/shap-0.35.0.tar.gz (273kB)\n",
            "\u001b[K     |████████████████████████████████| 276kB 13.7MB/s \n",
            "\u001b[?25hRequirement already satisfied: dill in /usr/local/lib/python3.6/dist-packages (from causalml) (0.3.2)\n",
            "Requirement already satisfied: lightgbm in /usr/local/lib/python3.6/dist-packages (from causalml) (2.2.3)\n",
            "Collecting pygam\n",
            "\u001b[?25l  Downloading https://files.pythonhosted.org/packages/13/be/775033ef08a8945bec6ad7973b161ca909f852442e0d7cfb8d1a214de1ac/pygam-0.8.0-py2.py3-none-any.whl (1.8MB)\n",
            "\u001b[K     |████████████████████████████████| 1.8MB 27.4MB/s \n",
            "\u001b[?25hRequirement already satisfied: packaging in /usr/local/lib/python3.6/dist-packages (from causalml) (20.4)\n",
            "Requirement already satisfied: keras in /usr/local/lib/python3.6/dist-packages (from causalml) (2.3.1)\n",
            "Requirement already satisfied: tensorflow>=1.15.2 in /usr/local/lib/python3.6/dist-packages (from causalml) (2.2.0)\n",
            "Requirement already satisfied: kiwisolver>=1.0.1 in /usr/local/lib/python3.6/dist-packages (from matplotlib->causalml) (1.2.0)\n",
            "Requirement already satisfied: python-dateutil>=2.1 in /usr/local/lib/python3.6/dist-packages (from matplotlib->causalml) (2.8.1)\n",
            "Requirement already satisfied: cycler>=0.10 in /usr/local/lib/python3.6/dist-packages (from matplotlib->causalml) (0.10.0)\n",
            "Requirement already satisfied: pyparsing!=2.0.4,!=2.1.2,!=2.1.6,>=2.0.1 in /usr/local/lib/python3.6/dist-packages (from matplotlib->causalml) (2.4.7)\n",
            "Requirement already satisfied: pytz>=2017.2 in /usr/local/lib/python3.6/dist-packages (from pandas>=0.24.1->causalml) (2018.9)\n",
            "Requirement already satisfied: joblib>=0.11 in /usr/local/lib/python3.6/dist-packages (from scikit-learn>=0.22.0->causalml) (0.16.0)\n",
            "Requirement already satisfied: patsy>=0.4.0 in /usr/local/lib/python3.6/dist-packages (from statsmodels>=0.9.0->causalml) (0.5.1)\n",
            "Requirement already satisfied: progressbar2 in /usr/local/lib/python3.6/dist-packages (from pygam->causalml) (3.38.0)\n",
            "Requirement already satisfied: future in /usr/local/lib/python3.6/dist-packages (from pygam->causalml) (0.16.0)\n",
            "Requirement already satisfied: six in /usr/local/lib/python3.6/dist-packages (from packaging->causalml) (1.15.0)\n",
            "Requirement already satisfied: pyyaml in /usr/local/lib/python3.6/dist-packages (from keras->causalml) (3.13)\n",
            "Requirement already satisfied: h5py in /usr/local/lib/python3.6/dist-packages (from keras->causalml) (2.10.0)\n",
            "Requirement already satisfied: keras-preprocessing>=1.0.5 in /usr/local/lib/python3.6/dist-packages (from keras->causalml) (1.1.2)\n",
            "Requirement already satisfied: keras-applications>=1.0.6 in /usr/local/lib/python3.6/dist-packages (from keras->causalml) (1.0.8)\n",
            "Requirement already satisfied: gast==0.3.3 in /usr/local/lib/python3.6/dist-packages (from tensorflow>=1.15.2->causalml) (0.3.3)\n",
            "Requirement already satisfied: tensorboard<2.3.0,>=2.2.0 in /usr/local/lib/python3.6/dist-packages (from tensorflow>=1.15.2->causalml) (2.2.2)\n",
            "Requirement already satisfied: protobuf>=3.8.0 in /usr/local/lib/python3.6/dist-packages (from tensorflow>=1.15.2->causalml) (3.12.2)\n",
            "Requirement already satisfied: termcolor>=1.1.0 in /usr/local/lib/python3.6/dist-packages (from tensorflow>=1.15.2->causalml) (1.1.0)\n",
            "Requirement already satisfied: wheel>=0.26; python_version >= \"3\" in /usr/local/lib/python3.6/dist-packages (from tensorflow>=1.15.2->causalml) (0.34.2)\n",
            "Requirement already satisfied: google-pasta>=0.1.8 in /usr/local/lib/python3.6/dist-packages (from tensorflow>=1.15.2->causalml) (0.2.0)\n",
            "Requirement already satisfied: absl-py>=0.7.0 in /usr/local/lib/python3.6/dist-packages (from tensorflow>=1.15.2->causalml) (0.9.0)\n",
            "Requirement already satisfied: astunparse==1.6.3 in /usr/local/lib/python3.6/dist-packages (from tensorflow>=1.15.2->causalml) (1.6.3)\n",
            "Requirement already satisfied: tensorflow-estimator<2.3.0,>=2.2.0 in /usr/local/lib/python3.6/dist-packages (from tensorflow>=1.15.2->causalml) (2.2.0)\n",
            "Requirement already satisfied: wrapt>=1.11.1 in /usr/local/lib/python3.6/dist-packages (from tensorflow>=1.15.2->causalml) (1.12.1)\n",
            "Requirement already satisfied: grpcio>=1.8.6 in /usr/local/lib/python3.6/dist-packages (from tensorflow>=1.15.2->causalml) (1.30.0)\n",
            "Requirement already satisfied: opt-einsum>=2.3.2 in /usr/local/lib/python3.6/dist-packages (from tensorflow>=1.15.2->causalml) (3.3.0)\n",
            "Requirement already satisfied: python-utils>=2.3.0 in /usr/local/lib/python3.6/dist-packages (from progressbar2->pygam->causalml) (2.4.0)\n",
            "Requirement already satisfied: werkzeug>=0.11.15 in /usr/local/lib/python3.6/dist-packages (from tensorboard<2.3.0,>=2.2.0->tensorflow>=1.15.2->causalml) (1.0.1)\n",
            "Requirement already satisfied: requests<3,>=2.21.0 in /usr/local/lib/python3.6/dist-packages (from tensorboard<2.3.0,>=2.2.0->tensorflow>=1.15.2->causalml) (2.23.0)\n",
            "Requirement already satisfied: google-auth<2,>=1.6.3 in /usr/local/lib/python3.6/dist-packages (from tensorboard<2.3.0,>=2.2.0->tensorflow>=1.15.2->causalml) (1.17.2)\n",
            "Requirement already satisfied: markdown>=2.6.8 in /usr/local/lib/python3.6/dist-packages (from tensorboard<2.3.0,>=2.2.0->tensorflow>=1.15.2->causalml) (3.2.2)\n",
            "Requirement already satisfied: tensorboard-plugin-wit>=1.6.0 in /usr/local/lib/python3.6/dist-packages (from tensorboard<2.3.0,>=2.2.0->tensorflow>=1.15.2->causalml) (1.7.0)\n",
            "Requirement already satisfied: google-auth-oauthlib<0.5,>=0.4.1 in /usr/local/lib/python3.6/dist-packages (from tensorboard<2.3.0,>=2.2.0->tensorflow>=1.15.2->causalml) (0.4.1)\n",
            "Requirement already satisfied: chardet<4,>=3.0.2 in /usr/local/lib/python3.6/dist-packages (from requests<3,>=2.21.0->tensorboard<2.3.0,>=2.2.0->tensorflow>=1.15.2->causalml) (3.0.4)\n",
            "Requirement already satisfied: certifi>=2017.4.17 in /usr/local/lib/python3.6/dist-packages (from requests<3,>=2.21.0->tensorboard<2.3.0,>=2.2.0->tensorflow>=1.15.2->causalml) (2020.6.20)\n",
            "Requirement already satisfied: urllib3!=1.25.0,!=1.25.1,<1.26,>=1.21.1 in /usr/local/lib/python3.6/dist-packages (from requests<3,>=2.21.0->tensorboard<2.3.0,>=2.2.0->tensorflow>=1.15.2->causalml) (1.24.3)\n",
            "Requirement already satisfied: idna<3,>=2.5 in /usr/local/lib/python3.6/dist-packages (from requests<3,>=2.21.0->tensorboard<2.3.0,>=2.2.0->tensorflow>=1.15.2->causalml) (2.10)\n",
            "Requirement already satisfied: cachetools<5.0,>=2.0.0 in /usr/local/lib/python3.6/dist-packages (from google-auth<2,>=1.6.3->tensorboard<2.3.0,>=2.2.0->tensorflow>=1.15.2->causalml) (4.1.1)\n",
            "Requirement already satisfied: pyasn1-modules>=0.2.1 in /usr/local/lib/python3.6/dist-packages (from google-auth<2,>=1.6.3->tensorboard<2.3.0,>=2.2.0->tensorflow>=1.15.2->causalml) (0.2.8)\n",
            "Requirement already satisfied: rsa<5,>=3.1.4; python_version >= \"3\" in /usr/local/lib/python3.6/dist-packages (from google-auth<2,>=1.6.3->tensorboard<2.3.0,>=2.2.0->tensorflow>=1.15.2->causalml) (4.6)\n",
            "Requirement already satisfied: importlib-metadata; python_version < \"3.8\" in /usr/local/lib/python3.6/dist-packages (from markdown>=2.6.8->tensorboard<2.3.0,>=2.2.0->tensorflow>=1.15.2->causalml) (1.7.0)\n",
            "Requirement already satisfied: requests-oauthlib>=0.7.0 in /usr/local/lib/python3.6/dist-packages (from google-auth-oauthlib<0.5,>=0.4.1->tensorboard<2.3.0,>=2.2.0->tensorflow>=1.15.2->causalml) (1.3.0)\n",
            "Requirement already satisfied: pyasn1<0.5.0,>=0.4.6 in /usr/local/lib/python3.6/dist-packages (from pyasn1-modules>=0.2.1->google-auth<2,>=1.6.3->tensorboard<2.3.0,>=2.2.0->tensorflow>=1.15.2->causalml) (0.4.8)\n",
            "Requirement already satisfied: zipp>=0.5 in /usr/local/lib/python3.6/dist-packages (from importlib-metadata; python_version < \"3.8\"->markdown>=2.6.8->tensorboard<2.3.0,>=2.2.0->tensorflow>=1.15.2->causalml) (3.1.0)\n",
            "Requirement already satisfied: oauthlib>=3.0.0 in /usr/local/lib/python3.6/dist-packages (from requests-oauthlib>=0.7.0->google-auth-oauthlib<0.5,>=0.4.1->tensorboard<2.3.0,>=2.2.0->tensorflow>=1.15.2->causalml) (3.1.0)\n",
            "Building wheels for collected packages: causalml, shap\n",
            "  Building wheel for causalml (setup.py) ... \u001b[?25l\u001b[?25hdone\n",
            "  Created wheel for causalml: filename=causalml-0.8.0-cp36-cp36m-linux_x86_64.whl size=482074 sha256=812420e4d268abdc531c97095bfaf46e4016ea895da53f574af88538341f4adc\n",
            "  Stored in directory: /root/.cache/pip/wheels/db/d8/1f/c5c57e0a0a1e2d597da3b4b73f26a0365874e363bb1b57db41\n",
            "  Building wheel for shap (setup.py) ... \u001b[?25l\u001b[?25hdone\n",
            "  Created wheel for shap: filename=shap-0.35.0-cp36-cp36m-linux_x86_64.whl size=394110 sha256=e5dce276cd7a517b8665ec6a082847ed22e410efefbfc59c59180baaf043b72f\n",
            "  Stored in directory: /root/.cache/pip/wheels/e7/f7/0f/b57055080cf8894906b3bd3616d2fc2bfd0b12d5161bcb24ac\n",
            "Successfully built causalml shap\n",
            "Installing collected packages: shap, pygam, causalml\n",
            "Successfully installed causalml-0.8.0 pygam-0.8.0 shap-0.35.0\n"
          ],
          "name": "stdout"
        }
      ]
    },
    {
      "cell_type": "code",
      "metadata": {
        "id": "y_f2q5jHhOt2",
        "colab_type": "code",
        "colab": {
          "base_uri": "https://localhost:8080/",
          "height": 199
        },
        "outputId": "da1174ab-7ec2-4054-8094-e90b6d1806e8"
      },
      "source": [
        "from google.colab import drive\n",
        "drive.mount('/gdrive')\n",
        "%cd /gdrive\n",
        "%cd /gdrive/My Drive/機械学習練習/統計的因果推論/因果推論実践用/jobs_causality\n",
        "%ls"
      ],
      "execution_count": 2,
      "outputs": [
        {
          "output_type": "stream",
          "text": [
            "Go to this URL in a browser: https://accounts.google.com/o/oauth2/auth?client_id=947318989803-6bn6qk8qdgf4n4g3pfee6491hc0brc4i.apps.googleusercontent.com&redirect_uri=urn%3aietf%3awg%3aoauth%3a2.0%3aoob&response_type=code&scope=email%20https%3a%2f%2fwww.googleapis.com%2fauth%2fdocs.test%20https%3a%2f%2fwww.googleapis.com%2fauth%2fdrive%20https%3a%2f%2fwww.googleapis.com%2fauth%2fdrive.photos.readonly%20https%3a%2f%2fwww.googleapis.com%2fauth%2fpeopleapi.readonly\n",
            "\n",
            "Enter your authorization code:\n",
            "··········\n",
            "Mounted at /gdrive\n",
            "/gdrive\n",
            "/gdrive/My Drive/機械学習練習/統計的因果推論/因果推論実践用/jobs_causality\n",
            "\u001b[0m\u001b[01;34mdataset\u001b[0m/             jobs_dowhy.ipynb\n",
            "jobs_causalml.ipynb  jobs_rct_causalml_xlearner.ipynb\n"
          ],
          "name": "stdout"
        }
      ]
    },
    {
      "cell_type": "markdown",
      "metadata": {
        "id": "xgaH0ChhhuPo",
        "colab_type": "text"
      },
      "source": [
        "# 職業訓練データセットでCausalmlの練習"
      ]
    },
    {
      "cell_type": "code",
      "metadata": {
        "id": "fTqNaNDFhNhV",
        "colab_type": "code",
        "colab": {
          "base_uri": "https://localhost:8080/",
          "height": 91
        },
        "outputId": "96c342fb-f4b9-4b80-c4a8-76c50adaa90a"
      },
      "source": [
        "import os\n",
        "\n",
        "import matplotlib.pyplot as plt\n",
        "import numpy as np\n",
        "import pandas as pd\n",
        "\n",
        "from causalml.inference.meta import BaseXRegressor, XGBTRegressor, LRSRegressor\n",
        "from causalml.metrics import get_tmlegain, plot_tmlegain, plot_tmleqini, Sensitivity\n",
        "from sklearn.model_selection import train_test_split\n",
        "from xgboost import XGBRegressor, XGBClassifier"
      ],
      "execution_count": 3,
      "outputs": [
        {
          "output_type": "stream",
          "text": [
            "/usr/local/lib/python3.6/dist-packages/statsmodels/tools/_testing.py:19: FutureWarning: pandas.util.testing is deprecated. Use the functions in the public API at pandas.testing instead.\n",
            "  import pandas.util.testing as tm\n",
            "The sklearn.utils.testing module is  deprecated in version 0.22 and will be removed in version 0.24. The corresponding classes / functions should instead be imported from sklearn.utils. Anything that cannot be imported from sklearn.utils is now part of the private API.\n"
          ],
          "name": "stderr"
        }
      ]
    },
    {
      "cell_type": "markdown",
      "metadata": {
        "id": "xhdfHJivh8_S",
        "colab_type": "text"
      },
      "source": [
        "## 職業訓練データセット読み込み\n",
        "**職業訓練を受けた人は、収入がどのくらい増加/減少するのか因果分析**<br>\n",
        "Lalondeが分析した職業訓練データセットの詳細について：[http://users.nber.org/~rdehejia/nswdata.html](http://users.nber.org/~rdehejia/nswdata.html)"
      ]
    },
    {
      "cell_type": "markdown",
      "metadata": {
        "id": "8UspiAXKg7Cr",
        "colab_type": "text"
      },
      "source": [
        "Dataset description\n",
        "* treat: 1 if the subject participated in the job  training program, 0 otherwise\n",
        "* age: the subject's age\n",
        "* educ: years of education\n",
        "* race: categorical variable with three possible values: Black, Hispanic, or White\n",
        "* married: 1 if the subject was married at the time of the training program, 0 otherwise\n",
        "* nodegree: 1 if the subject has earned no school degree, 0 otherwise\n",
        "* re74: real earnings in 1974 (pre-treatment)\n",
        "* re75: real earnings in 1975 (pre-treatment)\n",
        "* re78: real earnings in 1978 (outcome)"
      ]
    },
    {
      "cell_type": "code",
      "metadata": {
        "id": "FksomhiZh_P1",
        "colab_type": "code",
        "colab": {
          "base_uri": "https://localhost:8080/",
          "height": 256
        },
        "outputId": "b639859e-f419-4378-c3c2-b657c68e9143"
      },
      "source": [
        "csv_path = 'dataset/job_lalonde.csv'\n",
        "df= pd.read_csv(csv_path)\n",
        "\n",
        "OUTCOME_COLUMN = 're78'\n",
        "TREATMENT_COLUMN = 'treat'\n",
        "UNNECESSARY_COLUMNS = ['ps', 'ips_weight', 'tips_weight',\n",
        "       'cips_weight', 'ips_normalized_weight', 'tips_normalized_weight',\n",
        "       'cips_normalized_weight', 'ips_stabilized_weight',\n",
        "       'tips_stabilized_weight', 'cips_stabilized_weight', 'd_y', 'dbar_y']\n",
        "FEATURE_COLUMNS = list(df.drop(columns=[OUTCOME_COLUMN, TREATMENT_COLUMN]+UNNECESSARY_COLUMNS).columns)\n",
        "\n",
        "df[TREATMENT_COLUMN] = df[TREATMENT_COLUMN] * 1\n",
        "\n",
        "print('outcome:{col}'.format(col=OUTCOME_COLUMN))\n",
        "print('treatment:{col}'.format(col=TREATMENT_COLUMN))\n",
        "print('features:{cols}'.format(cols=FEATURE_COLUMNS))\n",
        "\n",
        "df.drop(columns=UNNECESSARY_COLUMNS).head()"
      ],
      "execution_count": 4,
      "outputs": [
        {
          "output_type": "stream",
          "text": [
            "outcome:re78\n",
            "treatment:treat\n",
            "features:['age', 'educ', 'black', 'hisp', 'married', 'nodegr', 're74', 're75', 'u74', 'u75']\n"
          ],
          "name": "stdout"
        },
        {
          "output_type": "execute_result",
          "data": {
            "text/html": [
              "<div>\n",
              "<style scoped>\n",
              "    .dataframe tbody tr th:only-of-type {\n",
              "        vertical-align: middle;\n",
              "    }\n",
              "\n",
              "    .dataframe tbody tr th {\n",
              "        vertical-align: top;\n",
              "    }\n",
              "\n",
              "    .dataframe thead th {\n",
              "        text-align: right;\n",
              "    }\n",
              "</style>\n",
              "<table border=\"1\" class=\"dataframe\">\n",
              "  <thead>\n",
              "    <tr style=\"text-align: right;\">\n",
              "      <th></th>\n",
              "      <th>age</th>\n",
              "      <th>educ</th>\n",
              "      <th>black</th>\n",
              "      <th>hisp</th>\n",
              "      <th>married</th>\n",
              "      <th>nodegr</th>\n",
              "      <th>re74</th>\n",
              "      <th>re75</th>\n",
              "      <th>re78</th>\n",
              "      <th>u74</th>\n",
              "      <th>u75</th>\n",
              "      <th>treat</th>\n",
              "    </tr>\n",
              "  </thead>\n",
              "  <tbody>\n",
              "    <tr>\n",
              "      <th>0</th>\n",
              "      <td>37</td>\n",
              "      <td>11</td>\n",
              "      <td>1</td>\n",
              "      <td>0</td>\n",
              "      <td>1</td>\n",
              "      <td>1</td>\n",
              "      <td>0.0</td>\n",
              "      <td>0.0</td>\n",
              "      <td>9930.05</td>\n",
              "      <td>1</td>\n",
              "      <td>1</td>\n",
              "      <td>1</td>\n",
              "    </tr>\n",
              "    <tr>\n",
              "      <th>1</th>\n",
              "      <td>22</td>\n",
              "      <td>9</td>\n",
              "      <td>0</td>\n",
              "      <td>1</td>\n",
              "      <td>0</td>\n",
              "      <td>1</td>\n",
              "      <td>0.0</td>\n",
              "      <td>0.0</td>\n",
              "      <td>3595.89</td>\n",
              "      <td>1</td>\n",
              "      <td>1</td>\n",
              "      <td>1</td>\n",
              "    </tr>\n",
              "    <tr>\n",
              "      <th>2</th>\n",
              "      <td>30</td>\n",
              "      <td>12</td>\n",
              "      <td>1</td>\n",
              "      <td>0</td>\n",
              "      <td>0</td>\n",
              "      <td>0</td>\n",
              "      <td>0.0</td>\n",
              "      <td>0.0</td>\n",
              "      <td>24909.50</td>\n",
              "      <td>1</td>\n",
              "      <td>1</td>\n",
              "      <td>1</td>\n",
              "    </tr>\n",
              "    <tr>\n",
              "      <th>3</th>\n",
              "      <td>27</td>\n",
              "      <td>11</td>\n",
              "      <td>1</td>\n",
              "      <td>0</td>\n",
              "      <td>0</td>\n",
              "      <td>1</td>\n",
              "      <td>0.0</td>\n",
              "      <td>0.0</td>\n",
              "      <td>7506.15</td>\n",
              "      <td>1</td>\n",
              "      <td>1</td>\n",
              "      <td>1</td>\n",
              "    </tr>\n",
              "    <tr>\n",
              "      <th>4</th>\n",
              "      <td>33</td>\n",
              "      <td>8</td>\n",
              "      <td>1</td>\n",
              "      <td>0</td>\n",
              "      <td>0</td>\n",
              "      <td>1</td>\n",
              "      <td>0.0</td>\n",
              "      <td>0.0</td>\n",
              "      <td>289.79</td>\n",
              "      <td>1</td>\n",
              "      <td>1</td>\n",
              "      <td>1</td>\n",
              "    </tr>\n",
              "  </tbody>\n",
              "</table>\n",
              "</div>"
            ],
            "text/plain": [
              "   age  educ  black  hisp  married  ...  re75      re78  u74  u75  treat\n",
              "0   37    11      1     0        1  ...   0.0   9930.05    1    1      1\n",
              "1   22     9      0     1        0  ...   0.0   3595.89    1    1      1\n",
              "2   30    12      1     0        0  ...   0.0  24909.50    1    1      1\n",
              "3   27    11      1     0        0  ...   0.0   7506.15    1    1      1\n",
              "4   33     8      1     0        0  ...   0.0    289.79    1    1      1\n",
              "\n",
              "[5 rows x 12 columns]"
            ]
          },
          "metadata": {
            "tags": []
          },
          "execution_count": 4
        }
      ]
    },
    {
      "cell_type": "code",
      "metadata": {
        "id": "3NQ_jzolkwIR",
        "colab_type": "code",
        "colab": {
          "base_uri": "https://localhost:8080/",
          "height": 314
        },
        "outputId": "ecb09fd9-850f-4d4f-86fe-26806221dcd4"
      },
      "source": [
        "df.describe()"
      ],
      "execution_count": 5,
      "outputs": [
        {
          "output_type": "execute_result",
          "data": {
            "text/html": [
              "<div>\n",
              "<style scoped>\n",
              "    .dataframe tbody tr th:only-of-type {\n",
              "        vertical-align: middle;\n",
              "    }\n",
              "\n",
              "    .dataframe tbody tr th {\n",
              "        vertical-align: top;\n",
              "    }\n",
              "\n",
              "    .dataframe thead th {\n",
              "        text-align: right;\n",
              "    }\n",
              "</style>\n",
              "<table border=\"1\" class=\"dataframe\">\n",
              "  <thead>\n",
              "    <tr style=\"text-align: right;\">\n",
              "      <th></th>\n",
              "      <th>age</th>\n",
              "      <th>educ</th>\n",
              "      <th>black</th>\n",
              "      <th>hisp</th>\n",
              "      <th>married</th>\n",
              "      <th>nodegr</th>\n",
              "      <th>re74</th>\n",
              "      <th>re75</th>\n",
              "      <th>re78</th>\n",
              "      <th>u74</th>\n",
              "      <th>u75</th>\n",
              "      <th>treat</th>\n",
              "      <th>ps</th>\n",
              "      <th>ips_weight</th>\n",
              "      <th>tips_weight</th>\n",
              "      <th>cips_weight</th>\n",
              "      <th>ips_normalized_weight</th>\n",
              "      <th>tips_normalized_weight</th>\n",
              "      <th>cips_normalized_weight</th>\n",
              "      <th>ips_stabilized_weight</th>\n",
              "      <th>tips_stabilized_weight</th>\n",
              "      <th>cips_stabilized_weight</th>\n",
              "      <th>d_y</th>\n",
              "      <th>dbar_y</th>\n",
              "    </tr>\n",
              "  </thead>\n",
              "  <tbody>\n",
              "    <tr>\n",
              "      <th>count</th>\n",
              "      <td>445.000000</td>\n",
              "      <td>445.000000</td>\n",
              "      <td>445.000000</td>\n",
              "      <td>445.00000</td>\n",
              "      <td>445.000000</td>\n",
              "      <td>445.000000</td>\n",
              "      <td>445.000000</td>\n",
              "      <td>445.000000</td>\n",
              "      <td>445.000000</td>\n",
              "      <td>445.000000</td>\n",
              "      <td>445.000000</td>\n",
              "      <td>445.000000</td>\n",
              "      <td>445.000000</td>\n",
              "      <td>445.000000</td>\n",
              "      <td>445.000000</td>\n",
              "      <td>445.000000</td>\n",
              "      <td>445.000000</td>\n",
              "      <td>445.000000</td>\n",
              "      <td>445.000000</td>\n",
              "      <td>445.000000</td>\n",
              "      <td>445.000000</td>\n",
              "      <td>445.000000</td>\n",
              "      <td>445.000000</td>\n",
              "      <td>445.000000</td>\n",
              "    </tr>\n",
              "    <tr>\n",
              "      <th>mean</th>\n",
              "      <td>25.370787</td>\n",
              "      <td>10.195506</td>\n",
              "      <td>0.833708</td>\n",
              "      <td>0.08764</td>\n",
              "      <td>0.168539</td>\n",
              "      <td>0.782022</td>\n",
              "      <td>2102.265533</td>\n",
              "      <td>1377.138638</td>\n",
              "      <td>5300.765138</td>\n",
              "      <td>0.732584</td>\n",
              "      <td>0.649438</td>\n",
              "      <td>0.415730</td>\n",
              "      <td>0.419655</td>\n",
              "      <td>0.004490</td>\n",
              "      <td>0.004537</td>\n",
              "      <td>0.004457</td>\n",
              "      <td>0.004494</td>\n",
              "      <td>0.004494</td>\n",
              "      <td>0.004494</td>\n",
              "      <td>0.002248</td>\n",
              "      <td>0.002272</td>\n",
              "      <td>0.002231</td>\n",
              "      <td>14.099805</td>\n",
              "      <td>10.430304</td>\n",
              "    </tr>\n",
              "    <tr>\n",
              "      <th>std</th>\n",
              "      <td>7.100282</td>\n",
              "      <td>1.792119</td>\n",
              "      <td>0.372762</td>\n",
              "      <td>0.28309</td>\n",
              "      <td>0.374766</td>\n",
              "      <td>0.413337</td>\n",
              "      <td>5363.583863</td>\n",
              "      <td>3150.961433</td>\n",
              "      <td>6631.493362</td>\n",
              "      <td>0.443109</td>\n",
              "      <td>0.477683</td>\n",
              "      <td>0.493402</td>\n",
              "      <td>0.061065</td>\n",
              "      <td>0.000928</td>\n",
              "      <td>0.001078</td>\n",
              "      <td>0.001087</td>\n",
              "      <td>0.000962</td>\n",
              "      <td>0.001092</td>\n",
              "      <td>0.001127</td>\n",
              "      <td>0.000275</td>\n",
              "      <td>0.000462</td>\n",
              "      <td>0.000337</td>\n",
              "      <td>32.577060</td>\n",
              "      <td>19.194586</td>\n",
              "    </tr>\n",
              "    <tr>\n",
              "      <th>min</th>\n",
              "      <td>17.000000</td>\n",
              "      <td>3.000000</td>\n",
              "      <td>0.000000</td>\n",
              "      <td>0.00000</td>\n",
              "      <td>0.000000</td>\n",
              "      <td>0.000000</td>\n",
              "      <td>0.000000</td>\n",
              "      <td>0.000000</td>\n",
              "      <td>0.000000</td>\n",
              "      <td>0.000000</td>\n",
              "      <td>0.000000</td>\n",
              "      <td>0.000000</td>\n",
              "      <td>0.175710</td>\n",
              "      <td>0.002726</td>\n",
              "      <td>0.001152</td>\n",
              "      <td>0.002835</td>\n",
              "      <td>0.002705</td>\n",
              "      <td>0.001131</td>\n",
              "      <td>0.002884</td>\n",
              "      <td>0.001593</td>\n",
              "      <td>0.000673</td>\n",
              "      <td>0.001179</td>\n",
              "      <td>0.000000</td>\n",
              "      <td>0.000000</td>\n",
              "    </tr>\n",
              "    <tr>\n",
              "      <th>25%</th>\n",
              "      <td>20.000000</td>\n",
              "      <td>9.000000</td>\n",
              "      <td>1.000000</td>\n",
              "      <td>0.00000</td>\n",
              "      <td>0.000000</td>\n",
              "      <td>1.000000</td>\n",
              "      <td>0.000000</td>\n",
              "      <td>0.000000</td>\n",
              "      <td>0.000000</td>\n",
              "      <td>0.000000</td>\n",
              "      <td>0.000000</td>\n",
              "      <td>0.000000</td>\n",
              "      <td>0.373260</td>\n",
              "      <td>0.003644</td>\n",
              "      <td>0.003359</td>\n",
              "      <td>0.003846</td>\n",
              "      <td>0.003615</td>\n",
              "      <td>0.003297</td>\n",
              "      <td>0.003846</td>\n",
              "      <td>0.002066</td>\n",
              "      <td>0.001963</td>\n",
              "      <td>0.002247</td>\n",
              "      <td>0.000000</td>\n",
              "      <td>0.000000</td>\n",
              "    </tr>\n",
              "    <tr>\n",
              "      <th>50%</th>\n",
              "      <td>24.000000</td>\n",
              "      <td>10.000000</td>\n",
              "      <td>1.000000</td>\n",
              "      <td>0.00000</td>\n",
              "      <td>0.000000</td>\n",
              "      <td>1.000000</td>\n",
              "      <td>0.000000</td>\n",
              "      <td>0.000000</td>\n",
              "      <td>3701.810000</td>\n",
              "      <td>1.000000</td>\n",
              "      <td>1.000000</td>\n",
              "      <td>0.000000</td>\n",
              "      <td>0.399351</td>\n",
              "      <td>0.004289</td>\n",
              "      <td>0.005252</td>\n",
              "      <td>0.003846</td>\n",
              "      <td>0.004267</td>\n",
              "      <td>0.005155</td>\n",
              "      <td>0.003846</td>\n",
              "      <td>0.002195</td>\n",
              "      <td>0.002247</td>\n",
              "      <td>0.002247</td>\n",
              "      <td>0.000000</td>\n",
              "      <td>0.000000</td>\n",
              "    </tr>\n",
              "    <tr>\n",
              "      <th>75%</th>\n",
              "      <td>28.000000</td>\n",
              "      <td>11.000000</td>\n",
              "      <td>1.000000</td>\n",
              "      <td>0.00000</td>\n",
              "      <td>0.000000</td>\n",
              "      <td>1.000000</td>\n",
              "      <td>824.389000</td>\n",
              "      <td>1220.840000</td>\n",
              "      <td>8124.720000</td>\n",
              "      <td>1.000000</td>\n",
              "      <td>1.000000</td>\n",
              "      <td>1.000000</td>\n",
              "      <td>0.469206</td>\n",
              "      <td>0.005206</td>\n",
              "      <td>0.005405</td>\n",
              "      <td>0.004994</td>\n",
              "      <td>0.005233</td>\n",
              "      <td>0.005405</td>\n",
              "      <td>0.005080</td>\n",
              "      <td>0.002461</td>\n",
              "      <td>0.002247</td>\n",
              "      <td>0.002247</td>\n",
              "      <td>12.563586</td>\n",
              "      <td>15.667131</td>\n",
              "    </tr>\n",
              "    <tr>\n",
              "      <th>max</th>\n",
              "      <td>55.000000</td>\n",
              "      <td>16.000000</td>\n",
              "      <td>1.000000</td>\n",
              "      <td>1.00000</td>\n",
              "      <td>1.000000</td>\n",
              "      <td>1.000000</td>\n",
              "      <td>39570.700000</td>\n",
              "      <td>25142.200000</td>\n",
              "      <td>60307.900000</td>\n",
              "      <td>1.000000</td>\n",
              "      <td>1.000000</td>\n",
              "      <td>1.000000</td>\n",
              "      <td>0.578452</td>\n",
              "      <td>0.007998</td>\n",
              "      <td>0.007417</td>\n",
              "      <td>0.009843</td>\n",
              "      <td>0.008078</td>\n",
              "      <td>0.007280</td>\n",
              "      <td>0.010012</td>\n",
              "      <td>0.003325</td>\n",
              "      <td>0.004334</td>\n",
              "      <td>0.004092</td>\n",
              "      <td>293.116011</td>\n",
              "      <td>169.035818</td>\n",
              "    </tr>\n",
              "  </tbody>\n",
              "</table>\n",
              "</div>"
            ],
            "text/plain": [
              "              age        educ  ...         d_y      dbar_y\n",
              "count  445.000000  445.000000  ...  445.000000  445.000000\n",
              "mean    25.370787   10.195506  ...   14.099805   10.430304\n",
              "std      7.100282    1.792119  ...   32.577060   19.194586\n",
              "min     17.000000    3.000000  ...    0.000000    0.000000\n",
              "25%     20.000000    9.000000  ...    0.000000    0.000000\n",
              "50%     24.000000   10.000000  ...    0.000000    0.000000\n",
              "75%     28.000000   11.000000  ...   12.563586   15.667131\n",
              "max     55.000000   16.000000  ...  293.116011  169.035818\n",
              "\n",
              "[8 rows x 24 columns]"
            ]
          },
          "metadata": {
            "tags": []
          },
          "execution_count": 5
        }
      ]
    },
    {
      "cell_type": "markdown",
      "metadata": {
        "id": "zIzmRJM-8Nih",
        "colab_type": "text"
      },
      "source": [
        "### 単純な平均値の比較について"
      ]
    },
    {
      "cell_type": "markdown",
      "metadata": {
        "id": "jAwlU2gU_sPd",
        "colab_type": "text"
      },
      "source": [
        "今回求めた推定量を$\\hat{\\tau}_{naive}$と置くと\n",
        "$$\\hat{\\tau}_{naive} = E[Y^{(1)}|t=1]-E[Y^{(0)}|t=0]$$\n",
        "$$=E[Y^{(1)}-Y^{(0)}]+E[Y^{(0)}|t=1]-E[Y^{(0)}|t=0]$$\n",
        "セレクションバイアスが生じているため、**単純な平均値の差の比較**では望ましくない因果効果の算出方法であることが分かる。(今回のデータセットについては実験方法がRCTなので介入の割り当てが無作為なためセレクションバイアスは生じづらいと考えられる)<br>"
      ]
    },
    {
      "cell_type": "code",
      "metadata": {
        "id": "ZntFtYD18Zki",
        "colab_type": "code",
        "colab": {
          "base_uri": "https://localhost:8080/",
          "height": 71
        },
        "outputId": "add76377-9363-4d15-f5c2-e3374ceb929e"
      },
      "source": [
        "control_group = df.query(TREATMENT_COLUMN + '==False')[OUTCOME_COLUMN].mean()\n",
        "treatment_group = df.query(TREATMENT_COLUMN + '==True')[OUTCOME_COLUMN].mean()\n",
        "print('介入群のアウトカムの平均値:{}'.format(control_group))\n",
        "print('コントロール群のアウトカムの平均値:{}'.format(treatment_group))\n",
        "print('単純な平均値の差:{}'.format(treatment_group-control_group))"
      ],
      "execution_count": 6,
      "outputs": [
        {
          "output_type": "stream",
          "text": [
            "介入群のアウトカムの平均値:4554.802282692311\n",
            "コントロール群のアウトカムの平均値:6349.1453675675675\n",
            "単純な平均値の差:1794.3430848752569\n"
          ],
          "name": "stdout"
        }
      ]
    },
    {
      "cell_type": "markdown",
      "metadata": {
        "id": "9oas5hjE8vPN",
        "colab_type": "text"
      },
      "source": [
        "## IPW法で因果効果を算出"
      ]
    },
    {
      "cell_type": "code",
      "metadata": {
        "id": "AxTqC5Qj8dKR",
        "colab_type": "code",
        "colab": {
          "base_uri": "https://localhost:8080/",
          "height": 35
        },
        "outputId": "b6c700e6-df70-448b-f95b-4074a4767655"
      },
      "source": [
        "ps = df['ps']\n",
        "y = df['re78']\n",
        "z = df['treat']\n",
        "\n",
        "ey1 = z*y/ps / sum(z/ps)\n",
        "ey0 = (1-z)*y/(1-ps) / sum((1-z)/(1-ps))\n",
        "ate = ey1.sum()-ey0.sum()\n",
        "print(\"Causal Estimate is \" + str(ate))"
      ],
      "execution_count": 7,
      "outputs": [
        {
          "output_type": "stream",
          "text": [
            "Causal Estimate is 1731.2892609440623\n"
          ],
          "name": "stdout"
        }
      ]
    },
    {
      "cell_type": "markdown",
      "metadata": {
        "id": "hAFSIqx781-c",
        "colab_type": "text"
      },
      "source": [
        "## Learnerアルゴリズムの使用"
      ]
    },
    {
      "cell_type": "code",
      "metadata": {
        "id": "q9ySgXrWlMti",
        "colab_type": "code",
        "colab": {
          "base_uri": "https://localhost:8080/",
          "height": 89
        },
        "outputId": "fab7953b-5b62-4815-ddc6-4f9ff4b21df9"
      },
      "source": [
        "SEED = 2\n",
        "\n",
        "data = df.drop(columns=UNNECESSARY_COLUMNS)\n",
        "\n",
        "train_X, test_X, train_t, test_t, train_y, test_y = train_test_split(data.drop(columns=[TREATMENT_COLUMN, OUTCOME_COLUMN]).values,\n",
        "                                                                     data[TREATMENT_COLUMN].values,\n",
        "                                                                     data[OUTCOME_COLUMN].values,\n",
        "                                                                     test_size=0.2, random_state=SEED)\n",
        "train_X, val_X, train_t, val_t, train_y, val_y = train_test_split(train_X, train_t, train_y,\n",
        "                                                                  test_size=0.2, random_state=SEED)\n",
        "\n",
        "print('data.shape:{}'.format(data.shape))\n",
        "print('train_X:{}, train_t:{}, train_y:{}'.format(train_X.shape, train_t.shape, train_y.shape))\n",
        "print('val_X:{}, val_t:{}, val_y:{}'.format(val_X.shape, val_t.shape, val_y.shape))\n",
        "print(('test_X:{}, test_t:{}, test_y:{}'.format(test_X.shape, test_t.shape, test_y.shape)))"
      ],
      "execution_count": 8,
      "outputs": [
        {
          "output_type": "stream",
          "text": [
            "data.shape:(445, 12)\n",
            "train_X:(284, 10), train_t:(284,), train_y:(284,)\n",
            "val_X:(72, 10), val_t:(72,), val_y:(72,)\n",
            "test_X:(89, 10), test_t:(89,), test_y:(89,)\n"
          ],
          "name": "stdout"
        }
      ]
    },
    {
      "cell_type": "markdown",
      "metadata": {
        "id": "3zrz2PgKnhFs",
        "colab_type": "text"
      },
      "source": [
        "### 傾向スコアモデル作成"
      ]
    },
    {
      "cell_type": "code",
      "metadata": {
        "id": "1aB3n1S7nRTh",
        "colab_type": "code",
        "colab": {
          "base_uri": "https://localhost:8080/",
          "height": 323
        },
        "outputId": "a6ff1ea4-76a3-45ca-e079-738b41f50c37"
      },
      "source": [
        "# causalmlで使用できるElasticNetPropensityModelでは内部でsklearn.linear_model.ElasticNetCVが使われている\n",
        "# ElasticNetPropensityModelでは検証用データを使えなさそうなので、過学習を防ぐためにも今回はxgboostを使用\n",
        "# ps：propensity score(傾向スコア)\n",
        "ps_model = XGBClassifier(n_estimators=1000, random_state=SEED)\n",
        "# 目的変数をTreatmentとして学習\n",
        "ps_model.fit(X=train_X, y=train_t, eval_set=[(val_X, val_t)],\n",
        "             early_stopping_rounds=10)\n",
        "\n",
        "# 傾向スコア算出\n",
        "train_ps = ps_model.predict_proba(data=train_X)[:,1]\n",
        "val_ps = ps_model.predict_proba(data=val_X)[:,1]\n",
        "print('train_ps:{}, val_ps:{}'.format(train_ps.shape, val_ps.shape))\n",
        "print('train_ps[:5]:{}'.format(train_ps[:5]))"
      ],
      "execution_count": 9,
      "outputs": [
        {
          "output_type": "stream",
          "text": [
            "[0]\tvalidation_0-error:0.5\n",
            "Will train until validation_0-error hasn't improved in 10 rounds.\n",
            "[1]\tvalidation_0-error:0.5\n",
            "[2]\tvalidation_0-error:0.5\n",
            "[3]\tvalidation_0-error:0.5\n",
            "[4]\tvalidation_0-error:0.5\n",
            "[5]\tvalidation_0-error:0.5\n",
            "[6]\tvalidation_0-error:0.527778\n",
            "[7]\tvalidation_0-error:0.527778\n",
            "[8]\tvalidation_0-error:0.527778\n",
            "[9]\tvalidation_0-error:0.527778\n",
            "[10]\tvalidation_0-error:0.541667\n",
            "Stopping. Best iteration:\n",
            "[0]\tvalidation_0-error:0.5\n",
            "\n",
            "train_ps:(284,), val_ps:(72,)\n",
            "train_ps[:5]:[0.4767683 0.5148605 0.5148605 0.4767683 0.4767683]\n"
          ],
          "name": "stdout"
        }
      ]
    },
    {
      "cell_type": "code",
      "metadata": {
        "id": "0TBfW-1DMjuP",
        "colab_type": "code",
        "colab": {
          "base_uri": "https://localhost:8080/",
          "height": 35
        },
        "outputId": "73319e18-c5c9-4561-953e-b4fc10baf349"
      },
      "source": [
        "test_ps_score = ps_model.score(X=test_X, y=test_t)\n",
        "print('テストデータに対する傾向スコアモデルの精度:{score}'.format(score=test_ps_score))"
      ],
      "execution_count": 10,
      "outputs": [
        {
          "output_type": "stream",
          "text": [
            "テストデータに対する傾向スコアモデルの精度:0.4943820224719101\n"
          ],
          "name": "stdout"
        }
      ]
    },
    {
      "cell_type": "markdown",
      "metadata": {
        "id": "xHQsqwzsBHuJ",
        "colab_type": "text"
      },
      "source": [
        "RCTで行われていることで、傾向スコアモデルが介入群とコントロール群を見分けられないほど、共変量に差が無いのかもしれないと考えられる"
      ]
    },
    {
      "cell_type": "markdown",
      "metadata": {
        "id": "mqx9D521xB1W",
        "colab_type": "text"
      },
      "source": [
        "### MetaLearnerモデル作成"
      ]
    },
    {
      "cell_type": "code",
      "metadata": {
        "id": "SfBenOmwyNdf",
        "colab_type": "code",
        "colab": {
          "base_uri": "https://localhost:8080/",
          "height": 35
        },
        "outputId": "d694dfb4-ca55-45c3-c54d-020c30aff034"
      },
      "source": [
        "# 観測されたアウトカムから反事実を予測するMetaLearnerモデルを構築していく\n",
        "# 一般的なMLの学習タスクと異なり、正解に反事実が含まれるためmae,val_loss等を算出できない\n",
        "# 今回は、傾向スコアモデル学習時と異なり、学習データを少しでも水増しさせるため検証データを加える\n",
        "learner_train_X = np.concatenate([train_X, val_X])\n",
        "learner_train_t = np.concatenate([train_t, val_t])\n",
        "learner_train_y = np.concatenate([train_y, val_y])\n",
        "learner_train_ps = np.concatenate([train_ps, val_ps])\n",
        "print('learner_train_ps:{}'.format(learner_train_ps.shape))"
      ],
      "execution_count": 11,
      "outputs": [
        {
          "output_type": "stream",
          "text": [
            "learner_train_ps:(356,)\n"
          ],
          "name": "stdout"
        }
      ]
    },
    {
      "cell_type": "code",
      "metadata": {
        "id": "WkVBRwHXvuEl",
        "colab_type": "code",
        "colab": {
          "base_uri": "https://localhost:8080/",
          "height": 145
        },
        "outputId": "e3936cad-aa77-41f6-ea05-f04254ec9ddc"
      },
      "source": [
        "%%time\n",
        "x_learner = BaseXRegressor(XGBRegressor(n_estimators=1000,random_state=SEED))\n",
        "\n",
        "x_learner.fit(X=learner_train_X, treatment=learner_train_t, \n",
        "              y=learner_train_y, p=learner_train_ps)"
      ],
      "execution_count": 12,
      "outputs": [
        {
          "output_type": "stream",
          "text": [
            "[04:39:01] WARNING: /workspace/src/objective/regression_obj.cu:152: reg:linear is now deprecated in favor of reg:squarederror.\n",
            "[04:39:01] WARNING: /workspace/src/objective/regression_obj.cu:152: reg:linear is now deprecated in favor of reg:squarederror.\n",
            "[04:39:01] WARNING: /workspace/src/objective/regression_obj.cu:152: reg:linear is now deprecated in favor of reg:squarederror.\n",
            "[04:39:01] WARNING: /workspace/src/objective/regression_obj.cu:152: reg:linear is now deprecated in favor of reg:squarederror.\n",
            "CPU times: user 532 ms, sys: 26.9 ms, total: 559 ms\n",
            "Wall time: 565 ms\n"
          ],
          "name": "stdout"
        }
      ]
    },
    {
      "cell_type": "code",
      "metadata": {
        "id": "npmsdIxKn3A7",
        "colab_type": "code",
        "colab": {
          "base_uri": "https://localhost:8080/",
          "height": 109
        },
        "outputId": "82ba9702-4507-4b29-920c-527acecf89b1"
      },
      "source": [
        "%%time\n",
        "t_learner = XGBTRegressor(ate_alpha=0.05, n_estimators=1000, random_state=SEED)\n",
        "t_learner.fit(X=learner_train_X, treatment=learner_train_t, y=learner_train_y)"
      ],
      "execution_count": 13,
      "outputs": [
        {
          "output_type": "stream",
          "text": [
            "[04:39:01] WARNING: /workspace/src/objective/regression_obj.cu:152: reg:linear is now deprecated in favor of reg:squarederror.\n",
            "[04:39:01] WARNING: /workspace/src/objective/regression_obj.cu:152: reg:linear is now deprecated in favor of reg:squarederror.\n",
            "CPU times: user 257 ms, sys: 6.86 ms, total: 264 ms\n",
            "Wall time: 267 ms\n"
          ],
          "name": "stdout"
        }
      ]
    },
    {
      "cell_type": "markdown",
      "metadata": {
        "id": "JLa6Y7Tc3xPX",
        "colab_type": "text"
      },
      "source": [
        "## 予測結果の確認\n",
        "公式チュートリアルで構築されたモデルの予測結果[https://github.com/uber/causalml/blob/master/examples/dragonnet_example.ipynb](https://github.com/uber/causalml/blob/master/examples/dragonnet_example.ipynb)"
      ]
    },
    {
      "cell_type": "code",
      "metadata": {
        "id": "o3gNvv4A7znp",
        "colab_type": "code",
        "colab": {
          "base_uri": "https://localhost:8080/",
          "height": 35
        },
        "outputId": "653ea5fe-b889-48a9-bf2f-29779532f925"
      },
      "source": [
        "# 解析対象となるデータ用意(学習/検証/テストデータの結合)\n",
        "learner_input_X = np.concatenate([train_X, val_X, test_X])\n",
        "learner_input_t = np.concatenate([train_t, val_t, test_t])\n",
        "learner_input_y = np.concatenate([train_y, val_y, test_y])\n",
        "\n",
        "test_ps = ps_model.predict_proba(test_X)[:,1]\n",
        "learner_input_ps = np.concatenate([train_ps, val_ps, test_ps])\n",
        "print('learner_input_ps:{}'.format(learner_input_ps.shape))"
      ],
      "execution_count": 14,
      "outputs": [
        {
          "output_type": "stream",
          "text": [
            "learner_input_ps:(445,)\n"
          ],
          "name": "stdout"
        }
      ]
    },
    {
      "cell_type": "markdown",
      "metadata": {
        "id": "fl7IxIYR6HEN",
        "colab_type": "text"
      },
      "source": [
        "### ATE:AverageTreatmentEffect（平均因果効果）"
      ]
    },
    {
      "cell_type": "code",
      "metadata": {
        "id": "8_9xU6Ig0aqr",
        "colab_type": "code",
        "colab": {
          "base_uri": "https://localhost:8080/",
          "height": 181
        },
        "outputId": "58bf8b73-cac4-4489-f1e2-9fcfc11cfcd5"
      },
      "source": [
        "%%time\n",
        "x_ate = x_learner.estimate_ate(X=learner_input_X, treatment=learner_input_t,\n",
        "                             y=learner_input_y, p=learner_input_ps)\n",
        "t_ate = t_learner.estimate_ate(X=learner_input_X, treatment=learner_input_t,\n",
        "                               y=learner_input_y)"
      ],
      "execution_count": 15,
      "outputs": [
        {
          "output_type": "stream",
          "text": [
            "[04:39:02] WARNING: /workspace/src/objective/regression_obj.cu:152: reg:linear is now deprecated in favor of reg:squarederror.\n",
            "[04:39:02] WARNING: /workspace/src/objective/regression_obj.cu:152: reg:linear is now deprecated in favor of reg:squarederror.\n",
            "[04:39:02] WARNING: /workspace/src/objective/regression_obj.cu:152: reg:linear is now deprecated in favor of reg:squarederror.\n",
            "[04:39:02] WARNING: /workspace/src/objective/regression_obj.cu:152: reg:linear is now deprecated in favor of reg:squarederror.\n",
            "[04:39:02] WARNING: /workspace/src/objective/regression_obj.cu:152: reg:linear is now deprecated in favor of reg:squarederror.\n",
            "[04:39:03] WARNING: /workspace/src/objective/regression_obj.cu:152: reg:linear is now deprecated in favor of reg:squarederror.\n",
            "CPU times: user 1.03 s, sys: 30.1 ms, total: 1.06 s\n",
            "Wall time: 1.07 s\n"
          ],
          "name": "stdout"
        }
      ]
    },
    {
      "cell_type": "code",
      "metadata": {
        "id": "Gc5mbRaS2U1K",
        "colab_type": "code",
        "colab": {
          "base_uri": "https://localhost:8080/",
          "height": 125
        },
        "outputId": "1b13d65f-268b-4a1f-b2f6-44fbecd545ac"
      },
      "source": [
        "# ATE:AverageTreatmentEffectp\n",
        "print('x-learnerのATE:{ate}'.format(ate=x_ate[0][0]))\n",
        "print('信頼区間の下限値(LB):{lb}'.format(lb=x_ate[1][0]))\n",
        "print('信頼区間の上限値(UB):{ub}'.format(ub=x_ate[2][0]))\n",
        "print('t-learnerのATE:{ate}'.format(ate=t_ate[0][0]))\n",
        "print('信頼区間の下限値(LB):{lb}'.format(lb=t_ate[1][0]))\n",
        "print('信頼区間の上限値(UB):{ub}'.format(ub=t_ate[2][0]))"
      ],
      "execution_count": 16,
      "outputs": [
        {
          "output_type": "stream",
          "text": [
            "x-learnerのATE:1924.7883469485164\n",
            "信頼区間の下限値(LB):1115.5002739259014\n",
            "信頼区間の上限値(UB):2734.076419971131\n",
            "t-learnerのATE:1933.7731893475136\n",
            "信頼区間の下限値(LB):1033.5334511635929\n",
            "信頼区間の上限値(UB):2834.0129275314343\n"
          ],
          "name": "stdout"
        }
      ]
    },
    {
      "cell_type": "markdown",
      "metadata": {
        "id": "11VY8Ywb6asr",
        "colab_type": "text"
      },
      "source": [
        "### ITE:IndividualTreatmentEffect（個別的因果効果）"
      ]
    },
    {
      "cell_type": "code",
      "metadata": {
        "id": "1rFfRPLl7P_J",
        "colab_type": "code",
        "colab": {
          "base_uri": "https://localhost:8080/",
          "height": 53
        },
        "outputId": "ac86b16d-0b76-4623-cbd2-84b313108ce3"
      },
      "source": [
        "%%time\n",
        "x_ite = x_learner.predict(X=learner_input_X, treatment=learner_input_t,\n",
        "                        y=learner_input_y, p=learner_input_ps)\n",
        "t_ite = t_learner.predict(X=learner_input_X, treatment=learner_input_t, y=learner_input_y)"
      ],
      "execution_count": 17,
      "outputs": [
        {
          "output_type": "stream",
          "text": [
            "CPU times: user 71.1 ms, sys: 0 ns, total: 71.1 ms\n",
            "Wall time: 76.4 ms\n"
          ],
          "name": "stdout"
        }
      ]
    },
    {
      "cell_type": "code",
      "metadata": {
        "id": "nLm_Iyjk39lZ",
        "colab_type": "code",
        "colab": {
          "base_uri": "https://localhost:8080/",
          "height": 435
        },
        "outputId": "91ad817c-ec05-43dd-e1f9-4b77e635879a"
      },
      "source": [
        "# ITE:IndividualTreatmentEffect\n",
        "insert_columns = ['X_ITE', 'T_ITE']\n",
        "insert_val = [x_ite, t_ite]\n",
        "for insert_col, val in zip(insert_columns, insert_val):\n",
        "  if insert_col in data.columns:\n",
        "    data.drop(columns=insert_col,inplace=True)\n",
        "  data.insert(loc=0, column=insert_col, value=val)\n",
        "data"
      ],
      "execution_count": 18,
      "outputs": [
        {
          "output_type": "execute_result",
          "data": {
            "text/html": [
              "<div>\n",
              "<style scoped>\n",
              "    .dataframe tbody tr th:only-of-type {\n",
              "        vertical-align: middle;\n",
              "    }\n",
              "\n",
              "    .dataframe tbody tr th {\n",
              "        vertical-align: top;\n",
              "    }\n",
              "\n",
              "    .dataframe thead th {\n",
              "        text-align: right;\n",
              "    }\n",
              "</style>\n",
              "<table border=\"1\" class=\"dataframe\">\n",
              "  <thead>\n",
              "    <tr style=\"text-align: right;\">\n",
              "      <th></th>\n",
              "      <th>T_ITE</th>\n",
              "      <th>X_ITE</th>\n",
              "      <th>age</th>\n",
              "      <th>educ</th>\n",
              "      <th>black</th>\n",
              "      <th>hisp</th>\n",
              "      <th>married</th>\n",
              "      <th>nodegr</th>\n",
              "      <th>re74</th>\n",
              "      <th>re75</th>\n",
              "      <th>re78</th>\n",
              "      <th>u74</th>\n",
              "      <th>u75</th>\n",
              "      <th>treat</th>\n",
              "    </tr>\n",
              "  </thead>\n",
              "  <tbody>\n",
              "    <tr>\n",
              "      <th>0</th>\n",
              "      <td>3257.140137</td>\n",
              "      <td>6900.692383</td>\n",
              "      <td>37</td>\n",
              "      <td>11</td>\n",
              "      <td>1</td>\n",
              "      <td>0</td>\n",
              "      <td>1</td>\n",
              "      <td>1</td>\n",
              "      <td>0.00</td>\n",
              "      <td>0.0</td>\n",
              "      <td>9930.05</td>\n",
              "      <td>1</td>\n",
              "      <td>1</td>\n",
              "      <td>1</td>\n",
              "    </tr>\n",
              "    <tr>\n",
              "      <th>1</th>\n",
              "      <td>8398.496094</td>\n",
              "      <td>7879.037109</td>\n",
              "      <td>22</td>\n",
              "      <td>9</td>\n",
              "      <td>0</td>\n",
              "      <td>1</td>\n",
              "      <td>0</td>\n",
              "      <td>1</td>\n",
              "      <td>0.00</td>\n",
              "      <td>0.0</td>\n",
              "      <td>3595.89</td>\n",
              "      <td>1</td>\n",
              "      <td>1</td>\n",
              "      <td>1</td>\n",
              "    </tr>\n",
              "    <tr>\n",
              "      <th>2</th>\n",
              "      <td>143.145752</td>\n",
              "      <td>35.841721</td>\n",
              "      <td>30</td>\n",
              "      <td>12</td>\n",
              "      <td>1</td>\n",
              "      <td>0</td>\n",
              "      <td>0</td>\n",
              "      <td>0</td>\n",
              "      <td>0.00</td>\n",
              "      <td>0.0</td>\n",
              "      <td>24909.50</td>\n",
              "      <td>1</td>\n",
              "      <td>1</td>\n",
              "      <td>1</td>\n",
              "    </tr>\n",
              "    <tr>\n",
              "      <th>3</th>\n",
              "      <td>-1892.088867</td>\n",
              "      <td>-1349.422241</td>\n",
              "      <td>27</td>\n",
              "      <td>11</td>\n",
              "      <td>1</td>\n",
              "      <td>0</td>\n",
              "      <td>0</td>\n",
              "      <td>1</td>\n",
              "      <td>0.00</td>\n",
              "      <td>0.0</td>\n",
              "      <td>7506.15</td>\n",
              "      <td>1</td>\n",
              "      <td>1</td>\n",
              "      <td>1</td>\n",
              "    </tr>\n",
              "    <tr>\n",
              "      <th>4</th>\n",
              "      <td>-2784.637695</td>\n",
              "      <td>3199.215820</td>\n",
              "      <td>33</td>\n",
              "      <td>8</td>\n",
              "      <td>1</td>\n",
              "      <td>0</td>\n",
              "      <td>0</td>\n",
              "      <td>1</td>\n",
              "      <td>0.00</td>\n",
              "      <td>0.0</td>\n",
              "      <td>289.79</td>\n",
              "      <td>1</td>\n",
              "      <td>1</td>\n",
              "      <td>1</td>\n",
              "    </tr>\n",
              "    <tr>\n",
              "      <th>...</th>\n",
              "      <td>...</td>\n",
              "      <td>...</td>\n",
              "      <td>...</td>\n",
              "      <td>...</td>\n",
              "      <td>...</td>\n",
              "      <td>...</td>\n",
              "      <td>...</td>\n",
              "      <td>...</td>\n",
              "      <td>...</td>\n",
              "      <td>...</td>\n",
              "      <td>...</td>\n",
              "      <td>...</td>\n",
              "      <td>...</td>\n",
              "      <td>...</td>\n",
              "    </tr>\n",
              "    <tr>\n",
              "      <th>440</th>\n",
              "      <td>3754.640381</td>\n",
              "      <td>1914.254639</td>\n",
              "      <td>21</td>\n",
              "      <td>9</td>\n",
              "      <td>1</td>\n",
              "      <td>0</td>\n",
              "      <td>0</td>\n",
              "      <td>1</td>\n",
              "      <td>31886.40</td>\n",
              "      <td>12357.2</td>\n",
              "      <td>0.00</td>\n",
              "      <td>0</td>\n",
              "      <td>0</td>\n",
              "      <td>0</td>\n",
              "    </tr>\n",
              "    <tr>\n",
              "      <th>441</th>\n",
              "      <td>6363.058594</td>\n",
              "      <td>3479.741699</td>\n",
              "      <td>28</td>\n",
              "      <td>11</td>\n",
              "      <td>1</td>\n",
              "      <td>0</td>\n",
              "      <td>0</td>\n",
              "      <td>1</td>\n",
              "      <td>17491.50</td>\n",
              "      <td>13371.3</td>\n",
              "      <td>0.00</td>\n",
              "      <td>0</td>\n",
              "      <td>0</td>\n",
              "      <td>0</td>\n",
              "    </tr>\n",
              "    <tr>\n",
              "      <th>442</th>\n",
              "      <td>-5946.514648</td>\n",
              "      <td>-5542.077148</td>\n",
              "      <td>29</td>\n",
              "      <td>9</td>\n",
              "      <td>0</td>\n",
              "      <td>1</td>\n",
              "      <td>0</td>\n",
              "      <td>1</td>\n",
              "      <td>9594.31</td>\n",
              "      <td>16341.2</td>\n",
              "      <td>16900.30</td>\n",
              "      <td>0</td>\n",
              "      <td>0</td>\n",
              "      <td>0</td>\n",
              "    </tr>\n",
              "    <tr>\n",
              "      <th>443</th>\n",
              "      <td>-1945.338135</td>\n",
              "      <td>-3606.191895</td>\n",
              "      <td>25</td>\n",
              "      <td>9</td>\n",
              "      <td>1</td>\n",
              "      <td>0</td>\n",
              "      <td>1</td>\n",
              "      <td>1</td>\n",
              "      <td>24731.60</td>\n",
              "      <td>16946.6</td>\n",
              "      <td>7343.96</td>\n",
              "      <td>0</td>\n",
              "      <td>0</td>\n",
              "      <td>0</td>\n",
              "    </tr>\n",
              "    <tr>\n",
              "      <th>444</th>\n",
              "      <td>-2047.515625</td>\n",
              "      <td>-1831.265015</td>\n",
              "      <td>22</td>\n",
              "      <td>10</td>\n",
              "      <td>0</td>\n",
              "      <td>0</td>\n",
              "      <td>1</td>\n",
              "      <td>1</td>\n",
              "      <td>25720.90</td>\n",
              "      <td>23032.0</td>\n",
              "      <td>5448.80</td>\n",
              "      <td>0</td>\n",
              "      <td>0</td>\n",
              "      <td>0</td>\n",
              "    </tr>\n",
              "  </tbody>\n",
              "</table>\n",
              "<p>445 rows × 14 columns</p>\n",
              "</div>"
            ],
            "text/plain": [
              "           T_ITE        X_ITE  age  educ  ...      re78  u74  u75  treat\n",
              "0    3257.140137  6900.692383   37    11  ...   9930.05    1    1      1\n",
              "1    8398.496094  7879.037109   22     9  ...   3595.89    1    1      1\n",
              "2     143.145752    35.841721   30    12  ...  24909.50    1    1      1\n",
              "3   -1892.088867 -1349.422241   27    11  ...   7506.15    1    1      1\n",
              "4   -2784.637695  3199.215820   33     8  ...    289.79    1    1      1\n",
              "..           ...          ...  ...   ...  ...       ...  ...  ...    ...\n",
              "440  3754.640381  1914.254639   21     9  ...      0.00    0    0      0\n",
              "441  6363.058594  3479.741699   28    11  ...      0.00    0    0      0\n",
              "442 -5946.514648 -5542.077148   29     9  ...  16900.30    0    0      0\n",
              "443 -1945.338135 -3606.191895   25     9  ...   7343.96    0    0      0\n",
              "444 -2047.515625 -1831.265015   22    10  ...   5448.80    0    0      0\n",
              "\n",
              "[445 rows x 14 columns]"
            ]
          },
          "metadata": {
            "tags": []
          },
          "execution_count": 18
        }
      ]
    },
    {
      "cell_type": "code",
      "metadata": {
        "id": "JwEvjODXq6vn",
        "colab_type": "code",
        "colab": {
          "base_uri": "https://localhost:8080/",
          "height": 558
        },
        "outputId": "dec0d30a-18b5-4fac-f7e7-3c82f048ce34"
      },
      "source": [
        "alpha=0.3\n",
        "bins=100\n",
        "plt.figure(figsize=(12,8))\n",
        "plt.hist(x_ite, alpha=alpha, bins=bins, label='X Learner', color='red')\n",
        "plt.hist(t_ite, alpha=alpha, bins=bins, label='T Learner', color='blue')\n",
        "plt.title('Distribution of CATE Predictions by Meta Learner')\n",
        "plt.xlabel('Individual Treatment Effect (ITE/CATE)')\n",
        "plt.ylabel('# of Samples')\n",
        "_=plt.legend()"
      ],
      "execution_count": 50,
      "outputs": [
        {
          "output_type": "display_data",
          "data": {
            "image/png": "[encoded data removed]",
            "text/plain": [
              "<Figure size 864x576 with 1 Axes>"
            ]
          },
          "metadata": {
            "tags": []
          }
        }
      ]
    },
    {
      "cell_type": "markdown",
      "metadata": {
        "id": "MzVlffouBnsH",
        "colab_type": "text"
      },
      "source": [
        "### 特徴量毎の重要度の確認"
      ]
    },
    {
      "cell_type": "code",
      "metadata": {
        "id": "RnqLlYQgB1AR",
        "colab_type": "code",
        "colab": {
          "base_uri": "https://localhost:8080/",
          "height": 592
        },
        "outputId": "c93e4509-12ca-4e01-e82d-81df19c1a424"
      },
      "source": [
        "x_learner.plot_importance(X=learner_input_X,\n",
        "                          tau=x_ite,\n",
        "                          model_tau_feature=XGBRegressor(random_state=SEED),\n",
        "                          features=FEATURE_COLUMNS,\n",
        "                          method='auto',\n",
        "                          random_state=SEED)"
      ],
      "execution_count": 20,
      "outputs": [
        {
          "output_type": "stream",
          "text": [
            "[04:39:03] WARNING: /workspace/src/objective/regression_obj.cu:152: reg:linear is now deprecated in favor of reg:squarederror.\n",
            "[04:39:03] WARNING: /workspace/src/objective/regression_obj.cu:152: reg:linear is now deprecated in favor of reg:squarederror.\n"
          ],
          "name": "stdout"
        },
        {
          "output_type": "display_data",
          "data": {
            "image/png": "[encoded data removed]",
            "text/plain": [
              "<Figure size 864x576 with 1 Axes>"
            ]
          },
          "metadata": {
            "tags": []
          }
        }
      ]
    },
    {
      "cell_type": "markdown",
      "metadata": {
        "id": "TjtsPzZ3XmJ5",
        "colab_type": "text"
      },
      "source": [
        "### 特徴量毎のshap値確認"
      ]
    },
    {
      "cell_type": "code",
      "metadata": {
        "id": "jXlZ7gJXOkO0",
        "colab_type": "code",
        "colab": {
          "base_uri": "https://localhost:8080/",
          "height": 477
        },
        "outputId": "f0133843-3c5f-45ff-ed40-be671b2953a6"
      },
      "source": [
        "x_learner.plot_shap_values(X=learner_input_X, tau=x_ite, \n",
        "                           features=FEATURE_COLUMNS,\n",
        "                           model_tau_feature=XGBRegressor(random_state=SEED))"
      ],
      "execution_count": 21,
      "outputs": [
        {
          "output_type": "stream",
          "text": [
            "[04:39:04] WARNING: /workspace/src/objective/regression_obj.cu:152: reg:linear is now deprecated in favor of reg:squarederror.\n",
            "[04:39:04] WARNING: /workspace/src/objective/regression_obj.cu:152: reg:linear is now deprecated in favor of reg:squarederror.\n"
          ],
          "name": "stdout"
        },
        {
          "output_type": "stream",
          "text": [
            "Setting feature_perturbation = \"tree_path_dependent\" because no background data was given.\n"
          ],
          "name": "stderr"
        },
        {
          "output_type": "display_data",
          "data": {
            "image/png": "[encoded data removed]",
            "text/plain": [
              "<Figure size 576x396 with 1 Axes>"
            ]
          },
          "metadata": {
            "tags": []
          }
        }
      ]
    },
    {
      "cell_type": "markdown",
      "metadata": {
        "id": "nkpQqBYkYojq",
        "colab_type": "text"
      },
      "source": [
        "## モデルの評価\n",
        "TMLE:Targeted maximum likelihood estimation(局所的に最尤推定を行う)モデルとの比較。<br>正解となる目的変数にはCounterfactual(反事実)が含まれているため、一般的な精度が算出できない。そこでTMLEモデルをベースラインにして、構築したモデルの精度を比較し評価する。"
      ]
    },
    {
      "cell_type": "code",
      "metadata": {
        "id": "FPBFW2C7PbSr",
        "colab_type": "code",
        "colab": {
          "base_uri": "https://localhost:8080/",
          "height": 222
        },
        "outputId": "993fea8f-4dd2-43fa-828d-e66d7d2349b0"
      },
      "source": [
        "# 傾向スコアの挿入\n",
        "PS_COLUMN = 'ps'\n",
        "insert_column = PS_COLUMN\n",
        "\n",
        "if insert_column in data.columns:\n",
        "  data.drop(columns=insert_column,inplace=True)\n",
        "data.insert(loc=0, column=insert_column, value=learner_input_ps)\n",
        "data.head()"
      ],
      "execution_count": 22,
      "outputs": [
        {
          "output_type": "execute_result",
          "data": {
            "text/html": [
              "<div>\n",
              "<style scoped>\n",
              "    .dataframe tbody tr th:only-of-type {\n",
              "        vertical-align: middle;\n",
              "    }\n",
              "\n",
              "    .dataframe tbody tr th {\n",
              "        vertical-align: top;\n",
              "    }\n",
              "\n",
              "    .dataframe thead th {\n",
              "        text-align: right;\n",
              "    }\n",
              "</style>\n",
              "<table border=\"1\" class=\"dataframe\">\n",
              "  <thead>\n",
              "    <tr style=\"text-align: right;\">\n",
              "      <th></th>\n",
              "      <th>ps</th>\n",
              "      <th>T_ITE</th>\n",
              "      <th>X_ITE</th>\n",
              "      <th>age</th>\n",
              "      <th>educ</th>\n",
              "      <th>black</th>\n",
              "      <th>hisp</th>\n",
              "      <th>married</th>\n",
              "      <th>nodegr</th>\n",
              "      <th>re74</th>\n",
              "      <th>re75</th>\n",
              "      <th>re78</th>\n",
              "      <th>u74</th>\n",
              "      <th>u75</th>\n",
              "      <th>treat</th>\n",
              "    </tr>\n",
              "  </thead>\n",
              "  <tbody>\n",
              "    <tr>\n",
              "      <th>0</th>\n",
              "      <td>0.476768</td>\n",
              "      <td>3257.140137</td>\n",
              "      <td>6900.692383</td>\n",
              "      <td>37</td>\n",
              "      <td>11</td>\n",
              "      <td>1</td>\n",
              "      <td>0</td>\n",
              "      <td>1</td>\n",
              "      <td>1</td>\n",
              "      <td>0.0</td>\n",
              "      <td>0.0</td>\n",
              "      <td>9930.05</td>\n",
              "      <td>1</td>\n",
              "      <td>1</td>\n",
              "      <td>1</td>\n",
              "    </tr>\n",
              "    <tr>\n",
              "      <th>1</th>\n",
              "      <td>0.514861</td>\n",
              "      <td>8398.496094</td>\n",
              "      <td>7879.037109</td>\n",
              "      <td>22</td>\n",
              "      <td>9</td>\n",
              "      <td>0</td>\n",
              "      <td>1</td>\n",
              "      <td>0</td>\n",
              "      <td>1</td>\n",
              "      <td>0.0</td>\n",
              "      <td>0.0</td>\n",
              "      <td>3595.89</td>\n",
              "      <td>1</td>\n",
              "      <td>1</td>\n",
              "      <td>1</td>\n",
              "    </tr>\n",
              "    <tr>\n",
              "      <th>2</th>\n",
              "      <td>0.514861</td>\n",
              "      <td>143.145752</td>\n",
              "      <td>35.841721</td>\n",
              "      <td>30</td>\n",
              "      <td>12</td>\n",
              "      <td>1</td>\n",
              "      <td>0</td>\n",
              "      <td>0</td>\n",
              "      <td>0</td>\n",
              "      <td>0.0</td>\n",
              "      <td>0.0</td>\n",
              "      <td>24909.50</td>\n",
              "      <td>1</td>\n",
              "      <td>1</td>\n",
              "      <td>1</td>\n",
              "    </tr>\n",
              "    <tr>\n",
              "      <th>3</th>\n",
              "      <td>0.476768</td>\n",
              "      <td>-1892.088867</td>\n",
              "      <td>-1349.422241</td>\n",
              "      <td>27</td>\n",
              "      <td>11</td>\n",
              "      <td>1</td>\n",
              "      <td>0</td>\n",
              "      <td>0</td>\n",
              "      <td>1</td>\n",
              "      <td>0.0</td>\n",
              "      <td>0.0</td>\n",
              "      <td>7506.15</td>\n",
              "      <td>1</td>\n",
              "      <td>1</td>\n",
              "      <td>1</td>\n",
              "    </tr>\n",
              "    <tr>\n",
              "      <th>4</th>\n",
              "      <td>0.476768</td>\n",
              "      <td>-2784.637695</td>\n",
              "      <td>3199.215820</td>\n",
              "      <td>33</td>\n",
              "      <td>8</td>\n",
              "      <td>1</td>\n",
              "      <td>0</td>\n",
              "      <td>0</td>\n",
              "      <td>1</td>\n",
              "      <td>0.0</td>\n",
              "      <td>0.0</td>\n",
              "      <td>289.79</td>\n",
              "      <td>1</td>\n",
              "      <td>1</td>\n",
              "      <td>1</td>\n",
              "    </tr>\n",
              "  </tbody>\n",
              "</table>\n",
              "</div>"
            ],
            "text/plain": [
              "         ps        T_ITE        X_ITE  age  ...      re78  u74  u75  treat\n",
              "0  0.476768  3257.140137  6900.692383   37  ...   9930.05    1    1      1\n",
              "1  0.514861  8398.496094  7879.037109   22  ...   3595.89    1    1      1\n",
              "2  0.514861   143.145752    35.841721   30  ...  24909.50    1    1      1\n",
              "3  0.476768 -1892.088867 -1349.422241   27  ...   7506.15    1    1      1\n",
              "4  0.476768 -2784.637695  3199.215820   33  ...    289.79    1    1      1\n",
              "\n",
              "[5 rows x 15 columns]"
            ]
          },
          "metadata": {
            "tags": []
          },
          "execution_count": 22
        }
      ]
    },
    {
      "cell_type": "code",
      "metadata": {
        "id": "HbY6KsLnpEnX",
        "colab_type": "code",
        "colab": {
          "base_uri": "https://localhost:8080/",
          "height": 307
        },
        "outputId": "e386cf24-1a31-4fc1-9380-57ceb2f21c86"
      },
      "source": [
        "tmlgeain = get_tmlegain(df=data,inference_col=FEATURE_COLUMNS, \n",
        "                        learner=XGBRegressor(n_estimators=1000, random_state=SEED),\n",
        "                        outcome_col=OUTCOME_COLUMN, treatment_col=TREATMENT_COLUMN,\n",
        "                        p_col=PS_COLUMN,ci=True)\n",
        "tmlgeain"
      ],
      "execution_count": 24,
      "outputs": [
        {
          "output_type": "stream",
          "text": [
            "[04:39:04] WARNING: /workspace/src/objective/regression_obj.cu:152: reg:linear is now deprecated in favor of reg:squarederror.\n",
            "[04:39:05] WARNING: /workspace/src/objective/regression_obj.cu:152: reg:linear is now deprecated in favor of reg:squarederror.\n",
            "[04:39:05] WARNING: /workspace/src/objective/regression_obj.cu:152: reg:linear is now deprecated in favor of reg:squarederror.\n"
          ],
          "name": "stdout"
        },
        {
          "output_type": "execute_result",
          "data": {
            "text/html": [
              "<div>\n",
              "<style scoped>\n",
              "    .dataframe tbody tr th:only-of-type {\n",
              "        vertical-align: middle;\n",
              "    }\n",
              "\n",
              "    .dataframe tbody tr th {\n",
              "        vertical-align: top;\n",
              "    }\n",
              "\n",
              "    .dataframe thead th {\n",
              "        text-align: right;\n",
              "    }\n",
              "</style>\n",
              "<table border=\"1\" class=\"dataframe\">\n",
              "  <thead>\n",
              "    <tr style=\"text-align: right;\">\n",
              "      <th></th>\n",
              "      <th>T_ITE</th>\n",
              "      <th>X_ITE</th>\n",
              "      <th>T_ITE LB</th>\n",
              "      <th>X_ITE LB</th>\n",
              "      <th>T_ITE UB</th>\n",
              "      <th>X_ITE UB</th>\n",
              "      <th>Random</th>\n",
              "    </tr>\n",
              "  </thead>\n",
              "  <tbody>\n",
              "    <tr>\n",
              "      <th>0.0</th>\n",
              "      <td>0.000000</td>\n",
              "      <td>0.000000</td>\n",
              "      <td>0.000000</td>\n",
              "      <td>0.000000</td>\n",
              "      <td>0.000000</td>\n",
              "      <td>0.000000</td>\n",
              "      <td>0.000000</td>\n",
              "    </tr>\n",
              "    <tr>\n",
              "      <th>0.2</th>\n",
              "      <td>145.574117</td>\n",
              "      <td>181.985489</td>\n",
              "      <td>-159.649584</td>\n",
              "      <td>-114.332927</td>\n",
              "      <td>450.797818</td>\n",
              "      <td>478.303906</td>\n",
              "      <td>247.373053</td>\n",
              "    </tr>\n",
              "    <tr>\n",
              "      <th>0.4</th>\n",
              "      <td>440.666505</td>\n",
              "      <td>652.783310</td>\n",
              "      <td>-158.505299</td>\n",
              "      <td>1.122498</td>\n",
              "      <td>1039.838310</td>\n",
              "      <td>1304.444122</td>\n",
              "      <td>494.746106</td>\n",
              "    </tr>\n",
              "    <tr>\n",
              "      <th>0.6</th>\n",
              "      <td>732.386346</td>\n",
              "      <td>640.496073</td>\n",
              "      <td>-203.488526</td>\n",
              "      <td>-254.323932</td>\n",
              "      <td>1668.261217</td>\n",
              "      <td>1535.316079</td>\n",
              "      <td>742.119159</td>\n",
              "    </tr>\n",
              "    <tr>\n",
              "      <th>0.8</th>\n",
              "      <td>1000.128689</td>\n",
              "      <td>1057.125227</td>\n",
              "      <td>-223.276742</td>\n",
              "      <td>-103.443170</td>\n",
              "      <td>2223.534120</td>\n",
              "      <td>2217.693625</td>\n",
              "      <td>989.492212</td>\n",
              "    </tr>\n",
              "    <tr>\n",
              "      <th>1.0</th>\n",
              "      <td>1236.865265</td>\n",
              "      <td>1236.865265</td>\n",
              "      <td>568.791316</td>\n",
              "      <td>568.791316</td>\n",
              "      <td>1904.939215</td>\n",
              "      <td>1904.939215</td>\n",
              "      <td>1236.865265</td>\n",
              "    </tr>\n",
              "  </tbody>\n",
              "</table>\n",
              "</div>"
            ],
            "text/plain": [
              "           T_ITE        X_ITE  ...     X_ITE UB       Random\n",
              "0.0     0.000000     0.000000  ...     0.000000     0.000000\n",
              "0.2   145.574117   181.985489  ...   478.303906   247.373053\n",
              "0.4   440.666505   652.783310  ...  1304.444122   494.746106\n",
              "0.6   732.386346   640.496073  ...  1535.316079   742.119159\n",
              "0.8  1000.128689  1057.125227  ...  2217.693625   989.492212\n",
              "1.0  1236.865265  1236.865265  ...  1904.939215  1236.865265\n",
              "\n",
              "[6 rows x 7 columns]"
            ]
          },
          "metadata": {
            "tags": []
          },
          "execution_count": 24
        }
      ]
    },
    {
      "cell_type": "code",
      "metadata": {
        "id": "jOJClvS47Pj7",
        "colab_type": "code",
        "colab": {
          "base_uri": "https://localhost:8080/",
          "height": 611
        },
        "outputId": "16927702-205f-4032-fccb-bddae93737e7"
      },
      "source": [
        "plot_tmlegain(df=data,inference_col=FEATURE_COLUMNS, \n",
        "              learner=XGBRegressor(n_estimators=1000, random_state=SEED),\n",
        "              outcome_col=OUTCOME_COLUMN, treatment_col=TREATMENT_COLUMN, p_col=PS_COLUMN,\n",
        "              n_segment=10)"
      ],
      "execution_count": 25,
      "outputs": [
        {
          "output_type": "stream",
          "text": [
            "[04:39:05] WARNING: /workspace/src/objective/regression_obj.cu:152: reg:linear is now deprecated in favor of reg:squarederror.\n",
            "[04:39:06] WARNING: /workspace/src/objective/regression_obj.cu:152: reg:linear is now deprecated in favor of reg:squarederror.\n",
            "[04:39:06] WARNING: /workspace/src/objective/regression_obj.cu:152: reg:linear is now deprecated in favor of reg:squarederror.\n"
          ],
          "name": "stdout"
        },
        {
          "output_type": "display_data",
          "data": {
            "image/png": "[encoded data removed]",
            "text/plain": [
              "<Figure size 576x576 with 1 Axes>"
            ]
          },
          "metadata": {
            "tags": []
          }
        }
      ]
    },
    {
      "cell_type": "code",
      "metadata": {
        "id": "f7DFed6B-Lob",
        "colab_type": "code",
        "colab": {
          "base_uri": "https://localhost:8080/",
          "height": 611
        },
        "outputId": "2a28a50e-135d-499b-db5a-a293557572fa"
      },
      "source": [
        "plot_tmleqini(df=data,inference_col=FEATURE_COLUMNS, \n",
        "              learner=XGBRegressor(n_estimators=1000, random_state=SEED),\n",
        "              outcome_col=OUTCOME_COLUMN, treatment_col=TREATMENT_COLUMN, p_col=PS_COLUMN,\n",
        "              n_segment=10)"
      ],
      "execution_count": 26,
      "outputs": [
        {
          "output_type": "stream",
          "text": [
            "[04:39:07] WARNING: /workspace/src/objective/regression_obj.cu:152: reg:linear is now deprecated in favor of reg:squarederror.\n",
            "[04:39:07] WARNING: /workspace/src/objective/regression_obj.cu:152: reg:linear is now deprecated in favor of reg:squarederror.\n",
            "[04:39:08] WARNING: /workspace/src/objective/regression_obj.cu:152: reg:linear is now deprecated in favor of reg:squarederror.\n"
          ],
          "name": "stdout"
        },
        {
          "output_type": "display_data",
          "data": {
            "image/png": "[encoded data removed]",
            "text/plain": [
              "<Figure size 576x576 with 1 Axes>"
            ]
          },
          "metadata": {
            "tags": []
          }
        }
      ]
    },
    {
      "cell_type": "markdown",
      "metadata": {
        "id": "AoN6_fJrOJgD",
        "colab_type": "text"
      },
      "source": [
        "## T-Learnerについて感度分析\n",
        "元のデータを一部変化させることで、推定された因果効果のロバスト性を確認する分析手法<br>\n",
        "causalmlドキュメントに挙げられている感度分析の種類\n",
        "* Placebo Treatment\n",
        "* Irrelevant Additional Confounder\n",
        "* Subset validation\n",
        "* Random Replace\n",
        "* Selection Bias\n"
      ]
    },
    {
      "cell_type": "code",
      "metadata": {
        "id": "-Qkxsl8_SgZk",
        "colab_type": "code",
        "colab": {
          "base_uri": "https://localhost:8080/",
          "height": 222
        },
        "outputId": "6ec28113-9a32-4308-d44a-1cf1c07accfd"
      },
      "source": [
        "data.head()"
      ],
      "execution_count": 27,
      "outputs": [
        {
          "output_type": "execute_result",
          "data": {
            "text/html": [
              "<div>\n",
              "<style scoped>\n",
              "    .dataframe tbody tr th:only-of-type {\n",
              "        vertical-align: middle;\n",
              "    }\n",
              "\n",
              "    .dataframe tbody tr th {\n",
              "        vertical-align: top;\n",
              "    }\n",
              "\n",
              "    .dataframe thead th {\n",
              "        text-align: right;\n",
              "    }\n",
              "</style>\n",
              "<table border=\"1\" class=\"dataframe\">\n",
              "  <thead>\n",
              "    <tr style=\"text-align: right;\">\n",
              "      <th></th>\n",
              "      <th>ps</th>\n",
              "      <th>T_ITE</th>\n",
              "      <th>X_ITE</th>\n",
              "      <th>age</th>\n",
              "      <th>educ</th>\n",
              "      <th>black</th>\n",
              "      <th>hisp</th>\n",
              "      <th>married</th>\n",
              "      <th>nodegr</th>\n",
              "      <th>re74</th>\n",
              "      <th>re75</th>\n",
              "      <th>re78</th>\n",
              "      <th>u74</th>\n",
              "      <th>u75</th>\n",
              "      <th>treat</th>\n",
              "    </tr>\n",
              "  </thead>\n",
              "  <tbody>\n",
              "    <tr>\n",
              "      <th>0</th>\n",
              "      <td>0.476768</td>\n",
              "      <td>3257.140137</td>\n",
              "      <td>6900.692383</td>\n",
              "      <td>37</td>\n",
              "      <td>11</td>\n",
              "      <td>1</td>\n",
              "      <td>0</td>\n",
              "      <td>1</td>\n",
              "      <td>1</td>\n",
              "      <td>0.0</td>\n",
              "      <td>0.0</td>\n",
              "      <td>9930.05</td>\n",
              "      <td>1</td>\n",
              "      <td>1</td>\n",
              "      <td>1</td>\n",
              "    </tr>\n",
              "    <tr>\n",
              "      <th>1</th>\n",
              "      <td>0.514861</td>\n",
              "      <td>8398.496094</td>\n",
              "      <td>7879.037109</td>\n",
              "      <td>22</td>\n",
              "      <td>9</td>\n",
              "      <td>0</td>\n",
              "      <td>1</td>\n",
              "      <td>0</td>\n",
              "      <td>1</td>\n",
              "      <td>0.0</td>\n",
              "      <td>0.0</td>\n",
              "      <td>3595.89</td>\n",
              "      <td>1</td>\n",
              "      <td>1</td>\n",
              "      <td>1</td>\n",
              "    </tr>\n",
              "    <tr>\n",
              "      <th>2</th>\n",
              "      <td>0.514861</td>\n",
              "      <td>143.145752</td>\n",
              "      <td>35.841721</td>\n",
              "      <td>30</td>\n",
              "      <td>12</td>\n",
              "      <td>1</td>\n",
              "      <td>0</td>\n",
              "      <td>0</td>\n",
              "      <td>0</td>\n",
              "      <td>0.0</td>\n",
              "      <td>0.0</td>\n",
              "      <td>24909.50</td>\n",
              "      <td>1</td>\n",
              "      <td>1</td>\n",
              "      <td>1</td>\n",
              "    </tr>\n",
              "    <tr>\n",
              "      <th>3</th>\n",
              "      <td>0.476768</td>\n",
              "      <td>-1892.088867</td>\n",
              "      <td>-1349.422241</td>\n",
              "      <td>27</td>\n",
              "      <td>11</td>\n",
              "      <td>1</td>\n",
              "      <td>0</td>\n",
              "      <td>0</td>\n",
              "      <td>1</td>\n",
              "      <td>0.0</td>\n",
              "      <td>0.0</td>\n",
              "      <td>7506.15</td>\n",
              "      <td>1</td>\n",
              "      <td>1</td>\n",
              "      <td>1</td>\n",
              "    </tr>\n",
              "    <tr>\n",
              "      <th>4</th>\n",
              "      <td>0.476768</td>\n",
              "      <td>-2784.637695</td>\n",
              "      <td>3199.215820</td>\n",
              "      <td>33</td>\n",
              "      <td>8</td>\n",
              "      <td>1</td>\n",
              "      <td>0</td>\n",
              "      <td>0</td>\n",
              "      <td>1</td>\n",
              "      <td>0.0</td>\n",
              "      <td>0.0</td>\n",
              "      <td>289.79</td>\n",
              "      <td>1</td>\n",
              "      <td>1</td>\n",
              "      <td>1</td>\n",
              "    </tr>\n",
              "  </tbody>\n",
              "</table>\n",
              "</div>"
            ],
            "text/plain": [
              "         ps        T_ITE        X_ITE  age  ...      re78  u74  u75  treat\n",
              "0  0.476768  3257.140137  6900.692383   37  ...   9930.05    1    1      1\n",
              "1  0.514861  8398.496094  7879.037109   22  ...   3595.89    1    1      1\n",
              "2  0.514861   143.145752    35.841721   30  ...  24909.50    1    1      1\n",
              "3  0.476768 -1892.088867 -1349.422241   27  ...   7506.15    1    1      1\n",
              "4  0.476768 -2784.637695  3199.215820   33  ...    289.79    1    1      1\n",
              "\n",
              "[5 rows x 15 columns]"
            ]
          },
          "metadata": {
            "tags": []
          },
          "execution_count": 27
        }
      ]
    },
    {
      "cell_type": "code",
      "metadata": {
        "id": "wqPLmOB2PM0p",
        "colab_type": "code",
        "colab": {
          "base_uri": "https://localhost:8080/",
          "height": 127
        },
        "outputId": "f0ec3c0b-59e7-4270-aae5-fa55c524ffc3"
      },
      "source": [
        "# Sensitivityクラスのインスタンス化\n",
        "sensitivity = Sensitivity(df=data.drop(columns=['X_ITE']),\n",
        "                          inference_features=FEATURE_COLUMNS,\n",
        "                          p_col=PS_COLUMN, treatment_col=TREATMENT_COLUMN,\n",
        "                          outcome_col=OUTCOME_COLUMN, learner=t_learner)\n",
        "# ATEの再確認\n",
        "s_ate_ci = sensitivity.get_ate_ci(X=learner_input_X, p=learner_input_ps,\n",
        "                                  treatment=learner_input_t, y=learner_input_y)\n",
        "print('ATE:{ate}'.format(ate=s_ate_ci[0]))\n",
        "print('信頼区間の下限値(LB):{lb}'.format(lb=s_ate_ci[1]))\n",
        "print('信頼区間の上限値(UB):{ub}'.format(ub=s_ate_ci[2]))"
      ],
      "execution_count": 28,
      "outputs": [
        {
          "output_type": "stream",
          "text": [
            "[04:39:08] WARNING: /workspace/src/objective/regression_obj.cu:152: reg:linear is now deprecated in favor of reg:squarederror.\n",
            "[04:39:08] WARNING: /workspace/src/objective/regression_obj.cu:152: reg:linear is now deprecated in favor of reg:squarederror.\n",
            "ATE:1933.7731893475136\n",
            "信頼区間の下限値(LB):1033.5334511635929\n",
            "信頼区間の上限値(UB):2834.0129275314343\n"
          ],
          "name": "stdout"
        }
      ]
    },
    {
      "cell_type": "code",
      "metadata": {
        "id": "d2XGk5PePF0n",
        "colab_type": "code",
        "colab": {
          "base_uri": "https://localhost:8080/",
          "height": 35
        },
        "outputId": "a3374c40-440e-4c38-c6d1-27665b6d7395"
      },
      "source": [
        "# causalmlで使用可能な感度分析一覧\n",
        "sensitivity_methods = ['Placebo Treatment', 'Random Cause',\n",
        "                      'Subset Data', 'Random Replace', \n",
        "                      'Selection Bias']\n",
        "sensitivity_methods"
      ],
      "execution_count": 29,
      "outputs": [
        {
          "output_type": "execute_result",
          "data": {
            "text/html": [
              "['Placebo Treatment', 'Random Cause', 'Subset Data', 'Random Replace', 'Selection Bias']"
            ],
            "text/plain": [
              "['Placebo Treatment',\n",
              " 'Random Cause',\n",
              " 'Subset Data',\n",
              " 'Random Replace',\n",
              " 'Selection Bias']"
            ]
          },
          "metadata": {
            "tags": []
          },
          "execution_count": 29
        }
      ]
    },
    {
      "cell_type": "markdown",
      "metadata": {
        "id": "B5QphDYIK7iV",
        "colab_type": "text"
      },
      "source": [
        "confound引数に渡せる関数一覧\n",
        "* one_sided\n",
        "* alignment\n",
        "* one_sided_att\n",
        "* alignment_att<br>\n",
        "[詳細：https://www.mattblackwell.org/files/papers/causalsens.pdf](https://www.mattblackwell.org/files/papers/causalsens.pdf)"
      ]
    },
    {
      "cell_type": "markdown",
      "metadata": {
        "id": "r0fZIOe9TwXJ",
        "colab_type": "text"
      },
      "source": [
        "### sample_size=0.2"
      ]
    },
    {
      "cell_type": "code",
      "metadata": {
        "id": "pEIMOCwbQ6l2",
        "colab_type": "code",
        "colab": {
          "base_uri": "https://localhost:8080/",
          "height": 1000
        },
        "outputId": "8f8ebd43-2585-4bf9-86cc-bde7e9cbf57b"
      },
      "source": [
        "%%time\n",
        "sensitivity_result = sensitivity.sensitivity_analysis(methods=sensitivity_methods,\n",
        "                                             sample_size=0.2, confound='alignment_att')"
      ],
      "execution_count": 38,
      "outputs": [
        {
          "output_type": "stream",
          "text": [
            "[04:43:11] WARNING: /workspace/src/objective/regression_obj.cu:152: reg:linear is now deprecated in favor of reg:squarederror.\n",
            "[04:43:11] WARNING: /workspace/src/objective/regression_obj.cu:152: reg:linear is now deprecated in favor of reg:squarederror.\n",
            "[04:43:11] WARNING: /workspace/src/objective/regression_obj.cu:152: reg:linear is now deprecated in favor of reg:squarederror.\n",
            "[04:43:11] WARNING: /workspace/src/objective/regression_obj.cu:152: reg:linear is now deprecated in favor of reg:squarederror.\n",
            "[04:43:11] WARNING: /workspace/src/objective/regression_obj.cu:152: reg:linear is now deprecated in favor of reg:squarederror.\n",
            "[04:43:11] WARNING: /workspace/src/objective/regression_obj.cu:152: reg:linear is now deprecated in favor of reg:squarederror.\n",
            "[04:43:12] WARNING: /workspace/src/objective/regression_obj.cu:152: reg:linear is now deprecated in favor of reg:squarederror.\n",
            "[04:43:12] WARNING: /workspace/src/objective/regression_obj.cu:152: reg:linear is now deprecated in favor of reg:squarederror.\n",
            "[04:43:12] WARNING: /workspace/src/objective/regression_obj.cu:152: reg:linear is now deprecated in favor of reg:squarederror.\n",
            "[04:43:12] WARNING: /workspace/src/objective/regression_obj.cu:152: reg:linear is now deprecated in favor of reg:squarederror.\n",
            "[04:43:12] WARNING: /workspace/src/objective/regression_obj.cu:152: reg:linear is now deprecated in favor of reg:squarederror.\n",
            "[04:43:12] WARNING: /workspace/src/objective/regression_obj.cu:152: reg:linear is now deprecated in favor of reg:squarederror.\n",
            "[04:43:12] WARNING: /workspace/src/objective/regression_obj.cu:152: reg:linear is now deprecated in favor of reg:squarederror.\n",
            "[04:43:13] WARNING: /workspace/src/objective/regression_obj.cu:152: reg:linear is now deprecated in favor of reg:squarederror.\n",
            "[04:43:13] WARNING: /workspace/src/objective/regression_obj.cu:152: reg:linear is now deprecated in favor of reg:squarederror.\n",
            "[04:43:13] WARNING: /workspace/src/objective/regression_obj.cu:152: reg:linear is now deprecated in favor of reg:squarederror.\n",
            "[04:43:13] WARNING: /workspace/src/objective/regression_obj.cu:152: reg:linear is now deprecated in favor of reg:squarederror.\n",
            "[04:43:13] WARNING: /workspace/src/objective/regression_obj.cu:152: reg:linear is now deprecated in favor of reg:squarederror.\n",
            "[04:43:14] WARNING: /workspace/src/objective/regression_obj.cu:152: reg:linear is now deprecated in favor of reg:squarederror.\n",
            "[04:43:14] WARNING: /workspace/src/objective/regression_obj.cu:152: reg:linear is now deprecated in favor of reg:squarederror.\n",
            "[04:43:14] WARNING: /workspace/src/objective/regression_obj.cu:152: reg:linear is now deprecated in favor of reg:squarederror.\n",
            "[04:43:14] WARNING: /workspace/src/objective/regression_obj.cu:152: reg:linear is now deprecated in favor of reg:squarederror.\n",
            "[04:43:14] WARNING: /workspace/src/objective/regression_obj.cu:152: reg:linear is now deprecated in favor of reg:squarederror.\n",
            "[04:43:14] WARNING: /workspace/src/objective/regression_obj.cu:152: reg:linear is now deprecated in favor of reg:squarederror.\n",
            "[04:43:15] WARNING: /workspace/src/objective/regression_obj.cu:152: reg:linear is now deprecated in favor of reg:squarederror.\n",
            "[04:43:15] WARNING: /workspace/src/objective/regression_obj.cu:152: reg:linear is now deprecated in favor of reg:squarederror.\n",
            "[04:43:15] WARNING: /workspace/src/objective/regression_obj.cu:152: reg:linear is now deprecated in favor of reg:squarederror.\n",
            "[04:43:15] WARNING: /workspace/src/objective/regression_obj.cu:152: reg:linear is now deprecated in favor of reg:squarederror.\n",
            "[04:43:15] WARNING: /workspace/src/objective/regression_obj.cu:152: reg:linear is now deprecated in favor of reg:squarederror.\n",
            "[04:43:15] WARNING: /workspace/src/objective/regression_obj.cu:152: reg:linear is now deprecated in favor of reg:squarederror.\n",
            "[04:43:16] WARNING: /workspace/src/objective/regression_obj.cu:152: reg:linear is now deprecated in favor of reg:squarederror.\n",
            "[04:43:16] WARNING: /workspace/src/objective/regression_obj.cu:152: reg:linear is now deprecated in favor of reg:squarederror.\n",
            "[04:43:16] WARNING: /workspace/src/objective/regression_obj.cu:152: reg:linear is now deprecated in favor of reg:squarederror.\n",
            "[04:43:16] WARNING: /workspace/src/objective/regression_obj.cu:152: reg:linear is now deprecated in favor of reg:squarederror.\n",
            "[04:43:16] WARNING: /workspace/src/objective/regression_obj.cu:152: reg:linear is now deprecated in favor of reg:squarederror.\n",
            "[04:43:16] WARNING: /workspace/src/objective/regression_obj.cu:152: reg:linear is now deprecated in favor of reg:squarederror.\n",
            "[04:43:17] WARNING: /workspace/src/objective/regression_obj.cu:152: reg:linear is now deprecated in favor of reg:squarederror.\n",
            "[04:43:17] WARNING: /workspace/src/objective/regression_obj.cu:152: reg:linear is now deprecated in favor of reg:squarederror.\n",
            "[04:43:17] WARNING: /workspace/src/objective/regression_obj.cu:152: reg:linear is now deprecated in favor of reg:squarederror.\n",
            "[04:43:17] WARNING: /workspace/src/objective/regression_obj.cu:152: reg:linear is now deprecated in favor of reg:squarederror.\n",
            "[04:43:17] WARNING: /workspace/src/objective/regression_obj.cu:152: reg:linear is now deprecated in favor of reg:squarederror.\n",
            "[04:43:17] WARNING: /workspace/src/objective/regression_obj.cu:152: reg:linear is now deprecated in favor of reg:squarederror.\n",
            "[04:43:18] WARNING: /workspace/src/objective/regression_obj.cu:152: reg:linear is now deprecated in favor of reg:squarederror.\n",
            "[04:43:18] WARNING: /workspace/src/objective/regression_obj.cu:152: reg:linear is now deprecated in favor of reg:squarederror.\n",
            "[04:43:18] WARNING: /workspace/src/objective/regression_obj.cu:152: reg:linear is now deprecated in favor of reg:squarederror.\n",
            "[04:43:18] WARNING: /workspace/src/objective/regression_obj.cu:152: reg:linear is now deprecated in favor of reg:squarederror.\n",
            "[04:43:18] WARNING: /workspace/src/objective/regression_obj.cu:152: reg:linear is now deprecated in favor of reg:squarederror.\n",
            "[04:43:18] WARNING: /workspace/src/objective/regression_obj.cu:152: reg:linear is now deprecated in favor of reg:squarederror.\n",
            "[04:43:19] WARNING: /workspace/src/objective/regression_obj.cu:152: reg:linear is now deprecated in favor of reg:squarederror.\n",
            "[04:43:19] WARNING: /workspace/src/objective/regression_obj.cu:152: reg:linear is now deprecated in favor of reg:squarederror.\n",
            "[04:43:19] WARNING: /workspace/src/objective/regression_obj.cu:152: reg:linear is now deprecated in favor of reg:squarederror.\n",
            "[04:43:19] WARNING: /workspace/src/objective/regression_obj.cu:152: reg:linear is now deprecated in favor of reg:squarederror.\n",
            "[04:43:19] WARNING: /workspace/src/objective/regression_obj.cu:152: reg:linear is now deprecated in favor of reg:squarederror.\n",
            "[04:43:19] WARNING: /workspace/src/objective/regression_obj.cu:152: reg:linear is now deprecated in favor of reg:squarederror.\n",
            "[04:43:20] WARNING: /workspace/src/objective/regression_obj.cu:152: reg:linear is now deprecated in favor of reg:squarederror.\n",
            "[04:43:20] WARNING: /workspace/src/objective/regression_obj.cu:152: reg:linear is now deprecated in favor of reg:squarederror.\n",
            "[04:43:20] WARNING: /workspace/src/objective/regression_obj.cu:152: reg:linear is now deprecated in favor of reg:squarederror.\n",
            "[04:43:20] WARNING: /workspace/src/objective/regression_obj.cu:152: reg:linear is now deprecated in favor of reg:squarederror.\n",
            "[04:43:20] WARNING: /workspace/src/objective/regression_obj.cu:152: reg:linear is now deprecated in favor of reg:squarederror.\n",
            "[04:43:20] WARNING: /workspace/src/objective/regression_obj.cu:152: reg:linear is now deprecated in favor of reg:squarederror.\n",
            "[04:43:21] WARNING: /workspace/src/objective/regression_obj.cu:152: reg:linear is now deprecated in favor of reg:squarederror.\n",
            "[04:43:21] WARNING: /workspace/src/objective/regression_obj.cu:152: reg:linear is now deprecated in favor of reg:squarederror.\n",
            "[04:43:21] WARNING: /workspace/src/objective/regression_obj.cu:152: reg:linear is now deprecated in favor of reg:squarederror.\n",
            "[04:43:21] WARNING: /workspace/src/objective/regression_obj.cu:152: reg:linear is now deprecated in favor of reg:squarederror.\n",
            "[04:43:21] WARNING: /workspace/src/objective/regression_obj.cu:152: reg:linear is now deprecated in favor of reg:squarederror.\n",
            "[04:43:21] WARNING: /workspace/src/objective/regression_obj.cu:152: reg:linear is now deprecated in favor of reg:squarederror.\n",
            "[04:43:22] WARNING: /workspace/src/objective/regression_obj.cu:152: reg:linear is now deprecated in favor of reg:squarederror.\n",
            "[04:43:22] WARNING: /workspace/src/objective/regression_obj.cu:152: reg:linear is now deprecated in favor of reg:squarederror.\n",
            "[04:43:22] WARNING: /workspace/src/objective/regression_obj.cu:152: reg:linear is now deprecated in favor of reg:squarederror.\n",
            "[04:43:22] WARNING: /workspace/src/objective/regression_obj.cu:152: reg:linear is now deprecated in favor of reg:squarederror.\n",
            "[04:43:22] WARNING: /workspace/src/objective/regression_obj.cu:152: reg:linear is now deprecated in favor of reg:squarederror.\n",
            "[04:43:22] WARNING: /workspace/src/objective/regression_obj.cu:152: reg:linear is now deprecated in favor of reg:squarederror.\n",
            "[04:43:23] WARNING: /workspace/src/objective/regression_obj.cu:152: reg:linear is now deprecated in favor of reg:squarederror.\n",
            "[04:43:23] WARNING: /workspace/src/objective/regression_obj.cu:152: reg:linear is now deprecated in favor of reg:squarederror.\n",
            "[04:43:23] WARNING: /workspace/src/objective/regression_obj.cu:152: reg:linear is now deprecated in favor of reg:squarederror.\n",
            "[04:43:23] WARNING: /workspace/src/objective/regression_obj.cu:152: reg:linear is now deprecated in favor of reg:squarederror.\n",
            "[04:43:23] WARNING: /workspace/src/objective/regression_obj.cu:152: reg:linear is now deprecated in favor of reg:squarederror.\n",
            "[04:43:23] WARNING: /workspace/src/objective/regression_obj.cu:152: reg:linear is now deprecated in favor of reg:squarederror.\n",
            "[04:43:24] WARNING: /workspace/src/objective/regression_obj.cu:152: reg:linear is now deprecated in favor of reg:squarederror.\n",
            "[04:43:24] WARNING: /workspace/src/objective/regression_obj.cu:152: reg:linear is now deprecated in favor of reg:squarederror.\n",
            "[04:43:24] WARNING: /workspace/src/objective/regression_obj.cu:152: reg:linear is now deprecated in favor of reg:squarederror.\n",
            "[04:43:24] WARNING: /workspace/src/objective/regression_obj.cu:152: reg:linear is now deprecated in favor of reg:squarederror.\n",
            "[04:43:24] WARNING: /workspace/src/objective/regression_obj.cu:152: reg:linear is now deprecated in favor of reg:squarederror.\n",
            "[04:43:24] WARNING: /workspace/src/objective/regression_obj.cu:152: reg:linear is now deprecated in favor of reg:squarederror.\n",
            "[04:43:24] WARNING: /workspace/src/objective/regression_obj.cu:152: reg:linear is now deprecated in favor of reg:squarederror.\n",
            "[04:43:25] WARNING: /workspace/src/objective/regression_obj.cu:152: reg:linear is now deprecated in favor of reg:squarederror.\n",
            "CPU times: user 13.8 s, sys: 413 ms, total: 14.2 s\n",
            "Wall time: 14.2 s\n"
          ],
          "name": "stdout"
        }
      ]
    },
    {
      "cell_type": "code",
      "metadata": {
        "id": "LwmGEAOeUuXH",
        "colab_type": "code",
        "colab": {
          "base_uri": "https://localhost:8080/",
          "height": 539
        },
        "outputId": "6355d0c0-abbc-43c4-8804-dddaaf583abe"
      },
      "source": [
        "pd.options.display.max_colwidth = 100\n",
        "sensitivity_result.reset_index(drop=True)"
      ],
      "execution_count": 40,
      "outputs": [
        {
          "output_type": "execute_result",
          "data": {
            "text/html": [
              "<div>\n",
              "<style scoped>\n",
              "    .dataframe tbody tr th:only-of-type {\n",
              "        vertical-align: middle;\n",
              "    }\n",
              "\n",
              "    .dataframe tbody tr th {\n",
              "        vertical-align: top;\n",
              "    }\n",
              "\n",
              "    .dataframe thead th {\n",
              "        text-align: right;\n",
              "    }\n",
              "</style>\n",
              "<table border=\"1\" class=\"dataframe\">\n",
              "  <thead>\n",
              "    <tr style=\"text-align: right;\">\n",
              "      <th></th>\n",
              "      <th>Method</th>\n",
              "      <th>ATE</th>\n",
              "      <th>New ATE</th>\n",
              "      <th>New ATE LB</th>\n",
              "      <th>New ATE UB</th>\n",
              "    </tr>\n",
              "  </thead>\n",
              "  <tbody>\n",
              "    <tr>\n",
              "      <th>0</th>\n",
              "      <td>Placebo Treatment</td>\n",
              "      <td>1933.77</td>\n",
              "      <td>-536.768</td>\n",
              "      <td>-1368.48</td>\n",
              "      <td>294.942</td>\n",
              "    </tr>\n",
              "    <tr>\n",
              "      <th>1</th>\n",
              "      <td>Random Cause</td>\n",
              "      <td>1933.77</td>\n",
              "      <td>1311.88</td>\n",
              "      <td>566.47</td>\n",
              "      <td>2057.28</td>\n",
              "    </tr>\n",
              "    <tr>\n",
              "      <th>2</th>\n",
              "      <td>Subset Data(sample size @0.2)</td>\n",
              "      <td>1933.77</td>\n",
              "      <td>5230.25</td>\n",
              "      <td>3190.43</td>\n",
              "      <td>7270.07</td>\n",
              "    </tr>\n",
              "    <tr>\n",
              "      <th>3</th>\n",
              "      <td>Random Replace</td>\n",
              "      <td>1933.77</td>\n",
              "      <td>1547.83</td>\n",
              "      <td>810.753</td>\n",
              "      <td>2284.91</td>\n",
              "    </tr>\n",
              "    <tr>\n",
              "      <th>4</th>\n",
              "      <td>Selection Bias (alpha@-4062.36, with r-sqaure:0.04209</td>\n",
              "      <td>1933.77</td>\n",
              "      <td>-2130.43</td>\n",
              "      <td>-3031.72</td>\n",
              "      <td>-1229.13</td>\n",
              "    </tr>\n",
              "    <tr>\n",
              "      <th>5</th>\n",
              "      <td>Selection Bias (alpha@-3249.888, with r-sqaure:0.02728</td>\n",
              "      <td>1933.77</td>\n",
              "      <td>-1338.7</td>\n",
              "      <td>-2239.59</td>\n",
              "      <td>-437.802</td>\n",
              "    </tr>\n",
              "    <tr>\n",
              "      <th>6</th>\n",
              "      <td>Selection Bias (alpha@-2437.416, with r-sqaure:0.01549</td>\n",
              "      <td>1933.77</td>\n",
              "      <td>-503.643</td>\n",
              "      <td>-1404.96</td>\n",
              "      <td>397.676</td>\n",
              "    </tr>\n",
              "    <tr>\n",
              "      <th>7</th>\n",
              "      <td>Selection Bias (alpha@-1624.944, with r-sqaure:0.00685</td>\n",
              "      <td>1933.77</td>\n",
              "      <td>261.44</td>\n",
              "      <td>-640.262</td>\n",
              "      <td>1163.14</td>\n",
              "    </tr>\n",
              "    <tr>\n",
              "      <th>8</th>\n",
              "      <td>Selection Bias (alpha@-812.472, with r-sqaure:0.00171</td>\n",
              "      <td>1933.77</td>\n",
              "      <td>1102.63</td>\n",
              "      <td>199.513</td>\n",
              "      <td>2005.74</td>\n",
              "    </tr>\n",
              "    <tr>\n",
              "      <th>9</th>\n",
              "      <td>Selection Bias (alpha@-0.0, with r-sqaure:0.0</td>\n",
              "      <td>1933.77</td>\n",
              "      <td>1933.77</td>\n",
              "      <td>1033.53</td>\n",
              "      <td>2834.01</td>\n",
              "    </tr>\n",
              "    <tr>\n",
              "      <th>10</th>\n",
              "      <td>Selection Bias (alpha@0.0, with r-sqaure:0.0</td>\n",
              "      <td>1933.77</td>\n",
              "      <td>1933.77</td>\n",
              "      <td>1033.53</td>\n",
              "      <td>2834.01</td>\n",
              "    </tr>\n",
              "    <tr>\n",
              "      <th>11</th>\n",
              "      <td>Selection Bias (alpha@812.472, with r-sqaure:0.00169</td>\n",
              "      <td>1933.77</td>\n",
              "      <td>2747.1</td>\n",
              "      <td>1844.14</td>\n",
              "      <td>3650.06</td>\n",
              "    </tr>\n",
              "    <tr>\n",
              "      <th>12</th>\n",
              "      <td>Selection Bias (alpha@1624.944, with r-sqaure:0.00664</td>\n",
              "      <td>1933.77</td>\n",
              "      <td>3507.84</td>\n",
              "      <td>2605.01</td>\n",
              "      <td>4410.66</td>\n",
              "    </tr>\n",
              "    <tr>\n",
              "      <th>13</th>\n",
              "      <td>Selection Bias (alpha@2437.416, with r-sqaure:0.01472</td>\n",
              "      <td>1933.77</td>\n",
              "      <td>4314.15</td>\n",
              "      <td>3411.32</td>\n",
              "      <td>5216.98</td>\n",
              "    </tr>\n",
              "    <tr>\n",
              "      <th>14</th>\n",
              "      <td>Selection Bias (alpha@3249.888, with r-sqaure:0.02567</td>\n",
              "      <td>1933.77</td>\n",
              "      <td>5175.82</td>\n",
              "      <td>4273.63</td>\n",
              "      <td>6078</td>\n",
              "    </tr>\n",
              "    <tr>\n",
              "      <th>15</th>\n",
              "      <td>Selection Bias (alpha@4062.36, with r-sqaure:0.03941</td>\n",
              "      <td>1933.77</td>\n",
              "      <td>5995.13</td>\n",
              "      <td>5094.53</td>\n",
              "      <td>6895.73</td>\n",
              "    </tr>\n",
              "  </tbody>\n",
              "</table>\n",
              "</div>"
            ],
            "text/plain": [
              "                                                    Method  ... New ATE UB\n",
              "0                                        Placebo Treatment  ...    294.942\n",
              "1                                             Random Cause  ...    2057.28\n",
              "2                            Subset Data(sample size @0.2)  ...    7270.07\n",
              "3                                           Random Replace  ...    2284.91\n",
              "4    Selection Bias (alpha@-4062.36, with r-sqaure:0.04209  ...   -1229.13\n",
              "5   Selection Bias (alpha@-3249.888, with r-sqaure:0.02728  ...   -437.802\n",
              "6   Selection Bias (alpha@-2437.416, with r-sqaure:0.01549  ...    397.676\n",
              "7   Selection Bias (alpha@-1624.944, with r-sqaure:0.00685  ...    1163.14\n",
              "8    Selection Bias (alpha@-812.472, with r-sqaure:0.00171  ...    2005.74\n",
              "9            Selection Bias (alpha@-0.0, with r-sqaure:0.0  ...    2834.01\n",
              "10            Selection Bias (alpha@0.0, with r-sqaure:0.0  ...    2834.01\n",
              "11    Selection Bias (alpha@812.472, with r-sqaure:0.00169  ...    3650.06\n",
              "12   Selection Bias (alpha@1624.944, with r-sqaure:0.00664  ...    4410.66\n",
              "13   Selection Bias (alpha@2437.416, with r-sqaure:0.01472  ...    5216.98\n",
              "14   Selection Bias (alpha@3249.888, with r-sqaure:0.02567  ...       6078\n",
              "15    Selection Bias (alpha@4062.36, with r-sqaure:0.03941  ...    6895.73\n",
              "\n",
              "[16 rows x 5 columns]"
            ]
          },
          "metadata": {
            "tags": []
          },
          "execution_count": 40
        }
      ]
    },
    {
      "cell_type": "code",
      "metadata": {
        "id": "Eaigk1KOeqT6",
        "colab_type": "code",
        "colab": {}
      },
      "source": [
        ""
      ],
      "execution_count": null,
      "outputs": []
    }
  ]
}